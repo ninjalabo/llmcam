{
 "cells": [
  {
   "cell_type": "code",
   "execution_count": 1,
   "id": "885c0080-c471-467e-9637-2f9f8a1c439f",
   "metadata": {},
   "outputs": [],
   "source": [
    "import datetime\n",
    "import openai\n",
    "import json\n",
    "import inspect\n",
    "import glob\n",
    "\n",
    "from llmcam.ytlive import capture_youtube_live_frame\n",
    "from llmcam.gpt4v import ask_gpt4v\n",
    "from typing import Optional"
   ]
  },
  {
   "cell_type": "code",
   "execution_count": 2,
   "id": "cab2a0ff-df66-4fe2-915a-d5641ad17f35",
   "metadata": {},
   "outputs": [],
   "source": [
    "def capture_youtube_live_frame_and_save() -> str:\n",
    "    \"Capture a jpeg file from YouTube Live and save in data directory\"\n",
    "    return str(capture_youtube_live_frame())"
   ]
  },
  {
   "cell_type": "code",
   "execution_count": 3,
   "id": "811a2383-7329-4a30-a344-d6cac4006ec7",
   "metadata": {},
   "outputs": [],
   "source": [
    "def ask_gpt4v_about_image_file(path:str) -> str:\n",
    "    \"Tell all about quantitative information from a given image file\"\n",
    "    info = ask_gpt4v(path)\n",
    "    return json.dumps(info)"
   ]
  },
  {
   "cell_type": "code",
   "execution_count": 4,
   "id": "1cc90e44-8922-42b9-81c1-02da57ce4489",
   "metadata": {},
   "outputs": [],
   "source": [
    "def tool_schema(func):\n",
    "    \"\"\" automatically generate a schema from its parameters and docstring\"\"\"\n",
    "    # Extract function name, docstring, and parameters\n",
    "    func_name = func.__name__\n",
    "    func_description = func.__doc__ or \"No description provided.\"\n",
    "    signature = inspect.signature(func)\n",
    "    \n",
    "    # Create parameters schema\n",
    "    parameters_schema = {\n",
    "        \"type\": \"object\",\n",
    "        \"properties\": {},\n",
    "        \"required\": []\n",
    "    }\n",
    "    \n",
    "    # Populate properties and required fields\n",
    "    for param_name, param in signature.parameters.items():\n",
    "        param_type = param.annotation if param.annotation != inspect._empty else str\n",
    "        # Map Python types to JSON Schema types\n",
    "        json_type = \"string\" if param_type == str else \"number\" if param_type in [int, float] else \"boolean\"\n",
    "        \n",
    "        # Add parameter to schema\n",
    "        parameters_schema[\"properties\"][param_name] = {\n",
    "            \"type\": json_type,\n",
    "            \"description\": f\"{param_name} parameter of type {param_type.__name__}\"\n",
    "        }\n",
    "        \n",
    "        # Mark as required if no default\n",
    "        if param.default == inspect.Parameter.empty:\n",
    "            parameters_schema[\"required\"].append(param_name)\n",
    "    \n",
    "    # Build final tool schema\n",
    "    tool_schema = [\n",
    "        {\n",
    "            \"type\": \"function\",\n",
    "            \"function\": {\n",
    "                \"name\": func_name,\n",
    "                \"description\": func_description,\n",
    "                \"parameters\": parameters_schema,\n",
    "            }\n",
    "        }\n",
    "    ]\n",
    "    return tool_schema"
   ]
  },
  {
   "cell_type": "code",
   "execution_count": 5,
   "id": "8ba52a6f-f35e-4818-86a7-6f8b157af9d0",
   "metadata": {},
   "outputs": [],
   "source": [
    "# Environmental setting up\n",
    "tools = tool_schema(capture_youtube_live_frame_and_save) + tool_schema(ask_gpt4v_about_image_file)\n",
    "messages = [{\"role\":\"system\", \"content\":\"You are a helpful system administrator. Use the supplied tools to assist the user.\"}]"
   ]
  },
  {
   "cell_type": "code",
   "execution_count": 6,
   "id": "95b1c234-4cb1-49b7-8a6a-e04051af9ae9",
   "metadata": {},
   "outputs": [],
   "source": [
    "# Support functions to handle tool response,where res == response.choices[0].message\n",
    "def fn_name(res): return res.tool_calls[0].function.name\n",
    "def fn_args(res): return json.loads(res.tool_calls[0].function.arguments)    \n",
    "def fn_exec(res): return globals().get(fn_name(res))(**fn_args(res))\n",
    "def fn_result_content(res):\n",
    "    \"\"\"Create a content containing the result of the function call\"\"\"\n",
    "    content = dict()\n",
    "    content.update(fn_args(res))\n",
    "    content.update({fn_name(res): fn_exec(res)})\n",
    "    return json.dumps(content)"
   ]
  },
  {
   "cell_type": "code",
   "execution_count": 7,
   "id": "fbcd5a20-6446-4f59-b4b7-1bed1497d8fd",
   "metadata": {},
   "outputs": [],
   "source": [
    "def complete(role, content, tool_call_id=None, printing=False):\n",
    "    \"Send completion request with messages, and save the response in messages again\"\n",
    "    messages.append({\"role\":role, \"content\":content, \"tool_call_id\":tool_call_id})\n",
    "    response = openai.chat.completions.create(model=\"gpt-4o\", messages=messages, tools=tools)\n",
    "    res = response.choices[0].message\n",
    "    messages.append(res.to_dict())\n",
    "    if res.to_dict().get('tool_calls'):\n",
    "        complete(role=\"tool\", content=fn_result_content(res), tool_call_id=res.tool_calls[0].id)\n",
    "    if printing==True:\n",
    "        for i, m in enumerate(messages):\n",
    "            print(i, m)"
   ]
  },
  {
   "cell_type": "code",
   "execution_count": 8,
   "id": "eb1bd6eb-6ad5-44c9-a18b-b54691347647",
   "metadata": {},
   "outputs": [
    {
     "name": "stdout",
     "output_type": "stream",
     "text": [
      "0 {'role': 'system', 'content': 'You are a helpful system administrator. Use the supplied tools to assist the user.'}\n",
      "1 {'role': 'user', 'content': 'Hi, can you capture YouTube Live?', 'tool_call_id': None}\n",
      "2 {'content': 'Yes, I can capture a frame from a YouTube Live stream and save it for you. Would you like me to do that now?', 'refusal': None, 'role': 'assistant'}\n"
     ]
    }
   ],
   "source": [
    "complete(\"user\", \"Hi, can you capture YouTube Live?\", printing=True)"
   ]
  },
  {
   "cell_type": "code",
   "execution_count": 9,
   "id": "f9718c91-c972-482b-8686-b08a5a033b3d",
   "metadata": {},
   "outputs": [
    {
     "name": "stdout",
     "output_type": "stream",
     "text": [
      "[youtube] Extracting URL: https://www.youtube.com/watch?v=LMZQ7eFhm58\n",
      "[youtube] LMZQ7eFhm58: Downloading webpage\n",
      "[youtube] LMZQ7eFhm58: Downloading ios player API JSON\n",
      "[youtube] LMZQ7eFhm58: Downloading web creator player API JSON\n",
      "[youtube] LMZQ7eFhm58: Downloading m3u8 information\n",
      "31.10.2024 21:38:15 Tuomiokirkko\n",
      "0 {'role': 'system', 'content': 'You are a helpful system administrator. Use the supplied tools to assist the user.'}\n",
      "1 {'role': 'user', 'content': 'Hi, can you capture YouTube Live?', 'tool_call_id': None}\n",
      "2 {'content': 'Yes, I can capture a frame from a YouTube Live stream and save it for you. Would you like me to do that now?', 'refusal': None, 'role': 'assistant'}\n",
      "3 {'role': 'user', 'content': 'Yes, please', 'tool_call_id': None}\n",
      "4 {'content': None, 'refusal': None, 'role': 'assistant', 'tool_calls': [{'id': 'call_PBOAVvUB9xuFi1vK5Fg8tAcx', 'function': {'arguments': '{}', 'name': 'capture_youtube_live_frame_and_save'}, 'type': 'function'}]}\n",
      "5 {'role': 'tool', 'content': '{\"capture_youtube_live_frame_and_save\": \"../data/cap_2024.10.31_21:38:15_Tuomiokirkko.jpg\"}', 'tool_call_id': 'call_PBOAVvUB9xuFi1vK5Fg8tAcx'}\n",
      "6 {'content': 'I have captured a frame from the YouTube Live stream and saved it as \"cap_2024.10.31_21:38:15_Tuomiokirkko.jpg\". Is there anything specific you\\'d like to know or do with this image?', 'refusal': None, 'role': 'assistant'}\n"
     ]
    }
   ],
   "source": [
    "complete(\"user\", \"Yes, please\", printing=True)"
   ]
  },
  {
   "cell_type": "code",
   "execution_count": 10,
   "id": "0cfc34bc-94b6-44f6-b73a-a69ab0a10098",
   "metadata": {},
   "outputs": [
    {
     "data": {
      "text/plain": [
       "(496,\n",
       " ['./data/cap_2024.09.28_15:59:06_Presidentinlinna.jpg',\n",
       "  './data/cap_2024.09.28_16:00:11_Presidentinlinna.jpg',\n",
       "  './data/cap_2024.09.28_16:01:16_Etelasatama.jpg'])"
      ]
     },
     "execution_count": 10,
     "metadata": {},
     "output_type": "execute_result"
    }
   ],
   "source": [
    "files = sorted(glob.glob(\"./data/cap_*.jpg\"))\n",
    "len(files), files[:3]"
   ]
  },
  {
   "cell_type": "code",
   "execution_count": 11,
   "id": "bbee03af-efa7-4f9e-ad62-9b1eba69e049",
   "metadata": {},
   "outputs": [
    {
     "name": "stdout",
     "output_type": "stream",
     "text": [
      "0 {'role': 'system', 'content': 'You are a helpful system administrator. Use the supplied tools to assist the user.'}\n",
      "1 {'role': 'user', 'content': 'Hi, can you capture YouTube Live?', 'tool_call_id': None}\n",
      "2 {'content': 'Yes, I can capture a frame from a YouTube Live stream and save it for you. Would you like me to do that now?', 'refusal': None, 'role': 'assistant'}\n",
      "3 {'role': 'user', 'content': 'Yes, please', 'tool_call_id': None}\n",
      "4 {'content': None, 'refusal': None, 'role': 'assistant', 'tool_calls': [{'id': 'call_PBOAVvUB9xuFi1vK5Fg8tAcx', 'function': {'arguments': '{}', 'name': 'capture_youtube_live_frame_and_save'}, 'type': 'function'}]}\n",
      "5 {'role': 'tool', 'content': '{\"capture_youtube_live_frame_and_save\": \"../data/cap_2024.10.31_21:38:15_Tuomiokirkko.jpg\"}', 'tool_call_id': 'call_PBOAVvUB9xuFi1vK5Fg8tAcx'}\n",
      "6 {'content': 'I have captured a frame from the YouTube Live stream and saved it as \"cap_2024.10.31_21:38:15_Tuomiokirkko.jpg\". Is there anything specific you\\'d like to know or do with this image?', 'refusal': None, 'role': 'assistant'}\n",
      "7 {'role': 'user', 'content': 'Hi, can you tell any infomation about ./data/cap_2024.10.31_11:52:57_Valkosaari.jpg?', 'tool_call_id': None}\n",
      "8 {'content': None, 'refusal': None, 'role': 'assistant', 'tool_calls': [{'id': 'call_hB4MFzudqxwp5VtAT6ZXprlz', 'function': {'arguments': '{\"path\":\"./data/cap_2024.10.31_11:52:57_Valkosaari.jpg\"}', 'name': 'ask_gpt4v_about_image_file'}, 'type': 'function'}]}\n",
      "9 {'role': 'tool', 'content': '{\"path\": \"./data/cap_2024.10.31_11:52:57_Valkosaari.jpg\", \"ask_gpt4v_about_image_file\": \"{\\\\\"timestamp\\\\\": \\\\\"2024-10-31T11:52:57\\\\\", \\\\\"location\\\\\": \\\\\"Valkosaari\\\\\", \\\\\"dimensions\\\\\": {\\\\\"width\\\\\": 1280, \\\\\"height\\\\\": 720}, \\\\\"buildings\\\\\": {\\\\\"number_of_buildings\\\\\": 5, \\\\\"building_height_range\\\\\": \\\\\"1-2 stories\\\\\"}, \\\\\"waterbodies\\\\\": {\\\\\"visible\\\\\": true, \\\\\"type\\\\\": \\\\\"harbor\\\\\", \\\\\"number_of_boats\\\\\": 3}, \\\\\"sky\\\\\": {\\\\\"visible\\\\\": true, \\\\\"light_conditions\\\\\": \\\\\"day\\\\\"}}\"}', 'tool_call_id': 'call_hB4MFzudqxwp5VtAT6ZXprlz'}\n",
      "10 {'content': 'The image \"cap_2024.10.31_11:52:57_Valkosaari.jpg\" captured at Valkosaari on October 31, 2024, has the following details:\\n\\n- **Dimensions:** 1280 x 720 pixels\\n- **Timestamp:** 2024-10-31T11:52:57\\n- **Location:** Valkosaari\\n- **Buildings:** There are 5 buildings visible, with heights ranging from 1 to 2 stories.\\n- **Water Bodies:** A harbor is visible with 3 boats present.\\n- **Sky:** The sky is visible, and it appears to be a daytime scene.\\n\\nIf there\\'s anything else you need to know or do with this image, feel free to ask!', 'refusal': None, 'role': 'assistant'}\n"
     ]
    }
   ],
   "source": [
    "complete(\"user\", f\"Hi, can you tell any infomation about {files[-1]}?\", printing=True) "
   ]
  },
  {
   "cell_type": "code",
   "execution_count": 13,
   "id": "a8fd7ab7-3f3a-4447-be92-5df92fef9d8f",
   "metadata": {},
   "outputs": [
    {
     "name": "stdout",
     "output_type": "stream",
     "text": [
      "The image \"cap_2024.10.31_11:52:57_Valkosaari.jpg\" captured at Valkosaari on October 31, 2024, has the following details:\n",
      "\n",
      "- **Dimensions:** 1280 x 720 pixels\n",
      "- **Timestamp:** 2024-10-31T11:52:57\n",
      "- **Location:** Valkosaari\n",
      "- **Buildings:** There are 5 buildings visible, with heights ranging from 1 to 2 stories.\n",
      "- **Water Bodies:** A harbor is visible with 3 boats present.\n",
      "- **Sky:** The sky is visible, and it appears to be a daytime scene.\n",
      "\n",
      "If there's anything else you need to know or do with this image, feel free to ask!\n"
     ]
    }
   ],
   "source": [
    "print(messages[-1]['content'])"
   ]
  }
 ],
 "metadata": {
  "kernelspec": {
   "display_name": "Python 3 (ipykernel)",
   "language": "python",
   "name": "python3"
  },
  "language_info": {
   "codemirror_mode": {
    "name": "ipython",
    "version": 3
   },
   "file_extension": ".py",
   "mimetype": "text/x-python",
   "name": "python",
   "nbconvert_exporter": "python",
   "pygments_lexer": "ipython3",
   "version": "3.12.4"
  }
 },
 "nbformat": 4,
 "nbformat_minor": 5
}
