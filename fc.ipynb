{
 "cells": [
  {
   "cell_type": "code",
   "execution_count": 96,
   "id": "885c0080-c471-467e-9637-2f9f8a1c439f",
   "metadata": {},
   "outputs": [],
   "source": [
    "import datetime\n",
    "import openai\n",
    "import json\n",
    "import inspect\n",
    "import glob\n",
    "\n",
    "from llmcam.ytlive import capture_youtube_live_frame\n",
    "from llmcam.gpt4v import ask_gpt4v\n",
    "from typing import Optional"
   ]
  },
  {
   "cell_type": "code",
   "execution_count": 97,
   "id": "cab2a0ff-df66-4fe2-915a-d5641ad17f35",
   "metadata": {},
   "outputs": [],
   "source": [
    "def capture_youtube_live_frame_and_save() -> str:\n",
    "    \"Capture a jpeg file from YouTube Live and save in data directory\"\n",
    "    return str(capture_youtube_live_frame())"
   ]
  },
  {
   "cell_type": "code",
   "execution_count": 98,
   "id": "811a2383-7329-4a30-a344-d6cac4006ec7",
   "metadata": {},
   "outputs": [],
   "source": [
    "def ask_gpt4v_about_image_file(path:str) -> str:\n",
    "    \"Tell all about quantitative information from a given image file\"\n",
    "    info = ask_gpt4v(path)\n",
    "    return json.dumps(info)"
   ]
  },
  {
   "cell_type": "code",
   "execution_count": 99,
   "id": "1cc90e44-8922-42b9-81c1-02da57ce4489",
   "metadata": {},
   "outputs": [],
   "source": [
    "def tool_schema(func):\n",
    "    \"\"\" automatically generate a schema from its parameters and docstring\"\"\"\n",
    "    # Extract function name, docstring, and parameters\n",
    "    func_name = func.__name__\n",
    "    func_description = func.__doc__ or \"No description provided.\"\n",
    "    signature = inspect.signature(func)\n",
    "    \n",
    "    # Create parameters schema\n",
    "    parameters_schema = {\n",
    "        \"type\": \"object\",\n",
    "        \"properties\": {},\n",
    "        \"required\": []\n",
    "    }\n",
    "    \n",
    "    # Populate properties and required fields\n",
    "    for param_name, param in signature.parameters.items():\n",
    "        param_type = param.annotation if param.annotation != inspect._empty else str\n",
    "        # Map Python types to JSON Schema types\n",
    "        json_type = \"string\" if param_type == str else \"number\" if param_type in [int, float] else \"boolean\"\n",
    "        \n",
    "        # Add parameter to schema\n",
    "        parameters_schema[\"properties\"][param_name] = {\n",
    "            \"type\": json_type,\n",
    "            \"description\": f\"{param_name} parameter of type {param_type.__name__}\"\n",
    "        }\n",
    "        \n",
    "        # Mark as required if no default\n",
    "        if param.default == inspect.Parameter.empty:\n",
    "            parameters_schema[\"required\"].append(param_name)\n",
    "    \n",
    "    # Build final tool schema\n",
    "    tool_schema = [\n",
    "        {\n",
    "            \"type\": \"function\",\n",
    "            \"function\": {\n",
    "                \"name\": func_name,\n",
    "                \"description\": func_description,\n",
    "                \"parameters\": parameters_schema,\n",
    "            }\n",
    "        }\n",
    "    ]\n",
    "    return tool_schema"
   ]
  },
  {
   "cell_type": "code",
   "execution_count": 100,
   "id": "8ba52a6f-f35e-4818-86a7-6f8b157af9d0",
   "metadata": {},
   "outputs": [],
   "source": [
    "# Environmental setting up\n",
    "tools = tool_schema(capture_youtube_live_frame_and_save) + tool_schema(ask_gpt4v_about_image_file)\n",
    "messages = [{\"role\":\"system\", \"content\":\"You are a helpful system administrator. Use the supplied tools to assist the user.\"}]"
   ]
  },
  {
   "cell_type": "code",
   "execution_count": 101,
   "id": "95b1c234-4cb1-49b7-8a6a-e04051af9ae9",
   "metadata": {},
   "outputs": [],
   "source": [
    "# Support functions to handle tool response,where res == response.choices[0].message\n",
    "def fn_name(res): return res.tool_calls[0].function.name\n",
    "def fn_args(res): return json.loads(res.tool_calls[0].function.arguments)    \n",
    "def fn_exec(res): return globals().get(fn_name(res))(**fn_args(res))\n",
    "def fn_result_content(res):\n",
    "    \"\"\"Create a content containing the result of the function call\"\"\"\n",
    "    content = dict()\n",
    "    content.update(fn_args(res))\n",
    "    content.update({fn_name(res): fn_exec(res)})\n",
    "    return json.dumps(content)"
   ]
  },
  {
   "cell_type": "code",
   "execution_count": 102,
   "id": "fbcd5a20-6446-4f59-b4b7-1bed1497d8fd",
   "metadata": {},
   "outputs": [],
   "source": [
    "def complete(role, content, tool_call_id=None, printing=False):\n",
    "    \"Send completion request with messages, and save the response in messages again\"\n",
    "    messages.append({\"role\":role, \"content\":content, \"tool_call_id\":tool_call_id})\n",
    "    response = openai.chat.completions.create(model=\"gpt-4o\", messages=messages, tools=tools)\n",
    "    res = response.choices[0].message\n",
    "    messages.append(res.to_dict())\n",
    "    if res.to_dict().get('tool_calls'):\n",
    "        complete(role=\"tool\", content=fn_result_content(res), tool_call_id=res.tool_calls[0].id)\n",
    "    if printing==True:\n",
    "        for i, m in enumerate(messages):\n",
    "            print(i, m)"
   ]
  },
  {
   "cell_type": "code",
   "execution_count": 103,
   "id": "eb1bd6eb-6ad5-44c9-a18b-b54691347647",
   "metadata": {},
   "outputs": [
    {
     "name": "stdout",
     "output_type": "stream",
     "text": [
      "0 {'role': 'system', 'content': 'You are a helpful system administrator. Use the supplied tools to assist the user.'}\n",
      "1 {'role': 'user', 'content': 'Hi, can you capture YouTube Live?', 'tool_call_id': None}\n",
      "2 {'content': 'Yes, I can capture a frame from a YouTube Live stream. Would you like me to proceed with capturing one?', 'refusal': None, 'role': 'assistant'}\n"
     ]
    }
   ],
   "source": [
    "complete(\"user\", \"Hi, can you capture YouTube Live?\", printing=True)"
   ]
  },
  {
   "cell_type": "code",
   "execution_count": 104,
   "id": "f9718c91-c972-482b-8686-b08a5a033b3d",
   "metadata": {},
   "outputs": [
    {
     "name": "stdout",
     "output_type": "stream",
     "text": [
      "[youtube] Extracting URL: https://www.youtube.com/watch?v=LMZQ7eFhm58\n",
      "[youtube] LMZQ7eFhm58: Downloading webpage\n",
      "[youtube] LMZQ7eFhm58: Downloading ios player API JSON\n",
      "[youtube] LMZQ7eFhm58: Downloading web creator player API JSON\n",
      "[youtube] LMZQ7eFhm58: Downloading m3u8 information\n",
      "31.10.2024 22:15:10 Presidentinlinna\n",
      "0 {'role': 'system', 'content': 'You are a helpful system administrator. Use the supplied tools to assist the user.'}\n",
      "1 {'role': 'user', 'content': 'Hi, can you capture YouTube Live?', 'tool_call_id': None}\n",
      "2 {'content': 'Yes, I can capture a frame from a YouTube Live stream. Would you like me to proceed with capturing one?', 'refusal': None, 'role': 'assistant'}\n",
      "3 {'role': 'user', 'content': 'Yes, please', 'tool_call_id': None}\n",
      "4 {'content': None, 'refusal': None, 'role': 'assistant', 'tool_calls': [{'id': 'call_Av8BEHRQLU5vOZ9xtOsXSTWc', 'function': {'arguments': '{}', 'name': 'capture_youtube_live_frame_and_save'}, 'type': 'function'}]}\n",
      "5 {'role': 'tool', 'content': '{\"capture_youtube_live_frame_and_save\": \"../data/cap_2024.10.31_22:15:10_Presidentinlinna.jpg\"}', 'tool_call_id': 'call_Av8BEHRQLU5vOZ9xtOsXSTWc'}\n",
      "6 {'content': 'I captured a frame from the YouTube Live stream and saved it as **Presidentinlinna.jpg** in the data directory. If you need any more information about the image or further assistance, feel free to ask!', 'refusal': None, 'role': 'assistant'}\n"
     ]
    }
   ],
   "source": [
    "complete(\"user\", \"Yes, please\", printing=True)"
   ]
  },
  {
   "cell_type": "code",
   "execution_count": 105,
   "id": "0cfc34bc-94b6-44f6-b73a-a69ab0a10098",
   "metadata": {},
   "outputs": [
    {
     "data": {
      "text/plain": [
       "(496,\n",
       " ['./data/cap_2024.09.28_15:59:06_Presidentinlinna.jpg',\n",
       "  './data/cap_2024.09.28_16:00:11_Presidentinlinna.jpg',\n",
       "  './data/cap_2024.09.28_16:01:16_Etelasatama.jpg'])"
      ]
     },
     "execution_count": 105,
     "metadata": {},
     "output_type": "execute_result"
    }
   ],
   "source": [
    "files = sorted(glob.glob(\"./data/cap_*.jpg\"))\n",
    "len(files), files[:3]"
   ]
  },
  {
   "cell_type": "code",
   "execution_count": 106,
   "id": "bbee03af-efa7-4f9e-ad62-9b1eba69e049",
   "metadata": {},
   "outputs": [
    {
     "name": "stdout",
     "output_type": "stream",
     "text": [
      "0 {'role': 'system', 'content': 'You are a helpful system administrator. Use the supplied tools to assist the user.'}\n",
      "1 {'role': 'user', 'content': 'Hi, can you capture YouTube Live?', 'tool_call_id': None}\n",
      "2 {'content': 'Yes, I can capture a frame from a YouTube Live stream. Would you like me to proceed with capturing one?', 'refusal': None, 'role': 'assistant'}\n",
      "3 {'role': 'user', 'content': 'Yes, please', 'tool_call_id': None}\n",
      "4 {'content': None, 'refusal': None, 'role': 'assistant', 'tool_calls': [{'id': 'call_Av8BEHRQLU5vOZ9xtOsXSTWc', 'function': {'arguments': '{}', 'name': 'capture_youtube_live_frame_and_save'}, 'type': 'function'}]}\n",
      "5 {'role': 'tool', 'content': '{\"capture_youtube_live_frame_and_save\": \"../data/cap_2024.10.31_22:15:10_Presidentinlinna.jpg\"}', 'tool_call_id': 'call_Av8BEHRQLU5vOZ9xtOsXSTWc'}\n",
      "6 {'content': 'I captured a frame from the YouTube Live stream and saved it as **Presidentinlinna.jpg** in the data directory. If you need any more information about the image or further assistance, feel free to ask!', 'refusal': None, 'role': 'assistant'}\n",
      "7 {'role': 'user', 'content': 'Hi, can you tell any infomation about ./data/cap_2024.10.31_11:52:57_Valkosaari.jpg?', 'tool_call_id': None}\n",
      "8 {'content': None, 'refusal': None, 'role': 'assistant', 'tool_calls': [{'id': 'call_poKoNYsbZiafi06OnhxMUQmp', 'function': {'arguments': '{\"path\":\"./data/cap_2024.10.31_11:52:57_Valkosaari.jpg\"}', 'name': 'ask_gpt4v_about_image_file'}, 'type': 'function'}]}\n",
      "9 {'role': 'tool', 'content': '{\"path\": \"./data/cap_2024.10.31_11:52:57_Valkosaari.jpg\", \"ask_gpt4v_about_image_file\": \"{\\\\\"timestamp\\\\\": \\\\\"2024-10-31T11:52:57\\\\\", \\\\\"location\\\\\": \\\\\"Valkosaari\\\\\", \\\\\"dimensions\\\\\": {\\\\\"width\\\\\": 1280, \\\\\"height\\\\\": 720}, \\\\\"buildings\\\\\": {\\\\\"number_of_buildings\\\\\": 4, \\\\\"building_height_range\\\\\": \\\\\"1-2 stories\\\\\"}, \\\\\"vehicles\\\\\": {\\\\\"number_of_vehicles\\\\\": 0}, \\\\\"waterbodies\\\\\": {\\\\\"visible\\\\\": true, \\\\\"type\\\\\": \\\\\"sea\\\\\", \\\\\"number_of_boats\\\\\": 0}, \\\\\"street_lights\\\\\": {\\\\\"number_of_street_lights\\\\\": 0}, \\\\\"people\\\\\": {\\\\\"approximate_number\\\\\": 0}, \\\\\"lighting\\\\\": {\\\\\"time_of_day\\\\\": \\\\\"morning\\\\\", \\\\\"artificial_lighting\\\\\": \\\\\"none\\\\\"}, \\\\\"visibility\\\\\": {\\\\\"clear\\\\\": true}, \\\\\"sky\\\\\": {\\\\\"visible\\\\\": true, \\\\\"light_conditions\\\\\": \\\\\"overcast\\\\\"}}\"}', 'tool_call_id': 'call_poKoNYsbZiafi06OnhxMUQmp'}\n",
      "10 {'content': \"The image captured at **Valkosaari** on **October 31, 2024, at 11:52:57 AM** contains the following details:\\n\\n- **Dimensions**: 1280x720 pixels\\n- **Buildings**: There are 4 buildings visible, ranging from 1 to 2 stories in height.\\n- **Vehicles**: No vehicles are visible in the image.\\n- **Water Bodies**: There's a visible sea, but no boats are present.\\n- **Street Lights**: There are no street lights visible.\\n- **People**: No people are seen in the image.\\n- **Lighting**: Taken in the morning with no artificial lighting. The lighting conditions suggest an overcast sky.\\n- **Visibility**: The visibility is clear.\\n- **Sky**: The sky is visible with overcast light conditions.\\n\\nIf you need further analysis or have other questions, let me know!\", 'refusal': None, 'role': 'assistant'}\n"
     ]
    }
   ],
   "source": [
    "complete(\"user\", f\"Hi, can you tell any infomation about {files[-1]}?\", printing=True) "
   ]
  },
  {
   "cell_type": "code",
   "execution_count": 107,
   "id": "a8fd7ab7-3f3a-4447-be92-5df92fef9d8f",
   "metadata": {},
   "outputs": [
    {
     "name": "stdout",
     "output_type": "stream",
     "text": [
      "The image captured at **Valkosaari** on **October 31, 2024, at 11:52:57 AM** contains the following details:\n",
      "\n",
      "- **Dimensions**: 1280x720 pixels\n",
      "- **Buildings**: There are 4 buildings visible, ranging from 1 to 2 stories in height.\n",
      "- **Vehicles**: No vehicles are visible in the image.\n",
      "- **Water Bodies**: There's a visible sea, but no boats are present.\n",
      "- **Street Lights**: There are no street lights visible.\n",
      "- **People**: No people are seen in the image.\n",
      "- **Lighting**: Taken in the morning with no artificial lighting. The lighting conditions suggest an overcast sky.\n",
      "- **Visibility**: The visibility is clear.\n",
      "- **Sky**: The sky is visible with overcast light conditions.\n",
      "\n",
      "If you need further analysis or have other questions, let me know!\n"
     ]
    }
   ],
   "source": [
    "print(messages[-1]['content'])"
   ]
  },
  {
   "cell_type": "code",
   "execution_count": 108,
   "id": "20cb687a-38cf-4871-98ce-92520887c841",
   "metadata": {},
   "outputs": [],
   "source": [
    "content = f\"\"\"\n",
    "Here's a list of files, {\",\".join(files)}. The format is \"cap_%Y.%m.%d_%H:%M:%S_<place>.\n",
    "please list up all places\n",
    "\"\"\"\n",
    "complete(\"user\", content)"
   ]
  },
  {
   "cell_type": "code",
   "execution_count": 109,
   "id": "4a61aa19-b85f-44f9-99ee-a57ea33bea5a",
   "metadata": {},
   "outputs": [
    {
     "data": {
      "text/plain": [
       "{'content': 'The list of places found in the file names you provided is as follows:\\n\\n1. Presidentinlinna\\n2. Etelasatama\\n3. Olympiaterminaali\\n4. Torni\\n5. Tuomiokirkko\\n6. Kauppatori\\n7. Valkosaari\\n\\nIf you need detailed analysis for specific images from these locations, please let me know!',\n",
       " 'refusal': None,\n",
       " 'role': 'assistant'}"
      ]
     },
     "execution_count": 109,
     "metadata": {},
     "output_type": "execute_result"
    }
   ],
   "source": [
    "messages[-1]"
   ]
  },
  {
   "cell_type": "code",
   "execution_count": 110,
   "id": "7a80d35e-48d3-4445-b975-e0ea46a7f9ab",
   "metadata": {},
   "outputs": [],
   "source": [
    "complete(\"user\", \"On which dates were Tuomikirkko captured?\")"
   ]
  },
  {
   "cell_type": "code",
   "execution_count": 111,
   "id": "ef69651f-b7d3-4a90-acf4-28e7253d5e99",
   "metadata": {},
   "outputs": [
    {
     "data": {
      "text/plain": [
       "{'content': 'Tuomiokirkko was captured on the following dates:\\n\\n- 2024.09.28\\n- 2024.09.29\\n- 2024.09.30\\n- 2024.10.04\\n- 2024.10.05\\n- 2024.10.06\\n- 2024.10.07\\n- 2024.10.28\\n- 2024.10.29\\n- 2024.10.30\\n- 2024.10.31',\n",
       " 'refusal': None,\n",
       " 'role': 'assistant'}"
      ]
     },
     "execution_count": 111,
     "metadata": {},
     "output_type": "execute_result"
    }
   ],
   "source": [
    "messages[-1]"
   ]
  },
  {
   "cell_type": "code",
   "execution_count": 112,
   "id": "79b1e6e7-6ee5-4baa-bdd2-bef6f399c9e2",
   "metadata": {},
   "outputs": [],
   "source": [
    "complete(\"user\", \"Tell me the latest status of Tuomikirkko at captured?\")"
   ]
  },
  {
   "cell_type": "code",
   "execution_count": 113,
   "id": "2dd4b7e5-736e-4b11-a76b-4228ed7709dc",
   "metadata": {},
   "outputs": [
    {
     "data": {
      "text/plain": [
       "{'content': 'The latest capture of Tuomiokirkko shows the following details:\\n\\n- **Timestamp**: October 31, 2024, at 11:44:47 AM\\n- **Dimensions**: 1280x720 pixels\\n- **Buildings**: There are 20 buildings, ranging from 2 to 10 stories in height.\\n- **Vehicles**: No vehicles are visible in the image.\\n- **Water Bodies**: None visible.\\n- **Street Lights**: There are no street lights visible.\\n- **People**: No people are seen in the image.\\n- **Lighting**: Captured during the day with no artificial lighting.\\n- **Visibility**: The visibility is clear.\\n- **Sky**: The sky is visible with daylight conditions.\\n\\nIf you need more information or assistance, feel free to ask!',\n",
       " 'refusal': None,\n",
       " 'role': 'assistant'}"
      ]
     },
     "execution_count": 113,
     "metadata": {},
     "output_type": "execute_result"
    }
   ],
   "source": [
    "messages[-1]"
   ]
  },
  {
   "cell_type": "code",
   "execution_count": 114,
   "id": "6487873a-c311-4824-9335-d433cdd58840",
   "metadata": {},
   "outputs": [
    {
     "name": "stdout",
     "output_type": "stream",
     "text": [
      "[youtube] Extracting URL: https://www.youtube.com/watch?v=LMZQ7eFhm58\n",
      "[youtube] LMZQ7eFhm58: Downloading webpage\n",
      "[youtube] LMZQ7eFhm58: Downloading ios player API JSON\n",
      "[youtube] LMZQ7eFhm58: Downloading web creator player API JSON\n",
      "[youtube] LMZQ7eFhm58: Downloading m3u8 information\n",
      "31.10.2024 22:15:45 Presidentinlinna\n",
      "[youtube] Extracting URL: https://www.youtube.com/watch?v=LMZQ7eFhm58\n",
      "[youtube] LMZQ7eFhm58: Downloading webpage\n",
      "[youtube] LMZQ7eFhm58: Downloading ios player API JSON\n",
      "[youtube] LMZQ7eFhm58: Downloading web creator player API JSON\n",
      "[youtube] LMZQ7eFhm58: Downloading m3u8 information\n",
      "31.10.2024 22:15:50 Presidentinlinna\n",
      "[youtube] Extracting URL: https://www.youtube.com/watch?v=LMZQ7eFhm58\n",
      "[youtube] LMZQ7eFhm58: Downloading webpage\n",
      "[youtube] LMZQ7eFhm58: Downloading ios player API JSON\n",
      "[youtube] LMZQ7eFhm58: Downloading web creator player API JSON\n",
      "[youtube] LMZQ7eFhm58: Downloading m3u8 information\n",
      "31.10.2024 22:15:50 Presidentinlinna\n",
      "[youtube] Extracting URL: https://www.youtube.com/watch?v=LMZQ7eFhm58\n",
      "[youtube] LMZQ7eFhm58: Downloading webpage\n",
      "[youtube] LMZQ7eFhm58: Downloading ios player API JSON\n",
      "[youtube] LMZQ7eFhm58: Downloading web creator player API JSON\n",
      "[youtube] LMZQ7eFhm58: Downloading m3u8 information\n",
      "31.10.2024 22:15:55 Presidentinlinna\n",
      "[youtube] Extracting URL: https://www.youtube.com/watch?v=LMZQ7eFhm58\n",
      "[youtube] LMZQ7eFhm58: Downloading webpage\n",
      "[youtube] LMZQ7eFhm58: Downloading ios player API JSON\n",
      "[youtube] LMZQ7eFhm58: Downloading web creator player API JSON\n",
      "[youtube] LMZQ7eFhm58: Downloading m3u8 information\n",
      "31.10.2024 22:16:00 Presidentinlinna\n"
     ]
    },
    {
     "data": {
      "text/plain": [
       "{'content': \"The latest capture is still from Presidentinlinna. I'll continue to capture frames periodically until we get one from Tuomiokirkko. Please hold on.\",\n",
       " 'refusal': None,\n",
       " 'role': 'assistant'}"
      ]
     },
     "execution_count": 114,
     "metadata": {},
     "output_type": "execute_result"
    }
   ],
   "source": [
    "complete(\"user\", \"Please continue to capture every one minute till we'll get the one for Tuomiokirkko\")\n",
    "messages[-1]"
   ]
  },
  {
   "cell_type": "code",
   "execution_count": 115,
   "id": "a400912a-9169-4360-9155-a8dd4e8da0d2",
   "metadata": {},
   "outputs": [
    {
     "ename": "FileNotFoundError",
     "evalue": "[Errno 2] No such file or directory: '../data/cap_2024.10.31_22:16:00_Presidentinlinna.jpg'",
     "output_type": "error",
     "traceback": [
      "\u001b[0;31m---------------------------------------------------------------------------\u001b[0m",
      "\u001b[0;31mFileNotFoundError\u001b[0m                         Traceback (most recent call last)",
      "Cell \u001b[0;32mIn[115], line 1\u001b[0m\n\u001b[0;32m----> 1\u001b[0m complete(\u001b[38;5;124m\"\u001b[39m\u001b[38;5;124muser\u001b[39m\u001b[38;5;124m\"\u001b[39m, \u001b[38;5;124m\"\u001b[39m\u001b[38;5;124mtell me about that capture, then\u001b[39m\u001b[38;5;124m\"\u001b[39m)\n\u001b[1;32m      2\u001b[0m messages[\u001b[38;5;241m-\u001b[39m\u001b[38;5;241m1\u001b[39m]\n",
      "Cell \u001b[0;32mIn[102], line 8\u001b[0m, in \u001b[0;36mcomplete\u001b[0;34m(role, content, tool_call_id, printing)\u001b[0m\n\u001b[1;32m      6\u001b[0m messages\u001b[38;5;241m.\u001b[39mappend(res\u001b[38;5;241m.\u001b[39mto_dict())\n\u001b[1;32m      7\u001b[0m \u001b[38;5;28;01mif\u001b[39;00m res\u001b[38;5;241m.\u001b[39mto_dict()\u001b[38;5;241m.\u001b[39mget(\u001b[38;5;124m'\u001b[39m\u001b[38;5;124mtool_calls\u001b[39m\u001b[38;5;124m'\u001b[39m):\n\u001b[0;32m----> 8\u001b[0m     complete(role\u001b[38;5;241m=\u001b[39m\u001b[38;5;124m\"\u001b[39m\u001b[38;5;124mtool\u001b[39m\u001b[38;5;124m\"\u001b[39m, content\u001b[38;5;241m=\u001b[39mfn_result_content(res), tool_call_id\u001b[38;5;241m=\u001b[39mres\u001b[38;5;241m.\u001b[39mtool_calls[\u001b[38;5;241m0\u001b[39m]\u001b[38;5;241m.\u001b[39mid)\n\u001b[1;32m      9\u001b[0m \u001b[38;5;28;01mif\u001b[39;00m printing\u001b[38;5;241m==\u001b[39m\u001b[38;5;28;01mTrue\u001b[39;00m:\n\u001b[1;32m     10\u001b[0m     \u001b[38;5;28;01mfor\u001b[39;00m i, m \u001b[38;5;129;01min\u001b[39;00m \u001b[38;5;28menumerate\u001b[39m(messages):\n",
      "Cell \u001b[0;32mIn[101], line 9\u001b[0m, in \u001b[0;36mfn_result_content\u001b[0;34m(res)\u001b[0m\n\u001b[1;32m      7\u001b[0m content \u001b[38;5;241m=\u001b[39m \u001b[38;5;28mdict\u001b[39m()\n\u001b[1;32m      8\u001b[0m content\u001b[38;5;241m.\u001b[39mupdate(fn_args(res))\n\u001b[0;32m----> 9\u001b[0m content\u001b[38;5;241m.\u001b[39mupdate({fn_name(res): fn_exec(res)})\n\u001b[1;32m     10\u001b[0m \u001b[38;5;28;01mreturn\u001b[39;00m json\u001b[38;5;241m.\u001b[39mdumps(content)\n",
      "Cell \u001b[0;32mIn[101], line 4\u001b[0m, in \u001b[0;36mfn_exec\u001b[0;34m(res)\u001b[0m\n\u001b[1;32m      2\u001b[0m \u001b[38;5;28;01mdef\u001b[39;00m \u001b[38;5;21mfn_name\u001b[39m(res): \u001b[38;5;28;01mreturn\u001b[39;00m res\u001b[38;5;241m.\u001b[39mtool_calls[\u001b[38;5;241m0\u001b[39m]\u001b[38;5;241m.\u001b[39mfunction\u001b[38;5;241m.\u001b[39mname\n\u001b[1;32m      3\u001b[0m \u001b[38;5;28;01mdef\u001b[39;00m \u001b[38;5;21mfn_args\u001b[39m(res): \u001b[38;5;28;01mreturn\u001b[39;00m json\u001b[38;5;241m.\u001b[39mloads(res\u001b[38;5;241m.\u001b[39mtool_calls[\u001b[38;5;241m0\u001b[39m]\u001b[38;5;241m.\u001b[39mfunction\u001b[38;5;241m.\u001b[39marguments)    \n\u001b[0;32m----> 4\u001b[0m \u001b[38;5;28;01mdef\u001b[39;00m \u001b[38;5;21mfn_exec\u001b[39m(res): \u001b[38;5;28;01mreturn\u001b[39;00m \u001b[38;5;28mglobals\u001b[39m()\u001b[38;5;241m.\u001b[39mget(fn_name(res))(\u001b[38;5;241m*\u001b[39m\u001b[38;5;241m*\u001b[39mfn_args(res))\n\u001b[1;32m      5\u001b[0m \u001b[38;5;28;01mdef\u001b[39;00m \u001b[38;5;21mfn_result_content\u001b[39m(res):\n\u001b[1;32m      6\u001b[0m \u001b[38;5;250m    \u001b[39m\u001b[38;5;124;03m\"\"\"Create a content containing the result of the function call\"\"\"\u001b[39;00m\n",
      "Cell \u001b[0;32mIn[98], line 3\u001b[0m, in \u001b[0;36mask_gpt4v_about_image_file\u001b[0;34m(path)\u001b[0m\n\u001b[1;32m      1\u001b[0m \u001b[38;5;28;01mdef\u001b[39;00m \u001b[38;5;21mask_gpt4v_about_image_file\u001b[39m(path:\u001b[38;5;28mstr\u001b[39m) \u001b[38;5;241m-\u001b[39m\u001b[38;5;241m>\u001b[39m \u001b[38;5;28mstr\u001b[39m:\n\u001b[1;32m      2\u001b[0m     \u001b[38;5;124m\"\u001b[39m\u001b[38;5;124mTell all about quantitative information from a given image file\u001b[39m\u001b[38;5;124m\"\u001b[39m\n\u001b[0;32m----> 3\u001b[0m     info \u001b[38;5;241m=\u001b[39m ask_gpt4v(path)\n\u001b[1;32m      4\u001b[0m     \u001b[38;5;28;01mreturn\u001b[39;00m json\u001b[38;5;241m.\u001b[39mdumps(info)\n",
      "File \u001b[0;32m~/00llmcam/llmcam/gpt4v.py:58\u001b[0m, in \u001b[0;36mask_gpt4v\u001b[0;34m(fn)\u001b[0m\n\u001b[1;32m     49\u001b[0m \u001b[38;5;28;01mdef\u001b[39;00m \u001b[38;5;21mask_gpt4v\u001b[39m(fn:\u001b[38;5;28mstr\u001b[39m) \u001b[38;5;241m-\u001b[39m\u001b[38;5;241m>\u001b[39m \u001b[38;5;28mstr\u001b[39m:\n\u001b[1;32m     50\u001b[0m     response \u001b[38;5;241m=\u001b[39m openai\u001b[38;5;241m.\u001b[39mchat\u001b[38;5;241m.\u001b[39mcompletions\u001b[38;5;241m.\u001b[39mcreate(\n\u001b[1;32m     51\u001b[0m       model\u001b[38;5;241m=\u001b[39m\u001b[38;5;124m\"\u001b[39m\u001b[38;5;124mgpt-4o\u001b[39m\u001b[38;5;124m\"\u001b[39m,\n\u001b[1;32m     52\u001b[0m       messages\u001b[38;5;241m=\u001b[39m[{\n\u001b[1;32m     53\u001b[0m             \u001b[38;5;124m\"\u001b[39m\u001b[38;5;124mrole\u001b[39m\u001b[38;5;124m\"\u001b[39m: \u001b[38;5;124m\"\u001b[39m\u001b[38;5;124muser\u001b[39m\u001b[38;5;124m\"\u001b[39m,\n\u001b[1;32m     54\u001b[0m             \u001b[38;5;124m\"\u001b[39m\u001b[38;5;124mcontent\u001b[39m\u001b[38;5;124m\"\u001b[39m: [\n\u001b[1;32m     55\u001b[0m                 {\u001b[38;5;124m\"\u001b[39m\u001b[38;5;124mtype\u001b[39m\u001b[38;5;124m\"\u001b[39m: \u001b[38;5;124m\"\u001b[39m\u001b[38;5;124mtext\u001b[39m\u001b[38;5;124m\"\u001b[39m, \u001b[38;5;124m\"\u001b[39m\u001b[38;5;124mtext\u001b[39m\u001b[38;5;124m\"\u001b[39m: question,},\n\u001b[1;32m     56\u001b[0m                 {\n\u001b[1;32m     57\u001b[0m                     \u001b[38;5;124m\"\u001b[39m\u001b[38;5;124mtype\u001b[39m\u001b[38;5;124m\"\u001b[39m: \u001b[38;5;124m\"\u001b[39m\u001b[38;5;124mimage_url\u001b[39m\u001b[38;5;124m\"\u001b[39m,\n\u001b[0;32m---> 58\u001b[0m                     \u001b[38;5;124m\"\u001b[39m\u001b[38;5;124mimage_url\u001b[39m\u001b[38;5;124m\"\u001b[39m: {\u001b[38;5;124m\"\u001b[39m\u001b[38;5;124murl\u001b[39m\u001b[38;5;124m\"\u001b[39m: \u001b[38;5;124mf\u001b[39m\u001b[38;5;124m\"\u001b[39m\u001b[38;5;124mdata:image/jpeg;base64,\u001b[39m\u001b[38;5;132;01m{\u001b[39;00mencode_image(fn)\u001b[38;5;132;01m}\u001b[39;00m\u001b[38;5;124m\"\u001b[39m, \u001b[38;5;124m\"\u001b[39m\u001b[38;5;124mdetail\u001b[39m\u001b[38;5;124m\"\u001b[39m:\u001b[38;5;124m\"\u001b[39m\u001b[38;5;124mhigh\u001b[39m\u001b[38;5;124m\"\u001b[39m,},\n\u001b[1;32m     59\u001b[0m                 },\n\u001b[1;32m     60\u001b[0m             ],\n\u001b[1;32m     61\u001b[0m         }],\n\u001b[1;32m     62\u001b[0m       max_tokens\u001b[38;5;241m=\u001b[39m\u001b[38;5;241m300\u001b[39m,\n\u001b[1;32m     63\u001b[0m     )\n\u001b[1;32m     64\u001b[0m     \u001b[38;5;28;01mreturn\u001b[39;00m info(response)\n",
      "File \u001b[0;32m~/00llmcam/llmcam/gpt4v.py:19\u001b[0m, in \u001b[0;36mencode_image\u001b[0;34m(fname)\u001b[0m\n\u001b[1;32m     17\u001b[0m \u001b[38;5;28;01mdef\u001b[39;00m \u001b[38;5;21mencode_image\u001b[39m(fname: \u001b[38;5;28mstr\u001b[39m):\n\u001b[1;32m     18\u001b[0m     \u001b[38;5;124m\"\u001b[39m\u001b[38;5;124mencode an image file as base64\u001b[39m\u001b[38;5;124m\"\u001b[39m\n\u001b[0;32m---> 19\u001b[0m     \u001b[38;5;28;01mwith\u001b[39;00m \u001b[38;5;28mopen\u001b[39m(fname, \u001b[38;5;124m\"\u001b[39m\u001b[38;5;124mrb\u001b[39m\u001b[38;5;124m\"\u001b[39m) \u001b[38;5;28;01mas\u001b[39;00m f:\n\u001b[1;32m     20\u001b[0m         \u001b[38;5;28;01mreturn\u001b[39;00m base64\u001b[38;5;241m.\u001b[39mb64encode(f\u001b[38;5;241m.\u001b[39mread())\u001b[38;5;241m.\u001b[39mdecode(\u001b[38;5;124m'\u001b[39m\u001b[38;5;124mutf-8\u001b[39m\u001b[38;5;124m'\u001b[39m)\n",
      "\u001b[0;31mFileNotFoundError\u001b[0m: [Errno 2] No such file or directory: '../data/cap_2024.10.31_22:16:00_Presidentinlinna.jpg'"
     ]
    }
   ],
   "source": [
    "complete(\"user\", \"tell me about that capture, then\")\n",
    "messages[-1]"
   ]
  }
 ],
 "metadata": {
  "kernelspec": {
   "display_name": "Python 3 (ipykernel)",
   "language": "python",
   "name": "python3"
  },
  "language_info": {
   "codemirror_mode": {
    "name": "ipython",
    "version": 3
   },
   "file_extension": ".py",
   "mimetype": "text/x-python",
   "name": "python",
   "nbconvert_exporter": "python",
   "pygments_lexer": "ipython3",
   "version": "3.12.4"
  }
 },
 "nbformat": 4,
 "nbformat_minor": 5
}
