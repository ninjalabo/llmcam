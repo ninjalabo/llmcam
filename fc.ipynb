{
 "cells": [
  {
   "cell_type": "code",
   "execution_count": 1,
   "id": "885c0080-c471-467e-9637-2f9f8a1c439f",
   "metadata": {},
   "outputs": [],
   "source": [
    "import datetime\n",
    "import openai\n",
    "import json\n",
    "import inspect"
   ]
  },
  {
   "cell_type": "code",
   "execution_count": 2,
   "id": "2b191b55-aa8c-4f00-b9bb-5b61f479278c",
   "metadata": {},
   "outputs": [],
   "source": [
    "# An example function to be hooked in FC\n",
    "def get_delivery_date(order_id: str) -> str:\n",
    "    \"Get the delivery date for a customer's order. Call this whenever you need to know the delivery date, for example when a customer asks 'Where is my package'\"\n",
    "    return datetime.datetime.now().strftime('%Y-%m-%d %H:%M:%S')"
   ]
  },
  {
   "cell_type": "code",
   "execution_count": 3,
   "id": "1cc90e44-8922-42b9-81c1-02da57ce4489",
   "metadata": {},
   "outputs": [],
   "source": [
    "def tool_schema(func):\n",
    "    \"\"\" automatically generate a schema from its parameters and docstring\"\"\"\n",
    "    # Extract function name, docstring, and parameters\n",
    "    func_name = func.__name__\n",
    "    func_description = func.__doc__ or \"No description provided.\"\n",
    "    signature = inspect.signature(func)\n",
    "    \n",
    "    # Create parameters schema\n",
    "    parameters_schema = {\n",
    "        \"type\": \"object\",\n",
    "        \"properties\": {},\n",
    "        \"required\": []\n",
    "    }\n",
    "    \n",
    "    # Populate properties and required fields\n",
    "    for param_name, param in signature.parameters.items():\n",
    "        param_type = param.annotation if param.annotation != inspect._empty else str\n",
    "        # Map Python types to JSON Schema types\n",
    "        json_type = \"string\" if param_type == str else \"number\" if param_type in [int, float] else \"boolean\"\n",
    "        \n",
    "        # Add parameter to schema\n",
    "        parameters_schema[\"properties\"][param_name] = {\n",
    "            \"type\": json_type,\n",
    "            \"description\": f\"{param_name} parameter of type {param_type.__name__}\"\n",
    "        }\n",
    "        \n",
    "        # Mark as required if no default\n",
    "        if param.default == inspect.Parameter.empty:\n",
    "            parameters_schema[\"required\"].append(param_name)\n",
    "    \n",
    "    # Build final tool schema\n",
    "    tool_schema = [\n",
    "        {\n",
    "            \"type\": \"function\",\n",
    "            \"function\": {\n",
    "                \"name\": func_name,\n",
    "                \"description\": func_description,\n",
    "                \"parameters\": parameters_schema,\n",
    "            }\n",
    "        }\n",
    "    ]\n",
    "    return tool_schema"
   ]
  },
  {
   "cell_type": "code",
   "execution_count": 4,
   "id": "95b1c234-4cb1-49b7-8a6a-e04051af9ae9",
   "metadata": {},
   "outputs": [],
   "source": [
    "# Support functions to handle tool response,where res == response.choices[0].message\n",
    "def fn_name(res): return res.tool_calls[0].function.name\n",
    "def fn_args(res): return json.loads(res.tool_calls[0].function.arguments)    \n",
    "def fn_exec(res): return globals().get(fn_name(res))(**fn_args(res))\n",
    "def fn_result_content(res):\n",
    "    \"\"\"Create a content containing the result of the function call\"\"\"\n",
    "    content = dict()\n",
    "    content.update(fn_args(res))\n",
    "    content.update({fn_name(res): fn_exec(res)})\n",
    "    return json.dumps(content)"
   ]
  },
  {
   "cell_type": "code",
   "execution_count": 5,
   "id": "8ba52a6f-f35e-4818-86a7-6f8b157af9d0",
   "metadata": {},
   "outputs": [],
   "source": [
    "# Environmental setting up\n",
    "tools = tool_schema(get_delivery_date)\n",
    "messages = [{\"role\":\"system\", \"content\":\"You are a helpful customer support assistant. Use the supplied tools to assist the user.\"}]"
   ]
  },
  {
   "cell_type": "code",
   "execution_count": 6,
   "id": "fbcd5a20-6446-4f59-b4b7-1bed1497d8fd",
   "metadata": {},
   "outputs": [],
   "source": [
    "def complete(role, content, tool_call_id=None, printing=False):\n",
    "    \"Send completion request with messages, and save the response in messages again\"\n",
    "    messages.append({\"role\":role, \"content\":content, \"tool_call_id\":tool_call_id})\n",
    "    response = openai.chat.completions.create(model=\"gpt-4o\", messages=messages, tools=tools)\n",
    "    res = response.choices[0].message\n",
    "    messages.append(res.to_dict())\n",
    "    if res.to_dict().get('tool_calls'):\n",
    "        complete(role=\"tool\", content=fn_result_content(res), tool_call_id=res.tool_calls[0].id)\n",
    "    if printing==True:\n",
    "        for i, m in enumerate(messages):\n",
    "            print(i, m)"
   ]
  },
  {
   "cell_type": "code",
   "execution_count": 7,
   "id": "eb1bd6eb-6ad5-44c9-a18b-b54691347647",
   "metadata": {},
   "outputs": [
    {
     "name": "stdout",
     "output_type": "stream",
     "text": [
      "0 {'role': 'system', 'content': 'You are a helpful customer support assistant. Use the supplied tools to assist the user.'}\n",
      "1 {'role': 'user', 'content': 'Hi, can you tell me the delivery date for my order?', 'tool_call_id': None}\n",
      "2 {'content': 'Could you please provide me with your order ID so I can check the delivery date for you?', 'refusal': None, 'role': 'assistant'}\n"
     ]
    }
   ],
   "source": [
    "complete(\"user\", \"Hi, can you tell me the delivery date for my order?\", printing=True)"
   ]
  },
  {
   "cell_type": "code",
   "execution_count": 8,
   "id": "f9718c91-c972-482b-8686-b08a5a033b3d",
   "metadata": {},
   "outputs": [
    {
     "name": "stdout",
     "output_type": "stream",
     "text": [
      "0 {'role': 'system', 'content': 'You are a helpful customer support assistant. Use the supplied tools to assist the user.'}\n",
      "1 {'role': 'user', 'content': 'Hi, can you tell me the delivery date for my order?', 'tool_call_id': None}\n",
      "2 {'content': 'Could you please provide me with your order ID so I can check the delivery date for you?', 'refusal': None, 'role': 'assistant'}\n",
      "3 {'role': 'user', 'content': 'i think they are order_00001', 'tool_call_id': None}\n",
      "4 {'content': None, 'refusal': None, 'role': 'assistant', 'tool_calls': [{'id': 'call_xYWVbvqJnyP42TU9BKICpCy7', 'function': {'arguments': '{\"order_id\":\"order_00001\"}', 'name': 'get_delivery_date'}, 'type': 'function'}]}\n",
      "5 {'role': 'tool', 'content': '{\"order_id\": \"order_00001\", \"get_delivery_date\": \"2024-10-31 20:31:46\"}', 'tool_call_id': 'call_xYWVbvqJnyP42TU9BKICpCy7'}\n",
      "6 {'content': 'The delivery date for your order (order ID: order_00001) is scheduled for October 31, 2024.', 'refusal': None, 'role': 'assistant'}\n"
     ]
    }
   ],
   "source": [
    "complete(\"user\", \"i think they are order_00001\", printing=True)"
   ]
  }
 ],
 "metadata": {
  "kernelspec": {
   "display_name": "Python 3 (ipykernel)",
   "language": "python",
   "name": "python3"
  },
  "language_info": {
   "codemirror_mode": {
    "name": "ipython",
    "version": 3
   },
   "file_extension": ".py",
   "mimetype": "text/x-python",
   "name": "python",
   "nbconvert_exporter": "python",
   "pygments_lexer": "ipython3",
   "version": "3.12.4"
  }
 },
 "nbformat": 4,
 "nbformat_minor": 5
}
