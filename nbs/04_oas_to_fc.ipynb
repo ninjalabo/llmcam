{
 "cells": [
  {
   "cell_type": "markdown",
   "id": "a523908e-e4ef-40e1-9701-13477562eb13",
   "metadata": {},
   "source": [
    "# OAS -> FC\n",
    "> This notebook is to validate OAS -> FC (Function-Calling) conversion and implement python module for that.\n",
    "\n",
    "In detail, https://chatgpt.com/share/6720630a-827c-8002-85f7-6f02eff3d382"
   ]
  },
  {
   "cell_type": "code",
   "execution_count": 1,
   "id": "8e0cd7fa-8456-4460-9afd-1ae6ab2c7dc9",
   "metadata": {},
   "outputs": [],
   "source": [
    "#| default_exp ninjalabo.llmcam.oas_to_fc"
   ]
  },
  {
   "cell_type": "code",
   "execution_count": 2,
   "id": "ac0bc57c-3e82-4bdf-aaa2-4ed12b10e31c",
   "metadata": {},
   "outputs": [],
   "source": [
    "#| hide\n",
    "from nbdev.showdoc import *"
   ]
  },
  {
   "cell_type": "code",
   "execution_count": 3,
   "id": "a0c585f1",
   "metadata": {},
   "outputs": [],
   "source": [
    "#| export\n",
    "from fastapi import FastAPI\n",
    "from typing import Optional\n",
    "import uvicorn\n",
    "import threading\n",
    "import httpx\n",
    "import time\n",
    "import json\n",
    "import openai"
   ]
  },
  {
   "cell_type": "code",
   "execution_count": 5,
   "id": "603e7186",
   "metadata": {},
   "outputs": [],
   "source": [
    "app = FastAPI()\n",
    "run = False\n",
    "\n",
    "@app.get(\"/\")\n",
    "async def read_root():\n",
    "    return {\"message\": \"Welcome to the API!\"}\n",
    "\n",
    "@app.get(\"/hello\")\n",
    "async def hello(name: Optional[str] = None):\n",
    "    if name:\n",
    "        return {\"message\": f\"Hello, {name}!\"}\n",
    "    return {\"message\": \"Hello, World!\"}\n",
    "\n",
    "def run_app():\n",
    "    uvicorn.run(app, host=\"127.0.0.1\", port=8000)\n",
    "\n",
    "# Start the FastAPI app in a separate thread\n",
    "if run:\n",
    "    thread = threading.Thread(target=run_app)\n",
    "    thread.start()\n",
    "\n",
    "def get_greeting(name: Optional[str] = None):\n",
    "    \"\"\"\n",
    "        GET request to /hello with optional 'name' parameter\n",
    "    \"\"\"\n",
    "    base_url = \"http://127.0.0.1:8000/hello\"\n",
    "    params = {}\n",
    "    \n",
    "    if name:\n",
    "        params['name'] = name\n",
    "        \n",
    "    response = httpx.get(base_url, params=params)\n",
    "    \n",
    "    if response.status_code == 200:\n",
    "        return response.json()\n",
    "    else:\n",
    "        return {\"error\": \"Failed to retrieve data\", \"status_code\": response.status_code}\n",
    "\n",
    "if run:\n",
    "    print(get_greeting())            # Output: {\"message\": \"Hello, World!\"}\n",
    "    print(get_greeting(\"Alice\"))     # Output: {\"message\": \"Hello, Alice!\"}\n"
   ]
  },
  {
   "cell_type": "code",
   "execution_count": 6,
   "id": "79aa554b",
   "metadata": {},
   "outputs": [
    {
     "data": {
      "text/markdown": [
       "---\n",
       "\n",
       "### get_greeting\n",
       "\n",
       ">      get_greeting (name:Optional[str]=None)\n",
       "\n",
       "GET request to /hello with optional 'name' parameter"
      ],
      "text/plain": [
       "---\n",
       "\n",
       "### get_greeting\n",
       "\n",
       ">      get_greeting (name:Optional[str]=None)\n",
       "\n",
       "GET request to /hello with optional 'name' parameter"
      ]
     },
     "execution_count": 6,
     "metadata": {},
     "output_type": "execute_result"
    }
   ],
   "source": [
    "show_doc(get_greeting)"
   ]
  },
  {
   "cell_type": "code",
   "execution_count": 7,
   "id": "a9a30dd6",
   "metadata": {},
   "outputs": [],
   "source": [
    "with open('openapi.json', 'r') as f:\n",
    "    openapi_spec = json.load(f)\n",
    "\n",
    "tools = []\n",
    "\n",
    "def process_schema(schema):\n",
    "    if 'anyOf' in schema:\n",
    "        return {\"anyOf\": [{\"type\": option['type'], \"description\": option.get('description', 'No description provided')} for option in schema['anyOf']]}\n",
    "    else:\n",
    "        return {\"type\": schema['type'], \"description\": schema.get('description', 'No description provided')}\n",
    "\n",
    "for path, methods in openapi_spec['paths'].items():\n",
    "    for method, details in methods.items():\n",
    "        operation_id = details.get('operationId')\n",
    "        description = details.get('summary', 'No description provided')\n",
    "\n",
    "        parameters = details.get('parameters', [])\n",
    "\n",
    "        param_properties = {}\n",
    "        required_params = []\n",
    "\n",
    "        for param in parameters:\n",
    "            param_name = param['name']\n",
    "            param_schema = param['schema']\n",
    "            param_description = param.get('description', 'No description provided')\n",
    "\n",
    "            param_properties[param_name] = process_schema(param_schema)\n",
    "\n",
    "            if param.get('required', False):\n",
    "                required_params.append(param_name)\n",
    "\n",
    "        tool = {\n",
    "            \"type\": \"function\",\n",
    "            \"function\": {\n",
    "                \"name\": operation_id,  # You can customize this\n",
    "                \"description\": description,\n",
    "                \"parameters\": {\n",
    "                    \"type\": \"object\",\n",
    "                    \"properties\": param_properties,\n",
    "                    \"required\": required_params,\n",
    "                    \"additionalProperties\": False,\n",
    "                },\n",
    "            }\n",
    "        }\n",
    "\n",
    "        tools.append(tool)\n",
    "\n",
    "tools_json = json.dumps(tools, indent=2)"
   ]
  },
  {
   "cell_type": "code",
   "execution_count": 8,
   "id": "ec8c7ac3",
   "metadata": {},
   "outputs": [],
   "source": [
    "messages = [\n",
    "    {\"role\": \"system\", \"content\": \"You are a helpful customer support assistant. Use the supplied tools to assist the user.\"},\n",
    "    {\"role\": \"user\", \"content\": \"Hi, can you say hello to me?\"}\n",
    "]\n",
    "\n",
    "# response = openai.chat.completions.create(\n",
    "#     model=\"gpt-4o\",\n",
    "#     messages=messages,\n",
    "#     tools=tools,\n",
    "# )"
   ]
  },
  {
   "cell_type": "code",
   "execution_count": 9,
   "id": "5264a236-b94d-4ebb-be9a-57b23dc06d32",
   "metadata": {},
   "outputs": [],
   "source": [
    "#| hide\n",
    "import nbdev; nbdev.nbdev_export()"
   ]
  }
 ],
 "metadata": {
  "kernelspec": {
   "display_name": "ninjalabo",
   "language": "python",
   "name": "python3"
  },
  "language_info": {
   "codemirror_mode": {
    "name": "ipython",
    "version": 3
   },
   "file_extension": ".py",
   "mimetype": "text/x-python",
   "name": "python",
   "nbconvert_exporter": "python",
   "pygments_lexer": "ipython3",
   "version": "3.13.0"
  }
 },
 "nbformat": 4,
 "nbformat_minor": 5
}
