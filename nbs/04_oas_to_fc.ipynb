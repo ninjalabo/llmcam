{
 "cells": [
  {
   "cell_type": "markdown",
   "id": "a523908e-e4ef-40e1-9701-13477562eb13",
   "metadata": {},
   "source": [
    "# OAS -> FC\n",
    "> This notebook is to validate OAS -> FC (Function-Calling) conversion and implement python module for that.\n",
    "\n",
    "In detail, https://chatgpt.com/share/6720630a-827c-8002-85f7-6f02eff3d382"
   ]
  },
  {
   "cell_type": "code",
   "execution_count": null,
   "id": "8e0cd7fa-8456-4460-9afd-1ae6ab2c7dc9",
   "metadata": {},
   "outputs": [],
   "source": [
    "#| default_exp ninjalabo.llmcam.oas_to_fc"
   ]
  },
  {
   "cell_type": "code",
   "execution_count": null,
   "id": "ac0bc57c-3e82-4bdf-aaa2-4ed12b10e31c",
   "metadata": {},
   "outputs": [],
   "source": [
    "#| hide\n",
    "from nbdev.showdoc import *"
   ]
  },
  {
   "cell_type": "code",
   "execution_count": null,
   "id": "a0c585f1",
   "metadata": {},
   "outputs": [],
   "source": [
    "#| export\n",
    "from fastapi import FastAPI\n",
    "from typing import Optional\n",
    "import uvicorn\n",
    "import threading\n",
    "import httpx\n",
    "import time"
   ]
  },
  {
   "cell_type": "code",
   "execution_count": null,
   "id": "603e7186",
   "metadata": {},
   "outputs": [
    {
     "name": "stderr",
     "output_type": "stream",
     "text": [
      "INFO:     Started server process [553]\n",
      "INFO:     Waiting for application startup.\n",
      "INFO:     Application startup complete.\n",
      "INFO:     Uvicorn running on http://127.0.0.1:8000 (Press CTRL+C to quit)\n"
     ]
    },
    {
     "name": "stdout",
     "output_type": "stream",
     "text": [
      "INFO:     127.0.0.1:44396 - \"GET /hello HTTP/1.1\" 200 OK\n",
      "{'message': 'Hello, World!'}\n",
      "INFO:     127.0.0.1:44400 - \"GET /hello?name=Alice HTTP/1.1\" 200 OK\n",
      "{'message': 'Hello, Alice!'}\n"
     ]
    },
    {
     "name": "stdout",
     "output_type": "stream",
     "text": [
      "INFO:     127.0.0.1:44406 - \"GET / HTTP/1.1\" 200 OK\n",
      "INFO:     127.0.0.1:44406 - \"GET /favicon.ico HTTP/1.1\" 404 Not Found\n",
      "INFO:     127.0.0.1:44418 - \"GET /openapi.json HTTP/1.1\" 200 OK\n",
      "INFO:     127.0.0.1:50518 - \"GET /redoc HTTP/1.1\" 200 OK\n",
      "INFO:     127.0.0.1:50518 - \"GET /openapi.json HTTP/1.1\" 200 OK\n",
      "INFO:     127.0.0.1:50518 - \"GET /openapi.json HTTP/1.1\" 200 OK\n",
      "INFO:     127.0.0.1:58832 - \"GET /hello HTTP/1.1\" 200 OK\n"
     ]
    }
   ],
   "source": [
    "app = FastAPI()\n",
    "\n",
    "@app.get(\"/\")\n",
    "async def read_root():\n",
    "    return {\"message\": \"Welcome to the API!\"}\n",
    "\n",
    "@app.get(\"/hello\")\n",
    "async def hello(name: Optional[str] = None):\n",
    "    if name:\n",
    "        return {\"message\": f\"Hello, {name}!\"}\n",
    "    return {\"message\": \"Hello, World!\"}\n",
    "\n",
    "def run_app():\n",
    "    uvicorn.run(app, host=\"127.0.0.1\", port=8000)\n",
    "\n",
    "# Start the FastAPI app in a separate thread\n",
    "thread = threading.Thread(target=run_app)\n",
    "thread.start()\n",
    "\n",
    "time.sleep(2)\n",
    "\n",
    "def get_greeting(name: Optional[str] = None):\n",
    "    \"\"\"\n",
    "        GET request to /hello with optional 'name' parameter\n",
    "    \"\"\"\n",
    "    base_url = \"http://127.0.0.1:8000/hello\"\n",
    "    params = {}\n",
    "    \n",
    "    if name:\n",
    "        params['name'] = name\n",
    "        \n",
    "    response = httpx.get(base_url, params=params)\n",
    "    \n",
    "    if response.status_code == 200:\n",
    "        return response.json()\n",
    "    else:\n",
    "        return {\"error\": \"Failed to retrieve data\", \"status_code\": response.status_code}\n",
    "\n",
    "print(get_greeting())            # Output: {\"message\": \"Hello, World!\"}\n",
    "print(get_greeting(\"Alice\"))     # Output: {\"message\": \"Hello, Alice!\"}\n"
   ]
  },
  {
   "cell_type": "code",
   "execution_count": null,
   "id": "79aa554b",
   "metadata": {},
   "outputs": [
    {
     "data": {
      "text/markdown": [
       "---\n",
       "\n",
       "### get_greeting\n",
       "\n",
       ">      get_greeting (name:Optional[str]=None)\n",
       "\n",
       "GET request to /hello with optional 'name' parameter"
      ],
      "text/plain": [
       "---\n",
       "\n",
       "### get_greeting\n",
       "\n",
       ">      get_greeting (name:Optional[str]=None)\n",
       "\n",
       "GET request to /hello with optional 'name' parameter"
      ]
     },
     "execution_count": null,
     "metadata": {},
     "output_type": "execute_result"
    }
   ],
   "source": [
    "show_doc(get_greeting)"
   ]
  },
  {
   "cell_type": "code",
   "execution_count": null,
   "id": "5264a236-b94d-4ebb-be9a-57b23dc06d32",
   "metadata": {},
   "outputs": [],
   "source": [
    "#| hide\n",
    "import nbdev; nbdev.nbdev_export()"
   ]
  }
 ],
 "metadata": {
  "kernelspec": {
   "display_name": "ninjalabo",
   "language": "python",
   "name": "python3"
  }
 },
 "nbformat": 4,
 "nbformat_minor": 5
}
