{
 "cells": [
  {
   "cell_type": "markdown",
   "id": "a523908e-e4ef-40e1-9701-13477562eb13",
   "metadata": {},
   "source": [
    "# OAS -> FC\n",
    "> This notebook is to validate OAS -> FC (Function-Calling) conversion and implement python module for that.\n",
    "\n",
    "In detail, https://chatgpt.com/share/6720630a-827c-8002-85f7-6f02eff3d382"
   ]
  },
  {
   "cell_type": "code",
   "execution_count": null,
   "id": "8e0cd7fa-8456-4460-9afd-1ae6ab2c7dc9",
   "metadata": {},
   "outputs": [],
   "source": [
    "#| default_exp oas_to_fc"
   ]
  },
  {
   "cell_type": "code",
   "execution_count": null,
   "id": "ac0bc57c-3e82-4bdf-aaa2-4ed12b10e31c",
   "metadata": {},
   "outputs": [],
   "source": [
    "#| hide\n",
    "from nbdev.showdoc import *"
   ]
  },
  {
   "cell_type": "code",
   "execution_count": null,
   "id": "a0c585f1",
   "metadata": {},
   "outputs": [],
   "source": [
    "from fastapi import FastAPI\n",
    "from typing import Optional\n",
    "import uvicorn\n",
    "import threading\n",
    "import httpx\n",
    "import json\n",
    "import openai"
   ]
  },
  {
   "cell_type": "code",
   "execution_count": null,
   "id": "603e7186",
   "metadata": {},
   "outputs": [],
   "source": [
    "app = FastAPI()\n",
    "run = False\n",
    "\n",
    "@app.get(\"/\")\n",
    "async def read_root():\n",
    "    return {\"message\": \"Welcome to the API!\"}\n",
    "\n",
    "@app.get(\"/hello\")\n",
    "async def hello(name: Optional[str] = None):\n",
    "    if name:\n",
    "        return {\"message\": f\"Hello, {name}!\"}\n",
    "    return {\"message\": \"Hello, World!\"}\n",
    "\n",
    "def run_app():\n",
    "    uvicorn.run(app, host=\"127.0.0.1\", port=8000)\n",
    "\n",
    "# Start the FastAPI app in a separate thread\n",
    "if run:\n",
    "    thread = threading.Thread(target=run_app)\n",
    "    thread.start()\n",
    "\n",
    "def hello_hello_get(name: Optional[str] = None):\n",
    "    \"\"\"\n",
    "        GET request to /hello with optional 'name' parameter\n",
    "    \"\"\"\n",
    "    base_url = \"http://127.0.0.1:8000/hello\"\n",
    "    params = {}\n",
    "    \n",
    "    if name:\n",
    "        params['name'] = name\n",
    "        \n",
    "    response = httpx.get(base_url, params=params)\n",
    "    \n",
    "    if response.status_code == 200:\n",
    "        return response.json()\n",
    "    else:\n",
    "        return {\"error\": \"Failed to retrieve data\", \"status_code\": response.status_code}"
   ]
  },
  {
   "cell_type": "code",
   "execution_count": null,
   "id": "79aa554b",
   "metadata": {},
   "outputs": [
    {
     "data": {
      "text/markdown": [
       "---\n",
       "\n",
       "### hello_hello_get\n",
       "\n",
       ">      hello_hello_get (name:Optional[str]=None)\n",
       "\n",
       "*GET request to /hello with optional 'name' parameter*"
      ],
      "text/plain": [
       "---\n",
       "\n",
       "### hello_hello_get\n",
       "\n",
       ">      hello_hello_get (name:Optional[str]=None)\n",
       "\n",
       "*GET request to /hello with optional 'name' parameter*"
      ]
     },
     "execution_count": null,
     "metadata": {},
     "output_type": "execute_result"
    }
   ],
   "source": [
    "show_doc(hello_hello_get)"
   ]
  },
  {
   "cell_type": "code",
   "execution_count": null,
   "id": "a9a30dd6",
   "metadata": {},
   "outputs": [],
   "source": [
    "with open('openapi.json', 'r') as f:\n",
    "    openapi_spec = json.load(f)\n",
    "\n",
    "tools = []\n",
    "\n",
    "def process_schema(schema):\n",
    "    if 'anyOf' in schema:\n",
    "        return {\"anyOf\": [{\"type\": option['type'], \"description\": option.get('description', 'No description provided')} for option in schema['anyOf']]}\n",
    "    else:\n",
    "        return {\"type\": schema['type'], \"description\": schema.get('description', 'No description provided')}\n",
    "\n",
    "for path, methods in openapi_spec['paths'].items():\n",
    "    for method, details in methods.items():\n",
    "        operation_id = details.get('operationId')\n",
    "        description = details.get('summary', 'No description provided')\n",
    "\n",
    "        parameters = details.get('parameters', [])\n",
    "\n",
    "        param_properties = {}\n",
    "        required_params = []\n",
    "\n",
    "        for param in parameters:\n",
    "            param_name = param['name']\n",
    "            param_schema = param['schema']\n",
    "            param_description = param.get('description', 'No description provided')\n",
    "\n",
    "            param_properties[param_name] = process_schema(param_schema)\n",
    "\n",
    "            if param.get('required', False):\n",
    "                required_params.append(param_name)\n",
    "\n",
    "        tool = {\n",
    "            \"type\": \"function\",\n",
    "            \"function\": {\n",
    "                \"name\": operation_id,  # You can customize this\n",
    "                \"description\": description,\n",
    "                \"parameters\": {\n",
    "                    \"type\": \"object\",\n",
    "                    \"properties\": param_properties,\n",
    "                    \"required\": required_params,\n",
    "                    \"additionalProperties\": False,\n",
    "                },\n",
    "            }\n",
    "        }\n",
    "\n",
    "        tools.append(tool)\n",
    "\n",
    "tools_json = json.dumps(tools, indent=2)"
   ]
  },
  {
   "cell_type": "code",
   "execution_count": null,
   "id": "ec8c7ac3",
   "metadata": {},
   "outputs": [],
   "source": [
    "messages = [\n",
    "    {\"role\": \"system\", \"content\": \"You are a helpful customer support assistant. Use the supplied tools to assist the user.\"},\n",
    "    {\"role\": \"user\", \"content\": \"Hi, can you say hello to me, my name is?\"} # If a name is inserted, reponse message will be Hello, {name}!\n",
    "]\n",
    "\n",
    "if openai.api_key:\n",
    "    response = openai.chat.completions.create(\n",
    "        model=\"gpt-4o\",\n",
    "        messages=messages,\n",
    "        tools=tools,\n",
    "    )\n",
    "\n",
    "    # Response message: COuld you give me your name?\n",
    "    messages.append({\"role\": response.choices[0].message.role, \"content\": response.choices[0].message.content})\n",
    "    messages.append({\"role\": \"user\", \"content\": \"Sorry, but I don't have a name.\"})\n",
    "\n",
    "    response = openai.chat.completions.create(\n",
    "        model=\"gpt-4o\",\n",
    "        messages=messages,\n",
    "        tools=tools,\n",
    "    )\n",
    "\n",
    "    hello_hello_get(json.loads(response.choices[0].message.tool_calls[0].function.arguments).get(\"name\", None)) # Hello, World!"
   ]
  },
  {
   "cell_type": "code",
   "execution_count": null,
   "id": "5264a236-b94d-4ebb-be9a-57b23dc06d32",
   "metadata": {},
   "outputs": [],
   "source": [
    "#| hide\n",
    "import nbdev; nbdev.nbdev_export()"
   ]
  }
 ],
 "metadata": {
  "kernelspec": {
   "display_name": "python3",
   "language": "python",
   "name": "python3"
  }
 },
 "nbformat": 4,
 "nbformat_minor": 5
}
