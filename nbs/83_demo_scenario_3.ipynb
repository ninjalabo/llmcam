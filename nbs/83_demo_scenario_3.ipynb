{
 "cells": [
  {
   "cell_type": "markdown",
   "metadata": {},
   "source": [
    "# Demo Scenario 3\n",
    "> Validate Demonstrate Scenario 3 on a notebook"
   ]
  },
  {
   "cell_type": "code",
   "execution_count": null,
   "metadata": {},
   "outputs": [],
   "source": [
    "#| hide\n",
    "from nbdev.showdoc import *"
   ]
  },
  {
   "cell_type": "code",
   "execution_count": null,
   "metadata": {},
   "outputs": [],
   "source": [
    "#| eval: false\n",
    "\n",
    "from llmcam.downloader import *\n",
    "from llmcam.dtcam import *\n",
    "from llmcam.file_manager import *\n",
    "from llmcam.fn_to_fc import *\n",
    "from llmcam.store import *\n",
    "from llmcam.yolo import *\n",
    "from llmcam.gpt4v import *"
   ]
  },
  {
   "cell_type": "code",
   "execution_count": null,
   "metadata": {},
   "outputs": [],
   "source": [
    "#| eval: false\n",
    "\n",
    "def send_notification(\n",
    "        msg: str  # The message to send\n",
    "    ):\n",
    "    \"\"\"Send a notification\"\"\"\n",
    "    global messages\n",
    "    messages.append(form_msg(\"assistant\", f\"Notification: {msg}\"))\n",
    "    complete(messages, tools)\n",
    "    return msg\n",
    "\n",
    "from threading import Thread\n",
    "import time\n",
    "\n",
    "def start_notifications_stream(\n",
    "    messages: list  # Previous conversation with the user\n",
    "):\n",
    "    \"\"\"Start the notifications stream. At the end of the stream, notify users about the results.\"\"\"\n",
    "    global tools\n",
    "\n",
    "    # Add sending notification to tool schema\n",
    "    subtools = [ tool for tool in tools if tool['function']['name'] != 'start_notifications_stream' ]\n",
    "    subtools.append(tool_schema(send_notification, 'send_notification'))\n",
    "\n",
    "    # Copy the messages to avoid modifying the original list\n",
    "    messages = [ message for message in messages ]\n",
    "\n",
    "    # Define the functionality to use\n",
    "    def monitoring_loop():\n",
    "        for _ in range(5):  \n",
    "            time.sleep(10)  \n",
    "\n",
    "            # Ask GPT if the condition is met\n",
    "            messages.append({\n",
    "                \"role\": \"system\",\n",
    "                \"content\": \"Evaluate the data. Does it satisfy the condition stated by the user? When the condition is met, send a message to user. \"\n",
    "            })\n",
    "            complete(messages, tools=subtools)\n",
    "\n",
    "    # Start the notifications stream\n",
    "    t = Thread(target=monitoring_loop)\n",
    "    t.start()\n",
    "\n",
    "    return 'Notifications stream started'"
   ]
  },
  {
   "cell_type": "code",
   "execution_count": null,
   "metadata": {},
   "outputs": [],
   "source": [
    "#| eval: false\n",
    "tools = []\n",
    "def execute_handler(function_name, **kwargs):\n",
    "    execute_handler_core(tools, function_name, **kwargs)\n",
    "\n",
    "tools.extend([handler_schema(function, service_name=\"toolbox_handler\", fixup=execute_handler) for function in [\n",
    "        add_api_tools,\n",
    "        add_function_tools,\n",
    "        remove_tools,\n",
    "        capture_youtube_live_frame_and_save,\n",
    "        list_image_files,\n",
    "        ask_gpt4v_about_image_file\n",
    "    ]])\n",
    "\n",
    "tools.append(tool_schema(start_notifications_stream, 'notification'))\n",
    "tools[-1]['function']['parameters'] = {\n",
    "    'type': 'object',\n",
    "    'properties': {\n",
    "        'messages': {\n",
    "            'type': 'array',\n",
    "            'items': {\n",
    "                'type': 'object',\n",
    "                'properties': {\n",
    "                    'role': {\n",
    "                        'type': 'string',\n",
    "                        'enum': ['user', 'tool', 'system', 'assistant']\n",
    "                    },\n",
    "                    'content': {\n",
    "                        'type': 'string'\n",
    "                    }\n",
    "                }\n",
    "            }\n",
    "        }\n",
    "    }\n",
    "}"
   ]
  },
  {
   "cell_type": "code",
   "execution_count": null,
   "metadata": {},
   "outputs": [
    {
     "name": "stdout",
     "output_type": "stream",
     "text": [
      "[youtube] Extracting URL: https://www.youtube.com/watch?v=mwN6l3O1MNI\n",
      "[youtube] mwN6l3O1MNI: Downloading webpage\n",
      "[youtube] mwN6l3O1MNI: Downloading ios player API JSON\n",
      "[youtube] mwN6l3O1MNI: Downloading mweb player API JSON\n",
      "[youtube] mwN6l3O1MNI: Downloading m3u8 information\n",
      "[youtube] mwN6l3O1MNI: Downloading m3u8 information\n",
      "\u001b[1m\u001b[31m>> \u001b[43m\u001b[31mSystem:\u001b[0m\n",
      "You are a helpful system administrator. Use the supplied tools to help the user.\n",
      "\u001b[1m\u001b[31m>> \u001b[43m\u001b[32mUser:\u001b[0m\n",
      "Notify me when there are 20 available parking lots in https://www.youtube.com/watch?v=mwN6l3O1MNI.\n",
      "\u001b[1m\u001b[31m>> \u001b[43m\u001b[34mAssistant:\u001b[0m\n",
      "Currently, there are 15 available parking spaces in the monitored area. I will continue to check\n",
      "periodically and notify you once there are 20 available parking lots.\n"
     ]
    },
    {
     "name": "stdout",
     "output_type": "stream",
     "text": [
      "[youtube] Extracting URL: https://www.youtube.com/watch?v=mwN6l3O1MNI\n",
      "[youtube] mwN6l3O1MNI: Downloading webpage\n",
      "[youtube] mwN6l3O1MNI: Downloading ios player API JSON\n",
      "[youtube] mwN6l3O1MNI: Downloading mweb player API JSON\n",
      "[youtube] mwN6l3O1MNI: Downloading m3u8 information\n",
      "[youtube] mwN6l3O1MNI: Downloading m3u8 information\n",
      "[youtube] Extracting URL: https://www.youtube.com/watch?v=mwN6l3O1MNI\n",
      "[youtube] mwN6l3O1MNI: Downloading webpage\n",
      "[youtube] mwN6l3O1MNI: Downloading ios player API JSON\n",
      "[youtube] mwN6l3O1MNI: Downloading mweb player API JSON\n",
      "[youtube] mwN6l3O1MNI: Downloading m3u8 information\n",
      "[youtube] mwN6l3O1MNI: Downloading m3u8 information\n",
      "[youtube] Extracting URL: https://www.youtube.com/watch?v=mwN6l3O1MNI\n",
      "[youtube] mwN6l3O1MNI: Downloading webpage\n",
      "[youtube] mwN6l3O1MNI: Downloading ios player API JSON\n",
      "[youtube] mwN6l3O1MNI: Downloading mweb player API JSON\n",
      "[youtube] mwN6l3O1MNI: Downloading m3u8 information\n",
      "[youtube] mwN6l3O1MNI: Downloading m3u8 information\n",
      "[youtube] Extracting URL: https://www.youtube.com/watch?v=mwN6l3O1MNI\n",
      "[youtube] mwN6l3O1MNI: Downloading webpage\n",
      "[youtube] mwN6l3O1MNI: Downloading ios player API JSON\n",
      "[youtube] mwN6l3O1MNI: Downloading mweb player API JSON\n",
      "[youtube] mwN6l3O1MNI: Downloading m3u8 information\n",
      "[youtube] mwN6l3O1MNI: Downloading m3u8 information\n",
      "[youtube] Extracting URL: https://www.youtube.com/watch?v=mwN6l3O1MNI\n",
      "[youtube] mwN6l3O1MNI: Downloading webpage\n",
      "[youtube] mwN6l3O1MNI: Downloading ios player API JSON\n",
      "[youtube] mwN6l3O1MNI: Downloading mweb player API JSON\n",
      "[youtube] mwN6l3O1MNI: Downloading m3u8 information\n",
      "[youtube] mwN6l3O1MNI: Downloading m3u8 information\n"
     ]
    }
   ],
   "source": [
    "#| eval: false\n",
    "\n",
    "messages = form_msgs([\n",
    "    (\"system\", \"You are a helpful system administrator. Use the supplied tools to help the user.\"),\n",
    "    (\"user\", \"Notify me when there are 20 available parking lots in https://www.youtube.com/watch?v=mwN6l3O1MNI.\")\n",
    "])\n",
    "complete(messages, tools)\n",
    "print_msgs(messages)"
   ]
  },
  {
   "cell_type": "code",
   "execution_count": null,
   "metadata": {},
   "outputs": [
    {
     "name": "stdout",
     "output_type": "stream",
     "text": [
      "\u001b[1m\u001b[31m>> \u001b[43m\u001b[31mSystem:\u001b[0m\n",
      "You are a helpful system administrator. Use the supplied tools to help the user.\n",
      "\u001b[1m\u001b[31m>> \u001b[43m\u001b[32mUser:\u001b[0m\n",
      "Notify me when there are 20 available parking lots in https://www.youtube.com/watch?v=mwN6l3O1MNI.\n",
      "\u001b[1m\u001b[31m>> \u001b[43m\u001b[34mAssistant:\u001b[0m\n",
      "Currently, there are 15 available parking spaces in the monitored area. I will continue to check\n",
      "periodically and notify you once there are 20 available parking lots.\n",
      "\u001b[1m\u001b[31m>> \u001b[43m\u001b[34mAssistant:\u001b[0m\n",
      "Notification: There are now 20 available parking spaces in the monitored lot!\n",
      "\u001b[1m\u001b[31m>> \u001b[43m\u001b[34mAssistant:\u001b[0m\n",
      "It seems I cannot automatically monitor and notify you of changes in real-time. Please let me know\n",
      "when you would like me to check the video feed again, or you can use it to assess the current number\n",
      "of available spaces.\n"
     ]
    }
   ],
   "source": [
    "#| eval: false\n",
    "\n",
    "print_msgs(messages)"
   ]
  },
  {
   "cell_type": "markdown",
   "metadata": {},
   "source": [
    "1. User: Notify me when there’s a vacancy in the parking lot.\n",
    "2. Assistant: Notification set. I’ll alert you as soon as a parking spot becomes available.\n",
    "3. *(Later, when a space opens)* Assistant: Notification: A parking spot is now available at [Location]."
   ]
  },
  {
   "cell_type": "code",
   "execution_count": null,
   "metadata": {},
   "outputs": [],
   "source": [
    "#| hide\n",
    "import nbdev; nbdev.nbdev_export()"
   ]
  }
 ],
 "metadata": {
  "kernelspec": {
   "display_name": "python3",
   "language": "python",
   "name": "python3"
  }
 },
 "nbformat": 4,
 "nbformat_minor": 2
}
