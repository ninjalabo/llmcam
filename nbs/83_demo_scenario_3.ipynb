{
 "cells": [
  {
   "cell_type": "markdown",
   "metadata": {},
   "source": [
    "# Demo Scenario 3\n",
    "> Validate Demonstrate Scenario 3 on a notebook"
   ]
  },
  {
   "cell_type": "code",
   "execution_count": 1,
   "metadata": {},
   "outputs": [],
   "source": [
    "#| hide\n",
    "from nbdev.showdoc import *"
   ]
  },
  {
   "cell_type": "code",
   "execution_count": 2,
   "metadata": {},
   "outputs": [],
   "source": [
    "#| eval: false\n",
    "\n",
    "from llmcam.downloader import *\n",
    "from llmcam.dtcam import *\n",
    "from llmcam.file_manager import *\n",
    "from llmcam.fn_to_fc import *\n",
    "from llmcam.oas_to_requests import *\n",
    "from llmcam.store import *\n",
    "from llmcam.yolo import *"
   ]
  },
  {
   "cell_type": "code",
   "execution_count": 4,
   "metadata": {},
   "outputs": [],
   "source": [
    "def update_tools(\n",
    "    services: list # list of services\n",
    "):\n",
    "    \"\"\"Extarct services from ToolBox and integrate to current tools\"\"\"\n",
    "    new = extract_tools_from_services(services)\n",
    "    for tool in new:\n",
    "        tools.append(tool)\n",
    "\n",
    "tools = [tool_schema(fn) for fn in [update_tools, download_file, cap, add_api_tools]] + extract_tools_from_services(['ytube_live'])\n",
    "tools[0][\"function\"][\"parameters\"][\"properties\"][\"services\"] = {\n",
    "            \"type\": \"array\",\n",
    "            \"description\": \"List of service names\",\n",
    "            \"items\": {\"type\": \"string\"}\n",
    "        }\n"
   ]
  },
  {
   "cell_type": "code",
   "execution_count": 5,
   "metadata": {},
   "outputs": [
    {
     "name": "stdout",
     "output_type": "stream",
     "text": [
      "[youtube] Extracting URL: https://youtu.be/SUseaJu9DIE?si=LFM0yN-VhS5JJACO\n",
      "[youtube] SUseaJu9DIE: Downloading webpage\n",
      "[youtube] SUseaJu9DIE: Downloading ios player API JSON\n",
      "[youtube] SUseaJu9DIE: Downloading mweb player API JSON\n",
      "[youtube] SUseaJu9DIE: Downloading m3u8 information\n",
      "[youtube] Extracting URL: https://youtu.be/bK26jwnbyPw?si=7zn_yAnYLq57dMmX\n",
      "[youtube] bK26jwnbyPw: Downloading webpage\n",
      "[youtube] bK26jwnbyPw: Downloading ios player API JSON\n",
      "[youtube] bK26jwnbyPw: Downloading mweb player API JSON\n",
      "[youtube] bK26jwnbyPw: Downloading m3u8 information\n",
      "[youtube] Extracting URL: https://youtu.be/8jBwkS2CLWQ?si=rnEPCAHcQ11iaog0\n",
      "[youtube] 8jBwkS2CLWQ: Downloading webpage\n",
      "[youtube] 8jBwkS2CLWQ: Downloading ios player API JSON\n",
      "[youtube] 8jBwkS2CLWQ: Downloading mweb player API JSON\n",
      "[youtube] 8jBwkS2CLWQ: Downloading m3u8 information\n",
      "\u001b[1m\u001b[31m>> \u001b[43m\u001b[31mSystem:\u001b[0m\n",
      "You are a helpful system administrator. Use the supplied tools to help the user.\n",
      "\u001b[1m\u001b[31m>> \u001b[43m\u001b[32mUser:\u001b[0m\n",
      "Notify me when there is a vacancy in the parking lot. Check these cameras:\n",
      "https://youtu.be/SUseaJu9DIE?si=LFM0yN-VhS5JJACO\n",
      "https://youtu.be/bK26jwnbyPw?si=7zn_yAnYLq57dMmX\n",
      "https://youtu.be/8jBwkS2CLWQ?si=rnEPCAHcQ11iaog0\n",
      "\u001b[1m\u001b[31m>> \u001b[43m\u001b[34mAssistant:\u001b[0m\n",
      "Here's the information from the camera feeds regarding parking spaces:  1. **Camera 1** [(YouTube\n",
      "Link)](https://youtu.be/SUseaJu9DIE?si=LFM0yN-VhS5JJACO):    - **Number of Vehicles:** 10 (cars and\n",
      "trucks)    - **Number of Available Parking Spaces:** 8  2. **Camera 2** [(YouTube\n",
      "Link)](https://youtu.be/bK26jwnbyPw?si=7zn_yAnYLq57dMmX):    - **Number of Vehicles:** 0    -\n",
      "**Number of Available Parking Spaces:** It appears to be clear; however, visibility and sky\n",
      "conditions are not ideal.  3. **Camera 3** [(YouTube\n",
      "Link)](https://youtu.be/8jBwkS2CLWQ?si=rnEPCAHcQ11iaog0):     - **Number of Vehicles:** 0    -\n",
      "**Number of Available Parking Spaces:** No vehicles detected, but visibility is unclear.  Would you\n",
      "like any further assistance or notifications set up based on these conditions?\n"
     ]
    }
   ],
   "source": [
    "messages = form_msgs([\n",
    "    (\"system\", \"You are a helpful system administrator. Use the supplied tools to help the user.\"),\n",
    "    (\"user\", \"\"\"Notify me when there is a vacancy in the parking lot. Check these cameras:\n",
    "            https://youtu.be/SUseaJu9DIE?si=LFM0yN-VhS5JJACO\n",
    "            https://youtu.be/bK26jwnbyPw?si=7zn_yAnYLq57dMmX\n",
    "            https://youtu.be/8jBwkS2CLWQ?si=rnEPCAHcQ11iaog0\n",
    "\"\"\"),\n",
    "])\n",
    "complete(messages, tools)\n",
    "print_msgs(messages)"
   ]
  },
  {
   "cell_type": "markdown",
   "metadata": {},
   "source": [
    "1. User: Notify me when there’s a vacancy in the parking lot.\n",
    "2. Assistant: Notification set. I’ll alert you as soon as a parking spot becomes available.\n",
    "3. *(Later, when a space opens)* Assistant: Notification: A parking spot is now available at [Location]."
   ]
  },
  {
   "cell_type": "code",
   "execution_count": null,
   "metadata": {},
   "outputs": [],
   "source": [
    "#| hide\n",
    "import nbdev; nbdev.nbdev_export()"
   ]
  }
 ],
 "metadata": {
  "kernelspec": {
   "display_name": "ninjalabo",
   "language": "python",
   "name": "python3"
  },
  "language_info": {
   "codemirror_mode": {
    "name": "ipython",
    "version": 3
   },
   "file_extension": ".py",
   "mimetype": "text/x-python",
   "name": "python",
   "nbconvert_exporter": "python",
   "pygments_lexer": "ipython3",
   "version": "3.10.15"
  }
 },
 "nbformat": 4,
 "nbformat_minor": 2
}
