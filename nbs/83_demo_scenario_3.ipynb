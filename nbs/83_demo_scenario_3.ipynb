{
 "cells": [
  {
   "cell_type": "markdown",
   "metadata": {},
   "source": [
    "# Demo Scenario 3\n",
    "> Validate Demonstrate Scenario 3 on a notebook"
   ]
  },
  {
   "cell_type": "code",
   "execution_count": null,
   "metadata": {},
   "outputs": [],
   "source": [
    "#| hide\n",
    "from nbdev.showdoc import *"
   ]
  },
  {
   "cell_type": "code",
   "execution_count": null,
   "metadata": {},
   "outputs": [],
   "source": [
    "#| eval: false\n",
    "\n",
    "from llmcam.downloader import *\n",
    "from llmcam.dtcam import *\n",
    "from llmcam.file_manager import *\n",
    "from llmcam.fn_to_fc import *\n",
    "from llmcam.oas_to_requests import *\n",
    "from llmcam.store import *\n",
    "from llmcam.yolo import *"
   ]
  },
  {
   "cell_type": "code",
   "execution_count": null,
   "metadata": {},
   "outputs": [],
   "source": [
    "#| eval: false\n",
    "\n",
    "def update_tools(\n",
    "    services: list # list of services\n",
    "):\n",
    "    \"\"\"Extarct services from ToolBox and integrate to current tools\"\"\"\n",
    "    new = extract_tools_from_services(services)\n",
    "    for tool in new:\n",
    "        tools.append(tool)\n",
    "\n",
    "tools = [tool_schema(fn) for fn in [update_tools, download_file, cap, add_api_tools]] + extract_tools_from_services(['ytube_live'])"
   ]
  },
  {
   "cell_type": "code",
   "execution_count": null,
   "metadata": {},
   "outputs": [
    {
     "name": "stdout",
     "output_type": "stream",
     "text": [
      "[youtube] Extracting URL: https://youtu.be/SUseaJu9DIE?si=LFM0yN-VhS5JJACO\n",
      "[youtube] SUseaJu9DIE: Downloading webpage\n",
      "[youtube] SUseaJu9DIE: Downloading ios player API JSON\n",
      "[youtube] SUseaJu9DIE: Downloading mweb player API JSON\n",
      "[youtube] SUseaJu9DIE: Downloading player 5f315c3d\n",
      "[youtube] SUseaJu9DIE: Downloading m3u8 information\n",
      "\u001b[1m\u001b[31m>> \u001b[43m\u001b[31mSystem:\u001b[0m\n",
      "You are a helpful system administrator. Use the supplied tools to help the user.\n",
      "\u001b[1m\u001b[31m>> \u001b[43m\u001b[32mUser:\u001b[0m\n",
      "Notify me when there is a vacancy in the parking lot at 6am. Check this camera:\n",
      "https://youtu.be/SUseaJu9DIE?si=LFM0yN-VhS5JJACO\n",
      "\u001b[1m\u001b[31m>> \u001b[43m\u001b[34mAssistant:\u001b[0m\n",
      "To notify you when there's a vacancy in the parking lot at 6 am, I need to perform a series of\n",
      "tasks, including capturing an image from the YouTube Live stream at that time and analyzing it for\n",
      "parking availability. However, scheduling tasks for a specific time is currently outside my\n",
      "capabilities.  As an alternative, I can guide you on how to automate this using external tools or\n",
      "provide assistance on capturing and analyzing an image interactively at your request. Please let me\n",
      "know how you'd like to proceed.\n",
      "\u001b[1m\u001b[31m>> \u001b[43m\u001b[32mUser:\u001b[0m\n",
      "This video has some timestamps. I want to you to check if at 6am (of this video) there is any\n",
      "parking slots.\n",
      "\u001b[1m\u001b[31m>> \u001b[43m\u001b[34mAssistant:\u001b[0m\n",
      "At 6 am on the video, there are 5 available parking spaces in the lot. If you need any further\n",
      "assistance, feel free to ask!\n"
     ]
    }
   ],
   "source": [
    "#| eval: false\n",
    "\n",
    "messages = form_msgs([\n",
    "    (\"system\", \"You are a helpful system administrator. Use the supplied tools to help the user.\"),\n",
    "    (\"user\", \"Notify me when there is a vacancy in the parking lot at 6am. Check this camera: https://youtu.be/SUseaJu9DIE?si=LFM0yN-VhS5JJACO\"),\n",
    "    (\"user\", \"This video has some timestamps. I want to you to check if at 6am (of this video) there is any parking slots.\")\n",
    "])\n",
    "complete(messages, tools)\n",
    "print_msgs(messages)"
   ]
  },
  {
   "cell_type": "markdown",
   "metadata": {},
   "source": [
    "1. User: Notify me when there’s a vacancy in the parking lot.\n",
    "2. Assistant: Notification set. I’ll alert you as soon as a parking spot becomes available.\n",
    "3. *(Later, when a space opens)* Assistant: Notification: A parking spot is now available at [Location]."
   ]
  },
  {
   "cell_type": "code",
   "execution_count": null,
   "metadata": {},
   "outputs": [],
   "source": [
    "#| hide\n",
    "import nbdev; nbdev.nbdev_export()"
   ]
  }
 ],
 "metadata": {
  "kernelspec": {
   "display_name": "python3",
   "language": "python",
   "name": "python3"
  }
 },
 "nbformat": 4,
 "nbformat_minor": 2
}
