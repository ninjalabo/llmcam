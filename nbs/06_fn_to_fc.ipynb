{
 "cells": [
  {
   "cell_type": "markdown",
   "id": "6f66ce1c-7715-4f29-b00e-0beb48ac372a",
   "metadata": {},
   "source": [
    "# Fn to FC\n",
    "> python module to convert a given Fn into FC automatically"
   ]
  },
  {
   "cell_type": "code",
   "execution_count": 1,
   "id": "9750839c-7930-4ec2-be7d-51da8203bab0",
   "metadata": {},
   "outputs": [],
   "source": [
    "#| default_exp fn_to_fc"
   ]
  },
  {
   "cell_type": "code",
   "execution_count": null,
   "id": "cc649b44-af36-4efb-8dbb-4cc1cae452ae",
   "metadata": {},
   "outputs": [],
   "source": [
    "#| hide\n",
    "from nbdev.showdoc import *"
   ]
  },
  {
   "cell_type": "code",
   "execution_count": null,
   "id": "941131be-2317-44f2-bbad-7692762d848a",
   "metadata": {},
   "outputs": [],
   "source": [
    "#| export\n",
    "import openai\n",
    "import json\n",
    "import inspect\n",
    "from typing import Optional"
   ]
  },
  {
   "cell_type": "code",
   "execution_count": null,
   "id": "74bea3ea-b30f-49a4-932a-4e7091566cc5",
   "metadata": {},
   "outputs": [],
   "source": [
    "import glob\n",
    "from llmcam.ytlive import capture_youtube_live_frame\n",
    "from llmcam.gpt4v import ask_gpt4v"
   ]
  },
  {
   "cell_type": "code",
   "execution_count": null,
   "id": "cab2a0ff-df66-4fe2-915a-d5641ad17f35",
   "metadata": {},
   "outputs": [],
   "source": [
    "def capture_youtube_live_frame_and_save() -> str:\n",
    "    \"Capture a jpeg file from YouTube Live and save in data directory\"\n",
    "    return str(capture_youtube_live_frame())"
   ]
  },
  {
   "cell_type": "code",
   "execution_count": null,
   "id": "811a2383-7329-4a30-a344-d6cac4006ec7",
   "metadata": {},
   "outputs": [],
   "source": [
    "def ask_gpt4v_about_image_file(path:str) -> str:\n",
    "    \"Tell all about quantitative information from a given image file\"\n",
    "    info = ask_gpt4v(path)\n",
    "    return json.dumps(info)"
   ]
  },
  {
   "cell_type": "code",
   "execution_count": null,
   "id": "1cc90e44-8922-42b9-81c1-02da57ce4489",
   "metadata": {},
   "outputs": [],
   "source": [
    "#| export\n",
    "def tool_schema(func):\n",
    "    \"\"\" automatically generate a schema from its parameters and docstring\"\"\"\n",
    "    # Extract function name, docstring, and parameters\n",
    "    func_name = func.__name__\n",
    "    func_description = func.__doc__ or \"No description provided.\"\n",
    "    signature = inspect.signature(func)\n",
    "    \n",
    "    # Create parameters schema\n",
    "    parameters_schema = {\n",
    "        \"type\": \"object\",\n",
    "        \"properties\": {},\n",
    "        \"required\": []\n",
    "    }\n",
    "    \n",
    "    # Populate properties and required fields\n",
    "    for param_name, param in signature.parameters.items():\n",
    "        param_type = param.annotation if param.annotation != inspect._empty else str\n",
    "        # Map Python types to JSON Schema types\n",
    "        json_type = \"string\" if param_type == str else \"number\" if param_type in [int, float] else \"boolean\"\n",
    "        \n",
    "        # Add parameter to schema\n",
    "        parameters_schema[\"properties\"][param_name] = {\n",
    "            \"type\": json_type,\n",
    "            \"description\": f\"{param_name} parameter of type {param_type.__name__}\"\n",
    "        }\n",
    "        \n",
    "        # Mark as required if no default\n",
    "        if param.default == inspect.Parameter.empty:\n",
    "            parameters_schema[\"required\"].append(param_name)\n",
    "    \n",
    "    # Build final tool schema\n",
    "    tool_schema = [\n",
    "        {\n",
    "            \"type\": \"function\",\n",
    "            \"function\": {\n",
    "                \"name\": func_name,\n",
    "                \"description\": func_description,\n",
    "                \"parameters\": parameters_schema,\n",
    "            }\n",
    "        }\n",
    "    ]\n",
    "    return tool_schema"
   ]
  },
  {
   "cell_type": "code",
   "execution_count": null,
   "id": "8ba52a6f-f35e-4818-86a7-6f8b157af9d0",
   "metadata": {},
   "outputs": [],
   "source": [
    "# Environmental setting up\n",
    "tools = [tool_schema(fn) for fn in (capture_youtube_live_frame_and_save, ask_gpt4v_about_image_file)]\n",
    "messages = [{\"role\":\"system\", \"content\":\"You are a helpful system administrator. Use the supplied tools to assist the user.\"}]"
   ]
  },
  {
   "cell_type": "code",
   "execution_count": null,
   "id": "95b1c234-4cb1-49b7-8a6a-e04051af9ae9",
   "metadata": {},
   "outputs": [],
   "source": [
    "#| export\n",
    "# Support functions to handle tool response,where res == response.choices[0].message\n",
    "def fn_name(res): return res.tool_calls[0].function.name\n",
    "def fn_args(res): return json.loads(res.tool_calls[0].function.arguments)    \n",
    "def fn_exec(res, aux_fn):\n",
    "    fn = globals().get(fn_name(res))\n",
    "    if fn: return fn(**fn_args(res))\n",
    "    aux_fn(fn_name(res), **fn_args(res))\n",
    "    \n",
    "def fn_result_content(res, aux_fn):\n",
    "    \"\"\"Create a content containing the result of the function call\"\"\"\n",
    "    content = dict()\n",
    "    content.update(fn_args(res))\n",
    "    content.update({fn_name(res): fn_exec(res, aux_fn)})\n",
    "    return json.dumps(content)"
   ]
  },
  {
   "cell_type": "code",
   "execution_count": null,
   "id": "fbcd5a20-6446-4f59-b4b7-1bed1497d8fd",
   "metadata": {},
   "outputs": [],
   "source": [
    "#| export\n",
    "def complete(messages, role, content, tools, tool_call_id=None, aux_fn=None):\n",
    "    \"Send completion request with messages, and save the response in messages again\"\n",
    "    messages.append({\"role\":role, \"content\":content, \"tool_call_id\":tool_call_id})\n",
    "    response = openai.chat.completions.create(model=\"gpt-4o\", messages=messages, tools=tools)\n",
    "    res = response.choices[0].message\n",
    "    messages.append(res.to_dict())\n",
    "    if res.to_dict().get('tool_calls'):\n",
    "        complete(messages, role=\"tool\", content=fn_result_content(res, aux_fn), tools=tools, tool_call_id=res.tool_calls[0].id, aux_fn=aux_fn)\n",
    "    return messages[-1]['role'], messages[-1]['content']"
   ]
  },
  {
   "cell_type": "code",
   "execution_count": null,
   "id": "eb1bd6eb-6ad5-44c9-a18b-b54691347647",
   "metadata": {},
   "outputs": [],
   "source": [
    "#| eval: false\n",
    "complete(\"user\", \"Hi, can you capture YouTube Live?\")"
   ]
  },
  {
   "cell_type": "code",
   "execution_count": null,
   "id": "8be938e8-1419-4e40-8ad1-35e540358d8c",
   "metadata": {},
   "outputs": [],
   "source": [
    "#| eval: false\n",
    "complete(\"user\", \"Yes, please!\")"
   ]
  },
  {
   "cell_type": "code",
   "execution_count": null,
   "id": "2f58159d-748b-4a58-9ba1-87fe8da53bbc",
   "metadata": {},
   "outputs": [],
   "source": [
    "#| eval: false\n",
    "complete(\"user\", \"Where is it located?\")"
   ]
  },
  {
   "cell_type": "code",
   "execution_count": null,
   "id": "99951126-6d6f-4a15-8959-981b454afcf1",
   "metadata": {},
   "outputs": [],
   "source": [
    "#| eval: false\n",
    "complete(\"user\", \"can you read that file?\") # FIXME"
   ]
  },
  {
   "cell_type": "code",
   "execution_count": null,
   "id": "afd15a93-6e6f-44c1-8584-45354e741a3f",
   "metadata": {},
   "outputs": [],
   "source": [
    "#| hide\n",
    "import nbdev; nbdev.nbdev_export()"
   ]
  }
 ],
 "metadata": {
  "kernelspec": {
   "display_name": "Python 3 (ipykernel)",
   "language": "python",
   "name": "python3"
  },
  "language_info": {
   "codemirror_mode": {
    "name": "ipython",
    "version": 3
   },
   "file_extension": ".py",
   "mimetype": "text/x-python",
   "name": "python",
   "nbconvert_exporter": "python",
   "pygments_lexer": "ipython3",
   "version": "3.12.4"
  }
 },
 "nbformat": 4,
 "nbformat_minor": 5
}
