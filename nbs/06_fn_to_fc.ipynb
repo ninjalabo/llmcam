{
 "cells": [
  {
   "cell_type": "markdown",
   "id": "6f66ce1c-7715-4f29-b00e-0beb48ac372a",
   "metadata": {},
   "source": [
    "# Fn to FC\n",
    "> python module to convert a given Fn into FC automatically"
   ]
  },
  {
   "cell_type": "code",
   "execution_count": 1,
   "id": "9750839c-7930-4ec2-be7d-51da8203bab0",
   "metadata": {},
   "outputs": [],
   "source": [
    "#| default_exp fn_to_fc"
   ]
  },
  {
   "cell_type": "code",
   "execution_count": null,
   "id": "cc649b44-af36-4efb-8dbb-4cc1cae452ae",
   "metadata": {},
   "outputs": [],
   "source": [
    "#| hide\n",
    "from nbdev.showdoc import *"
   ]
  },
  {
   "cell_type": "code",
   "execution_count": null,
   "id": "941131be-2317-44f2-bbad-7692762d848a",
   "metadata": {},
   "outputs": [],
   "source": [
    "#| export\n",
    "# Importing openai and our custom functions\n",
    "import openai\n",
    "import json\n",
    "import ast\n",
    "import inspect\n",
    "\n",
    "from typing import Optional, Union, Callable, Literal,  Tuple\n",
    "from types import NoneType\n",
    "from llmcam.ytlive import capture_youtube_live_frame\n",
    "from llmcam.gpt4v import ask_gpt4v"
   ]
  },
  {
   "cell_type": "markdown",
   "id": "2e542ee4",
   "metadata": {},
   "source": [
    "## Example functions"
   ]
  },
  {
   "cell_type": "markdown",
   "id": "4800b514",
   "metadata": {},
   "source": [
    "For our first MVP, response generation mostly concern with GPT models answering generic questions and using a single tool for capturing and extracting information from a Youtube Livestream."
   ]
  },
  {
   "cell_type": "code",
   "execution_count": null,
   "id": "74bea3ea-b30f-49a4-932a-4e7091566cc5",
   "metadata": {},
   "outputs": [],
   "source": [
    "import glob\n",
    "from llmcam.ytlive import capture_youtube_live_frame\n",
    "from llmcam.gpt4v import ask_gpt4v"
   ]
  },
  {
   "cell_type": "code",
   "execution_count": null,
   "id": "cab2a0ff-df66-4fe2-915a-d5641ad17f35",
   "metadata": {},
   "outputs": [],
   "source": [
    "#| export\n",
    "def capture_youtube_live_frame_and_save(\n",
    "        link: Optional[str] = None,  # YouTube Live link\n",
    "    ) -> str:  # Path to the saved image\n",
    "    \"\"\"Capture a jpeg file from YouTube Live and save in data directory\"\"\"\n",
    "    if link is not None:\n",
    "        return str(capture_youtube_live_frame(link))\n",
    "    return str(capture_youtube_live_frame())"
   ]
  },
  {
   "cell_type": "code",
   "execution_count": null,
   "id": "4e073103",
   "metadata": {},
   "outputs": [
    {
     "data": {
      "text/markdown": [
       "---\n",
       "\n",
       "[source](https://github.com/ninjalabo/llmcam/blob/main/llmcam/fn_to_fc.py#L23){target=\"_blank\" style=\"float:right; font-size:smaller\"}\n",
       "\n",
       "### capture_youtube_live_frame_and_save\n",
       "\n",
       ">      capture_youtube_live_frame_and_save (link:Optional[str]=None)\n",
       "\n",
       "*Capture a jpeg file from YouTube Live and save in data directory*\n",
       "\n",
       "|    | **Type** | **Default** | **Details** |\n",
       "| -- | -------- | ----------- | ----------- |\n",
       "| link | Optional | None | YouTube Live link |\n",
       "| **Returns** | **str** |  | **Path to the saved image** |"
      ],
      "text/plain": [
       "---\n",
       "\n",
       "[source](https://github.com/ninjalabo/llmcam/blob/main/llmcam/fn_to_fc.py#L23){target=\"_blank\" style=\"float:right; font-size:smaller\"}\n",
       "\n",
       "### capture_youtube_live_frame_and_save\n",
       "\n",
       ">      capture_youtube_live_frame_and_save (link:Optional[str]=None)\n",
       "\n",
       "*Capture a jpeg file from YouTube Live and save in data directory*\n",
       "\n",
       "|    | **Type** | **Default** | **Details** |\n",
       "| -- | -------- | ----------- | ----------- |\n",
       "| link | Optional | None | YouTube Live link |\n",
       "| **Returns** | **str** |  | **Path to the saved image** |"
      ]
     },
     "execution_count": null,
     "metadata": {},
     "output_type": "execute_result"
    }
   ],
   "source": [
    "show_doc(capture_youtube_live_frame_and_save)"
   ]
  },
  {
   "cell_type": "code",
   "execution_count": null,
   "id": "811a2383-7329-4a30-a344-d6cac4006ec7",
   "metadata": {},
   "outputs": [],
   "source": [
    "#| export\n",
    "def ask_gpt4v_about_image_file(\n",
    "        path:str  # Path to the image file\n",
    "    ) -> str:  # JSON string with quantitative information\n",
    "    \"\"\"Tell all about quantitative information from a given image file\"\"\"\n",
    "    info = ask_gpt4v(path)\n",
    "    return json.dumps(info)"
   ]
  },
  {
   "cell_type": "code",
   "execution_count": null,
   "id": "43396fa3",
   "metadata": {},
   "outputs": [
    {
     "data": {
      "text/markdown": [
       "---\n",
       "\n",
       "[source](https://github.com/ninjalabo/llmcam/blob/main/llmcam/fn_to_fc.py#L32){target=\"_blank\" style=\"float:right; font-size:smaller\"}\n",
       "\n",
       "### ask_gpt4v_about_image_file\n",
       "\n",
       ">      ask_gpt4v_about_image_file (path:str)\n",
       "\n",
       "*Tell all about quantitative information from a given image file*\n",
       "\n",
       "|    | **Type** | **Details** |\n",
       "| -- | -------- | ----------- |\n",
       "| path | str | Path to the image file |\n",
       "| **Returns** | **str** | **JSON string with quantitative information** |"
      ],
      "text/plain": [
       "---\n",
       "\n",
       "[source](https://github.com/ninjalabo/llmcam/blob/main/llmcam/fn_to_fc.py#L32){target=\"_blank\" style=\"float:right; font-size:smaller\"}\n",
       "\n",
       "### ask_gpt4v_about_image_file\n",
       "\n",
       ">      ask_gpt4v_about_image_file (path:str)\n",
       "\n",
       "*Tell all about quantitative information from a given image file*\n",
       "\n",
       "|    | **Type** | **Details** |\n",
       "| -- | -------- | ----------- |\n",
       "| path | str | Path to the image file |\n",
       "| **Returns** | **str** | **JSON string with quantitative information** |"
      ]
     },
     "execution_count": null,
     "metadata": {},
     "output_type": "execute_result"
    }
   ],
   "source": [
    "show_doc(ask_gpt4v_about_image_file)"
   ]
  },
  {
   "cell_type": "markdown",
   "id": "706ce96c",
   "metadata": {},
   "source": [
    "## Utilities for GPT Function calling\n",
    "\n",
    "We can use dynamic utilities functions to integrate this to GPT Function calling:  \n",
    "\n",
    "- Parmater descriptions: extract parameter descriptions from a funcion\n",
    "- Parameter converter: convert Python parameter types into schema accepted formats\n",
    "- Schema generator: extract function information into tool schema to bet set for GPT\n",
    "- Function execution: execute function dynamically based on function names and input arguments"
   ]
  },
  {
   "cell_type": "markdown",
   "id": "5c672c7e",
   "metadata": {},
   "source": [
    "### 1. Extractor for parameter descriptions"
   ]
  },
  {
   "cell_type": "code",
   "execution_count": null,
   "id": "2deba541",
   "metadata": {},
   "outputs": [],
   "source": [
    "#| export\n",
    "# Extract parameter comments from the function\n",
    "def extract_parameter_comments(\n",
    "        func: Callable  # Function to extract comments from\n",
    "    ) -> dict[str, str]:  # Dictionary with parameter comments\n",
    "    \"\"\"Extract comments for function arguments\"\"\"\n",
    "    # Get the source code of the function\n",
    "    source = inspect.getsource(func)\n",
    "    # Parse the source code into an AST\n",
    "    tree = ast.parse(source)\n",
    "    \n",
    "    # Extract comments for function arguments\n",
    "    comments = {}\n",
    "    for node in ast.walk(tree):\n",
    "        if isinstance(node, ast.FunctionDef) and node.name == func.__name__:\n",
    "            # Get arguments and comments in the function\n",
    "            for arg in node.args.args:\n",
    "                arg_name = arg.arg\n",
    "                # Check if there's an inline comment associated with the argument\n",
    "                if arg.end_lineno and arg.col_offset:\n",
    "                    # Loop through the source code lines to find the comment\n",
    "                    lines = source.splitlines()\n",
    "                    for line in lines:\n",
    "                        if line.strip().startswith(f\"{arg_name}:\") and \"#\" in line:\n",
    "                            comment = line.split(\"#\")[1].strip()\n",
    "                            comments[arg_name] = comment\n",
    "    return comments"
   ]
  },
  {
   "cell_type": "code",
   "execution_count": null,
   "id": "33b2c975",
   "metadata": {},
   "outputs": [
    {
     "data": {
      "text/markdown": [
       "---\n",
       "\n",
       "[source](https://github.com/ninjalabo/llmcam/blob/main/llmcam/fn_to_fc.py#L41){target=\"_blank\" style=\"float:right; font-size:smaller\"}\n",
       "\n",
       "### extract_parameter_comments\n",
       "\n",
       ">      extract_parameter_comments (func:Callable)\n",
       "\n",
       "*Extract comments for function arguments*\n",
       "\n",
       "|    | **Type** | **Details** |\n",
       "| -- | -------- | ----------- |\n",
       "| func | Callable | Function to extract comments from |\n",
       "| **Returns** | **dict** | **Dictionary with parameter comments** |"
      ],
      "text/plain": [
       "---\n",
       "\n",
       "[source](https://github.com/ninjalabo/llmcam/blob/main/llmcam/fn_to_fc.py#L41){target=\"_blank\" style=\"float:right; font-size:smaller\"}\n",
       "\n",
       "### extract_parameter_comments\n",
       "\n",
       ">      extract_parameter_comments (func:Callable)\n",
       "\n",
       "*Extract comments for function arguments*\n",
       "\n",
       "|    | **Type** | **Details** |\n",
       "| -- | -------- | ----------- |\n",
       "| func | Callable | Function to extract comments from |\n",
       "| **Returns** | **dict** | **Dictionary with parameter comments** |"
      ]
     },
     "execution_count": null,
     "metadata": {},
     "output_type": "execute_result"
    }
   ],
   "source": [
    "show_doc(extract_parameter_comments)"
   ]
  },
  {
   "cell_type": "markdown",
   "id": "d5d91533",
   "metadata": {},
   "source": [
    "Test usage with example functions:"
   ]
  },
  {
   "cell_type": "code",
   "execution_count": null,
   "id": "9fa07957",
   "metadata": {},
   "outputs": [
    {
     "name": "stdout",
     "output_type": "stream",
     "text": [
      "Parameters of capture Youtube Live frame function: {'link': 'YouTube Live link'}\n",
      "Parameters of ask GPT4V about image file function: {'path': 'Path to the image file'}\n"
     ]
    }
   ],
   "source": [
    "print(f\"Parameters of capture Youtube Live frame function: \\\n",
    "{extract_parameter_comments(capture_youtube_live_frame_and_save)}\")\n",
    "print(f\"Parameters of ask GPT4V about image file function: \\\n",
    "{extract_parameter_comments(ask_gpt4v_about_image_file)}\")"
   ]
  },
  {
   "cell_type": "code",
   "execution_count": null,
   "id": "a5092058",
   "metadata": {},
   "outputs": [],
   "source": [
    "#| hide\n",
    "# Test the functions\n",
    "assert extract_parameter_comments(capture_youtube_live_frame_and_save) == {'link': 'YouTube Live link'}\n",
    "assert extract_parameter_comments(ask_gpt4v_about_image_file) == {'path': 'Path to the image file'}"
   ]
  },
  {
   "cell_type": "markdown",
   "id": "3a4e5a82",
   "metadata": {},
   "source": [
    "### 2. Converter for Python parameter types to acceptable tool schema"
   ]
  },
  {
   "cell_type": "code",
   "execution_count": null,
   "id": "84c0e431",
   "metadata": {},
   "outputs": [],
   "source": [
    "#| export\n",
    "def param_converter(\n",
    "        param_type,  # The type of the parameter\n",
    "        description  # The description of the parameter\n",
    "    ) -> dict:  # The converted parameter\n",
    "    \"\"\"Convert Python parameter types to acceptable types for tool schema\"\"\"\n",
    "    simple_types = {\n",
    "        str: \"string\",\n",
    "        int: \"number\",\n",
    "        float: \"number\",\n",
    "        bool: \"boolean\",\n",
    "    }\n",
    "    if param_type in simple_types:\n",
    "        return { \"type\": simple_types[param_type], \"description\": description }\n",
    "    elif param_type == NoneType:\n",
    "        return { \"type\": \"null\", \"description\": \"A default value will be automatically used.\" }\n",
    "    \n",
    "    if hasattr(param_type, '__origin__') and param_type.__origin__ == Union:\n",
    "        # Recursively convert the types\n",
    "        descriptions = description.split(\" or \")\n",
    "        subtypes = param_type.__args__\n",
    "        if len(subtypes) > len(descriptions):\n",
    "            descriptions = descriptions + [\"A description is not provided\"] * (len(subtypes) - len(descriptions))\n",
    "\n",
    "        return {\n",
    "            \"anyOf\": [param_converter(subtype, desc) for subtype, desc in zip(subtypes, descriptions)]\n",
    "        }\n",
    "    return { \"type\": \"string\", \"description\": description }"
   ]
  },
  {
   "cell_type": "markdown",
   "id": "48ac0a52",
   "metadata": {},
   "source": [
    "Test usage with a more complicated data type `Optional[str]`:"
   ]
  },
  {
   "cell_type": "code",
   "execution_count": null,
   "id": "990bd8d0",
   "metadata": {},
   "outputs": [
    {
     "name": "stdout",
     "output_type": "stream",
     "text": [
      "{\n",
      "  \"anyOf\": [\n",
      "    {\n",
      "      \"type\": \"string\",\n",
      "      \"description\": \"YouTube Live link\"\n",
      "    },\n",
      "    {\n",
      "      \"type\": \"null\",\n",
      "      \"description\": \"A default value will be automatically used.\"\n",
      "    }\n",
      "  ]\n",
      "}\n"
     ]
    }
   ],
   "source": [
    "param_schema = param_converter(Optional[str], \"YouTube Live link\")\n",
    "print(json.dumps(param_schema, indent=2))"
   ]
  },
  {
   "cell_type": "code",
   "execution_count": null,
   "id": "bb610c87",
   "metadata": {},
   "outputs": [],
   "source": [
    "#| hide\n",
    "# Test the function\n",
    "assert param_schema == { \"anyOf\": [\n",
    "        {\n",
    "            \"type\": \"string\",\n",
    "            \"description\": \"YouTube Live link\"\n",
    "        },\n",
    "        {\n",
    "            \"type\": \"null\",\n",
    "            \"description\": \"A default value will be automatically used.\"\n",
    "        }\n",
    "    ]\n",
    "}"
   ]
  },
  {
   "cell_type": "markdown",
   "id": "2063218c",
   "metadata": {},
   "source": [
    "### 3. Tool schema"
   ]
  },
  {
   "cell_type": "code",
   "execution_count": null,
   "id": "1cc90e44-8922-42b9-81c1-02da57ce4489",
   "metadata": {},
   "outputs": [],
   "source": [
    "#| export\n",
    "def tool_schema(\n",
    "        func: Callable  # The function to generate the schema for\n",
    "    ) -> dict:  # The generated tool schema\n",
    "    \"\"\"Automatically generate a schema from its parameters and docstring\"\"\"\n",
    "    # Extract function name, docstring, and parameters\n",
    "    func_name = func.__name__\n",
    "    func_description = func.__doc__ or \"No description provided.\"\n",
    "    signature = inspect.signature(func)\n",
    "    \n",
    "    # Create parameters schema\n",
    "    parameters_schema = {\n",
    "        \"type\": \"object\",\n",
    "        \"properties\": {},\n",
    "        \"required\": []\n",
    "    }\n",
    "    \n",
    "    # Populate properties and required fields\n",
    "    param_comments = extract_parameter_comments(func)\n",
    "    for param_name, param in signature.parameters.items():\n",
    "        param_type = param.annotation if param.annotation != inspect._empty else str\n",
    "        \n",
    "        # Add parameter to schema\n",
    "        parameters_schema[\"properties\"][param_name] = param_converter(\n",
    "            param_type, \n",
    "            param_comments.get(param_name, \"No description provided.\")\n",
    "        )\n",
    "        \n",
    "        # Mark as required if no default\n",
    "        if param.default == inspect.Parameter.empty:\n",
    "            parameters_schema[\"required\"].append(param_name)\n",
    "    \n",
    "    # Build final tool schema\n",
    "    tool_schema = {\n",
    "        \"type\": \"function\",\n",
    "        \"function\": {\n",
    "            \"name\": func_name,\n",
    "            \"description\": func_description,\n",
    "            \"parameters\": parameters_schema,\n",
    "        }\n",
    "    }\n",
    "    \n",
    "    return tool_schema"
   ]
  },
  {
   "cell_type": "code",
   "execution_count": null,
   "id": "2bf7f023",
   "metadata": {},
   "outputs": [
    {
     "data": {
      "text/markdown": [
       "---\n",
       "\n",
       "[source](https://github.com/ninjalabo/llmcam/blob/main/llmcam/fn_to_fc.py#L97){target=\"_blank\" style=\"float:right; font-size:smaller\"}\n",
       "\n",
       "### tool_schema\n",
       "\n",
       ">      tool_schema (func:Callable)\n",
       "\n",
       "*Automatically generate a schema from its parameters and docstring*\n",
       "\n",
       "|    | **Type** | **Details** |\n",
       "| -- | -------- | ----------- |\n",
       "| func | Callable | The function to generate the schema for |\n",
       "| **Returns** | **dict** | **The generated tool schema** |"
      ],
      "text/plain": [
       "---\n",
       "\n",
       "[source](https://github.com/ninjalabo/llmcam/blob/main/llmcam/fn_to_fc.py#L97){target=\"_blank\" style=\"float:right; font-size:smaller\"}\n",
       "\n",
       "### tool_schema\n",
       "\n",
       ">      tool_schema (func:Callable)\n",
       "\n",
       "*Automatically generate a schema from its parameters and docstring*\n",
       "\n",
       "|    | **Type** | **Details** |\n",
       "| -- | -------- | ----------- |\n",
       "| func | Callable | The function to generate the schema for |\n",
       "| **Returns** | **dict** | **The generated tool schema** |"
      ]
     },
     "execution_count": null,
     "metadata": {},
     "output_type": "execute_result"
    }
   ],
   "source": [
    "show_doc(tool_schema)"
   ]
  },
  {
   "cell_type": "code",
   "execution_count": null,
   "id": "8ba52a6f-f35e-4818-86a7-6f8b157af9d0",
   "metadata": {},
   "outputs": [],
   "source": [
    "#| export\n",
    "# Environmental setting up\n",
    "YTLiveTools = [tool_schema(fn) for fn in (capture_youtube_live_frame_and_save, ask_gpt4v_about_image_file)]"
   ]
  },
  {
   "cell_type": "code",
   "execution_count": null,
   "id": "f0095ad6",
   "metadata": {},
   "outputs": [
    {
     "name": "stdout",
     "output_type": "stream",
     "text": [
      "[\n",
      "  {\n",
      "    \"type\": \"function\",\n",
      "    \"function\": {\n",
      "      \"name\": \"capture_youtube_live_frame_and_save\",\n",
      "      \"description\": \"Capture a jpeg file from YouTube Live and save in data directory\",\n",
      "      \"parameters\": {\n",
      "        \"type\": \"object\",\n",
      "        \"properties\": {\n",
      "          \"link\": {\n",
      "            \"anyOf\": [\n",
      "              {\n",
      "                \"type\": \"string\",\n",
      "                \"description\": \"YouTube Live link\"\n",
      "              },\n",
      "              {\n",
      "                \"type\": \"null\",\n",
      "                \"description\": \"A default value will be automatically used.\"\n",
      "              }\n",
      "            ]\n",
      "          }\n",
      "        },\n",
      "        \"required\": []\n",
      "      }\n",
      "    }\n",
      "  },\n",
      "  {\n",
      "    \"type\": \"function\",\n",
      "    \"function\": {\n",
      "      \"name\": \"ask_gpt4v_about_image_file\",\n",
      "      \"description\": \"Tell all about quantitative information from a given image file\",\n",
      "      \"parameters\": {\n",
      "        \"type\": \"object\",\n",
      "        \"properties\": {\n",
      "          \"path\": {\n",
      "            \"type\": \"string\",\n",
      "            \"description\": \"Path to the image file\"\n",
      "          }\n",
      "        },\n",
      "        \"required\": [\n",
      "          \"path\"\n",
      "        ]\n",
      "      }\n",
      "    }\n",
      "  }\n",
      "]\n"
     ]
    }
   ],
   "source": [
    "#| echo: false\n",
    "print(json.dumps(YTLiveTools, indent=2))"
   ]
  },
  {
   "cell_type": "code",
   "execution_count": null,
   "id": "7ec24d30",
   "metadata": {},
   "outputs": [],
   "source": [
    "#| hide\n",
    "# Test the function\n",
    "# Check the schema of the first tool\n",
    "assert YTLiveTools[0][\"function\"][\"name\"] == \"capture_youtube_live_frame_and_save\"\n",
    "assert YTLiveTools[0][\"function\"][\"description\"] == \"Capture a jpeg file from YouTube Live and save in data directory\"\n",
    "assert YTLiveTools[0][\"function\"][\"parameters\"][\"properties\"][\"link\"] == {\n",
    "    \"anyOf\": [\n",
    "        {\n",
    "            \"type\": \"string\",\n",
    "            \"description\": \"YouTube Live link\"\n",
    "        },\n",
    "        {\n",
    "            \"type\": \"null\",\n",
    "            \"description\": \"A default value will be automatically used.\"\n",
    "        }\n",
    "    ]\n",
    "}\n",
    "\n",
    "# Check the schema of the second tool\n",
    "assert YTLiveTools[1][\"function\"][\"name\"] == \"ask_gpt4v_about_image_file\"\n",
    "assert YTLiveTools[1][\"function\"][\"description\"] == \"Tell all about quantitative information from a given image file\"\n",
    "assert YTLiveTools[1][\"function\"][\"parameters\"][\"properties\"][\"path\"] == {\n",
    "    \"type\": \"string\",\n",
    "    \"description\": \"Path to the image file\"\n",
    "}\n",
    "assert YTLiveTools[1][\"function\"][\"parameters\"][\"required\"] == [\"path\"]"
   ]
  },
  {
   "cell_type": "markdown",
   "id": "02bb850f",
   "metadata": {},
   "source": [
    "### 4. Excecution functions"
   ]
  },
  {
   "cell_type": "code",
   "execution_count": null,
   "id": "95b1c234-4cb1-49b7-8a6a-e04051af9ae9",
   "metadata": {},
   "outputs": [],
   "source": [
    "#| export\n",
    "# Support functions to handle tool response,where res == response.choices[0].message\n",
    "def fn_name(res): return res.tool_calls[0].function.name\n",
    "def fn_args(res): return json.loads(res.tool_calls[0].function.arguments)    \n",
    "def fn_exec(res, aux_fn):\n",
    "    fn = globals().get(fn_name(res))\n",
    "    if fn: return fn(**fn_args(res))\n",
    "    aux_fn(fn_name(res), **fn_args(res))\n",
    "    \n",
    "def fn_result_content(res, aux_fn):\n",
    "    \"\"\"Create a content containing the result of the function call\"\"\"\n",
    "    content = dict()\n",
    "    content.update(fn_args(res))\n",
    "    content.update({fn_name(res): fn_exec(res, aux_fn)})\n",
    "    return json.dumps(content)"
   ]
  },
  {
   "cell_type": "code",
   "execution_count": null,
   "id": "cad1a713",
   "metadata": {},
   "outputs": [],
   "source": [
    "\n",
    "#| export\n",
    "def complete(\n",
    "        messages: list[dict],  # The list of messages\n",
    "        role: Literal[\"system\", \"user\", \"assistant\", \"tool\"],  # The role of the message sender\n",
    "        content: str,  # The content of the message\n",
    "        tools: list[dict],  # The list of tools\n",
    "        tool_call_id: Optional[str] = None,  # The ID of the tool call\n",
    "        aux_fn: Optional[Callable] = None  # The auxiliary function to handle tool response\n",
    "    ) -> Tuple[str, str]:  # The role and content of the last message\n",
    "    \"\"\"Complete the conversation with the given message\"\"\"\n",
    "    # Append the message to the list\n",
    "    messages.append({\"role\":role, \"content\":content, \"tool_call_id\":tool_call_id})\n",
    "\n",
    "    # Generate the response from GPT-4o\n",
    "    response = openai.chat.completions.create(model=\"gpt-4o\", messages=messages, tools=tools)\n",
    "    res = response.choices[0].message\n",
    "    messages.append(res.to_dict())\n",
    "\n",
    "    # Handle the tool response\n",
    "    if res.to_dict().get('tool_calls'):\n",
    "        complete(\n",
    "            messages, \n",
    "            role=\"tool\", \n",
    "            content=fn_result_content(res, aux_fn), \n",
    "            tools=tools, \n",
    "            tool_call_id=res.tool_calls[0].id, \n",
    "            aux_fn=aux_fn\n",
    "        )\n",
    "\n",
    "    # Return the last message\n",
    "    return messages[-1]['role'], messages[-1]['content']"
   ]
  },
  {
   "cell_type": "code",
   "execution_count": null,
   "id": "6ce2c7ac",
   "metadata": {},
   "outputs": [
    {
     "data": {
      "text/markdown": [
       "---\n",
       "\n",
       "### complete\n",
       "\n",
       ">      complete (messages:list[dict],\n",
       ">                role:Literal['system','user','assistant','tool'], content:str,\n",
       ">                tools:list[dict], tool_call_id:Optional[str]=None,\n",
       ">                aux_fn:Optional[Callable]=None)\n",
       "\n",
       "*Complete the conversation with the given message*\n",
       "\n",
       "|    | **Type** | **Default** | **Details** |\n",
       "| -- | -------- | ----------- | ----------- |\n",
       "| messages | list |  | The list of messages |\n",
       "| role | Literal |  | The role of the message sender |\n",
       "| content | str |  | The content of the message |\n",
       "| tools | list |  | The list of tools |\n",
       "| tool_call_id | Optional | None | The ID of the tool call |\n",
       "| aux_fn | Optional | None | The auxiliary function to handle tool response |\n",
       "| **Returns** | **Tuple** |  | **The role and content of the last message** |"
      ],
      "text/plain": [
       "---\n",
       "\n",
       "### complete\n",
       "\n",
       ">      complete (messages:list[dict],\n",
       ">                role:Literal['system','user','assistant','tool'], content:str,\n",
       ">                tools:list[dict], tool_call_id:Optional[str]=None,\n",
       ">                aux_fn:Optional[Callable]=None)\n",
       "\n",
       "*Complete the conversation with the given message*\n",
       "\n",
       "|    | **Type** | **Default** | **Details** |\n",
       "| -- | -------- | ----------- | ----------- |\n",
       "| messages | list |  | The list of messages |\n",
       "| role | Literal |  | The role of the message sender |\n",
       "| content | str |  | The content of the message |\n",
       "| tools | list |  | The list of tools |\n",
       "| tool_call_id | Optional | None | The ID of the tool call |\n",
       "| aux_fn | Optional | None | The auxiliary function to handle tool response |\n",
       "| **Returns** | **Tuple** |  | **The role and content of the last message** |"
      ]
     },
     "execution_count": null,
     "metadata": {},
     "output_type": "execute_result"
    }
   ],
   "source": [
    "show_doc(complete)"
   ]
  },
  {
   "cell_type": "markdown",
   "id": "127cf2ae",
   "metadata": {},
   "source": [
    "Test with our existing toolbox:"
   ]
  },
  {
   "cell_type": "code",
   "execution_count": null,
   "id": "18c54a2b",
   "metadata": {},
   "outputs": [
    {
     "name": "stdout",
     "output_type": "stream",
     "text": [
      ">> System:\n",
      "You are a helpful system administrator. Use the supplied tools to assist the user.\n",
      ">> User:\n",
      "Hi, can you capture YouTube Live?\n",
      ">> Assistant:\n",
      "Yes, I can capture a frame from a YouTube Live stream. If you provide the link to the YouTube Live\n",
      "stream, I can proceed with capturing a frame for you.\n"
     ]
    }
   ],
   "source": [
    "#| eval: false\n",
    "import textwrap\n",
    "\n",
    "# Test the function\n",
    "messages = [\n",
    "    {\n",
    "        \"role\":\"system\", \n",
    "        \"content\":\"You are a helpful system administrator. Use the supplied tools to assist the user.\"    \n",
    "    }\n",
    "]\n",
    "complete(messages, \"user\", \"Hi, can you capture YouTube Live?\", YTLiveTools)\n",
    "for message in messages:\n",
    "    print(f\">> {message['role'].capitalize()}:\")\n",
    "    print(textwrap.fill(message[\"content\"], 100))"
   ]
  },
  {
   "cell_type": "markdown",
   "id": "b38a35dd",
   "metadata": {},
   "source": [
    "Let's try to continue this conversation:"
   ]
  },
  {
   "cell_type": "code",
   "execution_count": null,
   "id": "fcd1a7eb",
   "metadata": {},
   "outputs": [
    {
     "name": "stdout",
     "output_type": "stream",
     "text": [
      "[youtube] Extracting URL: https://www.youtube.com/watch?v=LMZQ7eFhm58\n",
      "[youtube] LMZQ7eFhm58: Downloading webpage\n",
      "[youtube] LMZQ7eFhm58: Downloading ios player API JSON\n",
      "[youtube] LMZQ7eFhm58: Downloading mweb player API JSON\n",
      "[youtube] LMZQ7eFhm58: Downloading m3u8 information\n",
      "[youtube] LMZQ7eFhm58: Downloading m3u8 information\n",
      ">> System:\n",
      "You are a helpful system administrator. Use the supplied tools to assist the user.\n",
      ">> User:\n",
      "Hi, can you capture YouTube Live?\n",
      ">> Assistant:\n",
      "Yes, I can capture a frame from a YouTube Live stream. If you provide the link to the YouTube Live\n",
      "stream, I can proceed with capturing a frame for you.\n",
      ">> User:\n",
      "You can use the default link.\n",
      ">> Assistant:\n",
      "{'content': None, 'refusal': None, 'role': 'assistant', 'tool_calls': [{'id': 'call_DgAHmkyn8hjCnFw1AmsOskX4', 'function': {'arguments': '{\"link\":null}', 'name': 'capture_youtube_live_frame_and_save'}, 'type': 'function'}]}\n",
      ">> Tool:\n",
      "{\"link\": null, \"capture_youtube_live_frame_and_save\":\n",
      "\"../data/fail_2024.11.08_23:10:26_nowhere.jpg\"}\n",
      ">> Assistant:\n",
      "I have captured a frame from the YouTube Live stream using the default link. The image has been\n",
      "saved as `../data/fail_2024.11.08_23:10:26_nowhere.jpg`.  Would you like me to analyze the image for\n",
      "any quantitative information?\n"
     ]
    }
   ],
   "source": [
    "#| eval: false\n",
    "complete(messages, \"user\", \"You can use the default link.\", YTLiveTools)\n",
    "for message in messages:\n",
    "    print(f\">> {message['role'].capitalize()}:\")\n",
    "    try:\n",
    "        print(textwrap.fill(message[\"content\"], 100))\n",
    "    except:\n",
    "        print(message)"
   ]
  },
  {
   "cell_type": "code",
   "execution_count": null,
   "id": "22fd30eb",
   "metadata": {},
   "outputs": [
    {
     "name": "stdout",
     "output_type": "stream",
     "text": [
      ">> System:\n",
      "You are a helpful system administrator. Use the supplied tools to assist the user.\n",
      ">> User:\n",
      "Hi, can you capture YouTube Live?\n",
      ">> Assistant:\n",
      "Yes, I can capture a frame from a YouTube Live stream. If you provide the link to the YouTube Live\n",
      "stream, I can proceed with capturing a frame for you.\n",
      ">> User:\n",
      "You can use the default link.\n",
      ">> Assistant:\n",
      "{'content': None, 'refusal': None, 'role': 'assistant', 'tool_calls': [{'id': 'call_DgAHmkyn8hjCnFw1AmsOskX4', 'function': {'arguments': '{\"link\":null}', 'name': 'capture_youtube_live_frame_and_save'}, 'type': 'function'}]}\n",
      ">> Tool:\n",
      "{\"link\": null, \"capture_youtube_live_frame_and_save\":\n",
      "\"../data/fail_2024.11.08_23:10:26_nowhere.jpg\"}\n",
      ">> Assistant:\n",
      "I have captured a frame from the YouTube Live stream using the default link. The image has been\n",
      "saved as `../data/fail_2024.11.08_23:10:26_nowhere.jpg`.  Would you like me to analyze the image for\n",
      "any quantitative information?\n",
      ">> User:\n",
      "Can you extract information from this file?\n",
      ">> Assistant:\n",
      "{'content': None, 'refusal': None, 'role': 'assistant', 'tool_calls': [{'id': 'call_5smEGLE9eovBSgkBjB10VIGU', 'function': {'arguments': '{\"path\":\"../data/fail_2024.11.08_23:10:26_nowhere.jpg\"}', 'name': 'ask_gpt4v_about_image_file'}, 'type': 'function'}]}\n",
      ">> Tool:\n",
      "{\"path\": \"../data/fail_2024.11.08_23:10:26_nowhere.jpg\", \"ask_gpt4v_about_image_file\":\n",
      "\"{\\\"timestamp\\\": \\\"2024-11-08T23:02:53\\\", \\\"location\\\": \\\"Presidentinlinna\\\", \\\"dimensions\\\":\n",
      "{\\\"width\\\": 1280, \\\"height\\\": 720}, \\\"buildings\\\": {\\\"number_of_buildings\\\": 4,\n",
      "\\\"building_height_range\\\": \\\"3-6 stories\\\"}, \\\"vehicles\\\": {\\\"number_of_vehicles\\\": 15, \\\"types\\\":\n",
      "[\\\"cars\\\"], \\\"number_of_available_parking_space\\\": 0}, \\\"waterbodies\\\": {\\\"visible\\\": true,\n",
      "\\\"type\\\": \\\"harbor\\\", \\\"number_of_boats\\\": 3}, \\\"street_lights\\\": {\\\"number_of_street_lights\\\": 30},\n",
      "\\\"people\\\": {\\\"approximate_number\\\": 8}, \\\"lighting\\\": {\\\"time_of_day\\\": \\\"night\\\",\n",
      "\\\"artificial_lighting\\\": \\\"prominent\\\"}, \\\"visibility\\\": {\\\"clear\\\": true}, \\\"sky\\\": {\\\"visible\\\":\n",
      "false, \\\"light_conditions\\\": \\\"dark\\\"}}\"}\n",
      ">> Assistant:\n",
      "Here's the information extracted from the image:  - **Timestamp:** 2024-11-08 at 23:02:53 -\n",
      "**Location:** Presidentinlinna (likely a location in Helsinki, Finland) - **Dimensions:** Width 1280\n",
      "pixels, Height 720 pixels  **Features in the Image:** - **Buildings:**   - Number of buildings: 4\n",
      "- Building height range: 3-6 stories - **Vehicles:**   - Number of vehicles: 15 (all cars)   -\n",
      "Number of available parking spaces: 0 - **Waterbodies:**   - Visible: Yes   - Type: Harbor   -\n",
      "Number of boats: 3 - **Street Lights:**   - Number of street lights: 30 - **People:**   -\n",
      "Approximate number: 8 - **Lighting:**   - Time of day: Night   - Artificial lighting: Prominent -\n",
      "**Visibility:**   - Clear visibility - **Sky:**   - Not visible, conditions are dark  If you need\n",
      "further analysis or details, feel free to ask!\n"
     ]
    }
   ],
   "source": [
    "#| eval: false\n",
    "complete(messages, \"user\", \"Can you extract information from this file?\", YTLiveTools)\n",
    "for message in messages:\n",
    "    print(f\">> {message['role'].capitalize()}:\")\n",
    "    try:\n",
    "        print(textwrap.fill(message[\"content\"], 100))\n",
    "    except:\n",
    "        print(message)"
   ]
  },
  {
   "cell_type": "code",
   "execution_count": null,
   "id": "afd15a93-6e6f-44c1-8584-45354e741a3f",
   "metadata": {},
   "outputs": [],
   "source": [
    "#| hide\n",
    "import nbdev; nbdev.nbdev_export()"
   ]
  }
 ],
 "metadata": {
  "kernelspec": {
   "display_name": "Python 3 (ipykernel)",
   "language": "python",
   "name": "python3"
  },
  "language_info": {
   "codemirror_mode": {
    "name": "ipython",
    "version": 3
   },
   "file_extension": ".py",
   "mimetype": "text/x-python",
   "name": "python",
   "nbconvert_exporter": "python",
   "pygments_lexer": "ipython3",
   "version": "3.12.4"
  }
 },
 "nbformat": 4,
 "nbformat_minor": 5
}
