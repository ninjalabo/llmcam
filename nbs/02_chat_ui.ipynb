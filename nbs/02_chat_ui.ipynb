{
 "cells": [
  {
   "cell_type": "markdown",
   "id": "36f0ff07-13fe-4ebe-970d-4848f7462e09",
   "metadata": {},
   "source": [
    "# chat UI in fastHTML\n",
    "> chat UI implemented in fastHTML\n",
    "\n",
    "You can start to implement fake chat log generator."
   ]
  },
  {
   "cell_type": "code",
   "execution_count": null,
   "id": "2b36b977-f531-4d05-af7a-1761ef5d2683",
   "metadata": {},
   "outputs": [],
   "source": [
    "#| default_exp chat_ui"
   ]
  },
  {
   "cell_type": "code",
   "execution_count": null,
   "id": "ddd185b2-ec84-46d1-8474-9038ee3eb232",
   "metadata": {},
   "outputs": [],
   "source": [
    "#| hide\n",
    "from nbdev.showdoc import *"
   ]
  },
  {
   "cell_type": "code",
   "execution_count": null,
   "id": "63636ca4",
   "metadata": {},
   "outputs": [],
   "source": [
    "from fasthtml.jupyter import *"
   ]
  },
  {
   "cell_type": "code",
   "execution_count": null,
   "id": "6714c4c8",
   "metadata": {},
   "outputs": [],
   "source": [
    "#| export\n",
    "from fasthtml.common import *"
   ]
  },
  {
   "cell_type": "code",
   "execution_count": null,
   "id": "2a5b1df9",
   "metadata": {},
   "outputs": [],
   "source": [
    "#| export\n",
    "# Set up the app, including daisyui and tailwind for the chat component\n",
    "hdrs = (picolink, Script(src=\"https://cdn.tailwindcss.com\"),\n",
    "        Link(rel=\"stylesheet\", href=\"https://cdn.jsdelivr.net/npm/daisyui@4.11.1/dist/full.min.css\"))\n",
    "app = FastHTML(hdrs=hdrs)"
   ]
  },
  {
   "cell_type": "markdown",
   "id": "d0211a31",
   "metadata": {},
   "source": [
    "## Chat components\n",
    "\n",
    "Basic chat UI components can include Chat Message and a Chat Input. For a Chat Message, the important attributes are the actual message (str) and the role of the message owner (user - boolean value whether the owner is the user, not the AI assistant)."
   ]
  },
  {
   "cell_type": "code",
   "execution_count": null,
   "id": "2a6c7f7a",
   "metadata": {},
   "outputs": [],
   "source": [
    "#| export\n",
    "# Chat message component (renders a chat bubble)\n",
    "def ChatMessage(msg, user):\n",
    "    paragraphs = msg.split(\"\\n\")\n",
    "    # Set class to change displayed style of bubble\n",
    "    bubble_class = \"chat-bubble-primary\" if user else 'chat-bubble-secondary'\n",
    "    chat_class = \"chat-end\" if user else 'chat-start'\n",
    "    return  Div(cls=f\"chat {chat_class}\")(\n",
    "                Div('User' if user else 'Assistant', cls=\"chat-header\"),\n",
    "                Div(\n",
    "                    *[P(p, style=f\"color: {'black' if user else 'white'};\") for p in paragraphs], \n",
    "                    cls=f\"chat-bubble {bubble_class}\", \n",
    "                    style=f\"background-color: {'#03fcad' if user else '#025238'};\"),\n",
    "                Hidden(msg, name=\"messages\"),  # Hidden field for submitting past messages to form\n",
    "                Hidden(\"user\" if user else \"assistant\", name=\"roles\")  # Hidden field for submitting corresponding owners\n",
    "            )"
   ]
  },
  {
   "cell_type": "markdown",
   "id": "8cc84d14",
   "metadata": {},
   "source": [
    "For the chat input, set the name for submitting a new message via form."
   ]
  },
  {
   "cell_type": "code",
   "execution_count": null,
   "id": "8b6bbd77",
   "metadata": {},
   "outputs": [],
   "source": [
    "#| export\n",
    "# The input field for the user message. Also used to clear the\n",
    "# input field after sending a message via an OOB swap\n",
    "def ChatInput():\n",
    "    return Input(name='msg', id='msg-input', placeholder=\"Type a message\",\n",
    "                 cls=\"input input-bordered w-full rounded-l-2xl bg-stone-800\", \n",
    "                 hx_swap_oob='true'  # Re-render the element to remove submitted message\n",
    "                )"
   ]
  },
  {
   "cell_type": "markdown",
   "id": "7986a51e",
   "metadata": {},
   "source": [
    "### Action Buttons\n",
    "\n",
    "Simple actions for creating a new message from the user side."
   ]
  },
  {
   "cell_type": "code",
   "execution_count": null,
   "id": "86cba3a3",
   "metadata": {},
   "outputs": [],
   "source": [
    "def ActionButton(content: str):\n",
    "    return Form(\n",
    "        hx_post=\"/\",\n",
    "        hx_target=\"#chatlist\",\n",
    "        hx_swap=\"beforeend\",  # Location: just before the end of element\n",
    "    )(\n",
    "        Hidden(content, name=\"msg\"),\n",
    "        Button(content, cls=\"btn btn-secondary\")\n",
    "    )\n",
    "\n",
    "def ActionPanel():\n",
    "    return Div(\n",
    "        ActionButton(\"Do something\"),\n",
    "        ActionButton(\"A different action\"),\n",
    "        cls=\"flex flex-row h-fit px-24 gap-4 pt-4\"\n",
    "    )"
   ]
  },
  {
   "cell_type": "markdown",
   "id": "174209ca",
   "metadata": {},
   "source": [
    "## Router"
   ]
  },
  {
   "cell_type": "markdown",
   "id": "c01b9a76",
   "metadata": {},
   "source": [
    "### Home page\n",
    "The home page should contain our message list and the Chat Input. The main page can be extracted by accessing the index (root) endpoint."
   ]
  },
  {
   "cell_type": "code",
   "execution_count": null,
   "id": "3371d10b",
   "metadata": {},
   "outputs": [],
   "source": [
    "#| export\n",
    "@app.get('/')\n",
    "def index():\n",
    "    sidebar = Div(\n",
    "        H1(\"Conversations\"),\n",
    "        cls=\"w-[30vw] bg-stone-800\"\n",
    "    )\n",
    "    page =  Div(cls=\"w-full flex flex-col p-0\")(\n",
    "        ActionPanel(),\n",
    "        Form(\n",
    "            hx_post=\"/\",  # Operation: some POST endpoint with function `send` \n",
    "            hx_target=\"#chatlist\",  # Target: element with ID 'chatlist'\n",
    "            hx_swap=\"beforeend\",  # Location: just before the end of element\n",
    "            cls=\"w-full flex flex-col px-24 h-[90vh]\"\n",
    "        )(\n",
    "            # The chat list\n",
    "            Div(id=\"chatlist\", cls=\"chat-box overflow-y-auto flex-1 w-full mt-10\")(\n",
    "                # One initial message from AI assistant\n",
    "                ChatMessage(\"Hello! I'm a chatbot. How can I help you today?\", False),\n",
    "            ),\n",
    "            # Input form\n",
    "            Div(cls=\"h-fit mb-5 mt-5 flex space-x-2 mt-2\")(\n",
    "                Group(\n",
    "                    ChatInput(), \n",
    "                    Button(\"Send\", cls=\"btn btn-primary rounded-r-2xl\", style=\"background-color: #03fcad;\"))\n",
    "            )\n",
    "        )   \n",
    "    )\n",
    "    return Main(\n",
    "        sidebar,\n",
    "        page, \n",
    "        data_theme=\"forest\", \n",
    "        cls=\"h-[100vh] w-full relative flex flex-row items-stretch overflow-hidden transition-colors z-0 p-0\",)"
   ]
  },
  {
   "cell_type": "markdown",
   "id": "32f987f6",
   "metadata": {},
   "source": [
    "### Form submission\n",
    "\n",
    "At submission, this function should:\n",
    "\n",
    "- Extract the new and all previous chat history  \n",
    "- Prompt & get answers from ChatGPT from all these messages  \n",
    "- Return a new ChatMessage"
   ]
  },
  {
   "cell_type": "code",
   "execution_count": null,
   "id": "74c803cb",
   "metadata": {},
   "outputs": [],
   "source": [
    "#| export\n",
    "\n",
    "# Handle the form submission\n",
    "@app.post('/')\n",
    "def send(msg: str, messages: list[str] = None, roles: list[str] = None):\n",
    "    if not messages: messages = []\n",
    "    if not roles: roles = []\n",
    "\n",
    "    # Format the prompt for ChatGPT\n",
    "    prompt = [ {\"role\": roles[i], \"content\": messages[i]} for i in range(len(messages)) ]\n",
    "    \n",
    "    # Add the user message to the prompt\n",
    "    prompt.append({\"role\": \"user\", \"content\": msg})\n",
    "    \n",
    "    # Get the response from ChatGPT\n",
    "    response = \"Response cannot be generated at the moment, please comeback later.\"\n",
    "    \n",
    "    return (ChatMessage(msg, True),    # The user's message\n",
    "            ChatMessage(response, False), # The chatbot's response\n",
    "            ChatInput()) # And clear the input field via an OOB swap"
   ]
  },
  {
   "cell_type": "code",
   "execution_count": null,
   "id": "e7a8309b",
   "metadata": {},
   "outputs": [],
   "source": [
    "#| eval: false\n",
    "#| hide\n",
    "#| export\n",
    "\n",
    "serve()"
   ]
  },
  {
   "cell_type": "code",
   "execution_count": null,
   "id": "4b67952f-5064-48ad-a0f5-a141be065b10",
   "metadata": {},
   "outputs": [],
   "source": [
    "#| hide\n",
    "import nbdev; nbdev.nbdev_export()"
   ]
  }
 ],
 "metadata": {
  "kernelspec": {
   "display_name": "python3",
   "language": "python",
   "name": "python3"
  }
 },
 "nbformat": 4,
 "nbformat_minor": 5
}
