{
 "cells": [
  {
   "cell_type": "markdown",
   "id": "03e9290e-e1c5-41b4-9c00-fe9b5b9608e7",
   "metadata": {},
   "source": [
    "# class -> OAS\n",
    "> Automatically generate OAS from python class implementation via OpenAI API\n",
    "https://chatgpt.com/share/67210fb1-539c-8002-b6ba-b17e72e0a8bf"
   ]
  },
  {
   "cell_type": "code",
   "execution_count": null,
   "id": "cadee33d-b816-4fac-b6dc-9f7ac260b6fe",
   "metadata": {},
   "outputs": [],
   "source": [
    "#| default_exp ninjalabo.llmcam.class_to_oas"
   ]
  },
  {
   "cell_type": "code",
   "execution_count": null,
   "id": "6778f3d4-739c-4c18-8453-9d8134cd6fab",
   "metadata": {},
   "outputs": [],
   "source": [
    "#| hide\n",
    "from nbdev.showdoc import *"
   ]
  },
  {
   "cell_type": "code",
   "execution_count": null,
   "id": "44fb0f2b-3447-4c06-9e50-b7d5aa24a7e3",
   "metadata": {},
   "outputs": [],
   "source": [
    "#|export\n",
    "import json\n",
    "from openai import OpenAI\n",
    "import yaml\n",
    "from openapi_spec_validator import validate_spec"
   ]
  },
  {
   "cell_type": "code",
   "execution_count": null,
   "id": "4df8e7a8-54bd-4dc1-b5fc-515bd0e22ba0",
   "metadata": {},
   "outputs": [],
   "source": [
    "class Item:\n",
    "    def __init__(self, name: str, price: float, quantity: int):\n",
    "        self.name = name\n",
    "        self.price = price\n",
    "        self.quantity = quantity\n",
    "\n",
    "    def get_total_price(self) -> float:\n",
    "        return self.price * self.quantity"
   ]
  },
  {
   "cell_type": "code",
   "execution_count": null,
   "id": "ed5b5d07-4997-4e5a-9cec-667d2f7d7c75",
   "metadata": {},
   "outputs": [
    {
     "data": {
      "text/plain": [
       "98.0"
      ]
     },
     "execution_count": null,
     "metadata": {},
     "output_type": "execute_result"
    }
   ],
   "source": [
    "item = Item(\"shoes\", 49.0, 2)\n",
    "item.get_total_price()"
   ]
  },
  {
   "cell_type": "code",
   "execution_count": null,
   "id": "fd68a42c-ec8c-4a1f-9737-2146163221a3",
   "metadata": {},
   "outputs": [],
   "source": [
    "#| export\n",
    "#| eval: false\n",
    "api = OpenAI()"
   ]
  },
  {
   "cell_type": "code",
   "execution_count": null,
   "id": "9e25f85c-6b2a-4904-be1e-6c7bbcfc74db",
   "metadata": {},
   "outputs": [],
   "source": [
    "#|export\n",
    "content = \"\"\"\n",
    "Given the following Python class, generate an OpenAPI 3.0 specification that defines endpoints\n",
    "for creating, updating, and retrieving instances of the class. Also, define the schema for the class in OpenAPI.\n",
    "Please return OpenAPI 3.0 specification yaml file only.\n",
    "\n",
    "Python Class:\n",
    "class Item:\n",
    "    def __init__(self, name: str, price: float, quantity: int):\n",
    "        self.name = name\n",
    "        self.price = price\n",
    "        self.quantity = quantity\n",
    "\n",
    "    def get_total_price(self) -> float:\n",
    "        return self.price * self.quantity\n",
    "        \"\"\""
   ]
  },
  {
   "cell_type": "code",
   "execution_count": null,
   "id": "45388f2b-f037-4c22-a5e3-5fd80b4e0cb8",
   "metadata": {},
   "outputs": [],
   "source": [
    "#| eval: false\n",
    "res = api.chat.completions.create(\n",
    "    model=\"gpt-4o\",\n",
    "    messages=[\n",
    "        {\"role\": \"system\", \"content\": \"You are an assistant that generates OpenAPI specs.\"},\n",
    "        {\"role\": \"user\", \"content\": content}\n",
    "    ]\n",
    ")\n",
    "\n",
    "res = json.loads(res.json())['choices'][0]['message']['content']\n",
    "res = res.replace(\"```yaml\", \"\").replace(\"```\", \"\").strip()"
   ]
  },
  {
   "cell_type": "code",
   "execution_count": null,
   "id": "c352465d-86f5-4e95-81c6-e63da4659337",
   "metadata": {},
   "outputs": [],
   "source": [
    "#print(res)"
   ]
  },
  {
   "cell_type": "code",
   "execution_count": null,
   "id": "70185afe-9b0b-41f6-bf0b-7315fc20cb8e",
   "metadata": {},
   "outputs": [],
   "source": [
    "# !pip install -qq pyyaml openapi-spec-validator"
   ]
  },
  {
   "cell_type": "code",
   "execution_count": null,
   "id": "460b0a33-6639-4273-9a64-ba1f4847f6a7",
   "metadata": {},
   "outputs": [],
   "source": [
    "def validate_yaml(yaml_buffer):\n",
    "    try:\n",
    "        yaml_content = yaml.safe_load(yaml_buffer)\n",
    "        print(\"YAML syntax is valid.\")\n",
    "        return yaml_content\n",
    "    except yaml.YAMLError as e:\n",
    "        print(\"YAML syntax error:\", e)\n",
    "        return None\n",
    "\n",
    "def validate_oas(yaml_content):\n",
    "    try:\n",
    "        validate_spec(yaml_content)\n",
    "        print(\"OpenAPI specification format is valid.\")\n",
    "    except Exception as e:\n",
    "        print(\"OpenAPI validation error:\", e)"
   ]
  },
  {
   "cell_type": "code",
   "execution_count": null,
   "id": "c2019432-155b-4ef4-a36c-0267b7b5148a",
   "metadata": {},
   "outputs": [
    {
     "name": "stdout",
     "output_type": "stream",
     "text": [
      "YAML syntax is valid.\n",
      "OpenAPI specification format is valid.\n"
     ]
    }
   ],
   "source": [
    "#| eval: false\n",
    "yaml_content = validate_yaml(res)\n",
    "if yaml_content:\n",
    "    validate_oas(yaml_content)"
   ]
  },
  {
   "cell_type": "code",
   "execution_count": null,
   "id": "d95bef3a-2134-4207-affb-37218b5f2fdc",
   "metadata": {},
   "outputs": [],
   "source": [
    "#| eval: false\n",
    "with open(\"oas.yaml\", \"w\") as f:\n",
    "    yaml.dump(yaml_content, f)"
   ]
  },
  {
   "cell_type": "code",
   "execution_count": null,
   "id": "d760fa92-f578-4453-89e9-ca68ed616b8d",
   "metadata": {},
   "outputs": [],
   "source": [
    "#| hide\n",
    "import nbdev; nbdev.nbdev_export()"
   ]
  }
 ],
 "metadata": {
  "kernelspec": {
   "display_name": "ninjalabo",
   "language": "python",
   "name": "python3"
  }
 },
 "nbformat": 4,
 "nbformat_minor": 5
}
