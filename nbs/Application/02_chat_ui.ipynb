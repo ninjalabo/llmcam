{
 "cells": [
  {
   "cell_type": "markdown",
   "id": "36f0ff07-13fe-4ebe-970d-4848f7462e09",
   "metadata": {},
   "source": [
    "# Chat UI in fastHTML\n",
    "\n",
    "> Python module for implementing chat UI in fastHTML"
   ]
  },
  {
   "cell_type": "code",
   "execution_count": null,
   "id": "2b36b977-f531-4d05-af7a-1761ef5d2683",
   "metadata": {},
   "outputs": [],
   "source": [
    "#| default_exp application.chat_ui"
   ]
  },
  {
   "cell_type": "code",
   "execution_count": null,
   "id": "ddd185b2-ec84-46d1-8474-9038ee3eb232",
   "metadata": {},
   "outputs": [],
   "source": [
    "#| hide\n",
    "from nbdev.showdoc import *"
   ]
  },
  {
   "cell_type": "markdown",
   "id": "bd17c22c",
   "metadata": {},
   "source": [
    "## Chat App initialization\n",
    "\n",
    "Start by creating the chat application with `FastHTML`."
   ]
  },
  {
   "cell_type": "code",
   "execution_count": null,
   "id": "6714c4c8",
   "metadata": {},
   "outputs": [],
   "source": [
    "#| export\n",
    "import os\n",
    "import asyncio\n",
    "from fasthtml.common import *\n",
    "from llmcam.core.fc import *\n",
    "from llmcam.application.session import *"
   ]
  },
  {
   "cell_type": "code",
   "execution_count": null,
   "id": "2a5b1df9",
   "metadata": {},
   "outputs": [],
   "source": [
    "#| export\n",
    "# Set up the app, including daisyui and tailwind for the chat component\n",
    "hdrs = (picolink,\n",
    "        Link(rel=\"icon\", href=f\"\"\"{os.getenv(\"LLMCAM_DATA\", \"../data\").split(\"/\")[-1]}/favicon.ico\"\"\", type=\"image/png\"),\n",
    "        Script(src=\"https://cdn.tailwindcss.com\"),\n",
    "        Link(rel=\"stylesheet\", href=\"https://cdn.jsdelivr.net/npm/daisyui@4.11.1/dist/full.min.css\"),\n",
    "        # Link(rel=\"preconnect\", href=\"https://fonts.googleapis.com\"),\n",
    "        # Link(rel=\"preconnect\", href=\"https://fonts.gstatic.com\", crossorigin=\"\"),\n",
    "        # Link(href=\"https://fonts.googleapis.com/css2?family=Patrick+Hand\", rel=\"stylesheet\"),\n",
    "        Script(src=\"https://unpkg.com/htmx.org\"),\n",
    "        Style(\"p {color: black; font-family: 'Georgia', Times, serif;}\"),\n",
    "        Style(\"li {color: black; font-family: 'Georgia', Times, serif;}\"),\n",
    "        Style(\"main {font-family: 'Georgia', Times, serif;}\"),\n",
    "        MarkdownJS(), HighlightJS(langs=['python', 'javascript', 'html', 'css']))\n",
    "app = FastHTML(hdrs=hdrs, exts=\"ws\")"
   ]
  },
  {
   "cell_type": "markdown",
   "id": "6c10746d",
   "metadata": {},
   "source": [
    "For running while testing with Jupyter notebook, use the `JupyUvi` in `fasthtml` to run in separate thread."
   ]
  },
  {
   "cell_type": "code",
   "execution_count": null,
   "id": "6bfc501a",
   "metadata": {},
   "outputs": [
    {
     "data": {
      "text/html": [
       "\n",
       "<script>\n",
       "document.body.addEventListener('htmx:configRequest', (event) => {\n",
       "    if(event.detail.path.includes('://')) return;\n",
       "    htmx.config.selfRequestsOnly=false;\n",
       "    event.detail.path = `${location.protocol}//${location.hostname}:8000${event.detail.path}`;\n",
       "});\n",
       "</script>"
      ],
      "text/plain": [
       "<IPython.core.display.HTML object>"
      ]
     },
     "metadata": {},
     "output_type": "display_data"
    }
   ],
   "source": [
    "#| eval: false\n",
    "from fasthtml.jupyter import *\n",
    "\n",
    "server = JupyUvi(app=app)"
   ]
  },
  {
   "cell_type": "code",
   "execution_count": null,
   "id": "8470e6bb",
   "metadata": {},
   "outputs": [],
   "source": [
    "#| eval: false\n",
    "server.stop()"
   ]
  },
  {
   "cell_type": "markdown",
   "id": "d0211a31",
   "metadata": {},
   "source": [
    "## Chat components\n",
    "\n",
    "Basic chat UI components can include Chat Message and a Chat Input. For a Chat Message, the important attributes are the actual message (str) and the role of the message owner (user - boolean value whether the owner is the user, not the AI assistant)."
   ]
  },
  {
   "cell_type": "code",
   "execution_count": null,
   "id": "2a6c7f7a",
   "metadata": {},
   "outputs": [],
   "source": [
    "#| export\n",
    "# Chat message component (renders a chat bubble)\n",
    "def ChatMessage(\n",
    "        msg: str,  # Message to display\n",
    "        user: bool  # Whether the message is from the user or assistant\n",
    "    ):  # Returns a Div containing the chat bubble\n",
    "    # Set class to change displayed style of bubble\n",
    "    content_class = \"chat-bubble chat-bubble-primary\" if user else \"\"\n",
    "    content_class += \" marked py-2\"\n",
    "    return  Div(cls=f\"chat chat-end py-4\" if user else \"py-4\")(\n",
    "                Div('User' if user else 'Assistant', cls=\"chat-header\"),\n",
    "                Div(\n",
    "                    msg,\n",
    "                    cls=content_class,\n",
    "                )\n",
    "            )"
   ]
  },
  {
   "cell_type": "code",
   "execution_count": null,
   "id": "61d96926",
   "metadata": {},
   "outputs": [
    {
     "data": {
      "text/markdown": [
       "---\n",
       "\n",
       "[source](https://github.com/ninjalabo/llmcam/blob/main/llmcam/application/chat_ui.py#L40){target=\"_blank\" style=\"float:right; font-size:smaller\"}\n",
       "\n",
       "### ChatMessage\n",
       "\n",
       ">      ChatMessage (msg:str, user:bool)\n",
       "\n",
       "|    | **Type** | **Details** |\n",
       "| -- | -------- | ----------- |\n",
       "| msg | str | Message to display |\n",
       "| user | bool | Whether the message is from the user or assistant |"
      ],
      "text/plain": [
       "---\n",
       "\n",
       "[source](https://github.com/ninjalabo/llmcam/blob/main/llmcam/application/chat_ui.py#L40){target=\"_blank\" style=\"float:right; font-size:smaller\"}\n",
       "\n",
       "### ChatMessage\n",
       "\n",
       ">      ChatMessage (msg:str, user:bool)\n",
       "\n",
       "|    | **Type** | **Details** |\n",
       "| -- | -------- | ----------- |\n",
       "| msg | str | Message to display |\n",
       "| user | bool | Whether the message is from the user or assistant |"
      ]
     },
     "execution_count": null,
     "metadata": {},
     "output_type": "execute_result"
    }
   ],
   "source": [
    "show_doc(ChatMessage)"
   ]
  },
  {
   "cell_type": "markdown",
   "id": "8cc84d14",
   "metadata": {},
   "source": [
    "For the chat input, set the name for submitting a new message via form."
   ]
  },
  {
   "cell_type": "code",
   "execution_count": null,
   "id": "8b6bbd77",
   "metadata": {},
   "outputs": [],
   "source": [
    "#| export\n",
    "# The input field for the user message. Also used to clear the\n",
    "# input field after sending a message via an OOB swap\n",
    "def ChatInput():  # Returns an input field for the user message\n",
    "    return Input(name='msg', id='msg-input', placeholder=\"Type a message\",\n",
    "                 cls=\"input input-bordered w-full rounded-l-2xl\", \n",
    "                 hx_swap_oob='true'  # Re-render the element to remove submitted message\n",
    "                )"
   ]
  },
  {
   "cell_type": "code",
   "execution_count": null,
   "id": "ad8a8814",
   "metadata": {},
   "outputs": [
    {
     "data": {
      "text/markdown": [
       "---\n",
       "\n",
       "[source](https://github.com/ninjalabo/llmcam/blob/main/llmcam/application/chat_ui.py#L58){target=\"_blank\" style=\"float:right; font-size:smaller\"}\n",
       "\n",
       "### ChatInput\n",
       "\n",
       ">      ChatInput ()"
      ],
      "text/plain": [
       "---\n",
       "\n",
       "[source](https://github.com/ninjalabo/llmcam/blob/main/llmcam/application/chat_ui.py#L58){target=\"_blank\" style=\"float:right; font-size:smaller\"}\n",
       "\n",
       "### ChatInput\n",
       "\n",
       ">      ChatInput ()"
      ]
     },
     "execution_count": null,
     "metadata": {},
     "output_type": "execute_result"
    }
   ],
   "source": [
    "show_doc(ChatInput)"
   ]
  },
  {
   "cell_type": "markdown",
   "id": "7986a51e",
   "metadata": {},
   "source": [
    "### Action Buttons\n",
    "\n",
    "Simple actions for creating a new message from the user side."
   ]
  },
  {
   "cell_type": "code",
   "execution_count": null,
   "id": "86cba3a3",
   "metadata": {},
   "outputs": [],
   "source": [
    "#| export\n",
    "def ActionButton(\n",
    "        session_id: str,  # Session ID to use\n",
    "        content: str,  # Text to display on the button\n",
    "        message: str = None  # Message to send when the button is clicked\n",
    "    ):  # Returns a button with the given content\n",
    "\n",
    "    return Form(\n",
    "        ws_send=True,\n",
    "        hx_ext='ws', ws_connect='/wschat',\n",
    "    )(\n",
    "        Hidden(session_id, name=\"session_id\"),\n",
    "        Hidden(content if message is None else message, name=\"msg\"),\n",
    "        Button(\n",
    "            content, \n",
    "            cls=\"btn btn-secondary rounded-2 h-fit\",\n",
    "            style=\"font-family: 'Georgia', Times, serif;\" \n",
    "        )\n",
    "    )\n",
    "\n",
    "def ActionPanel(\n",
    "        session_id: str  # Session ID to use\n",
    "    ):  # Returns a panel of action buttons\n",
    "    return Div(\n",
    "        P(\"Quick actions\", cls=\"text-lg text-black\"),\n",
    "        ActionButton(session_id, \"Introduce your model GPT-4o\"),\n",
    "        ActionButton(session_id,\n",
    "            \"Extract information from a YouTube Live\", \n",
    "            \"Capture and extract information from a YouTube Live. Use the default link.\"),\n",
    "        A('YouTube Playlist (Examples)', href='https://www.youtube.com/watch?v=BuyqWfyhvgE&list=PLNzPo4P4-KZOJEwDrywdUt8IryV06viqg&index=8', target='_blank'),\n",
    "\n",
    "        cls=\"flex flex-col h-fit gap-4 py-4 px-4\"\n",
    "    )"
   ]
  },
  {
   "cell_type": "code",
   "execution_count": null,
   "id": "fe59ea66",
   "metadata": {},
   "outputs": [
    {
     "data": {
      "text/markdown": [
       "---\n",
       "\n",
       "[source](https://github.com/ninjalabo/llmcam/blob/main/llmcam/application/chat_ui.py#L65){target=\"_blank\" style=\"float:right; font-size:smaller\"}\n",
       "\n",
       "### ActionButton\n",
       "\n",
       ">      ActionButton (session_id:str, content:str, message:str=None)\n",
       "\n",
       "|    | **Type** | **Default** | **Details** |\n",
       "| -- | -------- | ----------- | ----------- |\n",
       "| session_id | str |  | Session ID to use |\n",
       "| content | str |  | Text to display on the button |\n",
       "| message | str | None | Message to send when the button is clicked |"
      ],
      "text/plain": [
       "---\n",
       "\n",
       "[source](https://github.com/ninjalabo/llmcam/blob/main/llmcam/application/chat_ui.py#L65){target=\"_blank\" style=\"float:right; font-size:smaller\"}\n",
       "\n",
       "### ActionButton\n",
       "\n",
       ">      ActionButton (session_id:str, content:str, message:str=None)\n",
       "\n",
       "|    | **Type** | **Default** | **Details** |\n",
       "| -- | -------- | ----------- | ----------- |\n",
       "| session_id | str |  | Session ID to use |\n",
       "| content | str |  | Text to display on the button |\n",
       "| message | str | None | Message to send when the button is clicked |"
      ]
     },
     "execution_count": null,
     "metadata": {},
     "output_type": "execute_result"
    }
   ],
   "source": [
    "show_doc(ActionButton)"
   ]
  },
  {
   "cell_type": "code",
   "execution_count": null,
   "id": "ef9f47bc",
   "metadata": {},
   "outputs": [
    {
     "data": {
      "text/markdown": [
       "---\n",
       "\n",
       "[source](https://github.com/ninjalabo/llmcam/blob/main/llmcam/application/chat_ui.py#L84){target=\"_blank\" style=\"float:right; font-size:smaller\"}\n",
       "\n",
       "### ActionPanel\n",
       "\n",
       ">      ActionPanel (session_id:str)\n",
       "\n",
       "|    | **Type** | **Details** |\n",
       "| -- | -------- | ----------- |\n",
       "| session_id | str | Session ID to use |"
      ],
      "text/plain": [
       "---\n",
       "\n",
       "[source](https://github.com/ninjalabo/llmcam/blob/main/llmcam/application/chat_ui.py#L84){target=\"_blank\" style=\"float:right; font-size:smaller\"}\n",
       "\n",
       "### ActionPanel\n",
       "\n",
       ">      ActionPanel (session_id:str)\n",
       "\n",
       "|    | **Type** | **Details** |\n",
       "| -- | -------- | ----------- |\n",
       "| session_id | str | Session ID to use |"
      ]
     },
     "execution_count": null,
     "metadata": {},
     "output_type": "execute_result"
    }
   ],
   "source": [
    "show_doc(ActionPanel)"
   ]
  },
  {
   "cell_type": "markdown",
   "id": "15cce0ff",
   "metadata": {},
   "source": [
    "### Tools panel\n",
    "\n",
    "Sidebar-panel for displaying current list of available (loaded) tools in a user-session."
   ]
  },
  {
   "cell_type": "code",
   "execution_count": null,
   "id": "46f4ddc3",
   "metadata": {},
   "outputs": [],
   "source": [
    "#| export\n",
    "def ToolPanel(\n",
    "        session_id: str  # Session ID to use\n",
    "    ):  # Returns a panel of usable tools\n",
    "\n",
    "    available_services = retrieve_session_tools(session_id)\n",
    "\n",
    "    # Generate list items for each available tool\n",
    "    items = []\n",
    "    if available_services:\n",
    "        for service in available_services:\n",
    "            service_desc = service['function']['description']\n",
    "            items.append(Li(f\"{service_desc}\", cls=\"text-sm text-black\"))\n",
    "    else:\n",
    "        items.append(Li(\"No services available\", cls=\"text-sm italic text-gray-500\"))\n",
    "\n",
    "    return Div(\n",
    "        P(\"Available Tools\", cls=\"text-lg text-black\"),\n",
    "        Ul(*items, cls=\"list-disc list-inside px-6\", style=\"max-height: 60vh; overflow-y:auto;\"),\n",
    "        id=\"toollist\",\n",
    "        cls=\"flex flex-col h-fit gap-4 py-4 px-4\"\n",
    "    )"
   ]
  },
  {
   "cell_type": "code",
   "execution_count": null,
   "id": "445d2453",
   "metadata": {},
   "outputs": [
    {
     "data": {
      "text/markdown": [
       "---\n",
       "\n",
       "[source](https://github.com/ninjalabo/llmcam/blob/main/llmcam/application/chat_ui.py#L99){target=\"_blank\" style=\"float:right; font-size:smaller\"}\n",
       "\n",
       "### ToolPanel\n",
       "\n",
       ">      ToolPanel (session_id:str)\n",
       "\n",
       "|    | **Type** | **Details** |\n",
       "| -- | -------- | ----------- |\n",
       "| session_id | str | Session ID to use |"
      ],
      "text/plain": [
       "---\n",
       "\n",
       "[source](https://github.com/ninjalabo/llmcam/blob/main/llmcam/application/chat_ui.py#L99){target=\"_blank\" style=\"float:right; font-size:smaller\"}\n",
       "\n",
       "### ToolPanel\n",
       "\n",
       ">      ToolPanel (session_id:str)\n",
       "\n",
       "|    | **Type** | **Details** |\n",
       "| -- | -------- | ----------- |\n",
       "| session_id | str | Session ID to use |"
      ]
     },
     "execution_count": null,
     "metadata": {},
     "output_type": "execute_result"
    }
   ],
   "source": [
    "show_doc(ToolPanel)"
   ]
  },
  {
   "cell_type": "markdown",
   "id": "f529b908",
   "metadata": {},
   "source": [
    "### Notifications\n",
    "\n",
    "The idea of sending notifications from a background task / websocket with FastHTML is to send an HTMX update, then detect and extract information from the event via a document event listener."
   ]
  },
  {
   "cell_type": "code",
   "execution_count": null,
   "id": "b1acd2fc",
   "metadata": {},
   "outputs": [],
   "source": [
    "#| export\n",
    "def NotiMessage(\n",
    "        message: str = \"No message\"  # Message to display\n",
    "    ):  # Returns a notification message hidden from the UI view\n",
    "    return Hidden(message, id=\"notification\", cls=\"text-black\")\n",
    "\n",
    "def NotiButton(\n",
    "        session_id: str  # Session ID to use\n",
    "    ):  # Returns a hidden button to trigger notification websocket connection\n",
    "    return Form(\n",
    "        ws_send=True,\n",
    "        hx_ext='ws', ws_connect='/wsnoti',\n",
    "        style=\"display: none;\"\n",
    "    )(\n",
    "        Hidden(session_id, name=\"session_id\"),\n",
    "        Button(\n",
    "            \"Notification\", \n",
    "            id=\"connect-btn\", \n",
    "            cls=\"btn btn-primary rounded-2 h-fit\", \n",
    "            style=\"display: none;\"\n",
    "        )\n",
    "    )"
   ]
  },
  {
   "cell_type": "code",
   "execution_count": null,
   "id": "2ca2615b",
   "metadata": {},
   "outputs": [],
   "source": [
    "#| export\n",
    "# Event listener to handle notifications when the element #notification is loaded\n",
    "noti_script = Script(\"\"\"\n",
    "    // Automatically click the hidden button to connect to the notification websocket\n",
    "    window.addEventListener('load', function() {\n",
    "        let connectButton = document.querySelector('#connect-btn');\n",
    "        if (connectButton) {\n",
    "            connectButton.click();\n",
    "            console.log(\"Hidden button clicked on page load!\");\n",
    "        }\n",
    "    });\n",
    "                     \n",
    "    // Listen for the htmx:load event on the document body\n",
    "    document.body.addEventListener('htmx:load', function(event) {\n",
    "        if (event.target.id === \"notification\") {\n",
    "            let htDivElement = event.detail.elt; // Extract the HtDiv element\n",
    "\n",
    "            // Find the input element inside the HtDiv and extract its value\n",
    "            let inputElement = htDivElement.querySelector('input');\n",
    "            if (inputElement) {\n",
    "                let inputValue = inputElement.value;\n",
    "                alert(inputValue);\n",
    "            } else {\n",
    "                console.log(\"Input element not found.\");\n",
    "            }\n",
    "        }\n",
    "    });\n",
    "\"\"\")"
   ]
  },
  {
   "cell_type": "markdown",
   "id": "174209ca",
   "metadata": {},
   "source": [
    "## Router"
   ]
  },
  {
   "cell_type": "markdown",
   "id": "c01b9a76",
   "metadata": {},
   "source": [
    "### Home page\n",
    "The home page should contain our message list and the Chat Input. The main page can be extracted by accessing the index (root) endpoint."
   ]
  },
  {
   "cell_type": "code",
   "execution_count": null,
   "id": "de53dced",
   "metadata": {},
   "outputs": [],
   "source": [
    "#| export\n",
    "scroll_script = Script(\"\"\"\n",
    "  // Function to scroll to the bottom of an element\n",
    "  function scrollToBottom(element) {\n",
    "    element.scrollTop = element.scrollHeight;\n",
    "  }\n",
    "\n",
    "  // Reference the expanding element\n",
    "  const expandingElement = document.getElementById('chatlist');\n",
    "\n",
    "  // Observe changes to the element's content and scroll down automatically\n",
    "  const observer = new MutationObserver(() => {\n",
    "    scrollToBottom(expandingElement);\n",
    "  });\n",
    "\n",
    "  // Start observing the expanding element for changes\n",
    "  observer.observe(expandingElement, { childList: true, subtree: true });\n",
    "\"\"\")"
   ]
  },
  {
   "cell_type": "code",
   "execution_count": null,
   "id": "b61c0cc5",
   "metadata": {},
   "outputs": [],
   "source": [
    "#| export\n",
    "title_script = Script(\"\"\"\n",
    "    // Function to set the title of the page\n",
    "    document.title = \"LLMCAM\";\n",
    "\"\"\")"
   ]
  },
  {
   "cell_type": "code",
   "execution_count": null,
   "id": "53c2dc90-588a-4cd0-95e8-0680023ca1c7",
   "metadata": {},
   "outputs": [],
   "source": [
    "def click_here(): return a('Click here', href='https://example.com', target='_blank')"
   ]
  },
  {
   "cell_type": "code",
   "execution_count": null,
   "id": "3371d10b",
   "metadata": {},
   "outputs": [],
   "source": [
    "#| export\n",
    "@app.get('/')\n",
    "async def index(session):\n",
    "    # Initialize the session\n",
    "    session_id = init_session(session_id=session.get('session_id'))\n",
    "    \n",
    "    # Set up the chat UI\n",
    "    sidebar = Div(\n",
    "        ActionPanel(session_id=session_id),\n",
    "        ToolPanel(session_id=session_id),\n",
    "        NotiButton(session_id=session_id),\n",
    "        NotiMessage(),\n",
    "        cls=\"w-[50vw] flex flex-col p-0\",\n",
    "        style=\"background-color: WhiteSmoke;\"\n",
    "    )\n",
    "    page =  Div(cls=\"w-full flex flex-col p-0\")(  # Main page\n",
    "        Form(\n",
    "            ws_send=True,\n",
    "            hx_ext='ws', ws_connect='/wschat',\n",
    "            cls=\"w-full flex flex-col px-24 h-[100vh]\"\n",
    "        )(\n",
    "            Hidden(session_id, name=\"session_id\"),\n",
    "            # The chat list\n",
    "            Div(id=\"chatlist\", cls=\"chat-box overflow-y-auto flex-1 w-full mt-10 p-4\")(\n",
    "                # One initial message from AI assistant\n",
    "                ChatMessage(\"Hello! I'm a chatbot. How can I help you today?\", False),\n",
    "            ),\n",
    "            # Input form\n",
    "            Div(cls=\"h-fit mb-5 mt-5 flex space-x-2 mt-2 p-4\")(\n",
    "                Group(\n",
    "                    ChatInput(), \n",
    "                    Button(\"Send\", cls=\"btn btn-primary rounded-r-2xl\"),\n",
    "                    style=\"font-family: 'Georgia', Times, serif;\"\n",
    "                )\n",
    "            ),\n",
    "            scroll_script\n",
    "        ),\n",
    "    )\n",
    "    return Main(\n",
    "        noti_script,\n",
    "        title_script,\n",
    "        sidebar,\n",
    "        #a('Click here', href='https://example.com', target='_blank'),\n",
    "        page, \n",
    "        title=\"Chatbot\",\n",
    "        data_theme=\"wireframe\",\n",
    "        cls=\"h-[100vh] w-full relative flex flex-row items-stretch overflow-hidden transition-colors z-0 p-0\",)"
   ]
  },
  {
   "cell_type": "markdown",
   "id": "9afd32ac",
   "metadata": {},
   "source": [
    "### Notification websockets"
   ]
  },
  {
   "cell_type": "code",
   "execution_count": null,
   "id": "aecfdd32",
   "metadata": {},
   "outputs": [],
   "source": [
    "#| export\n",
    "def noti_disconnect(ws):\n",
    "    \"\"\"Remove session ID from session notification sender on websocket disconnect\"\"\"\n",
    "    session_id = ws.scope.get(\"session_id\")\n",
    "    remove_session(session_id)"
   ]
  },
  {
   "cell_type": "code",
   "execution_count": null,
   "id": "aa59e236",
   "metadata": {},
   "outputs": [],
   "source": [
    "#| export\n",
    "@app.ws('/wsnoti')\n",
    "async def wsnoti(ws, send, session_id: str):\n",
    "    # Initialize the session\n",
    "    session_id = init_session(session_id=session_id)\n",
    "\n",
    "    # Set the session ID in the websocket scope\n",
    "    ws.scope[\"session_id\"] = session_id\n",
    "\n",
    "    # Set up the notification sender for the session\n",
    "    def send_noti(message):\n",
    "        try:\n",
    "            loop = asyncio.get_event_loop()\n",
    "        except RuntimeError:  # No current event loop in this thread\n",
    "            loop = asyncio.new_event_loop()\n",
    "            asyncio.set_event_loop(loop)\n",
    "    \n",
    "        if loop.is_running():\n",
    "            # Schedule the task on the running loop\n",
    "            asyncio.create_task(send(Div(NotiMessage(message), id=\"notification\", hx_swap_oob=\"true\")))\n",
    "        else:\n",
    "            # Create and run a new loop\n",
    "            loop.run_until_complete(send(Div(NotiMessage(message), id=\"notification\", hx_swap_oob=\"true\")))\n",
    "    \n",
    "    set_noti_sender(session_id, send_noti)\n",
    "\n",
    "    # Send a notification to the client\n",
    "    send_noti(\"Notification service enabled.\")"
   ]
  },
  {
   "cell_type": "markdown",
   "id": "f8a035fe",
   "metadata": {},
   "source": [
    "Test usage:"
   ]
  },
  {
   "cell_type": "code",
   "execution_count": null,
   "id": "45294f74",
   "metadata": {},
   "outputs": [],
   "source": [
    "#| eval: false\n",
    "#first_noti_sender = list(session_notis.values())[0][0]\n",
    "#first_noti_sender(\"Test message.\")"
   ]
  },
  {
   "cell_type": "markdown",
   "id": "32f987f6",
   "metadata": {},
   "source": [
    "### Chat websockets\n",
    "\n",
    "When connecting to websockets for chat, this function should:\n",
    "\n",
    "- Extract the new and all previous chat history  \n",
    "- Prompt & get answers from ChatGPT from all these messages  \n",
    "- Return a new ChatMessage"
   ]
  },
  {
   "cell_type": "code",
   "execution_count": null,
   "id": "7a8045ae",
   "metadata": {},
   "outputs": [],
   "source": [
    "#| export\n",
    "# On websocket disconnect, remove the session ID from the session messages and tools\n",
    "def chat_disconnect(ws):\n",
    "    \"\"\"Remove session ID from session messages and tools on websocket disconnect\"\"\"\n",
    "    session_id = ws.scope.get(\"session_id\")\n",
    "    remove_session(session_id)"
   ]
  },
  {
   "cell_type": "code",
   "execution_count": null,
   "id": "74c803cb",
   "metadata": {},
   "outputs": [],
   "source": [
    "#| export\n",
    "# The chatbot websocket handler\n",
    "@app.ws('/wschat', disconn=chat_disconnect)\n",
    "async def wschat(ws, msg: str, send, session_id: str):\n",
    "    # Initialize the session\n",
    "    session_id = init_session(session_id=session_id)\n",
    "\n",
    "    # Set the session ID in the websocket scope\n",
    "    ws.scope[\"session_id\"] = session_id\n",
    "    \n",
    "    # Create chat messages from the provided contents and roles\n",
    "    messages = retrieve_session_message(session_id)\n",
    "    if len(messages) == 0:\n",
    "        messages.append(\n",
    "            form_msg(\n",
    "                \"system\", \n",
    "\"You are a helpful assistant. Use the supplied tools to assist the user. \\\n",
    "If asked to show or display an image or plot, do it by embedding its path starting with \\\n",
    "`../data/<filename>` in Markdown syntax. \\\n",
    "When asked to monitor or notify about a process, start a detached notification stream and do not \\\n",
    "wait for it to stop in chat response.\\\n",
    "Use the available tools to stop stream or send notifications from the stream.\"))\n",
    "    messages.append(form_msg(\"user\", msg))\n",
    "    await send(\n",
    "        Div(ChatMessage(\n",
    "            messages[-1][\"content\"],\n",
    "            messages[-1][\"role\"] == \"user\"), \n",
    "        hx_swap_oob='beforeend', id=\"chatlist\"))\n",
    "    \n",
    "    await send(ChatInput())  # Clear the input field\n",
    "    \n",
    "    # Add the user's message to the chat history\n",
    "    await asyncio.to_thread(complete, messages, retrieve_session_tools(session_id))\n",
    "    await send(Div(ChatMessage(\n",
    "            messages[-1][\"content\"],\n",
    "            messages[-1][\"role\"] == \"user\"), hx_swap_oob='beforeend', id=\"chatlist\"))\n",
    "    \n",
    "    await send(Div(ToolPanel(session_id=session_id), hx_swap_oob='true', id='toollist'))\n",
    "    return"
   ]
  },
  {
   "cell_type": "markdown",
   "id": "202a6b79",
   "metadata": {},
   "source": [
    "### Static files\n",
    "\n",
    "In case the user needs to display images, serves files from directory `../data`."
   ]
  },
  {
   "cell_type": "code",
   "execution_count": null,
   "id": "d3310edc",
   "metadata": {},
   "outputs": [],
   "source": [
    "#| export\n",
    "# Serve files from the 'data' directory\n",
    "@app.get(\"/data/{file_name:path}\")\n",
    "async def get_file(file_name: str):\n",
    "    \"\"\"Serve files dynamically from the 'data' directory.\"\"\"\n",
    "    data_path = os.getenv(\"LLMCAM_DATA\", \"../data\")\n",
    "    file_path = Path(data_path) / file_name\n",
    "    if file_path.exists():\n",
    "        return FileResponse(file_path)\n",
    "    return {\"error\": f\"File '{file_name}' not found\"}"
   ]
  },
  {
   "cell_type": "code",
   "execution_count": null,
   "id": "4b67952f-5064-48ad-a0f5-a141be065b10",
   "metadata": {},
   "outputs": [],
   "source": [
    "#| hide\n",
    "import nbdev; nbdev.nbdev_export()"
   ]
  }
 ],
 "metadata": {
  "kernelspec": {
   "display_name": "python3",
   "language": "python",
   "name": "python3"
  }
 },
 "nbformat": 4,
 "nbformat_minor": 5
}
