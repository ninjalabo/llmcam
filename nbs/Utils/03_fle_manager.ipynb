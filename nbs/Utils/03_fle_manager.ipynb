{
 "cells": [
  {
   "cell_type": "markdown",
   "id": "ea387527-2ef4-43bb-b6f1-616e5e313757",
   "metadata": {},
   "source": [
    "# File Manager\n",
    "> retrieve files with time & location specified"
   ]
  },
  {
   "cell_type": "code",
   "execution_count": null,
   "id": "b237e224-9051-477b-8cf2-1a516357499a",
   "metadata": {},
   "outputs": [],
   "source": [
    "#| default_exp utils.file_manager"
   ]
  },
  {
   "cell_type": "code",
   "execution_count": null,
   "id": "24c2ac05-3b84-4189-a763-5bb72027e3dc",
   "metadata": {},
   "outputs": [],
   "source": [
    "#| hide\n",
    "from nbdev.showdoc import *"
   ]
  },
  {
   "cell_type": "code",
   "execution_count": null,
   "id": "0f7e9327-be85-425c-a2d1-a1f8b1a92a30",
   "metadata": {},
   "outputs": [],
   "source": [
    "#| export\n",
    "import os\n",
    "import glob"
   ]
  },
  {
   "cell_type": "code",
   "execution_count": null,
   "id": "eff89160-56cf-48ca-8ff8-91af578e74f3",
   "metadata": {},
   "outputs": [],
   "source": [
    "from llmcam.fn_to_fc import *"
   ]
  },
  {
   "cell_type": "code",
   "execution_count": null,
   "id": "2ef381e5-177b-48fe-8137-b603a8528fd8",
   "metadata": {},
   "outputs": [],
   "source": [
    "data_path = os.getenv(\"LLMCAM_DATA\", \"../data\")\n",
    "files = sorted(glob.glob(f\"{data_path}/cap_*.jpg\"))"
   ]
  },
  {
   "cell_type": "code",
   "execution_count": null,
   "id": "57de60a6-ad3d-4b67-8f79-697cfd8577a2",
   "metadata": {},
   "outputs": [
    {
     "data": {
      "text/plain": [
       "(629,\n",
       " ['../data/cap_2024.10.07_13:39:09_Presidentinlinna.jpg',\n",
       "  '../data/cap_2024.10.06_19:48:29_Tuomiokirkko.jpg',\n",
       "  '../data/cap_2024.11.13_16:51:59_Porvoo_C0150200.jpg'],\n",
       " str)"
      ]
     },
     "execution_count": null,
     "metadata": {},
     "output_type": "execute_result"
    }
   ],
   "source": [
    "len(files), files[:3], type(files[0])"
   ]
  },
  {
   "cell_type": "code",
   "execution_count": null,
   "id": "773e43b0-afb7-4d24-886d-f24951be4425",
   "metadata": {},
   "outputs": [],
   "source": [
    "#| export\n",
    "def list_image_files()->str:\n",
    "    \"\"\"List all captured image files.\n",
    "    file naming scheme is \"cap_%Y.%m.%d_%H:%M:%S_<place name>.jpg\"\n",
    "    \"\"\"\n",
    "    return \"\\n\".join(glob.glob(os.getenv(\"LLMCAM_DATA\", \"../data\")+\"/\"+\"cap_*.jpg\"))"
   ]
  },
  {
   "cell_type": "code",
   "execution_count": null,
   "id": "791f0ae2",
   "metadata": {},
   "outputs": [],
   "source": [
    "#| export\n",
    "\n",
    "def list_detection_files() -> str:\n",
    "  \"\"\"List all detection images. File name starts with detection_\"\"\"\n",
    "  return \"\\n\".join(glob.glob(os.getenv(\"LLMCAM_DATA\", \"../data\")+ \"/\" + \"detection_*.jpg\"))"
   ]
  },
  {
   "cell_type": "code",
   "execution_count": null,
   "id": "6b130452",
   "metadata": {},
   "outputs": [],
   "source": [
    "#| export\n",
    "\n",
    "def list_demo3_files() -> str:\n",
    "  \"\"\"List all parking lot frames. File name starts with demo3_\"\"\"\n",
    "  return \"\\n\".join(glob.glob(os.getenv(\"LLMCAM_DATA\", \"../data\")+ \"/\" + \"demo3_*.jpg\"))"
   ]
  },
  {
   "cell_type": "code",
   "execution_count": null,
   "id": "bc2f214f",
   "metadata": {},
   "outputs": [],
   "source": [
    "#| export\n",
    "\n",
    "def list_plot_files() -> str:\n",
    "  \"\"\"List all plots. File name ends with plot\"\"\"\n",
    "  return \"\\n\".join(glob.glob(os.getenv(\"LLMCAM_DATA\", \"../data\")+ \"/\" + \"*plot.jpg\"))"
   ]
  },
  {
   "cell_type": "code",
   "execution_count": null,
   "id": "aa8ec943-3f0f-4fb4-974e-5163e0b022ca",
   "metadata": {},
   "outputs": [],
   "source": [
    "tools = [tool_schema(list_image_files)]"
   ]
  },
  {
   "cell_type": "code",
   "execution_count": null,
   "id": "d8cfecf9-f6b6-4fd8-82c4-3976d049a79c",
   "metadata": {},
   "outputs": [
    {
     "name": "stdout",
     "output_type": "stream",
     "text": [
      "\u001b[1m\u001b[31m>> \u001b[43m\u001b[31mSystem:\u001b[0m\n",
      "You are a helpful file manager. Use the supplied tools to assist the user.\n",
      "\u001b[1m\u001b[31m>> \u001b[43m\u001b[32mUser:\u001b[0m\n",
      "list all files, captured at Kauppatori\n",
      "\u001b[1m\u001b[31m>> \u001b[43m\u001b[34mAssistant:\u001b[0m\n",
      "Here are the files that were captured at Kauppatori:  1. cap_2024.10.06_20:08:29_Kauppatori.jpg 2.\n",
      "cap_2024.10.07_00:01:39_Kauppatori.jpg 3. cap_2024.10.06_19:36:24_Kauppatori.jpg 4.\n",
      "cap_2024.10.29_11:31:38_Kauppatori.jpg 5. cap_2024.10.04_14:54:09_Kauppatori.jpg 6.\n",
      "cap_2024.10.06_16:43:24_Kauppatori.jpg 7. cap_2024.10.06_23:30:49_Kauppatori.jpg 8.\n",
      "cap_2024.10.06_23:16:04_Kauppatori.jpg 9. cap_2024.09.30_09:41:41_Kauppatori.jpg 10.\n",
      "cap_2024.11.01_15:42:25_Kauppatori.jpg 11. cap_2024.09.29_19:20:31_Kauppatori.jpg 12.\n",
      "cap_2024.10.06_23:43:49_Kauppatori.jpg 13. cap_2024.10.06_21:42:14_Kauppatori.jpg 14.\n",
      "cap_2024.10.04_14:54:04_Kauppatori.jpg 15. cap_2024.09.28_20:07:56_Kauppatori.jpg 16.\n",
      "cap_2024.10.07_00:33:49_Kauppatori.jpg 17. cap_2024.10.06_22:58:34_Kauppatori.jpg 18.\n",
      "cap_2024.09.30_09:25:56_Kauppatori.jpg 19. cap_2024.10.04_14:54:14_Kauppatori.jpg 20.\n",
      "cap_2024.10.30_12:18:22_Kauppatori.jpg 21. cap_2024.10.06_23:14:39_Kauppatori.jpg 22.\n",
      "cap_2024.09.30_09:40:46_Kauppatori.jpg 23. cap_2024.10.06_21:58:19_Kauppatori.jpg 24.\n",
      "cap_2024.10.06_19:51:09_Kauppatori.jpg 25. cap_2024.10.06_19:52:29_Kauppatori.jpg 26.\n",
      "cap_2024.10.04_14:55:29_Kauppatori.jpg 27. cap_2024.10.07_11:46:44_Kauppatori.jpg 28.\n",
      "cap_2024.10.06_21:10:04_Kauppatori.jpg 29. cap_2024.10.06_19:21:39_Kauppatori.jpg 30.\n",
      "cap_2024.09.30_09:40:46_Kauppatori.jpg 31. cap_2024.10.06_20:07:09_Kauppatori.jpg 32.\n",
      "cap_2024.10.06_20:23:14_Kauppatori.jpg 33. cap_2024.10.07_14:23:19_Kauppatori.jpg 34.\n",
      "cap_2024.10.06_20:19:01_Kauppatori.jpg\n"
     ]
    }
   ],
   "source": [
    "#| eval: false\n",
    "m = form_msgs([\n",
    "    (\"system\", \"You are a helpful file manager. Use the supplied tools to assist the user.\"),\n",
    "    (\"user\", \"list all files, captured at Kauppatori\"),\n",
    "])\n",
    "complete(m, tools=tools)\n",
    "print_msgs(m)"
   ]
  },
  {
   "cell_type": "code",
   "execution_count": null,
   "id": "b350b6a3-c801-45da-b572-ae3a55584174",
   "metadata": {},
   "outputs": [
    {
     "name": "stdout",
     "output_type": "stream",
     "text": [
      "\u001b[1m\u001b[31m>> \u001b[43m\u001b[31mSystem:\u001b[0m\n",
      "You are a helpful file manager. Use the supplied tools to assist the user.\n",
      "\u001b[1m\u001b[31m>> \u001b[43m\u001b[32mUser:\u001b[0m\n",
      "pick up 3 files, captured in September\n",
      "\u001b[1m\u001b[31m>> \u001b[43m\u001b[34mAssistant:\u001b[0m\n",
      "Here are three image files captured in September 2024:  1. `cap_2024.09.30_09:20:21_Torni.jpg` 2.\n",
      "`cap_2024.09.28_20:04:41_Tuomiokirkko.jpg` 3. `cap_2024.09.28_20:20:01_Tuomiokirkko.jpg`  If you\n",
      "need further assistance, feel free to ask!\n"
     ]
    }
   ],
   "source": [
    "#| eval: false\n",
    "m = form_msgs([\n",
    "    (\"system\", \"You are a helpful file manager. Use the supplied tools to assist the user.\"),\n",
    "    (\"user\", \"pick up 3 files, captured in September\"),\n",
    "])\n",
    "complete(m, tools=tools)\n",
    "print_msgs(m)"
   ]
  },
  {
   "cell_type": "code",
   "execution_count": null,
   "id": "08cb492d-9120-4299-8c97-a4887f3ad150",
   "metadata": {},
   "outputs": [
    {
     "name": "stdout",
     "output_type": "stream",
     "text": [
      "\u001b[1m\u001b[31m>> \u001b[43m\u001b[31mSystem:\u001b[0m\n",
      "You are a helpful file manager. Use the supplied tools to assist the user.\n",
      "\u001b[1m\u001b[31m>> \u001b[43m\u001b[32mUser:\u001b[0m\n",
      "list all all locations\n",
      "\u001b[1m\u001b[31m>> \u001b[43m\u001b[34mAssistant:\u001b[0m\n",
      "Here are the locations from the captured image files:  1. Presidentinlinna 2. Tuomiokirkko 3. Porvoo\n",
      "4. Torni 5. Valkosaari 6. Olympiaterminaali 7. Kauppatori 8. Etelasatama 9. nowhere 10. unclear 11.\n",
      "santaclausvillege\n"
     ]
    }
   ],
   "source": [
    "#| eval: false\n",
    "m = form_msgs([\n",
    "    (\"system\", \"You are a helpful file manager. Use the supplied tools to assist the user.\"),\n",
    "    (\"user\", \"list all all locations\"),\n",
    "])\n",
    "complete(m, tools=tools)\n",
    "print_msgs(m)"
   ]
  },
  {
   "cell_type": "code",
   "execution_count": null,
   "id": "7d306f5a-f6ae-48e2-8165-07d37207c1da",
   "metadata": {},
   "outputs": [],
   "source": [
    "#| hide\n",
    "import nbdev; nbdev.nbdev_export()"
   ]
  }
 ],
 "metadata": {
  "kernelspec": {
   "display_name": "python3",
   "language": "python",
   "name": "python3"
  }
 },
 "nbformat": 4,
 "nbformat_minor": 5
}
