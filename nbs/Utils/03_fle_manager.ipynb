{
 "cells": [
  {
   "cell_type": "markdown",
   "id": "ea387527-2ef4-43bb-b6f1-616e5e313757",
   "metadata": {},
   "source": [
    "# File Manager\n",
    "> retrieve files with time & location specified"
   ]
  },
  {
   "cell_type": "code",
   "execution_count": null,
   "id": "b237e224-9051-477b-8cf2-1a516357499a",
   "metadata": {},
   "outputs": [],
   "source": [
    "#| default_exp utils.file_manager"
   ]
  },
  {
   "cell_type": "code",
   "execution_count": null,
   "id": "24c2ac05-3b84-4189-a763-5bb72027e3dc",
   "metadata": {},
   "outputs": [],
   "source": [
    "#| hide\n",
    "from nbdev.showdoc import *"
   ]
  },
  {
   "cell_type": "code",
   "execution_count": null,
   "id": "0f7e9327-be85-425c-a2d1-a1f8b1a92a30",
   "metadata": {},
   "outputs": [],
   "source": [
    "#| export\n",
    "import os\n",
    "import glob"
   ]
  },
  {
   "cell_type": "code",
   "execution_count": null,
   "id": "eff89160-56cf-48ca-8ff8-91af578e74f3",
   "metadata": {},
   "outputs": [],
   "source": [
    "from llmcam.core.fn_to_fc import *"
   ]
  },
  {
   "cell_type": "code",
   "execution_count": null,
   "id": "2ef381e5-177b-48fe-8137-b603a8528fd8",
   "metadata": {},
   "outputs": [],
   "source": [
    "data_path = os.getenv(\"LLMCAM_DATA\", \"../data\")\n",
    "files = sorted(glob.glob(f\"{data_path}/cap_*.jpg\"))"
   ]
  },
  {
   "cell_type": "code",
   "execution_count": null,
   "id": "57de60a6-ad3d-4b67-8f79-697cfd8577a2",
   "metadata": {},
   "outputs": [
    {
     "data": {
      "text/plain": [
       "(542,\n",
       " ['/home/nghivo/tinyMLaaS/llmcam/data/cap_2024.09.28_15:59:06_Presidentinlinna.jpg',\n",
       "  '/home/nghivo/tinyMLaaS/llmcam/data/cap_2024.09.28_16:00:11_Presidentinlinna.jpg',\n",
       "  '/home/nghivo/tinyMLaaS/llmcam/data/cap_2024.09.28_16:01:16_Etelasatama.jpg'],\n",
       " str)"
      ]
     },
     "execution_count": null,
     "metadata": {},
     "output_type": "execute_result"
    }
   ],
   "source": [
    "len(files), files[:3], type(files[0])"
   ]
  },
  {
   "cell_type": "code",
   "execution_count": null,
   "id": "773e43b0-afb7-4d24-886d-f24951be4425",
   "metadata": {},
   "outputs": [],
   "source": [
    "#| export\n",
    "def list_image_files()->str:\n",
    "    \"\"\"List all captured image files.\n",
    "    file naming scheme is \"cap_%Y.%m.%d_%H:%M:%S_<place name>.jpg\"\n",
    "    \"\"\"\n",
    "    return \"\\n\".join(glob.glob(os.getenv(\"LLMCAM_DATA\", \"../data\")+\"/\"+\"cap_*.jpg\"))"
   ]
  },
  {
   "cell_type": "code",
   "execution_count": null,
   "id": "791f0ae2",
   "metadata": {},
   "outputs": [],
   "source": [
    "#| export\n",
    "\n",
    "def list_detection_files() -> str:\n",
    "  \"\"\"List all detection images. File name starts with detection_\"\"\"\n",
    "  return \"\\n\".join(glob.glob(os.getenv(\"LLMCAM_DATA\", \"../data\")+ \"/\" + \"detection_*.jpg\"))"
   ]
  },
  {
   "cell_type": "code",
   "execution_count": null,
   "id": "6b130452",
   "metadata": {},
   "outputs": [],
   "source": [
    "#| export\n",
    "\n",
    "def list_demo3_files() -> str:\n",
    "  \"\"\"List all parking lot frames. File name starts with demo3_\"\"\"\n",
    "  return \"\\n\".join(glob.glob(os.getenv(\"LLMCAM_DATA\", \"../data\")+ \"/\" + \"demo3_*.jpg\"))"
   ]
  },
  {
   "cell_type": "code",
   "execution_count": null,
   "id": "bc2f214f",
   "metadata": {},
   "outputs": [],
   "source": [
    "#| export\n",
    "\n",
    "def list_plot_files() -> str:\n",
    "  \"\"\"List all plots. File name ends with plot\"\"\"\n",
    "  return \"\\n\".join(glob.glob(os.getenv(\"LLMCAM_DATA\", \"../data\")+ \"/\" + \"*plot.jpg\"))"
   ]
  },
  {
   "cell_type": "code",
   "execution_count": null,
   "id": "aa8ec943-3f0f-4fb4-974e-5163e0b022ca",
   "metadata": {},
   "outputs": [],
   "source": [
    "tools = [tool_schema(list_image_files)]"
   ]
  },
  {
   "cell_type": "code",
   "execution_count": null,
   "id": "d8cfecf9-f6b6-4fd8-82c4-3976d049a79c",
   "metadata": {},
   "outputs": [
    {
     "name": "stdout",
     "output_type": "stream",
     "text": [
      "\u001b[1m\u001b[31m>> \u001b[43m\u001b[31mSystem:\u001b[0m\n",
      "You are a helpful file manager. Use the supplied tools to assist the user.\n",
      "\u001b[1m\u001b[31m>> \u001b[43m\u001b[32mUser:\u001b[0m\n",
      "list all files, captured at Kauppatori\n",
      "\u001b[1m\u001b[31m>> \u001b[43m\u001b[34mAssistant:\u001b[0m\n",
      "Here are the image files captured at Kauppatori:  1. `cap_2024.09.30_09:25:01_Kauppatori.jpg` 2.\n",
      "`cap_2024.09.30_09:41:41_Kauppatori.jpg` 3. `cap_2024.10.04_14:55:29_Kauppatori.jpg` 4.\n",
      "`cap_2024.10.06_23:46:54_Kauppatori.jpg` 5. `cap_2024.10.04_14:54:44_Kauppatori.jpg` 6.\n",
      "`cap_2024.10.06_23:14:39_Kauppatori.jpg` 7. `cap_2024.09.30_09:25:56_Kauppatori.jpg` 8.\n",
      "`cap_2024.10.06_21:10:04_Kauppatori.jpg` 9. `cap_2024.09.29_12:02:01_Kauppatori.jpg` 10.\n",
      "`cap_2024.09.29_19:20:31_Kauppatori.jpg` 11. `cap_2024.09.30_09:40:46_Kauppatori.jpg` 12.\n",
      "`cap_2024.10.06_19:21:39_Kauppatori.jpg` 13. `cap_2024.10.06_21:58:19_Kauppatori.jpg` 14.\n",
      "`cap_2024.09.28_18:25:13_Kauppatori.jpg` 15. `cap_2024.10.06_22:12:59_Kauppatori.jpg` 16.\n",
      "`cap_2024.10.06_22:27:44_Kauppatori.jpg` 17. `cap_2024.09.29_19:21:31_Kauppatori.jpg` 18.\n",
      "`cap_2024.10.28_18:19:28_Kauppatori.jpg` 19. `cap_2024.10.07_13:20:24_Kauppatori.jpg` 20.\n",
      "`cap_2024.11.14_10:21:59_Porvoo_C0150200.jpg` 21. `cap_2024.10.07_16:07:19_Kauppatori.jpg` 22.\n",
      "`cap_2024.10.07_17:15:29_Kauppatori.jpg` 23. `cap_2024.10.06_23:32:09_Kauppatori.jpg` 24.\n",
      "`cap_2024.10.04_14:56:14_Kauppatori.jpg` 25. `cap_2024.10.06_20:08:29_Kauppatori.jpg` 26.\n",
      "`cap_2024.10.06_16:47:04_Kauppatori.jpg` 27. `cap_2024.10.04_14:55:34_Kauppatori.jpg` 28.\n",
      "`cap_2024.10.06_19:04:14_Kauppatori.jpg` 29. `cap_2024.09.30_09:28:31_Kauppatori.jpg` 30.\n",
      "`cap_2024.10.06_20:29:09_Kauppatori.jpg` 31. `cap_2024.09.29_19:16:51_Kauppatori.jpg` 32.\n",
      "`cap_2024.10.04_14:57:04_Kauppatori.jpg` 33. `cap_2024.10.04_14:56:19_Kauppatori.jpg` 34.\n",
      "`cap_2024.09.30_09:18:31_Kauppatori.jpg` 35. `cap_2024.09.29_12:05:56_Kauppatori.jpg` 36.\n",
      "`cap_2024.10.06_22:34:24_Kauppatori.jpg` 37. `cap_2024.10.04_14:54:24_Kauppatori.jpg` 38.\n",
      "`cap_2024.10.07_11:46:44_Kauppatori.jpg` 39. `cap_2024.10.06_20:24:34_Kauppatori.jpg` 40.\n",
      "`cap_2024.09.30_09:22:41_Kauppatori.jpg` 41. `cap_2024.09.28_20:22:11_Kauppatori.jpg` 42.\n",
      "`cap_2024.10.06_22:43:49_Kauppatori.jpg` 43. `cap_2024.10.06_19:38:21_Kauppatori.jpg` 44.\n",
      "`cap_2024.10.07_13:49:29_Kauppatori.jpg` 45. `cap_2024.12.09_23:00:42_Kauppatori.jpg` 46.\n",
      "`cap_2024.10.07_00:16:49_Kauppatori.jpg` 47. `cap_2024.10.06_21:11:24_Kauppatori.jpg` 48.\n",
      "`cap_2024.10.07_00:06:59_Kauppatori.jpg` 49. `cap_2024.09.30_09:27:46_Kauppatori.jpg` 50.\n",
      "`cap_2024.10.07_13:23:04_Kauppatori.jpg` 51. `cap_2024.10.06_19:23:24_Kauppatori.jpg` 52.\n",
      "`cap_2024.12.09_20:40:32_Kauppatori.jpg` 53. `cap_2024.12.09_20:40:57_Kauppatori.jpg` 54.\n",
      "`cap_2024.10.06_19:07:34_Kauppatori.jpg` 55. `cap_2024.12.09_19:05:07_Kauppatori.jpg` 56.\n",
      "`cap_2024.10.07_15:41:59_Kauppatori.jpg` 57. `cap_2024.09.30_09:23:41_Kauppatori.jpg` 58.\n",
      "`cap_2024.10.07_11:51:19_Kauppatori.jpg` 59. `cap_2024.10.06_22:52:29_Kauppatori.jpg` 60.\n",
      "`cap_2024.10.06_22:51:54_Kauppatori.jpg`  These files reflect images captured at Kauppatori across\n",
      "various dates and times.\n"
     ]
    }
   ],
   "source": [
    "#| eval: false\n",
    "m = form_msgs([\n",
    "    (\"system\", \"You are a helpful file manager. Use the supplied tools to assist the user.\"),\n",
    "    (\"user\", \"list all files, captured at Kauppatori\"),\n",
    "])\n",
    "complete(m, tools=tools)\n",
    "print_msgs(m)"
   ]
  },
  {
   "cell_type": "code",
   "execution_count": null,
   "id": "b350b6a3-c801-45da-b572-ae3a55584174",
   "metadata": {},
   "outputs": [
    {
     "name": "stdout",
     "output_type": "stream",
     "text": [
      "\u001b[1m\u001b[31m>> \u001b[43m\u001b[31mSystem:\u001b[0m\n",
      "You are a helpful file manager. Use the supplied tools to assist the user.\n",
      "\u001b[1m\u001b[31m>> \u001b[43m\u001b[32mUser:\u001b[0m\n",
      "pick up 3 files, captured in September\n",
      "\u001b[1m\u001b[31m>> \u001b[43m\u001b[34mAssistant:\u001b[0m\n",
      "Here are three files captured in September:  1.\n",
      "`/home/nghivo/tinyMLaaS/llmcam/data/cap_2024.09.28_20:02:11_Torni.jpg` 2.\n",
      "`/home/nghivo/tinyMLaaS/llmcam/data/cap_2024.09.29_19:12:11_Valkosaari.jpg` 3.\n",
      "`/home/nghivo/tinyMLaaS/llmcam/data/cap_2024.09.30_09:25:01_Kauppatori.jpg`\n"
     ]
    }
   ],
   "source": [
    "#| eval: false\n",
    "m = form_msgs([\n",
    "    (\"system\", \"You are a helpful file manager. Use the supplied tools to assist the user.\"),\n",
    "    (\"user\", \"pick up 3 files, captured in September\"),\n",
    "])\n",
    "complete(m, tools=tools)\n",
    "print_msgs(m)"
   ]
  },
  {
   "cell_type": "code",
   "execution_count": null,
   "id": "08cb492d-9120-4299-8c97-a4887f3ad150",
   "metadata": {},
   "outputs": [
    {
     "name": "stdout",
     "output_type": "stream",
     "text": [
      "\u001b[1m\u001b[31m>> \u001b[43m\u001b[31mSystem:\u001b[0m\n",
      "You are a helpful file manager. Use the supplied tools to assist the user.\n",
      "\u001b[1m\u001b[31m>> \u001b[43m\u001b[32mUser:\u001b[0m\n",
      "list all all locations\n",
      "\u001b[1m\u001b[31m>> \u001b[43m\u001b[34mAssistant:\u001b[0m\n",
      "Here are the locations captured in the images:  1. Porvoo 2. Valkosaari 3. Tuomiokirkko 4.\n",
      "Kauppatori 5. Torni 6. Presidentinlinna 7. Etelasatama 8. Olympiaterminaali 9. Santa Claus Village\n",
      "These are the distinct place names included in the file names of captured images.\n"
     ]
    }
   ],
   "source": [
    "#| eval: false\n",
    "m = form_msgs([\n",
    "    (\"system\", \"You are a helpful file manager. Use the supplied tools to assist the user.\"),\n",
    "    (\"user\", \"list all all locations\"),\n",
    "])\n",
    "complete(m, tools=tools)\n",
    "print_msgs(m)"
   ]
  },
  {
   "cell_type": "code",
   "execution_count": null,
   "id": "7d306f5a-f6ae-48e2-8165-07d37207c1da",
   "metadata": {},
   "outputs": [],
   "source": [
    "#| hide\n",
    "import nbdev; nbdev.nbdev_export()"
   ]
  }
 ],
 "metadata": {
  "kernelspec": {
   "display_name": "python3",
   "language": "python",
   "name": "python3"
  }
 },
 "nbformat": 4,
 "nbformat_minor": 5
}
