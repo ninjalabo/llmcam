{
 "cells": [
  {
   "cell_type": "markdown",
   "metadata": {},
   "source": [
    "# Store\n",
    "\n",
    "> Module for constructing AppletStore."
   ]
  },
  {
   "cell_type": "code",
   "execution_count": null,
   "metadata": {},
   "outputs": [],
   "source": [
    "#| default_exp utils.store"
   ]
  },
  {
   "cell_type": "code",
   "execution_count": null,
   "metadata": {},
   "outputs": [],
   "source": [
    "#| hide\n",
    "from nbdev.showdoc import *"
   ]
  },
  {
   "cell_type": "code",
   "execution_count": null,
   "metadata": {},
   "outputs": [],
   "source": [
    "#| export\n",
    "import requests\n",
    "import yaml\n",
    "import json\n",
    "import os\n",
    "\n",
    "from llmcam.core.oas_to_requests import *\n",
    "from llmcam.core.fn_to_fc import *\n",
    "from typing import Optional, Callable"
   ]
  },
  {
   "cell_type": "markdown",
   "metadata": {},
   "source": [
    "## Dynamic API installation"
   ]
  },
  {
   "cell_type": "code",
   "execution_count": null,
   "metadata": {},
   "outputs": [],
   "source": [
    "#| export\n",
    "def load_oas(\n",
    "    oas_url: str = \"https://tie.digitraffic.fi/swagger/openapi.json\",  # OpenAPI Specification URL\n",
    "    destination: str = \"api/road_digitraffic.json\",  # Destination file\n",
    "    overwrite: bool = False  # Overwrite existing file\n",
    ") -> dict:  # OpenAPI Specification\n",
    "    \"\"\"Load OpenAPI Specification from URL or file.\"\"\"\n",
    "    # Create destination directory if it does not exist\n",
    "    os.makedirs(os.path.dirname(destination), exist_ok=True)\n",
    "\n",
    "    # Download OpenAPI Specification if it does not exist or overwrite is True\n",
    "    if not os.path.exists(destination) or overwrite:\n",
    "        r = requests.get(oas_url)\n",
    "        with open(destination, \"w\") as f:\n",
    "            f.write(r.text)\n",
    "\n",
    "    # Load OpenAPI Specification\n",
    "    with open(destination, \"r\") as f:\n",
    "        if destination.endswith(\".json\"):\n",
    "            return json.load(f)\n",
    "        elif destination.endswith(\".yaml\") or destination.endswith(\".yml\"):\n",
    "            return yaml.load(f)\n",
    "        else:\n",
    "            raise ValueError(\"Invalid file format\")"
   ]
  },
  {
   "cell_type": "code",
   "execution_count": null,
   "metadata": {},
   "outputs": [
    {
     "data": {
      "text/markdown": [
       "---\n",
       "\n",
       "[source](https://github.com/ninjalabo/llmcam/blob/main/llmcam/utils/store.py#L19){target=\"_blank\" style=\"float:right; font-size:smaller\"}\n",
       "\n",
       "### load_oas\n",
       "\n",
       ">      load_oas (oas_url:str='https://tie.digitraffic.fi/swagger/openapi.json',\n",
       ">                destination:str='api/road_digitraffic.json',\n",
       ">                overwrite:bool=False)\n",
       "\n",
       "*Load OpenAPI Specification from URL or file.*\n",
       "\n",
       "|    | **Type** | **Default** | **Details** |\n",
       "| -- | -------- | ----------- | ----------- |\n",
       "| oas_url | str | https://tie.digitraffic.fi/swagger/openapi.json | OpenAPI Specification URL |\n",
       "| destination | str | api/road_digitraffic.json | Destination file |\n",
       "| overwrite | bool | False | Overwrite existing file |\n",
       "| **Returns** | **dict** |  | **OpenAPI Specification** |"
      ],
      "text/plain": [
       "---\n",
       "\n",
       "[source](https://github.com/ninjalabo/llmcam/blob/main/llmcam/utils/store.py#L19){target=\"_blank\" style=\"float:right; font-size:smaller\"}\n",
       "\n",
       "### load_oas\n",
       "\n",
       ">      load_oas (oas_url:str='https://tie.digitraffic.fi/swagger/openapi.json',\n",
       ">                destination:str='api/road_digitraffic.json',\n",
       ">                overwrite:bool=False)\n",
       "\n",
       "*Load OpenAPI Specification from URL or file.*\n",
       "\n",
       "|    | **Type** | **Default** | **Details** |\n",
       "| -- | -------- | ----------- | ----------- |\n",
       "| oas_url | str | https://tie.digitraffic.fi/swagger/openapi.json | OpenAPI Specification URL |\n",
       "| destination | str | api/road_digitraffic.json | Destination file |\n",
       "| overwrite | bool | False | Overwrite existing file |\n",
       "| **Returns** | **dict** |  | **OpenAPI Specification** |"
      ]
     },
     "execution_count": null,
     "metadata": {},
     "output_type": "execute_result"
    }
   ],
   "source": [
    "show_doc(load_oas)"
   ]
  },
  {
   "cell_type": "markdown",
   "metadata": {},
   "source": [
    "Usage to download three DigiTraffic endpoints"
   ]
  },
  {
   "cell_type": "code",
   "execution_count": null,
   "metadata": {},
   "outputs": [],
   "source": [
    "road_digitraffic = load_oas(\n",
    "    oas_url=\"https://tie.digitraffic.fi/swagger/openapi.json\",\n",
    "    destination=\"api/road_digitraffic.json\",\n",
    "    overwrite=False\n",
    ")\n",
    "train_digitraffic = load_oas(\n",
    "    oas_url=\"https://rata.digitraffic.fi/swagger/openapi.json\",\n",
    "    destination=\"api/train_digitraffic.json\",\n",
    "    overwrite=False\n",
    ")\n",
    "marine_digitraffic = load_oas(\n",
    "    oas_url=\"https://meri.digitraffic.fi/swagger/openapi.json\",\n",
    "    destination=\"api/marine_digitraffic.json\",\n",
    "    overwrite=False\n",
    ")"
   ]
  },
  {
   "cell_type": "markdown",
   "metadata": {},
   "source": [
    "Test functions with GPT:"
   ]
  },
  {
   "cell_type": "code",
   "execution_count": null,
   "metadata": {},
   "outputs": [
    {
     "name": "stdout",
     "output_type": "stream",
     "text": [
      "\u001b[1m\u001b[31m>> \u001b[43m\u001b[31mSystem:\u001b[0m\n",
      "You are a helpful system administrator. Use the supplied tools to help the user.\n",
      "\u001b[1m\u001b[31m>> \u001b[43m\u001b[32mUser:\u001b[0m\n",
      "Get me information about the trains departing on 2017-11-09 with train number 1.\n",
      "\u001b[1m\u001b[31m>> \u001b[43m\u001b[34mAssistant:\u001b[0m\n",
      "Here's the information about the train number 1 that departed on 2017-11-09:  - **Operator**: VR -\n",
      "**Train Type**: IC (InterCity) - **Train Category**: Long-distance - **Running Currently**: No -\n",
      "**Cancelled**: No - **Timetable Type**: Regular - **Timetable Acceptance Date**: 2017-07-21  ###\n",
      "Timetable:  1. **Departure - Helsinki (HKI)**    - Scheduled Time: 05:28    - Actual Time: 05:30:33\n",
      "- Delay: 3 minutes    - Departure Track: 7  2. **Arrival - Pasila (PSL)**    - Scheduled Time: 05:33\n",
      "- Actual Time: 05:35:26    - Delay: 2 minutes    - Arrival Track: 4  3. **Departure - Pasila (PSL)**\n",
      "- Scheduled Time: 05:34    - Actual Time: 05:37:13    - Delay: 3 minutes  4. **Arrival - Tikkurila\n",
      "(TKL)**    - Scheduled Time: 05:43    - Actual Time: 05:45:29    - Delay: 2 minutes    - Arrival\n",
      "Track: 3  5. **Departure - Tikkurila (TKL)**    - Scheduled Time: 05:44    - Actual Time: 05:47:20\n",
      "- Delay: 3 minutes  6. **Arrival - Lahti (LH)**    - Scheduled Time: 06:16    - Actual Time:\n",
      "06:22:39    - Delay: 7 minutes    - Arrival Track: 1  7. **Departure - Järvenpää (JTS)**    -\n",
      "Scheduled Time: 07:39    - Actual Time: 07:47:01    - Delay: 8 minutes    - Departure Track: 1  8.\n",
      "**Arrival - Joensuu (JNS)**    - Scheduled Time: 09:45    - Actual Time: 09:52:33    - Delay: 8\n",
      "minutes    - Arrival Track: 3  The train experienced delays periodically across multiple stations.\n",
      "If you need more detailed station stops or additional information, feel free to ask!\n"
     ]
    }
   ],
   "source": [
    "#| eval: false\n",
    "messages = form_msgs([\n",
    "    (\"system\", \"You are a helpful system administrator. Use the supplied tools to help the user.\"),\n",
    "    (\"user\", \"Get me information about the trains departing on 2017-11-09 with train number 1.\"),\n",
    "])\n",
    "complete(messages, api_schema(\"https://rata.digitraffic.fi\", train_digitraffic, fixup=generate_request))\n",
    "print_msgs(messages)"
   ]
  },
  {
   "cell_type": "code",
   "execution_count": null,
   "metadata": {},
   "outputs": [
    {
     "name": "stdout",
     "output_type": "stream",
     "text": [
      "\u001b[1m\u001b[31m>> \u001b[43m\u001b[31mSystem:\u001b[0m\n",
      "You are a helpful system administrator. Use the supplied tools to help the user.\n",
      "\u001b[1m\u001b[31m>> \u001b[43m\u001b[32mUser:\u001b[0m\n",
      "Get me information about the trains departing on 2017-11-09 with train number 1.\n",
      "\u001b[1m\u001b[31m>> \u001b[43m\u001b[34mAssistant:\u001b[0m\n",
      "Train number 1, departing on November 9, 2017, is an InterCity (IC) type categorized as a long-\n",
      "distance train and operated by VR (operator code 10).  Here's a summary of its schedule and run:  -\n",
      "**Departure from Helsinki (HKI)**: Scheduled at 07:28 AM, actual departure at 07:30 AM. There was a\n",
      "3-minute delay. - **Arrival and Departure at Pasila (PSL)**:     - Arrival: Scheduled at 07:33 AM,\n",
      "actual arrival at 07:35 AM, with a 2-minute delay.   - Departure: Scheduled at 07:34 AM, actual\n",
      "departure at 07:37 AM, with a 3-minute delay. - **Arrival at Joensuu (JNS)**: Scheduled at 11:45 AM,\n",
      "actual arrival at 11:52 AM. The train had an 8-minute delay. Causes of this delay include traffic\n",
      "congestion.  The train was not cancelled, ran according to a regular timetable, and had several\n",
      "stops along the route, with varying degrees of delay at each station. Additionally, the train\n",
      "encountered a few causes for delays, like traffic congestion, as it progressed toward Joensuu.  If\n",
      "you need more detailed information about specific stops or additional aspects of the journey, feel\n",
      "free to ask!\n"
     ]
    }
   ],
   "source": [
    "#| eval: false\n",
    "messages = form_msgs([\n",
    "    (\"system\", \"You are a helpful system administrator. Use the supplied tools to help the user.\"),\n",
    "    (\"user\", \"Get me information about the trains departing on 2017-11-09 with train number 1.\")\n",
    "])\n",
    "complete(messages, api_schema(\"https://rata.digitraffic.fi\", train_digitraffic, fixup=generate_request))\n",
    "print_msgs(messages)"
   ]
  },
  {
   "cell_type": "code",
   "execution_count": null,
   "metadata": {},
   "outputs": [
    {
     "name": "stdout",
     "output_type": "stream",
     "text": [
      "\u001b[1m\u001b[31m>> \u001b[43m\u001b[31mSystem:\u001b[0m\n",
      "You are a helpful system administrator. Use the supplied tools to help the user.\n",
      "\u001b[1m\u001b[31m>> \u001b[43m\u001b[32mUser:\u001b[0m\n",
      "Are there any active nautical warnings?\n",
      "\u001b[1m\u001b[31m>> \u001b[43m\u001b[34mAssistant:\u001b[0m\n",
      "There are several active nautical warnings:  1. **VEITSILUOTO FAIRWAY**: The leading light\n",
      "Ropposenkari Front (No. 9151) is out of order at position 65-38.21N 024-37.77E.  2. **OULU\n",
      "FAIRWAY**: The leading line Pensaskari Rear (No. 8986) is out of order at position 65-03.24N\n",
      "025-16.05E.  3. **HAILUOTO FIXED LINK**: The construction site will close the bridge openings during\n",
      "the winter season. They are expected to open by April 30, 2025.  4. **FINNISH SEA AREAS AND INLAND\n",
      "WATERWAYS**: Due to winter conditions, aids to navigation may be out of position or unlit; vessels\n",
      "are advised to navigate with caution.  5. **TURKU HARBOUR**: Construction works at berths S1 – 24,\n",
      "vessels are advised to navigate with caution and contact Archipelago VTS for more information.  6.\n",
      "**LAPPOHJA FAIRWAY**: A buoy is adrift towards the shoreline, precaution is advised.  7. **HESSUND\n",
      "FAIRWAY**: Closed for traffic from November 20, 2024, to April 30, 2025, due to bridge construction\n",
      "work.  8. **SKÖLDVIK 15.3M FAIRWAY**: Lighthouse Porvoo (No. 294) has its racon and light out of\n",
      "order.  9. **TAALINTEHDAS FAIRWAY**: Sector light Padvagrundet (No. 20450) is out of order.  10.\n",
      "**KOKKOLA FAIRWAY**: Leading line Outokumpu Rear (No. 9092) light is out of order.  11. **NYHAMN-\n",
      "RÖDSKÄR FAIRWAY**: Sector Light Bogskär (No. 6292) is out of order.  12. **VASA FAIRWAY**: Leading\n",
      "Line Gåsgrund Front (No. 7400) racon is out of order.  13. **VAPPARN-HARVALUOTO FAIRWAY**: The\n",
      "fairway beneath Kirjala Bridge is closed until further notice due to construction work.\n"
     ]
    }
   ],
   "source": [
    "#| eval: false\n",
    "messages = form_msgs([\n",
    "    (\"system\", \"You are a helpful system administrator. Use the supplied tools to help the user.\"),\n",
    "    (\"user\", \"Are there any active nautical warnings?\")\n",
    "])\n",
    "complete(messages, api_schema(\"https://meri.digitraffic.fi\", marine_digitraffic, fixup=generate_request))\n",
    "print_msgs(messages)"
   ]
  },
  {
   "cell_type": "markdown",
   "metadata": {},
   "source": [
    "Test with Pet Store endpoint:"
   ]
  },
  {
   "cell_type": "code",
   "execution_count": null,
   "metadata": {},
   "outputs": [
    {
     "name": "stdout",
     "output_type": "stream",
     "text": [
      "\u001b[1m\u001b[31m>> \u001b[43m\u001b[31mSystem:\u001b[0m\n",
      "You are a helpful system administrator. Use the supplied tools to help the user.\n",
      "\u001b[1m\u001b[31m>> \u001b[43m\u001b[32mUser:\u001b[0m\n",
      "Find me some available pets.\n",
      "\u001b[1m\u001b[31m>> \u001b[43m\u001b[34mAssistant:\u001b[0m\n",
      "I'm sorry, but it seems there was an error processing your request to find available pets. Please\n",
      "try again later or check back for any updates.\n"
     ]
    }
   ],
   "source": [
    "#| eval: false\n",
    "pet_store = load_oas(\n",
    "    oas_url=\"https://petstore3.swagger.io/api/v3/openapi.json\", \n",
    "    destination=\"api/petstore3.json\"\n",
    ")\n",
    "\n",
    "messages = form_msgs([\n",
    "    (\"system\", \"You are a helpful system administrator. Use the supplied tools to help the user.\"),\n",
    "    (\"user\", \"Find me some available pets.\")\n",
    "])\n",
    "complete(messages, api_schema(\"https://petstore3.swagger.io/api/v3\", pet_store, fixup=generate_request))\n",
    "print_msgs(messages)"
   ]
  },
  {
   "cell_type": "code",
   "execution_count": null,
   "metadata": {},
   "outputs": [],
   "source": [
    "#| export\n",
    "def add_api_tools(\n",
    "    tools: list,  # List of existing tools\n",
    "    service_name: str,  # Name of the API service\n",
    "    base_url: str,  # Base URL of the API service\n",
    "    oas_url: Optional[str] = None,  # OpenAPI Specification URL\n",
    "    oas_destination: Optional[str] = None # OpenAPI Specification destination file\n",
    "):\n",
    "    \"\"\"Add API tools to the toolbox.\"\"\"\n",
    "    # Load OpenAPI Specification\n",
    "    if oas_url is None:\n",
    "        oas_url = f\"{base_url}/swagger/openapi.json\"\n",
    "    if oas_destination is None:\n",
    "        oas_destination = f\"api/{service_name}.json\"\n",
    "    oas = load_oas(oas_url, oas_destination, overwrite=True)\n",
    "\n",
    "    # Create tool schema and append to toolbox\n",
    "    schema = api_schema(base_url, oas, service_name=service_name, fixup=generate_request)\n",
    "    tools.extend(schema)"
   ]
  },
  {
   "cell_type": "code",
   "execution_count": null,
   "metadata": {},
   "outputs": [
    {
     "data": {
      "text/markdown": [
       "---\n",
       "\n",
       "[source](https://github.com/ninjalabo/llmcam/blob/main/llmcam/utils/store.py#L44){target=\"_blank\" style=\"float:right; font-size:smaller\"}\n",
       "\n",
       "### add_api_tools\n",
       "\n",
       ">      add_api_tools (tools:list, service_name:str, base_url:str,\n",
       ">                     oas_url:Optional[str]=None,\n",
       ">                     oas_destination:Optional[str]=None)\n",
       "\n",
       "*Add API tools to the toolbox.*\n",
       "\n",
       "|    | **Type** | **Default** | **Details** |\n",
       "| -- | -------- | ----------- | ----------- |\n",
       "| tools | list |  | List of existing tools |\n",
       "| service_name | str |  | Name of the API service |\n",
       "| base_url | str |  | Base URL of the API service |\n",
       "| oas_url | Optional | None | OpenAPI Specification URL |\n",
       "| oas_destination | Optional | None | OpenAPI Specification destination file |"
      ],
      "text/plain": [
       "---\n",
       "\n",
       "[source](https://github.com/ninjalabo/llmcam/blob/main/llmcam/utils/store.py#L44){target=\"_blank\" style=\"float:right; font-size:smaller\"}\n",
       "\n",
       "### add_api_tools\n",
       "\n",
       ">      add_api_tools (tools:list, service_name:str, base_url:str,\n",
       ">                     oas_url:Optional[str]=None,\n",
       ">                     oas_destination:Optional[str]=None)\n",
       "\n",
       "*Add API tools to the toolbox.*\n",
       "\n",
       "|    | **Type** | **Default** | **Details** |\n",
       "| -- | -------- | ----------- | ----------- |\n",
       "| tools | list |  | List of existing tools |\n",
       "| service_name | str |  | Name of the API service |\n",
       "| base_url | str |  | Base URL of the API service |\n",
       "| oas_url | Optional | None | OpenAPI Specification URL |\n",
       "| oas_destination | Optional | None | OpenAPI Specification destination file |"
      ]
     },
     "execution_count": null,
     "metadata": {},
     "output_type": "execute_result"
    }
   ],
   "source": [
    "show_doc(add_api_tools)"
   ]
  },
  {
   "cell_type": "markdown",
   "metadata": {},
   "source": [
    "Example usage:"
   ]
  },
  {
   "cell_type": "code",
   "execution_count": null,
   "metadata": {},
   "outputs": [
    {
     "data": {
      "text/plain": [
       "{'type': 'function',\n",
       " 'function': {'name': 'tmsStationsDatex2Xml',\n",
       "  'description': 'The static information of TMS stations in Datex2 format (Traffic Measurement System / LAM)',\n",
       "  'parameters': {'type': 'object',\n",
       "   'properties': {'query': {'type': 'object',\n",
       "     'properties': {'state': {'type': 'string',\n",
       "       'description': 'Road station state',\n",
       "       'default': 'ACTIVE',\n",
       "       'enum': ['ALL', 'REMOVED', 'ACTIVE']}},\n",
       "     'required': []}},\n",
       "   'required': []},\n",
       "  'metadata': {'url': 'https://tie.digitraffic.fi/api/beta/tms-stations-datex2.xml',\n",
       "   'method': 'get',\n",
       "   'accepted_queries': ['state'],\n",
       "   'service': 'road_digitraffic'},\n",
       "  'fixup': 'llmcam.core.oas_to_requests.generate_request'}}"
      ]
     },
     "execution_count": null,
     "metadata": {},
     "output_type": "execute_result"
    }
   ],
   "source": [
    "tools = []\n",
    "add_api_tools(tools, \"road_digitraffic\", \"https://tie.digitraffic.fi\")\n",
    "assert len(tools) > 0\n",
    "tools[0]"
   ]
  },
  {
   "cell_type": "code",
   "execution_count": null,
   "metadata": {},
   "outputs": [
    {
     "name": "stdout",
     "output_type": "stream",
     "text": [
      "\u001b[1m\u001b[31m>> \u001b[43m\u001b[31mSystem:\u001b[0m\n",
      "You are a helpful system administrator. Use the supplied tools to help the user.\n",
      "\u001b[1m\u001b[31m>> \u001b[43m\u001b[32mUser:\u001b[0m\n",
      "Get the weather camera information for the stations with ID C01503 and C01504.\n",
      "\u001b[1m\u001b[31m>> \u001b[43m\u001b[34mAssistant:\u001b[0m\n",
      "Here is the weather camera information for the stations with ID C01503 and C01504:  ### Station ID:\n",
      "C01503 - **Name:** Road 51 Inkoo - **Camera Type:** BOSCH - **Coordinates:** Latitude 60.05374,\n",
      "Longitude 23.99616 - **Municipality:** Inkoo - **Province:** Uusimaa - **Nearest Weather Station\n",
      "ID:** 1013 - **Collection Status:** Gathering - **Collection Interval:** 600 seconds - **Presets:**\n",
      "- **Inkooseen:**     - Resolution: 1280x720     - [Image\n",
      "URL](https://weathercam.digitraffic.fi/C0150301.jpg)   - **Hankoon:**     - Resolution: 1280x720\n",
      "- [Image URL](https://weathercam.digitraffic.fi/C0150302.jpg)   - **Tienpinta (Special Direction):**\n",
      "- Resolution: 1280x720     - [Image URL](https://weathercam.digitraffic.fi/C0150309.jpg)  ###\n",
      "Station ID: C01504 - **Name:** Road 2 Karkkila, Kappeli - **Camera Type:** HIKVISION -\n",
      "**Coordinates:** Latitude 60.536727, Longitude 24.235601 - **Municipality:** Karkkila -\n",
      "**Province:** Uusimaa - **Nearest Weather Station ID:** 1052 - **Collection Status:** Gathering -\n",
      "**Collection Interval:** 600 seconds - **Presets:**   - **Poriin:**     - Resolution: 1280x720     -\n",
      "[Image URL](https://weathercam.digitraffic.fi/C0150401.jpg)   - **Helsinkiin:**     - Resolution:\n",
      "1280x720     - [Image URL](https://weathercam.digitraffic.fi/C0150402.jpg)   - **Tienpinta (Special\n",
      "Direction):**     - Resolution: 1280x720     - [Image\n",
      "URL](https://weathercam.digitraffic.fi/C0150409.jpg)  If you need more details or information, feel\n",
      "free to ask!\n"
     ]
    }
   ],
   "source": [
    "#| eval: false\n",
    "messages = form_msgs([\n",
    "    (\"system\", \"You are a helpful system administrator. Use the supplied tools to help the user.\"),\n",
    "    (\"user\", \"Get the weather camera information for the stations with ID C01503 and C01504.\"),\n",
    "])\n",
    "complete(messages, tools=tools)\n",
    "print_msgs(messages)"
   ]
  },
  {
   "cell_type": "markdown",
   "metadata": {},
   "source": [
    "## Dynamic functions from installed libraries"
   ]
  },
  {
   "cell_type": "markdown",
   "metadata": {},
   "source": [
    "It is possible to dynamically import a function in installed library and execute it with `importlib`."
   ]
  },
  {
   "cell_type": "code",
   "execution_count": null,
   "metadata": {},
   "outputs": [],
   "source": [
    "#| export\n",
    "from importlib import import_module\n",
    "from typing import Callable, Any\n",
    "from llmcam.core.fn_to_fc import tool_schema"
   ]
  },
  {
   "cell_type": "markdown",
   "metadata": {},
   "source": [
    "Utility to add functions from installed libraries to ToolBox."
   ]
  },
  {
   "cell_type": "code",
   "execution_count": null,
   "metadata": {},
   "outputs": [],
   "source": [
    "#| export\n",
    "def add_function_tools(\n",
    "    tools: list,  # List of existing tools\n",
    "    service_name: str,  # Name of the service\n",
    "    function_names: list[str],  # List of function names (with module prefix)\n",
    "):\n",
    "    \"\"\"Add function tools to the toolbox.\"\"\"\n",
    "    # Import functions\n",
    "    for function_name in function_names:\n",
    "        # Get module prefix\n",
    "        module_prefix = function_name.split(\".\")\n",
    "        if len(module_prefix) == 1:\n",
    "            module_prefix = \"builtins\"\n",
    "        else:\n",
    "            module_prefix = \".\".join(module_prefix[:-1])\n",
    "\n",
    "        # Get function name without module prefix\n",
    "        func_name = function_name.split(\".\")[-1]\n",
    "\n",
    "        # Import function\n",
    "        if module_prefix == \"builtins\":\n",
    "            func: Callable = getattr(__builtins__, func_name, None)\n",
    "        else:\n",
    "            func: Callable = getattr(import_module(module_prefix), func_name, None)\n",
    "\n",
    "        # Raise error if function not found\n",
    "        if func is None:\n",
    "            raise ValueError(f\"Function not found: {function_name}\")\n",
    "        \n",
    "        # Create tool schema and append to toolbox\n",
    "        tools.append(tool_schema(func=func, service_name=service_name))"
   ]
  },
  {
   "cell_type": "code",
   "execution_count": null,
   "metadata": {},
   "outputs": [
    {
     "data": {
      "text/markdown": [
       "---\n",
       "\n",
       "[source](https://github.com/ninjalabo/llmcam/blob/main/llmcam/utils/store.py#L69){target=\"_blank\" style=\"float:right; font-size:smaller\"}\n",
       "\n",
       "### add_function_tools\n",
       "\n",
       ">      add_function_tools (tools:list, service_name:str,\n",
       ">                          function_names:list[str])\n",
       "\n",
       "*Add function tools to the toolbox.*\n",
       "\n",
       "|    | **Type** | **Details** |\n",
       "| -- | -------- | ----------- |\n",
       "| tools | list | List of existing tools |\n",
       "| service_name | str | Name of the service |\n",
       "| function_names | list | List of function names (with module prefix) |"
      ],
      "text/plain": [
       "---\n",
       "\n",
       "[source](https://github.com/ninjalabo/llmcam/blob/main/llmcam/utils/store.py#L69){target=\"_blank\" style=\"float:right; font-size:smaller\"}\n",
       "\n",
       "### add_function_tools\n",
       "\n",
       ">      add_function_tools (tools:list, service_name:str,\n",
       ">                          function_names:list[str])\n",
       "\n",
       "*Add function tools to the toolbox.*\n",
       "\n",
       "|    | **Type** | **Details** |\n",
       "| -- | -------- | ----------- |\n",
       "| tools | list | List of existing tools |\n",
       "| service_name | str | Name of the service |\n",
       "| function_names | list | List of function names (with module prefix) |"
      ]
     },
     "execution_count": null,
     "metadata": {},
     "output_type": "execute_result"
    }
   ],
   "source": [
    "show_doc(add_function_tools)"
   ]
  },
  {
   "cell_type": "markdown",
   "metadata": {},
   "source": [
    "Example usage:"
   ]
  },
  {
   "cell_type": "code",
   "execution_count": null,
   "metadata": {},
   "outputs": [
    {
     "data": {
      "text/plain": [
       "[{'type': 'function',\n",
       "  'function': {'name': 'capture_youtube_live_frame_and_save',\n",
       "   'description': 'Capture a jpeg file from YouTube Live and save in data directory',\n",
       "   'parameters': {'type': 'object',\n",
       "    'properties': {'link': {'anyOf': [{'type': 'string',\n",
       "        'description': 'YouTube Live link'},\n",
       "       {'type': 'null',\n",
       "        'description': 'A default value will be automatically used.'}]},\n",
       "     'place': {'anyOf': [{'type': 'string',\n",
       "        'description': 'Location of live image'},\n",
       "       {'type': 'null',\n",
       "        'description': 'A default value will be automatically used.'}]}},\n",
       "    'required': []},\n",
       "   'metadata': {'module': 'llmcam.core.fn_to_fc', 'service': 'youtube_live'}}},\n",
       " {'type': 'function',\n",
       "  'function': {'name': 'ask_gpt4v_about_image_file',\n",
       "   'description': 'Tell all about quantitative information from a given image file',\n",
       "   'parameters': {'type': 'object',\n",
       "    'properties': {'path': {'type': 'string',\n",
       "      'description': 'Path to the image file'}},\n",
       "    'required': ['path']},\n",
       "   'metadata': {'module': 'llmcam.core.fn_to_fc', 'service': 'youtube_live'}}}]"
      ]
     },
     "execution_count": null,
     "metadata": {},
     "output_type": "execute_result"
    }
   ],
   "source": [
    "tools = []\n",
    "add_function_tools(\n",
    "    tools, \n",
    "    \"youtube_live\", \n",
    "    [\n",
    "        \"llmcam.core.fn_to_fc.capture_youtube_live_frame_and_save\", \n",
    "        \"llmcam.core.fn_to_fc.ask_gpt4v_about_image_file\"\n",
    "    ])\n",
    "assert len(tools) == 2\n",
    "tools"
   ]
  },
  {
   "cell_type": "code",
   "execution_count": null,
   "metadata": {},
   "outputs": [
    {
     "name": "stdout",
     "output_type": "stream",
     "text": [
      "[youtube] Extracting URL: https://www.youtube.com/watch?v=LMZQ7eFhm58\n",
      "[youtube] LMZQ7eFhm58: Downloading webpage\n",
      "[youtube] LMZQ7eFhm58: Downloading ios player API JSON\n",
      "[youtube] LMZQ7eFhm58: Downloading mweb player API JSON\n",
      "[youtube] LMZQ7eFhm58: Downloading m3u8 information\n",
      "[youtube] LMZQ7eFhm58: Downloading m3u8 information\n",
      "09.12.2024 23:08:52 Olympiaterminaali\n",
      "\u001b[1m\u001b[31m>> \u001b[43m\u001b[31mSystem:\u001b[0m\n",
      "You are a helpful system administrator. Use the supplied tools to assist the user.\n",
      "\u001b[1m\u001b[31m>> \u001b[43m\u001b[32mUser:\u001b[0m\n",
      "Hi, can you capture and extract information from a YouTube Live? Use the default link.\n",
      "\u001b[1m\u001b[31m>> \u001b[43m\u001b[34mAssistant:\u001b[0m\n",
      "I've captured a frame from the YouTube Live stream and extracted the following information from the\n",
      "image:  - **Timestamp:** 2024-12-09T23:08:52 - **Location:** Olympiaterminaali - **Image\n",
      "Dimensions:** 1280 x 720 - **Buildings:** 5 buildings, ranging from 2-4 stories in height -\n",
      "**Vehicles:** 15 cars, 1 truck, 2 boats - **Parking:** 10 available parking spaces - **Street\n",
      "Lights:** 15 - **Persons:** 0 detected - **Time of Day:** Night - **Lighting:** Prominent artificial\n",
      "lighting - **Visibility:** Clear - **Sky:** Visible and dark - **Water Bodies:** Visible, identified\n",
      "as a harbor  If you need more details or further analysis, feel free to ask!\n"
     ]
    }
   ],
   "source": [
    "#| eval: false\n",
    "messages = form_msgs([\n",
    "    (\"system\", \"You are a helpful system administrator. Use the supplied tools to assist the user.\"),\n",
    "    (\"user\", \"Hi, can you capture and extract information from a YouTube Live? Use the default link.\")\n",
    "])\n",
    "complete(messages, tools=tools)\n",
    "print_msgs(messages)"
   ]
  },
  {
   "cell_type": "markdown",
   "metadata": {},
   "source": [
    "## ToolBox management as FC\n",
    "\n",
    "While the base functions for adding functions and APIs as tools work for appending new functions to an existing Python list, these functions cannot be easily transformed into tools to be used for function calling because:\n",
    "\n",
    "- Changes must be made into the top-level `tools` and continue to be applied in all subsequent conversations.\n",
    "- `tools` cannot be safely interpreted as a part of message as in some cases new tool changes may exceed token limit.\n",
    "\n",
    "One solution to this is to introduce a special fix-up function is used for handlers which accesses the correct instance of `tools`. This function is to be created and attached to the `tools` instance at the moment of creation. However, this may cause issues on the application side as there might be multiple instances of `tools` being created. To combat this issue, we can have an alternative workflow involving a mapping of `session_tools` which maps each instance of `tools` with a corresponding unique ID. Paired with this mapping will be an fix-up function which extracts the tool instance and pass into core execution function."
   ]
  },
  {
   "cell_type": "code",
   "execution_count": null,
   "metadata": {},
   "outputs": [],
   "source": [
    "#| export\n",
    "\n",
    "# Additional functions\n",
    "def remove_tools(\n",
    "    tools: list,  # List of existing tools\n",
    "    service_name: str  # Name of the service\n",
    "):\n",
    "    \"\"\"Remove tools from the toolbox.\"\"\"\n",
    "    tools[:] = [tool for tool in tools if (\"service\" not in tool[\"function\"][\"metadata\"] or \\\n",
    "                                       tool[\"function\"][\"metadata\"][\"service\"] != service_name)]"
   ]
  },
  {
   "cell_type": "code",
   "execution_count": null,
   "metadata": {},
   "outputs": [],
   "source": [
    "#| export\n",
    "import importlib"
   ]
  },
  {
   "cell_type": "code",
   "execution_count": null,
   "metadata": {},
   "outputs": [],
   "source": [
    "#| export\n",
    "def execute_handler_core(\n",
    "    tools: list, # Tools for each session\n",
    "    function_name: str,  # Name of the function to execute\n",
    "    module: str,  # Module of the function\n",
    "    **kwargs  # Keyword arguments\n",
    "):\n",
    "    \"\"\"Execute the handler function by retrieving function with session ID.\"\"\"\n",
    "    # Get the function\n",
    "    module = importlib.import_module(module)\n",
    "    function = getattr(module, function_name, None)\n",
    "    if function is None:\n",
    "        raise ValueError(f\"Function not found: {function_name}\")\n",
    "    \n",
    "    if \"service\" in kwargs:\n",
    "        del kwargs[\"service\"]\n",
    "    \n",
    "    # Execute the function\n",
    "    function(tools, **kwargs)"
   ]
  },
  {
   "cell_type": "code",
   "execution_count": null,
   "metadata": {},
   "outputs": [],
   "source": [
    "#| export\n",
    "def handler_schema(\n",
    "    function: Callable,  # Handler function\n",
    "    service_name: str = \"toolbox_handler\",  # Name of the service\n",
    "    fixup: Optional[Callable] = None,  # Function to fixup function execution\n",
    "    **kwargs  # Additional keyword arguments\n",
    "):\n",
    "    \"\"\"Create a schema for handlers.\"\"\"\n",
    "    schema = tool_schema(function, service_name=service_name)\n",
    "    schema[\"function\"][\"metadata\"][\"service\"] = service_name\n",
    "\n",
    "    # Add additional metadata\n",
    "    for key, value in kwargs.items():\n",
    "        schema[\"function\"][\"metadata\"][key] = value\n",
    "\n",
    "    if fixup: schema[\"function\"]['fixup'] = f\"{fixup.__module__}.{fixup.__name__}\"\n",
    "\n",
    "    # Remove tools from parameters\n",
    "    if \"tools\" in schema[\"function\"][\"parameters\"][\"properties\"]:\n",
    "        del schema[\"function\"][\"parameters\"][\"properties\"][\"tools\"]\n",
    "        schema[\"function\"][\"parameters\"][\"required\"].remove(\"tools\")\n",
    "    \n",
    "    return schema"
   ]
  },
  {
   "cell_type": "markdown",
   "metadata": {},
   "source": [
    "Example usage:"
   ]
  },
  {
   "cell_type": "code",
   "execution_count": null,
   "metadata": {},
   "outputs": [
    {
     "data": {
      "text/plain": [
       "{'type': 'function',\n",
       " 'function': {'name': 'add_api_tools',\n",
       "  'description': 'Add API tools to the toolbox.',\n",
       "  'parameters': {'type': 'object',\n",
       "   'properties': {'service_name': {'type': 'string',\n",
       "     'description': 'Name of the API service'},\n",
       "    'base_url': {'type': 'string',\n",
       "     'description': 'Base URL of the API service'},\n",
       "    'oas_url': {'anyOf': [{'type': 'string',\n",
       "       'description': 'OpenAPI Specification URL'},\n",
       "      {'type': 'null',\n",
       "       'description': 'A default value will be automatically used.'}]},\n",
       "    'oas_destination': {'anyOf': [{'type': 'string',\n",
       "       'description': 'OpenAPI Specification destination file'},\n",
       "      {'type': 'null',\n",
       "       'description': 'A default value will be automatically used.'}]}},\n",
       "   'required': ['service_name', 'base_url']},\n",
       "  'metadata': {'module': '__main__', 'service': 'toolbox_handler'},\n",
       "  'fixup': '__main__.execute_handler'}}"
      ]
     },
     "execution_count": null,
     "metadata": {},
     "output_type": "execute_result"
    }
   ],
   "source": [
    "tools = []\n",
    "def execute_handler(function_name, **kwargs):\n",
    "    execute_handler_core(tools, function_name, **kwargs)\n",
    "\n",
    "tools.extend([handler_schema(function, service_name=\"toolbox_handler\", fixup=execute_handler) for function in [\n",
    "        add_api_tools,\n",
    "        add_function_tools,\n",
    "        remove_tools\n",
    "    ]])\n",
    "assert len(tools) == 3\n",
    "tools[0]"
   ]
  },
  {
   "cell_type": "code",
   "execution_count": null,
   "metadata": {},
   "outputs": [
    {
     "data": {
      "text/plain": [
       "{'type': 'function',\n",
       " 'function': {'name': 'tmsStationsDatex2Json',\n",
       "  'description': 'The static information of TMS stations in Datex2 format (Traffic Measurement System / LAM)',\n",
       "  'parameters': {'type': 'object',\n",
       "   'properties': {'query': {'type': 'object',\n",
       "     'properties': {'state': {'type': 'string',\n",
       "       'description': 'Road station state',\n",
       "       'default': 'ACTIVE',\n",
       "       'enum': ['ALL', 'REMOVED', 'ACTIVE']}},\n",
       "     'required': []}},\n",
       "   'required': []},\n",
       "  'metadata': {'url': 'https://tie.digitraffic.fi/api/beta/tms-stations-datex2.json',\n",
       "   'method': 'get',\n",
       "   'accepted_queries': ['state'],\n",
       "   'service': 'road_digitraffic'},\n",
       "  'fixup': 'llmcam.core.oas_to_requests.generate_request'}}"
      ]
     },
     "execution_count": null,
     "metadata": {},
     "output_type": "execute_result"
    }
   ],
   "source": [
    "execute_handler(\n",
    "    \"add_api_tools\",\n",
    "    module=\"__main__\",\n",
    "    service_name=\"road_digitraffic\",\n",
    "    base_url=\"https://tie.digitraffic.fi\"\n",
    ")\n",
    "assert len(tools) > 3\n",
    "tools[4]"
   ]
  },
  {
   "cell_type": "markdown",
   "metadata": {},
   "source": [
    "Simulated GPT workflow:"
   ]
  },
  {
   "cell_type": "code",
   "execution_count": null,
   "metadata": {},
   "outputs": [],
   "source": [
    "from llmcam.core.fn_to_fc import complete, form_msg, form_msgs, print_msgs"
   ]
  },
  {
   "cell_type": "code",
   "execution_count": null,
   "metadata": {},
   "outputs": [],
   "source": [
    "tools = []\n",
    "def execute_handler(function_name, **kwargs):\n",
    "    execute_handler_core(tools, function_name, **kwargs)\n",
    "\n",
    "tools.extend([handler_schema(function, service_name=\"toolbox_handler\", fixup=execute_handler) for function in [\n",
    "        add_api_tools,\n",
    "        add_function_tools,\n",
    "        remove_tools\n",
    "    ]])\n",
    "assert len(tools) == 3"
   ]
  },
  {
   "cell_type": "code",
   "execution_count": null,
   "metadata": {},
   "outputs": [
    {
     "name": "stdout",
     "output_type": "stream",
     "text": [
      "\u001b[1m\u001b[31m>> \u001b[43m\u001b[31mSystem:\u001b[0m\n",
      "You are a helpful system administrator. Use the supplied tools to assist the user.\n",
      "\u001b[1m\u001b[31m>> \u001b[43m\u001b[32mUser:\u001b[0m\n",
      "Add a new API service called 'road_digitraffic'. Use the base URL 'https://tie.digitraffic.fi', and\n",
      "the OpenAPI Specification URL 'https://tie.digitraffic.fi/swagger/openapi.json'.\n",
      "\u001b[1m\u001b[31m>> \u001b[43m\u001b[34mAssistant:\u001b[0m\n",
      "The API service 'road_digitraffic' has been successfully added with the base URL\n",
      "'https://tie.digitraffic.fi' and the OpenAPI Specification URL\n",
      "'https://tie.digitraffic.fi/swagger/openapi.json'.\n"
     ]
    }
   ],
   "source": [
    "#| eval: false\n",
    "messages = form_msgs([\n",
    "    (\"system\", \"You are a helpful system administrator. Use the supplied tools to assist the user.\"),\n",
    "    (\"user\", \"Add a new API service called 'road_digitraffic'. Use the base URL 'https://tie.digitraffic.fi', and the OpenAPI Specification URL 'https://tie.digitraffic.fi/swagger/openapi.json'.\")\n",
    "])\n",
    "complete(messages, tools=tools)\n",
    "print_msgs(messages)"
   ]
  },
  {
   "cell_type": "code",
   "execution_count": null,
   "metadata": {},
   "outputs": [
    {
     "data": {
      "text/plain": [
       "65"
      ]
     },
     "execution_count": null,
     "metadata": {},
     "output_type": "execute_result"
    }
   ],
   "source": [
    "#| eval: false\n",
    "len(tools)"
   ]
  },
  {
   "cell_type": "code",
   "execution_count": null,
   "metadata": {},
   "outputs": [
    {
     "name": "stdout",
     "output_type": "stream",
     "text": [
      "\u001b[1m\u001b[31m>> \u001b[43m\u001b[31mSystem:\u001b[0m\n",
      "You are a helpful system administrator. Use the supplied tools to assist the user.\n",
      "\u001b[1m\u001b[31m>> \u001b[43m\u001b[32mUser:\u001b[0m\n",
      "Add a new API service called 'road_digitraffic'. Use the base URL 'https://tie.digitraffic.fi', and\n",
      "the OpenAPI Specification URL 'https://tie.digitraffic.fi/swagger/openapi.json'.\n",
      "\u001b[1m\u001b[31m>> \u001b[43m\u001b[34mAssistant:\u001b[0m\n",
      "The API service 'road_digitraffic' has been successfully added with the base URL\n",
      "'https://tie.digitraffic.fi' and the OpenAPI Specification URL\n",
      "'https://tie.digitraffic.fi/swagger/openapi.json'.\n",
      "\u001b[1m\u001b[31m>> \u001b[43m\u001b[32mUser:\u001b[0m\n",
      "Get the weather camera information for the stations with ID C01503 and C01504.\n",
      "\u001b[1m\u001b[31m>> \u001b[43m\u001b[34mAssistant:\u001b[0m\n",
      "Here is the weather camera information for the stations with ID C01503 and C01504:  ### Station ID:\n",
      "C01503 - **Name:** kt51_Inkoo - **Camera Type:** BOSCH - **Location:** Latitude 60.05374, Longitude\n",
      "23.99616 - **Nearest Weather Station ID:** 1013 - **Collection Status:** GATHERING -\n",
      "**Municipality:** Inkoo - **Province:** Uusimaa - **Road:** Road 51, Section 14 - **Presets:**   -\n",
      "**Inkooseen:**      - [Image](https://weathercam.digitraffic.fi/C0150301.jpg) (Resolution: 1280x720,\n",
      "Direction: INCREASING_DIRECTION)   - **Hankoon:**      -\n",
      "[Image](https://weathercam.digitraffic.fi/C0150302.jpg) (Resolution: 1280x720, Direction:\n",
      "DECREASING_DIRECTION)   - **Tienpinta:**      -\n",
      "[Image](https://weathercam.digitraffic.fi/C0150309.jpg) (Resolution: 1280x720, Direction:\n",
      "SPECIAL_DIRECTION)  ### Station ID: C01504 - **Name:** vt2_Karkkila_Korpi - **Camera Type:**\n",
      "HIKVISION - **Location:** Latitude 60.536727, Longitude 24.235601 - **Nearest Weather Station ID:**\n",
      "1052 - **Collection Status:** GATHERING - **Municipality:** Karkkila - **Province:** Uusimaa -\n",
      "**Road:** Road 2, Section 13 - **Presets:**   - **Poriin:**      -\n",
      "[Image](https://weathercam.digitraffic.fi/C0150401.jpg) (Resolution: 1280x720, Direction:\n",
      "INCREASING_DIRECTION)   - **Helsinkiin:**      -\n",
      "[Image](https://weathercam.digitraffic.fi/C0150402.jpg) (Resolution: 1280x720, Direction:\n",
      "DECREASING_DIRECTION)   - **Tienpinta:**      -\n",
      "[Image](https://weathercam.digitraffic.fi/C0150409.jpg) (Resolution: 1280x720, Direction:\n",
      "SPECIAL_DIRECTION)\n"
     ]
    }
   ],
   "source": [
    "#| eval: false\n",
    "messages.append(form_msg(\"user\", \"Get the weather camera information for the stations with ID C01503 and C01504.\"))\n",
    "complete(messages, tools=tools)\n",
    "print_msgs(messages)"
   ]
  },
  {
   "cell_type": "code",
   "execution_count": null,
   "metadata": {},
   "outputs": [
    {
     "name": "stdout",
     "output_type": "stream",
     "text": [
      "\u001b[1m\u001b[31m>> \u001b[43m\u001b[31mSystem:\u001b[0m\n",
      "You are a helpful system administrator. Use the supplied tools to assist the user.\n",
      "\u001b[1m\u001b[31m>> \u001b[43m\u001b[32mUser:\u001b[0m\n",
      "Add a new API service called 'road_digitraffic'. Use the base URL 'https://tie.digitraffic.fi', and\n",
      "the OpenAPI Specification URL 'https://tie.digitraffic.fi/swagger/openapi.json'.\n",
      "\u001b[1m\u001b[31m>> \u001b[43m\u001b[34mAssistant:\u001b[0m\n",
      "The API service 'road_digitraffic' has been successfully added with the base URL\n",
      "'https://tie.digitraffic.fi' and the OpenAPI Specification URL\n",
      "'https://tie.digitraffic.fi/swagger/openapi.json'.\n",
      "\u001b[1m\u001b[31m>> \u001b[43m\u001b[32mUser:\u001b[0m\n",
      "Get the weather camera information for the stations with ID C01503 and C01504.\n",
      "\u001b[1m\u001b[31m>> \u001b[43m\u001b[34mAssistant:\u001b[0m\n",
      "Here is the weather camera information for the stations with ID C01503 and C01504:  ### Station ID:\n",
      "C01503 - **Name:** kt51_Inkoo - **Camera Type:** BOSCH - **Location:** Latitude 60.05374, Longitude\n",
      "23.99616 - **Nearest Weather Station ID:** 1013 - **Collection Status:** GATHERING -\n",
      "**Municipality:** Inkoo - **Province:** Uusimaa - **Road:** Road 51, Section 14 - **Presets:**   -\n",
      "**Inkooseen:**      - [Image](https://weathercam.digitraffic.fi/C0150301.jpg) (Resolution: 1280x720,\n",
      "Direction: INCREASING_DIRECTION)   - **Hankoon:**      -\n",
      "[Image](https://weathercam.digitraffic.fi/C0150302.jpg) (Resolution: 1280x720, Direction:\n",
      "DECREASING_DIRECTION)   - **Tienpinta:**      -\n",
      "[Image](https://weathercam.digitraffic.fi/C0150309.jpg) (Resolution: 1280x720, Direction:\n",
      "SPECIAL_DIRECTION)  ### Station ID: C01504 - **Name:** vt2_Karkkila_Korpi - **Camera Type:**\n",
      "HIKVISION - **Location:** Latitude 60.536727, Longitude 24.235601 - **Nearest Weather Station ID:**\n",
      "1052 - **Collection Status:** GATHERING - **Municipality:** Karkkila - **Province:** Uusimaa -\n",
      "**Road:** Road 2, Section 13 - **Presets:**   - **Poriin:**      -\n",
      "[Image](https://weathercam.digitraffic.fi/C0150401.jpg) (Resolution: 1280x720, Direction:\n",
      "INCREASING_DIRECTION)   - **Helsinkiin:**      -\n",
      "[Image](https://weathercam.digitraffic.fi/C0150402.jpg) (Resolution: 1280x720, Direction:\n",
      "DECREASING_DIRECTION)   - **Tienpinta:**      -\n",
      "[Image](https://weathercam.digitraffic.fi/C0150409.jpg) (Resolution: 1280x720, Direction:\n",
      "SPECIAL_DIRECTION)\n",
      "\u001b[1m\u001b[31m>> \u001b[43m\u001b[32mUser:\u001b[0m\n",
      "Remove the 'road_digitraffic' service.\n",
      "\u001b[1m\u001b[31m>> \u001b[43m\u001b[34mAssistant:\u001b[0m\n",
      "The 'road_digitraffic' service has been successfully removed.\n"
     ]
    }
   ],
   "source": [
    "#| eval: false\n",
    "messages.append(form_msg(\"user\", \"Remove the 'road_digitraffic' service.\"))\n",
    "complete(messages, tools=tools)\n",
    "print_msgs(messages)"
   ]
  },
  {
   "cell_type": "code",
   "execution_count": null,
   "metadata": {},
   "outputs": [
    {
     "data": {
      "text/plain": [
       "3"
      ]
     },
     "execution_count": null,
     "metadata": {},
     "output_type": "execute_result"
    }
   ],
   "source": [
    "#| eval: false\n",
    "# After removing the 'road_digitraffic' service, the tools should only contain the initial handlers\n",
    "len(tools)"
   ]
  },
  {
   "cell_type": "code",
   "execution_count": null,
   "metadata": {},
   "outputs": [],
   "source": [
    "#| hide\n",
    "import nbdev; nbdev.nbdev_export()"
   ]
  }
 ],
 "metadata": {
  "kernelspec": {
   "display_name": "python3",
   "language": "python",
   "name": "python3"
  }
 },
 "nbformat": 4,
 "nbformat_minor": 4
}
