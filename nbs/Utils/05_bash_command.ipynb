{
 "cells": [
  {
   "cell_type": "markdown",
   "id": "15e6b1b6-96f2-4976-90d8-a3e2e2cebbdb",
   "metadata": {},
   "source": [
    "# Execute any bash command\n",
    "> This is really risky to publish"
   ]
  },
  {
   "cell_type": "code",
   "execution_count": null,
   "id": "7a701b2a-fd99-40ad-ac84-735ad21e954a",
   "metadata": {},
   "outputs": [],
   "source": [
    "#| default_exp utils.bash_command"
   ]
  },
  {
   "cell_type": "code",
   "execution_count": null,
   "id": "a4f91af1-679a-4fca-b3ed-1ca3b73549d1",
   "metadata": {},
   "outputs": [],
   "source": [
    "#| hide\n",
    "from nbdev.showdoc import *"
   ]
  },
  {
   "cell_type": "code",
   "execution_count": null,
   "id": "3c35a0c4-f280-4b99-b786-492447f47d4b",
   "metadata": {},
   "outputs": [],
   "source": [
    "import openai\n",
    "import subprocess\n",
    "from llmcam.core.fn_to_fc import *"
   ]
  },
  {
   "cell_type": "code",
   "execution_count": null,
   "id": "3a8bf4ac-2b57-41ed-873b-225ea2efd079",
   "metadata": {},
   "outputs": [],
   "source": [
    "#| export\n",
    "def execute_bash_command(command: str) -> str:\n",
    "    \"Execute any given bash command with parameters\"\n",
    "    try:\n",
    "        result = subprocess.check_output(command, shell=True, stderr=subprocess.STDOUT, universal_newlines=True)\n",
    "        return result\n",
    "    except subprocess.CalledProcessError as e:\n",
    "        return f\"Error executing command: {e.output}\""
   ]
  },
  {
   "cell_type": "code",
   "execution_count": null,
   "id": "74cda6a5-1952-4c2c-be1f-127a22089fc6",
   "metadata": {},
   "outputs": [
    {
     "name": "stdout",
     "output_type": "stream",
     "text": [
      "Usage: whoami [OPTION]...\n",
      "Print the user name associated with the current effective user ID.\n",
      "Same as id -un.\n",
      "\n",
      "      --help     display this help and exit\n",
      "      --version  output version information and exit\n",
      "\n",
      "GNU coreutils online help: <https://www.gnu.org/software/coreutils/>\n",
      "Full documentation <https://www.gnu.org/software/coreutils/whoami>\n",
      "or available locally via: info '(coreutils) whoami invocation'\n",
      "\n"
     ]
    }
   ],
   "source": [
    "#| eval: false\n",
    "res = execute_bash_command('whoami --help')\n",
    "print(res)"
   ]
  },
  {
   "cell_type": "code",
   "execution_count": null,
   "id": "d8b2f0f6-2bd4-4485-a005-3eedd9407024",
   "metadata": {},
   "outputs": [
    {
     "data": {
      "text/plain": [
       "('assistant',\n",
       " \"Here's the disk usage information:\\n\\n```\\nFilesystem      Size  Used Avail Use% Mounted on\\ntmpfs           1.5G  2.3M  1.5G   1% /run\\n/dev/nvme0n1p2  234G  171G   52G  77% /\\ntmpfs           7.3G  197M  7.1G   3% /dev/shm\\ntmpfs           5.0M  4.0K  5.0M   1% /run/lock\\nefivarfs        246K   60K  181K  25% /sys/firmware/efi/efivars\\n/dev/nvme0n1p1  511M  6.1M  505M   2% /boot/efi\\ntmpfs           1.5G  184K  1.5G   1% /run/user/1000\\n```\\n\\nThis output provides an overview of the file systems, their total size, used space, available space, and the percentage of space used. The details also include the mount points for each file system.\")"
      ]
     },
     "execution_count": null,
     "metadata": {},
     "output_type": "execute_result"
    }
   ],
   "source": [
    "#| eval: false\n",
    "tools = [tool_schema(execute_bash_command)]\n",
    "msgs = form_msgs([\n",
    "    (\"system\", \"You are a helpful system administrator. Use the supplied tools to assist the user.\"),\n",
    "    (\"user\", \"show the disk usage with bash command\"),  \n",
    "])\n",
    "complete(msgs, tools=tools)"
   ]
  },
  {
   "cell_type": "code",
   "execution_count": null,
   "id": "c1d4d654-cefe-47ea-811b-2ba9ac30e1d8",
   "metadata": {},
   "outputs": [
    {
     "data": {
      "text/plain": [
       "('assistant',\n",
       " \"Here's the system information:\\n\\n```\\nLinux e15 6.8.0-49-generic #49~22.04.1-Ubuntu SMP PREEMPT_DYNAMIC Wed Nov  6 17:42:15 UTC 2 x86_64 x86_64 x86_64 GNU/Linux\\n```\\n\\nThis output includes the kernel name (`Linux`), the hostname (`e15`), the kernel version (`6.8.0-49-generic`), the architecture (`x86_64`), and other system details related to your current Ubuntu setup.\")"
      ]
     },
     "execution_count": null,
     "metadata": {},
     "output_type": "execute_result"
    }
   ],
   "source": [
    "#| eval: false\n",
    "msgs.append(form_msg(\"user\", \"show the system info with bash command\"))\n",
    "complete(msgs, tools=tools)"
   ]
  },
  {
   "cell_type": "code",
   "execution_count": null,
   "id": "90a7534b-fa40-421e-9b9c-5ef8990bc418",
   "metadata": {},
   "outputs": [
    {
     "data": {
      "text/plain": [
       "('assistant', 'The current directory is:\\n\\n```\\n/home/doyu/00llmcam/nbs\\n```')"
      ]
     },
     "execution_count": null,
     "metadata": {},
     "output_type": "execute_result"
    }
   ],
   "source": [
    "#| eval: false\n",
    "msgs.append(form_msg(\"user\", \"tell current directory with bash command\"))\n",
    "complete(msgs, tools=tools)"
   ]
  },
  {
   "cell_type": "code",
   "execution_count": null,
   "id": "97081140-8140-40d9-87aa-205b11e45f67",
   "metadata": {},
   "outputs": [
    {
     "data": {
      "text/plain": [
       "('assistant',\n",
       " 'Here are the files under the `../data` directory:\\n\\n- `cap_2024.09.28_15:59:06_Presidentinlinna.jpg`\\n- `cap_2024.09.28_16:00:11_Presidentinlinna.jpg`\\n- `cap_2024.09.28_16:01:16_Etelasatama.jpg`\\n- `cap_2024.09.28_16:02:21_Etelasatama.jpg`\\n- `cap_2024.09.28_16:05:31_Olympiaterminaali.jpg`\\n- `cap_2024.09.28_16:06:36_Olympiaterminaali.jpg`\\n- `cap_2024.09.28_16:07:41_Torni.jpg`\\n- `cap_2024.09.28_16:09:51_Tuomiokirkko.jpg`\\n- `cap_2024.09.28_16:15:11_Presidentinlinna.jpg`\\n- `cap_2024.09.28_17:33:31_Presidentinlinna.jpg`\\n- ... (and many more)\\n\\nIf you need to see a specific part of the list or need further details, please let me know!')"
      ]
     },
     "execution_count": null,
     "metadata": {},
     "output_type": "execute_result"
    }
   ],
   "source": [
    "#| eval: false\n",
    "msgs.append(form_msg(\"user\", \"list files under ../data with bash command\"))\n",
    "complete(msgs, tools=tools)"
   ]
  },
  {
   "cell_type": "code",
   "execution_count": null,
   "id": "4ce4abd5-5e23-4790-87fe-44cbf55a4259",
   "metadata": {},
   "outputs": [
    {
     "data": {
      "text/plain": [
       "('assistant',\n",
       " 'The file has been successfully renamed from `cap_2024.09.28_15:59:06_Presidentinlinna.jpg` to `xcap_2024.09.28_15:59:06_Presidentinlinna.jpg`.')"
      ]
     },
     "execution_count": null,
     "metadata": {},
     "output_type": "execute_result"
    }
   ],
   "source": [
    "#| eval: false\n",
    "msgs.append(form_msg(\"user\", \"rename cap_2024.09.28_15:59:06_Presidentinlinna.jpg with xcap_2024.09.28_15:59:06_Presidentinlinna.jpg with bash command\"))\n",
    "complete(msgs, tools=tools)"
   ]
  },
  {
   "cell_type": "code",
   "execution_count": null,
   "id": "b25fc779-cdd1-417d-8733-2e695a08ff1e",
   "metadata": {},
   "outputs": [
    {
     "data": {
      "text/plain": [
       "('assistant',\n",
       " 'The file `xcap_2024.09.28_15:59:06_Presidentinlinna.jpg` does exist in the `../data` directory.')"
      ]
     },
     "execution_count": null,
     "metadata": {},
     "output_type": "execute_result"
    }
   ],
   "source": [
    "#| eval: false\n",
    "msgs.append(form_msg(\"user\", \"check if there's xcap_2024.09.28_15:59:06_Presidentinlinna.jpg with bash command\"))\n",
    "complete(msgs, tools=tools)"
   ]
  },
  {
   "cell_type": "code",
   "execution_count": null,
   "id": "b5727164-12aa-43c1-b4ca-0267fbfc8c7e",
   "metadata": {},
   "outputs": [
    {
     "data": {
      "text/plain": [
       "('assistant',\n",
       " 'Here are some of the running processes:\\n\\n```\\nUSER         PID %CPU %MEM    VSZ   RSS TTY      STAT START   TIME COMMAND\\nroot           1  0.0  0.0 167064 12084 ?        Ss   Nov30   0:03 /sbin/init splash\\nroot           2  0.0  0.0      0     0 ?        S    Nov30   0:00 [kthreadd]\\nroot           3  0.0  0.0      0     0 ?        S    Nov30   0:00 [pool_workqueue_release]\\nroot           4  0.0  0.0      0     0 ?        I<   Nov30   0:00 [kworker/R-rcu_g]\\nroot           5  0.0  0.0      0     0 ?        I<   Nov30   0:00 [kworker/R-rcu_p]\\nroot           6  0.0  0.0      0     0 ?        I<   Nov30   0:00 [kworker/R-slub_]\\nroot           7  0.0  0.0      0     0 ?        I<   Nov30   0:00 [kworker/R-netns]\\nroot          10  0.0  0.0      0     0 ?        I<   Nov30   0:00 [kworker/0:0H-events_highpri]\\nroot          12  0.0  0.0      0     0 ?        I<   Nov30   0:00 [kworker/R-mm_pe]\\n```\\n\\nThis output includes the user, process ID (PID), CPU and memory usage, process status, and the command that initiated the process.')"
      ]
     },
     "execution_count": null,
     "metadata": {},
     "output_type": "execute_result"
    }
   ],
   "source": [
    "#| eval: false\n",
    "msgs.append(form_msg(\"user\", \"show some of the running processes with bash command\"))\n",
    "complete(msgs, tools=tools)"
   ]
  },
  {
   "cell_type": "code",
   "execution_count": null,
   "id": "f9974157-bd43-4f1c-bd55-c4e93edabff6",
   "metadata": {},
   "outputs": [
    {
     "data": {
      "text/plain": [
       "('assistant',\n",
       " 'Here are some of the process IDs (PIDs) of running processes:\\n\\n```\\n1\\n2\\n3\\n4\\n5\\n6\\n7\\n10\\n12\\n13\\n```')"
      ]
     },
     "execution_count": null,
     "metadata": {},
     "output_type": "execute_result"
    }
   ],
   "source": [
    "#| eval: false\n",
    "msgs.append(form_msg(\"user\", \"list only those process ids\"))\n",
    "complete(msgs, tools=tools)"
   ]
  },
  {
   "cell_type": "code",
   "execution_count": null,
   "id": "0abb81e5-56e2-4135-9fb0-4d006397607c",
   "metadata": {},
   "outputs": [
    {
     "data": {
      "text/plain": [
       "('assistant',\n",
       " 'The operating system running is a version of Linux, specifically:\\n\\n```\\nUbuntu, with Linux kernel version 6.8.0-49-generic\\n```\\n\\nThis information indicates that the machine is running Ubuntu as its operating system.')"
      ]
     },
     "execution_count": null,
     "metadata": {},
     "output_type": "execute_result"
    }
   ],
   "source": [
    "#| eval: false\n",
    "msgs.append(form_msg(\"user\", \"What kind of Openrating System is running?\"))\n",
    "complete(msgs, tools=tools)"
   ]
  },
  {
   "cell_type": "code",
   "execution_count": null,
   "id": "f901228f-1359-41d6-81a7-af1382331d2d",
   "metadata": {},
   "outputs": [
    {
     "data": {
      "text/plain": [
       "('assistant',\n",
       " \"It seems there was an error trying to capture the desktop image. The tool could not access the X Window system, possibly due to the environment in which it's running, which may not support direct graphical access or the X server is not available.\\n\\nIf you are running in a headless environment or without a graphical interface, this could lead to such errors. Let me know if there's anything else you need help with!\")"
      ]
     },
     "execution_count": null,
     "metadata": {},
     "output_type": "execute_result"
    }
   ],
   "source": [
    "#| eval: false\n",
    "msgs.append(form_msg(\"user\", \"Capture the desktop image\"))\n",
    "complete(msgs, tools=tools)"
   ]
  },
  {
   "cell_type": "code",
   "execution_count": null,
   "id": "000d1958-c3a3-466c-98e2-c4983ea9b26e",
   "metadata": {},
   "outputs": [
    {
     "data": {
      "text/plain": [
       "('assistant',\n",
       " 'The `scrot` package is already installed and is the newest version available. You can use it to capture screenshots. If you need further assistance with capturing the screen using `scrot`, feel free to ask!')"
      ]
     },
     "execution_count": null,
     "metadata": {},
     "output_type": "execute_result"
    }
   ],
   "source": [
    "#| eval: false\n",
    "msgs.append(form_msg(\"user\", \"install scrot\"))\n",
    "complete(msgs, tools=tools)"
   ]
  },
  {
   "cell_type": "code",
   "execution_count": null,
   "id": "a15dee71-4f54-4324-9fde-f45cfa9b9a69",
   "metadata": {},
   "outputs": [
    {
     "data": {
      "text/plain": [
       "('assistant',\n",
       " 'The desktop image has been successfully captured and saved as `desktop_capture.png` in the `../data` directory.')"
      ]
     },
     "execution_count": null,
     "metadata": {},
     "output_type": "execute_result"
    }
   ],
   "source": [
    "#| eval: false\n",
    "msgs.append(form_msg(\"user\", \"Capture the desktop image\"))\n",
    "complete(msgs, tools=tools)"
   ]
  },
  {
   "cell_type": "code",
   "execution_count": null,
   "id": "2bd983ca-8621-4380-8bf5-bb29767a85be",
   "metadata": {},
   "outputs": [
    {
     "data": {
      "text/plain": [
       "('assistant',\n",
       " 'The `scrot` package has been successfully uninstalled from your system. If you wish to clean up other packages that were automatically installed with `scrot` and are no longer needed, you can run `sudo apt autoremove`. If you need further assistance, feel free to ask!')"
      ]
     },
     "execution_count": null,
     "metadata": {},
     "output_type": "execute_result"
    }
   ],
   "source": [
    "#| eval: false\n",
    "msgs.append(form_msg(\"user\", \"uninstall scrot\"))\n",
    "complete(msgs, tools=tools)"
   ]
  },
  {
   "cell_type": "code",
   "execution_count": null,
   "id": "401ed80b-55d3-44ae-aed0-d54236670d7e",
   "metadata": {},
   "outputs": [],
   "source": [
    "#| hide\n",
    "import nbdev; nbdev.nbdev_export()"
   ]
  }
 ],
 "metadata": {
  "kernelspec": {
   "display_name": "python3",
   "language": "python",
   "name": "python3"
  }
 },
 "nbformat": 4,
 "nbformat_minor": 5
}
