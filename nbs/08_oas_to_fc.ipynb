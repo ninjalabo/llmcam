{
 "cells": [
  {
   "cell_type": "code",
   "execution_count": null,
   "id": "2c7f9f7b-3f0e-4c3b-9a6c-ff551ef4230e",
   "metadata": {},
   "outputs": [],
   "source": [
    "#| default_exp oas_to_fc"
   ]
  },
  {
   "cell_type": "code",
   "execution_count": null,
   "id": "66d059cb-0be6-41a4-9d74-73d057b342b7",
   "metadata": {},
   "outputs": [],
   "source": [
    "#| export\n",
    "from llmcam.oas_to_requests import *\n",
    "from llmcam.fn_to_fc import *"
   ]
  },
  {
   "cell_type": "code",
   "execution_count": null,
   "id": "cb30b356-7f1c-4825-be8f-79faac3c38bd",
   "metadata": {},
   "outputs": [],
   "source": [
    "#| export\n",
    "import os\n",
    "import json\n",
    "import jsonref\n",
    "import requests\n",
    "from pprint import pp\n",
    "import openai"
   ]
  },
  {
   "cell_type": "code",
   "execution_count": null,
   "id": "b7421c88-a413-4628-9610-27380221b9d7",
   "metadata": {},
   "outputs": [],
   "source": [
    "url = 'https://petstore3.swagger.io/api/v3/openapi.json'\n",
    "filename = 'oas.json'\n",
    "response = requests.get(url)\n",
    "with open(filename, 'wb') as file:\n",
    "    file.write(response.content)"
   ]
  },
  {
   "cell_type": "code",
   "execution_count": null,
   "id": "3f8ebe48-5815-4839-a39b-967d463b0b72",
   "metadata": {},
   "outputs": [
    {
     "name": "stdout",
     "output_type": "stream",
     "text": [
      "/pet : put : updatePet : Update an existing pet\n",
      "/pet : post : addPet : Add a new pet to the store\n",
      "/pet/findByStatus : get : findPetsByStatus : Finds Pets by status\n",
      "/pet/findByTags : get : findPetsByTags : Finds Pets by tags\n",
      "/pet/{petId} : get : getPetById : Find pet by ID\n",
      "/pet/{petId} : post : updatePetWithForm : Updates a pet in the store with form data\n",
      "/pet/{petId} : delete : deletePet : Deletes a pet\n",
      "/pet/{petId}/uploadImage : post : uploadFile : uploads an image\n",
      "/store/inventory : get : getInventory : Returns pet inventories by status\n",
      "/store/order : post : placeOrder : Place an order for a pet\n",
      "/store/order/{orderId} : get : getOrderById : Find purchase order by ID\n",
      "/store/order/{orderId} : delete : deleteOrder : Delete purchase order by ID\n",
      "/user : post : createUser : Create user\n",
      "/user/createWithList : post : createUsersWithListInput : Creates list of users with given input array\n",
      "/user/login : get : loginUser : Logs user into the system\n",
      "/user/logout : get : logoutUser : Logs out current logged in user session\n",
      "/user/{username} : get : getUserByName : Get user by user name\n",
      "/user/{username} : put : updateUser : Update user\n",
      "/user/{username} : delete : deleteUser : Delete user\n"
     ]
    }
   ],
   "source": [
    "with open('oas.json', 'r') as f:\n",
    "    oas = jsonref.loads(f.read()) # it's important to load with jsonref, as explained below\n",
    "for path, methods in oas[\"paths\"].items():\n",
    "    for method, spec_with_ref in methods.items():\n",
    "        print(path, \":\", method, \":\", spec_with_ref['operationId'], \":\", spec_with_ref['summary'])"
   ]
  },
  {
   "cell_type": "code",
   "execution_count": null,
   "id": "cb230915-7502-4630-bac7-234c3d8f02ac",
   "metadata": {},
   "outputs": [],
   "source": [
    "#| export\n",
    "def oas_to_fc(openapi_spec):\n",
    "    functions = []\n",
    "\n",
    "    for path, methods in openapi_spec[\"paths\"].items():\n",
    "        for method, spec_with_ref in methods.items():\n",
    "            # 1. Resolve JSON references.\n",
    "            spec = jsonref.replace_refs(spec_with_ref)\n",
    "\n",
    "            # 2. Extract a name for the functions.\n",
    "            function_name = spec.get(\"operationId\")\n",
    "\n",
    "            # 3. Extract a description and parameters.\n",
    "            desc = spec.get(\"description\") or spec.get(\"summary\", \"\")\n",
    "\n",
    "            schema = {\"type\": \"object\", \"properties\": {}}\n",
    "\n",
    "            req_body = (\n",
    "                spec.get(\"requestBody\", {})\n",
    "                .get(\"content\", {})\n",
    "                .get(\"application/json\", {})\n",
    "                .get(\"schema\")\n",
    "            )\n",
    "            if req_body:\n",
    "                schema[\"properties\"][\"requestBody\"] = req_body\n",
    "\n",
    "            params = spec.get(\"parameters\", [])\n",
    "            if params:\n",
    "                param_properties = {\n",
    "                    param[\"name\"]: param[\"schema\"]\n",
    "                    for param in params\n",
    "                    if \"schema\" in param\n",
    "                }\n",
    "                schema[\"properties\"][\"parameters\"] = {\n",
    "                    \"type\": \"object\",\n",
    "                    \"properties\": param_properties,\n",
    "                }\n",
    "\n",
    "            functions.append(\n",
    "                {\"type\": \"function\", \"function\": {\"name\": function_name, \"description\": desc, \"parameters\": schema}}\n",
    "            )\n",
    "\n",
    "    return functions"
   ]
  },
  {
   "cell_type": "code",
   "execution_count": null,
   "id": "7d9b4f40-553e-438b-a4db-426bbcab8522",
   "metadata": {},
   "outputs": [
    {
     "name": "stdout",
     "output_type": "stream",
     "text": [
      "https://petstore3.swagger.io/api/v3/store/inventory None\n"
     ]
    },
    {
     "data": {
      "text/plain": [
       "('assistant',\n",
       " \"It seems that I couldn't retrieve the inventory information at the moment. Please try again later or check if there is any issue with the system.\")"
      ]
     },
     "execution_count": null,
     "metadata": {},
     "output_type": "execute_result"
    }
   ],
   "source": [
    "#| eval: false\n",
    "tools = oas_to_fc(oas)\n",
    "messages = [{\"role\":\"system\", \"content\":\"You are a helpful system administrator. Use the supplied tools to assist the user.\"}]\n",
    "complete(messages, \"user\", \"Hi, how many pets are sold?\", tools=tools, aux_fn=generate_request_by_operation_id)"
   ]
  }
 ],
 "metadata": {
  "kernelspec": {
   "display_name": "python3",
   "language": "python",
   "name": "python3"
  }
 },
 "nbformat": 4,
 "nbformat_minor": 5
}
