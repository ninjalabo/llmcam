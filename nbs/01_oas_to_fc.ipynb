{
 "cells": [
  {
   "cell_type": "markdown",
   "id": "a523908e-e4ef-40e1-9701-13477562eb13",
   "metadata": {},
   "source": [
    "# OAS -> FC\n",
    "> This notebook is to validate OAS -> FC (Function-Calling) conversion and implement python module for that.\n",
    "\n",
    "In detail, https://chatgpt.com/share/6720630a-827c-8002-85f7-6f02eff3d382"
   ]
  },
  {
   "cell_type": "code",
   "execution_count": null,
   "id": "8e0cd7fa-8456-4460-9afd-1ae6ab2c7dc9",
   "metadata": {},
   "outputs": [],
   "source": [
    "#| default-exp ninjalabo.llmcam.oas_to_fc"
   ]
  },
  {
   "cell_type": "code",
   "execution_count": null,
   "id": "ac0bc57c-3e82-4bdf-aaa2-4ed12b10e31c",
   "metadata": {},
   "outputs": [],
   "source": [
    "#| hide\n",
    "from nbdev.showdoc import *"
   ]
  },
  {
   "cell_type": "code",
   "execution_count": null,
   "id": "5264a236-b94d-4ebb-be9a-57b23dc06d32",
   "metadata": {},
   "outputs": [],
   "source": [
    "#| hide\n",
    "import nbdev; nbdev.nbdev_export()"
   ]
  }
 ],
 "metadata": {
  "kernelspec": {
   "display_name": "ninjalabo",
   "language": "python",
   "name": "python3"
  }
 },
 "nbformat": 4,
 "nbformat_minor": 5
}
