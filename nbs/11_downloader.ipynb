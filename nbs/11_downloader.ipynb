{
 "cells": [
  {
   "cell_type": "markdown",
   "id": "ea387527-2ef4-43bb-b6f1-616e5e313757",
   "metadata": {},
   "source": [
    "# File Downloader in FC\n",
    "> Download a file in FC"
   ]
  },
  {
   "cell_type": "code",
   "execution_count": null,
   "id": "b237e224-9051-477b-8cf2-1a516357499a",
   "metadata": {},
   "outputs": [],
   "source": [
    "#| default_exp downloader"
   ]
  },
  {
   "cell_type": "code",
   "execution_count": null,
   "id": "24c2ac05-3b84-4189-a763-5bb72027e3dc",
   "metadata": {},
   "outputs": [],
   "source": [
    "#| hide\n",
    "from nbdev.showdoc import *"
   ]
  },
  {
   "cell_type": "code",
   "execution_count": null,
   "id": "90e2d706-01b4-4fc2-a6c2-68f5558ccc67",
   "metadata": {},
   "outputs": [],
   "source": [
    "#| export\n",
    "import openai\n",
    "import requests\n",
    "import os"
   ]
  },
  {
   "cell_type": "code",
   "execution_count": null,
   "id": "91645241-3aaa-411a-92ca-5c4d32902a27",
   "metadata": {},
   "outputs": [],
   "source": [
    "from llmcam.fn_to_fc import *\n",
    "import llmcam.downloader\n",
    "import json"
   ]
  },
  {
   "cell_type": "code",
   "execution_count": null,
   "id": "7d8315d8-46a6-459b-9884-17bb40bade04",
   "metadata": {},
   "outputs": [],
   "source": [
    "#| export\n",
    "def download_file(\n",
    "    url: str, # URL to download\n",
    "    save_path:str=None, # file name to save\n",
    "):\n",
    "    \"Download a file from a give `url`\"\n",
    "    with requests.get(url, stream=True) as response:\n",
    "        response.raise_for_status()\n",
    "        save_path = os.path.basename(url) if not save_path else save_path\n",
    "        with open(save_path, \"wb\") as file:\n",
    "            for chunk in response.iter_content(chunk_size=8192):\n",
    "                if chunk:\n",
    "                    file.write(chunk)\n",
    "    return f\"{save_path}\""
   ]
  },
  {
   "cell_type": "code",
   "execution_count": null,
   "id": "3b7c0b62-6c27-4e8d-8e50-c0c1580353b2",
   "metadata": {},
   "outputs": [],
   "source": [
    "tools = [tool_schema(llmcam.downloader.download_file)]\n",
    "#print(json.dumps(*tools, indent=4))"
   ]
  },
  {
   "cell_type": "code",
   "execution_count": null,
   "id": "a4bd5aa9-e834-4df0-9656-43ec5952ea58",
   "metadata": {},
   "outputs": [
    {
     "name": "stdout",
     "output_type": "stream",
     "text": [
      "\u001b[1m\u001b[31m>> \u001b[43m\u001b[32mUser:\u001b[0m\n",
      "Download a file from https://weathercam.digitraffic.fi/C0150200.jpg.\n",
      "\u001b[1m\u001b[31m>> \u001b[43m\u001b[34mAssistant:\u001b[0m\n",
      "{'content': None, 'refusal': None, 'role': 'assistant', 'tool_calls': [{'id': 'call_Xdh3dm0g2VAkNLTCVq5J7gKp', 'function': {'arguments': '{\"url\":\"https://weathercam.digitraffic.fi/C0150200.jpg\"}', 'name': 'download_file'}, 'type': 'function'}]}\n",
      "\u001b[1m\u001b[31m>> \u001b[43m\u001b[34mAssistant:\u001b[0m\n",
      "The file has been downloaded successfully from [this\n",
      "link](https://weathercam.digitraffic.fi/C0150200.jpg) and is saved as \"C0150200.jpg\".\n"
     ]
    }
   ],
   "source": [
    "#| eval: false\n",
    "m = form_msgs([(\"user\",\"Download a file from https://weathercam.digitraffic.fi/C0150200.jpg.\")])\n",
    "complete(m, tools=tools)\n",
    "print_msgs(m, with_tool=True)"
   ]
  },
  {
   "cell_type": "code",
   "execution_count": null,
   "id": "7d306f5a-f6ae-48e2-8165-07d37207c1da",
   "metadata": {},
   "outputs": [],
   "source": [
    "#| hide\n",
    "import nbdev; nbdev.nbdev_export()"
   ]
  }
 ],
 "metadata": {
  "kernelspec": {
   "display_name": "python3",
   "language": "python",
   "name": "python3"
  }
 },
 "nbformat": 4,
 "nbformat_minor": 5
}
