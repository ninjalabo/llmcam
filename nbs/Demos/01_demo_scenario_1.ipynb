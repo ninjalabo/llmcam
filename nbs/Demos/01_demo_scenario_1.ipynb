{
 "cells": [
  {
   "cell_type": "markdown",
   "id": "ea387527-2ef4-43bb-b6f1-616e5e313757",
   "metadata": {},
   "source": [
    "# Demo Scenario 1\n",
    "> Validate Demonstrate Scenario 1 on a notebook"
   ]
  },
  {
   "cell_type": "code",
   "execution_count": null,
   "id": "24c2ac05-3b84-4189-a763-5bb72027e3dc",
   "metadata": {},
   "outputs": [],
   "source": [
    "#| hide\n",
    "from nbdev.showdoc import *"
   ]
  },
  {
   "cell_type": "code",
   "execution_count": null,
   "id": "700d0c02",
   "metadata": {},
   "outputs": [],
   "source": [
    "#| eval: false\n",
    "\n",
    "from llmcam.utils.downloader import *\n",
    "from llmcam.vision.dtcam import *\n",
    "from llmcam.utils.file_manager import *\n",
    "from llmcam.core.fn_to_fc import *\n",
    "from llmcam.utils.store import *\n",
    "from llmcam.vision.yolo import *"
   ]
  },
  {
   "cell_type": "code",
   "execution_count": null,
   "id": "89d35371",
   "metadata": {},
   "outputs": [],
   "source": [
    "#| eval: false\n",
    "tools = []\n",
    "def execute_handler(function_name, **kwargs):\n",
    "    execute_handler_core(tools, function_name, **kwargs)\n",
    "\n",
    "tools.extend([handler_schema(function, service_name=\"toolbox_handler\", fixup=execute_handler) for function in [\n",
    "        add_api_tools,\n",
    "        add_function_tools,\n",
    "        remove_tools,\n",
    "        capture_youtube_live_frame_and_save,\n",
    "        ask_gpt4v_about_image_file,\n",
    "        cap,\n",
    "        detect_objects\n",
    "    ]])"
   ]
  },
  {
   "cell_type": "code",
   "execution_count": null,
   "id": "6013045c",
   "metadata": {},
   "outputs": [
    {
     "name": "stdout",
     "output_type": "stream",
     "text": [
      "\u001b[1m\u001b[31m>> \u001b[43m\u001b[31mSystem:\u001b[0m\n",
      "You are a helpful system administrator. Use the supplied tools to help the user.\n",
      "\u001b[1m\u001b[31m>> \u001b[43m\u001b[32mUser:\u001b[0m\n",
      "What can LLMCAM do?\n",
      "\u001b[1m\u001b[31m>> \u001b[43m\u001b[32mUser:\u001b[0m\n",
      "Add a new API service called 'road_digitraffic'. Use the base URL 'https://tie.digitraffic.fi', and\n",
      "the OpenAPI Specification URL 'https://tie.digitraffic.fi/swagger/openapi.json'.\n",
      "\u001b[1m\u001b[31m>> \u001b[43m\u001b[32mUser:\u001b[0m\n",
      "Can you tell me where exists traffic jam right now?\n",
      "\u001b[1m\u001b[31m>> \u001b[43m\u001b[32mUser:\u001b[0m\n",
      "Show me the image at Kuopio.\n",
      "\u001b[1m\u001b[31m>> \u001b[43m\u001b[34mAssistant:\u001b[0m\n",
      "### Current Traffic Situations:  1. **Salo (Tie 1835)**    - Location: Between Kumpula and Kemiö,\n",
      "specifically at Kokkila ferry.    - Announcement: Ferry traffic is suspended for maintenance work.\n",
      "- Start: 19:00, 9th December 2024    - End: 03:00, 10th December 2024    - Additional Info: Traffic\n",
      "and weather information online at [Fintraffic](https://liikennetilanne.fintraffic.fi/)  2.\n",
      "**Kemijärvi (Tie 9452)**    - Location: Between Kervinen and Räisälä, specifically at Räisälä ferry\n",
      "dock.    - Announcement: Ferry traffic has been suspended.    - End Date: 31st January 2025    -\n",
      "Additional Info: Traffic and weather information online at\n",
      "[Fintraffic](https://liikennetilanne.fintraffic.fi/)  ### Image Analysis for Kuopio:  Here is an\n",
      "image captured at Kuopio, analyze it:  - **Time of Day:** Night - **Lighting:** Prominent artificial\n",
      "lighting with 10 street lights visible. - **Visibility:** The visibility is clear with no visible\n",
      "sky (dark sky conditions). - **Presence:** No buildings, cars, trucks, boats, or people are visible.\n",
      "![Kuopio\n",
      "Image](sandbox:/home/nghivo/tinyMLaaS/llmcam/data/cap_2024.12.09_21:21:30_Kuopioon_C0851001.jpg)\n"
     ]
    }
   ],
   "source": [
    "#| eval: false\n",
    "\n",
    "messages = form_msgs([\n",
    "    (\"system\", \"You are a helpful system administrator. Use the supplied tools to help the user.\"),\n",
    "    (\"user\", \"What can LLMCAM do?\")\n",
    "])\n",
    "messages.append(form_msg(\"user\", \"Add a new API service called 'road_digitraffic'. Use the base URL 'https://tie.digitraffic.fi', and the OpenAPI Specification URL 'https://tie.digitraffic.fi/swagger/openapi.json'.\"))\n",
    "messages.append(form_msg(\"user\", \"Can you tell me where exists traffic jam right now?\"))\n",
    "messages.append(form_msg(\"user\", \"Show me the image at Kuopio.\"))\n",
    "complete(messages, tools)\n",
    "print_msgs(messages)"
   ]
  },
  {
   "cell_type": "markdown",
   "id": "7ef3e049-f8b9-4724-8419-0a54204d5004",
   "metadata": {},
   "source": [
    "1. User: What can LLMCAM do?\n",
    "2. Assistant: I can integrate with any web service via OpenAPI Specification (OAS), monitor YouTube Live videos, and provide real-time notifications 3. based on your queries or rules.\n",
    "4. User: Here’s DigiTraffic’s OAS: https://….\n",
    "5. Assistant: Great! Can you provide the base URL for API calls and the name of the service?\n",
    "6. User: The service is DigiTraffic, and the base URL is https://….\n",
    "7. Assistant: DigiTraffic service has been successfully registered. What would you like me to do next?\n",
    "8. User: Show me an image of Porvoo.\n",
    "9. Assistant: [Displays an image of Porvoo retrieved via DigiTraffic.]\n",
    "10. User: Show me an image of Porvoo with a car in motion.\n",
    "11. Assistant: [Displays an image of Porvoo with a moving car retrieved via DigiTraffic.]\n",
    "12. User: Plot them to compare"
   ]
  },
  {
   "cell_type": "code",
   "execution_count": null,
   "id": "7d306f5a-f6ae-48e2-8165-07d37207c1da",
   "metadata": {},
   "outputs": [],
   "source": [
    "#| hide\n",
    "import nbdev; nbdev.nbdev_export()"
   ]
  }
 ],
 "metadata": {
  "kernelspec": {
   "display_name": "python3",
   "language": "python",
   "name": "python3"
  }
 },
 "nbformat": 4,
 "nbformat_minor": 5
}
