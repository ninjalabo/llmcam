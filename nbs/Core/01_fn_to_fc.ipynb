{
 "cells": [
  {
   "cell_type": "markdown",
   "id": "6f66ce1c-7715-4f29-b00e-0beb48ac372a",
   "metadata": {},
   "source": [
    "# Fn to FC\n",
    "> python module to convert a given Fn into FC automatically"
   ]
  },
  {
   "cell_type": "code",
   "execution_count": null,
   "id": "9750839c-7930-4ec2-be7d-51da8203bab0",
   "metadata": {},
   "outputs": [],
   "source": [
    "#| default_exp core.fn_to_fc"
   ]
  },
  {
   "cell_type": "code",
   "execution_count": null,
   "id": "cc649b44-af36-4efb-8dbb-4cc1cae452ae",
   "metadata": {},
   "outputs": [],
   "source": [
    "#| hide\n",
    "from nbdev.showdoc import *"
   ]
  },
  {
   "cell_type": "code",
   "execution_count": null,
   "id": "941131be-2317-44f2-bbad-7692762d848a",
   "metadata": {},
   "outputs": [],
   "source": [
    "#| export\n",
    "# Importing openai and our custom functions\n",
    "import openai\n",
    "import json\n",
    "import ast\n",
    "import inspect\n",
    "import importlib\n",
    "import warnings\n",
    "\n",
    "from typing import Optional, Union, Callable, Literal,  Tuple\n",
    "from types import NoneType\n",
    "from llmcam.ytlive import YTLive, NHsta\n",
    "from llmcam.gpt4v import ask_gpt4v\n",
    "\n",
    "import textwrap\n",
    "from colorama import Fore, Back, Style"
   ]
  },
  {
   "cell_type": "markdown",
   "id": "2e542ee4",
   "metadata": {},
   "source": [
    "## Example functions"
   ]
  },
  {
   "cell_type": "markdown",
   "id": "4800b514",
   "metadata": {},
   "source": [
    "For our first MVP, response generation mostly concern with GPT models answering generic questions and using a single tool for capturing and extracting information from a Youtube Livestream."
   ]
  },
  {
   "cell_type": "code",
   "execution_count": null,
   "id": "74bea3ea-b30f-49a4-932a-4e7091566cc5",
   "metadata": {},
   "outputs": [],
   "source": [
    "import glob\n",
    "from llmcam.ytlive import YTLive, NHsta\n",
    "from llmcam.gpt4v import ask_gpt4v"
   ]
  },
  {
   "cell_type": "code",
   "execution_count": null,
   "id": "cab2a0ff-df66-4fe2-915a-d5641ad17f35",
   "metadata": {},
   "outputs": [],
   "source": [
    "#| export\n",
    "def capture_youtube_live_frame_and_save(\n",
    "        link: Optional[str] = None,  # YouTube Live link\n",
    "        place: Optional[str] = None,  # Location of live image\n",
    "    ) -> str:  # Path to the saved image\n",
    "    \"\"\"Capture a jpeg file from YouTube Live and save in data directory\"\"\"\n",
    "    if link is not None:\n",
    "        live = YTLive(url=link, place=place)\n",
    "    \n",
    "    else:\n",
    "        live = NHsta()\n",
    "    return str(live())"
   ]
  },
  {
   "cell_type": "code",
   "execution_count": null,
   "id": "4e073103",
   "metadata": {},
   "outputs": [
    {
     "data": {
      "text/markdown": [
       "---\n",
       "\n",
       "[source](https://github.com/ninjalabo/llmcam/blob/main/llmcam/fn_to_fc.py#L28){target=\"_blank\" style=\"float:right; font-size:smaller\"}\n",
       "\n",
       "### capture_youtube_live_frame_and_save\n",
       "\n",
       ">      capture_youtube_live_frame_and_save (link:Optional[str]=None,\n",
       ">                                           place:Optional[str]=None)\n",
       "\n",
       "*Capture a jpeg file from YouTube Live and save in data directory*\n",
       "\n",
       "|    | **Type** | **Default** | **Details** |\n",
       "| -- | -------- | ----------- | ----------- |\n",
       "| link | Optional | None | YouTube Live link |\n",
       "| place | Optional | None | Location of live image |\n",
       "| **Returns** | **str** |  | **Path to the saved image** |"
      ],
      "text/plain": [
       "---\n",
       "\n",
       "[source](https://github.com/ninjalabo/llmcam/blob/main/llmcam/fn_to_fc.py#L28){target=\"_blank\" style=\"float:right; font-size:smaller\"}\n",
       "\n",
       "### capture_youtube_live_frame_and_save\n",
       "\n",
       ">      capture_youtube_live_frame_and_save (link:Optional[str]=None,\n",
       ">                                           place:Optional[str]=None)\n",
       "\n",
       "*Capture a jpeg file from YouTube Live and save in data directory*\n",
       "\n",
       "|    | **Type** | **Default** | **Details** |\n",
       "| -- | -------- | ----------- | ----------- |\n",
       "| link | Optional | None | YouTube Live link |\n",
       "| place | Optional | None | Location of live image |\n",
       "| **Returns** | **str** |  | **Path to the saved image** |"
      ]
     },
     "execution_count": null,
     "metadata": {},
     "output_type": "execute_result"
    }
   ],
   "source": [
    "show_doc(capture_youtube_live_frame_and_save)"
   ]
  },
  {
   "cell_type": "code",
   "execution_count": null,
   "id": "811a2383-7329-4a30-a344-d6cac4006ec7",
   "metadata": {},
   "outputs": [],
   "source": [
    "#| export\n",
    "def ask_gpt4v_about_image_file(\n",
    "        path:str  # Path to the image file\n",
    "    ) -> str:  # JSON string with quantitative information\n",
    "    \"\"\"Tell all about quantitative information from a given image file\"\"\"\n",
    "    info = ask_gpt4v(path)\n",
    "    return json.dumps(info)"
   ]
  },
  {
   "cell_type": "code",
   "execution_count": null,
   "id": "43396fa3",
   "metadata": {},
   "outputs": [
    {
     "data": {
      "text/markdown": [
       "---\n",
       "\n",
       "[source](https://github.com/ninjalabo/llmcam/blob/main/llmcam/fn_to_fc.py#L41){target=\"_blank\" style=\"float:right; font-size:smaller\"}\n",
       "\n",
       "### ask_gpt4v_about_image_file\n",
       "\n",
       ">      ask_gpt4v_about_image_file (path:str)\n",
       "\n",
       "*Tell all about quantitative information from a given image file*\n",
       "\n",
       "|    | **Type** | **Details** |\n",
       "| -- | -------- | ----------- |\n",
       "| path | str | Path to the image file |\n",
       "| **Returns** | **str** | **JSON string with quantitative information** |"
      ],
      "text/plain": [
       "---\n",
       "\n",
       "[source](https://github.com/ninjalabo/llmcam/blob/main/llmcam/fn_to_fc.py#L41){target=\"_blank\" style=\"float:right; font-size:smaller\"}\n",
       "\n",
       "### ask_gpt4v_about_image_file\n",
       "\n",
       ">      ask_gpt4v_about_image_file (path:str)\n",
       "\n",
       "*Tell all about quantitative information from a given image file*\n",
       "\n",
       "|    | **Type** | **Details** |\n",
       "| -- | -------- | ----------- |\n",
       "| path | str | Path to the image file |\n",
       "| **Returns** | **str** | **JSON string with quantitative information** |"
      ]
     },
     "execution_count": null,
     "metadata": {},
     "output_type": "execute_result"
    }
   ],
   "source": [
    "show_doc(ask_gpt4v_about_image_file)"
   ]
  },
  {
   "cell_type": "markdown",
   "id": "706ce96c",
   "metadata": {},
   "source": [
    "## Utilities for GPT Function calling\n",
    "\n",
    "We can use dynamic utilities functions to integrate this to GPT Function calling:  \n",
    "\n",
    "- Parmater descriptions: extract parameter descriptions from a funcion\n",
    "- Parameter converter: convert Python parameter types into schema accepted formats\n",
    "- Schema generator: extract function information into tool schema to bet set for GPT\n",
    "- Function execution: execute function dynamically based on function names and input arguments"
   ]
  },
  {
   "cell_type": "markdown",
   "id": "5c672c7e",
   "metadata": {},
   "source": [
    "### 1. Extractor for parameter descriptions"
   ]
  },
  {
   "cell_type": "code",
   "execution_count": null,
   "id": "2deba541",
   "metadata": {},
   "outputs": [],
   "source": [
    "#| export\n",
    "# Extract parameter comments from the function\n",
    "def extract_parameter_comments(\n",
    "        func: Callable  # Function to extract comments from\n",
    "    ) -> dict[str, str]:  # Dictionary with parameter comments\n",
    "    \"\"\"Extract comments for function arguments\"\"\"\n",
    "    # Get the source code of the function\n",
    "    source = inspect.getsource(func)\n",
    "    # Parse the source code into an AST\n",
    "    tree = ast.parse(source)\n",
    "    \n",
    "    # Extract comments for function arguments\n",
    "    comments = {}\n",
    "    for node in ast.walk(tree):\n",
    "        if isinstance(node, ast.FunctionDef) and node.name == func.__name__:\n",
    "            # Get arguments and comments in the function\n",
    "            for arg in node.args.args:\n",
    "                arg_name = arg.arg\n",
    "                # Check if there's an inline comment associated with the argument\n",
    "                if arg.end_lineno and arg.col_offset:\n",
    "                    # Loop through the source code lines to find the comment\n",
    "                    lines = source.splitlines()\n",
    "                    for line in lines:\n",
    "                        if line.strip().startswith(f\"{arg_name}:\") and \"#\" in line:\n",
    "                            comment = line.split(\"#\")[1].strip()\n",
    "                            comments[arg_name] = comment\n",
    "    return comments"
   ]
  },
  {
   "cell_type": "code",
   "execution_count": null,
   "id": "33b2c975",
   "metadata": {},
   "outputs": [
    {
     "data": {
      "text/markdown": [
       "---\n",
       "\n",
       "[source](https://github.com/ninjalabo/llmcam/blob/main/llmcam/fn_to_fc.py#L50){target=\"_blank\" style=\"float:right; font-size:smaller\"}\n",
       "\n",
       "### extract_parameter_comments\n",
       "\n",
       ">      extract_parameter_comments (func:Callable)\n",
       "\n",
       "*Extract comments for function arguments*\n",
       "\n",
       "|    | **Type** | **Details** |\n",
       "| -- | -------- | ----------- |\n",
       "| func | Callable | Function to extract comments from |\n",
       "| **Returns** | **dict** | **Dictionary with parameter comments** |"
      ],
      "text/plain": [
       "---\n",
       "\n",
       "[source](https://github.com/ninjalabo/llmcam/blob/main/llmcam/fn_to_fc.py#L50){target=\"_blank\" style=\"float:right; font-size:smaller\"}\n",
       "\n",
       "### extract_parameter_comments\n",
       "\n",
       ">      extract_parameter_comments (func:Callable)\n",
       "\n",
       "*Extract comments for function arguments*\n",
       "\n",
       "|    | **Type** | **Details** |\n",
       "| -- | -------- | ----------- |\n",
       "| func | Callable | Function to extract comments from |\n",
       "| **Returns** | **dict** | **Dictionary with parameter comments** |"
      ]
     },
     "execution_count": null,
     "metadata": {},
     "output_type": "execute_result"
    }
   ],
   "source": [
    "show_doc(extract_parameter_comments)"
   ]
  },
  {
   "cell_type": "markdown",
   "id": "d5d91533",
   "metadata": {},
   "source": [
    "Test usage with example functions:"
   ]
  },
  {
   "cell_type": "code",
   "execution_count": null,
   "id": "9fa07957",
   "metadata": {},
   "outputs": [
    {
     "name": "stdout",
     "output_type": "stream",
     "text": [
      "Parameters of capture Youtube Live frame function: {'link': 'YouTube Live link', 'place': 'Location of live image'}\n",
      "Parameters of ask GPT4V about image file function: {'path': 'Path to the image file'}\n"
     ]
    }
   ],
   "source": [
    "print(f\"Parameters of capture Youtube Live frame function: \\\n",
    "{extract_parameter_comments(capture_youtube_live_frame_and_save)}\")\n",
    "print(f\"Parameters of ask GPT4V about image file function: \\\n",
    "{extract_parameter_comments(ask_gpt4v_about_image_file)}\")"
   ]
  },
  {
   "cell_type": "code",
   "execution_count": null,
   "id": "a5092058",
   "metadata": {},
   "outputs": [],
   "source": [
    "#| hide\n",
    "# Test the functions\n",
    "assert extract_parameter_comments(capture_youtube_live_frame_and_save) == {'link': 'YouTube Live link', 'place': 'Location of live image'}\n",
    "assert extract_parameter_comments(ask_gpt4v_about_image_file) == {'path': 'Path to the image file'}"
   ]
  },
  {
   "cell_type": "markdown",
   "id": "3a4e5a82",
   "metadata": {},
   "source": [
    "### 2. Converter for Python parameter types to acceptable tool schema"
   ]
  },
  {
   "cell_type": "code",
   "execution_count": null,
   "id": "84c0e431",
   "metadata": {},
   "outputs": [],
   "source": [
    "#| export\n",
    "def param_converter(\n",
    "        param_type,  # The type of the parameter\n",
    "        description  # The description of the parameter\n",
    "    ) -> dict:  # The converted parameter\n",
    "    \"\"\"Convert Python parameter types to acceptable types for tool schema\"\"\"\n",
    "    simple_types = {\n",
    "        str: \"string\",\n",
    "        int: \"number\",\n",
    "        float: \"number\",\n",
    "        bool: \"boolean\",\n",
    "    }\n",
    "    if param_type in simple_types:\n",
    "        return { \"type\": simple_types[param_type], \"description\": description }\n",
    "    elif param_type == NoneType:\n",
    "        return { \"type\": \"null\", \"description\": \"A default value will be automatically used.\" }\n",
    "    \n",
    "    if param_type == list or getattr(param_type, \"__origin__\", None) == list:\n",
    "        item_type = param_type.__args__[0] if hasattr(param_type, \"__args__\") and param_type.__args__ else str\n",
    "        return {\n",
    "            \"type\": \"array\",\n",
    "            \"description\": description,\n",
    "            \"items\": { \"type\": param_converter(item_type, description)[\"type\"] }\n",
    "        }\n",
    "    \n",
    "    if hasattr(param_type, '__origin__') and param_type.__origin__ == Union:\n",
    "        # Recursively convert the types\n",
    "        descriptions = description.split(\" or \")\n",
    "        subtypes = param_type.__args__\n",
    "        if len(subtypes) > len(descriptions):\n",
    "            descriptions = descriptions + [\"A description is not provided\"] * (len(subtypes) - len(descriptions))\n",
    "\n",
    "        return {\n",
    "            \"anyOf\": [param_converter(subtype, desc) for subtype, desc in zip(subtypes, descriptions)]\n",
    "        }\n",
    "    return { \"type\": \"string\", \"description\": description }"
   ]
  },
  {
   "cell_type": "markdown",
   "id": "48ac0a52",
   "metadata": {},
   "source": [
    "Test usage with a more complicated data type `Optional[str]`:"
   ]
  },
  {
   "cell_type": "code",
   "execution_count": null,
   "id": "990bd8d0",
   "metadata": {},
   "outputs": [
    {
     "name": "stdout",
     "output_type": "stream",
     "text": [
      "{\n",
      "  \"anyOf\": [\n",
      "    {\n",
      "      \"type\": \"string\",\n",
      "      \"description\": \"YouTube Live link\"\n",
      "    },\n",
      "    {\n",
      "      \"type\": \"null\",\n",
      "      \"description\": \"A default value will be automatically used.\"\n",
      "    }\n",
      "  ]\n",
      "}\n"
     ]
    }
   ],
   "source": [
    "param_schema = param_converter(Optional[str], \"YouTube Live link\")\n",
    "print(json.dumps(param_schema, indent=2))"
   ]
  },
  {
   "cell_type": "code",
   "execution_count": null,
   "id": "bb610c87",
   "metadata": {},
   "outputs": [],
   "source": [
    "#| hide\n",
    "# Test the function\n",
    "assert param_schema == { \"anyOf\": [\n",
    "        {\n",
    "            \"type\": \"string\",\n",
    "            \"description\": \"YouTube Live link\"\n",
    "        },\n",
    "        {\n",
    "            \"type\": \"null\",\n",
    "            \"description\": \"A default value will be automatically used.\"\n",
    "        }\n",
    "    ]\n",
    "}"
   ]
  },
  {
   "cell_type": "markdown",
   "id": "2063218c",
   "metadata": {},
   "source": [
    "### 3. Tool schema"
   ]
  },
  {
   "cell_type": "code",
   "execution_count": null,
   "id": "1cc90e44-8922-42b9-81c1-02da57ce4489",
   "metadata": {},
   "outputs": [],
   "source": [
    "#| export\n",
    "def tool_schema(\n",
    "        func: Callable,  # The function to generate the schema for\n",
    "        service_name: Optional[str] = None,  # The name of the service\n",
    "    ) -> dict:  # The generated tool schema\n",
    "    \"\"\"Automatically generate a schema from its parameters and docstring\"\"\"\n",
    "    # Extract function name, docstring, and parameters\n",
    "    func_name = func.__name__\n",
    "    func_description = func.__doc__ or \"No description provided.\"\n",
    "    func_module = func.__module__\n",
    "    signature = inspect.signature(func)\n",
    "    \n",
    "    # Create parameters schema\n",
    "    parameters_schema = {\n",
    "        \"type\": \"object\",\n",
    "        \"properties\": {},\n",
    "        \"required\": []\n",
    "    }\n",
    "    \n",
    "    # Populate properties and required fields\n",
    "    param_comments = extract_parameter_comments(func)\n",
    "    for param_name, param in signature.parameters.items():\n",
    "        param_type = param.annotation if param.annotation != inspect._empty else str\n",
    "        \n",
    "        # Add parameter to schema\n",
    "        parameters_schema[\"properties\"][param_name] = param_converter(\n",
    "            param_type, \n",
    "            param_comments.get(param_name, \"No description provided.\")\n",
    "        )\n",
    "        \n",
    "        # Mark as required if no default\n",
    "        if param.default == inspect.Parameter.empty:\n",
    "            parameters_schema[\"required\"].append(param_name)\n",
    "    \n",
    "    # Build final tool schema\n",
    "    tool_schema = {\n",
    "        \"type\": \"function\",\n",
    "        \"function\": {\n",
    "            \"name\": func_name,\n",
    "            \"description\": func_description,\n",
    "            \"parameters\": parameters_schema,\n",
    "            \"metadata\": {\n",
    "                \"module\": func_module,\n",
    "                \"service\": service_name or func_module\n",
    "            }\n",
    "        }\n",
    "    }\n",
    "    \n",
    "    return tool_schema"
   ]
  },
  {
   "cell_type": "code",
   "execution_count": null,
   "id": "2bf7f023",
   "metadata": {},
   "outputs": [
    {
     "data": {
      "text/markdown": [
       "---\n",
       "\n",
       "[source](https://github.com/ninjalabo/llmcam/blob/main/llmcam/fn_to_fc.py#L114){target=\"_blank\" style=\"float:right; font-size:smaller\"}\n",
       "\n",
       "### tool_schema\n",
       "\n",
       ">      tool_schema (func:Callable, service_name:Optional[str]=None)\n",
       "\n",
       "*Automatically generate a schema from its parameters and docstring*\n",
       "\n",
       "|    | **Type** | **Default** | **Details** |\n",
       "| -- | -------- | ----------- | ----------- |\n",
       "| func | Callable |  | The function to generate the schema for |\n",
       "| service_name | Optional | None | The name of the service |\n",
       "| **Returns** | **dict** |  | **The generated tool schema** |"
      ],
      "text/plain": [
       "---\n",
       "\n",
       "[source](https://github.com/ninjalabo/llmcam/blob/main/llmcam/fn_to_fc.py#L114){target=\"_blank\" style=\"float:right; font-size:smaller\"}\n",
       "\n",
       "### tool_schema\n",
       "\n",
       ">      tool_schema (func:Callable, service_name:Optional[str]=None)\n",
       "\n",
       "*Automatically generate a schema from its parameters and docstring*\n",
       "\n",
       "|    | **Type** | **Default** | **Details** |\n",
       "| -- | -------- | ----------- | ----------- |\n",
       "| func | Callable |  | The function to generate the schema for |\n",
       "| service_name | Optional | None | The name of the service |\n",
       "| **Returns** | **dict** |  | **The generated tool schema** |"
      ]
     },
     "execution_count": null,
     "metadata": {},
     "output_type": "execute_result"
    }
   ],
   "source": [
    "show_doc(tool_schema)"
   ]
  },
  {
   "cell_type": "code",
   "execution_count": null,
   "id": "8ba52a6f-f35e-4818-86a7-6f8b157af9d0",
   "metadata": {},
   "outputs": [],
   "source": [
    "#| export\n",
    "# Environmental setting up\n",
    "YTLiveTools = [tool_schema(fn) for fn in (capture_youtube_live_frame_and_save, ask_gpt4v_about_image_file)]"
   ]
  },
  {
   "cell_type": "code",
   "execution_count": null,
   "id": "f0095ad6",
   "metadata": {},
   "outputs": [
    {
     "name": "stdout",
     "output_type": "stream",
     "text": [
      "[\n",
      "  {\n",
      "    \"type\": \"function\",\n",
      "    \"function\": {\n",
      "      \"name\": \"capture_youtube_live_frame_and_save\",\n",
      "      \"description\": \"Capture a jpeg file from YouTube Live and save in data directory\",\n",
      "      \"parameters\": {\n",
      "        \"type\": \"object\",\n",
      "        \"properties\": {\n",
      "          \"link\": {\n",
      "            \"anyOf\": [\n",
      "              {\n",
      "                \"type\": \"string\",\n",
      "                \"description\": \"YouTube Live link\"\n",
      "              },\n",
      "              {\n",
      "                \"type\": \"null\",\n",
      "                \"description\": \"A default value will be automatically used.\"\n",
      "              }\n",
      "            ]\n",
      "          },\n",
      "          \"place\": {\n",
      "            \"anyOf\": [\n",
      "              {\n",
      "                \"type\": \"string\",\n",
      "                \"description\": \"Location of live image\"\n",
      "              },\n",
      "              {\n",
      "                \"type\": \"null\",\n",
      "                \"description\": \"A default value will be automatically used.\"\n",
      "              }\n",
      "            ]\n",
      "          }\n",
      "        },\n",
      "        \"required\": []\n",
      "      },\n",
      "      \"metadata\": {\n",
      "        \"module\": \"__main__\",\n",
      "        \"service\": \"__main__\"\n",
      "      }\n",
      "    }\n",
      "  },\n",
      "  {\n",
      "    \"type\": \"function\",\n",
      "    \"function\": {\n",
      "      \"name\": \"ask_gpt4v_about_image_file\",\n",
      "      \"description\": \"Tell all about quantitative information from a given image file\",\n",
      "      \"parameters\": {\n",
      "        \"type\": \"object\",\n",
      "        \"properties\": {\n",
      "          \"path\": {\n",
      "            \"type\": \"string\",\n",
      "            \"description\": \"Path to the image file\"\n",
      "          }\n",
      "        },\n",
      "        \"required\": [\n",
      "          \"path\"\n",
      "        ]\n",
      "      },\n",
      "      \"metadata\": {\n",
      "        \"module\": \"__main__\",\n",
      "        \"service\": \"__main__\"\n",
      "      }\n",
      "    }\n",
      "  }\n",
      "]\n"
     ]
    }
   ],
   "source": [
    "#| echo: false\n",
    "print(json.dumps(YTLiveTools, indent=2))"
   ]
  },
  {
   "cell_type": "code",
   "execution_count": null,
   "id": "7ec24d30",
   "metadata": {},
   "outputs": [],
   "source": [
    "#| hide\n",
    "# Test the function\n",
    "# Check the schema of the first tool\n",
    "assert YTLiveTools[0][\"function\"][\"name\"] == \"capture_youtube_live_frame_and_save\"\n",
    "assert YTLiveTools[0][\"function\"][\"description\"] == \"Capture a jpeg file from YouTube Live and save in data directory\"\n",
    "assert YTLiveTools[0][\"function\"][\"parameters\"][\"properties\"][\"link\"] == {\n",
    "    \"anyOf\": [\n",
    "        {\n",
    "            \"type\": \"string\",\n",
    "            \"description\": \"YouTube Live link\"\n",
    "        },\n",
    "        {\n",
    "            \"type\": \"null\",\n",
    "            \"description\": \"A default value will be automatically used.\"\n",
    "        }\n",
    "    ]\n",
    "}\n",
    "\n",
    "# Check the schema of the second tool\n",
    "assert YTLiveTools[1][\"function\"][\"name\"] == \"ask_gpt4v_about_image_file\"\n",
    "assert YTLiveTools[1][\"function\"][\"description\"] == \"Tell all about quantitative information from a given image file\"\n",
    "assert YTLiveTools[1][\"function\"][\"parameters\"][\"properties\"][\"path\"] == {\n",
    "    \"type\": \"string\",\n",
    "    \"description\": \"Path to the image file\"\n",
    "}\n",
    "assert YTLiveTools[1][\"function\"][\"parameters\"][\"required\"] == [\"path\"]"
   ]
  },
  {
   "cell_type": "markdown",
   "id": "02bb850f",
   "metadata": {},
   "source": [
    "### 4. Excecution functions"
   ]
  },
  {
   "cell_type": "code",
   "execution_count": null,
   "id": "95b1c234-4cb1-49b7-8a6a-e04051af9ae9",
   "metadata": {},
   "outputs": [],
   "source": [
    "#| export\n",
    "# Support functions to handle tool response,where call == response.choices[0].message.tool_calls[i]\n",
    "def fn_name(call): return call[\"function\"][\"name\"]\n",
    "def fn_args(call): return json.loads(call[\"function\"][\"arguments\"])\n",
    "def fn_metadata(tool): return tool[\"function\"][\"metadata\"]\n",
    "\n",
    "def fn_exec(call, tools=[]):\n",
    "    \"\"\"Execute the function call\"\"\"\n",
    "    for tool in tools:\n",
    "        # Check if the function name matches\n",
    "        if call['function']['name'] != tool['function']['name']:\n",
    "            continue\n",
    "\n",
    "        # Execute the function by dynamically importing the module\n",
    "        try:\n",
    "            module_path = tool['function']['metadata']['module']\n",
    "            module = importlib.import_module(module_path)\n",
    "            fn = getattr(module, fn_name(call))\n",
    "            return fn(**fn_args(call))\n",
    "        \n",
    "        # If the function is not found, try to fix it\n",
    "        except Exception as e:\n",
    "            if not 'fixup' in tool['function']:\n",
    "                continue\n",
    "            module_path, fn_path = tool['function']['fixup'].rsplit('.', 1)\n",
    "            fn = getattr(importlib.import_module(module_path), fn_path)\n",
    "            return fn(fn_name(call), **fn_metadata(tool), **fn_args(call))\n",
    "\n",
    "def fn_result_content(call, tools=[]):\n",
    "    \"\"\"Create a content containing the result of the function call\"\"\"\n",
    "    content = dict()\n",
    "    content.update(fn_args(call))\n",
    "    content.update({fn_name(call): fn_exec(call, tools)})\n",
    "    return json.dumps(content)"
   ]
  },
  {
   "cell_type": "code",
   "execution_count": null,
   "id": "2cbe5190-a8b6-4c3a-9688-78bb5543bbab",
   "metadata": {},
   "outputs": [],
   "source": [
    "#| export\n",
    "def print_msg(msg):\n",
    "    who = msg['role'].capitalize()\n",
    "    who = (Fore.RED if who in \"System\" else Fore.GREEN if who in \"User\" else Fore.BLUE if who in \"Assistant\" else Fore.CYAN) + who\n",
    "    who = Back.YELLOW + who\n",
    "    print(Style.BRIGHT + Fore.RED + f\">> {who}:\" + Style.RESET_ALL)\n",
    "    try:\n",
    "        print(textwrap.fill(msg[\"content\"], 100))\n",
    "    except:\n",
    "        print(msg)\n",
    "\n",
    "def print_msgs(msgs, with_tool=False):\n",
    "    for msg in msgs:\n",
    "        if not with_tool and any(key in msg for key in ('tool_calls', 'tool_call_id')):\n",
    "            continue\n",
    "        print_msg(msg)\n",
    "\n",
    "def form_msg(\n",
    "    role: Literal[\"system\", \"user\", \"assistant\", \"tool\"],  # The role of the message sender\n",
    "    content: str,  # The content of the message\n",
    "    tool_call_id: Optional[str] = None,  # The ID of the tool call (if role == \"tool\")\n",
    "):\n",
    "    \"\"\"Create a message for the conversation\"\"\"\n",
    "    msg = {\n",
    "        \"role\": role,\n",
    "        \"content\": content\n",
    "    }\n",
    "    if role == \"tool\":\n",
    "        msg[\"tool_call_id\"] = tool_call_id\n",
    "    return msg\n",
    "\n",
    "def form_msgs(msgs): return [{\"role\":m[0],\"content\":m[1]} for m in msgs]        "
   ]
  },
  {
   "cell_type": "code",
   "execution_count": null,
   "id": "cad1a713",
   "metadata": {},
   "outputs": [],
   "source": [
    "\n",
    "#| export\n",
    "def complete(\n",
    "        messages: list[dict],  # The list of messages\n",
    "        tools: list[dict] = [],  # The list of tools\n",
    "    ) -> Tuple[str, str]:  # The role and content of the last message\n",
    "    \"\"\"Complete the conversation with the given message\"\"\"\n",
    "    # Generate the response from GPT-4\n",
    "    response = openai.chat.completions.create(model=\"gpt-4o\", messages=messages, tools=tools)\n",
    "    res = response.choices[0].message\n",
    "    messages.append(res.to_dict())\n",
    "\n",
    "    # Handle the tool response\n",
    "    for call in res.to_dict().get('tool_calls', []):\n",
    "        # Append the tool response to the list\n",
    "        messages.append(\n",
    "            form_msg(\n",
    "                role=\"tool\",\n",
    "                content=fn_result_content(call, tools=tools),\n",
    "                tool_call_id=call[\"id\"]\n",
    "            )\n",
    "        )\n",
    "\n",
    "    if res.to_dict().get('tool_calls'):\n",
    "        # Recursively call the complete function to handle the tool response\n",
    "        complete(\n",
    "            messages, \n",
    "            tools=tools\n",
    "        )\n",
    "\n",
    "    # Return the last message\n",
    "    return messages[-1]['role'], messages[-1]['content']"
   ]
  },
  {
   "cell_type": "code",
   "execution_count": null,
   "id": "6ce2c7ac",
   "metadata": {},
   "outputs": [
    {
     "data": {
      "text/markdown": [
       "---\n",
       "\n",
       "[source](https://github.com/ninjalabo/llmcam/blob/main/llmcam/fn_to_fc.py#L236){target=\"_blank\" style=\"float:right; font-size:smaller\"}\n",
       "\n",
       "### complete\n",
       "\n",
       ">      complete (messages:list[dict], tools:list[dict]=[])\n",
       "\n",
       "*Complete the conversation with the given message*\n",
       "\n",
       "|    | **Type** | **Default** | **Details** |\n",
       "| -- | -------- | ----------- | ----------- |\n",
       "| messages | list |  | The list of messages |\n",
       "| tools | list | [] | The list of tools |\n",
       "| **Returns** | **Tuple** |  | **The role and content of the last message** |"
      ],
      "text/plain": [
       "---\n",
       "\n",
       "[source](https://github.com/ninjalabo/llmcam/blob/main/llmcam/fn_to_fc.py#L236){target=\"_blank\" style=\"float:right; font-size:smaller\"}\n",
       "\n",
       "### complete\n",
       "\n",
       ">      complete (messages:list[dict], tools:list[dict]=[])\n",
       "\n",
       "*Complete the conversation with the given message*\n",
       "\n",
       "|    | **Type** | **Default** | **Details** |\n",
       "| -- | -------- | ----------- | ----------- |\n",
       "| messages | list |  | The list of messages |\n",
       "| tools | list | [] | The list of tools |\n",
       "| **Returns** | **Tuple** |  | **The role and content of the last message** |"
      ]
     },
     "execution_count": null,
     "metadata": {},
     "output_type": "execute_result"
    }
   ],
   "source": [
    "show_doc(complete)"
   ]
  },
  {
   "cell_type": "markdown",
   "id": "127cf2ae",
   "metadata": {},
   "source": [
    "Test with our existing toolbox:"
   ]
  },
  {
   "cell_type": "code",
   "execution_count": null,
   "id": "18c54a2b",
   "metadata": {},
   "outputs": [
    {
     "name": "stdout",
     "output_type": "stream",
     "text": [
      "\u001b[1m\u001b[31m>> \u001b[43m\u001b[31mSystem:\u001b[0m\n",
      "You are a helpful system administrator. Use the supplied tools to assist the user.\n",
      "\u001b[1m\u001b[31m>> \u001b[43m\u001b[32mUser:\u001b[0m\n",
      "Hi, can you capture YouTube Live?\n",
      "\u001b[1m\u001b[31m>> \u001b[43m\u001b[34mAssistant:\u001b[0m\n",
      "Yes, I can capture a frame from a YouTube Live stream. Please provide the link to the YouTube Live\n",
      "stream you want captured.\n"
     ]
    }
   ],
   "source": [
    "#| eval: false\n",
    "# Test the function\n",
    "messages = form_msgs([\n",
    "    (\"system\", \"You are a helpful system administrator. Use the supplied tools to assist the user.\"),\n",
    "    (\"user\", \"Hi, can you capture YouTube Live?\")\n",
    "])\n",
    "complete(messages, YTLiveTools)\n",
    "print_msgs(messages)"
   ]
  },
  {
   "cell_type": "markdown",
   "id": "b38a35dd",
   "metadata": {},
   "source": [
    "Let's try to continue this conversation:"
   ]
  },
  {
   "cell_type": "code",
   "execution_count": null,
   "id": "fcd1a7eb",
   "metadata": {},
   "outputs": [
    {
     "name": "stdout",
     "output_type": "stream",
     "text": [
      "[youtube] Extracting URL: https://www.youtube.com/watch?v=LMZQ7eFhm58\n",
      "[youtube] LMZQ7eFhm58: Downloading webpage\n",
      "[youtube] LMZQ7eFhm58: Downloading ios player API JSON\n",
      "[youtube] LMZQ7eFhm58: Downloading mweb player API JSON\n",
      "[youtube] LMZQ7eFhm58: Downloading m3u8 information\n",
      "[youtube] LMZQ7eFhm58: Downloading m3u8 information\n",
      "09.12.2024 21:04:02 Olympiaterminaali\n",
      "\u001b[1m\u001b[31m>> \u001b[43m\u001b[31mSystem:\u001b[0m\n",
      "You are a helpful system administrator. Use the supplied tools to assist the user.\n",
      "\u001b[1m\u001b[31m>> \u001b[43m\u001b[32mUser:\u001b[0m\n",
      "Hi, can you capture YouTube Live?\n",
      "\u001b[1m\u001b[31m>> \u001b[43m\u001b[34mAssistant:\u001b[0m\n",
      "Yes, I can capture a frame from a YouTube Live stream. Please provide the link to the YouTube Live\n",
      "stream you want captured.\n",
      "\u001b[1m\u001b[31m>> \u001b[43m\u001b[32mUser:\u001b[0m\n",
      "You can use the default link.\n",
      "\u001b[1m\u001b[31m>> \u001b[43m\u001b[34mAssistant:\u001b[0m\n",
      "I have successfully captured a frame from the default YouTube Live stream and saved it as\n",
      "\"Olympiaterminaali.jpg\". If you need any further information or analysis on this image, feel free to\n",
      "ask!\n"
     ]
    }
   ],
   "source": [
    "#| eval: false\n",
    "messages.append(form_msg(\"user\", \"You can use the default link.\"))\n",
    "complete(messages, YTLiveTools)\n",
    "print_msgs(messages)"
   ]
  },
  {
   "cell_type": "code",
   "execution_count": null,
   "id": "22fd30eb",
   "metadata": {},
   "outputs": [
    {
     "name": "stdout",
     "output_type": "stream",
     "text": [
      "\u001b[1m\u001b[31m>> \u001b[43m\u001b[31mSystem:\u001b[0m\n",
      "You are a helpful system administrator. Use the supplied tools to assist the user.\n",
      "\u001b[1m\u001b[31m>> \u001b[43m\u001b[32mUser:\u001b[0m\n",
      "Hi, can you capture YouTube Live?\n",
      "\u001b[1m\u001b[31m>> \u001b[43m\u001b[34mAssistant:\u001b[0m\n",
      "Yes, I can capture a frame from a YouTube Live stream. Please provide the link to the YouTube Live\n",
      "stream you want captured.\n",
      "\u001b[1m\u001b[31m>> \u001b[43m\u001b[32mUser:\u001b[0m\n",
      "You can use the default link.\n",
      "\u001b[1m\u001b[31m>> \u001b[43m\u001b[34mAssistant:\u001b[0m\n",
      "I have successfully captured a frame from the default YouTube Live stream and saved it as\n",
      "\"Olympiaterminaali.jpg\". If you need any further information or analysis on this image, feel free to\n",
      "ask!\n",
      "\u001b[1m\u001b[31m>> \u001b[43m\u001b[32mUser:\u001b[0m\n",
      "Can you extract information from this file?\n",
      "\u001b[1m\u001b[31m>> \u001b[43m\u001b[34mAssistant:\u001b[0m\n",
      "Here's the information extracted from the image:  - **Timestamp**: December 9, 2024, at 21:04:02 -\n",
      "**Location**: Olympiaterminaali - **Image Dimensions**: 1280 x 720 pixels - **Buildings**:\n",
      "Approximately 5 buildings, with height ranging from 3 to 5 stories - **Vehicles**:   - Cars: 15   -\n",
      "Trucks: 2   - Boats: 2 - **Parking**: 20 available parking spaces - **Street Lights**: 25 -\n",
      "**People**: 3 - **Time of Day**: Night - **Lighting**: Prominent artificial lighting -\n",
      "**Visibility**: Clear - **Sky**: Visible, with night light conditions - **Water Bodies**: Visible,\n",
      "with a harbor type  If there's anything more you'd like to know or if you need further analysis,\n",
      "feel free to ask!\n"
     ]
    }
   ],
   "source": [
    "#| eval: false\n",
    "messages.append(form_msg(\"user\", \"Can you extract information from this file?\"))\n",
    "complete(messages, YTLiveTools)\n",
    "print_msgs(messages)"
   ]
  },
  {
   "cell_type": "code",
   "execution_count": null,
   "id": "afd15a93-6e6f-44c1-8584-45354e741a3f",
   "metadata": {},
   "outputs": [],
   "source": [
    "#| hide\n",
    "import nbdev; nbdev.nbdev_export()"
   ]
  }
 ],
 "metadata": {
  "kernelspec": {
   "display_name": "python3",
   "language": "python",
   "name": "python3"
  }
 },
 "nbformat": 4,
 "nbformat_minor": 5
}
