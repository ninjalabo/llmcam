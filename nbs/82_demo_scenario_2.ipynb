{
 "cells": [
  {
   "cell_type": "markdown",
   "metadata": {},
   "source": [
    "# Demo Scenario 2\n",
    "> Validate Demonstrate Scenario 2 on a notebook"
   ]
  },
  {
   "cell_type": "code",
   "execution_count": null,
   "metadata": {},
   "outputs": [],
   "source": [
    "#| hide\n",
    "from nbdev.showdoc import *"
   ]
  },
  {
   "cell_type": "code",
   "execution_count": null,
   "metadata": {},
   "outputs": [],
   "source": [
    "#| eval: false\n",
    "\n",
    "from llmcam.downloader import *\n",
    "from llmcam.dtcam import *\n",
    "from llmcam.file_manager import *\n",
    "from llmcam.fn_to_fc import *\n",
    "from llmcam.oas_to_requests import *\n",
    "from llmcam.store import *\n",
    "from llmcam.yolo import *"
   ]
  },
  {
   "cell_type": "code",
   "execution_count": null,
   "metadata": {},
   "outputs": [],
   "source": [
    "#| eval: false\n",
    "\n",
    "def update_tools(\n",
    "    services: list # list of services\n",
    "):\n",
    "    \"\"\"Extarct services from ToolBox and integrate to current tools\"\"\"\n",
    "    new = extract_tools_from_services(services)\n",
    "    for tool in new:\n",
    "        tools.append(tool)\n",
    "\n",
    "tools = [tool_schema(fn) for fn in [update_tools, download_file, cap, add_api_tools]] + extract_tools_from_services(['ytube_live'])\n",
    "tools[0][\"function\"][\"parameters\"][\"properties\"][\"services\"] = {\n",
    "            \"type\": \"array\",\n",
    "            \"description\": \"List of service names\",\n",
    "            \"items\": {\"type\": \"string\"}\n",
    "        }\n"
   ]
  },
  {
   "cell_type": "code",
   "execution_count": null,
   "metadata": {},
   "outputs": [
    {
     "name": "stdout",
     "output_type": "stream",
     "text": [
      "\u001b[1m\u001b[31m>> \u001b[43m\u001b[31mSystem:\u001b[0m\n",
      "You are a helpful system administrator. Use the supplied tools to help the user.\n",
      "\u001b[1m\u001b[31m>> \u001b[43m\u001b[32mUser:\u001b[0m\n",
      "What can LLMCAM do?\n",
      "\u001b[1m\u001b[31m>> \u001b[43m\u001b[34mAssistant:\u001b[0m\n",
      "LLMCAM is equipped with a variety of functionalities that make it versatile and useful for various\n",
      "tasks. Here's a summary of what it can do:  1. **Capture Images:**    - It can capture images at\n",
      "specified locations using specific keywords.    - It can also capture frames from YouTube Live\n",
      "streams.  2. **Analyze Images:**    - It is capable of analyzing images to extract quantitative\n",
      "information.  3. **Download Files:**    - It can download files from specified URLs and save them\n",
      "with a given name.  4. **API Integration:**    - LLMCAM can integrate with APIs by adding API tools\n",
      "to its toolbox using provided service names and URLs. This allows for flexible communication with\n",
      "various web services.  5. **Toolbox Management:**    - It can update its toolbox by extracting\n",
      "services from ToolBox and integrating them as current tools.  This combination makes LLMCAM a\n",
      "powerful tool for applications ranging from media handling and analysis to integration with web\n",
      "services.\n",
      "\u001b[1m\u001b[31m>> \u001b[43m\u001b[32mUser:\u001b[0m\n",
      "Here is the live feed for Santa Claus Village: https://www.youtube.com/watch?v=Cp4RRAEgpeU\n",
      "\u001b[1m\u001b[31m>> \u001b[43m\u001b[34mAssistant:\u001b[0m\n",
      "I have captured a frame from the live feed of Santa Claus Village. If you need any analysis or\n",
      "further information from this image, please let me know!\n",
      "\u001b[1m\u001b[31m>> \u001b[43m\u001b[32mUser:\u001b[0m\n",
      "How many people are there currently?\n",
      "\u001b[1m\u001b[31m>> \u001b[43m\u001b[34mAssistant:\u001b[0m\n",
      "The captured image from Santa Claus Village does not directly show any people in the analysis, so I\n",
      "can't provide an exact count of the number of people currently there. However, the image contains\n",
      "the following details:  - **Time of Day:** Night - **Number of Buildings:** 2 - **Number of Street\n",
      "Lights:** 5 - **Number of Trees:** 10 - **Temperature Displayed:** -3°C  If you need any other\n",
      "observations or information, feel free to ask!\n",
      "\u001b[1m\u001b[31m>> \u001b[43m\u001b[32mUser:\u001b[0m\n",
      "Plot the change in the number of people over the last 3 hours.\n",
      "\u001b[1m\u001b[31m>> \u001b[43m\u001b[34mAssistant:\u001b[0m\n",
      "To plot the change in the number of people over the last 3 hours, we would typically need a series\n",
      "of images captured at regular intervals during that period. Here’s how we can proceed:  1. **Capture\n",
      "More Frames:** We would need to capture frames at consistent intervals (e.g., every 15 minutes) over\n",
      "the desired 3-hour period.  2. **Analyze Each Frame:** For each frame captured, we'd perform an\n",
      "analysis to estimate the number of people visible.  3. **Plot the Data:** Finally, we'd use the\n",
      "collected data points to plot the change in the number of people over time.  Unfortunately, I\n",
      "currently don't have a mechanism in place to continuously capture and analyze images automatically\n",
      "over a period of time. However, if you can provide a set of images or other pertinent data points, I\n",
      "can assist with plotting the data. Alternatively, we can begin capturing frames manually at\n",
      "specified intervals moving forward, if that would help.\n",
      "\u001b[1m\u001b[31m>> \u001b[43m\u001b[32mUser:\u001b[0m\n",
      "Notify me when there are fewer than 10 people.\n",
      "\u001b[1m\u001b[31m>> \u001b[43m\u001b[34mAssistant:\u001b[0m\n",
      "Currently, I don't have a built-in mechanism to provide real-time notifications for changes in the\n",
      "number of people on a live feed. Additionally, I depend on manual triggering to capture and analyze\n",
      "frames.   To receive notifications about the number of people, an automated system would need to be\n",
      "set up to regularly capture images from the live feed and analyze them using a model capable of\n",
      "detecting and counting people. Once that system is in place, you would then integrate it with a\n",
      "notification service to alert you when the count falls below 10 people.  If you have access to\n",
      "setting up such an infrastructure, I can guide you on the software components you might need for the\n",
      "image analysis part. Unfortunately, I can't implement continuous monitoring on my own at this\n",
      "moment.\n"
     ]
    }
   ],
   "source": [
    "#| eval: false\n",
    "\n",
    "messages = form_msgs([\n",
    "    (\"system\", \"You are a helpful system administrator. Use the supplied tools to help the user.\"),\n",
    "    (\"user\", \"What can LLMCAM do?\"),\n",
    "    (\"user\", \"Here is the live feed for Santa Claus Village: https://www.youtube.com/watch?v=Cp4RRAEgpeU\"),\n",
    "    (\"user\", \"How many people are there currently?\"),\n",
    "    (\"user\", \"Plot the change in the number of people over the last 3 hours.\"),\n",
    "    (\"user\", \"Notify me when there are fewer than 10 people.\")\n",
    "])\n",
    "complete(messages, tools)\n",
    "print_msgs(messages)"
   ]
  },
  {
   "cell_type": "markdown",
   "metadata": {},
   "source": [
    "1. User: What Function Calls (FCs) do you have?\n",
    "2. Assistant: I can monitor YouTube Live feeds and integrate with various services to provide insights and notifications.\n",
    "3. User: Here’s the YouTube Live feed for Santa Claus Village.\n",
    "4. Assistant: The YouTube Live feed for Santa Claus Village has been registered.\n",
    "5. User: How many people are currently there?\n",
    "6. Assistant: There are currently 52 people at Santa Claus Village.\n",
    "7. User: Plot the change in the number of people at Santa Claus Village over the last 3 hours.\n",
    "8. Assistant: [Generates and displays a bar chart showing the trend in people count over the last 3 hours.]\n",
    "9. User: Notify me if there are fewer than 10 people.\n",
    "10. Assistant: Notification rule set. I’ll alert you when the number of people at Santa Claus Village drops below 10."
   ]
  },
  {
   "cell_type": "code",
   "execution_count": null,
   "metadata": {},
   "outputs": [],
   "source": [
    "#| hide\n",
    "import nbdev; nbdev.nbdev_export()"
   ]
  }
 ],
 "metadata": {
  "kernelspec": {
   "display_name": "python3",
   "language": "python",
   "name": "python3"
  }
 },
 "nbformat": 4,
 "nbformat_minor": 2
}
