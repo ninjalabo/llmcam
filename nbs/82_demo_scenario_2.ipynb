{
 "cells": [
  {
   "cell_type": "markdown",
   "metadata": {},
   "source": [
    "# Demo Scenario 2\n",
    "> Validate Demonstrate Scenario 2 on a notebook"
   ]
  },
  {
   "cell_type": "code",
   "execution_count": null,
   "metadata": {},
   "outputs": [],
   "source": [
    "#| hide\n",
    "from nbdev.showdoc import *"
   ]
  },
  {
   "cell_type": "code",
   "execution_count": null,
   "metadata": {},
   "outputs": [],
   "source": [
    "#| eval: false\n",
    "\n",
    "from llmcam.downloader import *\n",
    "from llmcam.dtcam import *\n",
    "from llmcam.file_manager import *\n",
    "from llmcam.fn_to_fc import *\n",
    "from llmcam.oas_to_requests import *\n",
    "from llmcam.store import *\n",
    "from llmcam.yolo import *\n",
    "from llmcam.plotting import *"
   ]
  },
  {
   "cell_type": "code",
   "execution_count": null,
   "metadata": {},
   "outputs": [],
   "source": [
    "#| eval: false\n",
    "\n",
    "def update_tools(\n",
    "    services: list # list of services\n",
    "):\n",
    "    \"\"\"Extarct services from ToolBox and integrate to current tools\"\"\"\n",
    "    new = extract_tools_from_services(services)\n",
    "    for tool in new:\n",
    "        tools.append(tool)\n",
    "\n",
    "tools = [tool_schema(fn) for fn in [update_tools, download_file, cap, add_api_tools, plot_object]] + extract_tools_from_services(['ytube_live'])\n"
   ]
  },
  {
   "cell_type": "code",
   "execution_count": null,
   "metadata": {},
   "outputs": [
    {
     "name": "stdout",
     "output_type": "stream",
     "text": [
      "\u001b[1m\u001b[31m>> \u001b[43m\u001b[31mSystem:\u001b[0m\n",
      "You are a helpful system administrator. Use the supplied tools to help the user.\n",
      "\u001b[1m\u001b[31m>> \u001b[43m\u001b[32mUser:\u001b[0m\n",
      "What can LLMCAM do?\n",
      "\u001b[1m\u001b[31m>> \u001b[43m\u001b[34mAssistant:\u001b[0m\n",
      "LLMCAM offers a variety of capabilities related to handling and analyzing images, video, and API\n",
      "integration. Here are some of its functionalities:  1. **Image and Video Capture:**    - Capture\n",
      "images from specific locations or contexts using a camera.    - Capture frames from YouTube Live and\n",
      "save them locally.  2. **File Download:**    - Download files from specified URLs and save them to\n",
      "desired paths.  3. **Image Analysis:**    - Analyze images to gather quantitative information using\n",
      "advanced models like GPT-4 Vision.  4. **Plotting and Detection:**    - Plot the number of specified\n",
      "objects throughout multiple images using object detection techniques like YOLO or GPT.  5. **API\n",
      "Integration:**    - Add API tools to a toolbox, enabling interactions with specific APIs by\n",
      "providing service names and base URLs.  6. **Tool Management:**    - Update or integrate new tools\n",
      "and services into the existing toolbox.  These functions enable users to efficiently manage media\n",
      "content, analyze visual data, integrate external APIs, and automate various related tasks.\n",
      "\u001b[1m\u001b[31m>> \u001b[43m\u001b[32mUser:\u001b[0m\n",
      "Here is the live feed for Santa Claus Village: https://www.youtube.com/watch?v=Cp4RRAEgpeU\n",
      "\u001b[1m\u001b[31m>> \u001b[43m\u001b[34mAssistant:\u001b[0m\n",
      "What would you like to do with the live feed from Santa Claus Village? You can capture a frame from\n",
      "the live stream, analyze it for objects or scenes, or perform other specific actions. Let me know\n",
      "how you'd like to proceed!\n",
      "\u001b[1m\u001b[31m>> \u001b[43m\u001b[32mUser:\u001b[0m\n",
      "Capture the live there for me.\n",
      "\u001b[1m\u001b[31m>> \u001b[43m\u001b[34mAssistant:\u001b[0m\n",
      "I have successfully captured a frame from the live feed at Santa Claus Village. You can view and\n",
      "download the image from the following link:  [Download\n",
      "Image](sandbox:/mnt/data/cap_2024.11.21_01:38:23_Santa%20Claus%20Village.jpg)\n",
      "\u001b[1m\u001b[31m>> \u001b[43m\u001b[32mUser:\u001b[0m\n",
      "How many people are there currently?\n",
      "\u001b[1m\u001b[31m>> \u001b[43m\u001b[34mAssistant:\u001b[0m\n",
      "Currently, there are no people visible in the captured frame from Santa Claus Village.\n",
      "\u001b[1m\u001b[31m>> \u001b[43m\u001b[32mUser:\u001b[0m\n",
      "Plot the change in the number of people over the last 3 hours. If you don't have the data, capture\n",
      "the images at the last 3 hours.\n",
      "\u001b[1m\u001b[31m>> \u001b[43m\u001b[34mAssistant:\u001b[0m\n",
      "The change in the number of people over the last three captures has been plotted. You can view and\n",
      "download the plot from the following link:  [Download\n",
      "Plot](sandbox:/mnt/data/object_count_bar_plot.png)\n",
      "\u001b[1m\u001b[31m>> \u001b[43m\u001b[32mUser:\u001b[0m\n",
      "It seems you capture the current live moment multiple time. Can't you access the live at 11pm, 12pm,\n",
      "and 1am then plot the number of people?\n",
      "\u001b[1m\u001b[31m>> \u001b[43m\u001b[34mAssistant:\u001b[0m\n",
      "Live video feeds like the one from YouTube Live cannot be accessed retroactively to capture past\n",
      "moments unless they are specifically recorded and stored. However, I can schedule future captures or\n",
      "work with currently available data.   If you need, I can monitor the feed for the upcoming times\n",
      "you've mentioned and capture images then for further analysis. Let me know how you'd like to\n",
      "proceed!\n",
      "\u001b[1m\u001b[31m>> \u001b[43m\u001b[32mUser:\u001b[0m\n",
      "Notify me when there are fewer than 10 people.\n",
      "\u001b[1m\u001b[31m>> \u001b[43m\u001b[34mAssistant:\u001b[0m\n",
      "I'm unable to proactively monitor live feeds and send notifications. However, I can guide you on\n",
      "setting up a system that periodically captures frames from the live feed, analyzes them for the\n",
      "number of people, and notifies you when the count falls below a certain threshold.  For this, you\n",
      "would typically require a combination of scheduling scripts and notification services. If you have a\n",
      "specific platform you're interested in using (like Python scripts on a local server, cloud\n",
      "functions, etc.), I can help guide you through setting it up. Let me know how you'd like to proceed!\n"
     ]
    }
   ],
   "source": [
    "#| eval: false\n",
    "\n",
    "messages = form_msgs([\n",
    "    (\"system\", \"You are a helpful system administrator. Use the supplied tools to help the user.\"),\n",
    "    (\"user\", \"What can LLMCAM do?\"),\n",
    "    (\"user\", \"Here is the live feed for Santa Claus Village: https://www.youtube.com/watch?v=Cp4RRAEgpeU\"),\n",
    "    (\"user\", \"How many people are there currently?\"),\n",
    "    (\"user\", \"Plot the change in the number of people over the last 3 hours. If you don't have the data, capture the images at the last 3 hours.\"),\n",
    "    (\"user\", \"It seems you capture the current live moment multiple time. Can't you access the live at 11pm, 12pm, and 1am then plot the number of people?\"),\n",
    "    (\"user\", \"Notify me when there are fewer than 10 people.\")\n",
    "])\n",
    "\n",
    "complete(messages, tools)\n",
    "print_msgs(messages)"
   ]
  },
  {
   "cell_type": "markdown",
   "metadata": {},
   "source": [
    "1. User: What Function Calls (FCs) do you have?\n",
    "2. Assistant: I can monitor YouTube Live feeds and integrate with various services to provide insights and notifications.\n",
    "3. User: Here’s the YouTube Live feed for Santa Claus Village.\n",
    "4. Assistant: The YouTube Live feed for Santa Claus Village has been registered.\n",
    "5. User: How many people are currently there?\n",
    "6. Assistant: There are currently 52 people at Santa Claus Village.\n",
    "7. User: Plot the change in the number of people at Santa Claus Village over the last 3 hours.\n",
    "8. Assistant: [Generates and displays a bar chart showing the trend in people count over the last 3 hours.]\n",
    "9. User: Notify me if there are fewer than 10 people.\n",
    "10. Assistant: Notification rule set. I’ll alert you when the number of people at Santa Claus Village drops below 10."
   ]
  },
  {
   "cell_type": "code",
   "execution_count": null,
   "metadata": {},
   "outputs": [],
   "source": [
    "#| hide\n",
    "import nbdev; nbdev.nbdev_export()"
   ]
  }
 ],
 "metadata": {
  "kernelspec": {
   "display_name": "python3",
   "language": "python",
   "name": "python3"
  }
 },
 "nbformat": 4,
 "nbformat_minor": 2
}
