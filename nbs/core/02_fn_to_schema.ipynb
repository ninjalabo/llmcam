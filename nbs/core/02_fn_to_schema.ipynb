{
 "cells": [
  {
   "cell_type": "markdown",
   "id": "6f66ce1c-7715-4f29-b00e-0beb48ac372a",
   "metadata": {},
   "source": [
    "# Function to Tool Schema\n",
    "\n",
    "> Python module to automatically convert a given Python function into tool schema appropriate for function calling"
   ]
  },
  {
   "cell_type": "code",
   "execution_count": null,
   "id": "9750839c-7930-4ec2-be7d-51da8203bab0",
   "metadata": {},
   "outputs": [],
   "source": [
    "#| default_exp core.fn_to_schema"
   ]
  },
  {
   "cell_type": "code",
   "execution_count": null,
   "id": "cc649b44-af36-4efb-8dbb-4cc1cae452ae",
   "metadata": {},
   "outputs": [],
   "source": [
    "#| hide\n",
    "from nbdev.showdoc import *"
   ]
  },
  {
   "cell_type": "markdown",
   "id": "6c28d07e",
   "metadata": {},
   "source": [
    "To execute function calling from GPT responses, we need to define the function and its schema as a GPT tool. However, it can be inconvenient to define both, especially if we need to incorporate multiple functions as GPT tools.\n",
    "\n",
    "This process can be simplified if we utilize type-hinting and annotations on functions supported by Python using libraries such as `inspect` and `ast`. Summary of our schema generation process:"
   ]
  },
  {
   "cell_type": "code",
   "execution_count": null,
   "id": "b2a1dfbf",
   "metadata": {},
   "outputs": [
    {
     "data": {
      "text/html": [
       "\n",
       "    <div style=\"display: flex; justify-content: center; align-items: center; width: 100%; height: 100%;\">\n",
       "        <img src=\"https://mermaid.ink/img/CmZsb3djaGFydCBURAogICAgRltGdW5jdGlvbl0gLS0-fGFzdHwgUERbUGFyYW10ZXIgZGVzY3JpcHRpb25zXQogICAgRiAtLT58aW5zcGVjdHwgUFRbUGFyYW1ldGVyIHR5cGVzXQogICAgUFQgLS0-IENQVFtHUFQtY29tcGF0aWJsZSBwYXJhbWV0ZXIgdHlwZXNdCiAgICBGIC0tPnxiYXNpYyBwcm9wZXJ0aWVzfCBNZXRhZGF0YQogICAgTWV0YWRhdGEgLS0-IFNbU2NoZW1hXQogICAgQ1BUIC0tPiBTCiAgICBQRCAtLT4gUwogICAgRUB7IHNoYXBlOiBicmFjZXMsIGxhYmVsOiAiRml4dXAgZnVuY3Rpb24gClNlcnZpY2UgbmFtZSAKRXh0cmEgbWV0YWRhdGEiIH0KICAgIEUgLS0-IFMK\" style=\"max-width: 100%; max-height: 100%; object-fit: contain;\" />\n",
       "    </div>\n",
       "    "
      ],
      "text/plain": [
       "<IPython.core.display.HTML object>"
      ]
     },
     "metadata": {},
     "output_type": "display_data"
    }
   ],
   "source": [
    "#| echo: false\n",
    "import base64\n",
    "from IPython.display import HTML, display\n",
    "import matplotlib.pyplot as plt\n",
    "\n",
    "def mm(graph):\n",
    "    graphbytes = graph.encode(\"utf8\")\n",
    "    base64_bytes = base64.urlsafe_b64encode(graphbytes)\n",
    "    base64_string = base64_bytes.decode(\"ascii\")\n",
    "    img_url = \"https://mermaid.ink/img/\" + base64_string\n",
    "    \n",
    "    # Responsive HTML with CSS for fitting to parent container\n",
    "    html = f\"\"\"\n",
    "    <div style=\"display: flex; justify-content: center; align-items: center; width: 100%; height: 100%;\">\n",
    "        <img src=\"{img_url}\" style=\"max-width: 100%; max-height: 100%; object-fit: contain;\" />\n",
    "    </div>\n",
    "    \"\"\"\n",
    "    display(HTML(html))\n",
    "\n",
    "mm(\"\"\"\n",
    "flowchart TD\n",
    "    F[Function] -->|ast| PD[Paramter descriptions]\n",
    "    F -->|inspect| PT[Parameter types]\n",
    "    PT --> CPT[GPT-compatible parameter types]\n",
    "    F -->|basic properties| Metadata\n",
    "    Metadata --> S[Schema]\n",
    "    CPT --> S\n",
    "    PD --> S\n",
    "    E@{ shape: braces, label: \"Fixup function \\nService name \\nExtra metadata\" }\n",
    "    E --> S\n",
    "\"\"\")"
   ]
  },
  {
   "cell_type": "markdown",
   "id": "38862baf",
   "metadata": {},
   "source": [
    "Let us start with a well-documented function `get_weather_information`: "
   ]
  },
  {
   "cell_type": "code",
   "execution_count": null,
   "id": "9ae68984",
   "metadata": {},
   "outputs": [],
   "source": [
    "# Define the function to get weather information\n",
    "from typing import Optional\n",
    "\n",
    "def get_weather_information(\n",
    "    city: str,  # Name of the city\n",
    "    zip_code: Optional[str] = None,  # Zip code of the city (optional)\n",
    "):\n",
    "    \"\"\"Get weather information for a city or location based on zip code\"\"\"\n",
    "    return {\n",
    "        \"city\": city,\n",
    "        \"zip_code\": zip_code,\n",
    "        \"temparature\": 25,\n",
    "        \"humidity\": 80,\n",
    "    }"
   ]
  },
  {
   "cell_type": "code",
   "execution_count": null,
   "id": "70182632",
   "metadata": {},
   "outputs": [
    {
     "data": {
      "text/markdown": [
       "---\n",
       "\n",
       "### get_weather_information\n",
       "\n",
       ">      get_weather_information (city:str, zip_code:Optional[str]=None)\n",
       "\n",
       "*Get weather information for a city or location based on zip code*\n",
       "\n",
       "|    | **Type** | **Default** | **Details** |\n",
       "| -- | -------- | ----------- | ----------- |\n",
       "| city | str |  | Name of the city |\n",
       "| zip_code | Optional | None | Zip code of the city (optional) |"
      ],
      "text/plain": [
       "---\n",
       "\n",
       "### get_weather_information\n",
       "\n",
       ">      get_weather_information (city:str, zip_code:Optional[str]=None)\n",
       "\n",
       "*Get weather information for a city or location based on zip code*\n",
       "\n",
       "|    | **Type** | **Default** | **Details** |\n",
       "| -- | -------- | ----------- | ----------- |\n",
       "| city | str |  | Name of the city |\n",
       "| zip_code | Optional | None | Zip code of the city (optional) |"
      ]
     },
     "execution_count": null,
     "metadata": {},
     "output_type": "execute_result"
    }
   ],
   "source": [
    "show_doc(get_weather_information)"
   ]
  },
  {
   "cell_type": "markdown",
   "id": "43d03f59",
   "metadata": {},
   "source": [
    "The function is well-documented and its annotations contain almost all necessary information for tool schema. We will build utilities around extracting such information and converting them into appropriate formats for tool schema."
   ]
  },
  {
   "cell_type": "code",
   "execution_count": null,
   "id": "daff1f70",
   "metadata": {},
   "outputs": [],
   "source": [
    "#| export\n",
    "import ast\n",
    "import inspect\n",
    "\n",
    "from types import NoneType\n",
    "from typing import Optional, Union, Callable, Literal,  Tuple"
   ]
  },
  {
   "cell_type": "markdown",
   "id": "f12214b5",
   "metadata": {},
   "source": [
    "## Parameter descriptions\n",
    "\n",
    "We can extract the descriptions of function parameters with the `ast` library. In our implementation, we can follow the inline comments for conveniency. The descriptions can be extracted as follows:"
   ]
  },
  {
   "cell_type": "code",
   "execution_count": null,
   "id": "ef3ae561",
   "metadata": {},
   "outputs": [],
   "source": [
    "#| export\n",
    "# Extract parameter comments from the function\n",
    "def extract_parameter_comments(\n",
    "        func: Callable  # Function to extract comments from\n",
    "    ) -> dict[str, str]:  # Dictionary with parameter comments\n",
    "    \"\"\"Extract comments for function arguments\"\"\"\n",
    "    # Get the source code of the function\n",
    "    source = inspect.getsource(func)\n",
    "    # Parse the source code into an AST\n",
    "    tree = ast.parse(source)\n",
    "    \n",
    "    # Extract comments for function arguments\n",
    "    comments = {}\n",
    "    for node in ast.walk(tree):\n",
    "        if isinstance(node, ast.FunctionDef) and node.name == func.__name__:\n",
    "            # Get arguments and comments in the function\n",
    "            for arg in node.args.args:\n",
    "                arg_name = arg.arg\n",
    "                # Check if there's an inline comment associated with the argument\n",
    "                if arg.end_lineno and arg.col_offset:\n",
    "                    # Loop through the source code lines to find the comment\n",
    "                    lines = source.splitlines()\n",
    "                    for line in lines:\n",
    "                        if line.strip().startswith(f\"{arg_name}:\") and \"#\" in line:\n",
    "                            comment = line.split(\"#\")[1].strip()\n",
    "                            comments[arg_name] = comment\n",
    "    return comments"
   ]
  },
  {
   "cell_type": "code",
   "execution_count": null,
   "id": "2dfc6202",
   "metadata": {},
   "outputs": [
    {
     "data": {
      "text/markdown": [
       "---\n",
       "\n",
       "[source](https://github.com/ninjalabo/llmcam/blob/main/llmcam/core/fn_to_schema.py#L17){target=\"_blank\" style=\"float:right; font-size:smaller\"}\n",
       "\n",
       "### extract_parameter_comments\n",
       "\n",
       ">      extract_parameter_comments (func:Callable)\n",
       "\n",
       "*Extract comments for function arguments*\n",
       "\n",
       "|    | **Type** | **Details** |\n",
       "| -- | -------- | ----------- |\n",
       "| func | Callable | Function to extract comments from |\n",
       "| **Returns** | **dict** | **Dictionary with parameter comments** |"
      ],
      "text/plain": [
       "---\n",
       "\n",
       "[source](https://github.com/ninjalabo/llmcam/blob/main/llmcam/core/fn_to_schema.py#L17){target=\"_blank\" style=\"float:right; font-size:smaller\"}\n",
       "\n",
       "### extract_parameter_comments\n",
       "\n",
       ">      extract_parameter_comments (func:Callable)\n",
       "\n",
       "*Extract comments for function arguments*\n",
       "\n",
       "|    | **Type** | **Details** |\n",
       "| -- | -------- | ----------- |\n",
       "| func | Callable | Function to extract comments from |\n",
       "| **Returns** | **dict** | **Dictionary with parameter comments** |"
      ]
     },
     "execution_count": null,
     "metadata": {},
     "output_type": "execute_result"
    }
   ],
   "source": [
    "show_doc(extract_parameter_comments)"
   ]
  },
  {
   "cell_type": "markdown",
   "id": "a6664ef0",
   "metadata": {},
   "source": [
    "Example of extracting comments from the function:"
   ]
  },
  {
   "cell_type": "code",
   "execution_count": null,
   "id": "d4f3e161",
   "metadata": {},
   "outputs": [
    {
     "data": {
      "text/plain": [
       "{'city': 'Name of the city', 'zip_code': 'Zip code of the city (optional)'}"
      ]
     },
     "execution_count": null,
     "metadata": {},
     "output_type": "execute_result"
    }
   ],
   "source": [
    "extract_parameter_comments(get_weather_information)"
   ]
  },
  {
   "cell_type": "code",
   "execution_count": null,
   "id": "427e1219",
   "metadata": {},
   "outputs": [],
   "source": [
    "#| hide\n",
    "params = extract_parameter_comments(get_weather_information)\n",
    "assert params == {'city': 'Name of the city', 'zip_code': 'Zip code of the city (optional)'}"
   ]
  },
  {
   "cell_type": "markdown",
   "id": "420fb0fc",
   "metadata": {},
   "source": [
    "## Type converter\n",
    "\n",
    "Python types cannot be directly transferred into acceptable data types in GPT-compatible tool schema. Therefore, we need an utility to convert these types:"
   ]
  },
  {
   "cell_type": "code",
   "execution_count": null,
   "id": "21b9eeab",
   "metadata": {},
   "outputs": [],
   "source": [
    "#| export\n",
    "def param_converter(\n",
    "        param_type,  # The type of the parameter\n",
    "        description  # The description of the parameter\n",
    "    ) -> dict:  # The converted parameter\n",
    "    \"\"\"Convert Python parameter types to acceptable types for tool schema\"\"\"\n",
    "    # Use direct mapping for simple Python types to OpenAPI types\n",
    "    simple_types = {\n",
    "        str: \"string\",\n",
    "        int: \"number\",\n",
    "        float: \"number\",\n",
    "        bool: \"boolean\",\n",
    "    }\n",
    "    if param_type in simple_types:\n",
    "        return { \"type\": simple_types[param_type], \"description\": description }\n",
    "    \n",
    "    # For NoneType, set the type to null and provide a suitable description\n",
    "    elif param_type == NoneType:\n",
    "        return { \"type\": \"null\", \"description\": \"A default value will be automatically used.\" }\n",
    "    \n",
    "    # For list types, set the type to array and provide the item type\n",
    "    if param_type == list or getattr(param_type, \"__origin__\", None) == list:\n",
    "        item_type = param_type.__args__[0] if hasattr(param_type, \"__args__\") and param_type.__args__ else str\n",
    "        return {\n",
    "            \"type\": \"array\",\n",
    "            \"description\": description,\n",
    "            \"items\": { \"type\": param_converter(item_type, description)[\"type\"] }\n",
    "        }\n",
    "    \n",
    "    # For union types, set the type to anyOf and provide the subtypes\n",
    "    # Note: Optional[X] is represented as Union[X, None] in Python\n",
    "    if hasattr(param_type, '__origin__') and param_type.__origin__ == Union:\n",
    "        # Recursively convert the types\n",
    "        descriptions = description.split(\" or \")\n",
    "        subtypes = param_type.__args__\n",
    "        if len(subtypes) > len(descriptions):\n",
    "            descriptions = descriptions + [\"A description is not provided\"] * (len(subtypes) - len(descriptions))\n",
    "\n",
    "        return {\n",
    "            \"anyOf\": [param_converter(subtype, desc) for subtype, desc in zip(subtypes, descriptions)]\n",
    "        }\n",
    "    \n",
    "    # For any other types, set the type to string and pass the description\n",
    "    return { \"type\": \"string\", \"description\": description }"
   ]
  },
  {
   "cell_type": "markdown",
   "id": "5e52a924",
   "metadata": {},
   "source": [
    "Test with parameters of `get_weather_information`:"
   ]
  },
  {
   "cell_type": "code",
   "execution_count": null,
   "id": "628c9bb4",
   "metadata": {},
   "outputs": [
    {
     "data": {
      "text/plain": [
       "({'type': 'string', 'description': 'Name of the city'},\n",
       " {'anyOf': [{'type': 'string',\n",
       "    'description': 'Zip code of the city (optional)'},\n",
       "   {'type': 'null',\n",
       "    'description': 'A default value will be automatically used.'}]})"
      ]
     },
     "execution_count": null,
     "metadata": {},
     "output_type": "execute_result"
    }
   ],
   "source": [
    "city_param = param_converter(str, \"Name of the city\")\n",
    "zip_param = param_converter(Optional[str], \"Zip code of the city (optional)\")\n",
    "city_param, zip_param"
   ]
  },
  {
   "cell_type": "code",
   "execution_count": null,
   "id": "37c32e46",
   "metadata": {},
   "outputs": [],
   "source": [
    "#| hide\n",
    "assert city_param == {'type': 'string', 'description': 'Name of the city'}\n",
    "assert zip_param == {'anyOf': [{'type': 'string', 'description': 'Zip code of the city (optional)'}, {'type': 'null', 'description': 'A default value will be automatically used.'}]}"
   ]
  },
  {
   "cell_type": "markdown",
   "id": "b915af0a",
   "metadata": {},
   "source": [
    "## Function to Schema\n",
    "\n",
    "We can combine the above utilities with other utilities in `inspect` to extract information from a Python function and generate a tool schema."
   ]
  },
  {
   "cell_type": "code",
   "execution_count": null,
   "id": "9950a4f2",
   "metadata": {},
   "outputs": [],
   "source": [
    "#| export\n",
    "def function_schema(\n",
    "        func: Callable,  # The function to generate the schema for\n",
    "        service_name: Optional[str] = None,  # The name of the service\n",
    "        fixup: Optional[Callable] = None,  # A function to fix up the schema\n",
    "        **kwargs  # Additional keyword arguments as metadata\n",
    "    ) -> dict:  # The generated tool schema\n",
    "    \"\"\"Generate a schema from function using its parameters and docstring\"\"\"\n",
    "    # Extract function name, docstring, and parameters\n",
    "    func_name = func.__name__\n",
    "    func_description = func.__doc__ or \"No description provided.\"\n",
    "    func_module = func.__module__\n",
    "    signature = inspect.signature(func)\n",
    "    \n",
    "    # Create parameters schema\n",
    "    parameters_schema = {\n",
    "        \"type\": \"object\",\n",
    "        \"properties\": {},\n",
    "        \"required\": []\n",
    "    }\n",
    "    \n",
    "    # Populate properties and required fields\n",
    "    param_comments = extract_parameter_comments(func)\n",
    "    for param_name, param in signature.parameters.items():\n",
    "        param_type = param.annotation if param.annotation != inspect._empty else str\n",
    "        \n",
    "        # Add parameter to schema\n",
    "        parameters_schema[\"properties\"][param_name] = param_converter(\n",
    "            param_type, \n",
    "            param_comments.get(param_name, \"No description provided.\")\n",
    "        )\n",
    "        \n",
    "        # Mark as required if no default\n",
    "        if param.default == inspect.Parameter.empty:\n",
    "            parameters_schema[\"required\"].append(param_name)\n",
    "    \n",
    "    # Build final tool schema\n",
    "    tool_schema = {\n",
    "        \"type\": \"function\",\n",
    "        \"function\": {\n",
    "            \"name\": func_name,\n",
    "            \"description\": func_description,\n",
    "            \"parameters\": parameters_schema,\n",
    "            \"metadata\": {\n",
    "                \"module\": func_module,\n",
    "                \"service\": service_name or func_module,\n",
    "                **kwargs\n",
    "            }\n",
    "        }\n",
    "    }\n",
    "\n",
    "    # Apply fixup function if provided\n",
    "    if fixup: tool_schema['function']['fixup'] = f\"{fixup.__module__}.{fixup.__name__}\"\n",
    "    \n",
    "    return tool_schema"
   ]
  },
  {
   "cell_type": "markdown",
   "id": "407ff42a",
   "metadata": {},
   "source": [
    "Test with our current function:"
   ]
  },
  {
   "cell_type": "code",
   "execution_count": null,
   "id": "8d852572",
   "metadata": {},
   "outputs": [
    {
     "data": {
      "text/plain": [
       "{'type': 'function',\n",
       " 'function': {'name': 'get_weather_information',\n",
       "  'description': 'Get weather information for a city or location based on zip code',\n",
       "  'parameters': {'type': 'object',\n",
       "   'properties': {'city': {'type': 'string',\n",
       "     'description': 'Name of the city'},\n",
       "    'zip_code': {'anyOf': [{'type': 'string',\n",
       "       'description': 'Zip code of the city (optional)'},\n",
       "      {'type': 'null',\n",
       "       'description': 'A default value will be automatically used.'}]}},\n",
       "   'required': ['city']},\n",
       "  'metadata': {'module': '__main__', 'service': 'Weather Service'}}}"
      ]
     },
     "execution_count": null,
     "metadata": {},
     "output_type": "execute_result"
    }
   ],
   "source": [
    "tool_schema = function_schema(get_weather_information, service_name=\"Weather Service\")\n",
    "tool_schema"
   ]
  },
  {
   "cell_type": "code",
   "execution_count": null,
   "id": "ec183490",
   "metadata": {},
   "outputs": [],
   "source": [
    "#| hide\n",
    "assert tool_schema == {\n",
    "    'type': 'function',\n",
    "    'function': {\n",
    "        'name': 'get_weather_information',\n",
    "        'description': 'Get weather information for a city or location based on zip code',\n",
    "        'parameters': {\n",
    "            'type': 'object',\n",
    "            'properties': {\n",
    "                'city': {'type': 'string', 'description': 'Name of the city'},\n",
    "                'zip_code': {\n",
    "                    'anyOf': [\n",
    "                        {'type': 'string', 'description': 'Zip code of the city (optional)'},\n",
    "                        {'type': 'null', 'description': 'A default value will be automatically used.'}\n",
    "                    ]\n",
    "                }\n",
    "            },\n",
    "            'required': ['city']\n",
    "        },\n",
    "        'metadata': {\n",
    "            'module': '__main__',\n",
    "            'service': 'Weather Service'\n",
    "        }\n",
    "    }\n",
    "}"
   ]
  },
  {
   "cell_type": "markdown",
   "id": "f9388aab",
   "metadata": {},
   "source": [
    "## Simulated GPT workflow\n",
    "\n",
    "Test integrating with our current GPT framework:"
   ]
  },
  {
   "cell_type": "code",
   "execution_count": null,
   "id": "fe177705",
   "metadata": {},
   "outputs": [
    {
     "name": "stdout",
     "output_type": "stream",
     "text": [
      "\u001b[1m\u001b[31m>> \u001b[43m\u001b[31mSystem:\u001b[0m\n",
      "You can get weather information for a given location using the `get_weather_information` function\n",
      "\u001b[1m\u001b[31m>> \u001b[43m\u001b[32mUser:\u001b[0m\n",
      "What is the weather in New York?\n",
      "\u001b[1m\u001b[31m>> \u001b[43m\u001b[34mAssistant:\u001b[0m\n",
      "The current weather in New York is 25°C with 80% humidity.\n"
     ]
    }
   ],
   "source": [
    "#| eval: false\n",
    "from llmcam.core.fc import *\n",
    "\n",
    "tools = [function_schema(get_weather_information, service_name=\"Weather Service\")]\n",
    "messages = form_msgs([\n",
    "    (\"system\", \"You can get weather information for a given location using the `get_weather_information` function\"),\n",
    "    (\"user\", \"What is the weather in New York?\")\n",
    "])\n",
    "complete(messages, tools=tools)\n",
    "print_msgs(messages)"
   ]
  },
  {
   "cell_type": "code",
   "execution_count": null,
   "id": "afd15a93-6e6f-44c1-8584-45354e741a3f",
   "metadata": {},
   "outputs": [],
   "source": [
    "#| hide\n",
    "import nbdev; nbdev.nbdev_export()"
   ]
  }
 ],
 "metadata": {
  "kernelspec": {
   "display_name": "python3",
   "language": "python",
   "name": "python3"
  }
 },
 "nbformat": 4,
 "nbformat_minor": 5
}
