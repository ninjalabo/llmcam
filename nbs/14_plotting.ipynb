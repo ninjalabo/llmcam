{
 "cells": [
  {
   "cell_type": "markdown",
   "id": "ea387527-2ef4-43bb-b6f1-616e5e313757",
   "metadata": {},
   "source": [
    "# Plotting & Downloading\n",
    "> plot json data and download an plotted image"
   ]
  },
  {
   "cell_type": "code",
   "execution_count": null,
   "id": "b237e224-9051-477b-8cf2-1a516357499a",
   "metadata": {},
   "outputs": [],
   "source": [
    "#| default_exp plotting"
   ]
  },
  {
   "cell_type": "code",
   "execution_count": null,
   "id": "24c2ac05-3b84-4189-a763-5bb72027e3dc",
   "metadata": {},
   "outputs": [],
   "source": [
    "#| hide\n",
    "from nbdev.showdoc import *"
   ]
  },
  {
   "cell_type": "code",
   "execution_count": null,
   "id": "3d1b5c7d",
   "metadata": {},
   "outputs": [],
   "source": [
    "#| export\n",
    "\n",
    "from llmcam.file_manager import list_image_files\n",
    "from llmcam.yolo import detect_objects\n",
    "from llmcam.fn_to_fc import tool_schema, complete, form_msgs, print_msgs, ask_gpt4v_about_image_file\n",
    "import os\n",
    "import json\n",
    "import matplotlib.pyplot as plt"
   ]
  },
  {
   "cell_type": "code",
   "execution_count": null,
   "id": "668c98c4",
   "metadata": {},
   "outputs": [],
   "source": [
    "#| export\n",
    "\n",
    "def plot_object(\n",
    "        images: list[str], # list of images to be extracted\n",
    "        object: str, # object to detect\n",
    "        yolo: bool, # whether to use YOLO\n",
    "        gpt: bool, # whether to use GPT\n",
    "        path: str = \"object_count_bar_plot.png\" # path to save plot\n",
    "        ):\n",
    "  \"\"\"Generate (only when requested) a bar plot displaying the number of instances of a specified object detected in a list of images, accepting only objects in singular form.\"\"\"\n",
    "  work_dir = os.getenv(\"LLMCAM_DATA\", \"../data\")\n",
    "  path = os.path.join(work_dir, path)\n",
    "  count_yolo = []\n",
    "  count_gpt = []\n",
    "  if yolo:\n",
    "    for image in images:\n",
    "      image = image.split(\"/\")[-1]\n",
    "      info = json.loads(detect_objects(work_dir + \"/\" + image))\n",
    "      # print(info)\n",
    "      count_yolo.append(info.get(object, 0))\n",
    "  if gpt:\n",
    "    for image in images:\n",
    "      image = image.split(\"/\")[-1]\n",
    "      info = json.loads(ask_gpt4v_about_image_file(work_dir + \"/\" + image))\n",
    "      # print(info)\n",
    "      count_gpt.append(info.get(object, 0))\n",
    "  \n",
    "  if yolo and gpt:\n",
    "    fig, axs = plt.subplots(1, 2, figsize=(14, 6), sharey=True)\n",
    "        \n",
    "    # YOLO plot\n",
    "    axs[0].bar(images, count_yolo, color='skyblue')\n",
    "    axs[0].set_title(f'YOLO: Number of {object} Detected')\n",
    "    axs[0].set_xlabel(f'Number of {object}')\n",
    "    axs[0].set_ylabel('Image')\n",
    "    axs[0].set_xticks(range(len(images)))\n",
    "    axs[0].set_xticklabels([f\"Image {i+1}\" for i in range(len(images))], rotation=45)\n",
    "    axs[0].grid(axis='x', linestyle='--', alpha=0.7)\n",
    "    \n",
    "    # GPT plot\n",
    "    axs[1].bar(images, count_gpt, color='lightcoral')\n",
    "    axs[1].set_title(f'GPT: Number of {object} Detected')\n",
    "    axs[1].set_xlabel(f'Number of {object}')\n",
    "    axs[1].set_xticks(range(len(images)))\n",
    "    axs[1].set_xticklabels([f\"Image {i+1}\" for i in range(len(images))], rotation=45)\n",
    "    axs[1].grid(axis='x', linestyle='--', alpha=0.7)\n",
    "    \n",
    "    # Adjust layout\n",
    "    plt.tight_layout()\n",
    "    plt.savefig(path)\n",
    "    plt.close()\n",
    "\n",
    "  elif yolo or gpt:\n",
    "    count = count_gpt if gpt else count_yolo\n",
    "    plt.figure(figsize=(10, 6))\n",
    "    plt.bar(images, count, color='skyblue')\n",
    "    plt.title(f'Number of {object} Detected per Image')\n",
    "    plt.xlabel('Image')\n",
    "    plt.ylabel(f'Number of {object}')\n",
    "    plt.xticks(range(len(images)), [f\"Image {i+1}\" for i in range(len(images))], rotation=45)\n",
    "    plt.grid(axis='y', linestyle='--', alpha=0.7)\n",
    "    \n",
    "    plt.savefig(path)\n",
    "    plt.close()\n",
    "    \n",
    "  return json.dumps({\"path\": path})"
   ]
  },
  {
   "cell_type": "code",
   "execution_count": null,
   "id": "9637adb8",
   "metadata": {},
   "outputs": [
    {
     "data": {
      "text/plain": [
       "('assistant',\n",
       " 'The plot showing the number of cars that appeared in the images taken at Olympiaterminaali on 10.07.2024 during 13:00-14:00 has been created. You can find the plot at the path \"object_count_bar_plot.png\".')"
      ]
     },
     "execution_count": null,
     "metadata": {},
     "output_type": "execute_result"
    }
   ],
   "source": [
    "#| eval: false\n",
    "\n",
    "tools = [tool_schema(fn) for fn in [list_image_files, plot_object]]\n",
    "m = form_msgs([\n",
    "    (\"system\", \"You are a helpful assistant. Use the supplied tools to assist the user.\"),\n",
    "    (\"user\", \"Find the images at Olympiaterminaali on 10.07.2024 during 13:00-14:00.\"),\n",
    "    (\"user\", \"Plot the number of cars that appeared in these images and return the path to the plot.\")\n",
    "]) # Sometimes it runs, sometimes it doesn't. It is still the old error of no aux_fn\n",
    "complete(m, tools=tools)"
   ]
  },
  {
   "cell_type": "code",
   "execution_count": null,
   "id": "713d34d1",
   "metadata": {},
   "outputs": [
    {
     "name": "stdout",
     "output_type": "stream",
     "text": [
      "\u001b[1m\u001b[31m>> \u001b[43m\u001b[31mSystem:\u001b[0m\n",
      "You are a helpful assistant. Use the supplied tools to assist the user.\n",
      "\u001b[1m\u001b[31m>> \u001b[43m\u001b[32mUser:\u001b[0m\n",
      "Find the images at Olympiaterminaali on 10.07.2024 during 13:00-14:00.\n",
      "\u001b[1m\u001b[31m>> \u001b[43m\u001b[32mUser:\u001b[0m\n",
      "Plot the number of cars that appeared in these images and return the path to the plot.\n",
      "\u001b[1m\u001b[31m>> \u001b[43m\u001b[34mAssistant:\u001b[0m\n",
      "The plot showing the number of cars that appeared in the images taken at Olympiaterminaali on\n",
      "10.07.2024 during 13:00-14:00 has been created. You can find the plot at the path\n",
      "\"object_count_bar_plot.png\".\n"
     ]
    }
   ],
   "source": [
    "#| eval: false\n",
    "\n",
    "print_msgs(m)"
   ]
  },
  {
   "cell_type": "code",
   "execution_count": null,
   "id": "7d306f5a-f6ae-48e2-8165-07d37207c1da",
   "metadata": {},
   "outputs": [],
   "source": [
    "#| hide\n",
    "import nbdev; nbdev.nbdev_export()"
   ]
  }
 ],
 "metadata": {
  "kernelspec": {
   "display_name": "python3",
   "language": "python",
   "name": "python3"
  }
 },
 "nbformat": 4,
 "nbformat_minor": 5
}
