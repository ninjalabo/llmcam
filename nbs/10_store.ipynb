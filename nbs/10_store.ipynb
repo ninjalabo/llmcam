{
 "cells": [
  {
   "cell_type": "markdown",
   "metadata": {},
   "source": [
    "# Store\n",
    "\n",
    "> Module for constructing AppletStore."
   ]
  },
  {
   "cell_type": "code",
   "execution_count": null,
   "metadata": {},
   "outputs": [],
   "source": [
    "#| default_exp store"
   ]
  },
  {
   "cell_type": "code",
   "execution_count": null,
   "metadata": {},
   "outputs": [],
   "source": [
    "#| hide\n",
    "from nbdev.showdoc import *"
   ]
  },
  {
   "cell_type": "code",
   "execution_count": null,
   "metadata": {},
   "outputs": [],
   "source": [
    "#| export\n",
    "import requests\n",
    "import yaml\n",
    "import json\n",
    "import os\n",
    "\n",
    "from llmcam.oas_to_requests import toolbox_schema, generate_request\n",
    "from typing import Optional"
   ]
  },
  {
   "cell_type": "markdown",
   "metadata": {},
   "source": [
    "## Dynamic API installation"
   ]
  },
  {
   "cell_type": "code",
   "execution_count": null,
   "metadata": {},
   "outputs": [],
   "source": [
    "#| export\n",
    "def load_oas(\n",
    "    oas_url: str = \"https://tie.digitraffic.fi/swagger/openapi.json\",  # OpenAPI Specification URL\n",
    "    destination: str = \"api/road_digitraffic.json\",  # Destination file\n",
    "    overwrite: bool = False  # Overwrite existing file\n",
    ") -> dict:  # OpenAPI Specification\n",
    "    \"\"\"Load OpenAPI Specification from URL or file.\"\"\"\n",
    "    # Create destination directory if it does not exist\n",
    "    os.makedirs(os.path.dirname(destination), exist_ok=True)\n",
    "\n",
    "    # Download OpenAPI Specification if it does not exist or overwrite is True\n",
    "    if not os.path.exists(destination) or overwrite:\n",
    "        r = requests.get(oas_url)\n",
    "        with open(destination, \"w\") as f:\n",
    "            f.write(r.text)\n",
    "\n",
    "    # Load OpenAPI Specification\n",
    "    with open(destination, \"r\") as f:\n",
    "        if destination.endswith(\".json\"):\n",
    "            return json.load(f)\n",
    "        elif destination.endswith(\".yaml\") or destination.endswith(\".yml\"):\n",
    "            return yaml.load(f)\n",
    "        else:\n",
    "            raise ValueError(\"Invalid file format\")"
   ]
  },
  {
   "cell_type": "code",
   "execution_count": null,
   "metadata": {},
   "outputs": [
    {
     "data": {
      "text/markdown": [
       "---\n",
       "\n",
       "[source](https://github.com/ninjalabo/llmcam/blob/main/llmcam/store.py#L18){target=\"_blank\" style=\"float:right; font-size:smaller\"}\n",
       "\n",
       "### load_oas\n",
       "\n",
       ">      load_oas (oas_url:str='https://tie.digitraffic.fi/swagger/openapi.json',\n",
       ">                destination:str='api/road_digitraffic.json',\n",
       ">                overwrite:bool=False)\n",
       "\n",
       "*Load OpenAPI Specification from URL or file.*\n",
       "\n",
       "|    | **Type** | **Default** | **Details** |\n",
       "| -- | -------- | ----------- | ----------- |\n",
       "| oas_url | str | https://tie.digitraffic.fi/swagger/openapi.json | OpenAPI Specification URL |\n",
       "| destination | str | api/road_digitraffic.json | Destination file |\n",
       "| overwrite | bool | False | Overwrite existing file |\n",
       "| **Returns** | **dict** |  | **OpenAPI Specification** |"
      ],
      "text/plain": [
       "---\n",
       "\n",
       "[source](https://github.com/ninjalabo/llmcam/blob/main/llmcam/store.py#L18){target=\"_blank\" style=\"float:right; font-size:smaller\"}\n",
       "\n",
       "### load_oas\n",
       "\n",
       ">      load_oas (oas_url:str='https://tie.digitraffic.fi/swagger/openapi.json',\n",
       ">                destination:str='api/road_digitraffic.json',\n",
       ">                overwrite:bool=False)\n",
       "\n",
       "*Load OpenAPI Specification from URL or file.*\n",
       "\n",
       "|    | **Type** | **Default** | **Details** |\n",
       "| -- | -------- | ----------- | ----------- |\n",
       "| oas_url | str | https://tie.digitraffic.fi/swagger/openapi.json | OpenAPI Specification URL |\n",
       "| destination | str | api/road_digitraffic.json | Destination file |\n",
       "| overwrite | bool | False | Overwrite existing file |\n",
       "| **Returns** | **dict** |  | **OpenAPI Specification** |"
      ]
     },
     "execution_count": null,
     "metadata": {},
     "output_type": "execute_result"
    }
   ],
   "source": [
    "show_doc(load_oas)"
   ]
  },
  {
   "cell_type": "markdown",
   "metadata": {},
   "source": [
    "Usage to download three DigiTraffic endpoints"
   ]
  },
  {
   "cell_type": "code",
   "execution_count": null,
   "metadata": {},
   "outputs": [],
   "source": [
    "road_digitraffic = load_oas(\n",
    "    oas_url=\"https://tie.digitraffic.fi/swagger/openapi.json\",\n",
    "    destination=\"api/road_digitraffic.json\",\n",
    "    overwrite=False\n",
    ")\n",
    "train_digitraffic = load_oas(\n",
    "    oas_url=\"https://rata.digitraffic.fi/swagger/openapi.json\",\n",
    "    destination=\"api/train_digitraffic.json\",\n",
    "    overwrite=False\n",
    ")\n",
    "marine_digitraffic = load_oas(\n",
    "    oas_url=\"https://meri.digitraffic.fi/swagger/openapi.json\",\n",
    "    destination=\"api/marine_digitraffic.json\",\n",
    "    overwrite=False\n",
    ")"
   ]
  },
  {
   "cell_type": "markdown",
   "metadata": {},
   "source": [
    "Test functions with GPT:"
   ]
  },
  {
   "cell_type": "code",
   "execution_count": null,
   "metadata": {},
   "outputs": [],
   "source": [
    "from llmcam.fn_to_fc import complete, form_msg, form_msgs, print_msgs\n",
    "from llmcam.oas_to_requests import generate_request"
   ]
  },
  {
   "cell_type": "code",
   "execution_count": null,
   "metadata": {},
   "outputs": [
    {
     "name": "stdout",
     "output_type": "stream",
     "text": [
      "\u001b[1m\u001b[31m>> \u001b[43m\u001b[31mSystem:\u001b[0m\n",
      "You are a helpful system administrator. Use the supplied tools to help the user.\n",
      "\u001b[1m\u001b[31m>> \u001b[43m\u001b[32mUser:\u001b[0m\n",
      "Get me information about the trains departing on 2017-11-09 with train number 1.\n",
      "\u001b[1m\u001b[31m>> \u001b[43m\u001b[34mAssistant:\u001b[0m\n",
      "Here is the information about train number 1 on the departure date 2017-11-09:  - **Operator**: VR -\n",
      "**Train Type**: InterCity (IC) - **Train Category**: Long-distance - **Running Currently**: No -\n",
      "**Cancelled**: No - **Timetable Type**: Regular - **Timetable Acceptance Date**: 2017-07-21\n",
      "**Selected Stops**: - **Helsinki (HKI)**: Departure at 05:30, 3 minutes late. - **Pasila (PSL)**:\n",
      "Arrival at 05:35, 2 minutes late; Departure at 05:37, 3 minutes late. - **Tikkurila (TKL)**: Arrival\n",
      "at 05:45, 2 minutes late; Departure at 05:47, 3 minutes late. - **Lahdessa (LH)**: Arrival at 06:22,\n",
      "7 minutes late; Departure at 06:24, 6 minutes late. - **Lahti (LR)**: Arrival at 07:30, 5 minutes\n",
      "late; Departure at 07:31, 5 minutes late. - **Joensuu (JNS)**: Final Arrival at 09:52, 8 minutes\n",
      "late.  The train had multiple stops along the route, with minor delays ranging from 2 to 8 minutes.\n",
      "The train was not cancelled and followed the regular timetable.\n"
     ]
    }
   ],
   "source": [
    "#| eval: false\n",
    "messages = form_msgs([\n",
    "    (\"system\", \"You are a helpful system administrator. Use the supplied tools to help the user.\"),\n",
    "    (\"user\", \"Get me information about the trains departing on 2017-11-09 with train number 1.\"),\n",
    "])\n",
    "complete(messages, toolbox_schema(\"https://rata.digitraffic.fi\", train_digitraffic, fixup=generate_request))\n",
    "print_msgs(messages)"
   ]
  },
  {
   "cell_type": "code",
   "execution_count": null,
   "metadata": {},
   "outputs": [
    {
     "name": "stdout",
     "output_type": "stream",
     "text": [
      "\u001b[1m\u001b[31m>> \u001b[43m\u001b[31mSystem:\u001b[0m\n",
      "You are a helpful system administrator. Use the supplied tools to help the user.\n",
      "\u001b[1m\u001b[31m>> \u001b[43m\u001b[32mUser:\u001b[0m\n",
      "Get me information about the trains departing on 2017-11-09 with train number 1.\n",
      "\u001b[1m\u001b[31m>> \u001b[43m\u001b[34mAssistant:\u001b[0m\n",
      "Here is the information for Train Number 1 that departed on 2017-11-09:  - **Operator:** Finnish\n",
      "Railways (VR) - **Train Type:** InterCity (IC) - **Train Category:** Long-distance - **Running\n",
      "Currently:** No - **Cancelled:** No  ### Timetable Summary:  1. **Helsinki (HKI)**    -\n",
      "**Departure:** Scheduled at 05:28, Actual 05:30:33 (Difference: 3 mins)  2. **Pasila (PSL)**    -\n",
      "**Arrival:** Scheduled at 05:33, Actual 05:35:26 (Difference: 2 mins)    - **Departure:** Scheduled\n",
      "at 05:34, Actual 05:37:13 (Difference: 3 mins)  3. **Tikkurila (TKL)**    - **Arrival:** Scheduled\n",
      "at 05:43, Actual 05:45:29 (Difference: 2 mins)    - **Departure:** Scheduled at 05:44, Actual\n",
      "05:47:20 (Difference: 3 mins)  4. **Lahti (LH)**    - **Arrival:** Scheduled at 06:16, Actual\n",
      "06:22:39 (Difference: 7 mins)    - **Departure:** Scheduled at 06:18, Actual 06:24:16 (Difference: 6\n",
      "mins)  5. **Kouvola (KV)**    - **Arrival:** Scheduled at 06:45, Actual 06:51:25 (Difference: 6\n",
      "mins)    - **Departure:** Scheduled at 06:47, Actual 06:53:37 (Difference: 7 mins)  6. **Imatra\n",
      "(IMR)**    - **Arrival:** Scheduled at 07:51, Actual 07:58:50 (Difference: 8 mins)    -\n",
      "**Departure:** Scheduled at 07:53, Actual 08:01:26 (Difference: 8 mins)  7. **Joensuu (JNS)**    -\n",
      "**Arrival:** Scheduled at 09:45, Actual 09:52:33 (Difference: 8 mins)  **Overall, the train\n",
      "experienced minor delays at several stops, ranging from 2 to 8 minutes.**\n"
     ]
    }
   ],
   "source": [
    "#| eval: false\n",
    "messages = form_msgs([\n",
    "    (\"system\", \"You are a helpful system administrator. Use the supplied tools to help the user.\"),\n",
    "    (\"user\", \"Get me information about the trains departing on 2017-11-09 with train number 1.\")\n",
    "])\n",
    "complete(messages, toolbox_schema(\"https://rata.digitraffic.fi\", train_digitraffic, fixup=generate_request))\n",
    "print_msgs(messages)"
   ]
  },
  {
   "cell_type": "code",
   "execution_count": null,
   "metadata": {},
   "outputs": [
    {
     "name": "stdout",
     "output_type": "stream",
     "text": [
      "\u001b[1m\u001b[31m>> \u001b[43m\u001b[31mSystem:\u001b[0m\n",
      "You are a helpful system administrator. Use the supplied tools to help the user.\n",
      "\u001b[1m\u001b[31m>> \u001b[43m\u001b[32mUser:\u001b[0m\n",
      "Are there any active nautical warnings?\n",
      "\u001b[1m\u001b[31m>> \u001b[43m\u001b[34mAssistant:\u001b[0m\n",
      "Yes, there are several active nautical warnings. Here are a few examples:  1. **Gulf of Finland**\n",
      "- **Type:** Local Warning    - **Content:** Leading light Skarvörarna Front (NR 11407) in position\n",
      "59-58.85N 024-08.33E is out of order.    - **Location:** Inkoo Fairway  2. **Sea of Bothnia**    -\n",
      "**Type:** Coastal Warning    - **Content:** Kaskinen approaches have 30 cubic meters of timber\n",
      "drifting in position 62-09N 021-02E.    - **Date and Time:** 162217 UTC of November  3.\n",
      "**Archipelago Sea**    - **Type:** Navigational Warnings for Yachtsmen    - **Content:** The fairway\n",
      "is closed for traffic due to bridge construction from 20.11.2024 to 30.4.2025.    - **Location:**\n",
      "Hessund Fairway  4. **Northern Baltic**    - **Type:** Coastal Warning    - **Content:** Military\n",
      "exercise \"Freezing Winds\" ongoing. Vessels should navigate with caution.    - **Duration:**\n",
      "15.11-29.11.2024  These warnings highlight specific navigational hazards and advisories for mariners\n",
      "in various regions. If you need more detailed information about any specific warning, feel free to\n",
      "ask!\n"
     ]
    }
   ],
   "source": [
    "#| eval: false\n",
    "messages = form_msgs([\n",
    "    (\"system\", \"You are a helpful system administrator. Use the supplied tools to help the user.\"),\n",
    "    (\"user\", \"Are there any active nautical warnings?\")\n",
    "])\n",
    "complete(messages, toolbox_schema(\"https://meri.digitraffic.fi\", marine_digitraffic, fixup=generate_request))\n",
    "print_msgs(messages)"
   ]
  },
  {
   "cell_type": "code",
   "execution_count": null,
   "metadata": {},
   "outputs": [],
   "source": [
    "#| export\n",
    "def add_api_tools(\n",
    "    tools: list,  # List of existing tools\n",
    "    service_name: str,  # Name of the API service\n",
    "    base_url: str,  # Base URL of the API service\n",
    "    oas_url: Optional[str] = None,  # OpenAPI Specification URL\n",
    "    oas_destination: Optional[str] = None # OpenAPI Specification destination file\n",
    "):\n",
    "    \"\"\"Add API tools to the toolbox.\"\"\"\n",
    "    # Load OpenAPI Specification\n",
    "    if oas_url is None:\n",
    "        oas_url = f\"{base_url}/swagger/openapi.json\"\n",
    "    if oas_destination is None:\n",
    "        oas_destination = f\"api/{service_name}.json\"\n",
    "    oas = load_oas(oas_url, oas_destination, overwrite=True)\n",
    "\n",
    "    # Create tool schema and append to toolbox\n",
    "    schema = toolbox_schema(base_url, oas, service_name=service_name, fixup=generate_request)\n",
    "    tools.extend(schema)"
   ]
  },
  {
   "cell_type": "code",
   "execution_count": null,
   "metadata": {},
   "outputs": [
    {
     "data": {
      "text/markdown": [
       "---\n",
       "\n",
       "[source](https://github.com/ninjalabo/llmcam/blob/main/llmcam/store.py#L43){target=\"_blank\" style=\"float:right; font-size:smaller\"}\n",
       "\n",
       "### add_api_tools\n",
       "\n",
       ">      add_api_tools (tools:list, service_name:str, base_url:str,\n",
       ">                     oas_url:Optional[str]=None,\n",
       ">                     oas_destination:Optional[str]=None)\n",
       "\n",
       "*Add API tools to the toolbox.*\n",
       "\n",
       "|    | **Type** | **Default** | **Details** |\n",
       "| -- | -------- | ----------- | ----------- |\n",
       "| tools | list |  | List of existing tools |\n",
       "| service_name | str |  | Name of the API service |\n",
       "| base_url | str |  | Base URL of the API service |\n",
       "| oas_url | Optional | None | OpenAPI Specification URL |\n",
       "| oas_destination | Optional | None | OpenAPI Specification destination file |"
      ],
      "text/plain": [
       "---\n",
       "\n",
       "[source](https://github.com/ninjalabo/llmcam/blob/main/llmcam/store.py#L43){target=\"_blank\" style=\"float:right; font-size:smaller\"}\n",
       "\n",
       "### add_api_tools\n",
       "\n",
       ">      add_api_tools (tools:list, service_name:str, base_url:str,\n",
       ">                     oas_url:Optional[str]=None,\n",
       ">                     oas_destination:Optional[str]=None)\n",
       "\n",
       "*Add API tools to the toolbox.*\n",
       "\n",
       "|    | **Type** | **Default** | **Details** |\n",
       "| -- | -------- | ----------- | ----------- |\n",
       "| tools | list |  | List of existing tools |\n",
       "| service_name | str |  | Name of the API service |\n",
       "| base_url | str |  | Base URL of the API service |\n",
       "| oas_url | Optional | None | OpenAPI Specification URL |\n",
       "| oas_destination | Optional | None | OpenAPI Specification destination file |"
      ]
     },
     "execution_count": null,
     "metadata": {},
     "output_type": "execute_result"
    }
   ],
   "source": [
    "show_doc(add_api_tools)"
   ]
  },
  {
   "cell_type": "markdown",
   "metadata": {},
   "source": [
    "Example usage:"
   ]
  },
  {
   "cell_type": "code",
   "execution_count": null,
   "metadata": {},
   "outputs": [
    {
     "data": {
      "text/plain": [
       "{'type': 'function',\n",
       " 'function': {'name': 'tmsStationsDatex2Xml',\n",
       "  'description': 'The static information of TMS stations in Datex2 format (Traffic Measurement System / LAM)',\n",
       "  'parameters': {'type': 'object',\n",
       "   'properties': {'query': {'type': 'object',\n",
       "     'properties': {'state': {'type': 'string',\n",
       "       'description': 'Road station state',\n",
       "       'default': 'ACTIVE',\n",
       "       'enum': ['ALL', 'REMOVED', 'ACTIVE']}},\n",
       "     'required': []}},\n",
       "   'required': []},\n",
       "  'metadata': {'url': 'https://tie.digitraffic.fi/api/beta/tms-stations-datex2.xml',\n",
       "   'method': 'get',\n",
       "   'accepted_queries': ['state'],\n",
       "   'service': 'road_digitraffic'},\n",
       "  'fixup': 'llmcam.oas_to_requests.generate_request'}}"
      ]
     },
     "execution_count": null,
     "metadata": {},
     "output_type": "execute_result"
    }
   ],
   "source": [
    "tools = []\n",
    "add_api_tools(tools, \"road_digitraffic\", \"https://tie.digitraffic.fi\")\n",
    "assert len(tools) > 0\n",
    "tools[0]"
   ]
  },
  {
   "cell_type": "code",
   "execution_count": null,
   "metadata": {},
   "outputs": [
    {
     "name": "stdout",
     "output_type": "stream",
     "text": [
      "\u001b[1m\u001b[31m>> \u001b[43m\u001b[31mSystem:\u001b[0m\n",
      "You are a helpful system administrator. Use the supplied tools to help the user.\n",
      "\u001b[1m\u001b[31m>> \u001b[43m\u001b[32mUser:\u001b[0m\n",
      "Get the weather camera information for the stations with ID C01503 and C01504.\n",
      "\u001b[1m\u001b[31m>> \u001b[43m\u001b[34mAssistant:\u001b[0m\n",
      "Here is the information for the weather camera stations with IDs C01503 and C01504:  ### Weather\n",
      "Camera Station C01503 - **Name:** kt51_Inkoo - **Camera Type:** BOSCH - **Coordinates:** Longitude\n",
      "23.99616, Latitude 60.05374 - **Nearest Weather Station ID:** 1013 - **Collection Status:**\n",
      "GATHERING - **Data Updated Time:** 2024-11-19T15:25:43Z - **Collection Interval:** 600 seconds -\n",
      "**Location Details:**    - **Municipality:** Inkoo (Municipality Code: 149)   - **Province:**\n",
      "Uusimaa (Province Code: 1)   - **Road Number:** 51   - **Municipality:** Inkoo  **Presets:** 1.\n",
      "**Inkooseen**    - **Direction:** INCREASING_DIRECTION    - **Resolution:** 1280x720    - **Image\n",
      "URL:** [Inkooseen Image](https://weathercam.digitraffic.fi/C0150301.jpg) 2. **Hankoon**    -\n",
      "**Direction:** DECREASING_DIRECTION    - **Resolution:** 1280x720    - **Image URL:** [Hankoon\n",
      "Image](https://weathercam.digitraffic.fi/C0150302.jpg) 3. **Tienpinta**    - **Direction:**\n",
      "SPECIAL_DIRECTION    - **Resolution:** 1280x720    - **Image URL:** [Tienpinta\n",
      "Image](https://weathercam.digitraffic.fi/C0150309.jpg)  ### Weather Camera Station C01504 -\n",
      "**Name:** vt2_Karkkila_Korpi - **Camera Type:** HIKVISION - **Coordinates:** Longitude 24.235601,\n",
      "Latitude 60.536727 - **Nearest Weather Station ID:** 1052 - **Collection Status:** GATHERING -\n",
      "**Data Updated Time:** 2024-11-19T15:27:05Z - **Collection Interval:** 600 seconds - **Location\n",
      "Details:**    - **Municipality:** Karkkila (Municipality Code: 224)   - **Province:** Uusimaa\n",
      "(Province Code: 1)   - **Road Number:** 2  **Presets:** 1. **Poriin**    - **Direction:**\n",
      "INCREASING_DIRECTION    - **Resolution:** 1280x720    - **Image URL:** [Poriin\n",
      "Image](https://weathercam.digitraffic.fi/C0150401.jpg) 2. **Helsinkiin**    - **Direction:**\n",
      "DECREASING_DIRECTION    - **Resolution:** 1280x720    - **Image URL:** [Helsinkiin\n",
      "Image](https://weathercam.digitraffic.fi/C0150402.jpg) 3. **Tienpinta**    - **Direction:**\n",
      "SPECIAL_DIRECTION    - **Resolution:** 1280x720    - **Image URL:** [Tienpinta\n",
      "Image](https://weathercam.digitraffic.fi/C0150409.jpg)\n"
     ]
    }
   ],
   "source": [
    "#| eval: false\n",
    "messages = form_msgs([\n",
    "    (\"system\", \"You are a helpful system administrator. Use the supplied tools to help the user.\"),\n",
    "    (\"user\", \"Get the weather camera information for the stations with ID C01503 and C01504.\"),\n",
    "])\n",
    "complete(messages, tools=tools)\n",
    "print_msgs(messages)"
   ]
  },
  {
   "cell_type": "markdown",
   "metadata": {},
   "source": [
    "## Dynamic functions from installed libraries"
   ]
  },
  {
   "cell_type": "markdown",
   "metadata": {},
   "source": [
    "It is possible to dynamically import a function in installed library and execute it with `importlib`."
   ]
  },
  {
   "cell_type": "code",
   "execution_count": null,
   "metadata": {},
   "outputs": [],
   "source": [
    "#| export\n",
    "from importlib import import_module\n",
    "from typing import Callable, Any\n",
    "from llmcam.fn_to_fc import tool_schema"
   ]
  },
  {
   "cell_type": "markdown",
   "metadata": {},
   "source": [
    "Utility to add functions from installed libraries to ToolBox."
   ]
  },
  {
   "cell_type": "code",
   "execution_count": null,
   "metadata": {},
   "outputs": [],
   "source": [
    "#| export\n",
    "def add_function_tools(\n",
    "    tools: list,  # List of existing tools\n",
    "    service_name: str,  # Name of the service\n",
    "    function_names: list[str],  # List of function names (with module prefix)\n",
    "):\n",
    "    \"\"\"Add function tools to the toolbox.\"\"\"\n",
    "    # Import functions\n",
    "    for function_name in function_names:\n",
    "        # Get module prefix\n",
    "        module_prefix = function_name.split(\".\")\n",
    "        if len(module_prefix) == 1:\n",
    "            module_prefix = \"builtins\"\n",
    "        else:\n",
    "            module_prefix = \".\".join(module_prefix[:-1])\n",
    "\n",
    "        # Get function name without module prefix\n",
    "        func_name = function_name.split(\".\")[-1]\n",
    "\n",
    "        # Import function\n",
    "        if module_prefix == \"builtins\":\n",
    "            func: Callable = getattr(__builtins__, func_name, None)\n",
    "        else:\n",
    "            func: Callable = getattr(import_module(module_prefix), func_name, None)\n",
    "\n",
    "        # Raise error if function not found\n",
    "        if func is None:\n",
    "            raise ValueError(f\"Function not found: {function_name}\")\n",
    "        \n",
    "        # Create tool schema and append to toolbox\n",
    "        tools.append(tool_schema(func=func, service_name=service_name))"
   ]
  },
  {
   "cell_type": "code",
   "execution_count": null,
   "metadata": {},
   "outputs": [
    {
     "data": {
      "text/markdown": [
       "---\n",
       "\n",
       "[source](https://github.com/ninjalabo/llmcam/blob/main/llmcam/store.py#L68){target=\"_blank\" style=\"float:right; font-size:smaller\"}\n",
       "\n",
       "### add_function_tools\n",
       "\n",
       ">      add_function_tools (tools:list, service_name:str,\n",
       ">                          function_names:list[str])\n",
       "\n",
       "*Add function tools to the toolbox.*\n",
       "\n",
       "|    | **Type** | **Details** |\n",
       "| -- | -------- | ----------- |\n",
       "| tools | list | List of existing tools |\n",
       "| service_name | str | Name of the service |\n",
       "| function_names | list | List of function names (with module prefix) |"
      ],
      "text/plain": [
       "---\n",
       "\n",
       "[source](https://github.com/ninjalabo/llmcam/blob/main/llmcam/store.py#L68){target=\"_blank\" style=\"float:right; font-size:smaller\"}\n",
       "\n",
       "### add_function_tools\n",
       "\n",
       ">      add_function_tools (tools:list, service_name:str,\n",
       ">                          function_names:list[str])\n",
       "\n",
       "*Add function tools to the toolbox.*\n",
       "\n",
       "|    | **Type** | **Details** |\n",
       "| -- | -------- | ----------- |\n",
       "| tools | list | List of existing tools |\n",
       "| service_name | str | Name of the service |\n",
       "| function_names | list | List of function names (with module prefix) |"
      ]
     },
     "execution_count": null,
     "metadata": {},
     "output_type": "execute_result"
    }
   ],
   "source": [
    "show_doc(add_function_tools)"
   ]
  },
  {
   "cell_type": "markdown",
   "metadata": {},
   "source": [
    "Example usage:"
   ]
  },
  {
   "cell_type": "code",
   "execution_count": null,
   "metadata": {},
   "outputs": [
    {
     "data": {
      "text/plain": [
       "[{'type': 'function',\n",
       "  'function': {'name': 'capture_youtube_live_frame_and_save',\n",
       "   'description': 'Capture a jpeg file from YouTube Live and save in data directory',\n",
       "   'parameters': {'type': 'object',\n",
       "    'properties': {'link': {'anyOf': [{'type': 'string',\n",
       "        'description': 'YouTube Live link'},\n",
       "       {'type': 'null',\n",
       "        'description': 'A default value will be automatically used.'}]},\n",
       "     'place': {'anyOf': [{'type': 'string',\n",
       "        'description': 'Location of live image'},\n",
       "       {'type': 'null',\n",
       "        'description': 'A default value will be automatically used.'}]}},\n",
       "    'required': []},\n",
       "   'metadata': {'module': 'llmcam.fn_to_fc', 'service': 'youtube_live'}}},\n",
       " {'type': 'function',\n",
       "  'function': {'name': 'ask_gpt4v_about_image_file',\n",
       "   'description': 'Tell all about quantitative information from a given image file',\n",
       "   'parameters': {'type': 'object',\n",
       "    'properties': {'path': {'type': 'string',\n",
       "      'description': 'Path to the image file'}},\n",
       "    'required': ['path']},\n",
       "   'metadata': {'module': 'llmcam.fn_to_fc', 'service': 'youtube_live'}}}]"
      ]
     },
     "execution_count": null,
     "metadata": {},
     "output_type": "execute_result"
    }
   ],
   "source": [
    "tools = []\n",
    "add_function_tools(\n",
    "    tools, \n",
    "    \"youtube_live\", \n",
    "    [\n",
    "        \"llmcam.fn_to_fc.capture_youtube_live_frame_and_save\", \n",
    "        \"llmcam.fn_to_fc.ask_gpt4v_about_image_file\"\n",
    "    ])\n",
    "assert len(tools) == 2\n",
    "tools"
   ]
  },
  {
   "cell_type": "code",
   "execution_count": null,
   "metadata": {},
   "outputs": [
    {
     "name": "stdout",
     "output_type": "stream",
     "text": [
      "[youtube] Extracting URL: https://www.youtube.com/watch?v=LMZQ7eFhm58\n",
      "[youtube] LMZQ7eFhm58: Downloading webpage\n",
      "[youtube] LMZQ7eFhm58: Downloading ios player API JSON\n",
      "[youtube] LMZQ7eFhm58: Downloading mweb player API JSON\n",
      "[youtube] LMZQ7eFhm58: Downloading m3u8 information\n",
      "[youtube] LMZQ7eFhm58: Downloading m3u8 information\n",
      "cap_2024.11.20_03:56:10_unclear.jpg\n",
      "\u001b[1m\u001b[31m>> \u001b[43m\u001b[31mSystem:\u001b[0m\n",
      "You are a helpful system administrator. Use the supplied tools to assist the user.\n",
      "\u001b[1m\u001b[31m>> \u001b[43m\u001b[32mUser:\u001b[0m\n",
      "Hi, can you capture and extract information from a YouTube Live? Use the default link.\n",
      "\u001b[1m\u001b[31m>> \u001b[43m\u001b[34mAssistant:\u001b[0m\n",
      "I've captured an image from the default YouTube Live link and extracted the following information:\n",
      "- **Timestamp:** 2024-11-20T03:48:23 - **Location:** Valkosaari - **Image Dimensions:** 1280 x 720\n",
      "pixels - **Buildings:** There's 1 building with a height range of 2-3 stories. - **Vehicles:** No\n",
      "vehicles are visible. - **Water Bodies:** A harbor is visible, with 1 boat present. - **Street\n",
      "Lights:** There are 3 street lights. - **People:** No people are visible. - **Lighting Conditions:**\n",
      "It's night time with dim artificial lighting. - **Visibility:** The visibility is not clear. - **Sky\n",
      "Conditions:** The sky is not visible, consistent with night time.  If you need any further\n",
      "assistance or details, feel free to ask!\n"
     ]
    }
   ],
   "source": [
    "#| eval: false\n",
    "messages = form_msgs([\n",
    "    (\"system\", \"You are a helpful system administrator. Use the supplied tools to assist the user.\"),\n",
    "    (\"user\", \"Hi, can you capture and extract information from a YouTube Live? Use the default link.\")\n",
    "])\n",
    "complete(messages, tools=tools)\n",
    "print_msgs(messages)"
   ]
  },
  {
   "cell_type": "markdown",
   "metadata": {},
   "source": [
    "## ToolBox management as FC\n",
    "\n",
    "While the base functions for adding functions and APIs as tools work for appending new functions to an existing Python list, these functions cannot be easily transformed into tools to be used for function calling because:\n",
    "\n",
    "- Changes must be made into the top-level `tools` and continue to be applied in all subsequent conversations.\n",
    "- `tools` cannot be safely interpreted as a part of message as in some cases new tool changes may exceed token limit.\n",
    "\n",
    "One solution to this is:\n",
    "\n",
    "1. For each `tools` list, create corresponding handlers which manages this `tools` instance.\n",
    "2. These handlers are registered into a `holder` dictionary that can be accessed globally by a unique session ID for each user session.\n",
    "3. `holder_name` and `session_id` are saved as metadata for the handler functions.\n",
    "4. A special fix-up function is used for handlers which accesses and executes the handlers when called via `holder_name` (accessed globally) and `session_id`."
   ]
  },
  {
   "cell_type": "code",
   "execution_count": null,
   "metadata": {},
   "outputs": [],
   "source": [
    "#| export\n",
    "\n",
    "# Additional functions\n",
    "def remove_tools(\n",
    "    tools: list,  # List of existing tools\n",
    "    service_name: str  # Name of the service\n",
    "):\n",
    "    \"\"\"Remove tools from the toolbox.\"\"\"\n",
    "    tools[:] = [tool for tool in tools if (\"service\" not in tool[\"function\"][\"metadata\"] or \\\n",
    "                                       tool[\"function\"][\"metadata\"][\"service\"] != service_name)]"
   ]
  },
  {
   "cell_type": "code",
   "execution_count": null,
   "metadata": {},
   "outputs": [],
   "source": [
    "#| export\n",
    "import uuid\n",
    "import importlib\n",
    "from copy import deepcopy"
   ]
  },
  {
   "cell_type": "code",
   "execution_count": null,
   "metadata": {},
   "outputs": [],
   "source": [
    "#| export\n",
    "def execute_handler(\n",
    "    function_name: str,  # Name of the function to execute\n",
    "    module: str,  # Module of the function\n",
    "    session_id: str,  # Session ID\n",
    "    toolboxes_name: str = \"session_tools\",  # Name of the holder for toolboxes per session in globals spacce\n",
    "    **kwargs  # Keyword arguments\n",
    "):\n",
    "    \"\"\"Execute the handler function by retrieving function with session .\"\"\"\n",
    "    # Get the holder\n",
    "    holder = globals().get(toolboxes_name, None)\n",
    "    if holder is None:\n",
    "        raise ValueError(f\"Holder not found: {toolboxes_name}\")\n",
    "\n",
    "    # Get the toolbox for the session\n",
    "    tools = holder.get(session_id, None)\n",
    "    if tools is None:\n",
    "        raise ValueError(f\"Session tools not found: {session_id}\")\n",
    "    \n",
    "    # Get the function\n",
    "    module = importlib.import_module(module)\n",
    "    function = getattr(module, function_name, None)\n",
    "    if function is None:\n",
    "        raise ValueError(f\"Function not found: {function_name}\")\n",
    "    \n",
    "    if \"service\" in kwargs:\n",
    "        del kwargs[\"service\"]\n",
    "    \n",
    "    # Execute the function\n",
    "    function(tools, **kwargs)"
   ]
  },
  {
   "cell_type": "code",
   "execution_count": null,
   "metadata": {},
   "outputs": [],
   "source": [
    "#| export\n",
    "def handler_schema(\n",
    "    function: Callable,  # Handler function\n",
    "    session_id: str,  # Session ID\n",
    "    toolboxes_name: str = \"session_tools\",  # Name of the holder for toolboxes per session in globals spacce\n",
    "    service_name: str = \"toolbox_handler\",  # Name of the service\n",
    "    fixup: Optional[Callable] = None  # Function to fixup function execution\n",
    "):\n",
    "    \"\"\"Create a schema for handlers.\"\"\"\n",
    "    schema = tool_schema(function, )\n",
    "    schema[\"function\"][\"metadata\"][\"session_id\"] = session_id\n",
    "    schema[\"function\"][\"metadata\"][\"toolboxes_name\"] = toolboxes_name\n",
    "    schema[\"function\"][\"metadata\"][\"service\"] = service_name\n",
    "    if fixup: schema[\"function\"]['fixup'] = f\"{fixup.__module__}.{fixup.__name__}\"\n",
    "\n",
    "    if \"tools\" in schema[\"function\"][\"parameters\"][\"properties\"]:\n",
    "        del schema[\"function\"][\"parameters\"][\"properties\"][\"tools\"]\n",
    "        schema[\"function\"][\"parameters\"][\"required\"].remove(\"tools\")\n",
    "    \n",
    "    return schema"
   ]
  },
  {
   "cell_type": "code",
   "execution_count": null,
   "metadata": {},
   "outputs": [],
   "source": [
    "#| export\n",
    "def initialize_handlers(\n",
    "        functions: list[Callable],  # List of functions to initialize\n",
    "        toolboxes_name: str = \"session_tools\",  # Name of the holder for toolboxes per session in globals spacce\n",
    "        service_name: str = \"toolbox_handler\",  # Name of the service\n",
    "        fixup: Optional[Callable] = None,  # Function to fixup function execution\n",
    "    ):\n",
    "    \"\"\"Initialize handlers\"\"\"\n",
    "    # Create the holder for toolboxes per session in globals space\n",
    "    session_tools = globals().get(toolboxes_name, None)\n",
    "    if session_tools is None:\n",
    "        session_tools = {}\n",
    "        globals()[toolboxes_name] = session_tools\n",
    "\n",
    "    # Initialize the handler schema\n",
    "    session_id = str(uuid.uuid4())\n",
    "    tools = [ handler_schema(function, session_id, toolboxes_name, service_name, fixup) for function in functions ]\n",
    "\n",
    "    # Add the tools to the holder\n",
    "    session_tools[session_id] = tools\n",
    "\n",
    "    return session_id, tools"
   ]
  },
  {
   "cell_type": "markdown",
   "metadata": {},
   "source": [
    "Example usage:"
   ]
  },
  {
   "cell_type": "code",
   "execution_count": null,
   "metadata": {},
   "outputs": [
    {
     "data": {
      "text/plain": [
       "{'type': 'function',\n",
       " 'function': {'name': 'add_api_tools',\n",
       "  'description': 'Add API tools to the toolbox.',\n",
       "  'parameters': {'type': 'object',\n",
       "   'properties': {'service_name': {'type': 'string',\n",
       "     'description': 'Name of the API service'},\n",
       "    'base_url': {'type': 'string',\n",
       "     'description': 'Base URL of the API service'},\n",
       "    'oas_url': {'anyOf': [{'type': 'string',\n",
       "       'description': 'OpenAPI Specification URL'},\n",
       "      {'type': 'null',\n",
       "       'description': 'A default value will be automatically used.'}]},\n",
       "    'oas_destination': {'anyOf': [{'type': 'string',\n",
       "       'description': 'OpenAPI Specification destination file'},\n",
       "      {'type': 'null',\n",
       "       'description': 'A default value will be automatically used.'}]}},\n",
       "   'required': ['service_name', 'base_url']},\n",
       "  'metadata': {'module': '__main__',\n",
       "   'service': 'toolbox_handler',\n",
       "   'session_id': '370d2426-bfcc-4495-8f8b-e38283c9b209',\n",
       "   'toolboxes_name': 'session_tools'},\n",
       "  'fixup': '__main__.execute_handler'}}"
      ]
     },
     "execution_count": null,
     "metadata": {},
     "output_type": "execute_result"
    }
   ],
   "source": [
    "session_tools = {}\n",
    "session_id, tools = initialize_handlers(\n",
    "    [add_api_tools, add_function_tools, remove_tools], \n",
    "    toolboxes_name=\"session_tools\",\n",
    "    service_name=\"toolbox_handler\",\n",
    "    fixup=execute_handler\n",
    ")\n",
    "assert len(session_tools) == 1\n",
    "assert len(session_tools[session_id]) == 3\n",
    "\n",
    "session_tools[session_id][0]"
   ]
  },
  {
   "cell_type": "code",
   "execution_count": null,
   "metadata": {},
   "outputs": [
    {
     "data": {
      "text/plain": [
       "{'type': 'function',\n",
       " 'function': {'name': 'tmsStationsDatex2Json',\n",
       "  'description': 'The static information of TMS stations in Datex2 format (Traffic Measurement System / LAM)',\n",
       "  'parameters': {'type': 'object',\n",
       "   'properties': {'query': {'type': 'object',\n",
       "     'properties': {'state': {'type': 'string',\n",
       "       'description': 'Road station state',\n",
       "       'default': 'ACTIVE',\n",
       "       'enum': ['ALL', 'REMOVED', 'ACTIVE']}},\n",
       "     'required': []}},\n",
       "   'required': []},\n",
       "  'metadata': {'url': 'https://tie.digitraffic.fi/api/beta/tms-stations-datex2.json',\n",
       "   'method': 'get',\n",
       "   'accepted_queries': ['state'],\n",
       "   'service': 'road_digitraffic'},\n",
       "  'fixup': 'llmcam.oas_to_requests.generate_request'}}"
      ]
     },
     "execution_count": null,
     "metadata": {},
     "output_type": "execute_result"
    }
   ],
   "source": [
    "execute_handler(\n",
    "    \"add_api_tools\",\n",
    "    \"__main__\",\n",
    "    session_id=session_id,\n",
    "    service_name=\"road_digitraffic\",\n",
    "    base_url=\"https://tie.digitraffic.fi\"\n",
    ")\n",
    "assert len(session_tools[session_id]) > 3\n",
    "session_tools[session_id][4]"
   ]
  },
  {
   "cell_type": "markdown",
   "metadata": {},
   "source": [
    "Simulated GPT workflow:"
   ]
  },
  {
   "cell_type": "code",
   "execution_count": null,
   "metadata": {},
   "outputs": [],
   "source": [
    "session_tools = {}\n",
    "session_id, tools = initialize_handlers(\n",
    "    [add_api_tools, add_function_tools, remove_tools], \n",
    "    toolboxes_name=\"session_tools\",\n",
    "    service_name=\"toolbox_handler\",\n",
    "    fixup=execute_handler\n",
    ")"
   ]
  },
  {
   "cell_type": "code",
   "execution_count": null,
   "metadata": {},
   "outputs": [
    {
     "name": "stdout",
     "output_type": "stream",
     "text": [
      "\u001b[1m\u001b[31m>> \u001b[43m\u001b[31mSystem:\u001b[0m\n",
      "You are a helpful system administrator. Use the supplied tools to assist the user.\n",
      "\u001b[1m\u001b[31m>> \u001b[43m\u001b[32mUser:\u001b[0m\n",
      "Add a new API service called 'road_digitraffic'. Use the base URL 'https://tie.digitraffic.fi', and\n",
      "the OpenAPI Specification URL 'https://tie.digitraffic.fi/swagger/openapi.json'.\n",
      "\u001b[1m\u001b[31m>> \u001b[43m\u001b[34mAssistant:\u001b[0m\n",
      "The new API service 'road_digitraffic' has been successfully added with the base URL\n",
      "'https://tie.digitraffic.fi' and the OpenAPI Specification URL\n",
      "'https://tie.digitraffic.fi/swagger/openapi.json'.\n"
     ]
    }
   ],
   "source": [
    "#| eval: false\n",
    "messages = form_msgs([\n",
    "    (\"system\", \"You are a helpful system administrator. Use the supplied tools to assist the user.\"),\n",
    "    (\"user\", \"Add a new API service called 'road_digitraffic'. Use the base URL 'https://tie.digitraffic.fi', and the OpenAPI Specification URL 'https://tie.digitraffic.fi/swagger/openapi.json'.\")\n",
    "])\n",
    "complete(messages, tools=tools)\n",
    "print_msgs(messages)"
   ]
  },
  {
   "cell_type": "code",
   "execution_count": null,
   "metadata": {},
   "outputs": [
    {
     "data": {
      "text/plain": [
       "64"
      ]
     },
     "execution_count": null,
     "metadata": {},
     "output_type": "execute_result"
    }
   ],
   "source": [
    "#| eval: false\n",
    "len(session_tools[session_id])"
   ]
  },
  {
   "cell_type": "code",
   "execution_count": null,
   "metadata": {},
   "outputs": [
    {
     "name": "stdout",
     "output_type": "stream",
     "text": [
      "\u001b[1m\u001b[31m>> \u001b[43m\u001b[31mSystem:\u001b[0m\n",
      "You are a helpful system administrator. Use the supplied tools to assist the user.\n",
      "\u001b[1m\u001b[31m>> \u001b[43m\u001b[32mUser:\u001b[0m\n",
      "Add a new API service called 'road_digitraffic'. Use the base URL 'https://tie.digitraffic.fi', and\n",
      "the OpenAPI Specification URL 'https://tie.digitraffic.fi/swagger/openapi.json'.\n",
      "\u001b[1m\u001b[31m>> \u001b[43m\u001b[34mAssistant:\u001b[0m\n",
      "The new API service 'road_digitraffic' has been successfully added with the base URL\n",
      "'https://tie.digitraffic.fi' and the OpenAPI Specification URL\n",
      "'https://tie.digitraffic.fi/swagger/openapi.json'.\n",
      "\u001b[1m\u001b[31m>> \u001b[43m\u001b[32mUser:\u001b[0m\n",
      "Get the weather camera information for the stations with ID C01503 and C01504.\n",
      "\u001b[1m\u001b[31m>> \u001b[43m\u001b[34mAssistant:\u001b[0m\n",
      "Here is the weather camera information for the stations with IDs C01503 and C01504:  ### Station\n",
      "C01503: kt51_Inkoo - **Camera Type:** BOSCH - **Location Coordinates:** [23.99616, 60.05374] -\n",
      "**Municipality:** Inkoo - **Province:** Uusimaa - **Collection Status:** Gathering - **Collection\n",
      "Interval:** 600 seconds (10 minutes) - **Presets:**   - **Inkooseen:**     - Resolution: 1280x720\n",
      "- Direction: Increasing     - [Image URL](https://weathercam.digitraffic.fi/C0150301.jpg)   -\n",
      "**Hankoon:**     - Resolution: 1280x720     - Direction: Decreasing     - [Image\n",
      "URL](https://weathercam.digitraffic.fi/C0150302.jpg)   - **Tienpinta:**     - Resolution: 1280x720\n",
      "- Direction: Special     - [Image URL](https://weathercam.digitraffic.fi/C0150309.jpg)  ---  ###\n",
      "Station C01504: vt2_Karkkila_Korpi - **Camera Type:** HIKVISION - **Location Coordinates:**\n",
      "[24.235601, 60.536727] - **Municipality:** Karkkila - **Province:** Uusimaa - **Collection Status:**\n",
      "Gathering - **Collection Interval:** 600 seconds (10 minutes) - **Presets:**   - **Poriin:**     -\n",
      "Resolution: 1280x720     - Direction: Increasing     - [Image\n",
      "URL](https://weathercam.digitraffic.fi/C0150401.jpg)   - **Helsinkiin:**     - Resolution: 1280x720\n",
      "- Direction: Decreasing     - [Image URL](https://weathercam.digitraffic.fi/C0150402.jpg)   -\n",
      "**Tienpinta:**     - Resolution: 1280x720     - Direction: Special     - [Image\n",
      "URL](https://weathercam.digitraffic.fi/C0150409.jpg)  If you need further information, feel free to\n",
      "ask!\n"
     ]
    }
   ],
   "source": [
    "#| eval: false\n",
    "messages.append(form_msg(\"user\", \"Get the weather camera information for the stations with ID C01503 and C01504.\"))\n",
    "complete(messages, tools=tools)\n",
    "print_msgs(messages)"
   ]
  },
  {
   "cell_type": "code",
   "execution_count": null,
   "metadata": {},
   "outputs": [
    {
     "name": "stdout",
     "output_type": "stream",
     "text": [
      "\u001b[1m\u001b[31m>> \u001b[43m\u001b[31mSystem:\u001b[0m\n",
      "You are a helpful system administrator. Use the supplied tools to assist the user.\n",
      "\u001b[1m\u001b[31m>> \u001b[43m\u001b[32mUser:\u001b[0m\n",
      "Add a new API service called 'road_digitraffic'. Use the base URL 'https://tie.digitraffic.fi', and\n",
      "the OpenAPI Specification URL 'https://tie.digitraffic.fi/swagger/openapi.json'.\n",
      "\u001b[1m\u001b[31m>> \u001b[43m\u001b[34mAssistant:\u001b[0m\n",
      "The new API service 'road_digitraffic' has been successfully added with the base URL\n",
      "'https://tie.digitraffic.fi' and the OpenAPI Specification URL\n",
      "'https://tie.digitraffic.fi/swagger/openapi.json'.\n",
      "\u001b[1m\u001b[31m>> \u001b[43m\u001b[32mUser:\u001b[0m\n",
      "Get the weather camera information for the stations with ID C01503 and C01504.\n",
      "\u001b[1m\u001b[31m>> \u001b[43m\u001b[34mAssistant:\u001b[0m\n",
      "Here is the weather camera information for the stations with IDs C01503 and C01504:  ### Station\n",
      "C01503: kt51_Inkoo - **Camera Type:** BOSCH - **Location Coordinates:** [23.99616, 60.05374] -\n",
      "**Municipality:** Inkoo - **Province:** Uusimaa - **Collection Status:** Gathering - **Collection\n",
      "Interval:** 600 seconds (10 minutes) - **Presets:**   - **Inkooseen:**     - Resolution: 1280x720\n",
      "- Direction: Increasing     - [Image URL](https://weathercam.digitraffic.fi/C0150301.jpg)   -\n",
      "**Hankoon:**     - Resolution: 1280x720     - Direction: Decreasing     - [Image\n",
      "URL](https://weathercam.digitraffic.fi/C0150302.jpg)   - **Tienpinta:**     - Resolution: 1280x720\n",
      "- Direction: Special     - [Image URL](https://weathercam.digitraffic.fi/C0150309.jpg)  ---  ###\n",
      "Station C01504: vt2_Karkkila_Korpi - **Camera Type:** HIKVISION - **Location Coordinates:**\n",
      "[24.235601, 60.536727] - **Municipality:** Karkkila - **Province:** Uusimaa - **Collection Status:**\n",
      "Gathering - **Collection Interval:** 600 seconds (10 minutes) - **Presets:**   - **Poriin:**     -\n",
      "Resolution: 1280x720     - Direction: Increasing     - [Image\n",
      "URL](https://weathercam.digitraffic.fi/C0150401.jpg)   - **Helsinkiin:**     - Resolution: 1280x720\n",
      "- Direction: Decreasing     - [Image URL](https://weathercam.digitraffic.fi/C0150402.jpg)   -\n",
      "**Tienpinta:**     - Resolution: 1280x720     - Direction: Special     - [Image\n",
      "URL](https://weathercam.digitraffic.fi/C0150409.jpg)  If you need further information, feel free to\n",
      "ask!\n",
      "\u001b[1m\u001b[31m>> \u001b[43m\u001b[32mUser:\u001b[0m\n",
      "Remove the 'road_digitraffic' service.\n",
      "\u001b[1m\u001b[31m>> \u001b[43m\u001b[34mAssistant:\u001b[0m\n",
      "The 'road_digitraffic' service has been successfully removed.\n"
     ]
    }
   ],
   "source": [
    "#| eval: false\n",
    "messages.append(form_msg(\"user\", \"Remove the 'road_digitraffic' service.\"))\n",
    "complete(messages, tools=tools)\n",
    "print_msgs(messages)"
   ]
  },
  {
   "cell_type": "code",
   "execution_count": null,
   "metadata": {},
   "outputs": [
    {
     "data": {
      "text/plain": [
       "3"
      ]
     },
     "execution_count": null,
     "metadata": {},
     "output_type": "execute_result"
    }
   ],
   "source": [
    "#| eval: false\n",
    "# After removing the 'road_digitraffic' service, the tools should only contain the initial handlers\n",
    "len(tools)"
   ]
  },
  {
   "cell_type": "code",
   "execution_count": null,
   "metadata": {},
   "outputs": [],
   "source": [
    "#| hide\n",
    "import nbdev; nbdev.nbdev_export()"
   ]
  }
 ],
 "metadata": {
  "kernelspec": {
   "display_name": "python3",
   "language": "python",
   "name": "python3"
  }
 },
 "nbformat": 4,
 "nbformat_minor": 4
}
