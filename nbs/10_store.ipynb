{
 "cells": [
  {
   "cell_type": "markdown",
   "metadata": {},
   "source": [
    "# Store\n",
    "\n",
    "> Module for constructing AppletStore."
   ]
  },
  {
   "cell_type": "code",
   "execution_count": null,
   "metadata": {},
   "outputs": [],
   "source": [
    "#| default_exp store"
   ]
  },
  {
   "cell_type": "code",
   "execution_count": null,
   "metadata": {},
   "outputs": [],
   "source": [
    "#| hide\n",
    "from nbdev.showdoc import *"
   ]
  },
  {
   "cell_type": "code",
   "execution_count": null,
   "metadata": {},
   "outputs": [],
   "source": [
    "#| export\n",
    "import requests\n",
    "import yaml\n",
    "import json\n",
    "import os\n",
    "\n",
    "from llmcam.oas_to_requests import toolbox_schema\n",
    "from typing import Optional"
   ]
  },
  {
   "cell_type": "code",
   "execution_count": null,
   "metadata": {},
   "outputs": [],
   "source": [
    "#| export\n",
    "ToolBox = {}"
   ]
  },
  {
   "cell_type": "markdown",
   "metadata": {},
   "source": [
    "## Dynamic API installation"
   ]
  },
  {
   "cell_type": "code",
   "execution_count": null,
   "metadata": {},
   "outputs": [],
   "source": [
    "#| export\n",
    "def load_oas(\n",
    "    oas_url: str = \"https://tie.digitraffic.fi/swagger/openapi.json\",  # OpenAPI Specification URL\n",
    "    destination: str = \"api/road_digitraffic.json\",  # Destination file\n",
    "    overwrite: bool = False  # Overwrite existing file\n",
    ") -> dict:  # OpenAPI Specification\n",
    "    \"\"\"Load OpenAPI Specification from URL or file.\"\"\"\n",
    "    # Create destination directory if it does not exist\n",
    "    os.makedirs(os.path.dirname(destination), exist_ok=True)\n",
    "\n",
    "    # Download OpenAPI Specification if it does not exist or overwrite is True\n",
    "    if not os.path.exists(destination) or overwrite:\n",
    "        r = requests.get(oas_url)\n",
    "        with open(destination, \"w\") as f:\n",
    "            f.write(r.text)\n",
    "\n",
    "    # Load OpenAPI Specification\n",
    "    with open(destination, \"r\") as f:\n",
    "        if destination.endswith(\".json\"):\n",
    "            return json.load(f)\n",
    "        elif destination.endswith(\".yaml\") or destination.endswith(\".yml\"):\n",
    "            return yaml.load(f)\n",
    "        else:\n",
    "            raise ValueError(\"Invalid file format\")"
   ]
  },
  {
   "cell_type": "code",
   "execution_count": null,
   "metadata": {},
   "outputs": [
    {
     "data": {
      "text/markdown": [
       "---\n",
       "\n",
       "[source](https://github.com/ninjalabo/llmcam/blob/main/llmcam/store.py#L23){target=\"_blank\" style=\"float:right; font-size:smaller\"}\n",
       "\n",
       "### load_oas\n",
       "\n",
       ">      load_oas (oas_url:str='https://tie.digitraffic.fi/swagger/openapi.json',\n",
       ">                destination:str='api/road_digitraffic.json',\n",
       ">                overwrite:bool=False)\n",
       "\n",
       "*Load OpenAPI Specification from URL or file.*\n",
       "\n",
       "|    | **Type** | **Default** | **Details** |\n",
       "| -- | -------- | ----------- | ----------- |\n",
       "| oas_url | str | https://tie.digitraffic.fi/swagger/openapi.json | OpenAPI Specification URL |\n",
       "| destination | str | api/road_digitraffic.json | Destination file |\n",
       "| overwrite | bool | False | Overwrite existing file |\n",
       "| **Returns** | **dict** |  | **OpenAPI Specification** |"
      ],
      "text/plain": [
       "---\n",
       "\n",
       "[source](https://github.com/ninjalabo/llmcam/blob/main/llmcam/store.py#L23){target=\"_blank\" style=\"float:right; font-size:smaller\"}\n",
       "\n",
       "### load_oas\n",
       "\n",
       ">      load_oas (oas_url:str='https://tie.digitraffic.fi/swagger/openapi.json',\n",
       ">                destination:str='api/road_digitraffic.json',\n",
       ">                overwrite:bool=False)\n",
       "\n",
       "*Load OpenAPI Specification from URL or file.*\n",
       "\n",
       "|    | **Type** | **Default** | **Details** |\n",
       "| -- | -------- | ----------- | ----------- |\n",
       "| oas_url | str | https://tie.digitraffic.fi/swagger/openapi.json | OpenAPI Specification URL |\n",
       "| destination | str | api/road_digitraffic.json | Destination file |\n",
       "| overwrite | bool | False | Overwrite existing file |\n",
       "| **Returns** | **dict** |  | **OpenAPI Specification** |"
      ]
     },
     "execution_count": null,
     "metadata": {},
     "output_type": "execute_result"
    }
   ],
   "source": [
    "show_doc(load_oas)"
   ]
  },
  {
   "cell_type": "markdown",
   "metadata": {},
   "source": [
    "Usage to download three DigiTraffic endpoints"
   ]
  },
  {
   "cell_type": "code",
   "execution_count": null,
   "metadata": {},
   "outputs": [],
   "source": [
    "#| export\n",
    "road_digitraffic = load_oas(\n",
    "    oas_url=\"https://tie.digitraffic.fi/swagger/openapi.json\",\n",
    "    destination=\"api/road_digitraffic.json\",\n",
    "    overwrite=False\n",
    ")\n",
    "train_digitraffic = load_oas(\n",
    "    oas_url=\"https://rata.digitraffic.fi/swagger/openapi.json\",\n",
    "    destination=\"api/train_digitraffic.json\",\n",
    "    overwrite=False\n",
    ")\n",
    "marine_digitraffic = load_oas(\n",
    "    oas_url=\"https://meri.digitraffic.fi/swagger/openapi.json\",\n",
    "    destination=\"api/marine_digitraffic.json\",\n",
    "    overwrite=False\n",
    ")"
   ]
  },
  {
   "cell_type": "markdown",
   "metadata": {},
   "source": [
    "Test functions with GPT:"
   ]
  },
  {
   "cell_type": "code",
   "execution_count": null,
   "metadata": {},
   "outputs": [],
   "source": [
    "from llmcam.fn_to_fc import complete, form_msgs, print_msgs\n",
    "from llmcam.oas_to_requests import generate_request"
   ]
  },
  {
   "cell_type": "code",
   "execution_count": null,
   "metadata": {},
   "outputs": [
    {
     "name": "stdout",
     "output_type": "stream",
     "text": [
      "\u001b[1m\u001b[31m>> \u001b[43m\u001b[31mSystem:\u001b[0m\n",
      "You are a helpful system administrator. Use the supplied tools to help the user.\n",
      "\u001b[1m\u001b[31m>> \u001b[43m\u001b[32mUser:\u001b[0m\n",
      "Get me information about the trains departing on 2017-11-09 with train number 1.\n",
      "\u001b[1m\u001b[31m>> \u001b[43m\u001b[34mAssistant:\u001b[0m\n",
      "Here is the information for train number 1 that departed on 2017-11-09:  - **Operator**: VR (code:\n",
      "10) - **Train Type**: IC (InterCity) - **Category**: Long-distance - **Running Status**: Not\n",
      "currently running - **Cancelled**: No - **Timetable Type**: Regular - **Timetable Acceptance Date**:\n",
      "July 21, 2017  ### Key Stops:  1. **Helsinki (HKI)**    - **Departure**: 05:28 (scheduled) / 05:30\n",
      "(actual)    - **Track**: 7  2. **Pasila (PSL)**    - **Arrival**: 05:33 (scheduled) / 05:35 (actual)\n",
      "- **Departure**: 05:34 (scheduled) / 05:37 (actual)    - **Track**: 4  3. **Tikkurila (TKL)**    -\n",
      "**Arrival**: 05:43 (scheduled) / 05:45 (actual)    - **Departure**: 05:44 (scheduled) / 05:47\n",
      "(actual)    - **Track**: 3  4. **Lahti (LH)**    - **Arrival**: 06:16 (scheduled) / 06:22 (actual)\n",
      "- **Departure**: 06:18 (scheduled) / 06:24 (actual)    - **Track**: 1  5. **Joensuu (JNS)**    -\n",
      "**Arrival**: 09:45 (scheduled) / 09:52 (actual)    - **Track**: 3  ### Delays: - The train\n",
      "experienced delays at various stops, ranging from 2 to 8 minutes. - Reasons for delay were\n",
      "categorized under system-related codes like \"L201\" for signal failure and \"T102\" for infrastructure\n",
      "maintenance.  If you need further details about specific stations or any other train services, feel\n",
      "free to ask!\n"
     ]
    }
   ],
   "source": [
    "#| eval: false\n",
    "messages = form_msgs([\n",
    "    (\"system\", \"You are a helpful system administrator. Use the supplied tools to help the user.\"),\n",
    "    (\"user\", \"Get me information about the trains departing on 2017-11-09 with train number 1.\"),\n",
    "])\n",
    "complete(messages, toolbox_schema(\"https://rata.digitraffic.fi\", train_digitraffic), aux_fn=generate_request)\n",
    "print_msgs(messages)"
   ]
  },
  {
   "cell_type": "code",
   "execution_count": null,
   "metadata": {},
   "outputs": [
    {
     "name": "stdout",
     "output_type": "stream",
     "text": [
      "\u001b[1m\u001b[31m>> \u001b[43m\u001b[31mSystem:\u001b[0m\n",
      "You are a helpful system administrator. Use the supplied tools to help the user.\n",
      "\u001b[1m\u001b[31m>> \u001b[43m\u001b[32mUser:\u001b[0m\n",
      "Get me information about the trains departing on 2017-11-09 with train number 1.\n",
      "\u001b[1m\u001b[31m>> \u001b[43m\u001b[34mAssistant:\u001b[0m\n",
      "Here is the information about the train number 1 that departed on November 9, 2017:  - **Operator\n",
      "Code**: VR - **Train Type**: IC (InterCity) - **Train Category**: Long-distance - **Running\n",
      "Currently**: No - **Cancelled**: No - **Timetable Type**: Regular - **Timetable Acceptance Date**:\n",
      "July 21, 2017  Here's a brief overview of its schedule and stops:  - **Departure from Helsinki\n",
      "(HKI)**: Scheduled at 05:28, Actual at 05:30:33, Difference of 3 minutes. - **Arrival at Pasila\n",
      "(PSL)**: Scheduled at 05:33, Actual at 05:35:26, Difference of 2 minutes. - **Departure from Pasila\n",
      "(PSL)**: Scheduled at 05:34, Actual at 05:37:13, Difference of 3 minutes. - Several intermediate\n",
      "stops, including Käpylä (KÄP), Oulunkylä (OLK), etc., mostly maintaining a delay between 2-7\n",
      "minutes. - **Arrival at Joensuu (JNS)**: Scheduled at 09:45, Actual at 09:52:33, Difference of 8\n",
      "minutes.  The train experienced minor delays as it progressed through its journey, mostly\n",
      "maintaining a delay of 2-8 minutes across its stops.\n"
     ]
    }
   ],
   "source": [
    "#| eval: false\n",
    "messages = form_msgs([\n",
    "    (\"system\", \"You are a helpful system administrator. Use the supplied tools to help the user.\"),\n",
    "    (\"user\", \"Get me information about the trains departing on 2017-11-09 with train number 1.\")\n",
    "])\n",
    "complete(messages, toolbox_schema(\"https://rata.digitraffic.fi\", train_digitraffic), aux_fn=generate_request)\n",
    "print_msgs(messages)"
   ]
  },
  {
   "cell_type": "code",
   "execution_count": null,
   "metadata": {},
   "outputs": [
    {
     "name": "stdout",
     "output_type": "stream",
     "text": [
      "\u001b[1m\u001b[31m>> \u001b[43m\u001b[31mSystem:\u001b[0m\n",
      "You are a helpful system administrator. Use the supplied tools to help the user.\n",
      "\u001b[1m\u001b[31m>> \u001b[43m\u001b[32mUser:\u001b[0m\n",
      "Are there any active nautical warnings?\n",
      "\u001b[1m\u001b[31m>> \u001b[43m\u001b[34mAssistant:\u001b[0m\n",
      "Yes, there are several active nautical warnings at the moment. Here are some of them:  1. **Hessund\n",
      "Fairway**:    - **Type**: Navigational warnings for yachtsmen.    - **Area**: Archipelago Sea.    -\n",
      "**Details**: The fairway is closed for traffic from 20.11.2024 to 30.4.2025 due to bridge\n",
      "construction work.  2. **Military Exercise \"Freezing Winds\"**:    - **Type**: Coastal Warning.    -\n",
      "**Area**: Archipelago Sea, Gulf of Finland, and Northern Baltic.    - **Details**: Military exercise\n",
      "in progress from 15.11.2024 to 29.11.2024. Vessels are advised to navigate with caution. For more\n",
      "information, contact Archipelago VTS, Hanko VTS, or Helsinki VTS.  3. **Lohtaja**:    - **Type**:\n",
      "Coastal Warning.    - **Area**: Bay of Bothnia.    - **Details**: Military firing exercises from\n",
      "13.11.2024 to 16.11.2024. Danger area between Kokkola and Raahe. Traffic might be restricted at\n",
      "times. Vessels are requested to navigate with caution.  4. **Lighthouse Porvoo**:    - **Type**:\n",
      "Coastal Warning.    - **Area**: Gulf of Finland.    - **Details**: RACON and light of Lighthouse\n",
      "Porvoo (position 60-05.59N 025-35.83E) are out of order.  5. **Sector Light Padvagrundet**:    -\n",
      "**Type**: Local Warning.    - **Area**: Archipelago Sea.    - **Details**: Sector light at\n",
      "Padvagrundet (position 59-59.00N 022-46.80E) is out of order.  For further details, including\n",
      "additional warnings, please let me know!\n"
     ]
    }
   ],
   "source": [
    "#| eval: false\n",
    "messages = form_msgs([\n",
    "    (\"system\", \"You are a helpful system administrator. Use the supplied tools to help the user.\"),\n",
    "    (\"user\", \"Are there any active nautical warnings?\")\n",
    "])\n",
    "complete(messages, toolbox_schema(\"https://meri.digitraffic.fi\", marine_digitraffic), aux_fn=generate_request)\n",
    "print_msgs(messages)"
   ]
  },
  {
   "cell_type": "code",
   "execution_count": null,
   "metadata": {},
   "outputs": [],
   "source": [
    "#| export\n",
    "def add_api_tools(\n",
    "    service_name: str,  # Name of the API service\n",
    "    base_url: str,  # Base URL of the API service\n",
    "    oas_url: Optional[str] = None,  # OpenAPI Specification URL\n",
    "    oas_destination: Optional[str] = None # OpenAPI Specification destination file\n",
    "):\n",
    "    \"\"\"Add API tools to the toolbox.\"\"\"\n",
    "    # Load OpenAPI Specification\n",
    "    if oas_url is None:\n",
    "        oas_url = f\"{base_url}/swagger/openapi.json\"\n",
    "    if oas_destination is None:\n",
    "        oas_destination = f\"api/{service_name}.json\"\n",
    "    oas = load_oas(oas_url, oas_destination, overwrite=True)\n",
    "\n",
    "    # Create tool schema and append to toolbox\n",
    "    global ToolBox\n",
    "    ToolBox[service_name] = toolbox_schema(base_url, oas)"
   ]
  },
  {
   "cell_type": "code",
   "execution_count": null,
   "metadata": {},
   "outputs": [
    {
     "data": {
      "text/markdown": [
       "---\n",
       "\n",
       "[source](https://github.com/ninjalabo/llmcam/blob/main/llmcam/store.py#L65){target=\"_blank\" style=\"float:right; font-size:smaller\"}\n",
       "\n",
       "### add_api_tools\n",
       "\n",
       ">      add_api_tools (service_name:str, base_url:str,\n",
       ">                     oas_url:Optional[str]=None,\n",
       ">                     oas_destination:Optional[str]=None)\n",
       "\n",
       "*Add API tools to the toolbox.*\n",
       "\n",
       "|    | **Type** | **Default** | **Details** |\n",
       "| -- | -------- | ----------- | ----------- |\n",
       "| service_name | str |  | Name of the API service |\n",
       "| base_url | str |  | Base URL of the API service |\n",
       "| oas_url | Optional | None | OpenAPI Specification URL |\n",
       "| oas_destination | Optional | None | OpenAPI Specification destination file |"
      ],
      "text/plain": [
       "---\n",
       "\n",
       "[source](https://github.com/ninjalabo/llmcam/blob/main/llmcam/store.py#L65){target=\"_blank\" style=\"float:right; font-size:smaller\"}\n",
       "\n",
       "### add_api_tools\n",
       "\n",
       ">      add_api_tools (service_name:str, base_url:str,\n",
       ">                     oas_url:Optional[str]=None,\n",
       ">                     oas_destination:Optional[str]=None)\n",
       "\n",
       "*Add API tools to the toolbox.*\n",
       "\n",
       "|    | **Type** | **Default** | **Details** |\n",
       "| -- | -------- | ----------- | ----------- |\n",
       "| service_name | str |  | Name of the API service |\n",
       "| base_url | str |  | Base URL of the API service |\n",
       "| oas_url | Optional | None | OpenAPI Specification URL |\n",
       "| oas_destination | Optional | None | OpenAPI Specification destination file |"
      ]
     },
     "execution_count": null,
     "metadata": {},
     "output_type": "execute_result"
    }
   ],
   "source": [
    "show_doc(add_api_tools)"
   ]
  },
  {
   "cell_type": "markdown",
   "metadata": {},
   "source": [
    "## Dynamic functions from installed libraries"
   ]
  },
  {
   "cell_type": "markdown",
   "metadata": {},
   "source": [
    "It is possible to dynamically import a function in installed library and execute it with `importlib`."
   ]
  },
  {
   "cell_type": "code",
   "execution_count": null,
   "metadata": {},
   "outputs": [],
   "source": [
    "#| export\n",
    "from importlib import import_module\n",
    "from typing import Callable, Any\n",
    "from llmcam.fn_to_fc import tool_schema"
   ]
  },
  {
   "cell_type": "code",
   "execution_count": null,
   "metadata": {},
   "outputs": [],
   "source": [
    "import json\n",
    "from pathlib import Path"
   ]
  },
  {
   "cell_type": "code",
   "execution_count": null,
   "metadata": {},
   "outputs": [
    {
     "data": {
      "text/plain": [
       "<function llmcam.fn_to_fc.ask_gpt4v_about_image_file(path: str) -> str>"
      ]
     },
     "execution_count": null,
     "metadata": {},
     "output_type": "execute_result"
    }
   ],
   "source": [
    "func: Callable = getattr(import_module(\"llmcam.fn_to_fc\"), \"ask_gpt4v_about_image_file\", None)\n",
    "func"
   ]
  },
  {
   "cell_type": "code",
   "execution_count": null,
   "metadata": {},
   "outputs": [],
   "source": [
    "#| eval: false\n",
    "def datadir(): return (Path('.') if os.path.isdir('data') else Path('..'))/'data' #FIXME: introduce LLMHOME and/or LLMDATA"
   ]
  },
  {
   "cell_type": "code",
   "execution_count": null,
   "metadata": {},
   "outputs": [
    {
     "data": {
      "text/plain": [
       "{'timestamp': '2024-09-28T15:59:06',\n",
       " 'location': 'Unknown',\n",
       " 'dimensions': {'width': 1280, 'height': 720},\n",
       " 'buildings': {'number_of_buildings': 8,\n",
       "  'building_height_range': '3-7 stories'},\n",
       " 'vehicles': {'number_of_vehicles': 20,\n",
       "  'types': ['cars'],\n",
       "  'number_of_available_parking_space': 5},\n",
       " 'waterbodies': {'visible': True, 'type': 'harbor', 'number_of_boats': 15},\n",
       " 'street_lights': {'number_of_street_lights': 10},\n",
       " 'people': {'approximate_number': 50},\n",
       " 'lighting': {'time_of_day': 'afternoon', 'artificial_lighting': 'minimal'},\n",
       " 'visibility': {'clear': True},\n",
       " 'sky': {'visible': True, 'light_conditions': 'daylight'}}"
      ]
     },
     "execution_count": null,
     "metadata": {},
     "output_type": "execute_result"
    }
   ],
   "source": [
    "#| eval: false\n",
    "json.loads(func(datadir()/\"cap_2024.09.28_15:59:06_Presidentinlinna.jpg\"))"
   ]
  },
  {
   "cell_type": "markdown",
   "metadata": {},
   "source": [
    "Auxiliary function to dynamically import and execute functions as defined in tools:"
   ]
  },
  {
   "cell_type": "code",
   "execution_count": null,
   "metadata": {},
   "outputs": [],
   "source": [
    "#| export\n",
    "def execute_function(\n",
    "    function_name: str,  # Name of the function\n",
    "    tools: list = [],  # The toolbox schema\n",
    "    **kwargs  # Keyword arguments\n",
    ") -> Any:  # Function output\n",
    "    \"\"\"Execute function with specified name.\"\"\"\n",
    "    # Get function from toolbox\n",
    "    for tool in tools:\n",
    "        if tool[\"function\"][\"name\"] == function_name:\n",
    "            module = tool[\"function\"][\"parameters\"][\"properties\"][\"module\"][\"default\"]\n",
    "\n",
    "    # Import module and get function\n",
    "    if module is None:\n",
    "        raise ValueError(\"Module not found\")\n",
    "    if module == \"builtins\":\n",
    "        func: Callable = getattr(__builtins__, function_name, None)\n",
    "    else:\n",
    "        func: Callable = getattr(import_module(module), function_name, None)\n",
    "    \n",
    "    # Execute function\n",
    "    if func is None:\n",
    "        raise ValueError(\"Function not found\")\n",
    "    return func(**kwargs)"
   ]
  },
  {
   "cell_type": "markdown",
   "metadata": {},
   "source": [
    "Usage with existing function:"
   ]
  },
  {
   "cell_type": "code",
   "execution_count": null,
   "metadata": {},
   "outputs": [
    {
     "data": {
      "text/plain": [
       "{'timestamp': '2024-09-28T15:59:06',\n",
       " 'location': 'Presidential Palace Area',\n",
       " 'dimensions': {'width': 1280, 'height': 720},\n",
       " 'buildings': {'number_of_buildings': 10,\n",
       "  'building_height_range': '3-6 stories'},\n",
       " 'vehicles': {'number_of_vehicles': 20,\n",
       "  'types': ['cars', 'trucks'],\n",
       "  'number_of_available_parking_space': 5},\n",
       " 'waterbodies': {'visible': True, 'type': 'harbor', 'number_of_boats': 15},\n",
       " 'street_lights': {'number_of_street_lights': 15},\n",
       " 'people': {'approximate_number': 30},\n",
       " 'lighting': {'time_of_day': 'afternoon',\n",
       "  'artificial_lighting': 'not prominent'},\n",
       " 'visibility': {'clear': True},\n",
       " 'sky': {'visible': True, 'light_conditions': 'daytime'}}"
      ]
     },
     "execution_count": null,
     "metadata": {},
     "output_type": "execute_result"
    }
   ],
   "source": [
    "#| eval: false\n",
    "json.loads(execute_function(\n",
    "    \"ask_gpt4v_about_image_file\", \n",
    "    tools=[tool_schema(func)], \n",
    "    path=datadir()/\"cap_2024.09.28_15:59:06_Presidentinlinna.jpg\"\n",
    "))"
   ]
  },
  {
   "cell_type": "markdown",
   "metadata": {},
   "source": [
    "Utility to add functions from installed libraries to ToolBox."
   ]
  },
  {
   "cell_type": "code",
   "execution_count": null,
   "metadata": {},
   "outputs": [],
   "source": [
    "#| export\n",
    "def add_function_tools(\n",
    "    service_name: str,  # Name of the service\n",
    "    function_names: list[str],  # List of function names (with module prefix)\n",
    "):\n",
    "    \"\"\"Add function tools to the toolbox.\"\"\"\n",
    "    # Initialize tools\n",
    "    tools = []\n",
    "\n",
    "    # Import functions\n",
    "    for function_name in function_names:\n",
    "        # Get module prefix\n",
    "        module_prefix = function_name.split(\".\")\n",
    "        if len(module_prefix) == 1:\n",
    "            module_prefix = \"builtins\"\n",
    "        else:\n",
    "            module_prefix = \".\".join(module_prefix[:-1])\n",
    "\n",
    "        # Get function name without module prefix\n",
    "        func_name = function_name.split(\".\")[-1]\n",
    "\n",
    "        # Import function\n",
    "        if module_prefix == \"builtins\":\n",
    "            func: Callable = getattr(__builtins__, func_name, None)\n",
    "        else:\n",
    "            func: Callable = getattr(import_module(module_prefix), func_name, None)\n",
    "\n",
    "        # Raise error if function not found\n",
    "        if func is None:\n",
    "            raise ValueError(f\"Function not found: {function_name}\")\n",
    "        \n",
    "        # Create tool schema\n",
    "        tools.append(tool_schema(func))\n",
    "\n",
    "    # Append tools to toolbox\n",
    "    global ToolBox\n",
    "    for function_name in function_names:\n",
    "        ToolBox[service_name] = tools"
   ]
  },
  {
   "cell_type": "code",
   "execution_count": null,
   "metadata": {},
   "outputs": [
    {
     "data": {
      "text/markdown": [
       "---\n",
       "\n",
       "[source](https://github.com/ninjalabo/llmcam/blob/main/llmcam/store.py#L114){target=\"_blank\" style=\"float:right; font-size:smaller\"}\n",
       "\n",
       "### add_function_tools\n",
       "\n",
       ">      add_function_tools (service_name:str, function_names:list[str])\n",
       "\n",
       "*Add function tools to the toolbox.*\n",
       "\n",
       "|    | **Type** | **Details** |\n",
       "| -- | -------- | ----------- |\n",
       "| service_name | str | Name of the service |\n",
       "| function_names | list | List of function names (with module prefix) |"
      ],
      "text/plain": [
       "---\n",
       "\n",
       "[source](https://github.com/ninjalabo/llmcam/blob/main/llmcam/store.py#L114){target=\"_blank\" style=\"float:right; font-size:smaller\"}\n",
       "\n",
       "### add_function_tools\n",
       "\n",
       ">      add_function_tools (service_name:str, function_names:list[str])\n",
       "\n",
       "*Add function tools to the toolbox.*\n",
       "\n",
       "|    | **Type** | **Details** |\n",
       "| -- | -------- | ----------- |\n",
       "| service_name | str | Name of the service |\n",
       "| function_names | list | List of function names (with module prefix) |"
      ]
     },
     "execution_count": null,
     "metadata": {},
     "output_type": "execute_result"
    }
   ],
   "source": [
    "show_doc(add_function_tools)"
   ]
  },
  {
   "cell_type": "markdown",
   "metadata": {},
   "source": [
    "## ToolBox management\n",
    "\n",
    "From the previous sections, we have implemented the utilities to add tools from API and functions. In this section, we can implement more utilities to manage the ToolBox, including:  \n",
    "\n",
    "- Remove or Clean toolbox\n",
    "- Save and load toolbox from `.json` file\n",
    "- Select services and form usable tools "
   ]
  },
  {
   "cell_type": "code",
   "execution_count": null,
   "metadata": {},
   "outputs": [],
   "source": [
    "#| export\n",
    "def remove_service(service_name: str):\n",
    "    \"\"\"Remove service from toolbox.\"\"\"\n",
    "    global ToolBox\n",
    "    if service_name in ToolBox:\n",
    "        del ToolBox[service_name]\n",
    "\n",
    "#| export\n",
    "def clean_toolbox():\n",
    "    \"\"\"Remove all services from toolbox.\"\"\"\n",
    "    global ToolBox\n",
    "    ToolBox = {}"
   ]
  },
  {
   "cell_type": "code",
   "execution_count": null,
   "metadata": {},
   "outputs": [],
   "source": [
    "#| export\n",
    "def save_toolbox(destination: str = \"toolbox.json\"):\n",
    "    \"\"\"Save toolbox to file.\"\"\"\n",
    "    with open(destination, \"w\") as f:\n",
    "        json.dump(ToolBox, f)\n",
    "    \n",
    "#| export\n",
    "def load_toolbox(destination: str = \"toolbox.json\"):\n",
    "    \"\"\"Load toolbox from file.\"\"\"\n",
    "    global ToolBox\n",
    "    with open(destination, \"r\") as f:\n",
    "        ToolBox = json.load(f)"
   ]
  },
  {
   "cell_type": "code",
   "execution_count": null,
   "metadata": {},
   "outputs": [],
   "source": [
    "#| export\n",
    "def extract_tools_from_services(\n",
    "    services: list[str] = []  # List of service names\n",
    ") -> list:  # List of tools\n",
    "    \"\"\"Extract tools from services.\"\"\"\n",
    "    # Initialize tools\n",
    "    tools = []\n",
    "\n",
    "    # Extract tools from services\n",
    "    global ToolBox\n",
    "    for service in services:\n",
    "        if service in ToolBox:\n",
    "            tools.extend(ToolBox[service])\n",
    "\n",
    "    # Raise error if no tools found\n",
    "    if len(tools) == 0:\n",
    "        raise ValueError(\"No tools found\")\n",
    "    \n",
    "    # Raise error if too many tools\n",
    "    if len(tools) > 128:\n",
    "        raise ValueError(\"Too many tools for using GPT-4. Maximum number of tools is 128.\")\n",
    "\n",
    "    # Return tools\n",
    "    return tools"
   ]
  },
  {
   "cell_type": "code",
   "execution_count": null,
   "metadata": {},
   "outputs": [
    {
     "data": {
      "text/markdown": [
       "---\n",
       "\n",
       "[source](https://github.com/ninjalabo/llmcam/blob/main/llmcam/store.py#L179){target=\"_blank\" style=\"float:right; font-size:smaller\"}\n",
       "\n",
       "### extract_tools_from_services\n",
       "\n",
       ">      extract_tools_from_services (services:list[str]=[])\n",
       "\n",
       "*Extract tools from services.*\n",
       "\n",
       "|    | **Type** | **Default** | **Details** |\n",
       "| -- | -------- | ----------- | ----------- |\n",
       "| services | list | [] | List of service names |\n",
       "| **Returns** | **list** |  | **List of tools** |"
      ],
      "text/plain": [
       "---\n",
       "\n",
       "[source](https://github.com/ninjalabo/llmcam/blob/main/llmcam/store.py#L179){target=\"_blank\" style=\"float:right; font-size:smaller\"}\n",
       "\n",
       "### extract_tools_from_services\n",
       "\n",
       ">      extract_tools_from_services (services:list[str]=[])\n",
       "\n",
       "*Extract tools from services.*\n",
       "\n",
       "|    | **Type** | **Default** | **Details** |\n",
       "| -- | -------- | ----------- | ----------- |\n",
       "| services | list | [] | List of service names |\n",
       "| **Returns** | **list** |  | **List of tools** |"
      ]
     },
     "execution_count": null,
     "metadata": {},
     "output_type": "execute_result"
    }
   ],
   "source": [
    "show_doc(extract_tools_from_services)"
   ]
  },
  {
   "cell_type": "markdown",
   "metadata": {},
   "source": [
    "For our demo, we can add some default services from DigiTraffic and our existing `llmcam` module:"
   ]
  },
  {
   "cell_type": "code",
   "execution_count": null,
   "metadata": {},
   "outputs": [],
   "source": [
    "#| export\n",
    "add_api_tools(\n",
    "    service_name=\"road_digitraffic\",\n",
    "    base_url=\"https://tie.digitraffic.fi\",\n",
    "    oas_url=\"https://tie.digitraffic.fi/swagger/openapi.json\",\n",
    "    oas_destination=\"api/road_digitraffic.json\"\n",
    ")"
   ]
  },
  {
   "cell_type": "code",
   "execution_count": null,
   "metadata": {},
   "outputs": [],
   "source": [
    "#| export\n",
    "add_api_tools(\n",
    "    service_name=\"train_digitraffic\",\n",
    "    base_url=\"https://rata.digitraffic.fi\",\n",
    "    oas_url=\"https://rata.digitraffic.fi/swagger/openapi.json\",\n",
    "    oas_destination=\"api/train_digitraffic.json\"\n",
    ")"
   ]
  },
  {
   "cell_type": "code",
   "execution_count": null,
   "metadata": {},
   "outputs": [],
   "source": [
    "add_api_tools(\n",
    "    service_name=\"marine_digitraffic\",\n",
    "    base_url=\"https://meri.digitraffic.fi\",\n",
    "    oas_url=\"https://meri.digitraffic.fi/swagger/openapi.json\",\n",
    "    oas_destination=\"api/marine_digitraffic.json\"\n",
    ")"
   ]
  },
  {
   "cell_type": "code",
   "execution_count": null,
   "metadata": {},
   "outputs": [],
   "source": [
    "#| export\n",
    "add_function_tools(\n",
    "    service_name=\"ytube_live\",\n",
    "    function_names=[\n",
    "        \"llmcam.fn_to_fc.capture_youtube_live_frame_and_save\",\n",
    "        \"llmcam.fn_to_fc.ask_gpt4v_about_image_file\"\n",
    "    ]\n",
    ")"
   ]
  },
  {
   "cell_type": "markdown",
   "metadata": {},
   "source": [
    "However, if we have both tools stemming from functions and API requests, we can benefit from an auxiliary function to redirect the calls into sub-auxiliary functions:"
   ]
  },
  {
   "cell_type": "code",
   "execution_count": null,
   "metadata": {},
   "outputs": [],
   "source": [
    "#| export\n",
    "from llmcam.oas_to_requests import generate_request\n",
    "\n",
    "def redirect_tool_calls(\n",
    "    function_name: str,  # Name of the function\n",
    "    tools: list = [],  # List of tools\n",
    "    **kwargs  # Keyword arguments\n",
    "):\n",
    "    \"\"\"Redirect tool calls to the appropriate function.\"\"\"\n",
    "    for tool in tools:\n",
    "        if tool[\"function\"][\"name\"] == function_name:\n",
    "            if \"module\" in tool[\"function\"][\"parameters\"][\"properties\"]:\n",
    "                return execute_function(\n",
    "                    function_name=function_name, \n",
    "                    tools=tools, \n",
    "                    **kwargs)\n",
    "            \n",
    "            elif \"url\" in tool[\"function\"][\"parameters\"][\"properties\"]:\n",
    "                return generate_request(\n",
    "                    function_name=function_name, \n",
    "                    tools=tools, \n",
    "                    **kwargs)\n",
    "    \n",
    "    raise ValueError(\"Function not found\")"
   ]
  },
  {
   "cell_type": "code",
   "execution_count": null,
   "metadata": {},
   "outputs": [
    {
     "data": {
      "text/markdown": [
       "---\n",
       "\n",
       "[source](https://github.com/ninjalabo/llmcam/blob/main/llmcam/store.py#L231){target=\"_blank\" style=\"float:right; font-size:smaller\"}\n",
       "\n",
       "### redirect_tool_calls\n",
       "\n",
       ">      redirect_tool_calls (function_name:str, tools:list=[], **kwargs)\n",
       "\n",
       "*Redirect tool calls to the appropriate function.*\n",
       "\n",
       "|    | **Type** | **Default** | **Details** |\n",
       "| -- | -------- | ----------- | ----------- |\n",
       "| function_name | str |  | Name of the function |\n",
       "| tools | list | [] | List of tools |\n",
       "| kwargs |  |  |  |"
      ],
      "text/plain": [
       "---\n",
       "\n",
       "[source](https://github.com/ninjalabo/llmcam/blob/main/llmcam/store.py#L231){target=\"_blank\" style=\"float:right; font-size:smaller\"}\n",
       "\n",
       "### redirect_tool_calls\n",
       "\n",
       ">      redirect_tool_calls (function_name:str, tools:list=[], **kwargs)\n",
       "\n",
       "*Redirect tool calls to the appropriate function.*\n",
       "\n",
       "|    | **Type** | **Default** | **Details** |\n",
       "| -- | -------- | ----------- | ----------- |\n",
       "| function_name | str |  | Name of the function |\n",
       "| tools | list | [] | List of tools |\n",
       "| kwargs |  |  |  |"
      ]
     },
     "execution_count": null,
     "metadata": {},
     "output_type": "execute_result"
    }
   ],
   "source": [
    "show_doc(redirect_tool_calls)"
   ]
  },
  {
   "cell_type": "markdown",
   "metadata": {},
   "source": [
    "Test integrating with a GPT chatbot that has both Road API from DigiTraffic and Youtube Live functions."
   ]
  },
  {
   "cell_type": "code",
   "execution_count": null,
   "metadata": {},
   "outputs": [],
   "source": [
    "tools = extract_tools_from_services([\"ytube_live\", \"road_digitraffic\"])"
   ]
  },
  {
   "cell_type": "code",
   "execution_count": null,
   "metadata": {},
   "outputs": [
    {
     "name": "stdout",
     "output_type": "stream",
     "text": [
      "\u001b[1m\u001b[31m>> \u001b[43m\u001b[31mSystem:\u001b[0m\n",
      "You are a helpful system administrator. Use the supplied tools to help the user.\n",
      "\u001b[1m\u001b[31m>> \u001b[43m\u001b[32mUser:\u001b[0m\n",
      "Get the weather camera information for the stations with ID C01503 and C01504.\n",
      "\u001b[1m\u001b[31m>> \u001b[43m\u001b[34mAssistant:\u001b[0m\n",
      "Here is the weather camera information for the stations with ID C01503 and C01504:  ### Station ID:\n",
      "C01503 (kt51_Inkoo) - **Location:** Inkoo, Uusimaa - **Camera Type:** BOSCH - **Coordinates:**\n",
      "Latitude 60.05374, Longitude 23.99616 - **Nearest Weather Station ID:** 1013 - **Collection\n",
      "Status:** Gathering - **Data Updated Time:** 2024-11-14T03:25:42Z - **Collection Interval:** 600\n",
      "seconds - **Road Address:**    - Road Number: 51   - Road Section: 14   - Distance From Road Section\n",
      "Start: 422 meters   - Carriageway: One carriageway - **Presets:**   - **Inkooseen** (Increasing\n",
      "Direction) - [Image](https://weathercam.digitraffic.fi/C0150301.jpg)   - **Hankoon** (Decreasing\n",
      "Direction) - [Image](https://weathercam.digitraffic.fi/C0150302.jpg)   - **Tienpinta** (Special\n",
      "Direction) - [Image](https://weathercam.digitraffic.fi/C0150309.jpg)  ### Station ID: C01504\n",
      "(vt2_Karkkila_Korpi) - **Location:** Karkkila, Uusimaa - **Camera Type:** HIKVISION -\n",
      "**Coordinates:** Latitude 60.536727, Longitude 24.235601 - **Nearest Weather Station ID:** 1052 -\n",
      "**Collection Status:** Gathering - **Data Updated Time:** 2024-11-14T03:27:06Z - **Collection\n",
      "Interval:** 600 seconds - **Road Address:**    - Road Number: 2   - Road Section: 13   - Distance\n",
      "From Road Section Start: 3818 meters   - Carriageway: One carriageway - **Presets:**   - **Poriin**\n",
      "(Increasing Direction) - [Image](https://weathercam.digitraffic.fi/C0150401.jpg)   - **Helsinkiin**\n",
      "(Decreasing Direction) - [Image](https://weathercam.digitraffic.fi/C0150402.jpg)   - **Tienpinta**\n",
      "(Special Direction) - [Image](https://weathercam.digitraffic.fi/C0150409.jpg)  If you need more\n",
      "details or additional information, feel free to ask!\n"
     ]
    }
   ],
   "source": [
    "#| eval: false\n",
    "messages = form_msgs([\n",
    "    (\"system\", \"You are a helpful system administrator. Use the supplied tools to help the user.\"),\n",
    "    (\"user\", \"Get the weather camera information for the stations with ID C01503 and C01504.\"),\n",
    "])\n",
    "complete(messages, tools, aux_fn=redirect_tool_calls)\n",
    "print_msgs(messages)"
   ]
  },
  {
   "cell_type": "code",
   "execution_count": null,
   "metadata": {},
   "outputs": [
    {
     "name": "stdout",
     "output_type": "stream",
     "text": [
      "[youtube] Extracting URL: https://www.youtube.com/watch?v=LMZQ7eFhm58\n",
      "[youtube] LMZQ7eFhm58: Downloading webpage\n",
      "[youtube] LMZQ7eFhm58: Downloading ios player API JSON\n",
      "[youtube] LMZQ7eFhm58: Downloading web creator player API JSON\n",
      "[youtube] LMZQ7eFhm58: Downloading m3u8 information\n",
      "14.11.2024 13:45:35 Olympiaterminaali\n",
      "\u001b[1m\u001b[31m>> \u001b[43m\u001b[31mSystem:\u001b[0m\n",
      "You are a helpful system administrator. Use the supplied tools to help the user.\n",
      "\u001b[1m\u001b[31m>> \u001b[43m\u001b[32mUser:\u001b[0m\n",
      "Can you capture a YouTube Live and extract information from it? You can use the default link.\n",
      "\u001b[1m\u001b[31m>> \u001b[43m\u001b[34mAssistant:\u001b[0m\n",
      "I captured a frame from a YouTube Live stream and extracted the following information:  -\n",
      "**Timestamp**: November 14, 2024, 1:45:35 PM - **Location**: Olympiaterminaali - **Image\n",
      "Dimensions**: 1280x720  ### Scene Description: - **Buildings**:   - Number of buildings: 5   -\n",
      "Building height range: 3 to 6 stories  - **Vehicles**:   - Number of vehicles: 10   - Types of\n",
      "vehicles: Cars, Trucks, Buses   - Available parking spaces: 8  - **Water Bodies**:   - Visible: Yes,\n",
      "it's a harbor   - Number of boats: 2  - **Street Lights**:   - Number of street lights: 10  -\n",
      "**People**:   - Approximate number of people: 0  - **Lighting Conditions**:   - Time of day:\n",
      "Afternoon   - Artificial lighting: Minimal  - **Visibility**:    - Clear conditions  - **Sky**:   -\n",
      "Visible with daylight conditions  If you need more specific details or want to perform another\n",
      "operation on this image, feel free to let me know!\n"
     ]
    }
   ],
   "source": [
    "#| eval: false\n",
    "messages = form_msgs([\n",
    "    (\"system\", \"You are a helpful system administrator. Use the supplied tools to help the user.\"),\n",
    "    (\"user\", \"Can you capture a YouTube Live and extract information from it? You can use the default link.\"),\n",
    "])\n",
    "complete(messages, tools, aux_fn=redirect_tool_calls)\n",
    "print_msgs(messages)"
   ]
  },
  {
   "cell_type": "code",
   "execution_count": null,
   "metadata": {},
   "outputs": [],
   "source": [
    "#| hide\n",
    "import nbdev; nbdev.nbdev_export()"
   ]
  }
 ],
 "metadata": {
  "kernelspec": {
   "display_name": "python3",
   "language": "python",
   "name": "python3"
  }
 },
 "nbformat": 4,
 "nbformat_minor": 4
}
