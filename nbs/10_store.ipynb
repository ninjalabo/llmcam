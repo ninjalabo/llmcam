{
 "cells": [
  {
   "cell_type": "markdown",
   "metadata": {},
   "source": [
    "# Store\n",
    "\n",
    "> Module for constructing AppletStore."
   ]
  },
  {
   "cell_type": "code",
   "execution_count": null,
   "metadata": {},
   "outputs": [],
   "source": [
    "#| default_exp store"
   ]
  },
  {
   "cell_type": "code",
   "execution_count": null,
   "metadata": {},
   "outputs": [],
   "source": [
    "#| hide\n",
    "from nbdev.showdoc import *"
   ]
  },
  {
   "cell_type": "code",
   "execution_count": null,
   "metadata": {},
   "outputs": [],
   "source": [
    "#| export\n",
    "import requests\n",
    "import yaml\n",
    "import json\n",
    "import os\n",
    "\n",
    "from llmcam.oas_to_requests import *\n",
    "from llmcam.fn_to_fc import *\n",
    "from typing import Optional, Callable"
   ]
  },
  {
   "cell_type": "markdown",
   "metadata": {},
   "source": [
    "## Dynamic API installation"
   ]
  },
  {
   "cell_type": "code",
   "execution_count": null,
   "metadata": {},
   "outputs": [],
   "source": [
    "#| export\n",
    "def load_oas(\n",
    "    oas_url: str = \"https://tie.digitraffic.fi/swagger/openapi.json\",  # OpenAPI Specification URL\n",
    "    destination: str = \"api/road_digitraffic.json\",  # Destination file\n",
    "    overwrite: bool = False  # Overwrite existing file\n",
    ") -> dict:  # OpenAPI Specification\n",
    "    \"\"\"Load OpenAPI Specification from URL or file.\"\"\"\n",
    "    # Create destination directory if it does not exist\n",
    "    os.makedirs(os.path.dirname(destination), exist_ok=True)\n",
    "\n",
    "    # Download OpenAPI Specification if it does not exist or overwrite is True\n",
    "    if not os.path.exists(destination) or overwrite:\n",
    "        r = requests.get(oas_url)\n",
    "        with open(destination, \"w\") as f:\n",
    "            f.write(r.text)\n",
    "\n",
    "    # Load OpenAPI Specification\n",
    "    with open(destination, \"r\") as f:\n",
    "        if destination.endswith(\".json\"):\n",
    "            return json.load(f)\n",
    "        elif destination.endswith(\".yaml\") or destination.endswith(\".yml\"):\n",
    "            return yaml.load(f)\n",
    "        else:\n",
    "            raise ValueError(\"Invalid file format\")"
   ]
  },
  {
   "cell_type": "code",
   "execution_count": null,
   "metadata": {},
   "outputs": [
    {
     "data": {
      "text/markdown": [
       "---\n",
       "\n",
       "[source](https://github.com/ninjalabo/llmcam/blob/main/llmcam/store.py#L19){target=\"_blank\" style=\"float:right; font-size:smaller\"}\n",
       "\n",
       "### load_oas\n",
       "\n",
       ">      load_oas (oas_url:str='https://tie.digitraffic.fi/swagger/openapi.json',\n",
       ">                destination:str='api/road_digitraffic.json',\n",
       ">                overwrite:bool=False)\n",
       "\n",
       "*Load OpenAPI Specification from URL or file.*\n",
       "\n",
       "|    | **Type** | **Default** | **Details** |\n",
       "| -- | -------- | ----------- | ----------- |\n",
       "| oas_url | str | https://tie.digitraffic.fi/swagger/openapi.json | OpenAPI Specification URL |\n",
       "| destination | str | api/road_digitraffic.json | Destination file |\n",
       "| overwrite | bool | False | Overwrite existing file |\n",
       "| **Returns** | **dict** |  | **OpenAPI Specification** |"
      ],
      "text/plain": [
       "---\n",
       "\n",
       "[source](https://github.com/ninjalabo/llmcam/blob/main/llmcam/store.py#L19){target=\"_blank\" style=\"float:right; font-size:smaller\"}\n",
       "\n",
       "### load_oas\n",
       "\n",
       ">      load_oas (oas_url:str='https://tie.digitraffic.fi/swagger/openapi.json',\n",
       ">                destination:str='api/road_digitraffic.json',\n",
       ">                overwrite:bool=False)\n",
       "\n",
       "*Load OpenAPI Specification from URL or file.*\n",
       "\n",
       "|    | **Type** | **Default** | **Details** |\n",
       "| -- | -------- | ----------- | ----------- |\n",
       "| oas_url | str | https://tie.digitraffic.fi/swagger/openapi.json | OpenAPI Specification URL |\n",
       "| destination | str | api/road_digitraffic.json | Destination file |\n",
       "| overwrite | bool | False | Overwrite existing file |\n",
       "| **Returns** | **dict** |  | **OpenAPI Specification** |"
      ]
     },
     "execution_count": null,
     "metadata": {},
     "output_type": "execute_result"
    }
   ],
   "source": [
    "show_doc(load_oas)"
   ]
  },
  {
   "cell_type": "markdown",
   "metadata": {},
   "source": [
    "Usage to download three DigiTraffic endpoints"
   ]
  },
  {
   "cell_type": "code",
   "execution_count": null,
   "metadata": {},
   "outputs": [],
   "source": [
    "road_digitraffic = load_oas(\n",
    "    oas_url=\"https://tie.digitraffic.fi/swagger/openapi.json\",\n",
    "    destination=\"api/road_digitraffic.json\",\n",
    "    overwrite=False\n",
    ")\n",
    "train_digitraffic = load_oas(\n",
    "    oas_url=\"https://rata.digitraffic.fi/swagger/openapi.json\",\n",
    "    destination=\"api/train_digitraffic.json\",\n",
    "    overwrite=False\n",
    ")\n",
    "marine_digitraffic = load_oas(\n",
    "    oas_url=\"https://meri.digitraffic.fi/swagger/openapi.json\",\n",
    "    destination=\"api/marine_digitraffic.json\",\n",
    "    overwrite=False\n",
    ")"
   ]
  },
  {
   "cell_type": "markdown",
   "metadata": {},
   "source": [
    "Test functions with GPT:"
   ]
  },
  {
   "cell_type": "code",
   "execution_count": null,
   "metadata": {},
   "outputs": [
    {
     "name": "stdout",
     "output_type": "stream",
     "text": [
      "\u001b[1m\u001b[31m>> \u001b[43m\u001b[31mSystem:\u001b[0m\n",
      "You are a helpful system administrator. Use the supplied tools to help the user.\n",
      "\u001b[1m\u001b[31m>> \u001b[43m\u001b[32mUser:\u001b[0m\n",
      "Get me information about the trains departing on 2017-11-09 with train number 1.\n",
      "\u001b[1m\u001b[31m>> \u001b[43m\u001b[34mAssistant:\u001b[0m\n",
      "Here is the information about the train with number 1 departing on 2017-11-09:  - **Operator**: VR\n",
      "(UIC Code: 10) - **Train Type**: IC (InterCity) - **Category**: Long-distance - **Running Status**:\n",
      "Not currently running - **Cancelled**: No - **Timetable Type**: Regular - **Acceptance Date for\n",
      "Timetable**: July 21, 2017  ### Timetable Highlights: 1. **Departure from Helsinki (HKI)**    -\n",
      "Scheduled: 05:28    - Actual: 05:30    - Platform: 7    - Delay: 3 minutes  2. **Arrival at Pasila\n",
      "(PSL)**    - Scheduled: 05:33    - Actual: 05:35    - Platform: 4    - Delay: 2 minutes  3.\n",
      "**Arrival at Turku (TKL)**    - Scheduled: 05:43    - Actual: 05:45    - Platform: 3    - Delay: 2\n",
      "minutes   4. **Arrival at Lohja (LH)**    - Scheduled: 06:16    - Actual: 06:22    - Platform: 1\n",
      "- Delay: 6 minutes   5. **Final Arrival at Joensuu (JNS)**    - Scheduled: 09:45    - Actual: 09:52\n",
      "- Platform: 3    - Delay: 8 minutes   ### Noteworthy stations and delays: - **Helsinki (HKI) to\n",
      "Pieksämäki (PUS)**: Various stations were passed, with delays ranging from 2 to 8 minutes, with some\n",
      "stops being commercial. - **Note**: The train was delayed notably due to causes listed on the logs,\n",
      "such as slight track or platform issues.   **Note**: The train details reflect schedules at planned\n",
      "and actual times, with slight delays recorded.\n"
     ]
    }
   ],
   "source": [
    "#| eval: false\n",
    "messages = form_msgs([\n",
    "    (\"system\", \"You are a helpful system administrator. Use the supplied tools to help the user.\"),\n",
    "    (\"user\", \"Get me information about the trains departing on 2017-11-09 with train number 1.\"),\n",
    "])\n",
    "complete(messages, toolbox_schema(\"https://rata.digitraffic.fi\", train_digitraffic, fixup=generate_request))\n",
    "print_msgs(messages)"
   ]
  },
  {
   "cell_type": "code",
   "execution_count": null,
   "metadata": {},
   "outputs": [
    {
     "name": "stdout",
     "output_type": "stream",
     "text": [
      "\u001b[1m\u001b[31m>> \u001b[43m\u001b[31mSystem:\u001b[0m\n",
      "You are a helpful system administrator. Use the supplied tools to help the user.\n",
      "\u001b[1m\u001b[31m>> \u001b[43m\u001b[32mUser:\u001b[0m\n",
      "Get me information about the trains departing on 2017-11-09 with train number 1.\n",
      "\u001b[1m\u001b[31m>> \u001b[43m\u001b[34mAssistant:\u001b[0m\n",
      "Here is the information about train number 1 that departed on 2017-11-09:  - **Operator:** VR (UIC\n",
      "Code: 10) - **Train Type:** IC (InterCity) - **Category:** Long-distance - **Cancelled:** No\n",
      "**Timetable and Stops:**  1. **Departure from Helsinki (HKI):**    - Scheduled Departure: 05:28    -\n",
      "Actual Departure: 05:30:33    - Delay: 3 minutes  2. **Arrival at Pasila (PSL):**    - Scheduled\n",
      "Arrival: 05:33    - Actual Arrival: 05:35:26    - Delay: 2 minutes  3. **Departure from Pasila\n",
      "(PSL):**    - Scheduled Departure: 05:34    - Actual Departure: 05:37:13    - Delay: 3 minutes  4.\n",
      "**Destination Joensuu (JNS):**    - Scheduled Arrival: 09:45    - Actual Arrival: 09:52:33    -\n",
      "Delay: 8 minutes    - Causes of delay: Various categorized causes related to logistics and other\n",
      "factors.  The train had several intermediate stops including Kerava (KE), Lahti (LH), Kouvola (KV),\n",
      "and several others along its route. The train maintained various delays ranging from 3 to 8 minutes\n",
      "along its journey with some minor causes contributing to delays.\n"
     ]
    }
   ],
   "source": [
    "#| eval: false\n",
    "messages = form_msgs([\n",
    "    (\"system\", \"You are a helpful system administrator. Use the supplied tools to help the user.\"),\n",
    "    (\"user\", \"Get me information about the trains departing on 2017-11-09 with train number 1.\")\n",
    "])\n",
    "complete(messages, toolbox_schema(\"https://rata.digitraffic.fi\", train_digitraffic, fixup=generate_request))\n",
    "print_msgs(messages)"
   ]
  },
  {
   "cell_type": "code",
   "execution_count": null,
   "metadata": {},
   "outputs": [
    {
     "name": "stdout",
     "output_type": "stream",
     "text": [
      "\u001b[1m\u001b[31m>> \u001b[43m\u001b[31mSystem:\u001b[0m\n",
      "You are a helpful system administrator. Use the supplied tools to help the user.\n",
      "\u001b[1m\u001b[31m>> \u001b[43m\u001b[32mUser:\u001b[0m\n",
      "Are there any active nautical warnings?\n",
      "\u001b[1m\u001b[31m>> \u001b[43m\u001b[34mAssistant:\u001b[0m\n",
      "Yes, there are several active nautical warnings:  1. **Gulf of Finland**:    - **Warning**: Sunken\n",
      "barge on the north side of Harmaja in approximate position 60-06.9N 024-58.5E. Vessels are advised\n",
      "to navigate with caution and to avoid using the fairway west of Harmaja.  2. **Inkoo Fairway**:    -\n",
      "**Warning**: Leading light Skarvörarna Front Nr 11407 at position 59-58.85N 024-08.33E is out of\n",
      "order.  3. **Kotka Länsisatama 10/9 M Fairway**:    - **Warning**: Leading light Patterinmäki Rear\n",
      "Nr 140 at position 60-26.94N 026-56.19E is out of order.  4. **Kaskinen Approaches (Sea of\n",
      "Bothnia)**:    - **Warning**: 30 cubic meters of timber drifting in position 62-09N 021-02E.  5.\n",
      "**Hessund Fairway**:    - **Warning**: The fairway is closed for traffic from 20.11.2024 to\n",
      "30.4.2025 due to bridge construction work.  6. **Archipelago Sea, Gulf of Finland, Northern\n",
      "Baltic**:    - **Warning**: Military exercise \"Freezing Winds\" taking place from 15.11-29.11.2024.\n",
      "Vessels are advised to navigate with caution.  7. **Sköldvik 15.3M Fairway (Gulf of Finland)**:    -\n",
      "**Warning**: Lighthouse Porvoo Nr 294 at position 60-05.59N 025-35.83E has Racon and light out of\n",
      "order.  8. **Taalintehdas Fairway (Archipelago Sea)**:    - **Warning**: Sector light Padvagrundet\n",
      "No 20450 at position 59-59.00N 022-46.80E is out of order.  9. **Kokkola Fairway (Bay of Bothnia)**:\n",
      "- **Warning**: Leading line Outokumpu Rear No 9092 at position 63-51.55N 023-02.76E is out of order.\n",
      "10. **Nyhamn-Rödkär Fairway (Archipelago Sea)**:     - **Warning**: Sector light Bogskär Nr 6292 at\n",
      "position 60-04.54N 020-55.50E is out of order.  11. **Vasa Fairway (Sea of Bothnia)**:     -\n",
      "**Warning**: Leading line Gåsgrund Front No 7400 at position 63-06.53N 021-14.42E Racon out of\n",
      "order.  12. **Vapparn-Harvaluoto Fairway (Archipelago Sea)**:     - **Warning**: Construction work\n",
      "ongoing on the Kirjala Bridge. The fairway beneath the bridge (3.6m) is closed until further notice.\n",
      "13. **Kemi - Ajos Fairway**:     - **Warning**: Construction of radarmark in progress in position\n",
      "65-25.45N 024-16.95E. Avoid swell when passing.  14. **GNSS and Radar Disturbances (Gulf of\n",
      "Finland)**:     - **Warning**: GNSS and radar disturbances reported. Caution advised.  Please ensure\n",
      "to navigate with caution and pay attention to these warnings if you are in the specified areas.\n"
     ]
    }
   ],
   "source": [
    "#| eval: false\n",
    "messages = form_msgs([\n",
    "    (\"system\", \"You are a helpful system administrator. Use the supplied tools to help the user.\"),\n",
    "    (\"user\", \"Are there any active nautical warnings?\")\n",
    "])\n",
    "complete(messages, toolbox_schema(\"https://meri.digitraffic.fi\", marine_digitraffic, fixup=generate_request))\n",
    "print_msgs(messages)"
   ]
  },
  {
   "cell_type": "code",
   "execution_count": null,
   "metadata": {},
   "outputs": [],
   "source": [
    "#| export\n",
    "def add_api_tools(\n",
    "    tools: list,  # List of existing tools\n",
    "    service_name: str,  # Name of the API service\n",
    "    base_url: str,  # Base URL of the API service\n",
    "    oas_url: Optional[str] = None,  # OpenAPI Specification URL\n",
    "    oas_destination: Optional[str] = None # OpenAPI Specification destination file\n",
    "):\n",
    "    \"\"\"Add API tools to the toolbox.\"\"\"\n",
    "    # Load OpenAPI Specification\n",
    "    if oas_url is None:\n",
    "        oas_url = f\"{base_url}/swagger/openapi.json\"\n",
    "    if oas_destination is None:\n",
    "        oas_destination = f\"api/{service_name}.json\"\n",
    "    oas = load_oas(oas_url, oas_destination, overwrite=True)\n",
    "\n",
    "    # Create tool schema and append to toolbox\n",
    "    schema = toolbox_schema(base_url, oas, service_name=service_name, fixup=generate_request)\n",
    "    tools.extend(schema)"
   ]
  },
  {
   "cell_type": "code",
   "execution_count": null,
   "metadata": {},
   "outputs": [
    {
     "data": {
      "text/markdown": [
       "---\n",
       "\n",
       "[source](https://github.com/ninjalabo/llmcam/blob/main/llmcam/store.py#L44){target=\"_blank\" style=\"float:right; font-size:smaller\"}\n",
       "\n",
       "### add_api_tools\n",
       "\n",
       ">      add_api_tools (tools:list, service_name:str, base_url:str,\n",
       ">                     oas_url:Optional[str]=None,\n",
       ">                     oas_destination:Optional[str]=None)\n",
       "\n",
       "*Add API tools to the toolbox.*\n",
       "\n",
       "|    | **Type** | **Default** | **Details** |\n",
       "| -- | -------- | ----------- | ----------- |\n",
       "| tools | list |  | List of existing tools |\n",
       "| service_name | str |  | Name of the API service |\n",
       "| base_url | str |  | Base URL of the API service |\n",
       "| oas_url | Optional | None | OpenAPI Specification URL |\n",
       "| oas_destination | Optional | None | OpenAPI Specification destination file |"
      ],
      "text/plain": [
       "---\n",
       "\n",
       "[source](https://github.com/ninjalabo/llmcam/blob/main/llmcam/store.py#L44){target=\"_blank\" style=\"float:right; font-size:smaller\"}\n",
       "\n",
       "### add_api_tools\n",
       "\n",
       ">      add_api_tools (tools:list, service_name:str, base_url:str,\n",
       ">                     oas_url:Optional[str]=None,\n",
       ">                     oas_destination:Optional[str]=None)\n",
       "\n",
       "*Add API tools to the toolbox.*\n",
       "\n",
       "|    | **Type** | **Default** | **Details** |\n",
       "| -- | -------- | ----------- | ----------- |\n",
       "| tools | list |  | List of existing tools |\n",
       "| service_name | str |  | Name of the API service |\n",
       "| base_url | str |  | Base URL of the API service |\n",
       "| oas_url | Optional | None | OpenAPI Specification URL |\n",
       "| oas_destination | Optional | None | OpenAPI Specification destination file |"
      ]
     },
     "execution_count": null,
     "metadata": {},
     "output_type": "execute_result"
    }
   ],
   "source": [
    "show_doc(add_api_tools)"
   ]
  },
  {
   "cell_type": "markdown",
   "metadata": {},
   "source": [
    "Example usage:"
   ]
  },
  {
   "cell_type": "code",
   "execution_count": null,
   "metadata": {},
   "outputs": [
    {
     "data": {
      "text/plain": [
       "{'type': 'function',\n",
       " 'function': {'name': 'tmsStationsDatex2Xml',\n",
       "  'description': 'The static information of TMS stations in Datex2 format (Traffic Measurement System / LAM)',\n",
       "  'parameters': {'type': 'object',\n",
       "   'properties': {'query': {'type': 'object',\n",
       "     'properties': {'state': {'type': 'string',\n",
       "       'description': 'Road station state',\n",
       "       'default': 'ACTIVE',\n",
       "       'enum': ['ALL', 'REMOVED', 'ACTIVE']}},\n",
       "     'required': []}},\n",
       "   'required': []},\n",
       "  'metadata': {'url': 'https://tie.digitraffic.fi/api/beta/tms-stations-datex2.xml',\n",
       "   'method': 'get',\n",
       "   'accepted_queries': ['state'],\n",
       "   'service': 'road_digitraffic'},\n",
       "  'fixup': 'llmcam.oas_to_requests.generate_request'}}"
      ]
     },
     "execution_count": null,
     "metadata": {},
     "output_type": "execute_result"
    }
   ],
   "source": [
    "tools = []\n",
    "add_api_tools(tools, \"road_digitraffic\", \"https://tie.digitraffic.fi\")\n",
    "assert len(tools) > 0\n",
    "tools[0]"
   ]
  },
  {
   "cell_type": "code",
   "execution_count": null,
   "metadata": {},
   "outputs": [
    {
     "name": "stdout",
     "output_type": "stream",
     "text": [
      "\u001b[1m\u001b[31m>> \u001b[43m\u001b[31mSystem:\u001b[0m\n",
      "You are a helpful system administrator. Use the supplied tools to help the user.\n",
      "\u001b[1m\u001b[31m>> \u001b[43m\u001b[32mUser:\u001b[0m\n",
      "Get the weather camera information for the stations with ID C01503 and C01504.\n",
      "\u001b[1m\u001b[31m>> \u001b[43m\u001b[34mAssistant:\u001b[0m\n",
      "Here is the weather camera information for the stations with IDs C01503 and C01504:  ### Station\n",
      "C01503 - Inkoo - **Camera Name:** kt51_Inkoo - **Camera Type:** BOSCH - **Location:** [23.99616,\n",
      "60.05374] - **Municipality:** Inkoo - **Province:** Uusimaa - **Road Address:** Road 51, Section 14,\n",
      "422 meters from the start - **Presets:**   - **Inkooseen:**\n",
      "[Image](https://weathercam.digitraffic.fi/C0150301.jpg), Resolution: 1280x720, Direction: Increasing\n",
      "- **Hankoon:** [Image](https://weathercam.digitraffic.fi/C0150302.jpg), Resolution: 1280x720,\n",
      "Direction: Decreasing   - **Tienpinta:** [Image](https://weathercam.digitraffic.fi/C0150309.jpg),\n",
      "Resolution: 1280x720, Direction: Special  ### Station C01504 - Karkkila - **Camera Name:**\n",
      "vt2_Karkkila_Korpi - **Camera Type:** HIKVISION - **Location:** [24.235601, 60.536727] -\n",
      "**Municipality:** Karkkila - **Province:** Uusimaa - **Road Address:** Road 2, Section 13, 3818\n",
      "meters from the start - **Presets:**   - **Poriin:**\n",
      "[Image](https://weathercam.digitraffic.fi/C0150401.jpg), Resolution: 1280x720, Direction: Increasing\n",
      "- **Helsinkiin:** [Image](https://weathercam.digitraffic.fi/C0150402.jpg), Resolution: 1280x720,\n",
      "Direction: Decreasing   - **Tienpinta:** [Image](https://weathercam.digitraffic.fi/C0150409.jpg),\n",
      "Resolution: 1280x720, Direction: Special  These cameras are used for weather monitoring. Let me know\n",
      "if you need more information!\n"
     ]
    }
   ],
   "source": [
    "#| eval: false\n",
    "messages = form_msgs([\n",
    "    (\"system\", \"You are a helpful system administrator. Use the supplied tools to help the user.\"),\n",
    "    (\"user\", \"Get the weather camera information for the stations with ID C01503 and C01504.\"),\n",
    "])\n",
    "complete(messages, tools=tools)\n",
    "print_msgs(messages)"
   ]
  },
  {
   "cell_type": "markdown",
   "metadata": {},
   "source": [
    "## Dynamic functions from installed libraries"
   ]
  },
  {
   "cell_type": "markdown",
   "metadata": {},
   "source": [
    "It is possible to dynamically import a function in installed library and execute it with `importlib`."
   ]
  },
  {
   "cell_type": "code",
   "execution_count": null,
   "metadata": {},
   "outputs": [],
   "source": [
    "#| export\n",
    "from importlib import import_module\n",
    "from typing import Callable, Any\n",
    "from llmcam.fn_to_fc import tool_schema"
   ]
  },
  {
   "cell_type": "markdown",
   "metadata": {},
   "source": [
    "Utility to add functions from installed libraries to ToolBox."
   ]
  },
  {
   "cell_type": "code",
   "execution_count": null,
   "metadata": {},
   "outputs": [],
   "source": [
    "#| export\n",
    "def add_function_tools(\n",
    "    tools: list,  # List of existing tools\n",
    "    service_name: str,  # Name of the service\n",
    "    function_names: list[str],  # List of function names (with module prefix)\n",
    "):\n",
    "    \"\"\"Add function tools to the toolbox.\"\"\"\n",
    "    # Import functions\n",
    "    for function_name in function_names:\n",
    "        # Get module prefix\n",
    "        module_prefix = function_name.split(\".\")\n",
    "        if len(module_prefix) == 1:\n",
    "            module_prefix = \"builtins\"\n",
    "        else:\n",
    "            module_prefix = \".\".join(module_prefix[:-1])\n",
    "\n",
    "        # Get function name without module prefix\n",
    "        func_name = function_name.split(\".\")[-1]\n",
    "\n",
    "        # Import function\n",
    "        if module_prefix == \"builtins\":\n",
    "            func: Callable = getattr(__builtins__, func_name, None)\n",
    "        else:\n",
    "            func: Callable = getattr(import_module(module_prefix), func_name, None)\n",
    "\n",
    "        # Raise error if function not found\n",
    "        if func is None:\n",
    "            raise ValueError(f\"Function not found: {function_name}\")\n",
    "        \n",
    "        # Create tool schema and append to toolbox\n",
    "        tools.append(tool_schema(func=func, service_name=service_name))"
   ]
  },
  {
   "cell_type": "code",
   "execution_count": null,
   "metadata": {},
   "outputs": [
    {
     "data": {
      "text/markdown": [
       "---\n",
       "\n",
       "[source](https://github.com/ninjalabo/llmcam/blob/main/llmcam/store.py#L69){target=\"_blank\" style=\"float:right; font-size:smaller\"}\n",
       "\n",
       "### add_function_tools\n",
       "\n",
       ">      add_function_tools (tools:list, service_name:str,\n",
       ">                          function_names:list[str])\n",
       "\n",
       "*Add function tools to the toolbox.*\n",
       "\n",
       "|    | **Type** | **Details** |\n",
       "| -- | -------- | ----------- |\n",
       "| tools | list | List of existing tools |\n",
       "| service_name | str | Name of the service |\n",
       "| function_names | list | List of function names (with module prefix) |"
      ],
      "text/plain": [
       "---\n",
       "\n",
       "[source](https://github.com/ninjalabo/llmcam/blob/main/llmcam/store.py#L69){target=\"_blank\" style=\"float:right; font-size:smaller\"}\n",
       "\n",
       "### add_function_tools\n",
       "\n",
       ">      add_function_tools (tools:list, service_name:str,\n",
       ">                          function_names:list[str])\n",
       "\n",
       "*Add function tools to the toolbox.*\n",
       "\n",
       "|    | **Type** | **Details** |\n",
       "| -- | -------- | ----------- |\n",
       "| tools | list | List of existing tools |\n",
       "| service_name | str | Name of the service |\n",
       "| function_names | list | List of function names (with module prefix) |"
      ]
     },
     "execution_count": null,
     "metadata": {},
     "output_type": "execute_result"
    }
   ],
   "source": [
    "show_doc(add_function_tools)"
   ]
  },
  {
   "cell_type": "markdown",
   "metadata": {},
   "source": [
    "Example usage:"
   ]
  },
  {
   "cell_type": "code",
   "execution_count": null,
   "metadata": {},
   "outputs": [
    {
     "data": {
      "text/plain": [
       "[{'type': 'function',\n",
       "  'function': {'name': 'capture_youtube_live_frame_and_save',\n",
       "   'description': 'Capture a jpeg file from YouTube Live and save in data directory',\n",
       "   'parameters': {'type': 'object',\n",
       "    'properties': {'link': {'anyOf': [{'type': 'string',\n",
       "        'description': 'YouTube Live link'},\n",
       "       {'type': 'null',\n",
       "        'description': 'A default value will be automatically used.'}]},\n",
       "     'place': {'anyOf': [{'type': 'string',\n",
       "        'description': 'Location of live image'},\n",
       "       {'type': 'null',\n",
       "        'description': 'A default value will be automatically used.'}]}},\n",
       "    'required': []},\n",
       "   'metadata': {'module': 'llmcam.fn_to_fc', 'service': 'youtube_live'}}},\n",
       " {'type': 'function',\n",
       "  'function': {'name': 'ask_gpt4v_about_image_file',\n",
       "   'description': 'Tell all about quantitative information from a given image file',\n",
       "   'parameters': {'type': 'object',\n",
       "    'properties': {'path': {'type': 'string',\n",
       "      'description': 'Path to the image file'}},\n",
       "    'required': ['path']},\n",
       "   'metadata': {'module': 'llmcam.fn_to_fc', 'service': 'youtube_live'}}}]"
      ]
     },
     "execution_count": null,
     "metadata": {},
     "output_type": "execute_result"
    }
   ],
   "source": [
    "tools = []\n",
    "add_function_tools(\n",
    "    tools, \n",
    "    \"youtube_live\", \n",
    "    [\n",
    "        \"llmcam.fn_to_fc.capture_youtube_live_frame_and_save\", \n",
    "        \"llmcam.fn_to_fc.ask_gpt4v_about_image_file\"\n",
    "    ])\n",
    "assert len(tools) == 2\n",
    "tools"
   ]
  },
  {
   "cell_type": "code",
   "execution_count": null,
   "metadata": {},
   "outputs": [
    {
     "name": "stdout",
     "output_type": "stream",
     "text": [
      "[youtube] Extracting URL: https://www.youtube.com/watch?v=LMZQ7eFhm58\n",
      "[youtube] LMZQ7eFhm58: Downloading webpage\n",
      "[youtube] LMZQ7eFhm58: Downloading ios player API JSON\n",
      "[youtube] LMZQ7eFhm58: Downloading mweb player API JSON\n",
      "[youtube] LMZQ7eFhm58: Downloading m3u8 information\n",
      "[youtube] LMZQ7eFhm58: Downloading m3u8 information\n",
      "cap_2024.11.20_14:15:12_unclear.jpg\n",
      "\u001b[1m\u001b[31m>> \u001b[43m\u001b[31mSystem:\u001b[0m\n",
      "You are a helpful system administrator. Use the supplied tools to assist the user.\n",
      "\u001b[1m\u001b[31m>> \u001b[43m\u001b[32mUser:\u001b[0m\n",
      "Hi, can you capture and extract information from a YouTube Live? Use the default link.\n",
      "\u001b[1m\u001b[31m>> \u001b[43m\u001b[34mAssistant:\u001b[0m\n",
      "I've captured a frame from the YouTube Live and extracted the following information from the image:\n",
      "- **Timestamp**: November 20, 2024, at 14:07:23 - **Location**: Kauppatori - **Dimensions**: 1280 x\n",
      "720 pixels  ### Visual Details: - **Buildings**:    - Number of buildings: 8   - Height range: 3-5\n",
      "stories  - **Vehicles**:   - Number of vehicles: 8   - Available parking spaces: 5   - Vehicle\n",
      "types: Not specified  - **Water Bodies**:   - Visibility: True   - Type: Harbor   - Number of boats:\n",
      "2  - **Street Lights**:   - Number of street lights: 15  - **People**:   - Approximate number: 20  -\n",
      "**Lighting Conditions**:   - Time of day: Afternoon   - Artificial lighting: Minimal  -\n",
      "**Visibility**:   - Clear conditions: False  - **Sky Conditions**:   - Sky visibility: False   -\n",
      "Light conditions: Overcast  The image suggests a busy scene near a harbor during the afternoon, with\n",
      "a somewhat crowded atmosphere and overcast sky conditions.\n"
     ]
    }
   ],
   "source": [
    "#| eval: false\n",
    "messages = form_msgs([\n",
    "    (\"system\", \"You are a helpful system administrator. Use the supplied tools to assist the user.\"),\n",
    "    (\"user\", \"Hi, can you capture and extract information from a YouTube Live? Use the default link.\")\n",
    "])\n",
    "complete(messages, tools=tools)\n",
    "print_msgs(messages)"
   ]
  },
  {
   "cell_type": "markdown",
   "metadata": {},
   "source": [
    "## ToolBox management as FC\n",
    "\n",
    "While the base functions for adding functions and APIs as tools work for appending new functions to an existing Python list, these functions cannot be easily transformed into tools to be used for function calling because:\n",
    "\n",
    "- Changes must be made into the top-level `tools` and continue to be applied in all subsequent conversations.\n",
    "- `tools` cannot be safely interpreted as a part of message as in some cases new tool changes may exceed token limit.\n",
    "\n",
    "One solution to this is to introduce a special fix-up function is used for handlers which accesses the correct instance of `tools`. This function is to be created and attached to the `tools` instance at the moment of creation. However, this may cause issues on the application side as there might be multiple instances of `tools` being created. To combat this issue, we can have an alternative workflow involving a mapping of `session_tools` which maps each instance of `tools` with a corresponding unique ID. Paired with this mapping will be an fix-up function which extracts the tool instance and pass into core execution function."
   ]
  },
  {
   "cell_type": "code",
   "execution_count": null,
   "metadata": {},
   "outputs": [],
   "source": [
    "#| export\n",
    "\n",
    "# Additional functions\n",
    "def remove_tools(\n",
    "    tools: list,  # List of existing tools\n",
    "    service_name: str  # Name of the service\n",
    "):\n",
    "    \"\"\"Remove tools from the toolbox.\"\"\"\n",
    "    tools[:] = [tool for tool in tools if (\"service\" not in tool[\"function\"][\"metadata\"] or \\\n",
    "                                       tool[\"function\"][\"metadata\"][\"service\"] != service_name)]"
   ]
  },
  {
   "cell_type": "code",
   "execution_count": null,
   "metadata": {},
   "outputs": [],
   "source": [
    "#| export\n",
    "import importlib"
   ]
  },
  {
   "cell_type": "code",
   "execution_count": null,
   "metadata": {},
   "outputs": [],
   "source": [
    "#| export\n",
    "def execute_handler_core(\n",
    "    tools: list, # Tools for each session\n",
    "    function_name: str,  # Name of the function to execute\n",
    "    module: str,  # Module of the function\n",
    "    **kwargs  # Keyword arguments\n",
    "):\n",
    "    \"\"\"Execute the handler function by retrieving function with session ID.\"\"\"\n",
    "    # Get the function\n",
    "    module = importlib.import_module(module)\n",
    "    function = getattr(module, function_name, None)\n",
    "    if function is None:\n",
    "        raise ValueError(f\"Function not found: {function_name}\")\n",
    "    \n",
    "    if \"service\" in kwargs:\n",
    "        del kwargs[\"service\"]\n",
    "    \n",
    "    # Execute the function\n",
    "    function(tools, **kwargs)"
   ]
  },
  {
   "cell_type": "code",
   "execution_count": null,
   "metadata": {},
   "outputs": [],
   "source": [
    "#| export\n",
    "def handler_schema(\n",
    "    function: Callable,  # Handler function\n",
    "    service_name: str = \"toolbox_handler\",  # Name of the service\n",
    "    fixup: Optional[Callable] = None,  # Function to fixup function execution\n",
    "    **kwargs  # Additional keyword arguments\n",
    "):\n",
    "    \"\"\"Create a schema for handlers.\"\"\"\n",
    "    schema = tool_schema(function, service_name=service_name)\n",
    "    schema[\"function\"][\"metadata\"][\"service\"] = service_name\n",
    "\n",
    "    # Add additional metadata\n",
    "    for key, value in kwargs.items():\n",
    "        schema[\"function\"][\"metadata\"][key] = value\n",
    "\n",
    "    if fixup: schema[\"function\"]['fixup'] = f\"{fixup.__module__}.{fixup.__name__}\"\n",
    "\n",
    "    # Remove tools from parameters\n",
    "    if \"tools\" in schema[\"function\"][\"parameters\"][\"properties\"]:\n",
    "        del schema[\"function\"][\"parameters\"][\"properties\"][\"tools\"]\n",
    "        schema[\"function\"][\"parameters\"][\"required\"].remove(\"tools\")\n",
    "    \n",
    "    return schema"
   ]
  },
  {
   "cell_type": "markdown",
   "metadata": {},
   "source": [
    "Example usage:"
   ]
  },
  {
   "cell_type": "code",
   "execution_count": null,
   "metadata": {},
   "outputs": [
    {
     "data": {
      "text/plain": [
       "{'type': 'function',\n",
       " 'function': {'name': 'add_api_tools',\n",
       "  'description': 'Add API tools to the toolbox.',\n",
       "  'parameters': {'type': 'object',\n",
       "   'properties': {'service_name': {'type': 'string',\n",
       "     'description': 'Name of the API service'},\n",
       "    'base_url': {'type': 'string',\n",
       "     'description': 'Base URL of the API service'},\n",
       "    'oas_url': {'anyOf': [{'type': 'string',\n",
       "       'description': 'OpenAPI Specification URL'},\n",
       "      {'type': 'null',\n",
       "       'description': 'A default value will be automatically used.'}]},\n",
       "    'oas_destination': {'anyOf': [{'type': 'string',\n",
       "       'description': 'OpenAPI Specification destination file'},\n",
       "      {'type': 'null',\n",
       "       'description': 'A default value will be automatically used.'}]}},\n",
       "   'required': ['service_name', 'base_url']},\n",
       "  'metadata': {'module': '__main__', 'service': 'toolbox_handler'},\n",
       "  'fixup': '__main__.execute_handler'}}"
      ]
     },
     "execution_count": null,
     "metadata": {},
     "output_type": "execute_result"
    }
   ],
   "source": [
    "tools = []\n",
    "def execute_handler(function_name, **kwargs):\n",
    "    execute_handler_core(tools, function_name, **kwargs)\n",
    "\n",
    "tools.extend([handler_schema(function, service_name=\"toolbox_handler\", fixup=execute_handler) for function in [\n",
    "        add_api_tools,\n",
    "        add_function_tools,\n",
    "        remove_tools\n",
    "    ]])\n",
    "assert len(tools) == 3\n",
    "tools[0]"
   ]
  },
  {
   "cell_type": "code",
   "execution_count": null,
   "metadata": {},
   "outputs": [
    {
     "data": {
      "text/plain": [
       "{'type': 'function',\n",
       " 'function': {'name': 'tmsStationsDatex2Json',\n",
       "  'description': 'The static information of TMS stations in Datex2 format (Traffic Measurement System / LAM)',\n",
       "  'parameters': {'type': 'object',\n",
       "   'properties': {'query': {'type': 'object',\n",
       "     'properties': {'state': {'type': 'string',\n",
       "       'description': 'Road station state',\n",
       "       'default': 'ACTIVE',\n",
       "       'enum': ['ALL', 'REMOVED', 'ACTIVE']}},\n",
       "     'required': []}},\n",
       "   'required': []},\n",
       "  'metadata': {'url': 'https://tie.digitraffic.fi/api/beta/tms-stations-datex2.json',\n",
       "   'method': 'get',\n",
       "   'accepted_queries': ['state'],\n",
       "   'service': 'road_digitraffic'},\n",
       "  'fixup': 'llmcam.oas_to_requests.generate_request'}}"
      ]
     },
     "execution_count": null,
     "metadata": {},
     "output_type": "execute_result"
    }
   ],
   "source": [
    "execute_handler(\n",
    "    \"add_api_tools\",\n",
    "    module=\"__main__\",\n",
    "    service_name=\"road_digitraffic\",\n",
    "    base_url=\"https://tie.digitraffic.fi\"\n",
    ")\n",
    "assert len(tools) > 3\n",
    "tools[4]"
   ]
  },
  {
   "cell_type": "markdown",
   "metadata": {},
   "source": [
    "Simulated GPT workflow:"
   ]
  },
  {
   "cell_type": "code",
   "execution_count": null,
   "metadata": {},
   "outputs": [],
   "source": [
    "from llmcam.fn_to_fc import complete, form_msg, form_msgs, print_msgs"
   ]
  },
  {
   "cell_type": "code",
   "execution_count": null,
   "metadata": {},
   "outputs": [],
   "source": [
    "tools = []\n",
    "def execute_handler(function_name, **kwargs):\n",
    "    execute_handler_core(tools, function_name, **kwargs)\n",
    "\n",
    "tools.extend([handler_schema(function, service_name=\"toolbox_handler\", fixup=execute_handler) for function in [\n",
    "        add_api_tools,\n",
    "        add_function_tools,\n",
    "        remove_tools\n",
    "    ]])\n",
    "assert len(tools) == 3"
   ]
  },
  {
   "cell_type": "code",
   "execution_count": null,
   "metadata": {},
   "outputs": [
    {
     "name": "stdout",
     "output_type": "stream",
     "text": [
      "\u001b[1m\u001b[31m>> \u001b[43m\u001b[31mSystem:\u001b[0m\n",
      "You are a helpful system administrator. Use the supplied tools to assist the user.\n",
      "\u001b[1m\u001b[31m>> \u001b[43m\u001b[32mUser:\u001b[0m\n",
      "Add a new API service called 'road_digitraffic'. Use the base URL 'https://tie.digitraffic.fi', and\n",
      "the OpenAPI Specification URL 'https://tie.digitraffic.fi/swagger/openapi.json'.\n",
      "\u001b[1m\u001b[31m>> \u001b[43m\u001b[34mAssistant:\u001b[0m\n",
      "The new API service 'road_digitraffic' has been added successfully with the base URL\n",
      "'https://tie.digitraffic.fi' and the OpenAPI Specification URL\n",
      "'https://tie.digitraffic.fi/swagger/openapi.json'.\n"
     ]
    }
   ],
   "source": [
    "#| eval: false\n",
    "messages = form_msgs([\n",
    "    (\"system\", \"You are a helpful system administrator. Use the supplied tools to assist the user.\"),\n",
    "    (\"user\", \"Add a new API service called 'road_digitraffic'. Use the base URL 'https://tie.digitraffic.fi', and the OpenAPI Specification URL 'https://tie.digitraffic.fi/swagger/openapi.json'.\")\n",
    "])\n",
    "complete(messages, tools=tools)\n",
    "print_msgs(messages)"
   ]
  },
  {
   "cell_type": "code",
   "execution_count": null,
   "metadata": {},
   "outputs": [
    {
     "data": {
      "text/plain": [
       "64"
      ]
     },
     "execution_count": null,
     "metadata": {},
     "output_type": "execute_result"
    }
   ],
   "source": [
    "#| eval: false\n",
    "len(tools)"
   ]
  },
  {
   "cell_type": "code",
   "execution_count": null,
   "metadata": {},
   "outputs": [
    {
     "name": "stdout",
     "output_type": "stream",
     "text": [
      "\u001b[1m\u001b[31m>> \u001b[43m\u001b[31mSystem:\u001b[0m\n",
      "You are a helpful system administrator. Use the supplied tools to assist the user.\n",
      "\u001b[1m\u001b[31m>> \u001b[43m\u001b[32mUser:\u001b[0m\n",
      "Add a new API service called 'road_digitraffic'. Use the base URL 'https://tie.digitraffic.fi', and\n",
      "the OpenAPI Specification URL 'https://tie.digitraffic.fi/swagger/openapi.json'.\n",
      "\u001b[1m\u001b[31m>> \u001b[43m\u001b[34mAssistant:\u001b[0m\n",
      "The new API service 'road_digitraffic' has been added successfully with the base URL\n",
      "'https://tie.digitraffic.fi' and the OpenAPI Specification URL\n",
      "'https://tie.digitraffic.fi/swagger/openapi.json'.\n",
      "\u001b[1m\u001b[31m>> \u001b[43m\u001b[32mUser:\u001b[0m\n",
      "Get the weather camera information for the stations with ID C01503 and C01504.\n",
      "\u001b[1m\u001b[31m>> \u001b[43m\u001b[34mAssistant:\u001b[0m\n",
      "Here is the weather camera information for the stations with ID C01503 and C01504:  ### Station\n",
      "C01503 (kt51_Inkoo) - **Camera Type:** BOSCH - **Location:** Coordinates [23.99616, 60.05374] -\n",
      "**Nearest Weather Station ID:** 1013 - **Collection Status:** GATHERING - **Last Updated:**\n",
      "2024-11-21T03:25:42Z - **Collection Interval:** 600 seconds - **Road Address:** Road 51, Section 14,\n",
      "Distance from start 422 - **Municipality:** Inkoo (Municipality Code: 149) - **Province:** Uusimaa\n",
      "(Province Code: 1) - **Purpose:** Weather monitoring - **Presets:**   - **Inkooseen:**\n",
      "[Image](https://weathercam.digitraffic.fi/C0150301.jpg)   - **Hankoon:**\n",
      "[Image](https://weathercam.digitraffic.fi/C0150302.jpg)   - **Tienpinta:**\n",
      "[Image](https://weathercam.digitraffic.fi/C0150309.jpg)  ### Station C01504 (vt2_Karkkila_Korpi) -\n",
      "**Camera Type:** HIKVISION - **Location:** Coordinates [24.235601, 60.536727] - **Nearest Weather\n",
      "Station ID:** 1052 - **Collection Status:** GATHERING - **Last Updated:** 2024-11-21T03:27:02Z -\n",
      "**Collection Interval:** 600 seconds - **Road Address:** Road 2, Section 13, Distance from start\n",
      "3818 - **Municipality:** Karkkila (Municipality Code: 224) - **Province:** Uusimaa (Province Code:\n",
      "1) - **Purpose:** Weather monitoring - **Presets:**   - **Poriin:**\n",
      "[Image](https://weathercam.digitraffic.fi/C0150401.jpg)   - **Helsinkiin:**\n",
      "[Image](https://weathercam.digitraffic.fi/C0150402.jpg)   - **Tienpinta:**\n",
      "[Image](https://weathercam.digitraffic.fi/C0150409.jpg)\n"
     ]
    }
   ],
   "source": [
    "#| eval: false\n",
    "messages.append(form_msg(\"user\", \"Get the weather camera information for the stations with ID C01503 and C01504.\"))\n",
    "complete(messages, tools=tools)\n",
    "print_msgs(messages)"
   ]
  },
  {
   "cell_type": "code",
   "execution_count": null,
   "metadata": {},
   "outputs": [
    {
     "name": "stdout",
     "output_type": "stream",
     "text": [
      "\u001b[1m\u001b[31m>> \u001b[43m\u001b[31mSystem:\u001b[0m\n",
      "You are a helpful system administrator. Use the supplied tools to assist the user.\n",
      "\u001b[1m\u001b[31m>> \u001b[43m\u001b[32mUser:\u001b[0m\n",
      "Add a new API service called 'road_digitraffic'. Use the base URL 'https://tie.digitraffic.fi', and\n",
      "the OpenAPI Specification URL 'https://tie.digitraffic.fi/swagger/openapi.json'.\n",
      "\u001b[1m\u001b[31m>> \u001b[43m\u001b[34mAssistant:\u001b[0m\n",
      "The new API service 'road_digitraffic' has been added successfully with the base URL\n",
      "'https://tie.digitraffic.fi' and the OpenAPI Specification URL\n",
      "'https://tie.digitraffic.fi/swagger/openapi.json'.\n",
      "\u001b[1m\u001b[31m>> \u001b[43m\u001b[32mUser:\u001b[0m\n",
      "Get the weather camera information for the stations with ID C01503 and C01504.\n",
      "\u001b[1m\u001b[31m>> \u001b[43m\u001b[34mAssistant:\u001b[0m\n",
      "Here is the weather camera information for the stations with ID C01503 and C01504:  ### Station\n",
      "C01503 (kt51_Inkoo) - **Camera Type:** BOSCH - **Location:** Coordinates [23.99616, 60.05374] -\n",
      "**Nearest Weather Station ID:** 1013 - **Collection Status:** GATHERING - **Last Updated:**\n",
      "2024-11-21T03:25:42Z - **Collection Interval:** 600 seconds - **Road Address:** Road 51, Section 14,\n",
      "Distance from start 422 - **Municipality:** Inkoo (Municipality Code: 149) - **Province:** Uusimaa\n",
      "(Province Code: 1) - **Purpose:** Weather monitoring - **Presets:**   - **Inkooseen:**\n",
      "[Image](https://weathercam.digitraffic.fi/C0150301.jpg)   - **Hankoon:**\n",
      "[Image](https://weathercam.digitraffic.fi/C0150302.jpg)   - **Tienpinta:**\n",
      "[Image](https://weathercam.digitraffic.fi/C0150309.jpg)  ### Station C01504 (vt2_Karkkila_Korpi) -\n",
      "**Camera Type:** HIKVISION - **Location:** Coordinates [24.235601, 60.536727] - **Nearest Weather\n",
      "Station ID:** 1052 - **Collection Status:** GATHERING - **Last Updated:** 2024-11-21T03:27:02Z -\n",
      "**Collection Interval:** 600 seconds - **Road Address:** Road 2, Section 13, Distance from start\n",
      "3818 - **Municipality:** Karkkila (Municipality Code: 224) - **Province:** Uusimaa (Province Code:\n",
      "1) - **Purpose:** Weather monitoring - **Presets:**   - **Poriin:**\n",
      "[Image](https://weathercam.digitraffic.fi/C0150401.jpg)   - **Helsinkiin:**\n",
      "[Image](https://weathercam.digitraffic.fi/C0150402.jpg)   - **Tienpinta:**\n",
      "[Image](https://weathercam.digitraffic.fi/C0150409.jpg)\n",
      "\u001b[1m\u001b[31m>> \u001b[43m\u001b[32mUser:\u001b[0m\n",
      "Remove the 'road_digitraffic' service.\n",
      "\u001b[1m\u001b[31m>> \u001b[43m\u001b[34mAssistant:\u001b[0m\n",
      "The 'road_digitraffic' service has been removed successfully.\n"
     ]
    }
   ],
   "source": [
    "#| eval: false\n",
    "messages.append(form_msg(\"user\", \"Remove the 'road_digitraffic' service.\"))\n",
    "complete(messages, tools=tools)\n",
    "print_msgs(messages)"
   ]
  },
  {
   "cell_type": "code",
   "execution_count": null,
   "metadata": {},
   "outputs": [
    {
     "data": {
      "text/plain": [
       "3"
      ]
     },
     "execution_count": null,
     "metadata": {},
     "output_type": "execute_result"
    }
   ],
   "source": [
    "#| eval: false\n",
    "# After removing the 'road_digitraffic' service, the tools should only contain the initial handlers\n",
    "len(tools)"
   ]
  },
  {
   "cell_type": "code",
   "execution_count": null,
   "metadata": {},
   "outputs": [],
   "source": [
    "#| hide\n",
    "import nbdev; nbdev.nbdev_export()"
   ]
  }
 ],
 "metadata": {
  "kernelspec": {
   "display_name": "python3",
   "language": "python",
   "name": "python3"
  }
 },
 "nbformat": 4,
 "nbformat_minor": 4
}
