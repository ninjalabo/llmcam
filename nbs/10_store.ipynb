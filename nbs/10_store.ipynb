{
 "cells": [
  {
   "cell_type": "markdown",
   "metadata": {},
   "source": [
    "# Store\n",
    "\n",
    "> Module for constructing AppletStore."
   ]
  },
  {
   "cell_type": "code",
   "execution_count": null,
   "metadata": {},
   "outputs": [],
   "source": [
    "#| default_exp store"
   ]
  },
  {
   "cell_type": "code",
   "execution_count": null,
   "metadata": {},
   "outputs": [],
   "source": [
    "#| hide\n",
    "from nbdev.showdoc import *"
   ]
  },
  {
   "cell_type": "code",
   "execution_count": null,
   "metadata": {},
   "outputs": [],
   "source": [
    "#| export\n",
    "import requests\n",
    "import yaml\n",
    "import json\n",
    "import os\n",
    "\n",
    "from llmcam.oas_to_requests import *\n",
    "from llmcam.fn_to_fc import *\n",
    "from typing import Optional"
   ]
  },
  {
   "cell_type": "code",
   "execution_count": null,
   "metadata": {},
   "outputs": [],
   "source": [
    "#| export\n",
    "ToolBox = {}"
   ]
  },
  {
   "cell_type": "markdown",
   "metadata": {},
   "source": [
    "## Dynamic API installation"
   ]
  },
  {
   "cell_type": "code",
   "execution_count": null,
   "metadata": {},
   "outputs": [],
   "source": [
    "#| export\n",
    "def load_oas(\n",
    "    oas_url: str = \"https://tie.digitraffic.fi/swagger/openapi.json\",  # OpenAPI Specification URL\n",
    "    destination: str = \"api/road_digitraffic.json\",  # Destination file\n",
    "    overwrite: bool = False  # Overwrite existing file\n",
    ") -> dict:  # OpenAPI Specification\n",
    "    \"\"\"Load OpenAPI Specification from URL or file.\"\"\"\n",
    "    # Create destination directory if it does not exist\n",
    "    os.makedirs(os.path.dirname(destination), exist_ok=True)\n",
    "\n",
    "    # Download OpenAPI Specification if it does not exist or overwrite is True\n",
    "    if not os.path.exists(destination) or overwrite:\n",
    "        r = requests.get(oas_url)\n",
    "        with open(destination, \"w\") as f:\n",
    "            f.write(r.text)\n",
    "\n",
    "    # Load OpenAPI Specification\n",
    "    with open(destination, \"r\") as f:\n",
    "        if destination.endswith(\".json\"):\n",
    "            return json.load(f)\n",
    "        elif destination.endswith(\".yaml\") or destination.endswith(\".yml\"):\n",
    "            return yaml.load(f)\n",
    "        else:\n",
    "            raise ValueError(\"Invalid file format\")"
   ]
  },
  {
   "cell_type": "code",
   "execution_count": null,
   "metadata": {},
   "outputs": [
    {
     "data": {
      "text/markdown": [
       "---\n",
       "\n",
       "[source](https://github.com/ninjalabo/llmcam/blob/main/llmcam/store.py#L23){target=\"_blank\" style=\"float:right; font-size:smaller\"}\n",
       "\n",
       "### load_oas\n",
       "\n",
       ">      load_oas (oas_url:str='https://tie.digitraffic.fi/swagger/openapi.json',\n",
       ">                destination:str='api/road_digitraffic.json',\n",
       ">                overwrite:bool=False)\n",
       "\n",
       "*Load OpenAPI Specification from URL or file.*\n",
       "\n",
       "|    | **Type** | **Default** | **Details** |\n",
       "| -- | -------- | ----------- | ----------- |\n",
       "| oas_url | str | https://tie.digitraffic.fi/swagger/openapi.json | OpenAPI Specification URL |\n",
       "| destination | str | api/road_digitraffic.json | Destination file |\n",
       "| overwrite | bool | False | Overwrite existing file |\n",
       "| **Returns** | **dict** |  | **OpenAPI Specification** |"
      ],
      "text/plain": [
       "---\n",
       "\n",
       "[source](https://github.com/ninjalabo/llmcam/blob/main/llmcam/store.py#L23){target=\"_blank\" style=\"float:right; font-size:smaller\"}\n",
       "\n",
       "### load_oas\n",
       "\n",
       ">      load_oas (oas_url:str='https://tie.digitraffic.fi/swagger/openapi.json',\n",
       ">                destination:str='api/road_digitraffic.json',\n",
       ">                overwrite:bool=False)\n",
       "\n",
       "*Load OpenAPI Specification from URL or file.*\n",
       "\n",
       "|    | **Type** | **Default** | **Details** |\n",
       "| -- | -------- | ----------- | ----------- |\n",
       "| oas_url | str | https://tie.digitraffic.fi/swagger/openapi.json | OpenAPI Specification URL |\n",
       "| destination | str | api/road_digitraffic.json | Destination file |\n",
       "| overwrite | bool | False | Overwrite existing file |\n",
       "| **Returns** | **dict** |  | **OpenAPI Specification** |"
      ]
     },
     "execution_count": null,
     "metadata": {},
     "output_type": "execute_result"
    }
   ],
   "source": [
    "show_doc(load_oas)"
   ]
  },
  {
   "cell_type": "markdown",
   "metadata": {},
   "source": [
    "Usage to download three DigiTraffic endpoints"
   ]
  },
  {
   "cell_type": "code",
   "execution_count": null,
   "metadata": {},
   "outputs": [],
   "source": [
    "#| export\n",
    "road_digitraffic = load_oas(\n",
    "    oas_url=\"https://tie.digitraffic.fi/swagger/openapi.json\",\n",
    "    destination=\"api/road_digitraffic.json\",\n",
    "    overwrite=False\n",
    ")\n",
    "train_digitraffic = load_oas(\n",
    "    oas_url=\"https://rata.digitraffic.fi/swagger/openapi.json\",\n",
    "    destination=\"api/train_digitraffic.json\",\n",
    "    overwrite=False\n",
    ")\n",
    "marine_digitraffic = load_oas(\n",
    "    oas_url=\"https://meri.digitraffic.fi/swagger/openapi.json\",\n",
    "    destination=\"api/marine_digitraffic.json\",\n",
    "    overwrite=False\n",
    ")"
   ]
  },
  {
   "cell_type": "markdown",
   "metadata": {},
   "source": [
    "Test functions with GPT:"
   ]
  },
  {
   "cell_type": "code",
   "execution_count": null,
   "metadata": {},
   "outputs": [
    {
     "name": "stdout",
     "output_type": "stream",
     "text": [
      "\u001b[1m\u001b[31m>> \u001b[43m\u001b[31mSystem:\u001b[0m\n",
      "You are a helpful system administrator. Use the supplied tools to help the user.\n",
      "\u001b[1m\u001b[31m>> \u001b[43m\u001b[32mUser:\u001b[0m\n",
      "Get me information about the trains departing on 2017-11-09 with train number 1.\n",
      "\u001b[1m\u001b[31m>> \u001b[43m\u001b[34mAssistant:\u001b[0m\n",
      "Here is the information for Train Number 1 that departed on 2017-11-09:  - **Operator**: VR\n",
      "(Operator UIC Code: 10) - **Train Type**: IC (InterCity) - **Train Category**: Long-distance -\n",
      "**Commuter Line ID**: None - **Running Currently**: No - **Cancelled**: No - **Timetable Type**:\n",
      "Regular - **Timetable Acceptance Date**: July 21, 2017  ### Timetable and Stops: 1. **Helsinki\n",
      "(Station Code: HKI)**    - **Departure**: Scheduled at 05:28, Actual at 05:30:33 (3 mins delayed)\n",
      "- **Track**: 7  2. **Pasila (Station Code: PSL)**    - **Arrival**: Scheduled at 05:33, Actual at\n",
      "05:35:26 (2 mins delayed)    - **Departure**: Scheduled at 05:34, Actual at 05:37:13 (3 mins\n",
      "delayed)    - **Track**: 4  3. **Tikkurila (Station Code: TKL)**    - **Arrival**: Scheduled at\n",
      "05:43, Actual at 05:45:29 (2 mins delayed)    - **Departure**: Scheduled at 05:44, Actual at\n",
      "05:47:20 (3 mins delayed)    - **Track**: 3  4. **Lahti (Station Code: LH)**    - **Arrival**:\n",
      "Scheduled at 06:16, Actual at 06:22:39 (7 mins delayed)    - **Departure**: Scheduled at 06:18,\n",
      "Actual at 06:24:16 (6 mins delayed)    - **Track**: 1  5. **Kouvola (Station Code: KV)**    -\n",
      "**Arrival**: Scheduled at 06:45, Actual at 06:51:25 (6 mins delayed)    - **Departure**: Scheduled\n",
      "at 06:47, Actual at 06:53:37 (7 mins delayed)    - **Track**: 7  6. **Joensuu (Station Code: JNS)**\n",
      "- **Arrival**: Scheduled at 09:45, Actual at 09:52:33 (8 mins delayed)    - **Track**: 3  ### Causes\n",
      "of Delay: - A delay at Lahti due to technical reasons.  This train was part of a regular service on\n",
      "the day mentioned, and was not cancelled. If you need more specific data or have any other queries,\n",
      "feel free to ask!\n"
     ]
    }
   ],
   "source": [
    "#| eval: false\n",
    "messages = form_msgs([\n",
    "    (\"system\", \"You are a helpful system administrator. Use the supplied tools to help the user.\"),\n",
    "    (\"user\", \"Get me information about the trains departing on 2017-11-09 with train number 1.\"),\n",
    "])\n",
    "complete(messages, toolbox_schema(\"https://rata.digitraffic.fi\", train_digitraffic, fixup=generate_request))\n",
    "print_msgs(messages)"
   ]
  },
  {
   "cell_type": "code",
   "execution_count": null,
   "metadata": {},
   "outputs": [
    {
     "name": "stdout",
     "output_type": "stream",
     "text": [
      "\u001b[1m\u001b[31m>> \u001b[43m\u001b[31mSystem:\u001b[0m\n",
      "You are a helpful system administrator. Use the supplied tools to help the user.\n",
      "\u001b[1m\u001b[31m>> \u001b[43m\u001b[32mUser:\u001b[0m\n",
      "Get me information about the trains departing on 2017-11-09 with train number 1.\n",
      "\u001b[1m\u001b[31m>> \u001b[43m\u001b[34mAssistant:\u001b[0m\n",
      "Here is the information about Train No. 1 that departed on November 9, 2017:  - **Operator**: VR -\n",
      "**Train Type**: InterCity (IC) - **Train Category**: Long-distance - **Currently Running**: No -\n",
      "**Cancelled**: No - **Timetable Type**: Regular  ### Timetable Details:  1. **Helsinki (HKI)**    -\n",
      "Departure: Scheduled at 05:28, Actual: 05:30 (3 minutes late)    - Track: 7  2. **Pasila (PSL)**\n",
      "- Arrival: Scheduled at 05:33, Actual: 05:35 (2 minutes late)    - Departure: Scheduled at 05:34,\n",
      "Actual: 05:37 (3 minutes late)    - Track: 4  3. **Tikkurila (TKL)**    - Arrival: Scheduled at\n",
      "05:43, Actual: 05:45 (2 minutes late)    - Departure: Scheduled at 05:44, Actual: 05:47 (3 minutes\n",
      "late)    - Track: 3  4. **Lahti (LH)**    - Arrival: Scheduled at 06:16, Actual: 06:22 (7 minutes\n",
      "late)    - Departure: Scheduled at 06:18, Actual: 06:24 (6 minutes late)    - Track: 1  5. **Kouvola\n",
      "(KV)**    - Arrival: Scheduled at 06:45, Actual: 06:51 (6 minutes late)    - Departure: Scheduled at\n",
      "06:47, Actual: 06:53 (7 minutes late)    - Track: 7  6. **Joensuu (JNS)**    - Arrival: Scheduled at\n",
      "09:45, Actual: 09:52 (8 minutes late)    - Track: 3  The train experienced delays primarily due to\n",
      "logistics and technical issues. It had several intermediate stops where it did not halt\n",
      "commercially, but these are the main commercial stops for the route.\n"
     ]
    }
   ],
   "source": [
    "#| eval: false\n",
    "messages = form_msgs([\n",
    "    (\"system\", \"You are a helpful system administrator. Use the supplied tools to help the user.\"),\n",
    "    (\"user\", \"Get me information about the trains departing on 2017-11-09 with train number 1.\")\n",
    "])\n",
    "complete(messages, toolbox_schema(\"https://rata.digitraffic.fi\", train_digitraffic, fixup=generate_request))\n",
    "print_msgs(messages)"
   ]
  },
  {
   "cell_type": "code",
   "execution_count": null,
   "metadata": {},
   "outputs": [
    {
     "name": "stdout",
     "output_type": "stream",
     "text": [
      "\u001b[1m\u001b[31m>> \u001b[43m\u001b[31mSystem:\u001b[0m\n",
      "You are a helpful system administrator. Use the supplied tools to help the user.\n",
      "\u001b[1m\u001b[31m>> \u001b[43m\u001b[32mUser:\u001b[0m\n",
      "Are there any active nautical warnings?\n",
      "\u001b[1m\u001b[31m>> \u001b[43m\u001b[34mAssistant:\u001b[0m\n",
      "Yes, there are currently several active nautical warnings. Here are a few of them:  1. **HESSUND\n",
      "FAIRWAY:**    - **Warning Number:** 306    - **Type:** Navigational Warnings for Yachtsmen    -\n",
      "**Location:** Archipelago Sea    - **Contents:** The fairway is closed for traffic from November 20,\n",
      "2024, to April 30, 2025, due to bridge construction work.  2. **ARCHIPELAGO SEA, GULF OF FINLAND,\n",
      "NORTHERN BALTIC:**    - **Warning Number:** 305    - **Type:** Coastal Warning    - **Contents:**\n",
      "Military exercise \"Freezing Winds\" in progress from November 15 to November 29, 2024. Vessels are\n",
      "advised to navigate with caution.  3. **BAY OF BOTHNIA - LOHTAJA:**    - **Warning Number:** 304\n",
      "- **Type:** Coastal Warning    - **Contents:** Military firing exercises from November 13 to\n",
      "November 16, 2024, in the sea area between Kokkola and Raahe. Traffic can be restricted at times.\n",
      "4. **GULF OF FINLAND - PORVOO LIGHTHOUSE:**    - **Warning Number:** 302    - **Type:** Coastal\n",
      "Warning    - **Location:** Sköldvik 15.3m Fairway    - **Contents:** Lighthouse Porvoo NR 294, Racon\n",
      "and light out of order.  5. **ARCHIPELAGO SEA - PADVAGRUNDET:**    - **Warning Number:** 295    -\n",
      "**Type:** Local Warning    - **Contents:** Sector light out of order.  Please exercise caution and\n",
      "follow any specific instructions mentioned.\n"
     ]
    }
   ],
   "source": [
    "#| eval: false\n",
    "messages = form_msgs([\n",
    "    (\"system\", \"You are a helpful system administrator. Use the supplied tools to help the user.\"),\n",
    "    (\"user\", \"Are there any active nautical warnings?\")\n",
    "])\n",
    "complete(messages, toolbox_schema(\"https://meri.digitraffic.fi\", marine_digitraffic, fixup=generate_request))\n",
    "print_msgs(messages)"
   ]
  },
  {
   "cell_type": "code",
   "execution_count": null,
   "metadata": {},
   "outputs": [],
   "source": [
    "#| export\n",
    "def add_api_tools(\n",
    "    service_name: str,  # Name of the API service\n",
    "    base_url: str,  # Base URL of the API service\n",
    "    oas_url: Optional[str] = None,  # OpenAPI Specification URL\n",
    "    oas_destination: Optional[str] = None # OpenAPI Specification destination file\n",
    "):\n",
    "    \"\"\"Add API tools to the toolbox.\"\"\"\n",
    "    # Load OpenAPI Specification\n",
    "    if oas_url is None:\n",
    "        oas_url = f\"{base_url}/swagger/openapi.json\"\n",
    "    if oas_destination is None:\n",
    "        oas_destination = f\"api/{service_name}.json\"\n",
    "    oas = load_oas(oas_url, oas_destination, overwrite=True)\n",
    "\n",
    "    # Create tool schema and append to toolbox\n",
    "    global ToolBox\n",
    "    ToolBox[service_name] = toolbox_schema(base_url, oas, fixup=generate_request)"
   ]
  },
  {
   "cell_type": "code",
   "execution_count": null,
   "metadata": {},
   "outputs": [
    {
     "data": {
      "text/markdown": [
       "---\n",
       "\n",
       "[source](https://github.com/ninjalabo/llmcam/blob/main/llmcam/store.py#L65){target=\"_blank\" style=\"float:right; font-size:smaller\"}\n",
       "\n",
       "### add_api_tools\n",
       "\n",
       ">      add_api_tools (service_name:str, base_url:str,\n",
       ">                     oas_url:Optional[str]=None,\n",
       ">                     oas_destination:Optional[str]=None, fixup:Callable=None)\n",
       "\n",
       "*Add API tools to the toolbox.*\n",
       "\n",
       "|    | **Type** | **Default** | **Details** |\n",
       "| -- | -------- | ----------- | ----------- |\n",
       "| service_name | str |  | Name of the API service |\n",
       "| base_url | str |  | Base URL of the API service |\n",
       "| oas_url | Optional | None | OpenAPI Specification URL |\n",
       "| oas_destination | Optional | None | OpenAPI Specification destination file |\n",
       "| fixup | Callable | None | a fixup function to execute a REST API when a function name isn't found. |"
      ],
      "text/plain": [
       "---\n",
       "\n",
       "[source](https://github.com/ninjalabo/llmcam/blob/main/llmcam/store.py#L65){target=\"_blank\" style=\"float:right; font-size:smaller\"}\n",
       "\n",
       "### add_api_tools\n",
       "\n",
       ">      add_api_tools (service_name:str, base_url:str,\n",
       ">                     oas_url:Optional[str]=None,\n",
       ">                     oas_destination:Optional[str]=None, fixup:Callable=None)\n",
       "\n",
       "*Add API tools to the toolbox.*\n",
       "\n",
       "|    | **Type** | **Default** | **Details** |\n",
       "| -- | -------- | ----------- | ----------- |\n",
       "| service_name | str |  | Name of the API service |\n",
       "| base_url | str |  | Base URL of the API service |\n",
       "| oas_url | Optional | None | OpenAPI Specification URL |\n",
       "| oas_destination | Optional | None | OpenAPI Specification destination file |\n",
       "| fixup | Callable | None | a fixup function to execute a REST API when a function name isn't found. |"
      ]
     },
     "execution_count": null,
     "metadata": {},
     "output_type": "execute_result"
    }
   ],
   "source": [
    "show_doc(add_api_tools)"
   ]
  },
  {
   "cell_type": "markdown",
   "metadata": {},
   "source": [
    "## Dynamic functions from installed libraries"
   ]
  },
  {
   "cell_type": "markdown",
   "metadata": {},
   "source": [
    "It is possible to dynamically import a function in installed library and execute it with `importlib`."
   ]
  },
  {
   "cell_type": "code",
   "execution_count": null,
   "metadata": {},
   "outputs": [],
   "source": [
    "#| export\n",
    "from importlib import import_module\n",
    "from typing import Callable, Any"
   ]
  },
  {
   "cell_type": "code",
   "execution_count": null,
   "metadata": {},
   "outputs": [],
   "source": [
    "import json\n",
    "from pathlib import Path"
   ]
  },
  {
   "cell_type": "code",
   "execution_count": null,
   "metadata": {},
   "outputs": [
    {
     "data": {
      "text/plain": [
       "<function llmcam.fn_to_fc.ask_gpt4v_about_image_file(path: str) -> str>"
      ]
     },
     "execution_count": null,
     "metadata": {},
     "output_type": "execute_result"
    }
   ],
   "source": [
    "func: Callable = getattr(import_module(\"llmcam.fn_to_fc\"), \"ask_gpt4v_about_image_file\", None)\n",
    "func"
   ]
  },
  {
   "cell_type": "code",
   "execution_count": null,
   "metadata": {},
   "outputs": [],
   "source": [
    "#| eval: false\n",
    "def datadir(): return (Path('.') if os.path.isdir('data') else Path('..'))/'data' #FIXME: introduce LLMHOME and/or LLMDATA"
   ]
  },
  {
   "cell_type": "code",
   "execution_count": null,
   "metadata": {},
   "outputs": [
    {
     "data": {
      "text/plain": [
       "{'timestamp': '2024-09-28T15:59:06',\n",
       " 'location': 'Unknown',\n",
       " 'dimensions': {'width': 1280, 'height': 720},\n",
       " 'buildings': {'number_of_buildings': 10,\n",
       "  'building_height_range': '3-5 stories'},\n",
       " 'vehicles': {'number_of_vehicles': 20,\n",
       "  'number_of_available_parking_space': 5},\n",
       " 'waterbodies': {'visible': True, 'type': 'harbor', 'number_of_boats': 12},\n",
       " 'street_lights': {'number_of_street_lights': 10},\n",
       " 'people': {'approximate_number': 30},\n",
       " 'lighting': {'time_of_day': 'afternoon', 'artificial_lighting': 'minimal'},\n",
       " 'visibility': {'clear': True},\n",
       " 'sky': {'visible': True, 'light_conditions': 'daylight'}}"
      ]
     },
     "execution_count": null,
     "metadata": {},
     "output_type": "execute_result"
    }
   ],
   "source": [
    "#| eval: false\n",
    "json.loads(func(datadir()/\"cap_2024.09.28_15:59:06_Presidentinlinna.jpg\"))"
   ]
  },
  {
   "cell_type": "markdown",
   "metadata": {},
   "source": [
    "Auxiliary function to dynamically import and execute functions as defined in tools:"
   ]
  },
  {
   "cell_type": "code",
   "execution_count": null,
   "metadata": {},
   "outputs": [],
   "source": [
    "#| export\n",
    "def execute_function(\n",
    "    function_name: str,  # Name of the function\n",
    "    tools: list = [],  # The toolbox schema\n",
    "    **kwargs  # Keyword arguments\n",
    ") -> Any:  # Function output\n",
    "    \"\"\"Execute function with specified name.\"\"\"\n",
    "    # Get function from toolbox\n",
    "    for tool in tools:\n",
    "        if tool[\"function\"][\"name\"] == function_name:\n",
    "            module = tool[\"function\"][\"parameters\"][\"properties\"][\"module\"][\"default\"]\n",
    "\n",
    "    # Import module and get function\n",
    "    if module is None:\n",
    "        raise ValueError(\"Module not found\")\n",
    "    if module == \"builtins\":\n",
    "        func: Callable = getattr(__builtins__, function_name, None)\n",
    "    else:\n",
    "        func: Callable = getattr(import_module(module), function_name, None)\n",
    "    \n",
    "    # Execute function\n",
    "    if func is None:\n",
    "        raise ValueError(\"Function not found\")\n",
    "    return func(**kwargs)"
   ]
  },
  {
   "cell_type": "markdown",
   "metadata": {},
   "source": [
    "Usage with existing function:"
   ]
  },
  {
   "cell_type": "code",
   "execution_count": null,
   "metadata": {},
   "outputs": [
    {
     "data": {
      "text/plain": [
       "{'timestamp': '2024-09-28T15:59:06',\n",
       " 'dimensions': {'width': 1280, 'height': 720},\n",
       " 'buildings': {'number_of_buildings': 10,\n",
       "  'building_height_range': '3-5 stories'},\n",
       " 'vehicles': {'number_of_vehicles': 20,\n",
       "  'number_of_available_parking_space': 5},\n",
       " 'waterbodies': {'visible': True, 'type': 'harbor', 'number_of_boats': 10},\n",
       " 'street_lights': {'number_of_street_lights': 15},\n",
       " 'people': {'approximate_number': 30},\n",
       " 'lighting': {'time_of_day': 'afternoon', 'artificial_lighting': 'minimal'},\n",
       " 'visibility': {'clear': True},\n",
       " 'sky': {'visible': False, 'light_conditions': 'daytime'}}"
      ]
     },
     "execution_count": null,
     "metadata": {},
     "output_type": "execute_result"
    }
   ],
   "source": [
    "#| eval: false\n",
    "json.loads(execute_function(\n",
    "    \"ask_gpt4v_about_image_file\", \n",
    "    tools=[tool_schema(func)], \n",
    "    path=datadir()/\"cap_2024.09.28_15:59:06_Presidentinlinna.jpg\"\n",
    "))"
   ]
  },
  {
   "cell_type": "markdown",
   "metadata": {},
   "source": [
    "Utility to add functions from installed libraries to ToolBox."
   ]
  },
  {
   "cell_type": "code",
   "execution_count": null,
   "metadata": {},
   "outputs": [],
   "source": [
    "#| export\n",
    "def add_function_tools(\n",
    "    service_name: str,  # Name of the service\n",
    "    function_names: list[str],  # List of function names (with module prefix)\n",
    "):\n",
    "    \"\"\"Add function tools to the toolbox.\"\"\"\n",
    "    # Initialize tools\n",
    "    tools = []\n",
    "\n",
    "    # Import functions\n",
    "    for function_name in function_names:\n",
    "        # Get module prefix\n",
    "        module_prefix = function_name.split(\".\")\n",
    "        if len(module_prefix) == 1:\n",
    "            module_prefix = \"builtins\"\n",
    "        else:\n",
    "            module_prefix = \".\".join(module_prefix[:-1])\n",
    "\n",
    "        # Get function name without module prefix\n",
    "        func_name = function_name.split(\".\")[-1]\n",
    "\n",
    "        # Import function\n",
    "        if module_prefix == \"builtins\":\n",
    "            func: Callable = getattr(__builtins__, func_name, None)\n",
    "        else:\n",
    "            func: Callable = getattr(import_module(module_prefix), func_name, None)\n",
    "\n",
    "        # Raise error if function not found\n",
    "        if func is None:\n",
    "            raise ValueError(f\"Function not found: {function_name}\")\n",
    "        \n",
    "        # Create tool schema\n",
    "        tools.append(tool_schema(func))\n",
    "\n",
    "    # Append tools to toolbox\n",
    "    global ToolBox\n",
    "    for function_name in function_names:\n",
    "        ToolBox[service_name] = tools"
   ]
  },
  {
   "cell_type": "code",
   "execution_count": null,
   "metadata": {},
   "outputs": [
    {
     "data": {
      "text/markdown": [
       "---\n",
       "\n",
       "[source](https://github.com/ninjalabo/llmcam/blob/main/llmcam/store.py#L114){target=\"_blank\" style=\"float:right; font-size:smaller\"}\n",
       "\n",
       "### add_function_tools\n",
       "\n",
       ">      add_function_tools (service_name:str, function_names:list[str])\n",
       "\n",
       "*Add function tools to the toolbox.*\n",
       "\n",
       "|    | **Type** | **Details** |\n",
       "| -- | -------- | ----------- |\n",
       "| service_name | str | Name of the service |\n",
       "| function_names | list | List of function names (with module prefix) |"
      ],
      "text/plain": [
       "---\n",
       "\n",
       "[source](https://github.com/ninjalabo/llmcam/blob/main/llmcam/store.py#L114){target=\"_blank\" style=\"float:right; font-size:smaller\"}\n",
       "\n",
       "### add_function_tools\n",
       "\n",
       ">      add_function_tools (service_name:str, function_names:list[str])\n",
       "\n",
       "*Add function tools to the toolbox.*\n",
       "\n",
       "|    | **Type** | **Details** |\n",
       "| -- | -------- | ----------- |\n",
       "| service_name | str | Name of the service |\n",
       "| function_names | list | List of function names (with module prefix) |"
      ]
     },
     "execution_count": null,
     "metadata": {},
     "output_type": "execute_result"
    }
   ],
   "source": [
    "show_doc(add_function_tools)"
   ]
  },
  {
   "cell_type": "markdown",
   "metadata": {},
   "source": [
    "## ToolBox management\n",
    "\n",
    "From the previous sections, we have implemented the utilities to add tools from API and functions. In this section, we can implement more utilities to manage the ToolBox, including:  \n",
    "\n",
    "- Remove or Clean toolbox\n",
    "- Save and load toolbox from `.json` file\n",
    "- Select services and form usable tools "
   ]
  },
  {
   "cell_type": "code",
   "execution_count": null,
   "metadata": {},
   "outputs": [],
   "source": [
    "#| export\n",
    "def remove_service(service_name: str):\n",
    "    \"\"\"Remove service from toolbox.\"\"\"\n",
    "    global ToolBox\n",
    "    if service_name in ToolBox:\n",
    "        del ToolBox[service_name]\n",
    "\n",
    "#| export\n",
    "def clean_toolbox():\n",
    "    \"\"\"Remove all services from toolbox.\"\"\"\n",
    "    global ToolBox\n",
    "    ToolBox = {}"
   ]
  },
  {
   "cell_type": "code",
   "execution_count": null,
   "metadata": {},
   "outputs": [],
   "source": [
    "#| export\n",
    "def save_toolbox(destination: str = \"toolbox.json\"):\n",
    "    \"\"\"Save toolbox to file.\"\"\"\n",
    "    with open(destination, \"w\") as f:\n",
    "        json.dump(ToolBox, f)\n",
    "    \n",
    "#| export\n",
    "def load_toolbox(destination: str = \"toolbox.json\"):\n",
    "    \"\"\"Load toolbox from file.\"\"\"\n",
    "    global ToolBox\n",
    "    with open(destination, \"r\") as f:\n",
    "        ToolBox = json.load(f)"
   ]
  },
  {
   "cell_type": "code",
   "execution_count": null,
   "metadata": {},
   "outputs": [],
   "source": [
    "#| export\n",
    "def extract_tools_from_services(\n",
    "    services: list[str] = []  # List of service names\n",
    ") -> list:  # List of tools\n",
    "    \"\"\"Extract tools from services.\"\"\"\n",
    "    # Initialize tools\n",
    "    tools = []\n",
    "\n",
    "    # Extract tools from services\n",
    "    global ToolBox\n",
    "    for service in services:\n",
    "        if service in ToolBox:\n",
    "            tools.extend(ToolBox[service])\n",
    "\n",
    "    # Raise error if no tools found\n",
    "    if len(tools) == 0:\n",
    "        raise ValueError(\"No tools found\")\n",
    "    \n",
    "    # Raise error if too many tools\n",
    "    if len(tools) > 128:\n",
    "        raise ValueError(\"Too many tools for using GPT-4. Maximum number of tools is 128.\")\n",
    "\n",
    "    # Return tools\n",
    "    return tools"
   ]
  },
  {
   "cell_type": "code",
   "execution_count": null,
   "metadata": {},
   "outputs": [
    {
     "data": {
      "text/markdown": [
       "---\n",
       "\n",
       "[source](https://github.com/ninjalabo/llmcam/blob/main/llmcam/store.py#L179){target=\"_blank\" style=\"float:right; font-size:smaller\"}\n",
       "\n",
       "### extract_tools_from_services\n",
       "\n",
       ">      extract_tools_from_services (services:list[str]=[])\n",
       "\n",
       "*Extract tools from services.*\n",
       "\n",
       "|    | **Type** | **Default** | **Details** |\n",
       "| -- | -------- | ----------- | ----------- |\n",
       "| services | list | [] | List of service names |\n",
       "| **Returns** | **list** |  | **List of tools** |"
      ],
      "text/plain": [
       "---\n",
       "\n",
       "[source](https://github.com/ninjalabo/llmcam/blob/main/llmcam/store.py#L179){target=\"_blank\" style=\"float:right; font-size:smaller\"}\n",
       "\n",
       "### extract_tools_from_services\n",
       "\n",
       ">      extract_tools_from_services (services:list[str]=[])\n",
       "\n",
       "*Extract tools from services.*\n",
       "\n",
       "|    | **Type** | **Default** | **Details** |\n",
       "| -- | -------- | ----------- | ----------- |\n",
       "| services | list | [] | List of service names |\n",
       "| **Returns** | **list** |  | **List of tools** |"
      ]
     },
     "execution_count": null,
     "metadata": {},
     "output_type": "execute_result"
    }
   ],
   "source": [
    "show_doc(extract_tools_from_services)"
   ]
  },
  {
   "cell_type": "markdown",
   "metadata": {},
   "source": [
    "For our demo, we can add some default services from DigiTraffic and our existing `llmcam` module:"
   ]
  },
  {
   "cell_type": "code",
   "execution_count": null,
   "metadata": {},
   "outputs": [],
   "source": [
    "#| export\n",
    "add_api_tools(\n",
    "    service_name=\"road_digitraffic\",\n",
    "    base_url=\"https://tie.digitraffic.fi\",\n",
    "    oas_url=\"https://tie.digitraffic.fi/swagger/openapi.json\",\n",
    "    oas_destination=\"api/road_digitraffic.json\"\n",
    ")"
   ]
  },
  {
   "cell_type": "code",
   "execution_count": null,
   "metadata": {},
   "outputs": [],
   "source": [
    "#| export\n",
    "add_api_tools(\n",
    "    service_name=\"train_digitraffic\",\n",
    "    base_url=\"https://rata.digitraffic.fi\",\n",
    "    oas_url=\"https://rata.digitraffic.fi/swagger/openapi.json\",\n",
    "    oas_destination=\"api/train_digitraffic.json\"\n",
    ")"
   ]
  },
  {
   "cell_type": "code",
   "execution_count": null,
   "metadata": {},
   "outputs": [],
   "source": [
    "add_api_tools(\n",
    "    service_name=\"marine_digitraffic\",\n",
    "    base_url=\"https://meri.digitraffic.fi\",\n",
    "    oas_url=\"https://meri.digitraffic.fi/swagger/openapi.json\",\n",
    "    oas_destination=\"api/marine_digitraffic.json\"\n",
    ")"
   ]
  },
  {
   "cell_type": "code",
   "execution_count": null,
   "metadata": {},
   "outputs": [],
   "source": [
    "#| export\n",
    "add_function_tools(\n",
    "    service_name=\"ytube_live\",\n",
    "    function_names=[\n",
    "        \"llmcam.fn_to_fc.capture_youtube_live_frame_and_save\",\n",
    "        \"llmcam.fn_to_fc.ask_gpt4v_about_image_file\"\n",
    "    ]\n",
    ")"
   ]
  },
  {
   "cell_type": "markdown",
   "metadata": {},
   "source": [
    "However, if we have both tools stemming from functions and API requests, we can benefit from an auxiliary function to redirect the calls into sub-auxiliary functions:"
   ]
  },
  {
   "cell_type": "code",
   "execution_count": null,
   "metadata": {},
   "outputs": [],
   "source": [
    "#| export\n",
    "def redirect_tool_calls(\n",
    "    function_name: str,  # Name of the function\n",
    "    tools: list = [],  # List of tools\n",
    "    **kwargs  # Keyword arguments\n",
    "):\n",
    "    \"\"\"Redirect tool calls to the appropriate function.\"\"\"\n",
    "    for tool in tools:\n",
    "        if tool[\"function\"][\"name\"] == function_name:\n",
    "            if \"module\" in tool[\"function\"][\"parameters\"][\"properties\"]:\n",
    "                return execute_function(\n",
    "                    function_name=function_name, \n",
    "                    tools=tools, \n",
    "                    **kwargs)\n",
    "            \n",
    "            elif \"url\" in tool[\"function\"][\"parameters\"][\"properties\"]:\n",
    "                return generate_request(\n",
    "                    function_name=function_name, \n",
    "                    tools=tools, \n",
    "                    **kwargs)\n",
    "    \n",
    "    raise ValueError(\"Function not found\")"
   ]
  },
  {
   "cell_type": "code",
   "execution_count": null,
   "metadata": {},
   "outputs": [
    {
     "data": {
      "text/markdown": [
       "---\n",
       "\n",
       "[source](https://github.com/ninjalabo/llmcam/blob/main/llmcam/store.py#L231){target=\"_blank\" style=\"float:right; font-size:smaller\"}\n",
       "\n",
       "### redirect_tool_calls\n",
       "\n",
       ">      redirect_tool_calls (function_name:str, tools:list=[], **kwargs)\n",
       "\n",
       "*Redirect tool calls to the appropriate function.*\n",
       "\n",
       "|    | **Type** | **Default** | **Details** |\n",
       "| -- | -------- | ----------- | ----------- |\n",
       "| function_name | str |  | Name of the function |\n",
       "| tools | list | [] | List of tools |\n",
       "| kwargs |  |  |  |"
      ],
      "text/plain": [
       "---\n",
       "\n",
       "[source](https://github.com/ninjalabo/llmcam/blob/main/llmcam/store.py#L231){target=\"_blank\" style=\"float:right; font-size:smaller\"}\n",
       "\n",
       "### redirect_tool_calls\n",
       "\n",
       ">      redirect_tool_calls (function_name:str, tools:list=[], **kwargs)\n",
       "\n",
       "*Redirect tool calls to the appropriate function.*\n",
       "\n",
       "|    | **Type** | **Default** | **Details** |\n",
       "| -- | -------- | ----------- | ----------- |\n",
       "| function_name | str |  | Name of the function |\n",
       "| tools | list | [] | List of tools |\n",
       "| kwargs |  |  |  |"
      ]
     },
     "execution_count": null,
     "metadata": {},
     "output_type": "execute_result"
    }
   ],
   "source": [
    "show_doc(redirect_tool_calls)"
   ]
  },
  {
   "cell_type": "markdown",
   "metadata": {},
   "source": [
    "Test integrating with a GPT chatbot that has both Road API from DigiTraffic and Youtube Live functions."
   ]
  },
  {
   "cell_type": "code",
   "execution_count": null,
   "metadata": {},
   "outputs": [],
   "source": [
    "tools = extract_tools_from_services([\"ytube_live\", \"road_digitraffic\"])"
   ]
  },
  {
   "cell_type": "code",
   "execution_count": null,
   "metadata": {},
   "outputs": [
    {
     "name": "stdout",
     "output_type": "stream",
     "text": [
      "\u001b[1m\u001b[31m>> \u001b[43m\u001b[31mSystem:\u001b[0m\n",
      "You are a helpful system administrator. Use the supplied tools to help the user.\n",
      "\u001b[1m\u001b[31m>> \u001b[43m\u001b[32mUser:\u001b[0m\n",
      "Get the weather camera information for the stations with ID C01503 and C01504.\n",
      "\u001b[1m\u001b[31m>> \u001b[43m\u001b[34mAssistant:\u001b[0m\n",
      "Here is the weather camera information for the stations with IDs **C01503** and **C01504**:  ###\n",
      "Station C01503 (Road 51 Inkoo)  - **Name:** Tie 51 Inkoo - **Camera Type:** BOSCH - **Coordinates:**\n",
      "[23.99616, 60.05374] - **Nearest Weather Station ID:** 1013 - **Collection Status:** GATHERING -\n",
      "**Collection Interval:** 600 seconds - **Location:** Inkoo, Uusimaa - **Start Time:** 2001-08-01\n",
      "**Presets:** 1. **Inkooseen**    - **Resolution:** 1280x720    - **Direction:** INCREASING_DIRECTION\n",
      "- ![Image](https://weathercam.digitraffic.fi/C0150301.jpg) 2. **Hankoon**    - **Resolution:**\n",
      "1280x720    - **Direction:** DECREASING_DIRECTION    -\n",
      "![Image](https://weathercam.digitraffic.fi/C0150302.jpg) 3. **Tienpinta**    - **Resolution:**\n",
      "1280x720    - **Direction:** SPECIAL_DIRECTION    -\n",
      "![Image](https://weathercam.digitraffic.fi/C0150309.jpg)  ### Station C01504 (Road 2 Karkkila,\n",
      "Kappeli)  - **Name:** Tie 2 Karkkila, Kappeli - **Camera Type:** HIKVISION - **Coordinates:**\n",
      "[24.235601, 60.536727] - **Nearest Weather Station ID:** 1052 - **Collection Status:** GATHERING -\n",
      "**Collection Interval:** 600 seconds - **Location:** Karkkila, Uusimaa - **Start Time:** 1995-06-01\n",
      "**Presets:** 1. **Poriin**    - **Resolution:** 1280x720    - **Direction:** INCREASING_DIRECTION\n",
      "- ![Image](https://weathercam.digitraffic.fi/C0150401.jpg) 2. **Helsinkiin**    - **Resolution:**\n",
      "1280x720    - **Direction:** DECREASING_DIRECTION    -\n",
      "![Image](https://weathercam.digitraffic.fi/C0150402.jpg) 3. **Tienpinta**    - **Resolution:**\n",
      "1280x720    - **Direction:** SPECIAL_DIRECTION    -\n",
      "![Image](https://weathercam.digitraffic.fi/C0150409.jpg)  Feel free to ask if you need any more\n",
      "information!\n"
     ]
    }
   ],
   "source": [
    "#| eval: false\n",
    "messages = form_msgs([\n",
    "    (\"system\", \"You are a helpful system administrator. Use the supplied tools to help the user.\"),\n",
    "    (\"user\", \"Get the weather camera information for the stations with ID C01503 and C01504.\"),\n",
    "])\n",
    "complete(messages, tools)\n",
    "print_msgs(messages)"
   ]
  },
  {
   "cell_type": "code",
   "execution_count": null,
   "metadata": {},
   "outputs": [
    {
     "name": "stdout",
     "output_type": "stream",
     "text": [
      "[youtube] Extracting URL: https://www.youtube.com/watch?v=LMZQ7eFhm58\n",
      "[youtube] LMZQ7eFhm58: Downloading webpage\n",
      "[youtube] LMZQ7eFhm58: Downloading ios player API JSON\n",
      "[youtube] LMZQ7eFhm58: Downloading web creator player API JSON\n",
      "[youtube] LMZQ7eFhm58: Downloading m3u8 information\n",
      "PRPC eRe ECM ERE ot Elm\n",
      "cap_2024.11.16_13:35:35_unclear.jpg\n",
      "\u001b[1m\u001b[31m>> \u001b[43m\u001b[31mSystem:\u001b[0m\n",
      "You are a helpful system administrator. Use the supplied tools to help the user.\n",
      "\u001b[1m\u001b[31m>> \u001b[43m\u001b[32mUser:\u001b[0m\n",
      "Can you capture a YouTube Live and extract information from it? You can use the default link.\n",
      "\u001b[1m\u001b[31m>> \u001b[43m\u001b[34mAssistant:\u001b[0m\n",
      "I've captured a frame from the YouTube Live video and extracted the following details:  -\n",
      "**Timestamp:** 16th November 2024, 13:28 - **Location:** Valkosaari - **Dimensions:** 1280 x 720\n",
      "### Scene Analysis: - **Buildings:**    - Number: 3   - Height Range: 2-3 stories - **Vehicles:**\n",
      "- Number: 0 - **Parking Space:**    - Available: 0 - **Water Bodies:**    - Visible: Yes   - Type:\n",
      "Harbor   - Number of Boats: 2 - **Street Lights:**    - Number: 0 - **People:**    - Approximate\n",
      "Number: 0 - **Lighting:**    - Time of Day: Afternoon   - Artificial Lighting: None -\n",
      "**Visibility:** Clear - **Sky Conditions:** Cloudy  If you need any more specific information or\n",
      "analysis, feel free to ask!\n"
     ]
    }
   ],
   "source": [
    "#| eval: false\n",
    "messages = form_msgs([\n",
    "    (\"system\", \"You are a helpful system administrator. Use the supplied tools to help the user.\"),\n",
    "    (\"user\", \"Can you capture a YouTube Live and extract information from it? You can use the default link.\"),\n",
    "])\n",
    "complete(messages, tools)\n",
    "print_msgs(messages)"
   ]
  },
  {
   "cell_type": "code",
   "execution_count": null,
   "metadata": {},
   "outputs": [],
   "source": [
    "#| hide\n",
    "import nbdev; nbdev.nbdev_export()"
   ]
  }
 ],
 "metadata": {
  "kernelspec": {
   "display_name": "python3",
   "language": "python",
   "name": "python3"
  }
 },
 "nbformat": 4,
 "nbformat_minor": 4
}
