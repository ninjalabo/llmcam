{
 "cells": [
  {
   "cell_type": "markdown",
   "id": "c4d8c4c4-0bc0-488b-a1a4-edd3c47481f6",
   "metadata": {},
   "source": [
    "# OAS->requests"
   ]
  },
  {
   "cell_type": "code",
   "execution_count": 1,
   "id": "6e8257ad-690a-4ec4-93d4-c78dc561401f",
   "metadata": {},
   "outputs": [],
   "source": [
    "#| default_exp oas_to_requests"
   ]
  },
  {
   "cell_type": "code",
   "execution_count": 2,
   "id": "433e912d-60a9-4e23-a9d5-35f78140cbac",
   "metadata": {},
   "outputs": [],
   "source": [
    "#| hide\n",
    "from nbdev.showdoc import *"
   ]
  },
  {
   "cell_type": "code",
   "execution_count": 3,
   "id": "51b7918e-55d3-4bfa-a5fb-05f9513b989a",
   "metadata": {},
   "outputs": [],
   "source": [
    "#| export\n",
    "import requests\n",
    "from openapi_schema_pydantic import OpenAPI\n",
    "import json\n",
    "import yaml"
   ]
  },
  {
   "cell_type": "code",
   "execution_count": 4,
   "id": "cae87b54-e280-4d2b-a07a-20b0ff358c9f",
   "metadata": {},
   "outputs": [],
   "source": [
    "#!wget https://petstore3.swagger.io/api/v3/openapi.json"
   ]
  },
  {
   "cell_type": "code",
   "execution_count": 5,
   "id": "db56306b-1233-491c-ae16-88ddef50c674",
   "metadata": {},
   "outputs": [],
   "source": [
    "#| export\n",
    "BASE_URL = \"https://petstore3.swagger.io/api/v3\"\n",
    "\n",
    "# Load and parse the OAS file\n",
    "with open(\"openapi.json.3\") as f:\n",
    "    spec_dict = json.load(f)\n",
    "oas = OpenAPI.parse_obj(spec_dict)"
   ]
  },
  {
   "cell_type": "code",
   "execution_count": 6,
   "id": "7a8f687f-5051-4bea-8113-660767b0c96a",
   "metadata": {},
   "outputs": [],
   "source": [
    "#| export\n",
    "def get_request_body_from_schema(operation, oas):\n",
    "    \"\"\"Generates a default request body from the schema if `data` is not provided.\"\"\"\n",
    "    requestBody = operation.get(\"requestBody\", {})\n",
    "    if not requestBody: return None\n",
    "    content = requestBody.get(\"content\", {})\n",
    "    schema_ref = content.get(\"application/json\", {}).get(\"schema\", {}).get(\"$ref\")\n",
    "    if schema_ref:\n",
    "        schema_name = schema_ref.split(\"/\")[-1]\n",
    "        schema = oas.components.schemas.get(schema_name)\n",
    "        if schema:\n",
    "            return {\"title\": \"Example Task\", \"completed\": False}  # Example structure\n",
    "    return None"
   ]
  },
  {
   "cell_type": "code",
   "execution_count": 7,
   "id": "e3dcb17f-6284-47b7-a811-549e7b4fa1b2",
   "metadata": {},
   "outputs": [],
   "source": [
    "#| export\n",
    "def __generate_request_by_operation_id(oas, operation_id, parameters=None, data=None):\n",
    "    # Search for the operation by `operationId`\n",
    "    for path, path_item in oas.paths.items():\n",
    "        for method, operation in path_item.dict().items():\n",
    "            if operation and operation.get(\"operationId\") == operation_id:\n",
    "                url = f\"{BASE_URL}{path}\"\n",
    "                headers = {\"Content-Type\": \"application/json\"}\n",
    "                \n",
    "                # Determine request body: use `data` if provided; otherwise, generate from schema\n",
    "                request_body = data or get_request_body_from_schema(operation, oas)\n",
    "\n",
    "                # Make the HTTP request dynamically\n",
    "                response = requests.request(method.upper(), url, params=parameters, json=request_body, headers=headers)\n",
    "                print(url, request_body)\n",
    "                return response.json() if response.status_code in (200, 201) else response.status_code\n",
    "    print(f\"OperationId '{operation_id}' not found.\")\n",
    "    return None"
   ]
  },
  {
   "cell_type": "code",
   "execution_count": 11,
   "id": "5e89881e-49ad-435c-9a89-a62d227c916a",
   "metadata": {},
   "outputs": [],
   "source": [
    "#| export\n",
    "def generate_request_by_operation_id(operation_id, parameters=None, data=None):\n",
    "    return __generate_request_by_operation_id(oas, operation_id, parameters, data)"
   ]
  },
  {
   "cell_type": "code",
   "execution_count": 9,
   "id": "1697b790-8522-4bb3-858e-c32919a48361",
   "metadata": {},
   "outputs": [
    {
     "name": "stdout",
     "output_type": "stream",
     "text": [
      "https://petstore3.swagger.io/api/v3/pet/findByStatus None\n"
     ]
    },
    {
     "data": {
      "text/plain": [
       "[{'id': 5081695936906578352,\n",
       "  'category': {'id': 411886826470505861, 'name': ''},\n",
       "  'name': \"I4(u&blLw7Y~Xq:_A*6vU=;H]5R~#{BW-2[[#aI/q!'h*Y8jPg?NINmd+r\",\n",
       "  'photoUrls': [\"neQ~Md/th'BL$*9OP.Ctd[~m68z`As{1Cf}e#T=Hz^*?v|sfAFat\",\n",
       "   '*v29XDy|TQ'],\n",
       "  'tags': [{'id': 4695381958756277942,\n",
       "    'name': \"5Hb3X1h]ngm9'b!a^&!/T^DPM&6:D(c*F#d`%Fn3IVW!jkF5HI{d0qQj\"},\n",
       "   {'id': 3829192767566662587,\n",
       "    'name': \"!Bxsu/-ezDuPK/l'd])!Lepp4Kk:hjhd::/j~%T/y(;MmHFye8:MOs2[,4`\"},\n",
       "   {'id': 7415501824273923801, 'name': '%Ky97j'}],\n",
       "  'status': 'sold'},\n",
       " {'id': 4987019593767351499,\n",
       "  'category': {'id': 411886826470505861, 'name': ''},\n",
       "  'name': \"I4(u&blLw7Y~Xq:_A*6vU=;H]5R~#{BW-2[[#aI/q!'h*Y8jPg?NINmd+r\",\n",
       "  'photoUrls': [\"neQ~Md/th'BL$*9OP.Ctd[~m68z`As{1Cf}e#T=Hz^*?v|sfAFat\",\n",
       "   '*v29XDy|TQ'],\n",
       "  'tags': [{'id': 4695381958756277942,\n",
       "    'name': \"5Hb3X1h]ngm9'b!a^&!/T^DPM&6:D(c*F#d`%Fn3IVW!jkF5HI{d0qQj\"},\n",
       "   {'id': 3829192767566662587,\n",
       "    'name': \"!Bxsu/-ezDuPK/l'd])!Lepp4Kk:hjhd::/j~%T/y(;MmHFye8:MOs2[,4`\"},\n",
       "   {'id': 7415501824273923801, 'name': '%Ky97j'}],\n",
       "  'status': 'sold'},\n",
       " {'id': 6469267475945382787,\n",
       "  'category': {'id': 411886826470505861, 'name': ''},\n",
       "  'name': \"I4(u&blLw7Y~Xq:_A*6vU=;H]5R~#{BW-2[[#aI/q!'h*Y8jPg?NINmd+r\",\n",
       "  'photoUrls': [\"neQ~Md/th'BL$*9OP.Ctd[~m68z`As{1Cf}e#T=Hz^*?v|sfAFat\",\n",
       "   '*v29XDy|TQ'],\n",
       "  'tags': [{'id': 4695381958756277942,\n",
       "    'name': \"5Hb3X1h]ngm9'b!a^&!/T^DPM&6:D(c*F#d`%Fn3IVW!jkF5HI{d0qQj\"},\n",
       "   {'id': 3829192767566662587,\n",
       "    'name': \"!Bxsu/-ezDuPK/l'd])!Lepp4Kk:hjhd::/j~%T/y(;MmHFye8:MOs2[,4`\"},\n",
       "   {'id': 7415501824273923801, 'name': '%Ky97j'}],\n",
       "  'status': 'sold'}]"
      ]
     },
     "execution_count": 9,
     "metadata": {},
     "output_type": "execute_result"
    }
   ],
   "source": [
    "ans = generate_request_by_operation_id(\"findPetsByStatus\", parameters={\"status\":\"sold\"})\n",
    "ans[:3]"
   ]
  },
  {
   "cell_type": "code",
   "execution_count": 10,
   "id": "c809f4d1-b0c1-4528-bcf8-682ca49b26f8",
   "metadata": {},
   "outputs": [],
   "source": [
    "#| hide\n",
    "import nbdev; nbdev.nbdev_export()"
   ]
  }
 ],
 "metadata": {
  "kernelspec": {
   "display_name": "Python 3 (ipykernel)",
   "language": "python",
   "name": "python3"
  },
  "language_info": {
   "codemirror_mode": {
    "name": "ipython",
    "version": 3
   },
   "file_extension": ".py",
   "mimetype": "text/x-python",
   "name": "python",
   "nbconvert_exporter": "python",
   "pygments_lexer": "ipython3",
   "version": "3.12.4"
  }
 },
 "nbformat": 4,
 "nbformat_minor": 5
}
