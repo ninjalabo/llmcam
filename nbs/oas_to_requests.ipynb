{
 "cells": [
  {
   "cell_type": "markdown",
   "id": "c4d8c4c4-0bc0-488b-a1a4-edd3c47481f6",
   "metadata": {},
   "source": [
    "# OAS->requests"
   ]
  },
  {
   "cell_type": "code",
   "execution_count": 86,
   "id": "51b7918e-55d3-4bfa-a5fb-05f9513b989a",
   "metadata": {},
   "outputs": [],
   "source": [
    "import requests\n",
    "from openapi_schema_pydantic import OpenAPI\n",
    "import json\n",
    "import yaml"
   ]
  },
  {
   "cell_type": "code",
   "execution_count": 87,
   "id": "cae87b54-e280-4d2b-a07a-20b0ff358c9f",
   "metadata": {},
   "outputs": [
    {
     "name": "stdout",
     "output_type": "stream",
     "text": [
      "--2024-11-05 20:41:53--  https://petstore3.swagger.io/api/v3/openapi.json\n",
      "Resolving petstore3.swagger.io (petstore3.swagger.io)... 52.86.77.166, 54.226.28.221\n",
      "Connecting to petstore3.swagger.io (petstore3.swagger.io)|52.86.77.166|:443... connected.\n",
      "HTTP request sent, awaiting response... 200 OK\n",
      "Length: unspecified [application/json]\n",
      "Saving to: ‘openapi.json.5’\n",
      "\n",
      "openapi.json.5          [ <=>                ]  15.71K  --.-KB/s    in 0s      \n",
      "\n",
      "2024-11-05 20:41:54 (196 MB/s) - ‘openapi.json.5’ saved [16090]\n",
      "\n"
     ]
    }
   ],
   "source": [
    "!wget https://petstore3.swagger.io/api/v3/openapi.json"
   ]
  },
  {
   "cell_type": "code",
   "execution_count": 88,
   "id": "db56306b-1233-491c-ae16-88ddef50c674",
   "metadata": {},
   "outputs": [],
   "source": [
    "BASE_URL = \"https://petstore3.swagger.io/api/v3\"\n",
    "\n",
    "# Load and parse the OAS file\n",
    "with open(\"openapi.json.3\") as f:\n",
    "    spec_dict = json.load(f)\n",
    "oas = OpenAPI.parse_obj(spec_dict)"
   ]
  },
  {
   "cell_type": "code",
   "execution_count": 89,
   "id": "7a8f687f-5051-4bea-8113-660767b0c96a",
   "metadata": {},
   "outputs": [],
   "source": [
    "def get_request_body_from_schema(operation, oas):\n",
    "    \"\"\"Generates a default request body from the schema if `data` is not provided.\"\"\"\n",
    "    requestBody = operation.get(\"requestBody\", {})\n",
    "    if not requestBody: return None\n",
    "    content = requestBody.get(\"content\", {})\n",
    "    schema_ref = content.get(\"application/json\", {}).get(\"schema\", {}).get(\"$ref\")\n",
    "    if schema_ref:\n",
    "        schema_name = schema_ref.split(\"/\")[-1]\n",
    "        schema = oas.components.schemas.get(schema_name)\n",
    "        if schema:\n",
    "            return {\"title\": \"Example Task\", \"completed\": False}  # Example structure\n",
    "    return None"
   ]
  },
  {
   "cell_type": "code",
   "execution_count": 90,
   "id": "e3dcb17f-6284-47b7-a811-549e7b4fa1b2",
   "metadata": {},
   "outputs": [],
   "source": [
    "def generate_request_by_operation_id(oas, operation_id, parameters=None, data=None):\n",
    "    # Search for the operation by `operationId`\n",
    "    for path, path_item in oas.paths.items():\n",
    "        for method, operation in path_item.dict().items():\n",
    "            if operation and operation.get(\"operationId\") == operation_id:\n",
    "                url = f\"{BASE_URL}{path}\"\n",
    "                headers = {\"Content-Type\": \"application/json\"}\n",
    "                \n",
    "                # Determine request body: use `data` if provided; otherwise, generate from schema\n",
    "                request_body = data or get_request_body_from_schema(operation, oas)\n",
    "\n",
    "                # Make the HTTP request dynamically\n",
    "                response = requests.request(method.upper(), url, params=parameters, json=request_body, headers=headers)\n",
    "                print(url, request_body)\n",
    "                return response.json() if response.status_code in (200, 201) else response.status_code\n",
    "    print(f\"OperationId '{operation_id}' not found.\")\n",
    "    return None"
   ]
  },
  {
   "cell_type": "code",
   "execution_count": 91,
   "id": "1697b790-8522-4bb3-858e-c32919a48361",
   "metadata": {},
   "outputs": [
    {
     "name": "stdout",
     "output_type": "stream",
     "text": [
      "https://petstore3.swagger.io/api/v3/pet/findByStatus None\n"
     ]
    },
    {
     "data": {
      "text/plain": [
       "[{'id': 4144792027,\n",
       "  'category': {'id': 1, 'name': 'Iron_Man'},\n",
       "  'name': 'Captain_Marvel',\n",
       "  'photoUrls': [],\n",
       "  'tags': [],\n",
       "  'status': 'sold'},\n",
       " {'id': 2651827784,\n",
       "  'category': {'id': 1, 'name': 'Iron_Man'},\n",
       "  'name': 'Captain_Marvel',\n",
       "  'photoUrls': [],\n",
       "  'tags': [],\n",
       "  'status': 'sold'},\n",
       " {'id': 8844051868,\n",
       "  'category': {'id': 1, 'name': 'Iron_Man'},\n",
       "  'name': 'Captain_Marvel',\n",
       "  'photoUrls': [],\n",
       "  'tags': [],\n",
       "  'status': 'sold'}]"
      ]
     },
     "execution_count": 91,
     "metadata": {},
     "output_type": "execute_result"
    }
   ],
   "source": [
    "ans = generate_request_by_operation_id(oas, \"findPetsByStatus\", parameters={\"status\":\"sold\"})\n",
    "ans[:3]"
   ]
  }
 ],
 "metadata": {
  "kernelspec": {
   "display_name": "Python 3 (ipykernel)",
   "language": "python",
   "name": "python3"
  },
  "language_info": {
   "codemirror_mode": {
    "name": "ipython",
    "version": 3
   },
   "file_extension": ".py",
   "mimetype": "text/x-python",
   "name": "python",
   "nbconvert_exporter": "python",
   "pygments_lexer": "ipython3",
   "version": "3.12.4"
  }
 },
 "nbformat": 4,
 "nbformat_minor": 5
}
