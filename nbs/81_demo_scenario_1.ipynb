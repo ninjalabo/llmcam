{
 "cells": [
  {
   "cell_type": "markdown",
   "id": "ea387527-2ef4-43bb-b6f1-616e5e313757",
   "metadata": {},
   "source": [
    "# Demo Scenario 1\n",
    "> Validate Demonstrate Scenario 1 on a notebook"
   ]
  },
  {
   "cell_type": "code",
   "execution_count": null,
   "id": "24c2ac05-3b84-4189-a763-5bb72027e3dc",
   "metadata": {},
   "outputs": [],
   "source": [
    "#| hide\n",
    "from nbdev.showdoc import *"
   ]
  },
  {
   "cell_type": "markdown",
   "id": "7ef3e049-f8b9-4724-8419-0a54204d5004",
   "metadata": {},
   "source": [
    "1. User: What can LLMCAM do?\n",
    "2. Assistant: I can integrate with any web service via OpenAPI Specification (OAS), monitor YouTube Live videos, and provide real-time notifications 3. based on your queries or rules.\n",
    "4. User: Here’s DigiTraffic’s OAS: https://….\n",
    "5. Assistant: Great! Can you provide the base URL for API calls and the name of the service?\n",
    "6. User: The service is DigiTraffic, and the base URL is https://….\n",
    "7. Assistant: DigiTraffic service has been successfully registered. What would you like me to do next?\n",
    "8. User: Show me an image of Porvoo.\n",
    "9. Assistant: [Displays an image of Porvoo retrieved via DigiTraffic.]\n",
    "10. User: Show me an image of Porvoo with a car in motion.\n",
    "11. Assistant: [Displays an image of Porvoo with a moving car retrieved via DigiTraffic.]\n",
    "12. User: Plot them to compare"
   ]
  },
  {
   "cell_type": "code",
   "execution_count": null,
   "id": "7d306f5a-f6ae-48e2-8165-07d37207c1da",
   "metadata": {},
   "outputs": [],
   "source": [
    "#| hide\n",
    "import nbdev; nbdev.nbdev_export()"
   ]
  }
 ],
 "metadata": {
  "kernelspec": {
   "display_name": "python3",
   "language": "python",
   "name": "python3"
  }
 },
 "nbformat": 4,
 "nbformat_minor": 5
}
