{
 "cells": [
  {
   "cell_type": "markdown",
   "id": "ea387527-2ef4-43bb-b6f1-616e5e313757",
   "metadata": {},
   "source": [
    "# Demo Scenario 1\n",
    "> Validate Demonstrate Scenario 1 on a notebook"
   ]
  },
  {
   "cell_type": "code",
   "execution_count": null,
   "id": "24c2ac05-3b84-4189-a763-5bb72027e3dc",
   "metadata": {},
   "outputs": [],
   "source": [
    "#| hide\n",
    "from nbdev.showdoc import *"
   ]
  },
  {
   "cell_type": "code",
   "execution_count": null,
   "id": "700d0c02",
   "metadata": {},
   "outputs": [],
   "source": [
    "#| eval: false\n",
    "\n",
    "from llmcam.downloader import *\n",
    "from llmcam.dtcam import *\n",
    "from llmcam.file_manager import *\n",
    "from llmcam.fn_to_fc import *\n",
    "from llmcam.store import *\n",
    "from llmcam.yolo import *"
   ]
  },
  {
   "cell_type": "code",
   "execution_count": null,
   "id": "89d35371",
   "metadata": {},
   "outputs": [],
   "source": [
    "#| eval: false\n",
    "tools = []\n",
    "def execute_handler(function_name, **kwargs):\n",
    "    execute_handler_core(tools, function_name, **kwargs)\n",
    "\n",
    "tools.extend([handler_schema(function, service_name=\"toolbox_handler\", fixup=execute_handler) for function in [\n",
    "        add_api_tools,\n",
    "        add_function_tools,\n",
    "        remove_tools,\n",
    "        capture_youtube_live_frame_and_save,\n",
    "        ask_gpt4v_about_image_file,\n",
    "        cap,\n",
    "        detect_objects\n",
    "    ]])"
   ]
  },
  {
   "cell_type": "code",
   "execution_count": null,
   "id": "6013045c",
   "metadata": {},
   "outputs": [
    {
     "name": "stdout",
     "output_type": "stream",
     "text": [
      "\u001b[1m\u001b[31m>> \u001b[43m\u001b[31mSystem:\u001b[0m\n",
      "You are a helpful system administrator. Use the supplied tools to help the user.\n",
      "\u001b[1m\u001b[31m>> \u001b[43m\u001b[32mUser:\u001b[0m\n",
      "What can LLMCAM do?\n",
      "\u001b[1m\u001b[31m>> \u001b[43m\u001b[34mAssistant:\u001b[0m\n",
      "LLMCAM is designed to handle a variety of tasks related to capturing and analyzing images. Here are\n",
      "some of its capabilities:  1. **Capturing Images**: It can capture images from different sources,\n",
      "including a specified location or link, such as YouTube Live.  2. **Analyzing Images**: LLMCAM can\n",
      "analyze images to provide quantitative information about the contents, such as identifying and\n",
      "counting objects within the images using object detection algorithms like YOLO.  3. **Question\n",
      "Answering**: It can answer questions about the content in the images using advanced models like\n",
      "GPT-4.  These features make LLMCAM useful for monitoring, surveillance, content analysis, and\n",
      "similar applications where capturing and interpreting visual data is required.\n",
      "\u001b[1m\u001b[31m>> \u001b[43m\u001b[32mUser:\u001b[0m\n",
      "Add a new API service called 'road_digitraffic'. Use the base URL 'https://tie.digitraffic.fi', and\n",
      "the OpenAPI Specification URL 'https://tie.digitraffic.fi/swagger/openapi.json'.\n",
      "\u001b[1m\u001b[31m>> \u001b[43m\u001b[34mAssistant:\u001b[0m\n",
      "The API service 'road_digitraffic' has been successfully added with the base URL\n",
      "'https://tie.digitraffic.fi' and the OpenAPI Specification URL\n",
      "'https://tie.digitraffic.fi/swagger/openapi.json'. If you need further details or want to perform\n",
      "specific actions using this API, feel free to ask!\n",
      "\u001b[1m\u001b[31m>> \u001b[43m\u001b[32mUser:\u001b[0m\n",
      "Can you tell me where exists traffic jam right now?\n",
      "\u001b[1m\u001b[31m>> \u001b[43m\u001b[34mAssistant:\u001b[0m\n",
      "Here are some current traffic incidents that may indicate congestion:  1. **Kuopio (Road 5):**\n",
      "Preliminary accident report on Road 5 between Kuopio and Iisalmi, specifically between Puijon\n",
      "liittymä and Päivärannan liittymä. [More Details Available](https://liikennetilanne.fintraffic.fi/).\n",
      "2. **Pieksämäki (Road 72):** Preliminary accident report on Road 72 between Mikkeli and Pieksämäki,\n",
      "particularly between Virtasalmentie and Rikonlahti, Vehmaskyläntie. [More Details\n",
      "Available](https://liikennetilanne.fintraffic.fi/).  3. **Pieksämäki (Road 15283):** Traffic\n",
      "announcements due to heavy vehicle lifting on Mataramäentie. The traffic might be stopped\n",
      "occasionally. [More Details Available](https://liikennetilanne.fintraffic.fi/).  4. **Enonkoski\n",
      "(Road 471):** Traffic announcement mentions that the load capacity of the ferry at Hanhivirta has\n",
      "changed. [More Details Available](https://liikennetilanne.fintraffic.fi/).  5. **Oulu (Road 816):**\n",
      "Temporary timetable changes for ferry traffic between Riutunkari and Hailuoto on Road 816. [More\n",
      "Details Available](https://liikennetilanne.fintraffic.fi/).  6. **Helsinki (Siltasaarenkatu):**\n",
      "Traffic lights are out of order at the north end of Pitkäsilta. [More Details\n",
      "Available](https://liikennetilanne.fintraffic.fi/).  7. **Espoo (Lintuvaarantie):** Traffic lights\n",
      "are out of order at Turuntie. [More Details Available](https://liikennetilanne.fintraffic.fi/).\n",
      "Please be cautious when traveling in these areas as there might be possible traffic disruptions.\n",
      "\u001b[1m\u001b[31m>> \u001b[43m\u001b[32mUser:\u001b[0m\n",
      "Show me the image at Kuopio.\n",
      "\u001b[1m\u001b[31m>> \u001b[43m\u001b[34mAssistant:\u001b[0m\n",
      "Here is the latest image captured from Kuopio:\n",
      "![Kuopio](sandbox:/data/cap_2024.11.25_08:15:42_Kuopioon_C0851001.jpg)  If you need any more\n",
      "information or further assistance, feel free to ask!\n"
     ]
    }
   ],
   "source": [
    "#| eval: false\n",
    "\n",
    "messages = form_msgs([\n",
    "    (\"system\", \"You are a helpful system administrator. Use the supplied tools to help the user.\"),\n",
    "    (\"user\", \"What can LLMCAM do?\")\n",
    "])\n",
    "# messages.append(form_msg(\"user\", \"Add a new API service called 'road_digitraffic'. Use the base URL 'https://tie.digitraffic.fi', and the OpenAPI Specification URL 'https://tie.digitraffic.fi/swagger/openapi.json'.\"))\n",
    "# messages.append(form_msg(\"user\", \"Can you tell me where exists traffic jam right now?\"))\n",
    "# messages.append(form_msg(\"user\", \"Show me the image at Kuopio.\"))\n",
    "complete(messages, tools)\n",
    "print_msgs(messages)"
   ]
  },
  {
   "cell_type": "markdown",
   "id": "7ef3e049-f8b9-4724-8419-0a54204d5004",
   "metadata": {},
   "source": [
    "1. User: What can LLMCAM do?\n",
    "2. Assistant: I can integrate with any web service via OpenAPI Specification (OAS), monitor YouTube Live videos, and provide real-time notifications 3. based on your queries or rules.\n",
    "4. User: Here’s DigiTraffic’s OAS: https://….\n",
    "5. Assistant: Great! Can you provide the base URL for API calls and the name of the service?\n",
    "6. User: The service is DigiTraffic, and the base URL is https://….\n",
    "7. Assistant: DigiTraffic service has been successfully registered. What would you like me to do next?\n",
    "8. User: Show me an image of Porvoo.\n",
    "9. Assistant: [Displays an image of Porvoo retrieved via DigiTraffic.]\n",
    "10. User: Show me an image of Porvoo with a car in motion.\n",
    "11. Assistant: [Displays an image of Porvoo with a moving car retrieved via DigiTraffic.]\n",
    "12. User: Plot them to compare"
   ]
  },
  {
   "cell_type": "code",
   "execution_count": null,
   "id": "7d306f5a-f6ae-48e2-8165-07d37207c1da",
   "metadata": {},
   "outputs": [],
   "source": [
    "#| hide\n",
    "import nbdev; nbdev.nbdev_export()"
   ]
  }
 ],
 "metadata": {
  "kernelspec": {
   "display_name": "python3",
   "language": "python",
   "name": "python3"
  }
 },
 "nbformat": 4,
 "nbformat_minor": 5
}
