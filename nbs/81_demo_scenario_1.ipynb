{
 "cells": [
  {
   "cell_type": "markdown",
   "id": "ea387527-2ef4-43bb-b6f1-616e5e313757",
   "metadata": {},
   "source": [
    "# Demo Scenario 1\n",
    "> Validate Demonstrate Scenario 1 on a notebook"
   ]
  },
  {
   "cell_type": "code",
   "execution_count": 2,
   "id": "24c2ac05-3b84-4189-a763-5bb72027e3dc",
   "metadata": {},
   "outputs": [],
   "source": [
    "#| hide\n",
    "from nbdev.showdoc import *"
   ]
  },
  {
   "cell_type": "code",
   "execution_count": null,
   "id": "700d0c02",
   "metadata": {},
   "outputs": [],
   "source": [
    "#| eval: false\n",
    "\n",
    "from llmcam.downloader import *\n",
    "from llmcam.dtcam import *\n",
    "from llmcam.file_manager import *\n",
    "from llmcam.fn_to_fc import *\n",
    "from llmcam.oas_to_requests import *\n",
    "from llmcam.store import *\n",
    "from llmcam.yolo import *"
   ]
  },
  {
   "cell_type": "code",
   "execution_count": null,
   "id": "89d35371",
   "metadata": {},
   "outputs": [],
   "source": [
    "def update_tools(\n",
    "    services: list # list of services\n",
    "):\n",
    "    \"\"\"Extarct services from ToolBox and integrate to current tools\"\"\"\n",
    "    new = extract_tools_from_services(services)\n",
    "    for tool in new:\n",
    "        tools.append(tool)\n",
    "\n",
    "tools = [tool_schema(fn) for fn in [detect_objects, download_file, cap, add_api_tools, update_tools]] + extract_tools_from_services(['ytube_live'])\n",
    "tools[4][\"function\"][\"parameters\"][\"properties\"][\"services\"] = {\n",
    "            \"type\": \"array\",\n",
    "            \"description\": \"List of service names\",\n",
    "            \"items\": {\"type\": \"string\"}\n",
    "        }\n"
   ]
  },
  {
   "cell_type": "code",
   "execution_count": null,
   "id": "6013045c",
   "metadata": {},
   "outputs": [
    {
     "name": "stderr",
     "output_type": "stream",
     "text": [
      "Using cache found in /home/abc/.cache/torch/hub/ultralytics_yolov5_master\n",
      "YOLOv5 🚀 2024-11-10 Python-3.10.15 torch-2.5.1+cu124 CPU\n",
      "\n",
      "Downloading https://github.com/ultralytics/yolov5/releases/download/v7.0/yolov5s.pt to yolov5s.pt...\n",
      "100%|██████████| 14.1M/14.1M [00:01<00:00, 11.7MB/s]\n",
      "\n",
      "Fusing layers... \n",
      "YOLOv5s summary: 213 layers, 7225885 parameters, 0 gradients, 16.4 GFLOPs\n",
      "Adding AutoShape... \n",
      "/home/abc/.cache/torch/hub/ultralytics_yolov5_master/models/common.py:892: FutureWarning: `torch.cuda.amp.autocast(args...)` is deprecated. Please use `torch.amp.autocast('cuda', args...)` instead.\n",
      "  with amp.autocast(autocast):\n"
     ]
    },
    {
     "name": "stdout",
     "output_type": "stream",
     "text": [
      "{}\n",
      "\u001b[1m\u001b[31m>> \u001b[43m\u001b[31mSystem:\u001b[0m\n",
      "You are a helpful system administrator. Use the supplied tools to help the user.\n",
      "\u001b[1m\u001b[31m>> \u001b[43m\u001b[32mUser:\u001b[0m\n",
      "What can LLMCAM do?\n",
      "\u001b[1m\u001b[31m>> \u001b[43m\u001b[32mUser:\u001b[0m\n",
      "I want to integrate DigiTraffic railway services into current tools. Here is the OAS url:\n",
      "https://rata.digitraffic.fi/swagger/openapi.json.\n",
      "\u001b[1m\u001b[31m>> \u001b[43m\u001b[32mUser:\u001b[0m\n",
      "Can you extract list of DigiTraffic Railway Services from services and integrate them into current\n",
      "tools?\n",
      "\u001b[1m\u001b[31m>> \u001b[43m\u001b[34mAssistant:\u001b[0m\n",
      "The DigiTraffic Railway Services have been successfully integrated into the current tools. You can\n",
      "now make use of these services, which include various train tracking, scheduling, and station\n",
      "information functionalities. If you need more information about specific features, feel free to ask!\n",
      "\u001b[1m\u001b[31m>> \u001b[43m\u001b[32mUser:\u001b[0m\n",
      "Can you show me the nearest trains from Helsinki to Joensuu?\n",
      "\u001b[1m\u001b[31m>> \u001b[43m\u001b[34mAssistant:\u001b[0m\n",
      "It seems there are currently no trains found for the route from Helsinki to Joensuu. This might be\n",
      "due to several reasons, such as no scheduled trains at this moment for today or data unavailability.\n",
      "If you have a specific date in mind for this query, please let me know, and I can provide further\n",
      "assistance!\n",
      "\u001b[1m\u001b[31m>> \u001b[43m\u001b[32mUser:\u001b[0m\n",
      "Show me an image of Porvoo.\n",
      "\u001b[1m\u001b[31m>> \u001b[43m\u001b[34mAssistant:\u001b[0m\n",
      "Here is an image of Porvoo:  ![Porvoo](../data/cap_2024.11.18_21:21:58_Porvoo_C0150200.jpg)  If you\n",
      "have any more questions or need further information, feel free to ask!\n",
      "\u001b[1m\u001b[31m>> \u001b[43m\u001b[32mUser:\u001b[0m\n",
      "Show me an image of Porvoo with a car in motion.\n",
      "\u001b[1m\u001b[31m>> \u001b[43m\u001b[34mAssistant:\u001b[0m\n",
      "The current image of Porvoo doesn't contain any detected cars in motion. If you would like to try\n",
      "capturing another image or specify a different request, please let me know!\n"
     ]
    }
   ],
   "source": [
    "messages = form_msgs([\n",
    "    (\"system\", \"You are a helpful system administrator. Use the supplied tools to help the user.\"),\n",
    "    (\"user\", \"What can LLMCAM do?\"),\n",
    "    (\"user\", \"I want to integrate DigiTraffic railway services. Here is the OAS url: https://rata.digitraffic.fi/swagger/openapi.json.\"),  \n",
    "    (\"user\", \"Can you extract list of DigiTraffic Railway Services from services and integrate them into current tools?\"),\n",
    "    (\"user\", \"Can you show me the nearest trains from Helsinki to Joensuu?\"),\n",
    "    (\"user\", \"Show me an image of Porvoo.\"), # image is saved incorrectly, now at nbs/cap_2024.11.13_11:41:59_Porvoo_C0150200\n",
    "    (\"user\", \"Show me an image of Porvoo with a car in motion.\")\n",
    "])\n",
    "complete(messages, tools)\n",
    "print_msgs(messages)"
   ]
  },
  {
   "cell_type": "markdown",
   "id": "7ef3e049-f8b9-4724-8419-0a54204d5004",
   "metadata": {},
   "source": [
    "1. User: What can LLMCAM do?\n",
    "2. Assistant: I can integrate with any web service via OpenAPI Specification (OAS), monitor YouTube Live videos, and provide real-time notifications 3. based on your queries or rules.\n",
    "4. User: Here’s DigiTraffic’s OAS: https://….\n",
    "5. Assistant: Great! Can you provide the base URL for API calls and the name of the service?\n",
    "6. User: The service is DigiTraffic, and the base URL is https://….\n",
    "7. Assistant: DigiTraffic service has been successfully registered. What would you like me to do next?\n",
    "8. User: Show me an image of Porvoo.\n",
    "9. Assistant: [Displays an image of Porvoo retrieved via DigiTraffic.]\n",
    "10. User: Show me an image of Porvoo with a car in motion.\n",
    "11. Assistant: [Displays an image of Porvoo with a moving car retrieved via DigiTraffic.]\n",
    "12. User: Plot them to compare"
   ]
  },
  {
   "cell_type": "code",
   "execution_count": 3,
   "id": "7d306f5a-f6ae-48e2-8165-07d37207c1da",
   "metadata": {},
   "outputs": [],
   "source": [
    "#| hide\n",
    "import nbdev; nbdev.nbdev_export()"
   ]
  }
 ],
 "metadata": {
  "kernelspec": {
   "display_name": "Python 3 (ipykernel)",
   "language": "python",
   "name": "python3"
  },
  "language_info": {
   "codemirror_mode": {
    "name": "ipython",
    "version": 3
   },
   "file_extension": ".py",
   "mimetype": "text/x-python",
   "name": "python",
   "nbconvert_exporter": "python",
   "pygments_lexer": "ipython3",
   "version": "3.12.4"
  }
 },
 "nbformat": 4,
 "nbformat_minor": 5
}
