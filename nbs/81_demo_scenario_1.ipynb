{
 "cells": [
  {
   "cell_type": "markdown",
   "id": "ea387527-2ef4-43bb-b6f1-616e5e313757",
   "metadata": {},
   "source": [
    "# Demo Scenario 1\n",
    "> Validate Demonstrate Scenario 1 on a notebook"
   ]
  },
  {
   "cell_type": "code",
   "execution_count": null,
   "id": "24c2ac05-3b84-4189-a763-5bb72027e3dc",
   "metadata": {},
   "outputs": [],
   "source": [
    "#| hide\n",
    "from nbdev.showdoc import *"
   ]
  },
  {
   "cell_type": "code",
   "execution_count": null,
   "id": "700d0c02",
   "metadata": {},
   "outputs": [],
   "source": [
    "#| eval: false\n",
    "\n",
    "from llmcam.downloader import *\n",
    "from llmcam.dtcam import *\n",
    "from llmcam.file_manager import *\n",
    "from llmcam.fn_to_fc import *\n",
    "from llmcam.store import *\n",
    "from llmcam.yolo import *"
   ]
  },
  {
   "cell_type": "code",
   "execution_count": null,
   "id": "89d35371",
   "metadata": {},
   "outputs": [],
   "source": [
    "#| eval: false\n",
    "tools = []\n",
    "def execute_handler(function_name, **kwargs):\n",
    "    execute_handler_core(tools, function_name, **kwargs)\n",
    "\n",
    "tools.extend([handler_schema(function, service_name=\"toolbox_handler\", fixup=execute_handler) for function in [\n",
    "        add_api_tools,\n",
    "        add_function_tools,\n",
    "        remove_tools,\n",
    "        capture_youtube_live_frame_and_save,\n",
    "        ask_gpt4v_about_image_file,\n",
    "        cap,\n",
    "        detect_objects\n",
    "    ]])"
   ]
  },
  {
   "cell_type": "code",
   "execution_count": null,
   "id": "6013045c",
   "metadata": {},
   "outputs": [
    {
     "name": "stdout",
     "output_type": "stream",
     "text": [
      "\u001b[1m\u001b[31m>> \u001b[43m\u001b[31mSystem:\u001b[0m\n",
      "You are a helpful system administrator. Use the supplied tools to help the user.\n",
      "\u001b[1m\u001b[31m>> \u001b[43m\u001b[32mUser:\u001b[0m\n",
      "What can LLMCAM do?\n",
      "\u001b[1m\u001b[31m>> \u001b[43m\u001b[34mAssistant:\u001b[0m\n",
      "LLMCAM is likely a tool or service capable of capturing and processing images or video frames. The\n",
      "specific functionalities can include:  1. **Capture Images or Frames**: It can capture images or\n",
      "individual frames from live video sources like YouTube Live.  2. **Object Detection**: It can\n",
      "perform object detection on images using models like YOLO, identifying objects within the frame.  3.\n",
      "**Quantitative Analysis**: The tool might be able to analyze the content of an image to provide\n",
      "quantitative information.  These capabilities make it suitable for applications like monitoring,\n",
      "analysis, and content identification in visual media.\n",
      "\u001b[1m\u001b[31m>> \u001b[43m\u001b[32mUser:\u001b[0m\n",
      "Add a new API service called 'train_digitraffic'. Use the base URL 'https://rata.digitraffic.fi',\n",
      "and the OpenAPI Specification URL 'https://rata.digitraffic.fi/swagger/openapi.json'.\n",
      "\u001b[1m\u001b[31m>> \u001b[43m\u001b[34mAssistant:\u001b[0m\n",
      "The API service 'train_digitraffic' has been added successfully with the specified base URL and\n",
      "OpenAPI Specification URL.\n",
      "\u001b[1m\u001b[31m>> \u001b[43m\u001b[32mUser:\u001b[0m\n",
      "Can you show me the trains from Helsinki?\n",
      "\u001b[1m\u001b[31m>> \u001b[43m\u001b[34mAssistant:\u001b[0m\n",
      "Here are some of the trains traveling from Helsinki (HKI):  1. **Train Number 7197**    - Type: T\n",
      "(Cargo)    - Departure Date: 2024-11-21    - Operator: ferfi    - Running: Yes    - Timetable Type:\n",
      "ADHOC  2. **Train Number 8546**    - Type: HL (Commuter)    - Line ID: L    - Departure Date:\n",
      "2024-11-21    - Operator: VR    - Running: No    - Timetable Type: REGULAR  3. **Train Number 8548**\n",
      "- Type: HL (Commuter)    - Line ID: L    - Departure Date: 2024-11-21    - Operator: VR    -\n",
      "Running: Yes    - Timetable Type: REGULAR  4. **Train Number 8750**    - Type: HL (Commuter)    -\n",
      "Line ID: P    - Departure Date: 2024-11-21    - Operator: VR    - Running: No    - Timetable Type:\n",
      "REGULAR  5. **Train Number 8752**    - Type: HL (Commuter)    - Line ID: P    - Departure Date:\n",
      "2024-11-21    - Operator: VR    - Running: No    - Timetable Type: REGULAR  These are just a few\n",
      "examples, and there are many more trains operating from Helsinki.\n",
      "\u001b[1m\u001b[31m>> \u001b[43m\u001b[32mUser:\u001b[0m\n",
      "Show me an image of Porvoo.\n",
      "\u001b[1m\u001b[31m>> \u001b[43m\u001b[34mAssistant:\u001b[0m\n",
      "Here is an image of Porvoo:  ![Porvoo](../data/cap_2024.11.21_22:11:57_Porvoo_C0150200.jpg)\n"
     ]
    }
   ],
   "source": [
    "#| eval: false\n",
    "\n",
    "messages = form_msgs([\n",
    "    (\"system\", \"You are a helpful system administrator. Use the supplied tools to help the user.\"),\n",
    "    (\"user\", \"What can LLMCAM do?\")\n",
    "])\n",
    "# messages.append(form_msg(\"user\", \"Add a new API service called 'train_digitraffic'. Use the base URL 'https://rata.digitraffic.fi', and the OpenAPI Specification URL 'https://rata.digitraffic.fi/swagger/openapi.json'.\"))\n",
    "# messages.append(form_msg(\"user\", \"Can you show me the trains from Helsinki?\"))\n",
    "# messages.append(form_msg(\"user\", \"Show me an image of Porvoo.\"))\n",
    "complete(messages, tools)\n",
    "print_msgs(messages)"
   ]
  },
  {
   "cell_type": "markdown",
   "id": "7ef3e049-f8b9-4724-8419-0a54204d5004",
   "metadata": {},
   "source": [
    "1. User: What can LLMCAM do?\n",
    "2. Assistant: I can integrate with any web service via OpenAPI Specification (OAS), monitor YouTube Live videos, and provide real-time notifications 3. based on your queries or rules.\n",
    "4. User: Here’s DigiTraffic’s OAS: https://….\n",
    "5. Assistant: Great! Can you provide the base URL for API calls and the name of the service?\n",
    "6. User: The service is DigiTraffic, and the base URL is https://….\n",
    "7. Assistant: DigiTraffic service has been successfully registered. What would you like me to do next?\n",
    "8. User: Show me an image of Porvoo.\n",
    "9. Assistant: [Displays an image of Porvoo retrieved via DigiTraffic.]\n",
    "10. User: Show me an image of Porvoo with a car in motion.\n",
    "11. Assistant: [Displays an image of Porvoo with a moving car retrieved via DigiTraffic.]\n",
    "12. User: Plot them to compare"
   ]
  },
  {
   "cell_type": "code",
   "execution_count": null,
   "id": "7d306f5a-f6ae-48e2-8165-07d37207c1da",
   "metadata": {},
   "outputs": [],
   "source": [
    "#| hide\n",
    "import nbdev; nbdev.nbdev_export()"
   ]
  }
 ],
 "metadata": {
  "kernelspec": {
   "display_name": "python3",
   "language": "python",
   "name": "python3"
  }
 },
 "nbformat": 4,
 "nbformat_minor": 5
}
