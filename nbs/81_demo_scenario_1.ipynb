{
 "cells": [
  {
   "cell_type": "markdown",
   "id": "ea387527-2ef4-43bb-b6f1-616e5e313757",
   "metadata": {},
   "source": [
    "# Demo Scenario 1\n",
    "> Validate Demonstrate Scenario 1 on a notebook"
   ]
  },
  {
   "cell_type": "code",
   "execution_count": null,
   "id": "24c2ac05-3b84-4189-a763-5bb72027e3dc",
   "metadata": {},
   "outputs": [],
   "source": [
    "#| hide\n",
    "from nbdev.showdoc import *"
   ]
  },
  {
   "cell_type": "code",
   "execution_count": null,
   "id": "700d0c02",
   "metadata": {},
   "outputs": [],
   "source": [
    "#| eval: false\n",
    "\n",
    "from llmcam.downloader import *\n",
    "from llmcam.dtcam import *\n",
    "from llmcam.file_manager import *\n",
    "from llmcam.fn_to_fc import *\n",
    "from llmcam.oas_to_requests import *\n",
    "from llmcam.store import *\n",
    "from llmcam.yolo import *"
   ]
  },
  {
   "cell_type": "code",
   "execution_count": null,
   "id": "89d35371",
   "metadata": {},
   "outputs": [],
   "source": [
    "#| eval: false\n",
    "\n",
    "def update_tools(\n",
    "    services: list # list of services\n",
    "):\n",
    "    \"\"\"Extarct services from ToolBox and integrate to current tools\"\"\"\n",
    "    new = extract_tools_from_services(services)\n",
    "    for tool in new:\n",
    "        tools.append(tool)\n",
    "\n",
    "tools = [tool_schema(fn) for fn in [detect_objects, download_file, cap, add_api_tools, update_tools]] + extract_tools_from_services(['ytube_live'])"
   ]
  },
  {
   "cell_type": "code",
   "execution_count": null,
   "id": "6013045c",
   "metadata": {},
   "outputs": [
    {
     "name": "stdout",
     "output_type": "stream",
     "text": [
      "\u001b[1m\u001b[31m>> \u001b[43m\u001b[31mSystem:\u001b[0m\n",
      "You are a helpful system administrator. Use the supplied tools to help the user.\n",
      "\u001b[1m\u001b[31m>> \u001b[43m\u001b[32mUser:\u001b[0m\n",
      "What can LLMCAM do?\n",
      "\u001b[1m\u001b[31m>> \u001b[43m\u001b[34mAssistant:\u001b[0m\n",
      "LLMCAM can perform various tasks related to image and file handling, as well as provide integration\n",
      "with API services. Here are the primary functions that LLMCAM can do:  1. **Object Detection**:\n",
      "Perform object detection on images using YOLO (You Only Look Once) model.    - Detect objects in an\n",
      "image with a specified confidence threshold.  2. **Image Capture**: Capture images and provide\n",
      "options for saving and processing.    - Capture an image at a specified location.    - Capture a\n",
      "frame from a YouTube Live stream.  3. **File Handling**: Download and manage files.    - Download\n",
      "files from a specified URL and save them locally.  4. **Image Analysis**: Analyze images for\n",
      "quantitative information.    - Use GPT-4 Vision to gather quantitative data from images.  5. **API\n",
      "Integration**: Add and update API tools in the toolbox.    - Integrate API services by specifying\n",
      "their base URLs and OpenAPI specifications.    - Update and extract services from ToolBox to\n",
      "integrate them with current tools.  LLMCAM provides a robust set of functionalities for handling and\n",
      "processing images, interacting with live streams, managing files, and integrating various API\n",
      "services.\n",
      "\u001b[1m\u001b[31m>> \u001b[43m\u001b[32mUser:\u001b[0m\n",
      "I want to integrate DigiTraffic railway services. Here is the OAS url:\n",
      "https://rata.digitraffic.fi/swagger/openapi.json.\n",
      "\u001b[1m\u001b[31m>> \u001b[43m\u001b[34mAssistant:\u001b[0m\n",
      "The DigiTraffic Railway services have been successfully integrated. You can now use these services\n",
      "to access information related to railway traffic from DigiTraffic. If you need specific assistance\n",
      "or further actions, feel free to ask!\n",
      "\u001b[1m\u001b[31m>> \u001b[43m\u001b[32mUser:\u001b[0m\n",
      "Can you extract list of DigiTraffic Railway Services from services and integrate them into current\n",
      "tools?\n",
      "\u001b[1m\u001b[31m>> \u001b[43m\u001b[34mAssistant:\u001b[0m\n",
      "The services from DigiTraffic Railway have been extracted and integrated into the current tools. You\n",
      "can now access and utilize these functionalities related to railway services from DigiTraffic. If\n",
      "there's anything specific you want to do with these tools, let me know!\n",
      "\u001b[1m\u001b[31m>> \u001b[43m\u001b[32mUser:\u001b[0m\n",
      "Can you show me the nearest trains from Helsinki to Joensuu?\n",
      "\u001b[1m\u001b[31m>> \u001b[43m\u001b[34mAssistant:\u001b[0m\n",
      "Here are the nearest upcoming trains from Helsinki (HKI) to Joensuu (JNS):  ### Train 1 - **Train\n",
      "Number**: 1 - **Type**: InterCity (IC) - **Category**: Long-distance - **Departure from Helsinki**:\n",
      "2024-11-21 at 04:54 (from track 9) - **Arrival at Joensuu**: 2024-11-21 at 09:40  ### Train 3 -\n",
      "**Train Number**: 3 - **Type**: InterCity (IC) - **Category**: Long-distance - **Departure from\n",
      "Helsinki**: 2024-11-21 at 08:19 (from track 10) - **Arrival at Joensuu**: 2024-11-21 at 12:51  ###\n",
      "Train 5 - **Train Number**: 5 - **Type**: InterCity (IC) - **Category**: Long-distance - **Departure\n",
      "from Helsinki**: 2024-11-21 at 11:19 (from track 9) - **Arrival at Joensuu**: 2024-11-21 at 15:51\n",
      "### Train 7 - **Train Number**: 7 - **Type**: InterCity (IC) - **Category**: Long-distance -\n",
      "**Departure from Helsinki**: 2024-11-21 at 13:19 (from track 7) - **Arrival at Joensuu**: 2024-11-21\n",
      "at 17:36  ### Train 9 - **Train Number**: 9 - **Type**: S - **Category**: Long-distance -\n",
      "**Departure from Helsinki**: 2024-11-21 at 14:13 (from track 11) - **Arrival at Joensuu**:\n",
      "2024-11-21 at 18:56  These are the planned schedules based on the current timetable. Always check\n",
      "with the station or railway service for the most up-to-date information before travel.\n",
      "\u001b[1m\u001b[31m>> \u001b[43m\u001b[32mUser:\u001b[0m\n",
      "Show me an image of Porvoo.\n",
      "\u001b[1m\u001b[31m>> \u001b[43m\u001b[34mAssistant:\u001b[0m\n",
      "Here is an image captured at Porvoo:  ![Porvoo](../data/cap_2024.11.20_23:31:57_Porvoo_C0150200.jpg)\n",
      "If you need further assistance or additional information, feel free to ask!\n"
     ]
    }
   ],
   "source": [
    "#| eval: false\n",
    "\n",
    "messages = form_msgs([\n",
    "    (\"system\", \"You are a helpful system administrator. Use the supplied tools to help the user.\"),\n",
    "    (\"user\", \"What can LLMCAM do?\"),\n",
    "    (\"user\", \"I want to integrate DigiTraffic railway services. Here is the OAS url: https://rata.digitraffic.fi/swagger/openapi.json.\"),  \n",
    "    (\"user\", \"Can you extract list of DigiTraffic Railway Services from services and integrate them into current tools?\"),\n",
    "    (\"user\", \"Can you show me the nearest trains from Helsinki to Joensuu?\"),\n",
    "    (\"user\", \"Show me an image of Porvoo.\"),\n",
    "    (\"user\", \"Show me an image of Porvoo with a car in motion.\")\n",
    "])\n",
    "complete(messages, tools)\n",
    "print_msgs(messages)"
   ]
  },
  {
   "cell_type": "markdown",
   "id": "7ef3e049-f8b9-4724-8419-0a54204d5004",
   "metadata": {},
   "source": [
    "1. User: What can LLMCAM do?\n",
    "2. Assistant: I can integrate with any web service via OpenAPI Specification (OAS), monitor YouTube Live videos, and provide real-time notifications 3. based on your queries or rules.\n",
    "4. User: Here’s DigiTraffic’s OAS: https://….\n",
    "5. Assistant: Great! Can you provide the base URL for API calls and the name of the service?\n",
    "6. User: The service is DigiTraffic, and the base URL is https://….\n",
    "7. Assistant: DigiTraffic service has been successfully registered. What would you like me to do next?\n",
    "8. User: Show me an image of Porvoo.\n",
    "9. Assistant: [Displays an image of Porvoo retrieved via DigiTraffic.]\n",
    "10. User: Show me an image of Porvoo with a car in motion.\n",
    "11. Assistant: [Displays an image of Porvoo with a moving car retrieved via DigiTraffic.]\n",
    "12. User: Plot them to compare"
   ]
  },
  {
   "cell_type": "code",
   "execution_count": null,
   "id": "7d306f5a-f6ae-48e2-8165-07d37207c1da",
   "metadata": {},
   "outputs": [],
   "source": [
    "#| hide\n",
    "import nbdev; nbdev.nbdev_export()"
   ]
  }
 ],
 "metadata": {
  "kernelspec": {
   "display_name": "python3",
   "language": "python",
   "name": "python3"
  }
 },
 "nbformat": 4,
 "nbformat_minor": 5
}
