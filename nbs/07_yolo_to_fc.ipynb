{
 "cells": [
  {
   "cell_type": "code",
   "execution_count": null,
   "metadata": {},
   "outputs": [],
   "source": [
    "#| default_exp yolo"
   ]
  },
  {
   "cell_type": "code",
   "execution_count": null,
   "metadata": {},
   "outputs": [],
   "source": [
    "import textwrap\n",
    "import json\n",
    "import openai\n",
    "import torch\n",
    "from llmcam.fn_to_fc import complete, tool_schema, form_msg, capture_youtube_live_frame_and_save, ask_gpt4v_about_image_file"
   ]
  },
  {
   "cell_type": "code",
   "execution_count": null,
   "metadata": {},
   "outputs": [],
   "source": [
    "#| export\n",
    "\n",
    "def detect_objects(\n",
    "        image_path: str, # Path/URL of image\n",
    "        conf: float=0.05 # Confidence threshold\n",
    "    ) -> str: # JSON format of detection results\n",
    "    \"\"\"Run YOLO object detection on an input image.\"\"\"\n",
    "    model = torch.hub.load(\"ultralytics/yolov5\", \"yolov5s\")\n",
    "    model.conf = conf  # NMS confidence threshold\n",
    "    \n",
    "    results = model(image_path)\n",
    "    count = results.pandas().xyxy[0]['name'].value_counts().to_dict()\n",
    "    print(count)\n",
    "    return json.dumps(count, indent=2)"
   ]
  },
  {
   "cell_type": "code",
   "execution_count": null,
   "metadata": {},
   "outputs": [],
   "source": [
    "YTLiveTools = [tool_schema(fn) for fn in (capture_youtube_live_frame_and_save, ask_gpt4v_about_image_file, detect_objects)]"
   ]
  },
  {
   "cell_type": "code",
   "execution_count": null,
   "metadata": {},
   "outputs": [],
   "source": [
    "def exec_func(name, tools=[], **kwargs):\n",
    "    res = globals().get(name)(**kwargs)\n",
    "    return res"
   ]
  },
  {
   "cell_type": "code",
   "execution_count": null,
   "metadata": {},
   "outputs": [],
   "source": [
    "#| eval: false\n",
    "\n",
    "messages = [\n",
    "    form_msg(\"system\", \"You are a helpful system administrator. Use the supplied tools to assist the user.\"),\n",
    "    form_msg(\"user\", \"Hi, can you capture YouTube Live?\")\n",
    "]\n",
    "messages.append(form_msg(\"user\", \"You can use the default link.\"))\n",
    "messages.append(form_msg(\"user\", \"Can you extract information from this file?\"))\n",
    "messages.append(form_msg(\"user\", \"Use your new tool to detect.\"))\n",
    "complete(messages, YTLiveTools, exec_func)\n",
    "for message in messages:\n",
    "    print(f\">> {message['role'].capitalize()}:\")\n",
    "    try:\n",
    "        print(textwrap.fill(message[\"content\"], 100))\n",
    "    except:\n",
    "        print(message)"
   ]
  }
 ],
 "metadata": {
  "kernelspec": {
   "display_name": "python3",
   "language": "python",
   "name": "python3"
  }
 },
 "nbformat": 4,
 "nbformat_minor": 2
}
