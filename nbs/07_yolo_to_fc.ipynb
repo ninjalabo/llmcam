{
 "cells": [
  {
   "cell_type": "code",
   "execution_count": null,
   "metadata": {},
   "outputs": [],
   "source": [
    "import textwrap\n",
    "import json\n",
    "import openai\n",
    "import torch\n",
    "from llmcam.fn_to_fc import complete, tool_schema, form_msg, capture_youtube_live_frame_and_save, ask_gpt4v_about_image_file"
   ]
  },
  {
   "cell_type": "code",
   "execution_count": null,
   "metadata": {},
   "outputs": [],
   "source": [
    "def detect_objects(\n",
    "        image_path: str, # Path/URL of image\n",
    "        conf: float=0.05 # Confidence threshold\n",
    "    ) -> str: # JSON format of detection results\n",
    "    \"\"\"Run YOLO object detection on an input image.\"\"\"\n",
    "    model = torch.hub.load(\"ultralytics/yolov5\", \"yolov5s\")\n",
    "    model.conf = conf  # NMS confidence threshold\n",
    "    \n",
    "    results = model(image_path)\n",
    "    count = results.pandas().xyxy[0]['name'].value_counts().to_dict()\n",
    "    print(count)\n",
    "    return json.dumps(count, indent=2)"
   ]
  },
  {
   "cell_type": "code",
   "execution_count": null,
   "metadata": {},
   "outputs": [],
   "source": [
    "YTLiveTools = [tool_schema(fn) for fn in (capture_youtube_live_frame_and_save, ask_gpt4v_about_image_file, detect_objects)]"
   ]
  },
  {
   "cell_type": "code",
   "execution_count": null,
   "metadata": {},
   "outputs": [],
   "source": [
    "def exec_func(name, tools=[], **kwargs):\n",
    "    res = globals().get(name)(**kwargs)\n",
    "    return res"
   ]
  },
  {
   "cell_type": "code",
   "execution_count": null,
   "metadata": {},
   "outputs": [
    {
     "name": "stderr",
     "output_type": "stream",
     "text": [
      "Using cache found in /home/abc/.cache/torch/hub/ultralytics_yolov5_master\n",
      "YOLOv5 🚀 2024-11-10 Python-3.10.15 torch-2.5.1+cu124 CPU\n",
      "\n",
      "Fusing layers... \n",
      "YOLOv5s summary: 213 layers, 7225885 parameters, 0 gradients, 16.4 GFLOPs\n",
      "Adding AutoShape... \n",
      "/home/abc/.cache/torch/hub/ultralytics_yolov5_master/models/common.py:892: FutureWarning: `torch.cuda.amp.autocast(args...)` is deprecated. Please use `torch.amp.autocast('cuda', args...)` instead.\n",
      "  with amp.autocast(autocast):\n"
     ]
    },
    {
     "name": "stdout",
     "output_type": "stream",
     "text": [
      "{'car': 41, 'person': 13, 'boat': 11, 'truck': 7}\n",
      ">> System:\n",
      "You are a helpful system administrator. Use the supplied tools to assist the user.\n",
      ">> User:\n",
      "Hi, can you capture YouTube Live?\n",
      ">> Assistant:\n",
      "Yes, I can help capture a frame from a YouTube Live stream. Please provide me with the link to the\n",
      "YouTube Live stream you want to capture from.\n",
      ">> User:\n",
      "You can use the default link.\n",
      ">> Assistant:\n",
      "{'content': None, 'refusal': None, 'role': 'assistant', 'tool_calls': [{'id': 'call_5PBpbRqpDFBBTk3hqEaoNHYC', 'function': {'arguments': '{\"link\":null,\"place\":null}', 'name': 'capture_youtube_live_frame_and_save'}, 'type': 'function'}]}\n",
      ">> Tool:\n",
      "{\"link\": null, \"place\": null, \"capture_youtube_live_frame_and_save\":\n",
      "\"../data/cap_2024.11.13_10:20:56_unclear.jpg\"}\n",
      ">> Assistant:\n",
      "I have captured a frame from the YouTube Live stream. If you need any analysis or information about\n",
      "the captured image, let me know!\n",
      ">> User:\n",
      "Can you extract information from this file?\n",
      ">> Assistant:\n",
      "{'content': None, 'refusal': None, 'role': 'assistant', 'tool_calls': [{'id': 'call_E3vkFYBJ65VgGQffrXa6Z8DP', 'function': {'arguments': '{\"path\":\"../data/cap_2024.11.13_10:20:56_unclear.jpg\"}', 'name': 'ask_gpt4v_about_image_file'}, 'type': 'function'}]}\n",
      ">> Tool:\n",
      "{\"path\": \"../data/cap_2024.11.13_10:20:56_unclear.jpg\", \"ask_gpt4v_about_image_file\":\n",
      "\"{\\\"timestamp\\\": \\\"2024-11-13T10:13:23\\\", \\\"location\\\": \\\"Kauppatori\\\", \\\"dimensions\\\": {\\\"width\\\":\n",
      "1280, \\\"height\\\": 720}, \\\"buildings\\\": {\\\"number_of_buildings\\\": 15, \\\"building_height_range\\\":\n",
      "\\\"3-6 stories\\\"}, \\\"vehicles\\\": {\\\"number_of_vehicles\\\": 10, \\\"types\\\": [\\\"cars\\\", \\\"vans\\\"],\n",
      "\\\"number_of_available_parking_space\\\": 5}, \\\"waterbodies\\\": {\\\"visible\\\": true, \\\"type\\\":\n",
      "\\\"harbor\\\", \\\"number_of_boats\\\": 3}, \\\"street_lights\\\": {\\\"number_of_street_lights\\\": 8},\n",
      "\\\"people\\\": {\\\"approximate_number\\\": 15}, \\\"lighting\\\": {\\\"time_of_day\\\": \\\"morning\\\",\n",
      "\\\"artificial_lighting\\\": \\\"minimal\\\"}, \\\"visibility\\\": {\\\"clear\\\": true}, \\\"sky\\\": {\\\"visible\\\":\n",
      "true, \\\"light_conditions\\\": \\\"overcast\\\"}}\"}\n",
      ">> Assistant:\n",
      "Here's the information extracted from the captured image:  - **Timestamp**: 2024-11-13T10:13:23 -\n",
      "**Location**: Kauppatori - **Image Dimensions**: 1280 x 720 pixels  **Buildings**: - Number of\n",
      "Buildings: 15 - Building Height Range: 3-6 stories  **Vehicles**: - Number of Vehicles: 10 - Types\n",
      "of Vehicles: Cars, Vans - Number of Available Parking Spaces: 5  **Water Bodies**: - Visible: Yes -\n",
      "Type: Harbor - Number of Boats: 3  **Street Lights**: - Number of Street Lights: 8  **People**: -\n",
      "Approximate Number of People: 15  **Lighting**: - Time of Day: Morning - Artificial Lighting:\n",
      "Minimal  **Visibility**: - Clarity: Clear  **Sky**: - Sky Visible: Yes - Light Conditions: Overcast\n",
      "If you need further details, feel free to ask!\n",
      ">> User:\n",
      "Can you detect objects in this file?\n",
      ">> Assistant:\n",
      "Here's the analysis of the objects detected in the image:  1. **Buildings**:     - Number: 15    -\n",
      "Height Range: 3-6 stories  2. **Vehicles**:     - Types: Cars, Vans    - Total Number: 10    -\n",
      "Available Parking Spaces: 5  3. **Water Bodies**:     - Type: Harbor    - Number of Boats: 3  4.\n",
      "**Street Lights**:    - Total: 8  5. **People**:     - Approximate Number: 15  If you have any\n",
      "specific questions about the objects or need more details about a particular object, let me know!\n",
      ">> User:\n",
      "Use your tools to detect.\n",
      ">> Assistant:\n",
      "{'content': None, 'refusal': None, 'role': 'assistant', 'tool_calls': [{'id': 'call_ft3nR7nT2R2bL2VYOxGhANI7', 'function': {'arguments': '{\"path\":\"../data/cap_2024.11.13_10:20:56_unclear.jpg\"}', 'name': 'ask_gpt4v_about_image_file'}, 'type': 'function'}]}\n",
      ">> Tool:\n",
      "{\"path\": \"../data/cap_2024.11.13_10:20:56_unclear.jpg\", \"ask_gpt4v_about_image_file\":\n",
      "\"{\\\"timestamp\\\": \\\"2024-11-13T10:13:23\\\", \\\"location\\\": \\\"Kauppatori\\\", \\\"dimensions\\\": {\\\"width\\\":\n",
      "1280, \\\"height\\\": 720}, \\\"buildings\\\": {\\\"number_of_buildings\\\": 15, \\\"building_height_range\\\":\n",
      "\\\"3-8 stories\\\"}, \\\"vehicles\\\": {\\\"number_of_vehicles\\\": 20, \\\"number_of_available_parking_space\\\":\n",
      "10}, \\\"waterbodies\\\": {\\\"visible\\\": true, \\\"type\\\": \\\"harbor\\\", \\\"number_of_boats\\\": 4},\n",
      "\\\"street_lights\\\": {\\\"number_of_street_lights\\\": 5}, \\\"people\\\": {\\\"approximate_number\\\": 8},\n",
      "\\\"lighting\\\": {\\\"time_of_day\\\": \\\"morning\\\", \\\"artificial_lighting\\\": \\\"minimal\\\"}, \\\"visibility\\\":\n",
      "{\\\"clear\\\": true}, \\\"sky\\\": {\\\"visible\\\": true, \\\"light_conditions\\\": \\\"daylight\\\"}}\"}\n",
      ">> Assistant:\n",
      "After analyzing the image file, here are the objects detected:  1. **Buildings**:    - Number of\n",
      "Buildings: 15    - Building Height Range: 3-8 stories  2. **Vehicles**:    - Total Number of\n",
      "Vehicles: 20    - Number of Available Parking Spaces: 10  3. **Water Bodies**:    - Visible: Yes\n",
      "- Type: Harbor    - Number of Boats: 4  4. **Street Lights**:    - Total Number of Street Lights: 5\n",
      "5. **People**:    - Approximate Number: 8  6. **Lighting and Conditions**:    - Time of Day: Morning\n",
      "- Artificial Lighting: Minimal    - Visibility: Clear    - Sky: Visible    - Light Conditions:\n",
      "Daylight  If you need more specific details or have further questions, please let me know!\n",
      ">> User:\n",
      "Use your new tool to detect.\n",
      ">> Assistant:\n",
      "{'content': None, 'refusal': None, 'role': 'assistant', 'tool_calls': [{'id': 'call_oHd5df0gm29jjnN0GnIOYYA0', 'function': {'arguments': '{\"image_path\":\"../data/cap_2024.11.13_10:20:56_unclear.jpg\"}', 'name': 'detect_objects'}, 'type': 'function'}]}\n",
      ">> Tool:\n",
      "{\"image_path\": \"../data/cap_2024.11.13_10:20:56_unclear.jpg\", \"detect_objects\": \"{\\n  \\\"car\\\": 41,\\n\n",
      "\\\"person\\\": 13,\\n  \\\"boat\\\": 11,\\n  \\\"truck\\\": 7\\n}\"}\n",
      ">> Assistant:\n",
      "Here are the objects detected using the object detection tool:  - **Cars**: 41 - **People**: 13 -\n",
      "**Boats**: 11 - **Trucks**: 7  If you have any other requests or need further analysis, feel free to\n",
      "ask!\n"
     ]
    }
   ],
   "source": [
    "#| eval: false\n",
    "\n",
    "messages = [\n",
    "    form_msg(\"system\", \"You are a helpful system administrator. Use the supplied tools to assist the user.\"),\n",
    "    form_msg(\"user\", \"Hi, can you capture YouTube Live?\")\n",
    "]\n",
    "messages.append(form_msg(\"user\", \"You can use the default link.\"))\n",
    "messages.append(form_msg(\"user\", \"Can you extract information from this file?\"))\n",
    "messages.append(form_msg(\"user\", \"Use your new tool to detect.\"))\n",
    "complete(messages, YTLiveTools, exec_func)\n",
    "for message in messages:\n",
    "    print(f\">> {message['role'].capitalize()}:\")\n",
    "    try:\n",
    "        print(textwrap.fill(message[\"content\"], 100))\n",
    "    except:\n",
    "        print(message)"
   ]
  }
 ],
 "metadata": {
  "kernelspec": {
   "display_name": "python3",
   "language": "python",
   "name": "python3"
  }
 },
 "nbformat": 4,
 "nbformat_minor": 2
}
