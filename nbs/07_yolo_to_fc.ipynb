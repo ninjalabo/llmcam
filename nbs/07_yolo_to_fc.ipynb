{
 "cells": [
  {
   "cell_type": "code",
   "execution_count": null,
   "metadata": {},
   "outputs": [],
   "source": [
    "#| default_exp yolo"
   ]
  },
  {
   "cell_type": "code",
   "execution_count": null,
   "metadata": {},
   "outputs": [],
   "source": [
    "#| export\n",
    "import torch\n",
    "import json"
   ]
  },
  {
   "cell_type": "code",
   "execution_count": null,
   "metadata": {},
   "outputs": [],
   "source": [
    "import textwrap\n",
    "import json\n",
    "import openai\n",
    "from llmcam.fn_to_fc import *"
   ]
  },
  {
   "cell_type": "code",
   "execution_count": null,
   "metadata": {},
   "outputs": [],
   "source": [
    "#| export\n",
    "\n",
    "def detect_objects(\n",
    "        image_path: str, # Path/URL of image\n",
    "        conf: float=0.25 # Confidence threshold\n",
    "    ) -> str: # JSON format of detection results\n",
    "    \"\"\"Run YOLO object detection on an input image.\"\"\"\n",
    "    model = torch.hub.load(\"ultralytics/yolov5\", \"yolov5s\")\n",
    "    model.conf = conf  # NMS confidence threshold\n",
    "    \n",
    "    results = model(image_path)\n",
    "    count = results.pandas().xyxy[0]['name'].value_counts().to_dict()\n",
    "    return json.dumps(count)"
   ]
  },
  {
   "cell_type": "code",
   "execution_count": null,
   "metadata": {},
   "outputs": [],
   "source": [
    "YTLiveTools = [tool_schema(fn) for fn in (capture_youtube_live_frame_and_save, ask_gpt4v_about_image_file, detect_objects)]"
   ]
  },
  {
   "cell_type": "code",
   "execution_count": null,
   "metadata": {},
   "outputs": [],
   "source": [
    "def exec_func(name, tools=[], **kwargs):\n",
    "    res = globals().get(name)(**kwargs)\n",
    "    return res"
   ]
  },
  {
   "cell_type": "code",
   "execution_count": null,
   "metadata": {},
   "outputs": [],
   "source": [
    "#| eval: false\n",
    "messages = form_msgs([\n",
    "    (\"system\", \"You are a helpful system administrator. Use the supplied tools to assist the user.\"),\n",
    "    (\"user\", \"Hi, can you capture YouTube Live?\"),\n",
    "    (\"user\", \"You can use the default link.\"),\n",
    "    (\"user\", \"Can you extract information from this file?\"),\n",
    "    (\"user\", \"Use your new tool to detect.\"),\n",
    "])\n",
    "complete(messages, YTLiveTools, exec_func)\n",
    "print_msgs(messages)"
   ]
  }
 ],
 "metadata": {
  "kernelspec": {
   "display_name": "python3",
   "language": "python",
   "name": "python3"
  }
 },
 "nbformat": 4,
 "nbformat_minor": 4
}
