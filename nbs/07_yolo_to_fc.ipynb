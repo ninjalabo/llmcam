{
 "cells": [
  {
   "cell_type": "code",
   "execution_count": null,
   "metadata": {},
   "outputs": [],
   "source": [
    "#| default_exp yolo"
   ]
  },
  {
   "cell_type": "code",
   "execution_count": null,
   "metadata": {},
   "outputs": [],
   "source": [
    "#| export\n",
    "from ultralytics import YOLO\n",
    "import json\n",
    "import os"
   ]
  },
  {
   "cell_type": "code",
   "execution_count": null,
   "metadata": {},
   "outputs": [],
   "source": [
    "import textwrap\n",
    "import json\n",
    "import openai\n",
    "from llmcam.fn_to_fc import *"
   ]
  },
  {
   "cell_type": "code",
   "execution_count": null,
   "metadata": {},
   "outputs": [],
   "source": [
    "#| export\n",
    "\n",
    "def detect_objects(\n",
    "        image_path: str, # Path/URL of image\n",
    "        conf: float=0.25 # Confidence threshold\n",
    "    ) -> str: # JSON format of detection results\n",
    "    \"\"\"Detect object in the input image.\"\"\"\n",
    "    model = YOLO('yolov8s.pt')\n",
    "    \n",
    "    result = model(image_path, conf=conf, exist_ok=True)[0]\n",
    "    # result.show()\n",
    "    save_dir = os.getenv(\"LLMCAM_DATA\", \"../data\")\n",
    "    output_path = image_path.split(\"/\")[-1]\n",
    "    result.save(filename=f\"{save_dir}/detection_{output_path}\")\n",
    "    dict = {}\n",
    "    for c in result.boxes.cls:\n",
    "        dict[model.names[int(c)]] = dict.get(model.names[int(c)], 0) + 1\n",
    "    return json.dumps(dict)"
   ]
  },
  {
   "cell_type": "code",
   "execution_count": null,
   "metadata": {},
   "outputs": [
    {
     "name": "stdout",
     "output_type": "stream",
     "text": [
      "\n",
      "image 1/1 /home/abc/llmcam/nbs/../data/cap_2024.11.25_10:59:00_SantaClausVillage.jpg: 384x640 27 persons, 1 snowboard, 15.6ms\n",
      "Speed: 1.7ms preprocess, 15.6ms inference, 4.4ms postprocess per image at shape (1, 3, 384, 640)\n"
     ]
    },
    {
     "data": {
      "text/plain": [
       "'{\"person\": 27, \"snowboard\": 1}'"
      ]
     },
     "execution_count": null,
     "metadata": {},
     "output_type": "execute_result"
    }
   ],
   "source": [
    "#| eval: false\n",
    "\n",
    "detect_objects(\"../data/cap_2024.11.25_10:59:00_SantaClausVillage.jpg\")"
   ]
  },
  {
   "cell_type": "code",
   "execution_count": null,
   "metadata": {},
   "outputs": [],
   "source": [
    "YTLiveTools = [tool_schema(fn) for fn in (capture_youtube_live_frame_and_save, ask_gpt4v_about_image_file, detect_objects)]"
   ]
  },
  {
   "cell_type": "code",
   "execution_count": null,
   "metadata": {},
   "outputs": [],
   "source": [
    "def exec_func(name, tools=[], **kwargs):\n",
    "    res = globals().get(name)(**kwargs)\n",
    "    return res"
   ]
  },
  {
   "cell_type": "code",
   "execution_count": null,
   "metadata": {},
   "outputs": [],
   "source": [
    "#| eval: false\n",
    "messages = form_msgs([\n",
    "    (\"system\", \"You are a helpful system administrator. Use the supplied tools to assist the user.\"),\n",
    "    (\"user\", \"Hi, can you capture YouTube Live?\"),\n",
    "    (\"user\", \"You can use the default link.\"),\n",
    "    (\"user\", \"Can you extract information from this file?\"),\n",
    "    (\"user\", \"Use your new tool to detect.\"),\n",
    "])\n",
    "complete(messages, YTLiveTools, exec_func)\n",
    "print_msgs(messages)"
   ]
  }
 ],
 "metadata": {
  "kernelspec": {
   "display_name": "python3",
   "language": "python",
   "name": "python3"
  }
 },
 "nbformat": 4,
 "nbformat_minor": 4
}
