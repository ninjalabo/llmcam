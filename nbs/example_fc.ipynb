{
 "cells": [
  {
   "cell_type": "code",
   "execution_count": null,
   "metadata": {},
   "outputs": [],
   "source": [
    "from llmcam.ytlive import capture_youtube_live_frame\n",
    "from llmcam.gpt4v import ask_gpt4v\n",
    "import openai\n",
    "from typing import Optional\n",
    "import json\n",
    "from datetime import datetime"
   ]
  },
  {
   "cell_type": "code",
   "execution_count": null,
   "metadata": {},
   "outputs": [],
   "source": [
    "def extract_live_info(link: Optional[str] = None):\n",
    "    if link:\n",
    "        image = capture_youtube_live_frame(link)\n",
    "    else:\n",
    "        image = capture_youtube_live_frame()\n",
    "    \n",
    "    return ask_gpt4v(image)\n",
    "\n",
    "def time():\n",
    "    return datetime.now().strftime('%Y-%m-%d %H:%M:%S')"
   ]
  },
  {
   "cell_type": "code",
   "execution_count": null,
   "metadata": {},
   "outputs": [],
   "source": [
    "tools = [\n",
    "    {\n",
    "        \"type\": \"function\",\n",
    "        \"function\": {\n",
    "            \"name\": \"extract_live_info\",\n",
    "            \"description\": \"Extract information from a YouTube Live, immediately respond to user with this information\",\n",
    "            \"parameters\": {\n",
    "                \"type\": \"object\",\n",
    "                \"properties\": {\n",
    "                    \"link\": {\n",
    "                        \"anyOf\": [\n",
    "                            {\n",
    "                                \"type\": \"string\",\n",
    "                                \"description\": \"YouTube Live URL\"\n",
    "                            },\n",
    "                            {\n",
    "                                \"type\": \"null\",\n",
    "                                \"description\": \"No URL provided, default used\"\n",
    "                            }\n",
    "                        ]\n",
    "                    }\n",
    "                },\n",
    "                \"required\": [],\n",
    "                \"additionalProperties\": False,\n",
    "            },\n",
    "        }\n",
    "    },\n",
    "\n",
    "    {\n",
    "        \"type\": \"function\",\n",
    "        \"function\": {\n",
    "            \"name\": \"time\",\n",
    "            \"description\": \"Current time, only respond if a user asks specifically\",\n",
    "            \"parameters\": {\n",
    "                \"type\": \"object\",\n",
    "                \"properties\": {},\n",
    "                \"additionalProperties\": False,\n",
    "            },\n",
    "        }\n",
    "    },\n",
    "]\n",
    "\n",
    "functions = {\n",
    "    \"extract_live_info\": extract_live_info,\n",
    "    \"time\": time,\n",
    "}"
   ]
  },
  {
   "cell_type": "code",
   "execution_count": null,
   "metadata": {},
   "outputs": [
    {
     "name": "stdout",
     "output_type": "stream",
     "text": [
      "[youtube] Extracting URL: https://www.youtube.com/watch?v=LMZQ7eFhm58\n",
      "[youtube] LMZQ7eFhm58: Downloading webpage\n",
      "[youtube] LMZQ7eFhm58: Downloading ios player API JSON\n",
      "[youtube] LMZQ7eFhm58: Downloading mweb player API JSON\n",
      "[youtube] LMZQ7eFhm58: Downloading m3u8 information\n",
      "[youtube] LMZQ7eFhm58: Downloading m3u8 information\n"
     ]
    },
    {
     "data": {
      "text/plain": [
       "{'timestamp': '2024-10-31T18:48:30',\n",
       " 'location': 'Tuomiokirkko',\n",
       " 'dimensions': {'width': 1280, 'height': 720},\n",
       " 'buildings': {'number_of_buildings': 15,\n",
       "  'building_height_range': '2-7 stories'},\n",
       " 'vehicles': {'number_of_vehicles': 0},\n",
       " 'street_lights': {'number_of_street_lights': 25},\n",
       " 'people': {'approximate_number': 0},\n",
       " 'lighting': {'time_of_day': 'evening', 'artificial_lighting': 'prominent'},\n",
       " 'visibility': {'clear': True},\n",
       " 'sky': {'visible': True, 'light_conditions': 'night'}}"
      ]
     },
     "execution_count": null,
     "metadata": {},
     "output_type": "execute_result"
    }
   ],
   "source": [
    "#| eval: false\n",
    "\n",
    "messages = [\n",
    "    {\"role\": \"system\", \"content\": \"You are a helpful customer support assistant. Use the supplied tools to assist the user.\"},\n",
    "    {\"role\": \"user\", \"content\": \"Hi, can you tell me the information in YouTube Live?\"}\n",
    "]\n",
    "\n",
    "response = openai.chat.completions.create(\n",
    "    model=\"gpt-4o\",\n",
    "    messages=messages,\n",
    "    tools=tools,\n",
    ")\n",
    "\n",
    "messages.append({\"role\": response.choices[0].message.role, \"content\": response.choices[0].message.content})\n",
    "messages.append({\"role\": \"user\", \"content\": \"I don't have a specific URL. Can you still tell me the information in some readily available Live?\"})\n",
    "\n",
    "response = openai.chat.completions.create(\n",
    "    model=\"gpt-4o\",\n",
    "    messages=messages,\n",
    "    tools=tools,\n",
    ") # First response without link\n",
    "\n",
    "# First response without link\n",
    "link = json.loads(response.choices[0].message.tool_calls[0].function.arguments).get(\"link\", None)\n",
    "extract_live_info(link)\n"
   ]
  },
  {
   "cell_type": "code",
   "execution_count": null,
   "metadata": {},
   "outputs": [
    {
     "name": "stdout",
     "output_type": "stream",
     "text": [
      "[youtube] Extracting URL: https://www.youtube.com/watch?v=dFBRpHHwQeg\n",
      "[youtube] dFBRpHHwQeg: Downloading webpage\n",
      "[youtube] dFBRpHHwQeg: Downloading ios player API JSON\n",
      "[youtube] dFBRpHHwQeg: Downloading mweb player API JSON\n",
      "[youtube] dFBRpHHwQeg: Downloading m3u8 information\n",
      "[youtube] dFBRpHHwQeg: Downloading m3u8 information\n"
     ]
    },
    {
     "data": {
      "text/plain": [
       "{'timestamp': '2024-10-31T17:56:30',\n",
       " 'location': 'Venice',\n",
       " 'dimensions': {'width': 1280, 'height': 720},\n",
       " 'buildings': {'number_of_buildings': 15,\n",
       "  'building_height_range': '3-7 stories'},\n",
       " 'vehicles': {'number_of_vehicles': 4,\n",
       "  'types': ['boats'],\n",
       "  'number_of_available_parking_space': 0},\n",
       " 'waterbodies': {'visible': True, 'type': 'canal', 'number_of_boats': 7},\n",
       " 'street_lights': {'number_of_street_lights': 25},\n",
       " 'people': {'approximate_number': 30},\n",
       " 'lighting': {'time_of_day': 'evening', 'artificial_lighting': 'prominent'},\n",
       " 'visibility': {'clear': True},\n",
       " 'sky': {'visible': True, 'light_conditions': 'dusk'}}"
      ]
     },
     "execution_count": null,
     "metadata": {},
     "output_type": "execute_result"
    }
   ],
   "source": [
    "#| eval: false\n",
    "\n",
    "# ChatGPT called a function so there is no response from assistant\n",
    "messages.append({\"role\": \"user\", \"content\": \"Thank you for that Live information. I have found this Live that seems interesting. Here is the link https://www.youtube.com/watch?v=dFBRpHHwQeg.\"})\n",
    "\n",
    "response = openai.chat.completions.create(\n",
    "    model=\"gpt-4o\",\n",
    "    messages=messages,\n",
    "    tools=tools,\n",
    ") # Second response with a link\n",
    "\n",
    "# Second response with a link\n",
    "link = json.loads(response.choices[0].message.tool_calls[1].function.arguments).get(\"link\", None)\n",
    "extract_live_info(link)"
   ]
  },
  {
   "cell_type": "markdown",
   "metadata": {},
   "source": [
    "### Example for automated function call and GPT response"
   ]
  },
  {
   "cell_type": "code",
   "execution_count": null,
   "metadata": {},
   "outputs": [],
   "source": [
    "#| eval: false\n",
    "\n",
    "messages = [\n",
    "    {\"role\": \"system\", \"content\": \"You are a helpful customer support assistant. Use the supplied tools to assist the user.\"}\n",
    "]\n",
    "\n",
    "\n",
    "def generate_response(conversation, user_message):\n",
    "    conversation.append({\"role\": \"user\", \"content\": user_message})\n",
    "\n",
    "    response = openai.chat.completions.create(\n",
    "        model=\"gpt-4o\",\n",
    "        messages=conversation,\n",
    "        tools=tools\n",
    "    )\n",
    "\n",
    "    # Append the assistant's message\n",
    "    message = response.choices[0].message\n",
    "    conversation.append(message)\n",
    "\n",
    "    # Check if a function call is in the message\n",
    "    if message.tool_calls:\n",
    "        for tool in message.tool_calls:\n",
    "            function_name = tool.function.name\n",
    "            arguments = json.loads(tool.function.arguments) if tool.function.arguments else None\n",
    "\n",
    "            # Call the function dynamically\n",
    "            if function_name in functions:\n",
    "                result = functions[function_name](**arguments)\n",
    "                # Append function result to messages\n",
    "                messages.append({\n",
    "                    \"role\": \"tool\",\n",
    "                    \"name\": function_name,\n",
    "                    \"content\": json.dumps(result),\n",
    "                    \"tool_call_id\": tool.id\n",
    "                })\n",
    "\n",
    "    return conversation, response"
   ]
  },
  {
   "cell_type": "code",
   "execution_count": null,
   "metadata": {},
   "outputs": [
    {
     "name": "stdout",
     "output_type": "stream",
     "text": [
      "[youtube] Extracting URL: https://www.youtube.com/watch?v=LMZQ7eFhm58\n",
      "[youtube] LMZQ7eFhm58: Downloading webpage\n",
      "[youtube] LMZQ7eFhm58: Downloading ios player API JSON\n",
      "[youtube] LMZQ7eFhm58: Downloading mweb player API JSON\n",
      "[youtube] LMZQ7eFhm58: Downloading m3u8 information\n",
      "[youtube] LMZQ7eFhm58: Downloading m3u8 information\n"
     ]
    }
   ],
   "source": [
    "#| eval: false\n",
    "\n",
    "user_message = \"Hi, can you tell me the information in YouTube Live? I don't have any specific interest. Just give me some readily available one.\"\n",
    "messages, response = generate_response(messages, user_message)"
   ]
  },
  {
   "cell_type": "code",
   "execution_count": null,
   "metadata": {},
   "outputs": [
    {
     "name": "stdout",
     "output_type": "stream",
     "text": [
      "Here is some readily available information from a YouTube Live stream:\n",
      "\n",
      "- **Timestamp:** 2024-10-31T20:33:30\n",
      "- **Location:** Olympiaterminaali\n",
      "- **Video Dimensions:** 1280x720 pixels\n",
      "- **Buildings:** There are 5 buildings, ranging from 3 to 4 stories tall.\n",
      "- **Vehicles:** 15 vehicles are visible, including cars and buses, with 25 available parking spaces.\n",
      "- **Water Bodies:** A harbor is visible with 2 boats.\n",
      "- **Street Lights:** There are 10 street lights visible.\n",
      "- **People:** There are approximately 0 people visible.\n",
      "- **Lighting:** It is nighttime with prominent artificial lighting.\n",
      "- **Visibility:** The visibility is clear.\n",
      "- **Sky Conditions:** The sky is visible and it is dark.\n",
      "\n",
      "Let me know if you need more information!\n"
     ]
    }
   ],
   "source": [
    "#| eval: false\n",
    "\n",
    "# Feed the function call to the chat and see the response\n",
    "response = openai.chat.completions.create(\n",
    "    model=\"gpt-4o\",\n",
    "    messages=messages,\n",
    "    tools=tools\n",
    ")\n",
    "print(response.choices[0].message.content)"
   ]
  },
  {
   "cell_type": "code",
   "execution_count": null,
   "metadata": {},
   "outputs": [],
   "source": [
    "#| eval: false\n",
    "\n",
    "user_message = \"Looks very cool. It looks a bit dark though. What time is it?\"\n",
    "messages, response = generate_response(messages, user_message)"
   ]
  },
  {
   "cell_type": "code",
   "execution_count": null,
   "metadata": {},
   "outputs": [
    {
     "name": "stdout",
     "output_type": "stream",
     "text": [
      "The current time is 20:41 (8:41 PM). It makes sense that it's a bit dark, given the nighttime setting described in the YouTube Live.\n"
     ]
    }
   ],
   "source": [
    "#| eval: false\n",
    "\n",
    "# Feed the function call to the chat and see the response\n",
    "response = openai.chat.completions.create(\n",
    "    model=\"gpt-4o\",\n",
    "    messages=messages,\n",
    "    tools=tools\n",
    ")\n",
    "print(response.choices[0].message.content)"
   ]
  }
 ],
 "metadata": {
  "kernelspec": {
   "display_name": "python3",
   "language": "python",
   "name": "python3"
  }
 },
 "nbformat": 4,
 "nbformat_minor": 2
}
