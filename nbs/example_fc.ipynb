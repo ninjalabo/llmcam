{
 "cells": [
  {
   "cell_type": "code",
   "execution_count": null,
   "metadata": {},
   "outputs": [],
   "source": [
    "from llmcam.ytlive import capture_youtube_live_frame\n",
    "from llmcam.gpt4v import ask_gpt4v\n",
    "import openai\n",
    "from typing import Optional\n",
    "import json"
   ]
  },
  {
   "cell_type": "code",
   "execution_count": null,
   "metadata": {},
   "outputs": [],
   "source": [
    "def extract_live_info(link: Optional[str] = None):\n",
    "    if link:\n",
    "        image = capture_youtube_live_frame(link)\n",
    "    else:\n",
    "        image = capture_youtube_live_frame()\n",
    "    \n",
    "    return ask_gpt4v(image)"
   ]
  },
  {
   "cell_type": "code",
   "execution_count": null,
   "metadata": {},
   "outputs": [],
   "source": [
    "tools = [\n",
    "    {\n",
    "        \"type\": \"function\",\n",
    "        \"function\": {\n",
    "            \"name\": \"extract_live_info\",\n",
    "            \"description\": \"Extarct information from a YouTube Live\",\n",
    "            \"parameters\": {\n",
    "                \"type\": \"object\",\n",
    "                \"properties\": {\n",
    "                    \"link\": {\n",
    "                        \"anyOf\": [\n",
    "                            {\n",
    "                                \"type\": \"string\",\n",
    "                                \"description\": \"YouTube Live URL\"\n",
    "                            },\n",
    "                            {\n",
    "                                \"type\": \"null\",\n",
    "                                \"description\": \"No URL provided, default used\"\n",
    "                            }\n",
    "                        ]\n",
    "                    }\n",
    "                },\n",
    "                \"required\": [],\n",
    "                \"additionalProperties\": False,\n",
    "            },\n",
    "        }\n",
    "    }\n",
    "]\n",
    "\n",
    "functions = {\n",
    "    \"extract_live_info\": extract_live_info\n",
    "}"
   ]
  },
  {
   "cell_type": "code",
   "execution_count": null,
   "metadata": {},
   "outputs": [],
   "source": [
    "messages = [\n",
    "    {\"role\": \"system\", \"content\": \"You are a helpful customer support assistant. Use the supplied tools to assist the user.\"},\n",
    "    {\"role\": \"user\", \"content\": \"Hi, can you tell me the information in YouTube Live? Here is the link https://www.youtube.com/watch?v=LMZQ7eFhm58\"}\n",
    "]\n",
    "\n",
    "response = openai.chat.completions.create(\n",
    "    model=\"gpt-4o\",\n",
    "    messages=messages,\n",
    "    functions=functions,\n",
    "    function_call=\"auto\"\n",
    ")\n",
    "\n",
    "messages.append({\"role\": response.choices[0].message.role, \"content\": response.choices[0].message.content})\n",
    "messages.append({\"role\": \"user\", \"content\": \"I don't have a specific URL. Can you still tell me the information in some readily available Live?\"})\n",
    "\n",
    "response = openai.chat.completions.create(\n",
    "    model=\"gpt-4o\",\n",
    "    messages=messages,\n",
    "    tools=tools,\n",
    ") # First response without link\n",
    "\n",
    "# ChatGPT called a function so there is no response from assistant\n",
    "messages.append({\"role\": \"user\", \"content\": \"Thank you for that Live information. I have found this Live that seems interesting. Here is the link https://www.youtube.com/watch?v=dFBRpHHwQeg.\"})\n",
    "\n",
    "response = openai.chat.completions.create(\n",
    "    model=\"gpt-4o\",\n",
    "    messages=messages,\n",
    "    tools=tools,\n",
    ") # Second response with a link"
   ]
  },
  {
   "cell_type": "code",
   "execution_count": null,
   "metadata": {},
   "outputs": [
    {
     "name": "stdout",
     "output_type": "stream",
     "text": [
      "[youtube] Extracting URL: https://www.youtube.com/watch?v=LMZQ7eFhm58\n",
      "[youtube] LMZQ7eFhm58: Downloading webpage\n",
      "[youtube] LMZQ7eFhm58: Downloading ios player API JSON\n",
      "[youtube] LMZQ7eFhm58: Downloading mweb player API JSON\n",
      "[youtube] LMZQ7eFhm58: Downloading m3u8 information\n",
      "[youtube] LMZQ7eFhm58: Downloading m3u8 information\n"
     ]
    },
    {
     "data": {
      "text/plain": [
       "{'timestamp': '2024-10-31T10:24:47',\n",
       " 'location': 'Tuomiokirkko',\n",
       " 'dimensions': {'width': 1280, 'height': 720},\n",
       " 'buildings': {'number_of_buildings': 20,\n",
       "  'building_height_range': '2-8 stories'},\n",
       " 'vehicles': {'number_of_vehicles': 0, 'types': []},\n",
       " 'waterbodies': {'visible': False, 'type': None, 'number_of_boats': 0},\n",
       " 'street_lights': {'number_of_street_lights': 0},\n",
       " 'people': {'approximate_number': 0},\n",
       " 'lighting': {'time_of_day': 'morning', 'artificial_lighting': 'none'},\n",
       " 'visibility': {'clear': True},\n",
       " 'sky': {'visible': True, 'light_conditions': 'daylight'}}"
      ]
     },
     "execution_count": null,
     "metadata": {},
     "output_type": "execute_result"
    }
   ],
   "source": [
    "# First response without link\n",
    "link = json.loads(response.choices[0].message.tool_calls[0].function.arguments).get(\"link\", None)\n",
    "extract_live_info(link)"
   ]
  },
  {
   "cell_type": "code",
   "execution_count": null,
   "metadata": {},
   "outputs": [
    {
     "name": "stdout",
     "output_type": "stream",
     "text": [
      "[youtube] Extracting URL: https://www.youtube.com/watch?v=dFBRpHHwQeg\n",
      "[youtube] dFBRpHHwQeg: Downloading webpage\n",
      "[youtube] dFBRpHHwQeg: Downloading ios player API JSON\n",
      "[youtube] dFBRpHHwQeg: Downloading mweb player API JSON\n",
      "[youtube] dFBRpHHwQeg: Downloading m3u8 information\n",
      "[youtube] dFBRpHHwQeg: Downloading m3u8 information\n"
     ]
    },
    {
     "data": {
      "text/plain": [
       "{'timestamp': '2024-10-31T09:29:40',\n",
       " 'dimensions': {'width': 1280, 'height': 720},\n",
       " 'buildings': {'number_of_buildings': 15,\n",
       "  'building_height_range': '4-10 stories'},\n",
       " 'waterbodies': {'visible': True, 'type': 'canal', 'number_of_boats': 10},\n",
       " 'people': {'approximate_number': 50},\n",
       " 'lighting': {'time_of_day': 'morning', 'artificial_lighting': 'none'},\n",
       " 'visibility': {'clear': True},\n",
       " 'sky': {'visible': True, 'light_conditions': 'daylight'}}"
      ]
     },
     "execution_count": null,
     "metadata": {},
     "output_type": "execute_result"
    }
   ],
   "source": [
    "# Second response with a link\n",
    "link = json.loads(response.choices[0].message.tool_calls[1].function.arguments).get(\"link\", None)\n",
    "extract_live_info(link)"
   ]
  },
  {
   "cell_type": "markdown",
   "metadata": {},
   "source": [
    "### Example for automated function call and GPT response"
   ]
  },
  {
   "cell_type": "code",
   "execution_count": null,
   "metadata": {},
   "outputs": [
    {
     "name": "stdout",
     "output_type": "stream",
     "text": [
      "[youtube] Extracting URL: https://www.youtube.com/watch?v=LMZQ7eFhm58\n",
      "[youtube] LMZQ7eFhm58: Downloading webpage\n",
      "[youtube] LMZQ7eFhm58: Downloading ios player API JSON\n",
      "[youtube] LMZQ7eFhm58: Downloading mweb player API JSON\n",
      "[youtube] LMZQ7eFhm58: Downloading m3u8 information\n",
      "[youtube] LMZQ7eFhm58: Downloading m3u8 information\n"
     ]
    }
   ],
   "source": [
    "index = 0\n",
    "\n",
    "messages = [\n",
    "    {\"role\": \"system\", \"content\": \"You are a helpful customer support assistant. Use the supplied tools to assist the user.\"},\n",
    "    {\"role\": \"user\", \"content\": \"Hi, can you tell me the information in YouTube Live? I don't have any specific interest. Just give me some readily available one.\"}\n",
    "]\n",
    "\n",
    "response = openai.chat.completions.create(\n",
    "    model=\"gpt-4o\",\n",
    "    messages=messages,\n",
    "    tools=tools\n",
    ")\n",
    "\n",
    "# Append the assistant's message\n",
    "message = response.choices[0].message\n",
    "messages.append(message)\n",
    "\n",
    "# Check if a function call is in the message\n",
    "if len(message.tool_calls) > 0:\n",
    "    function_name = message.tool_calls[index].function.name\n",
    "    arguments = json.loads(message.tool_calls[index].function.arguments)\n",
    "\n",
    "    # Call the function dynamically\n",
    "    if function_name in functions:\n",
    "        result = functions[function_name](**arguments)\n",
    "        # Append function result to messages\n",
    "        messages.append({\n",
    "            \"role\": \"tool\",\n",
    "            \"name\": function_name,\n",
    "            \"content\": json.dumps(result),\n",
    "            \"tool_call_id\": message.tool_calls[index].id\n",
    "        })\n",
    "\n",
    "    index += 1"
   ]
  },
  {
   "cell_type": "code",
   "execution_count": null,
   "metadata": {},
   "outputs": [
    {
     "name": "stdout",
     "output_type": "stream",
     "text": [
      "Here's some readily available information extracted from a YouTube Live:\n",
      "\n",
      "- **Timestamp:** 2024-10-31T17:02:20\n",
      "- **Dimensions:** 1280x720 pixels\n",
      "- **Buildings:** \n",
      "  - Number of buildings: 5 \n",
      "  - Height range: 2-6 stories\n",
      "- **Vehicles:** Number of vehicles: 6\n",
      "- **Waterbodies:** \n",
      "  - Visible: Yes\n",
      "  - Type: Harbor\n",
      "  - Number of boats: 1\n",
      "- **Street Lights:** Number of street lights: 25\n",
      "- **People:** Approximate number: 15\n",
      "- **Lighting:** \n",
      "  - Time of day: Evening\n",
      "  - Artificial lighting: Prominent\n",
      "- **Visibility:** Clear\n",
      "- **Sky:** Not visible\n",
      "\n",
      "If you need more specific details or have a particular area of interest, feel free to ask!\n"
     ]
    }
   ],
   "source": [
    "# Feed the function call to the chat and see the response\n",
    "response = openai.chat.completions.create(\n",
    "    model=\"gpt-4o\",\n",
    "    messages=messages,\n",
    "    tools=tools\n",
    ")\n",
    "print(response.choices[0].message.content)"
   ]
  }
 ],
 "metadata": {
  "kernelspec": {
   "display_name": "python3",
   "language": "python",
   "name": "python3"
  }
 },
 "nbformat": 4,
 "nbformat_minor": 2
}
