{
 "cells": [
  {
   "cell_type": "markdown",
   "metadata": {},
   "source": [
    "# Store\n",
    "\n",
    "> Python module for dynamically updating tools and constructing AppletStore."
   ]
  },
  {
   "cell_type": "code",
   "execution_count": null,
   "metadata": {},
   "outputs": [],
   "source": [
    "#| default_exp utils.store"
   ]
  },
  {
   "cell_type": "code",
   "execution_count": null,
   "metadata": {},
   "outputs": [],
   "source": [
    "#| hide\n",
    "from nbdev.showdoc import *"
   ]
  },
  {
   "cell_type": "markdown",
   "metadata": {},
   "source": [
    "While we have existing functions in `core` for constructing dynamic tools from locally installed functions or API endpoints, we need to incorporate these utilities into functions compatible with our current GPT Function Calling framework. There are some problems complicating this matter, including:\n",
    "\n",
    "- Our `llmcam.core.complete` function operates with a `tools` instance (Python list) at the top level and does not pass on this Python pointer to utilities for function execution.  \n",
    "- The `tools` management function should be dynamic and operate in real-time. This means that the interface for calling `llmcam.core.complete` should not change during application runs.  \n",
    "- Pasting `tools` as text in messages for GPT to interpret is unreliable because generated tools schema may exceed maximum token and GPT may not reliably add the new tools."
   ]
  },
  {
   "cell_type": "markdown",
   "metadata": {},
   "source": [
    "Therefore, the goal in this notebook is to create a framework that allows a function to manage this top-level `tools` Python list via GPT Function calling. The function should extend the existing `tools` list or delete entries from this list. Considering that `tools` cannot be passed as Python instance in `arguments` of GPT tool call, we can utilize the fixup function to retrieve `tools` from global environment with appropriate metadata."
   ]
  },
  {
   "cell_type": "code",
   "execution_count": null,
   "metadata": {},
   "outputs": [],
   "source": [
    "#| export \n",
    "from importlib import import_module\n",
    "from llmcam.core.fn_to_schema import function_schema\n",
    "from llmcam.core.oas_to_schema import load_oas, api_schema, generate_request\n",
    "from typing import Callable, Optional, Any "
   ]
  },
  {
   "cell_type": "markdown",
   "metadata": {},
   "source": [
    "## Dynamic function installation\n",
    "\n",
    "Supposing that we have a Python function installed locally on our machine, it is possible to dynamically import with `importlib`. "
   ]
  },
  {
   "cell_type": "code",
   "execution_count": null,
   "metadata": {},
   "outputs": [],
   "source": [
    "#| export\n",
    "def add_function_tools(\n",
    "    tools: list,  # List of existing tools\n",
    "    service_name: str,  # Name of the service\n",
    "    function_names: list[str],  # List of function names (with module prefix)\n",
    "):\n",
    "    \"\"\"Add function tools to the toolbox.\"\"\"\n",
    "    # Import functions\n",
    "    for function_name in function_names:\n",
    "        # Get module prefix\n",
    "        module_prefix = function_name.split(\".\")\n",
    "        if len(module_prefix) == 1:\n",
    "            module_prefix = \"builtins\"\n",
    "        else:\n",
    "            module_prefix = \".\".join(module_prefix[:-1])\n",
    "\n",
    "        # Get function name without module prefix\n",
    "        func_name = function_name.split(\".\")[-1]\n",
    "\n",
    "        # Import function\n",
    "        if module_prefix == \"builtins\":\n",
    "            func: Callable = getattr(__builtins__, func_name, None)\n",
    "        else:\n",
    "            func: Callable = getattr(import_module(module_prefix), func_name, None)\n",
    "\n",
    "        # Raise error if function not found\n",
    "        if func is None:\n",
    "            raise ValueError(f\"Function not found: {function_name}\")\n",
    "        \n",
    "        # Create tool schema and append to toolbox\n",
    "        tools.append(function_schema(func=func, service_name=service_name))"
   ]
  },
  {
   "cell_type": "code",
   "execution_count": null,
   "metadata": {},
   "outputs": [
    {
     "data": {
      "text/markdown": [
       "---\n",
       "\n",
       "[source](https://github.com/ninjalabo/llmcam/blob/main/llmcam/utils/store.py#L15){target=\"_blank\" style=\"float:right; font-size:smaller\"}\n",
       "\n",
       "### add_function_tools\n",
       "\n",
       ">      add_function_tools (tools:list, service_name:str,\n",
       ">                          function_names:list[str])\n",
       "\n",
       "*Add function tools to the toolbox.*\n",
       "\n",
       "|    | **Type** | **Details** |\n",
       "| -- | -------- | ----------- |\n",
       "| tools | list | List of existing tools |\n",
       "| service_name | str | Name of the service |\n",
       "| function_names | list | List of function names (with module prefix) |"
      ],
      "text/plain": [
       "---\n",
       "\n",
       "[source](https://github.com/ninjalabo/llmcam/blob/main/llmcam/utils/store.py#L15){target=\"_blank\" style=\"float:right; font-size:smaller\"}\n",
       "\n",
       "### add_function_tools\n",
       "\n",
       ">      add_function_tools (tools:list, service_name:str,\n",
       ">                          function_names:list[str])\n",
       "\n",
       "*Add function tools to the toolbox.*\n",
       "\n",
       "|    | **Type** | **Details** |\n",
       "| -- | -------- | ----------- |\n",
       "| tools | list | List of existing tools |\n",
       "| service_name | str | Name of the service |\n",
       "| function_names | list | List of function names (with module prefix) |"
      ]
     },
     "execution_count": null,
     "metadata": {},
     "output_type": "execute_result"
    }
   ],
   "source": [
    "show_doc(add_function_tools)"
   ]
  },
  {
   "cell_type": "markdown",
   "metadata": {},
   "source": [
    "Example usage with some functions from `llmcam.vision` modules:"
   ]
  },
  {
   "cell_type": "code",
   "execution_count": null,
   "metadata": {},
   "outputs": [
    {
     "data": {
      "text/plain": [
       "[{'type': 'function',\n",
       "  'function': {'name': 'capture_youtube_live_frame',\n",
       "   'description': 'Capture a jpeg image from YouTube Live and return the path to the saved image',\n",
       "   'parameters': {'type': 'object',\n",
       "    'properties': {'link': {'anyOf': [{'type': 'string',\n",
       "        'description': 'YouTube Live link'},\n",
       "       {'type': 'null',\n",
       "        'description': 'A default value will be automatically used.'}]},\n",
       "     'place': {'anyOf': [{'type': 'string',\n",
       "        'description': 'Location of live image'},\n",
       "       {'type': 'null',\n",
       "        'description': 'A default value will be automatically used.'}]}},\n",
       "    'required': []},\n",
       "   'metadata': {'module': 'llmcam.vision.ytlive', 'service': 'youtube_live'}}},\n",
       " {'type': 'function',\n",
       "  'function': {'name': 'ask_gpt4v_about_image_file',\n",
       "   'description': 'Tell all about quantitative information from a given image file',\n",
       "   'parameters': {'type': 'object',\n",
       "    'properties': {'path': {'type': 'string',\n",
       "      'description': 'Path to the image file'}},\n",
       "    'required': ['path']},\n",
       "   'metadata': {'module': 'llmcam.vision.gpt4v', 'service': 'youtube_live'}}}]"
      ]
     },
     "execution_count": null,
     "metadata": {},
     "output_type": "execute_result"
    }
   ],
   "source": [
    "tools = []\n",
    "add_function_tools(\n",
    "    tools, \n",
    "    \"youtube_live\", \n",
    "    [\n",
    "        \"llmcam.vision.ytlive.capture_youtube_live_frame\", \n",
    "        \"llmcam.vision.gpt4v.ask_gpt4v_about_image_file\"\n",
    "    ])\n",
    "assert len(tools) == 2, \"Tools should be updated with 2 new function.\"\n",
    "tools"
   ]
  },
  {
   "cell_type": "markdown",
   "metadata": {},
   "source": [
    "## Dynamic API installation\n",
    "\n",
    "With the functions in `oas_to_schema`, we can dynamically generate tools schema from API server with OpenAPI Specification file:"
   ]
  },
  {
   "cell_type": "code",
   "execution_count": null,
   "metadata": {},
   "outputs": [],
   "source": [
    "#| export\n",
    "def add_api_tools(\n",
    "    tools: list,  # List of existing tools\n",
    "    service_name: str,  # Name of the API service\n",
    "    base_url: str,  # Base URL of the API service\n",
    "    oas_url: Optional[str] = None,  # OpenAPI Specification URL\n",
    "    oas_destination: Optional[str] = None # OpenAPI Specification destination file\n",
    "):\n",
    "    \"\"\"Add API tools to the toolbox.\"\"\"\n",
    "    # Load OpenAPI Specification\n",
    "    if oas_url is None:\n",
    "        oas_url = f\"{base_url}/swagger/openapi.json\"\n",
    "    if oas_destination is None:\n",
    "        oas_destination = f\"api/{service_name}.json\"\n",
    "    oas = load_oas(oas_url, oas_destination, overwrite=True)\n",
    "\n",
    "    # Create tool schema and append to toolbox\n",
    "    schema = api_schema(base_url, oas, service_name=service_name, fixup=generate_request)\n",
    "    tools.extend(schema)"
   ]
  },
  {
   "cell_type": "code",
   "execution_count": null,
   "metadata": {},
   "outputs": [
    {
     "data": {
      "text/markdown": [
       "---\n",
       "\n",
       "[source](https://github.com/ninjalabo/llmcam/blob/main/llmcam/utils/store.py#L47){target=\"_blank\" style=\"float:right; font-size:smaller\"}\n",
       "\n",
       "### add_api_tools\n",
       "\n",
       ">      add_api_tools (tools:list, service_name:str, base_url:str,\n",
       ">                     oas_url:Optional[str]=None,\n",
       ">                     oas_destination:Optional[str]=None)\n",
       "\n",
       "*Add API tools to the toolbox.*\n",
       "\n",
       "|    | **Type** | **Default** | **Details** |\n",
       "| -- | -------- | ----------- | ----------- |\n",
       "| tools | list |  | List of existing tools |\n",
       "| service_name | str |  | Name of the API service |\n",
       "| base_url | str |  | Base URL of the API service |\n",
       "| oas_url | Optional | None | OpenAPI Specification URL |\n",
       "| oas_destination | Optional | None | OpenAPI Specification destination file |"
      ],
      "text/plain": [
       "---\n",
       "\n",
       "[source](https://github.com/ninjalabo/llmcam/blob/main/llmcam/utils/store.py#L47){target=\"_blank\" style=\"float:right; font-size:smaller\"}\n",
       "\n",
       "### add_api_tools\n",
       "\n",
       ">      add_api_tools (tools:list, service_name:str, base_url:str,\n",
       ">                     oas_url:Optional[str]=None,\n",
       ">                     oas_destination:Optional[str]=None)\n",
       "\n",
       "*Add API tools to the toolbox.*\n",
       "\n",
       "|    | **Type** | **Default** | **Details** |\n",
       "| -- | -------- | ----------- | ----------- |\n",
       "| tools | list |  | List of existing tools |\n",
       "| service_name | str |  | Name of the API service |\n",
       "| base_url | str |  | Base URL of the API service |\n",
       "| oas_url | Optional | None | OpenAPI Specification URL |\n",
       "| oas_destination | Optional | None | OpenAPI Specification destination file |"
      ]
     },
     "execution_count": null,
     "metadata": {},
     "output_type": "execute_result"
    }
   ],
   "source": [
    "show_doc(add_api_tools)"
   ]
  },
  {
   "cell_type": "markdown",
   "metadata": {},
   "source": [
    "Example usage with Road DigiTraffic API:"
   ]
  },
  {
   "cell_type": "code",
   "execution_count": null,
   "metadata": {},
   "outputs": [
    {
     "data": {
      "text/plain": [
       "{'type': 'function',\n",
       " 'function': {'name': 'tmsStationsDatex2Xml',\n",
       "  'description': 'The static information of TMS stations in Datex2 format (Traffic Measurement System / LAM)',\n",
       "  'parameters': {'type': 'object',\n",
       "   'properties': {'query': {'type': 'object',\n",
       "     'properties': {'state': {'type': 'string',\n",
       "       'description': 'Road station state',\n",
       "       'default': 'ACTIVE',\n",
       "       'enum': ['ALL', 'REMOVED', 'ACTIVE']}},\n",
       "     'required': []}},\n",
       "   'required': []},\n",
       "  'metadata': {'url': 'https://tie.digitraffic.fi/api/beta/tms-stations-datex2.xml',\n",
       "   'method': 'get',\n",
       "   'accepted_queries': ['state'],\n",
       "   'service': 'road_digitraffic'},\n",
       "  'fixup': 'llmcam.core.oas_to_schema.generate_request'}}"
      ]
     },
     "execution_count": null,
     "metadata": {},
     "output_type": "execute_result"
    }
   ],
   "source": [
    "tools = []\n",
    "add_api_tools(tools, \"road_digitraffic\", \"https://tie.digitraffic.fi\")\n",
    "assert len(tools) > 0, \"Tools should be updated with new API tools.\"\n",
    "tools[0]"
   ]
  },
  {
   "cell_type": "markdown",
   "metadata": {},
   "source": [
    "## Removal of existing tools\n",
    "\n",
    "Currently, there is an upper limit for the number of tools (around 128). Therefore, to better manage the toolbox, we can add an utility function to remove tools of via service name."
   ]
  },
  {
   "cell_type": "code",
   "execution_count": null,
   "metadata": {},
   "outputs": [],
   "source": [
    "#| export\n",
    "def remove_tools(\n",
    "    tools: list,  # List of existing tools\n",
    "    service_name: str  # Name of the service\n",
    "):\n",
    "    \"\"\"Remove tools from the toolbox.\"\"\"\n",
    "    tools[:] = [tool for tool in tools if (\"service\" not in tool[\"function\"][\"metadata\"] or \\\n",
    "                                       tool[\"function\"][\"metadata\"][\"service\"] != service_name)]"
   ]
  },
  {
   "cell_type": "code",
   "execution_count": null,
   "metadata": {},
   "outputs": [
    {
     "data": {
      "text/markdown": [
       "---\n",
       "\n",
       "[source](https://github.com/ninjalabo/llmcam/blob/main/llmcam/utils/store.py#L67){target=\"_blank\" style=\"float:right; font-size:smaller\"}\n",
       "\n",
       "### remove_tools\n",
       "\n",
       ">      remove_tools (tools:list, service_name:str)\n",
       "\n",
       "*Remove tools from the toolbox.*\n",
       "\n",
       "|    | **Type** | **Details** |\n",
       "| -- | -------- | ----------- |\n",
       "| tools | list | List of existing tools |\n",
       "| service_name | str | Name of the service |"
      ],
      "text/plain": [
       "---\n",
       "\n",
       "[source](https://github.com/ninjalabo/llmcam/blob/main/llmcam/utils/store.py#L67){target=\"_blank\" style=\"float:right; font-size:smaller\"}\n",
       "\n",
       "### remove_tools\n",
       "\n",
       ">      remove_tools (tools:list, service_name:str)\n",
       "\n",
       "*Remove tools from the toolbox.*\n",
       "\n",
       "|    | **Type** | **Details** |\n",
       "| -- | -------- | ----------- |\n",
       "| tools | list | List of existing tools |\n",
       "| service_name | str | Name of the service |"
      ]
     },
     "execution_count": null,
     "metadata": {},
     "output_type": "execute_result"
    }
   ],
   "source": [
    "show_doc(remove_tools)"
   ]
  },
  {
   "cell_type": "markdown",
   "metadata": {},
   "source": [
    "## Fixup setup and FC framework\n",
    "\n",
    "As described previously, we can introduce a special fixup function is used for handlers which accesses the correct instance of `tools`. This function is to be created and attached to the `tools` instance at the moment of creation.\n",
    "\n",
    "Because this fixup function should be attached to the `tools` instance during its creation, we should define a `*_core` function which operates the core operations for re-definition of execution function depending on the context rather than a fixed definition."
   ]
  },
  {
   "cell_type": "code",
   "execution_count": null,
   "metadata": {},
   "outputs": [],
   "source": [
    "#| export\n",
    "def execute_handler_core(\n",
    "    tools: list, # Tools for each session\n",
    "    function_name: str,  # Name of the function to execute\n",
    "    module: str,  # Module of the function\n",
    "    **kwargs  # Keyword arguments\n",
    "):\n",
    "    \"\"\"Execute the handler function by retrieving function with session ID.\"\"\"\n",
    "    # Get the function\n",
    "    module = import_module(module)\n",
    "    function = getattr(module, function_name, None)\n",
    "    if function is None:\n",
    "        raise ValueError(f\"Function not found: {function_name}\")\n",
    "    \n",
    "    if \"service\" in kwargs:\n",
    "        del kwargs[\"service\"]\n",
    "    \n",
    "    # Execute the function\n",
    "    function(tools, **kwargs)"
   ]
  },
  {
   "cell_type": "code",
   "execution_count": null,
   "metadata": {},
   "outputs": [],
   "source": [
    "#| export\n",
    "def handler_schema(\n",
    "    function: Callable,  # Handler function\n",
    "    service_name: str = \"toolbox_handler\",  # Name of the service\n",
    "    fixup: Optional[Callable] = None,  # Function to fixup function execution\n",
    "    **kwargs  # Additional keyword arguments\n",
    "):\n",
    "    \"\"\"Create a schema for handlers.\"\"\"\n",
    "    # Create schema from function\n",
    "    schema = function_schema(\n",
    "        func=function, \n",
    "        service_name=service_name,\n",
    "        fixup=fixup,\n",
    "        **kwargs)\n",
    "    \n",
    "    # Remove tools from parameters to ensure that the fixup is called\n",
    "    if \"tools\" in schema[\"function\"][\"parameters\"][\"properties\"]:\n",
    "        del schema[\"function\"][\"parameters\"][\"properties\"][\"tools\"]\n",
    "        schema[\"function\"][\"parameters\"][\"required\"].remove(\"tools\")\n",
    "    \n",
    "    # Return schema\n",
    "    return schema"
   ]
  },
  {
   "cell_type": "markdown",
   "metadata": {},
   "source": [
    "Example usage with execution function adding tools from Road DigiTraffic:"
   ]
  },
  {
   "cell_type": "code",
   "execution_count": null,
   "metadata": {},
   "outputs": [
    {
     "data": {
      "text/plain": [
       "{'type': 'function',\n",
       " 'function': {'name': 'add_api_tools',\n",
       "  'description': 'Add API tools to the toolbox.',\n",
       "  'parameters': {'type': 'object',\n",
       "   'properties': {'service_name': {'type': 'string',\n",
       "     'description': 'Name of the API service'},\n",
       "    'base_url': {'type': 'string',\n",
       "     'description': 'Base URL of the API service'},\n",
       "    'oas_url': {'anyOf': [{'type': 'string',\n",
       "       'description': 'OpenAPI Specification URL'},\n",
       "      {'type': 'null',\n",
       "       'description': 'A default value will be automatically used.'}]},\n",
       "    'oas_destination': {'anyOf': [{'type': 'string',\n",
       "       'description': 'OpenAPI Specification destination file'},\n",
       "      {'type': 'null',\n",
       "       'description': 'A default value will be automatically used.'}]}},\n",
       "   'required': ['service_name', 'base_url']},\n",
       "  'metadata': {'module': '__main__', 'service': 'toolbox_handler'},\n",
       "  'fixup': '__main__.execute_handler'}}"
      ]
     },
     "execution_count": null,
     "metadata": {},
     "output_type": "execute_result"
    }
   ],
   "source": [
    "tools = []\n",
    "\n",
    "# Define the fixup function attached to this `tools` instance\n",
    "def execute_handler(function_name, **kwargs):\n",
    "    execute_handler_core(tools, function_name, **kwargs)\n",
    "\n",
    "# Add the handler functions to the toolbox\n",
    "tools.extend([handler_schema(function, service_name=\"toolbox_handler\", fixup=execute_handler) for function in [\n",
    "        add_api_tools,\n",
    "        add_function_tools,\n",
    "        remove_tools\n",
    "    ]])\n",
    "assert len(tools) == 3, \"Tools should be updated with 3 new handler functions.\"\n",
    "tools[0]"
   ]
  },
  {
   "cell_type": "code",
   "execution_count": null,
   "metadata": {},
   "outputs": [
    {
     "data": {
      "text/plain": [
       "{'type': 'function',\n",
       " 'function': {'name': 'tmsStationsDatex2Json',\n",
       "  'description': 'The static information of TMS stations in Datex2 format (Traffic Measurement System / LAM)',\n",
       "  'parameters': {'type': 'object',\n",
       "   'properties': {'query': {'type': 'object',\n",
       "     'properties': {'state': {'type': 'string',\n",
       "       'description': 'Road station state',\n",
       "       'default': 'ACTIVE',\n",
       "       'enum': ['ALL', 'REMOVED', 'ACTIVE']}},\n",
       "     'required': []}},\n",
       "   'required': []},\n",
       "  'metadata': {'url': 'https://tie.digitraffic.fi/api/beta/tms-stations-datex2.json',\n",
       "   'method': 'get',\n",
       "   'accepted_queries': ['state'],\n",
       "   'service': 'road_digitraffic'},\n",
       "  'fixup': 'llmcam.core.oas_to_schema.generate_request'}}"
      ]
     },
     "execution_count": null,
     "metadata": {},
     "output_type": "execute_result"
    }
   ],
   "source": [
    "execute_handler(\n",
    "    \"add_api_tools\",\n",
    "    module=\"__main__\",\n",
    "    service_name=\"road_digitraffic\",\n",
    "    base_url=\"https://tie.digitraffic.fi\"\n",
    ")\n",
    "assert len(tools) > 3, \"Tools should be updated with new API tools.\"\n",
    "tools[4]"
   ]
  },
  {
   "cell_type": "markdown",
   "metadata": {},
   "source": [
    "## Simulated GPT workflow\n",
    "\n",
    "Test integrating with our current GPT framework:"
   ]
  },
  {
   "cell_type": "code",
   "execution_count": null,
   "metadata": {},
   "outputs": [],
   "source": [
    "#| eval: false\n",
    "from llmcam.core.fc import *\n",
    "\n",
    "tools = []\n",
    "def execute_handler(function_name, **kwargs):\n",
    "    execute_handler_core(tools, function_name, **kwargs)\n",
    "\n",
    "tools.extend([handler_schema(function, service_name=\"toolbox_handler\", fixup=execute_handler) for function in [\n",
    "        add_api_tools,\n",
    "        add_function_tools,\n",
    "        remove_tools\n",
    "    ]])\n",
    "assert len(tools) == 3"
   ]
  },
  {
   "cell_type": "code",
   "execution_count": null,
   "metadata": {},
   "outputs": [
    {
     "name": "stdout",
     "output_type": "stream",
     "text": [
      "\u001b[1m\u001b[31m>> \u001b[43m\u001b[31mSystem:\u001b[0m\n",
      "You are a helpful system administrator. Use the supplied tools to assist the user.\n",
      "\u001b[1m\u001b[31m>> \u001b[43m\u001b[32mUser:\u001b[0m\n",
      "Add a new API service called 'road_digitraffic'. Use the base URL 'https://tie.digitraffic.fi', and\n",
      "the OpenAPI Specification URL 'https://tie.digitraffic.fi/swagger/openapi.json'.\n",
      "\u001b[1m\u001b[31m>> \u001b[43m\u001b[34mAssistant:\u001b[0m\n",
      "The API service 'road_digitraffic' has been successfully added.\n"
     ]
    }
   ],
   "source": [
    "#| eval: false\n",
    "messages = form_msgs([\n",
    "    (\"system\", \"You are a helpful system administrator. Use the supplied tools to assist the user.\"),\n",
    "    (\"user\", \"Add a new API service called 'road_digitraffic'. Use the base URL 'https://tie.digitraffic.fi', and the OpenAPI Specification URL 'https://tie.digitraffic.fi/swagger/openapi.json'.\")\n",
    "])\n",
    "complete(messages, tools=tools)\n",
    "print_msgs(messages)"
   ]
  },
  {
   "cell_type": "code",
   "execution_count": null,
   "metadata": {},
   "outputs": [
    {
     "data": {
      "text/plain": [
       "65"
      ]
     },
     "execution_count": null,
     "metadata": {},
     "output_type": "execute_result"
    }
   ],
   "source": [
    "#| eval: false\n",
    "len(tools)"
   ]
  },
  {
   "cell_type": "code",
   "execution_count": null,
   "metadata": {},
   "outputs": [
    {
     "name": "stdout",
     "output_type": "stream",
     "text": [
      "\u001b[1m\u001b[31m>> \u001b[43m\u001b[31mSystem:\u001b[0m\n",
      "You are a helpful system administrator. Use the supplied tools to assist the user.\n",
      "\u001b[1m\u001b[31m>> \u001b[43m\u001b[32mUser:\u001b[0m\n",
      "Add a new API service called 'road_digitraffic'. Use the base URL 'https://tie.digitraffic.fi', and\n",
      "the OpenAPI Specification URL 'https://tie.digitraffic.fi/swagger/openapi.json'.\n",
      "\u001b[1m\u001b[31m>> \u001b[43m\u001b[34mAssistant:\u001b[0m\n",
      "The API service 'road_digitraffic' has been successfully added.\n",
      "\u001b[1m\u001b[31m>> \u001b[43m\u001b[32mUser:\u001b[0m\n",
      "Get the weather camera information for the stations with ID C01503 and C01504.\n",
      "\u001b[1m\u001b[31m>> \u001b[43m\u001b[34mAssistant:\u001b[0m\n",
      "Here is the weather camera information for the stations with IDs C01503 and C01504:  ### Station\n",
      "C01503 - kt51_Inkoo - **Coordinates**: [23.99616, 60.05374] - **Camera Type**: BOSCH - **Collection\n",
      "Status**: GATHERING - **State**: FAULT_DOUBT - **Data Updated Time**: 2024-12-15T15:25:43Z -\n",
      "**Municipality**: Inkoo - **Province**: Uusimaa - **Purpose**: Weather Observation - **Presets**:\n",
      "- **Inkooseen**: ![View](https://weathercam.digitraffic.fi/C0150301.jpg)   - **Hankoon**:\n",
      "![View](https://weathercam.digitraffic.fi/C0150302.jpg)   - **Tienpinta**:\n",
      "![View](https://weathercam.digitraffic.fi/C0150309.jpg)  ### Station C01504 - vt2_Karkkila_Korpi -\n",
      "**Coordinates**: [24.235601, 60.536727] - **Camera Type**: HIKVISION - **Collection Status**:\n",
      "GATHERING - **Data Updated Time**: 2024-12-15T15:27:10Z - **Municipality**: Karkkila - **Province**:\n",
      "Uusimaa - **Purpose**: Weather Observation - **Presets**:   - **Poriin**:\n",
      "![View](https://weathercam.digitraffic.fi/C0150401.jpg)   - **Helsinkiin**:\n",
      "![View](https://weathercam.digitraffic.fi/C0150402.jpg)   - **Tienpinta**:\n",
      "![View](https://weathercam.digitraffic.fi/C0150409.jpg)  Feel free to click on the image links to\n",
      "view the camera feed.\n"
     ]
    }
   ],
   "source": [
    "#| eval: false\n",
    "messages.append(form_msg(\"user\", \"Get the weather camera information for the stations with ID C01503 and C01504.\"))\n",
    "complete(messages, tools=tools)\n",
    "print_msgs(messages)"
   ]
  },
  {
   "cell_type": "code",
   "execution_count": null,
   "metadata": {},
   "outputs": [
    {
     "name": "stdout",
     "output_type": "stream",
     "text": [
      "\u001b[1m\u001b[31m>> \u001b[43m\u001b[31mSystem:\u001b[0m\n",
      "You are a helpful system administrator. Use the supplied tools to assist the user.\n",
      "\u001b[1m\u001b[31m>> \u001b[43m\u001b[32mUser:\u001b[0m\n",
      "Add a new API service called 'road_digitraffic'. Use the base URL 'https://tie.digitraffic.fi', and\n",
      "the OpenAPI Specification URL 'https://tie.digitraffic.fi/swagger/openapi.json'.\n",
      "\u001b[1m\u001b[31m>> \u001b[43m\u001b[34mAssistant:\u001b[0m\n",
      "The API service 'road_digitraffic' has been successfully added.\n",
      "\u001b[1m\u001b[31m>> \u001b[43m\u001b[32mUser:\u001b[0m\n",
      "Get the weather camera information for the stations with ID C01503 and C01504.\n",
      "\u001b[1m\u001b[31m>> \u001b[43m\u001b[34mAssistant:\u001b[0m\n",
      "Here is the weather camera information for the stations with IDs C01503 and C01504:  ### Station\n",
      "C01503 - kt51_Inkoo - **Coordinates**: [23.99616, 60.05374] - **Camera Type**: BOSCH - **Collection\n",
      "Status**: GATHERING - **State**: FAULT_DOUBT - **Data Updated Time**: 2024-12-15T15:25:43Z -\n",
      "**Municipality**: Inkoo - **Province**: Uusimaa - **Purpose**: Weather Observation - **Presets**:\n",
      "- **Inkooseen**: ![View](https://weathercam.digitraffic.fi/C0150301.jpg)   - **Hankoon**:\n",
      "![View](https://weathercam.digitraffic.fi/C0150302.jpg)   - **Tienpinta**:\n",
      "![View](https://weathercam.digitraffic.fi/C0150309.jpg)  ### Station C01504 - vt2_Karkkila_Korpi -\n",
      "**Coordinates**: [24.235601, 60.536727] - **Camera Type**: HIKVISION - **Collection Status**:\n",
      "GATHERING - **Data Updated Time**: 2024-12-15T15:27:10Z - **Municipality**: Karkkila - **Province**:\n",
      "Uusimaa - **Purpose**: Weather Observation - **Presets**:   - **Poriin**:\n",
      "![View](https://weathercam.digitraffic.fi/C0150401.jpg)   - **Helsinkiin**:\n",
      "![View](https://weathercam.digitraffic.fi/C0150402.jpg)   - **Tienpinta**:\n",
      "![View](https://weathercam.digitraffic.fi/C0150409.jpg)  Feel free to click on the image links to\n",
      "view the camera feed.\n",
      "\u001b[1m\u001b[31m>> \u001b[43m\u001b[32mUser:\u001b[0m\n",
      "Remove the 'road_digitraffic' service.\n",
      "\u001b[1m\u001b[31m>> \u001b[43m\u001b[34mAssistant:\u001b[0m\n",
      "The 'road_digitraffic' service has been successfully removed.\n"
     ]
    }
   ],
   "source": [
    "#| eval: false\n",
    "messages.append(form_msg(\"user\", \"Remove the 'road_digitraffic' service.\"))\n",
    "complete(messages, tools=tools)\n",
    "print_msgs(messages)"
   ]
  },
  {
   "cell_type": "code",
   "execution_count": null,
   "metadata": {},
   "outputs": [
    {
     "data": {
      "text/plain": [
       "3"
      ]
     },
     "execution_count": null,
     "metadata": {},
     "output_type": "execute_result"
    }
   ],
   "source": [
    "#| eval: false\n",
    "# After removing the 'road_digitraffic' service, the tools should only contain the initial handlers\n",
    "len(tools)"
   ]
  },
  {
   "cell_type": "code",
   "execution_count": null,
   "metadata": {},
   "outputs": [],
   "source": [
    "#| hide\n",
    "import nbdev; nbdev.nbdev_export()"
   ]
  }
 ],
 "metadata": {
  "kernelspec": {
   "display_name": "python3",
   "language": "python",
   "name": "python3"
  }
 },
 "nbformat": 4,
 "nbformat_minor": 4
}
