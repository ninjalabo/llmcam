{
 "cells": [
  {
   "cell_type": "markdown",
   "id": "eb5736f9-c84c-4e22-93c1-ad11a55ccfaa",
   "metadata": {},
   "source": [
    "# YouTube Live Capture\n",
    "> This module is used to capture images from YouTube live."
   ]
  },
  {
   "cell_type": "code",
   "execution_count": null,
   "id": "2c949aa3-61ad-4266-848b-fa9b022b54a5",
   "metadata": {},
   "outputs": [],
   "source": [
    "#| default_exp ytlive"
   ]
  },
  {
   "cell_type": "code",
   "execution_count": null,
   "id": "f10b8662-b70b-4ef5-b43c-85f4855bbe19",
   "metadata": {},
   "outputs": [],
   "source": [
    "#|hide\n",
    "from nbdev.showdoc import *"
   ]
  },
  {
   "cell_type": "code",
   "execution_count": null,
   "id": "d21d2a2f-0450-408c-bb6f-b7f7aaa6fa04",
   "metadata": {},
   "outputs": [],
   "source": [
    "#|export\n",
    "from datetime import datetime\n",
    "from IPython.display import Image, display\n",
    "from matplotlib import pyplot as plt\n",
    "from pathlib import Path\n",
    "from PIL import Image\n",
    "import cv2\n",
    "import glob\n",
    "import matplotlib.pyplot as plt\n",
    "import os\n",
    "import pytesseract\n",
    "import time\n",
    "import yt_dlp as youtube_dl"
   ]
  },
  {
   "cell_type": "markdown",
   "id": "3152eb1a-fa8b-4386-8b4a-0173b64de779",
   "metadata": {},
   "source": [
    "# Näkymä Helsingistä location list"
   ]
  },
  {
   "cell_type": "code",
   "execution_count": null,
   "id": "5f9eb642-ee4e-4150-ae94-3be5ab367c47",
   "metadata": {},
   "outputs": [],
   "source": [
    "#|export\n",
    "nakyma_helsinki_known_places = [\n",
    "    \"Olympiaterminaali\",\n",
    "    \"Etelasatama\",\n",
    "    #\"Eteläsatama\",  # fixup\n",
    "    \"Eteladsatama\", # fixup\n",
    "    \"Presidentinlinna\",\n",
    "    \"Tuomiokirkko\",\n",
    "    \"Kauppatori\",\n",
    "    \"Kauppator\",    # fixup   \n",
    "    \"Torni\",\n",
    "    \"Valkosaari\",\n",
    "]"
   ]
  },
  {
   "cell_type": "markdown",
   "id": "f4adab11-df89-4a4a-b896-9671c3fcd252",
   "metadata": {},
   "source": [
    "# YouTube Capture Experiment"
   ]
  },
  {
   "cell_type": "code",
   "execution_count": null,
   "id": "5cbad9ad-7b43-43ad-9ba0-f41f490ed5e8",
   "metadata": {},
   "outputs": [],
   "source": [
    "#|export\n",
    "nakyma_helsinkigista_youtube_live_url = \"https://www.youtube.com/watch?v=LMZQ7eFhm58\"\n",
    "ydl_opts = {\n",
    "    'cookiefile': \"cookies.txt\",  # Path to the exported cookies file,  # Use cookies for authentication\n",
    "    'download': False  # Set to True if you want to download\n",
    "}"
   ]
  },
  {
   "cell_type": "code",
   "execution_count": null,
   "id": "5aaff1b3-b715-4093-8ee4-2eaa1ee8d99c",
   "metadata": {},
   "outputs": [
    {
     "name": "stdout",
     "output_type": "stream",
     "text": [
      "[youtube] Extracting URL: https://www.youtube.com/watch?v=LMZQ7eFhm58\n",
      "[youtube] LMZQ7eFhm58: Downloading webpage\n",
      "[youtube] LMZQ7eFhm58: Downloading ios player API JSON\n",
      "[youtube] LMZQ7eFhm58: Downloading web creator player API JSON\n",
      "[youtube] LMZQ7eFhm58: Downloading m3u8 information\n",
      "https://manifest.googlevideo.com/api/manifest/hls_playlist/expire/1730307113/ei/yQ8iZ5iHJdO-0u8P17eRmAs/ip/87.92.255.37/id/LMZQ7eFhm58.4/itag/232/source/yt_live_broadcast/requiressl/yes/ratebypass/yes/live/1/sgovp/gir%3Dyes%3Bitag%3D136/rqh/1/hdlc/1/hls_chunk_host/rr5---sn-qo5-ixas.googlevideo.com/xpc/EgVo2aDSNQ%3D%3D/playlist_duration/3600/manifest_duration/3600/vprv/1/playlist_type/DVR/initcwndbps/1496250/met/1730285513,/mh/l8/mm/44/mn/sn-qo5-ixas/ms/lva/mv/m/mvi/5/pl/18/rms/lva,lva/dover/13/pacing/0/short_key/1/keepalive/yes/fexp/51312688,51326931/mt/1730285070/sparams/expire,ei,ip,id,itag,source,requiressl,ratebypass,live,sgovp,rqh,hdlc,xpc,playlist_duration,manifest_duration,vprv,playlist_type/sig/AJfQdSswRAIgLr4jfvDw0XhywuQ1ZEwplZY3zZxKUQSAaokJHm-7VGwCICbQLin1Ce8JzYwHRA3VQNdmBS5xZJkSeEHg--IyR-sy/lsparams/hls_chunk_host,initcwndbps,met,mh,mm,mn,ms,mv,mvi,pl,rms/lsig/ACJ0pHgwRgIhAKS5fsddQ9nO5yB2IvHECSfqA_XByQtR8rn7t3otlqo2AiEA6T5TC-5Tfm8jif778GkDSetVkAzukM-ltx9mRRjLdVE%3D/playlist/index.m3u8\n"
     ]
    }
   ],
   "source": [
    "#|eval: false\n",
    "with youtube_dl.YoutubeDL(ydl_opts) as ydl:\n",
    "    info = ydl.extract_info(nakyma_helsinkigista_youtube_live_url, download=False)\n",
    "    for o in info['formats']:\n",
    "        if o['resolution'] == '1280x720':\n",
    "            print(o['url'])\n",
    "            break\n",
    "    else:\n",
    "        raise ValueError(\"No 1280x720 format\")"
   ]
  },
  {
   "cell_type": "code",
   "execution_count": null,
   "id": "584fdc9a-ae84-403b-abb9-d35ade8a4219",
   "metadata": {},
   "outputs": [],
   "source": [
    "#|export\n",
    "def stream_url(ytlive_url:str, ydl_opts:dict) -> str:\n",
    "    with youtube_dl.YoutubeDL(ydl_opts) as ydl:\n",
    "        info = ydl.extract_info(ytlive_url, download=False)\n",
    "        for o in info['formats']:\n",
    "            if o['resolution'] == '1280x720':\n",
    "                return o['url']\n",
    "        else:\n",
    "            raise ValueError(\"No 1280x720 format\")    "
   ]
  },
  {
   "cell_type": "code",
   "execution_count": null,
   "id": "82b6c5c8-f983-41ea-a3da-411944b0c833",
   "metadata": {},
   "outputs": [],
   "source": [
    "#|export\n",
    "def show_frame(frame):\n",
    "    frame_rgb = cv2.cvtColor(frame, cv2.COLOR_BGR2RGB) # Convert from BGR to RGB for Matplotlib\n",
    "    plt.imshow(frame_rgb)\n",
    "    plt.axis('off')  # Hide axes\n",
    "    plt.show()   "
   ]
  },
  {
   "cell_type": "code",
   "execution_count": null,
   "id": "4bcd6018-9ae9-4a7b-8b5b-627202248e15",
   "metadata": {},
   "outputs": [],
   "source": [
    "#|export\n",
    "def crop_frame(frame, crop=(0, 0, 480, 30)):\n",
    "    x, y, w, h = crop\n",
    "    return frame[y:y+h, x:x+w]    "
   ]
  },
  {
   "cell_type": "code",
   "execution_count": null,
   "id": "a582b32d-9af1-40ab-802f-722fda7a4621",
   "metadata": {},
   "outputs": [],
   "source": [
    "#|export\n",
    "def frame_to_text(frame): return pytesseract.image_to_string(cv2.cvtColor(frame, cv2.COLOR_BGR2RGB)).strip()"
   ]
  },
  {
   "cell_type": "code",
   "execution_count": null,
   "id": "2c6b6f9c-db97-4b8a-af23-dc5334316fad",
   "metadata": {},
   "outputs": [],
   "source": [
    "#|export\n",
    "def known(txt:str, known_places:str) -> str:\n",
    "    \"try to find one of `known_places` are included in the given `txt`\"\n",
    "    for o in known_places:\n",
    "        #print(o, \"in\", txt)\n",
    "        if o in txt:\n",
    "            return o\n",
    "    raise Exception(\"No place specified\")"
   ]
  },
  {
   "cell_type": "code",
   "execution_count": null,
   "id": "c218a153-22b8-4208-b700-2061ea8f56ee",
   "metadata": {},
   "outputs": [],
   "source": [
    "assert known(\"Torninnnnnn\", nakyma_helsinki_known_places)==\"Torni\""
   ]
  },
  {
   "cell_type": "code",
   "execution_count": null,
   "id": "d21963a1-e671-4c60-a159-7156ab533e79",
   "metadata": {},
   "outputs": [],
   "source": [
    "#|export\n",
    "def meta(frame, known_places=nakyma_helsinki_known_places, printing=False):\n",
    "    \"Withdraw meta data, datetime & place\"\n",
    "    # \"04.10.2024  14:53:49  Kauppatori\", Original format\n",
    "    txt = frame_to_text(frame)\n",
    "    if printing==True: print(txt)\n",
    "    dt = datetime.strptime(txt[:19],\"%d.%m.%Y %H:%M:%S\")\n",
    "    pl = known(txt[20:], known_places)\n",
    "    pl = pl.replace(\"Eteladsatama\", \"Etelasatama\") # fixup\n",
    "    pl = pl.replace(\"ä\", \"a\")                      # fixup\n",
    "    pl = pl.replace(\"kauppator\", \"kauppatori\")     # fixup\n",
    "    return dt, pl"
   ]
  },
  {
   "cell_type": "code",
   "execution_count": null,
   "id": "388c6a14-0540-440b-86cf-3226324589e2",
   "metadata": {},
   "outputs": [],
   "source": [
    "#|export\n",
    "def fname(prefix, dt, pl): return f\"\"\"{prefix}{dt.strftime(\"%Y.%m.%d_%H:%M:%S\")}_{pl}.jpg\"\"\""
   ]
  },
  {
   "cell_type": "code",
   "execution_count": null,
   "id": "ea32ec3a-8e2e-4138-961c-ccab9f2bd169",
   "metadata": {},
   "outputs": [
    {
     "name": "stdout",
     "output_type": "stream",
     "text": [
      "[youtube] Extracting URL: https://www.youtube.com/watch?v=LMZQ7eFhm58\n",
      "[youtube] LMZQ7eFhm58: Downloading webpage\n",
      "[youtube] LMZQ7eFhm58: Downloading ios player API JSON\n",
      "[youtube] LMZQ7eFhm58: Downloading web creator player API JSON\n",
      "[youtube] LMZQ7eFhm58: Downloading m3u8 information\n"
     ]
    },
    {
     "data": {
      "image/png": "[encoded data removed]",
      "text/plain": [
       "<Figure size 640x480 with 1 Axes>"
      ]
     },
     "metadata": {},
     "output_type": "display_data"
    },
    {
     "name": "stdout",
     "output_type": "stream",
     "text": [
      "10.2024 1\n",
      "10.2024 1\n",
      "time data '10.2024 1' does not match format '%d.%m.%Y %H:%M:%S'\n"
     ]
    }
   ],
   "source": [
    "#| eval: false\n",
    "url = stream_url(nakyma_helsinkigista_youtube_live_url, ydl_opts)\n",
    "cap = cv2.VideoCapture(url)\n",
    "ret, frame = cap.read()\n",
    "if ret:\n",
    "    show_frame(crop_frame(frame))\n",
    "    print(frame_to_text(crop_frame(frame)))\n",
    "    try:\n",
    "        print(fname(\"cap_\", *meta(crop_frame(frame), printing=True)))\n",
    "    except Exception as e:\n",
    "        print(e)\n",
    "else:\n",
    "    print(\"Failed to capture frame.\")"
   ]
  },
  {
   "cell_type": "code",
   "execution_count": null,
   "id": "c881062c-1c06-4896-90d2-e7b01669d61b",
   "metadata": {},
   "outputs": [],
   "source": [
    "#|export\n",
    "def capture_youtube_live_frame(youtube_live_url:str=nakyma_helsinkigista_youtube_live_url):\n",
    "    \"Capture a frame from the given YouTube Live URL and save into a JPEG file\"\n",
    "\n",
    "    url = stream_url(youtube_live_url, ydl_opts)\n",
    "    cap = cv2.VideoCapture(url)\n",
    "    ret, frame = cap.read()\n",
    "    #show_frame(crop_frame(frame))\n",
    "    if ret==False:\n",
    "        raise Exception(\"Failed to capture frame.\")\n",
    "    try:        \n",
    "        path = Path(\"../data\")/fname(\"cap_\", *meta(crop_frame(frame), printing=True))\n",
    "    except:\n",
    "        path = Path(\"../data\")/fname(\"fail_\", datetime.now(), \"nowhere\")\n",
    "    path.parent.mkdir(parents=True, exist_ok=True)\n",
    "    cv2.imwrite(path, frame)\n",
    "    return path"
   ]
  },
  {
   "cell_type": "code",
   "execution_count": null,
   "id": "cc660cbc-b815-4db2-ab10-05e9c5346aa0",
   "metadata": {},
   "outputs": [
    {
     "name": "stdout",
     "output_type": "stream",
     "text": [
      "[youtube] Extracting URL: https://www.youtube.com/watch?v=LMZQ7eFhm58\n",
      "[youtube] LMZQ7eFhm58: Downloading webpage\n",
      "[youtube] LMZQ7eFhm58: Downloading ios player API JSON\n",
      "[youtube] LMZQ7eFhm58: Downloading web creator player API JSON\n",
      "[youtube] LMZQ7eFhm58: Downloading m3u8 information\n",
      "30.10.2024 12:45:22 Tuomiokirkko |\n"
     ]
    },
    {
     "data": {
      "text/plain": [
       "Path('../data/cap_2024.10.30_12:45:22_Tuomiokirkko.jpg')"
      ]
     },
     "execution_count": null,
     "metadata": {},
     "output_type": "execute_result"
    }
   ],
   "source": [
    "#|eval: false\n",
    "file = capture_youtube_live_frame()\n",
    "file"
   ]
  },
  {
   "cell_type": "code",
   "execution_count": null,
   "id": "00b07988-941a-4c13-a9fa-2162c3c87834",
   "metadata": {},
   "outputs": [
    {
     "data": {
      "image/png": "[encoded data removed]",
      "text/plain": [
       "<Figure size 640x480 with 1 Axes>"
      ]
     },
     "metadata": {},
     "output_type": "display_data"
    }
   ],
   "source": [
    "#|eval: false\n",
    "def crop_image(path, crop=(0, 0, 480, 30)): return Image.open(path).crop(crop)\n",
    "def show_image(path):\n",
    "    plt.imshow(crop_image(path))\n",
    "    plt.axis('off')\n",
    "    plt.show()\n",
    "\n",
    "show_image(file)"
   ]
  },
  {
   "cell_type": "markdown",
   "id": "e777f467-2f82-4507-92c5-2bbacfd5a49c",
   "metadata": {},
   "source": [
    "# Extract meta data from an image file"
   ]
  },
  {
   "cell_type": "code",
   "execution_count": null,
   "id": "7b06862f-b53d-4db6-b073-fc681fc131ef",
   "metadata": {},
   "outputs": [],
   "source": [
    "#|eval: false\n",
    "try:\n",
    "    fname(\"cap_\", *meta(files[1]))\n",
    "except:\n",
    "    pass"
   ]
  },
  {
   "cell_type": "markdown",
   "id": "ff95966d-cdb6-4c72-92ad-81a6e8150d79",
   "metadata": {},
   "source": [
    "## Rename files with meta info\n",
    "\n",
    "\"cap_2024.10.04_14:56:49_Presidentinlinna\"\n",
    "\n",
    "\"cap_2024.10.06_19:04:14_Kauppatori\"\n",
    "\n",
    "\"cap_2024.10.06_20:08:29_Kauppatori\""
   ]
  },
  {
   "cell_type": "code",
   "execution_count": null,
   "id": "1639e049-1926-4505-a86f-9f53ec9565e1",
   "metadata": {},
   "outputs": [
    {
     "name": "stdout",
     "output_type": "stream",
     "text": [
      "../data/fail_2024.10.30_12:37:43_nowhere.jpg\n",
      "../data/frame_1730210769.jpg\n",
      "../data/frame_1730275818.jpg\n",
      "../data/frame_1730216457.jpg\n",
      "../data/frame_1730216703.jpg\n",
      "../data/frame_1730210684.jpg\n",
      "../data/frame_1730283579.jpg\n",
      "../data/fail_2024.10.30_12:37:46_nowhere.jpg\n",
      "../data/fail_2024.10.30_12:51:56_nowhere.jpg\n",
      "../data/frame_1730210981.jpg\n",
      "../data/fail_2024.10.30_12:37:49_nowhere.jpg\n",
      "../data/fail_2024.10.30_12:38:06_nowhere.jpg\n",
      "../data/frame_1730210632.jpg\n",
      "../data/frame_1730210753.jpg\n",
      "../data/frame_1730210641.jpg\n",
      "../data/frame_1730275774.jpg\n",
      "../data/frame_1730210660.jpg\n",
      "../data/frame_1730211141.jpg\n",
      "../data/fail_2024.10.30_12:37:38_nowhere.jpg\n",
      "../data/fail_2024.10.30_12:38:01_nowhere.jpg\n",
      "../data/frame_1730276077.jpg\n"
     ]
    }
   ],
   "source": [
    "#|eval: false\n",
    "for i, o in enumerate(glob.glob(\"../data/f*.jpg\")):\n",
    "    try:\n",
    "        new = Path(\"../data\")/fname(\"cap_\", *meta(o, True))\n",
    "        print(i, o, \" -> \", new)\n",
    "        os.rename(o, new)\n",
    "    except Exception as e:\n",
    "        print(o)"
   ]
  },
  {
   "cell_type": "code",
   "execution_count": 1,
   "id": "516e28c8-21c2-4b3e-811d-ae2dfb3fa5bc",
   "metadata": {},
   "outputs": [],
   "source": [
    "#| hide\n",
    "import nbdev; nbdev.nbdev_export()"
   ]
  }
 ],
 "metadata": {
  "kernelspec": {
   "display_name": "fasthtml-test",
   "language": "python",
   "name": "python3"
  },
  "language_info": {
   "codemirror_mode": {
    "name": "ipython",
    "version": 3
   },
   "file_extension": ".py",
   "mimetype": "text/x-python",
   "name": "python",
   "nbconvert_exporter": "python",
   "pygments_lexer": "ipython3",
   "version": "3.12.7"
  }
 },
 "nbformat": 4,
 "nbformat_minor": 5
}
