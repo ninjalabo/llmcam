{
 "cells": [
  {
   "cell_type": "markdown",
   "id": "eb5736f9-c84c-4e22-93c1-ad11a55ccfaa",
   "metadata": {},
   "source": [
    "# YouTube Live Capture\n",
    "> This module is used to capture images from YouTube live."
   ]
  },
  {
   "cell_type": "code",
   "execution_count": null,
   "id": "2c949aa3-61ad-4266-848b-fa9b022b54a5",
   "metadata": {},
   "outputs": [],
   "source": [
    "#| default_exp ytlive"
   ]
  },
  {
   "cell_type": "code",
   "execution_count": null,
   "id": "f10b8662-b70b-4ef5-b43c-85f4855bbe19",
   "metadata": {},
   "outputs": [],
   "source": [
    "#|hide\n",
    "from nbdev.showdoc import *"
   ]
  },
  {
   "cell_type": "code",
   "execution_count": null,
   "id": "d21d2a2f-0450-408c-bb6f-b7f7aaa6fa04",
   "metadata": {},
   "outputs": [],
   "source": [
    "#|export\n",
    "from datetime import datetime\n",
    "from IPython.display import Image, display\n",
    "from matplotlib import pyplot as plt\n",
    "from pathlib import Path\n",
    "from PIL import Image\n",
    "import cv2\n",
    "import glob\n",
    "import matplotlib.pyplot as plt\n",
    "import os\n",
    "import pytesseract\n",
    "import time\n",
    "import yt_dlp as youtube_dl"
   ]
  },
  {
   "cell_type": "markdown",
   "id": "3152eb1a-fa8b-4386-8b4a-0173b64de779",
   "metadata": {},
   "source": [
    "# Näkymä Helsingistä location list"
   ]
  },
  {
   "cell_type": "code",
   "execution_count": null,
   "id": "5f9eb642-ee4e-4150-ae94-3be5ab367c47",
   "metadata": {},
   "outputs": [],
   "source": [
    "#|export\n",
    "nakyma_helsinki_known_places = [\n",
    "    \"Olympiaterminaali\",\n",
    "    \"Etelasatama\",\n",
    "    #\"Eteläsatama\",  # fixup\n",
    "    \"Eteladsatama\", # fixup\n",
    "    \"Presidentinlinna\",\n",
    "    \"Tuomiokirkko\",\n",
    "    \"Kauppatori\",\n",
    "    \"Kauppator\",    # fixup   \n",
    "    \"Torni\",\n",
    "    \"Valkosaari\",\n",
    "]"
   ]
  },
  {
   "cell_type": "markdown",
   "id": "f4adab11-df89-4a4a-b896-9671c3fcd252",
   "metadata": {},
   "source": [
    "# YouTube Capture Experiment"
   ]
  },
  {
   "cell_type": "code",
   "execution_count": null,
   "id": "5cbad9ad-7b43-43ad-9ba0-f41f490ed5e8",
   "metadata": {},
   "outputs": [],
   "source": [
    "#|export\n",
    "nakyma_helsinkigista_youtube_live_url = \"https://www.youtube.com/watch?v=LMZQ7eFhm58\"\n",
    "ydl_opts = {\n",
    "    'cookiefile': \"cookies.txt\",  # Path to the exported cookies file,  # Use cookies for authentication\n",
    "    'download': False  # Set to True if you want to download\n",
    "}"
   ]
  },
  {
   "cell_type": "code",
   "execution_count": null,
   "id": "5aaff1b3-b715-4093-8ee4-2eaa1ee8d99c",
   "metadata": {},
   "outputs": [
    {
     "name": "stdout",
     "output_type": "stream",
     "text": [
      "[youtube] Extracting URL: https://www.youtube.com/watch?v=LMZQ7eFhm58\n",
      "[youtube] LMZQ7eFhm58: Downloading webpage\n",
      "[youtube] LMZQ7eFhm58: Downloading ios player API JSON\n",
      "[youtube] LMZQ7eFhm58: Downloading web creator player API JSON\n",
      "[youtube] LMZQ7eFhm58: Downloading m3u8 information\n",
      "https://manifest.googlevideo.com/api/manifest/hls_playlist/expire/1731361277/ei/nSUyZ7_VK6a80u8Pr9XG4Qc/ip/2001:14bb:693:814b:6cf8:466:4906:b913/id/LMZQ7eFhm58.4/itag/232/source/yt_live_broadcast/requiressl/yes/ratebypass/yes/live/1/sgovp/gir%3Dyes%3Bitag%3D136/rqh/1/hdlc/1/hls_chunk_host/rr5---sn-qo5-ixas.googlevideo.com/xpc/EgVo2aDSNQ%3D%3D/playlist_duration/3600/manifest_duration/3600/vprv/1/playlist_type/DVR/initcwndbps/1467500/met/1731339678,/mh/l8/mm/44/mn/sn-qo5-ixas/ms/lva/mv/m/mvi/5/pcm2cms/yes/pl/49/rms/lva,lva/dover/13/pacing/0/short_key/1/keepalive/yes/fexp/51312688,51326932/mt/1731339162/sparams/expire,ei,ip,id,itag,source,requiressl,ratebypass,live,sgovp,rqh,hdlc,xpc,playlist_duration,manifest_duration,vprv,playlist_type/sig/AJfQdSswRQIgFW9WJZ0GfBMxlRihLf2v4o741rOonQ5NivOu4kHwVx8CIQDA3g0dAE0BWx_BDkfyldNsF2z4Jf74xYomUYrSKs4UBA%3D%3D/lsparams/hls_chunk_host,initcwndbps,met,mh,mm,mn,ms,mv,mvi,pcm2cms,pl,rms/lsig/AGluJ3MwRgIhAK3opSPBuO135lJUjthUvwfChQaEONmaVsFidce2uE9gAiEAspdlt85ojgsBDa697pSlYP7X308ml8MSpMmKky605LM%3D/playlist/index.m3u8\n"
     ]
    }
   ],
   "source": [
    "#|eval: false\n",
    "with youtube_dl.YoutubeDL(ydl_opts) as ydl:\n",
    "    info = ydl.extract_info(nakyma_helsinkigista_youtube_live_url, download=False)\n",
    "    for o in info['formats']:\n",
    "        if o['resolution'] == '1280x720':\n",
    "            print(o['url'])\n",
    "            break\n",
    "    else:\n",
    "        raise ValueError(\"No 1280x720 format\")"
   ]
  },
  {
   "cell_type": "code",
   "execution_count": null,
   "id": "584fdc9a-ae84-403b-abb9-d35ade8a4219",
   "metadata": {},
   "outputs": [],
   "source": [
    "#|export\n",
    "def stream_url(ytlive_url:str, ydl_opts:dict) -> str:\n",
    "    with youtube_dl.YoutubeDL(ydl_opts) as ydl:\n",
    "        info = ydl.extract_info(ytlive_url, download=False)\n",
    "        for o in info['formats']:\n",
    "            if o['resolution'] == '1280x720':\n",
    "                return o['url']\n",
    "        else:\n",
    "            raise ValueError(\"No 1280x720 format\")    "
   ]
  },
  {
   "cell_type": "code",
   "execution_count": null,
   "id": "82b6c5c8-f983-41ea-a3da-411944b0c833",
   "metadata": {},
   "outputs": [],
   "source": [
    "#|export\n",
    "def show_frame(frame):\n",
    "    frame_rgb = cv2.cvtColor(frame, cv2.COLOR_BGR2RGB) # Convert from BGR to RGB for Matplotlib\n",
    "    plt.imshow(frame_rgb)\n",
    "    plt.axis('off')  # Hide axes\n",
    "    plt.show()   "
   ]
  },
  {
   "cell_type": "code",
   "execution_count": null,
   "id": "4bcd6018-9ae9-4a7b-8b5b-627202248e15",
   "metadata": {},
   "outputs": [],
   "source": [
    "#|export\n",
    "def crop_frame(frame, crop=(0, 0, 480, 30)):\n",
    "    x, y, w, h = crop\n",
    "    return frame[y:y+h, x:x+w]    "
   ]
  },
  {
   "cell_type": "code",
   "execution_count": null,
   "id": "a582b32d-9af1-40ab-802f-722fda7a4621",
   "metadata": {},
   "outputs": [],
   "source": [
    "#|export\n",
    "def frame_to_text(frame): return pytesseract.image_to_string(cv2.cvtColor(frame, cv2.COLOR_BGR2RGB)).strip()"
   ]
  },
  {
   "cell_type": "code",
   "execution_count": null,
   "id": "2c6b6f9c-db97-4b8a-af23-dc5334316fad",
   "metadata": {},
   "outputs": [],
   "source": [
    "#|export\n",
    "def known(txt:str, known_places:str) -> str:\n",
    "    \"try to find one of `known_places` are included in the given `txt`\"\n",
    "    for o in known_places:\n",
    "        #print(o, \"in\", txt)\n",
    "        if o in txt:\n",
    "            return o\n",
    "    raise Exception(\"No place specified\")"
   ]
  },
  {
   "cell_type": "code",
   "execution_count": null,
   "id": "c218a153-22b8-4208-b700-2061ea8f56ee",
   "metadata": {},
   "outputs": [],
   "source": [
    "assert known(\"Torninnnnnn\", nakyma_helsinki_known_places)==\"Torni\""
   ]
  },
  {
   "cell_type": "code",
   "execution_count": null,
   "id": "d21963a1-e671-4c60-a159-7156ab533e79",
   "metadata": {},
   "outputs": [],
   "source": [
    "#|export\n",
    "def meta(frame, known_places=nakyma_helsinki_known_places, printing=False):\n",
    "    \"Withdraw meta data, datetime & place\"\n",
    "    # \"04.10.2024  14:53:49  Kauppatori\", Original format\n",
    "    txt = frame_to_text(frame)\n",
    "    if printing==True: print(txt)\n",
    "    dt = datetime.strptime(txt[:19],\"%d.%m.%Y %H:%M:%S\")\n",
    "    pl = known(txt[20:], known_places)\n",
    "    pl = pl.replace(\"Eteladsatama\", \"Etelasatama\") # fixup\n",
    "    pl = pl.replace(\"ä\", \"a\")                      # fixup\n",
    "    pl = pl.replace(\"kauppator\", \"kauppatori\")     # fixup\n",
    "    return dt, pl"
   ]
  },
  {
   "cell_type": "code",
   "execution_count": null,
   "id": "388c6a14-0540-440b-86cf-3226324589e2",
   "metadata": {},
   "outputs": [],
   "source": [
    "#|export\n",
    "def fname(prefix, dt, pl): return f\"\"\"{prefix}{dt.strftime(\"%Y.%m.%d_%H:%M:%S\")}_{pl}.jpg\"\"\""
   ]
  },
  {
   "cell_type": "code",
   "execution_count": null,
   "id": "ea32ec3a-8e2e-4138-961c-ccab9f2bd169",
   "metadata": {},
   "outputs": [
    {
     "name": "stdout",
     "output_type": "stream",
     "text": [
      "[youtube] Extracting URL: https://www.youtube.com/watch?v=LMZQ7eFhm58\n",
      "[youtube] LMZQ7eFhm58: Downloading webpage\n",
      "[youtube] LMZQ7eFhm58: Downloading ios player API JSON\n",
      "[youtube] LMZQ7eFhm58: Downloading web creator player API JSON\n",
      "[youtube] LMZQ7eFhm58: Downloading m3u8 information\n"
     ]
    },
    {
     "data": {
      "image/png": "[encoded data removed]",
      "text/plain": [
       "<Figure size 640x480 with 1 Axes>"
      ]
     },
     "metadata": {},
     "output_type": "display_data"
    },
    {
     "name": "stdout",
     "output_type": "stream",
     "text": [
      "11.11.2024 17:33:48 Presidentinlinna\n",
      "11.11.2024 17:33:48 Presidentinlinna\n",
      "cap_2024.11.11_17:33:48_Presidentinlinna.jpg\n"
     ]
    }
   ],
   "source": [
    "#| eval: false\n",
    "url = stream_url(nakyma_helsinkigista_youtube_live_url, ydl_opts)\n",
    "cap = cv2.VideoCapture(url)\n",
    "ret, frame = cap.read()\n",
    "if ret:\n",
    "    show_frame(crop_frame(frame))\n",
    "    print(frame_to_text(crop_frame(frame)))\n",
    "    try:\n",
    "        print(fname(\"cap_\", *meta(crop_frame(frame), printing=True)))\n",
    "    except Exception as e:\n",
    "        print(e)\n",
    "else:\n",
    "    print(\"Failed to capture frame.\")"
   ]
  },
  {
   "cell_type": "code",
   "execution_count": null,
   "id": "6b31ae99-c403-41c8-989a-ea4cdd15f443",
   "metadata": {},
   "outputs": [],
   "source": [
    "#|eval: false\n",
    "def capture_youtube_live_frame(youtube_live_url:str=nakyma_helsinkigista_youtube_live_url):\n",
    "    \"Capture a frame from the given YouTube Live URL and save into a JPEG file\"\n",
    "\n",
    "    url = stream_url(youtube_live_url, ydl_opts)\n",
    "    cap = cv2.VideoCapture(url)\n",
    "    ret, frame = cap.read()\n",
    "    #show_frame(crop_frame(frame))\n",
    "    if ret==False:\n",
    "        raise Exception(\"Failed to capture frame.\")\n",
    "    try:        \n",
    "        path = Path(os.getenv(\"LLMCAM_DATA\", \"../data\"))/fname(\"cap_\", *meta(crop_frame(frame), printing=True))\n",
    "    except:\n",
    "        path = Path(os.getenv(\"LLMCAM_DATA\", \"../data\"))/fname(\"fail_\", datetime.now(), \"nowhere\")\n",
    "    path.parent.mkdir(parents=True, exist_ok=True)\n",
    "    cv2.imwrite(path, frame)\n",
    "    return path\n",
    "\n",
    "file = capture_youtube_live_frame()\n",
    "file"
   ]
  },
  {
   "cell_type": "code",
   "execution_count": null,
   "id": "26b08a52-d96b-4a7e-b397-b67835267489",
   "metadata": {},
   "outputs": [],
   "source": [
    "#| export\n",
    "class YTLive:\n",
    "    def __init__(self,\n",
    "                 url:str, # YouTube Live URL\n",
    "                 data_dir:Path = Path(os.getenv(\"LLMCAM_DATA\", \"../data\")), # directory to store captured images\n",
    "                 place:str=\"nowhere\", # place name\n",
    "                ):\n",
    "        self.url = url\n",
    "        self.stream_url = stream_url(url, ydl_opts)\n",
    "        self.data_dir = data_dir\n",
    "        self.place = place\n",
    "\n",
    "    def file_name(self, frame=None):\n",
    "        return fname(\"cap_\", datetime.now(), self.place)\n",
    "\n",
    "    def capture(self) -> Path:\n",
    "        cap = cv2.VideoCapture(self.stream_url)\n",
    "        ret, frame = cap.read()\n",
    "        if ret==False:\n",
    "            raise Exception(\"Failed to capture frame.\")\n",
    "        fn = self.data_dir/self.file_name(frame)\n",
    "        cv2.imwrite(fn, frame)\n",
    "        return fn     \n",
    "\n",
    "    def __call__(self):\n",
    "        # __call__ method allows the instance to be called like a function\n",
    "        return self.capture()"
   ]
  },
  {
   "cell_type": "code",
   "execution_count": null,
   "id": "700f8f8b-e5a6-4bbe-9601-e15e76a6239a",
   "metadata": {},
   "outputs": [
    {
     "data": {
      "text/markdown": [
       "---\n",
       "\n",
       "[source](https://github.com/ninjalabo/llmcam/blob/main/llmcam/ytlive.py#L113){target=\"_blank\" style=\"float:right; font-size:smaller\"}\n",
       "\n",
       "### YTLive\n",
       "\n",
       ">      YTLive (url:str, data_dir:pathlib.Path=Path('../data'),\n",
       ">              place:str='nowhere')\n",
       "\n",
       "*Initialize self.  See help(type(self)) for accurate signature.*\n",
       "\n",
       "|    | **Type** | **Default** | **Details** |\n",
       "| -- | -------- | ----------- | ----------- |\n",
       "| url | str |  | YouTube Live URL |\n",
       "| data_dir | Path | ../data | directory to store captured images |\n",
       "| place | str | nowhere | place name |"
      ],
      "text/plain": [
       "---\n",
       "\n",
       "[source](https://github.com/ninjalabo/llmcam/blob/main/llmcam/ytlive.py#L113){target=\"_blank\" style=\"float:right; font-size:smaller\"}\n",
       "\n",
       "### YTLive\n",
       "\n",
       ">      YTLive (url:str, data_dir:pathlib.Path=Path('../data'),\n",
       ">              place:str='nowhere')\n",
       "\n",
       "*Initialize self.  See help(type(self)) for accurate signature.*\n",
       "\n",
       "|    | **Type** | **Default** | **Details** |\n",
       "| -- | -------- | ----------- | ----------- |\n",
       "| url | str |  | YouTube Live URL |\n",
       "| data_dir | Path | ../data | directory to store captured images |\n",
       "| place | str | nowhere | place name |"
      ]
     },
     "execution_count": null,
     "metadata": {},
     "output_type": "execute_result"
    }
   ],
   "source": [
    "show_doc(YTLive)"
   ]
  },
  {
   "cell_type": "code",
   "execution_count": null,
   "id": "fe8727de-0a9d-4776-a9a3-1b78bcd32411",
   "metadata": {},
   "outputs": [
    {
     "name": "stdout",
     "output_type": "stream",
     "text": [
      "[youtube] Extracting URL: https://www.youtube.com/live/Cp4RRAEgpeU?si=IwqJ4QU1Umv9PdgW\n",
      "[youtube] Cp4RRAEgpeU: Downloading webpage\n",
      "[youtube] Cp4RRAEgpeU: Downloading ios player API JSON\n",
      "[youtube] Cp4RRAEgpeU: Downloading web creator player API JSON\n",
      "[youtube] Cp4RRAEgpeU: Downloading m3u8 information\n"
     ]
    },
    {
     "data": {
      "text/plain": [
       "Path('../data/cap_2024.11.11_17:41:25_santaclausvillege.jpg')"
      ]
     },
     "execution_count": null,
     "metadata": {},
     "output_type": "execute_result"
    }
   ],
   "source": [
    "#| eval: false\n",
    "SantaClausVilledge = YTLive(url=\"https://www.youtube.com/live/Cp4RRAEgpeU?si=IwqJ4QU1Umv9PdgW\", place=\"santaclausvillege\")\n",
    "file = SantaClausVilledge()\n",
    "file"
   ]
  },
  {
   "cell_type": "code",
   "execution_count": null,
   "id": "86b0e55f-816f-435b-a712-fed52a3cb6a8",
   "metadata": {},
   "outputs": [],
   "source": [
    "#| export\n",
    "class NHsta(YTLive):\n",
    "    def __init__(self,\n",
    "                 url:str=\"https://www.youtube.com/watch?v=LMZQ7eFhm58\", # YouTube Live URL\n",
    "                 data_dir:Path = Path(os.getenv(\"LLMCAM_DATA\", \"../data\")), # directory to store captured images\n",
    "                 place:str=\"unclear\", # place name if OCR doesn't work\n",
    "                ):\n",
    "        super().__init__(url, data_dir, place)\n",
    "    \n",
    "    def file_name(self, frame):\n",
    "        try:        \n",
    "            path = fname(\"cap_\", *meta(crop_frame(frame), printing=True))\n",
    "        except Exception as e:\n",
    "            path = super().file_name()\n",
    "            print(path)\n",
    "        return path"
   ]
  },
  {
   "cell_type": "code",
   "execution_count": null,
   "id": "492b3418-fb38-44bd-a8c7-dbd6200b8d17",
   "metadata": {},
   "outputs": [
    {
     "data": {
      "text/markdown": [
       "---\n",
       "\n",
       "[source](https://github.com/ninjalabo/llmcam/blob/main/llmcam/ytlive.py#L141){target=\"_blank\" style=\"float:right; font-size:smaller\"}\n",
       "\n",
       "### NHsta\n",
       "\n",
       ">      NHsta (url:str='https://www.youtube.com/watch?v=LMZQ7eFhm58',\n",
       ">             data_dir:pathlib.Path=Path('../data'), place:str='unclear')\n",
       "\n",
       "*Initialize self.  See help(type(self)) for accurate signature.*\n",
       "\n",
       "|    | **Type** | **Default** | **Details** |\n",
       "| -- | -------- | ----------- | ----------- |\n",
       "| url | str | https://www.youtube.com/watch?v=LMZQ7eFhm58 | YouTube Live URL |\n",
       "| data_dir | Path | ../data | directory to store captured images |\n",
       "| place | str | unclear | place name if OCR doesn't work |"
      ],
      "text/plain": [
       "---\n",
       "\n",
       "[source](https://github.com/ninjalabo/llmcam/blob/main/llmcam/ytlive.py#L141){target=\"_blank\" style=\"float:right; font-size:smaller\"}\n",
       "\n",
       "### NHsta\n",
       "\n",
       ">      NHsta (url:str='https://www.youtube.com/watch?v=LMZQ7eFhm58',\n",
       ">             data_dir:pathlib.Path=Path('../data'), place:str='unclear')\n",
       "\n",
       "*Initialize self.  See help(type(self)) for accurate signature.*\n",
       "\n",
       "|    | **Type** | **Default** | **Details** |\n",
       "| -- | -------- | ----------- | ----------- |\n",
       "| url | str | https://www.youtube.com/watch?v=LMZQ7eFhm58 | YouTube Live URL |\n",
       "| data_dir | Path | ../data | directory to store captured images |\n",
       "| place | str | unclear | place name if OCR doesn't work |"
      ]
     },
     "execution_count": null,
     "metadata": {},
     "output_type": "execute_result"
    }
   ],
   "source": [
    "show_doc(NHsta)"
   ]
  },
  {
   "cell_type": "code",
   "execution_count": null,
   "id": "df986d48-2050-4cfc-a26a-bad288dd56d8",
   "metadata": {},
   "outputs": [
    {
     "name": "stdout",
     "output_type": "stream",
     "text": [
      "[youtube] Extracting URL: https://www.youtube.com/watch?v=LMZQ7eFhm58\n",
      "[youtube] LMZQ7eFhm58: Downloading webpage\n",
      "[youtube] LMZQ7eFhm58: Downloading ios player API JSON\n",
      "[youtube] LMZQ7eFhm58: Downloading web creator player API JSON\n",
      "[youtube] LMZQ7eFhm58: Downloading m3u8 information\n",
      "SR ILO ee\n",
      "cap_2024.11.11_17:48:51_unclear.jpg\n"
     ]
    },
    {
     "data": {
      "text/plain": [
       "Path('../data/cap_2024.11.11_17:48:51_unclear.jpg')"
      ]
     },
     "execution_count": null,
     "metadata": {},
     "output_type": "execute_result"
    }
   ],
   "source": [
    "#| eval: false\n",
    "NakymaHelsingista = NHsta()\n",
    "file = NakymaHelsingista()\n",
    "file"
   ]
  },
  {
   "cell_type": "code",
   "execution_count": null,
   "id": "00b07988-941a-4c13-a9fa-2162c3c87834",
   "metadata": {},
   "outputs": [
    {
     "data": {
      "image/png": "[encoded data removed]",
      "text/plain": [
       "<Figure size 640x480 with 1 Axes>"
      ]
     },
     "metadata": {},
     "output_type": "display_data"
    }
   ],
   "source": [
    "#|eval: false\n",
    "def crop_image(path, crop=(0, 0, 480, 30)): return Image.open(path).crop(crop)\n",
    "def show_image(path):\n",
    "    plt.imshow(crop_image(path))\n",
    "    plt.axis('off')\n",
    "    plt.show()\n",
    "\n",
    "show_image(file)"
   ]
  },
  {
   "cell_type": "markdown",
   "id": "e777f467-2f82-4507-92c5-2bbacfd5a49c",
   "metadata": {},
   "source": [
    "# Extract meta data from an image file"
   ]
  },
  {
   "cell_type": "code",
   "execution_count": null,
   "id": "7b06862f-b53d-4db6-b073-fc681fc131ef",
   "metadata": {},
   "outputs": [],
   "source": [
    "#|eval: false\n",
    "try:\n",
    "    fname(\"cap_\", *meta(files[1]))\n",
    "except:\n",
    "    pass"
   ]
  },
  {
   "cell_type": "markdown",
   "id": "ff95966d-cdb6-4c72-92ad-81a6e8150d79",
   "metadata": {},
   "source": [
    "## Rename files with meta info\n",
    "\n",
    "\"cap_2024.10.04_14:56:49_Presidentinlinna\"\n",
    "\n",
    "\"cap_2024.10.06_19:04:14_Kauppatori\"\n",
    "\n",
    "\"cap_2024.10.06_20:08:29_Kauppatori\""
   ]
  },
  {
   "cell_type": "code",
   "execution_count": null,
   "id": "1639e049-1926-4505-a86f-9f53ec9565e1",
   "metadata": {},
   "outputs": [
    {
     "name": "stdout",
     "output_type": "stream",
     "text": [
      "../data/cap_2024.11.11_16:18:12_unclear.jpg\n",
      "../data/cap_2024.11.11_15:31:04_unclear.jpg\n",
      "../data/cap_2024.11.11_15:33:25_unclear.jpg\n",
      "../data/cap_2024.11.11_15:40:50_unclear.jpg\n",
      "../data/cap_2024.11.11_15:39:09_unclear.jpg\n",
      "../data/cap_2024.11.11_15:30:46_unclear.jpg\n"
     ]
    }
   ],
   "source": [
    "#|eval: false\n",
    "for i, o in enumerate(glob.glob(\"../data/cap_*_unclear.jpg\")):\n",
    "    try:\n",
    "        new = Path(\"../data\")/fname(\"cap_\", *meta(o, True))\n",
    "        print(i, o, \" -> \", new)\n",
    "        os.rename(o, new)\n",
    "    except Exception as e:\n",
    "        print(o)"
   ]
  },
  {
   "cell_type": "code",
   "execution_count": null,
   "id": "516e28c8-21c2-4b3e-811d-ae2dfb3fa5bc",
   "metadata": {},
   "outputs": [],
   "source": [
    "#| hide\n",
    "import nbdev; nbdev.nbdev_export()"
   ]
  }
 ],
 "metadata": {
  "kernelspec": {
   "display_name": "python3",
   "language": "python",
   "name": "python3"
  }
 },
 "nbformat": 4,
 "nbformat_minor": 5
}
