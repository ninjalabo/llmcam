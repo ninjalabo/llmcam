{
 "cells": [
  {
   "cell_type": "code",
   "execution_count": null,
   "metadata": {},
   "outputs": [],
   "source": [
    "#| eval: false \n",
    "import json\n",
    "import openai\n",
    "import requests\n",
    "\n",
    "from llmcam.core.oas_to_requests import generate_request, toolbox_schema\n",
    "from llmcam.core.fn_to_fc import *"
   ]
  },
  {
   "cell_type": "code",
   "execution_count": null,
   "metadata": {},
   "outputs": [],
   "source": [
    "#| hide\n",
    "#| eval: false\n",
    "import requests\n",
    "import json\n",
    "import os\n",
    "\n",
    "BASE_URL = \"https://rata.digitraffic.fi\"\n",
    "\n",
    "# Download a file from a URL\n",
    "def download_file(url, dest_file):\n",
    "    response = requests.get(url, stream=True)\n",
    "    response.raise_for_status()\n",
    "    with open(dest_file, 'wb') as file:\n",
    "        for chunk in response.iter_content(chunk_size=8192):\n",
    "            file.write(chunk)\n",
    "\n",
    "# Define the OpenAPI file path\n",
    "local_file = \"openapi_rata.json\"\n",
    "\n",
    "# Download the OpenAPI JSON file if it doesn't exist\n",
    "openapi_url = f\"{BASE_URL}/swagger/openapi.json\"  # Update with the correct path\n",
    "if not os.path.exists(local_file):\n",
    "    download_file(openapi_url, local_file)\n",
    "\n",
    "# Load and parse the OpenAPI JSON file\n",
    "with open(local_file, 'r') as f:\n",
    "    spec_dict = json.load(f)\n",
    "oas = spec_dict"
   ]
  },
  {
   "cell_type": "code",
   "execution_count": null,
   "metadata": {},
   "outputs": [
    {
     "name": "stdout",
     "output_type": "stream",
     "text": [
      "\u001b[1m\u001b[31m>> \u001b[43m\u001b[31mSystem:\u001b[0m\n",
      "You are a helpful system administrator. Use the supplied tools to help the user.\n",
      "\u001b[1m\u001b[31m>> \u001b[43m\u001b[32mUser:\u001b[0m\n",
      "Hello, what can you provide me about railway and train information?\n",
      "\u001b[1m\u001b[31m>> \u001b[43m\u001b[34mAssistant:\u001b[0m\n",
      "I can provide you with a variety of railway and train-related information, including:  1. **Train\n",
      "and Passenger Information:**    - Currently active passenger information messages.    - Messages\n",
      "updated after a specific date.    - Real-time updates and locations for trains.    - GTFS data for\n",
      "passenger and all trains.  2. **Trains and Routes:**    - Information about specific trains by their\n",
      "number and departure date.    - Recent trains that are newer than a specified version.    - Trains\n",
      "running on a specific departure date.    - Routesets and composition of trains.  3. **Stations:**\n",
      "- List of stations and their geo-locations.    - Trains traveling through or between specific\n",
      "stations.  4. **Train Operations:**    - Train tracking messages by train number or station.    -\n",
      "Notices related to traffic restrictions and track work.  5. **Metadata and Categories:**    - List\n",
      "of train types and categories.    - Detailed cause and third cause category codes.    - Operators\n",
      "information.    - Time table periods.  Please let me know what specific information you would like,\n",
      "and I'll be happy to assist you!\n"
     ]
    }
   ],
   "source": [
    "#| eval: false\n",
    "messages = form_msgs([\n",
    "    (\"system\", \"You are a helpful system administrator. Use the supplied tools to help the user.\"),\n",
    "    (\"user\", \"Hello, what can you provide me about railway and train information?\"),\n",
    "])\n",
    "complete(messages, tool_schema)\n",
    "print_msgs(messages)"
   ]
  },
  {
   "cell_type": "code",
   "execution_count": null,
   "metadata": {},
   "outputs": [
    {
     "name": "stdout",
     "output_type": "stream",
     "text": [
      "\u001b[1m\u001b[31m>> \u001b[43m\u001b[31mSystem:\u001b[0m\n",
      "You are a helpful system administrator. Use the supplied tools to help the user.\n",
      "\u001b[1m\u001b[31m>> \u001b[43m\u001b[32mUser:\u001b[0m\n",
      "Hello, what can you provide me about railway and train information?\n",
      "\u001b[1m\u001b[31m>> \u001b[43m\u001b[34mAssistant:\u001b[0m\n",
      "I can provide you with a variety of railway and train-related information, including:  1. **Train\n",
      "and Passenger Information:**    - Currently active passenger information messages.    - Messages\n",
      "updated after a specific date.    - Real-time updates and locations for trains.    - GTFS data for\n",
      "passenger and all trains.  2. **Trains and Routes:**    - Information about specific trains by their\n",
      "number and departure date.    - Recent trains that are newer than a specified version.    - Trains\n",
      "running on a specific departure date.    - Routesets and composition of trains.  3. **Stations:**\n",
      "- List of stations and their geo-locations.    - Trains traveling through or between specific\n",
      "stations.  4. **Train Operations:**    - Train tracking messages by train number or station.    -\n",
      "Notices related to traffic restrictions and track work.  5. **Metadata and Categories:**    - List\n",
      "of train types and categories.    - Detailed cause and third cause category codes.    - Operators\n",
      "information.    - Time table periods.  Please let me know what specific information you would like,\n",
      "and I'll be happy to assist you!\n",
      "\u001b[1m\u001b[31m>> \u001b[43m\u001b[32mUser:\u001b[0m\n",
      "I want to know the train schedule to Joensuu\n",
      "\u001b[1m\u001b[31m>> \u001b[43m\u001b[34mAssistant:\u001b[0m\n",
      "To provide you with the train schedule to Joensuu, please let me know your departure station and the\n",
      "date of travel. This will help in fetching the most relevant train schedule information for you.\n",
      "\u001b[1m\u001b[31m>> \u001b[43m\u001b[32mUser:\u001b[0m\n",
      "I want nearest departure information from Helsinki\n",
      "\u001b[1m\u001b[31m>> \u001b[43m\u001b[34mAssistant:\u001b[0m\n",
      "Here are the upcoming train departures from Helsinki to Joensuu:  ### Train 5 (IC - Long-distance) -\n",
      "**Departure from Helsinki (Track 7):** November 16, 2024, at 14:19 - **Arrival at Joensuu (Track\n",
      "1):** November 16, 2024, at 17:51  ### Train 11 (IC - Long-distance) - **Departure from Helsinki\n",
      "(Track 9):** November 16, 2024, at 16:25 - **Arrival at Joensuu (Track 1):** November 16, 2024, at\n",
      "21:15  ### Train 1 (IC - Long-distance) - **Departure from Helsinki (Track 10):** November 17, 2024,\n",
      "at 04:54 - **Arrival at Joensuu (Track 1):** November 17, 2024, at 09:40  ### Train 3 (IC - Long-\n",
      "distance) - **Departure from Helsinki (Track 9):** November 17, 2024, at 08:19 - **Arrival at\n",
      "Joensuu (Track 1):** November 17, 2024, at 12:51  These trains are operated by VR and are\n",
      "categorized as long-distance InterCity (IC) services. Please check with the operator for any changes\n",
      "or updates closer to your travel date.\n",
      "\u001b[1m\u001b[31m>> \u001b[43m\u001b[32mUser:\u001b[0m\n",
      "Where is that train now?\n",
      "\u001b[1m\u001b[31m>> \u001b[43m\u001b[34mAssistant:\u001b[0m\n",
      "Here's the current status of the trains to Joensuu:  - **Train 3** is currently running:   -\n",
      "**Location:** Latitude 61.276187, Longitude 29.01863   - **Speed:** 134 km/h   - **Accuracy:** 371\n",
      "meters  The other trains (Train 5, Train 11, and Train 1) currently do not have location data\n",
      "available. They might not have started their journey yet or might be inactive at the moment.\n",
      "\u001b[1m\u001b[31m>> \u001b[43m\u001b[32mUser:\u001b[0m\n",
      "How about its passenger information?\n",
      "\u001b[1m\u001b[31m>> \u001b[43m\u001b[34mAssistant:\u001b[0m\n",
      "Currently, there are no active passenger information messages available for trains 5, 11, 1, and 3\n",
      "heading to Joensuu. Everything might be running smoothly without any significant updates or alerts\n",
      "for these trains. Let me know if you need any other information!\n",
      "\u001b[1m\u001b[31m>> \u001b[43m\u001b[32mUser:\u001b[0m\n",
      "Is there anything to pay attention to about the traffic situation?\n",
      "\u001b[1m\u001b[31m>> \u001b[43m\u001b[34mAssistant:\u001b[0m\n",
      "There are several traffic restrictions currently reported, but I don't have specific details on each\n",
      "one. If you want to know more about a specific restriction, I can provide detailed information.\n",
      "Generally, it's a good idea to be aware of any potential restrictions or planned disruptions when\n",
      "traveling by train, especially over long distances.  If you need more specific details on any\n",
      "traffic restrictions, please let me know, and I can delve into the individual notifications for you!\n"
     ]
    }
   ],
   "source": [
    "#| eval: false\n",
    "user_messages = [\n",
    "    \"I want to know the train schedule to Joensuu\",\n",
    "    \"I want nearest departure information from Helsinki\",\n",
    "    \"Where is that train now?\",\n",
    "    \"How about its passenger information?\",\n",
    "    \"Is there anything to pay attention to about the traffic situation?\",\n",
    "]\n",
    "for msg in user_messages:\n",
    "    messages.append(form_msg(\"user\", msg))\n",
    "    complete(messages, tool_schema)\n",
    "\n",
    "print_msgs(messages)"
   ]
  }
 ],
 "metadata": {
  "kernelspec": {
   "display_name": "python3",
   "language": "python",
   "name": "python3"
  }
 },
 "nbformat": 4,
 "nbformat_minor": 4
}
