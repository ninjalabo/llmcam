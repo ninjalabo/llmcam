{
 "cells": [
  {
   "cell_type": "markdown",
   "metadata": {},
   "source": [
    "# Notification\n",
    "\n",
    "> This notebook implement notification workflow"
   ]
  },
  {
   "cell_type": "code",
   "execution_count": null,
   "metadata": {},
   "outputs": [],
   "source": [
    "#| default_exp notification"
   ]
  },
  {
   "cell_type": "code",
   "execution_count": null,
   "metadata": {},
   "outputs": [],
   "source": [
    "#| hide\n",
    "from nbdev.showdoc import *"
   ]
  },
  {
   "cell_type": "code",
   "execution_count": null,
   "metadata": {},
   "outputs": [],
   "source": [
    "#| export\n",
    "from threading import Thread, Event\n",
    "import time\n",
    "from typing import Optional, Callable\n",
    "from llmcam.fn_to_fc import complete, tool_schema"
   ]
  },
  {
   "cell_type": "code",
   "execution_count": null,
   "metadata": {},
   "outputs": [],
   "source": [
    "#| export\n",
    "# Define the stream thread class\n",
    "class StreamThread(Thread):\n",
    "    def __init__(self, thread_id, tools, messages):\n",
    "        super().__init__()\n",
    "        self.thread_id = thread_id\n",
    "        self.stop_event = Event()\n",
    "        self.tools = tools\n",
    "        self.messages = messages\n",
    "\n",
    "    def run(self):\n",
    "        while not self.stop_event.is_set():\n",
    "            complete(self.messages, tools=self.tools)\n",
    "            time.sleep(5)\n",
    "\n",
    "    def stop(self):\n",
    "        self.stop_event.set()"
   ]
  },
  {
   "cell_type": "code",
   "execution_count": null,
   "metadata": {},
   "outputs": [],
   "source": [
    "#| export\n",
    "def notification_stream_core(\n",
    "    tools: list,  # Tools to use\n",
    "    messages: list,  # Previous conversation with the user\n",
    "    stream_starter: Optional[Callable] = None,  # Function to start the stream\n",
    "    send_notification: Optional[Callable] = None,  # Function to send the notification\n",
    "    stream_stopper: Optional[Callable] = None,  # Function to stop the stream\n",
    "    send_notification_schema: Optional[dict] = None,  # Schema for the send_notification function\n",
    "    stream_stopper_schema: Optional[dict] = None,  # Schema for the stream_stopper function\n",
    ") -> str:\n",
    "    \"\"\"Core function to start and stop the notifications stream\"\"\"\n",
    "    # Copy the messages to avoid modifying the original list\n",
    "    submessages = [ message for message in messages ]\n",
    "\n",
    "    # Extract subtools schemas\n",
    "    send_notification_schema = send_notification_schema or tool_schema(send_notification, 'send_notification')\n",
    "    stream_stopper_schema = stream_stopper_schema or tool_schema(stream_stopper, 'send_notification')\n",
    "\n",
    "    # Add sending notification services to tool schema\n",
    "    subtools = [ tool for tool in tools if tool['function']['name'] != 'start_notification_stream' ]\n",
    "    subtools.append(send_notification_schema)\n",
    "    subtools.append(stream_stopper_schema)\n",
    "\n",
    "    # Start the notifications stream\n",
    "    stream_starter(subtools, submessages)\n",
    "\n",
    "    return 'Notifications stream started'"
   ]
  },
  {
   "cell_type": "code",
   "execution_count": null,
   "metadata": {},
   "outputs": [],
   "source": [
    "#| export\n",
    "def default_stream_starter(tools, messages):\n",
    "    \"\"\"Default function to start the notifications stream\"\"\"\n",
    "    global stream_thread\n",
    "\n",
    "    # Start the notifications stream\n",
    "    stream_thread = StreamThread(1, tools, messages)\n",
    "    stream_thread.start()\n",
    "\n",
    "def default_stream_stopper():\n",
    "    \"\"\"Default function to stop the notifications stream\"\"\"\n",
    "    global stream_thread\n",
    "\n",
    "    # Stop the notifications stream\n",
    "    stream_thread.stop()\n",
    "    stream_thread.join()"
   ]
  },
  {
   "cell_type": "code",
   "execution_count": null,
   "metadata": {},
   "outputs": [],
   "source": [
    "#| export\n",
    "def process_notification_schema(\n",
    "    start_notifications_stream: Callable,  # Function to start the notifications stream\n",
    "):\n",
    "    \"\"\"Process the notification schema\"\"\"\n",
    "    notification_schema = tool_schema(start_notifications_stream, 'notification')\n",
    "\n",
    "    notification_schema['function']['parameters'] = {\n",
    "        'type': 'object',\n",
    "        'properties': {\n",
    "            'messages': {\n",
    "                'description': 'All the previous messages in the conversation',\n",
    "                'type': 'array',\n",
    "                'items': {\n",
    "                    'type': 'object',\n",
    "                    'properties': {\n",
    "                        'role': {\n",
    "                            'type': 'string',\n",
    "                            'enum': ['user', 'tool', 'system', 'assistant']\n",
    "                        },\n",
    "                        'content': {\n",
    "                            'type': 'string'\n",
    "                        }\n",
    "                    }\n",
    "                }\n",
    "            }\n",
    "        }\n",
    "    }\n",
    "    return notification_schema"
   ]
  },
  {
   "cell_type": "markdown",
   "metadata": {},
   "source": [
    "Simulated workflow:"
   ]
  },
  {
   "cell_type": "code",
   "execution_count": null,
   "metadata": {},
   "outputs": [],
   "source": [
    "from llmcam.fn_to_fc import complete, form_msgs, form_msg, tool_schema, print_msgs\n",
    "import random"
   ]
  },
  {
   "cell_type": "code",
   "execution_count": null,
   "metadata": {},
   "outputs": [],
   "source": [
    "tools = []"
   ]
  },
  {
   "cell_type": "code",
   "execution_count": null,
   "metadata": {},
   "outputs": [],
   "source": [
    "def random_generator():\n",
    "    \"\"\"Generate a random number between 1 and 100\"\"\"\n",
    "    return random.randint(1, 100)"
   ]
  },
  {
   "cell_type": "code",
   "execution_count": null,
   "metadata": {},
   "outputs": [],
   "source": [
    "notifications = []\n",
    "def send_notification(msg: str):\n",
    "    \"\"\"Send a notification\"\"\"\n",
    "    notifications.append(msg)\n",
    "    return notifications"
   ]
  },
  {
   "cell_type": "code",
   "execution_count": null,
   "metadata": {},
   "outputs": [],
   "source": [
    "def start_notification_stream(\n",
    "    messages: list  # Previous conversation with the user\n",
    "):\n",
    "    return notification_stream_core(\n",
    "        tools, \n",
    "        messages,\n",
    "        stream_starter=default_stream_starter,\n",
    "        send_notification=send_notification,\n",
    "        stream_stopper=default_stream_stopper\n",
    "    )"
   ]
  },
  {
   "cell_type": "code",
   "execution_count": null,
   "metadata": {},
   "outputs": [],
   "source": [
    "tools.append(tool_schema(random_generator, 'random_generator'))\n",
    "tools.append(process_notification_schema(start_notification_stream))"
   ]
  },
  {
   "cell_type": "code",
   "execution_count": null,
   "metadata": {},
   "outputs": [
    {
     "data": {
      "text/plain": [
       "[{'type': 'function',\n",
       "  'function': {'name': 'random_generator',\n",
       "   'description': 'Generate a random number between 1 and 100',\n",
       "   'parameters': {'type': 'object', 'properties': {}, 'required': []},\n",
       "   'metadata': {'module': '__main__', 'service': 'random_generator'}}},\n",
       " {'type': 'function',\n",
       "  'function': {'name': 'start_notification_stream',\n",
       "   'description': 'No description provided.',\n",
       "   'parameters': {'type': 'object',\n",
       "    'properties': {'messages': {'description': 'All the previous messages in the conversation',\n",
       "      'type': 'array',\n",
       "      'items': {'type': 'object',\n",
       "       'properties': {'role': {'type': 'string',\n",
       "         'enum': ['user', 'tool', 'system', 'assistant']},\n",
       "        'content': {'type': 'string'}}}}}},\n",
       "   'metadata': {'module': '__main__', 'service': 'notification'}}}]"
      ]
     },
     "execution_count": null,
     "metadata": {},
     "output_type": "execute_result"
    }
   ],
   "source": [
    "tools"
   ]
  },
  {
   "cell_type": "code",
   "execution_count": null,
   "metadata": {},
   "outputs": [
    {
     "name": "stdout",
     "output_type": "stream",
     "text": [
      "\u001b[1m\u001b[31m>> \u001b[43m\u001b[31mSystem:\u001b[0m\n",
      "You are a helpful system administrator. Use the supplied tools to assist the user. If asked to\n",
      "monitor and notify, do not resolve in main thread but defer to sub GPT in notifcation stream\n",
      "instead.\n",
      "\u001b[1m\u001b[31m>> \u001b[43m\u001b[32mUser:\u001b[0m\n",
      "Can you notify me every time you generate a number higher than 50? Stop after 10 notifications.\n",
      "\u001b[1m\u001b[31m>> \u001b[43m\u001b[34mAssistant:\u001b[0m\n",
      "I've started a notification stream to monitor the generation of numbers higher than 50. You will\n",
      "receive notifications when such numbers are generated, up to 10 times.\n"
     ]
    }
   ],
   "source": [
    "#| eval: false\n",
    "messages = form_msgs([\n",
    "    ('system', 'You are a helpful system administrator. Use the supplied tools to assist the user. \\\n",
    "If asked to monitor and notify, do not resolve in main thread but defer to sub GPT in notifcation stream instead.'),\n",
    "    ('user', 'Can you notify me every time you generate a number higher than 50? Stop after 10 notifications.'),\n",
    "])\n",
    "complete(messages, tools=tools)\n",
    "print_msgs(messages)"
   ]
  },
  {
   "cell_type": "code",
   "execution_count": null,
   "metadata": {},
   "outputs": [
    {
     "data": {
      "text/plain": [
       "[{'role': 'system',\n",
       "  'content': 'You are a helpful system administrator. Use the supplied tools to assist the user. If asked to monitor and notify, do not resolve in main thread but defer to sub GPT in notifcation stream instead.'},\n",
       " {'role': 'user',\n",
       "  'content': 'Can you notify me every time you generate a number higher than 50? Stop after 10 notifications.'},\n",
       " {'content': None,\n",
       "  'refusal': None,\n",
       "  'role': 'assistant',\n",
       "  'tool_calls': [{'id': 'call_XyyPi4ASAwZhUYCOG0HalFy8',\n",
       "    'function': {'arguments': '{\"messages\":[{\"role\":\"user\",\"content\":\"Can you notify me every time you generate a number higher than 50? Stop after 10 notifications.\"}]}',\n",
       "     'name': 'start_notification_stream'},\n",
       "    'type': 'function'}]},\n",
       " {'role': 'tool',\n",
       "  'content': '{\"messages\": [{\"role\": \"user\", \"content\": \"Can you notify me every time you generate a number higher than 50? Stop after 10 notifications.\"}], \"start_notification_stream\": \"Notifications stream started\"}',\n",
       "  'tool_call_id': 'call_XyyPi4ASAwZhUYCOG0HalFy8'},\n",
       " {'content': \"I've started a notification stream to monitor the generation of numbers higher than 50. You will receive notifications when such numbers are generated, up to 10 times.\",\n",
       "  'refusal': None,\n",
       "  'role': 'assistant'}]"
      ]
     },
     "execution_count": null,
     "metadata": {},
     "output_type": "execute_result"
    }
   ],
   "source": [
    "#| eval: false\n",
    "messages"
   ]
  },
  {
   "cell_type": "code",
   "execution_count": null,
   "metadata": {},
   "outputs": [
    {
     "name": "stdout",
     "output_type": "stream",
     "text": [
      "Generated number 70 is higher than 50.\n",
      "Generated number 62 is higher than 50.\n",
      "Generated number 96 is higher than 50.\n",
      "Generated number 97 is higher than 50.\n",
      "Generated number 77 is higher than 50.\n",
      "Generated number 100 is higher than 50.\n",
      "Generated number 93 is higher than 50.\n",
      "Generated number 76 is higher than 50.\n",
      "Generated number 57 is higher than 50.\n",
      "Generated number 57 is higher than 50.\n"
     ]
    }
   ],
   "source": [
    "#| eval: false\n",
    "for noti in notifications:\n",
    "    print(noti)"
   ]
  },
  {
   "cell_type": "code",
   "execution_count": null,
   "metadata": {},
   "outputs": [
    {
     "data": {
      "text/plain": [
       "10"
      ]
     },
     "execution_count": null,
     "metadata": {},
     "output_type": "execute_result"
    }
   ],
   "source": [
    "#| eval: false\n",
    "len(notifications)"
   ]
  },
  {
   "cell_type": "code",
   "execution_count": null,
   "metadata": {},
   "outputs": [
    {
     "data": {
      "text/plain": [
       "False"
      ]
     },
     "execution_count": null,
     "metadata": {},
     "output_type": "execute_result"
    }
   ],
   "source": [
    "#| eval: false\n",
    "stream_thread.is_alive()"
   ]
  },
  {
   "cell_type": "code",
   "execution_count": null,
   "metadata": {},
   "outputs": [],
   "source": [
    "#| hide\n",
    "import nbdev; nbdev.nbdev_export()"
   ]
  }
 ],
 "metadata": {
  "kernelspec": {
   "display_name": "python3",
   "language": "python",
   "name": "python3"
  }
 },
 "nbformat": 4,
 "nbformat_minor": 2
}
