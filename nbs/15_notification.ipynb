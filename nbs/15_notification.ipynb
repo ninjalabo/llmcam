{
 "cells": [
  {
   "cell_type": "code",
   "execution_count": 14,
   "metadata": {},
   "outputs": [],
   "source": [
    "from llmcam.fn_to_fc import complete, form_msgs, form_msg, tool_schema, print_msgs"
   ]
  },
  {
   "cell_type": "code",
   "execution_count": 10,
   "metadata": {},
   "outputs": [],
   "source": [
    "import random\n",
    "\n",
    "def random_generator():\n",
    "    \"\"\"Generate a random number between 1 and 100\"\"\"\n",
    "    return random.randint(1, 100)"
   ]
  },
  {
   "cell_type": "code",
   "execution_count": 6,
   "metadata": {},
   "outputs": [],
   "source": [
    "notifications = []\n",
    "\n",
    "def send_notification(\n",
    "        msg: str  # The message to send\n",
    "    ):\n",
    "    \"\"\"Send a notification\"\"\"\n",
    "    notifications.append(msg)\n",
    "    return notifications"
   ]
  },
  {
   "cell_type": "code",
   "execution_count": 8,
   "metadata": {},
   "outputs": [],
   "source": [
    "from threading import Thread\n",
    "import time\n",
    "\n",
    "def start_notifications_stream(\n",
    "    messages: list  # Previous conversation with the user\n",
    "):\n",
    "    \"\"\"Start the notifications stream\"\"\"\n",
    "    global tools\n",
    "\n",
    "    # Add sending notification to tool schema\n",
    "    subtools = [ tool for tool in tools if tool['function']['name'] != 'start_notifications_stream' ]\n",
    "    subtools.append(tool_schema(send_notification, 'send_notification'))\n",
    "\n",
    "    # Copy the messages to avoid modifying the original list\n",
    "    messages = [ message for message in messages ]\n",
    "\n",
    "    # Define the functionality to use\n",
    "    def complete_with_notifications():\n",
    "        for _ in range(10):\n",
    "            time.sleep(5)\n",
    "            complete(messages, tools=subtools)\n",
    "\n",
    "    # Start the notifications stream\n",
    "    t = Thread(target=complete_with_notifications)\n",
    "    t.start()\n",
    "\n",
    "    return 'Notifications stream started'"
   ]
  },
  {
   "cell_type": "code",
   "execution_count": 19,
   "metadata": {},
   "outputs": [
    {
     "data": {
      "text/plain": [
       "[{'type': 'function',\n",
       "  'function': {'name': 'random_generator',\n",
       "   'description': 'Generate a random number between 1 and 100',\n",
       "   'parameters': {'type': 'object', 'properties': {}, 'required': []},\n",
       "   'metadata': {'module': '__main__', 'service': 'random_generator'}}},\n",
       " {'type': 'function',\n",
       "  'function': {'name': 'start_notifications_stream',\n",
       "   'description': 'Start the notifications stream',\n",
       "   'parameters': {'type': 'object',\n",
       "    'properties': {'messages': {'type': 'array',\n",
       "      'description': 'Previous conversation with the user',\n",
       "      'items': {'type': 'string'}}},\n",
       "    'required': ['messages']},\n",
       "   'metadata': {'module': '__main__', 'service': 'notification'}}}]"
      ]
     },
     "execution_count": 19,
     "metadata": {},
     "output_type": "execute_result"
    }
   ],
   "source": [
    "tools = [ tool_schema(random_generator, 'random_generator') ]\n",
    "tools.append(tool_schema(start_notifications_stream, 'notification'))\n",
    "tools"
   ]
  },
  {
   "cell_type": "code",
   "execution_count": 26,
   "metadata": {},
   "outputs": [],
   "source": [
    "tools[1]['function']['parameters'] = {\n",
    "    'type': 'object',\n",
    "    'properties': {\n",
    "        'messages': {\n",
    "            'type': 'array',\n",
    "            'items': {\n",
    "                'type': 'object',\n",
    "                'properties': {\n",
    "                    'role': {\n",
    "                        'type': 'string',\n",
    "                        'enum': ['user', 'tool', 'system', 'assistant']\n",
    "                    },\n",
    "                    'content': {\n",
    "                        'type': 'string'\n",
    "                    }\n",
    "                }\n",
    "            }\n",
    "        }\n",
    "    }\n",
    "}"
   ]
  },
  {
   "cell_type": "code",
   "execution_count": 27,
   "metadata": {},
   "outputs": [
    {
     "name": "stdout",
     "output_type": "stream",
     "text": [
      "\u001b[1m\u001b[31m>> \u001b[43m\u001b[31mSystem:\u001b[0m\n",
      "You are a helpful system administrator. Use the supplied tools to assist the user.\n",
      "\u001b[1m\u001b[31m>> \u001b[43m\u001b[32mUser:\u001b[0m\n",
      "Hello, can you generate a random number for me?\n",
      "\u001b[1m\u001b[31m>> \u001b[43m\u001b[34mAssistant:\u001b[0m\n",
      "Here is your random number: 84.\n"
     ]
    }
   ],
   "source": [
    "messages = form_msgs([\n",
    "    ('system', 'You are a helpful system administrator. Use the supplied tools to assist the user.'),\n",
    "    ('user', 'Hello, can you generate a random number for me?'),\n",
    "])\n",
    "complete(messages, tools=tools)\n",
    "print_msgs(messages)"
   ]
  },
  {
   "cell_type": "code",
   "execution_count": 28,
   "metadata": {},
   "outputs": [
    {
     "name": "stdout",
     "output_type": "stream",
     "text": [
      "\u001b[1m\u001b[31m>> \u001b[43m\u001b[31mSystem:\u001b[0m\n",
      "You are a helpful system administrator. Use the supplied tools to assist the user.\n",
      "\u001b[1m\u001b[31m>> \u001b[43m\u001b[32mUser:\u001b[0m\n",
      "Hello, can you generate a random number for me?\n",
      "\u001b[1m\u001b[31m>> \u001b[43m\u001b[34mAssistant:\u001b[0m\n",
      "Here is your random number: 84.\n",
      "\u001b[1m\u001b[31m>> \u001b[43m\u001b[32mUser:\u001b[0m\n",
      "Can you notify me every time you generate a number higher than 50?\n",
      "\u001b[1m\u001b[31m>> \u001b[43m\u001b[34mAssistant:\u001b[0m\n",
      "The notifications stream has been started. You'll be notified every time a number higher than 50 is\n",
      "generated.\n"
     ]
    }
   ],
   "source": [
    "messages.append(form_msg('user', 'Can you notify me every time you generate a number higher than 50?'))\n",
    "complete(messages, tools=tools)\n",
    "print_msgs(messages)"
   ]
  },
  {
   "cell_type": "code",
   "execution_count": 29,
   "metadata": {},
   "outputs": [
    {
     "data": {
      "text/plain": [
       "[{'role': 'system',\n",
       "  'content': 'You are a helpful system administrator. Use the supplied tools to assist the user.'},\n",
       " {'role': 'user',\n",
       "  'content': 'Hello, can you generate a random number for me?'},\n",
       " {'content': None,\n",
       "  'refusal': None,\n",
       "  'role': 'assistant',\n",
       "  'tool_calls': [{'id': 'call_bXGxwsimCScazDKHQ3ddJWmn',\n",
       "    'function': {'arguments': '{}', 'name': 'random_generator'},\n",
       "    'type': 'function'}]},\n",
       " {'role': 'tool',\n",
       "  'content': '{\"random_generator\": 84}',\n",
       "  'tool_call_id': 'call_bXGxwsimCScazDKHQ3ddJWmn'},\n",
       " {'content': 'Here is your random number: 84.',\n",
       "  'refusal': None,\n",
       "  'role': 'assistant'},\n",
       " {'role': 'user',\n",
       "  'content': 'Can you notify me every time you generate a number higher than 50?'},\n",
       " {'content': None,\n",
       "  'refusal': None,\n",
       "  'role': 'assistant',\n",
       "  'tool_calls': [{'id': 'call_GkDiHPAyDLLElX8tmsjwUrgO',\n",
       "    'function': {'arguments': '{\"messages\":[{\"role\":\"user\",\"content\":\"Please notify me every time a number higher than 50 is generated.\"}]}',\n",
       "     'name': 'start_notifications_stream'},\n",
       "    'type': 'function'}]},\n",
       " {'role': 'tool',\n",
       "  'content': '{\"messages\": [{\"role\": \"user\", \"content\": \"Please notify me every time a number higher than 50 is generated.\"}], \"start_notifications_stream\": \"Notifications stream started\"}',\n",
       "  'tool_call_id': 'call_GkDiHPAyDLLElX8tmsjwUrgO'},\n",
       " {'content': \"The notifications stream has been started. You'll be notified every time a number higher than 50 is generated.\",\n",
       "  'refusal': None,\n",
       "  'role': 'assistant'}]"
      ]
     },
     "execution_count": 29,
     "metadata": {},
     "output_type": "execute_result"
    }
   ],
   "source": [
    "messages"
   ]
  },
  {
   "cell_type": "code",
   "execution_count": 36,
   "metadata": {},
   "outputs": [
    {
     "data": {
      "text/plain": [
       "[\"A new number, 68, has been generated and it's higher than 50.\",\n",
       " \"A new number, 71, has been generated and it's higher than 50.\",\n",
       " \"A new number, 54, has been generated and it's higher than 50.\",\n",
       " \"A new number, 61, has been generated and it's higher than 50.\"]"
      ]
     },
     "execution_count": 36,
     "metadata": {},
     "output_type": "execute_result"
    }
   ],
   "source": [
    "notifications"
   ]
  }
 ],
 "metadata": {
  "kernelspec": {
   "display_name": "Python 3 (ipykernel)",
   "language": "python",
   "name": "python3"
  },
  "language_info": {
   "codemirror_mode": {
    "name": "ipython",
    "version": 3
   },
   "file_extension": ".py",
   "mimetype": "text/x-python",
   "name": "python",
   "nbconvert_exporter": "python",
   "pygments_lexer": "ipython3",
   "version": "3.12.7"
  }
 },
 "nbformat": 4,
 "nbformat_minor": 2
}
