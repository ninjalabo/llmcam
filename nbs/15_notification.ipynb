{
 "cells": [
  {
   "cell_type": "markdown",
   "metadata": {},
   "source": [
    "# Notification\n",
    "\n",
    "> This notebook implement notification workflow"
   ]
  },
  {
   "cell_type": "code",
   "execution_count": null,
   "metadata": {},
   "outputs": [],
   "source": [
    "#| default_exp notification"
   ]
  },
  {
   "cell_type": "code",
   "execution_count": null,
   "metadata": {},
   "outputs": [],
   "source": [
    "#| hide\n",
    "from nbdev.showdoc import *"
   ]
  },
  {
   "cell_type": "code",
   "execution_count": null,
   "metadata": {},
   "outputs": [],
   "source": [
    "#| export\n",
    "from threading import Thread, Event\n",
    "import time\n",
    "from typing import Optional, Callable\n",
    "from llmcam.fn_to_fc import complete, tool_schema"
   ]
  },
  {
   "cell_type": "code",
   "execution_count": null,
   "metadata": {},
   "outputs": [],
   "source": [
    "#| export\n",
    "# Define the stream thread class\n",
    "class StreamThread(Thread):\n",
    "    def __init__(self, thread_id, tools, messages):\n",
    "        super().__init__()\n",
    "        self.thread_id = thread_id\n",
    "        self.stop_event = Event()\n",
    "        self.tools = tools\n",
    "        self.messages = messages\n",
    "\n",
    "    def run(self):\n",
    "        while not self.stop_event.is_set():\n",
    "            complete(self.messages, tools=self.tools)\n",
    "            time.sleep(5)\n",
    "\n",
    "    def stop(self):\n",
    "        self.stop_event.set()"
   ]
  },
  {
   "cell_type": "code",
   "execution_count": null,
   "metadata": {},
   "outputs": [],
   "source": [
    "#| export\n",
    "def notification_stream_core(\n",
    "    tools: list,  # Tools to use\n",
    "    send_notification: Callable,  # Function to send the notification\n",
    "    messages: list,  # Previous conversation with the user\n",
    "    stream_starter: Optional[Callable] = None,  # Function to start the stream\n",
    "    stream_stopper: Optional[Callable] = None  # Function to stop the stream\n",
    ") -> str:\n",
    "    \"\"\"Core function to start and stop the notifications stream\"\"\"\n",
    "    # Copy the messages to avoid modifying the original list\n",
    "    submessages = [ message for message in messages ]\n",
    "\n",
    "    # Add sending notification services to tool schema\n",
    "    subtools = [ tool for tool in tools if tool['function']['name'] != 'start_notification_stream' ]\n",
    "    subtools.append(tool_schema(send_notification, 'send_notification'))\n",
    "    subtools.append(tool_schema(stream_stopper, 'send_notification'))\n",
    "\n",
    "    # Start the notifications stream\n",
    "    stream_starter(subtools, submessages)\n",
    "\n",
    "    return 'Notifications stream started'"
   ]
  },
  {
   "cell_type": "code",
   "execution_count": null,
   "metadata": {},
   "outputs": [],
   "source": [
    "#| export\n",
    "def default_stream_starter(tools, messages):\n",
    "    \"\"\"Default function to start the notifications stream\"\"\"\n",
    "    global stream_thread\n",
    "\n",
    "    # Start the notifications stream\n",
    "    stream_thread = StreamThread(1, tools, messages)\n",
    "    stream_thread.start()\n",
    "\n",
    "def default_stream_stopper():\n",
    "    \"\"\"Default function to stop the notifications stream\"\"\"\n",
    "    global stream_thread\n",
    "\n",
    "    # Stop the notifications stream\n",
    "    stream_thread.stop()\n",
    "    stream_thread.join()"
   ]
  },
  {
   "cell_type": "code",
   "execution_count": null,
   "metadata": {},
   "outputs": [],
   "source": [
    "#| export\n",
    "def process_notification_schema(\n",
    "    start_notifications_stream: Callable,  # Function to start the notifications stream\n",
    "):\n",
    "    \"\"\"Process the notification schema\"\"\"\n",
    "    notification_schema = tool_schema(start_notifications_stream, 'notification')\n",
    "\n",
    "    notification_schema['function']['parameters'] = {\n",
    "        'type': 'object',\n",
    "        'properties': {\n",
    "            'messages': {\n",
    "                'description': 'All the previous messages in the conversation',\n",
    "                'type': 'array',\n",
    "                'items': {\n",
    "                    'type': 'object',\n",
    "                    'properties': {\n",
    "                        'role': {\n",
    "                            'type': 'string',\n",
    "                            'enum': ['user', 'tool', 'system', 'assistant']\n",
    "                        },\n",
    "                        'content': {\n",
    "                            'type': 'string'\n",
    "                        }\n",
    "                    }\n",
    "                }\n",
    "            }\n",
    "        }\n",
    "    }\n",
    "    return notification_schema"
   ]
  },
  {
   "cell_type": "markdown",
   "metadata": {},
   "source": [
    "Simulated workflow:"
   ]
  },
  {
   "cell_type": "code",
   "execution_count": null,
   "metadata": {},
   "outputs": [],
   "source": [
    "from llmcam.fn_to_fc import complete, form_msgs, form_msg, tool_schema, print_msgs\n",
    "import random"
   ]
  },
  {
   "cell_type": "code",
   "execution_count": null,
   "metadata": {},
   "outputs": [],
   "source": [
    "tools = []"
   ]
  },
  {
   "cell_type": "code",
   "execution_count": null,
   "metadata": {},
   "outputs": [],
   "source": [
    "def random_generator():\n",
    "    \"\"\"Generate a random number between 1 and 100\"\"\"\n",
    "    return random.randint(1, 100)"
   ]
  },
  {
   "cell_type": "code",
   "execution_count": null,
   "metadata": {},
   "outputs": [],
   "source": [
    "notifications = []\n",
    "def send_notification(msg: str):\n",
    "    \"\"\"Send a notification\"\"\"\n",
    "    notifications.append(msg)\n",
    "    return notifications"
   ]
  },
  {
   "cell_type": "code",
   "execution_count": null,
   "metadata": {},
   "outputs": [],
   "source": [
    "def start_notification_stream(\n",
    "    messages: list  # Previous conversation with the user\n",
    "):\n",
    "    return notification_stream_core(\n",
    "        tools, \n",
    "        send_notification, \n",
    "        messages, \n",
    "        default_stream_starter, \n",
    "        default_stream_stopper\n",
    "    )"
   ]
  },
  {
   "cell_type": "code",
   "execution_count": null,
   "metadata": {},
   "outputs": [],
   "source": [
    "tools.append(tool_schema(random_generator, 'random_generator'))\n",
    "tools.append(process_notification_schema(start_notification_stream))"
   ]
  },
  {
   "cell_type": "code",
   "execution_count": null,
   "metadata": {},
   "outputs": [
    {
     "data": {
      "text/plain": [
       "[{'type': 'function',\n",
       "  'function': {'name': 'random_generator',\n",
       "   'description': 'Generate a random number between 1 and 100',\n",
       "   'parameters': {'type': 'object', 'properties': {}, 'required': []},\n",
       "   'metadata': {'module': '__main__', 'service': 'random_generator'}}},\n",
       " {'type': 'function',\n",
       "  'function': {'name': 'start_notification_stream',\n",
       "   'description': 'No description provided.',\n",
       "   'parameters': {'type': 'object',\n",
       "    'properties': {'messages': {'description': 'All the previous messages in the conversation',\n",
       "      'type': 'array',\n",
       "      'items': {'type': 'object',\n",
       "       'properties': {'role': {'type': 'string',\n",
       "         'enum': ['user', 'tool', 'system', 'assistant']},\n",
       "        'content': {'type': 'string'}}}}}},\n",
       "   'metadata': {'module': '__main__', 'service': 'notification'}}}]"
      ]
     },
     "execution_count": null,
     "metadata": {},
     "output_type": "execute_result"
    }
   ],
   "source": [
    "tools"
   ]
  },
  {
   "cell_type": "code",
   "execution_count": null,
   "metadata": {},
   "outputs": [
    {
     "name": "stdout",
     "output_type": "stream",
     "text": [
      "\u001b[1m\u001b[31m>> \u001b[43m\u001b[31mSystem:\u001b[0m\n",
      "You are a helpful system administrator. Use the supplied tools to assist the user.\n",
      "\u001b[1m\u001b[31m>> \u001b[43m\u001b[32mUser:\u001b[0m\n",
      "Can you notify me every time you generate a number higher than 50? Stop after 10 notifications.\n",
      "\u001b[1m\u001b[31m>> \u001b[43m\u001b[34mAssistant:\u001b[0m\n",
      "The notification system has been set up. Here are the generated numbers higher than 50:  1. 85 2. 87\n",
      "3. 69 4. 67 5. 84  Notifications will stop after reaching 10 notifications. If you'd like to\n",
      "continue, please let me know!\n"
     ]
    }
   ],
   "source": [
    "#| eval: false\n",
    "messages = form_msgs([\n",
    "    ('system', 'You are a helpful system administrator. Use the supplied tools to assist the user.'),\n",
    "    ('user', 'Can you notify me every time you generate a number higher than 50? Stop after 10 notifications.'),\n",
    "])\n",
    "complete(messages, tools=tools)\n",
    "print_msgs(messages)"
   ]
  },
  {
   "cell_type": "code",
   "execution_count": null,
   "metadata": {},
   "outputs": [
    {
     "data": {
      "text/plain": [
       "[{'role': 'system',\n",
       "  'content': 'You are a helpful system administrator. Use the supplied tools to assist the user.'},\n",
       " {'role': 'user',\n",
       "  'content': 'Can you notify me every time you generate a number higher than 50? Stop after 10 notifications.'},\n",
       " {'content': None,\n",
       "  'refusal': None,\n",
       "  'role': 'assistant',\n",
       "  'tool_calls': [{'id': 'call_UZUZOGh7lTqDiGlNHe8ZHOY6',\n",
       "    'function': {'arguments': '{}', 'name': 'random_generator'},\n",
       "    'type': 'function'},\n",
       "   {'id': 'call_mbMa20rYi5YELniX5I5pBxAi',\n",
       "    'function': {'arguments': '{\"messages\": [{\"role\": \"user\", \"content\": \"Can you notify me every time you generate a number higher than 50? Stop after 10 notifications.\"}]}',\n",
       "     'name': 'start_notification_stream'},\n",
       "    'type': 'function'},\n",
       "   {'id': 'call_24apEIMuzDaKRBibE8O8xb7o',\n",
       "    'function': {'arguments': '{}', 'name': 'random_generator'},\n",
       "    'type': 'function'},\n",
       "   {'id': 'call_o7RW5pg4LnOZtHq2tBsQ1WTA',\n",
       "    'function': {'arguments': '{}', 'name': 'random_generator'},\n",
       "    'type': 'function'},\n",
       "   {'id': 'call_9Y6xnglIIeM1yttB5j5fUyWX',\n",
       "    'function': {'arguments': '{}', 'name': 'random_generator'},\n",
       "    'type': 'function'},\n",
       "   {'id': 'call_WW2ABsdyFBeZxCpR4ArpHXqh',\n",
       "    'function': {'arguments': '{}', 'name': 'random_generator'},\n",
       "    'type': 'function'},\n",
       "   {'id': 'call_F85XlBbqN5bUSb2UkPe381Te',\n",
       "    'function': {'arguments': '{}', 'name': 'random_generator'},\n",
       "    'type': 'function'},\n",
       "   {'id': 'call_kkA5et49gHhEOgLzRc9UZxgj',\n",
       "    'function': {'arguments': '{}', 'name': 'random_generator'},\n",
       "    'type': 'function'},\n",
       "   {'id': 'call_950d9Em7bBrutFaZYbINKKpF',\n",
       "    'function': {'arguments': '{}', 'name': 'random_generator'},\n",
       "    'type': 'function'},\n",
       "   {'id': 'call_pptTkB9YNBIY8ujjmvqgozv8',\n",
       "    'function': {'arguments': '{}', 'name': 'random_generator'},\n",
       "    'type': 'function'},\n",
       "   {'id': 'call_gqr8vK7vtWwkhNDPuj5mzh6y',\n",
       "    'function': {'arguments': '{}', 'name': 'random_generator'},\n",
       "    'type': 'function'}]},\n",
       " {'role': 'tool',\n",
       "  'content': '{\"random_generator\": 85}',\n",
       "  'tool_call_id': 'call_UZUZOGh7lTqDiGlNHe8ZHOY6'},\n",
       " {'role': 'tool',\n",
       "  'content': '{\"messages\": [{\"role\": \"user\", \"content\": \"Can you notify me every time you generate a number higher than 50? Stop after 10 notifications.\"}], \"start_notification_stream\": \"Notifications stream started\"}',\n",
       "  'tool_call_id': 'call_mbMa20rYi5YELniX5I5pBxAi'},\n",
       " {'role': 'tool',\n",
       "  'content': '{\"random_generator\": 87}',\n",
       "  'tool_call_id': 'call_24apEIMuzDaKRBibE8O8xb7o'},\n",
       " {'role': 'tool',\n",
       "  'content': '{\"random_generator\": 43}',\n",
       "  'tool_call_id': 'call_o7RW5pg4LnOZtHq2tBsQ1WTA'},\n",
       " {'role': 'tool',\n",
       "  'content': '{\"random_generator\": 15}',\n",
       "  'tool_call_id': 'call_9Y6xnglIIeM1yttB5j5fUyWX'},\n",
       " {'role': 'tool',\n",
       "  'content': '{\"random_generator\": 50}',\n",
       "  'tool_call_id': 'call_WW2ABsdyFBeZxCpR4ArpHXqh'},\n",
       " {'role': 'tool',\n",
       "  'content': '{\"random_generator\": 50}',\n",
       "  'tool_call_id': 'call_F85XlBbqN5bUSb2UkPe381Te'},\n",
       " {'role': 'tool',\n",
       "  'content': '{\"random_generator\": 49}',\n",
       "  'tool_call_id': 'call_kkA5et49gHhEOgLzRc9UZxgj'},\n",
       " {'role': 'tool',\n",
       "  'content': '{\"random_generator\": 69}',\n",
       "  'tool_call_id': 'call_950d9Em7bBrutFaZYbINKKpF'},\n",
       " {'role': 'tool',\n",
       "  'content': '{\"random_generator\": 67}',\n",
       "  'tool_call_id': 'call_pptTkB9YNBIY8ujjmvqgozv8'},\n",
       " {'role': 'tool',\n",
       "  'content': '{\"random_generator\": 84}',\n",
       "  'tool_call_id': 'call_gqr8vK7vtWwkhNDPuj5mzh6y'},\n",
       " {'content': \"The notification system has been set up. Here are the generated numbers higher than 50:\\n\\n1. 85\\n2. 87\\n3. 69\\n4. 67\\n5. 84\\n\\nNotifications will stop after reaching 10 notifications. If you'd like to continue, please let me know!\",\n",
       "  'refusal': None,\n",
       "  'role': 'assistant'}]"
      ]
     },
     "execution_count": null,
     "metadata": {},
     "output_type": "execute_result"
    }
   ],
   "source": [
    "#| eval: false\n",
    "messages"
   ]
  },
  {
   "cell_type": "code",
   "execution_count": null,
   "metadata": {},
   "outputs": [
    {
     "name": "stdout",
     "output_type": "stream",
     "text": [
      "Generated number: 59, which is higher than 50.\n",
      "Generated number: 81, which is higher than 50.\n",
      "Generated number: 58, which is higher than 50.\n",
      "Generated number: 90, which is higher than 50.\n",
      "Generated number: 86, which is higher than 50.\n",
      "Generated number: 88, which is higher than 50.\n",
      "Generated number: 95, which is higher than 50.\n",
      "Generated number: 90, which is higher than 50.\n",
      "Generated number: 91, which is higher than 50.\n",
      "Generated number: 97, which is higher than 50.\n"
     ]
    }
   ],
   "source": [
    "#| eval: false\n",
    "for noti in notifications:\n",
    "    print(noti)"
   ]
  },
  {
   "cell_type": "code",
   "execution_count": null,
   "metadata": {},
   "outputs": [
    {
     "data": {
      "text/plain": [
       "10"
      ]
     },
     "execution_count": null,
     "metadata": {},
     "output_type": "execute_result"
    }
   ],
   "source": [
    "#| eval: false\n",
    "len(notifications)"
   ]
  },
  {
   "cell_type": "code",
   "execution_count": null,
   "metadata": {},
   "outputs": [
    {
     "data": {
      "text/plain": [
       "False"
      ]
     },
     "execution_count": null,
     "metadata": {},
     "output_type": "execute_result"
    }
   ],
   "source": [
    "#| eval: false\n",
    "stream_thread.is_alive()"
   ]
  },
  {
   "cell_type": "code",
   "execution_count": null,
   "metadata": {},
   "outputs": [
    {
     "data": {
      "text/plain": [
       "[{'type': 'function',\n",
       "  'function': {'name': 'random_generator',\n",
       "   'description': 'Generate a random number between 1 and 100',\n",
       "   'parameters': {'type': 'object', 'properties': {}, 'required': []},\n",
       "   'metadata': {'module': '__main__', 'service': 'random_generator'}}},\n",
       " {'type': 'function',\n",
       "  'function': {'name': 'send_notification',\n",
       "   'description': 'Send a notification',\n",
       "   'parameters': {'type': 'object',\n",
       "    'properties': {'msg': {'type': 'string',\n",
       "      'description': 'No description provided.'}},\n",
       "    'required': ['msg']},\n",
       "   'metadata': {'module': '__main__', 'service': 'send_notification'}}},\n",
       " {'type': 'function',\n",
       "  'function': {'name': 'default_stream_stopper',\n",
       "   'description': 'Default function to stop the notifications stream',\n",
       "   'parameters': {'type': 'object', 'properties': {}, 'required': []},\n",
       "   'metadata': {'module': '__main__', 'service': 'send_notification'}}}]"
      ]
     },
     "execution_count": null,
     "metadata": {},
     "output_type": "execute_result"
    }
   ],
   "source": [
    "#| eval: false\n",
    "stream_thread.tools"
   ]
  },
  {
   "cell_type": "code",
   "execution_count": null,
   "metadata": {},
   "outputs": [
    {
     "data": {
      "text/plain": [
       "[{'role': 'user',\n",
       "  'content': 'Can you notify me every time you generate a number higher than 50? Stop after 10 notifications.'},\n",
       " {'content': None,\n",
       "  'refusal': None,\n",
       "  'role': 'assistant',\n",
       "  'tool_calls': [{'id': 'call_X0ssVOJQnhFwQDXdplJx0x97',\n",
       "    'function': {'arguments': '{}', 'name': 'random_generator'},\n",
       "    'type': 'function'}]},\n",
       " {'role': 'tool',\n",
       "  'content': '{\"random_generator\": 59}',\n",
       "  'tool_call_id': 'call_X0ssVOJQnhFwQDXdplJx0x97'},\n",
       " {'content': None,\n",
       "  'refusal': None,\n",
       "  'role': 'assistant',\n",
       "  'tool_calls': [{'id': 'call_3bJTvIzUoWO22fK7JDhi2LGA',\n",
       "    'function': {'arguments': '{\"msg\":\"Generated number: 59, which is higher than 50.\"}',\n",
       "     'name': 'send_notification'},\n",
       "    'type': 'function'}]},\n",
       " {'role': 'tool',\n",
       "  'content': '{\"msg\": \"Generated number: 59, which is higher than 50.\", \"send_notification\": [\"Generated number: 59, which is higher than 50.\"]}',\n",
       "  'tool_call_id': 'call_3bJTvIzUoWO22fK7JDhi2LGA'},\n",
       " {'content': None,\n",
       "  'refusal': None,\n",
       "  'role': 'assistant',\n",
       "  'tool_calls': [{'id': 'call_zIQBNXflSm6JKhHaaNH6eCoX',\n",
       "    'function': {'arguments': '{}', 'name': 'random_generator'},\n",
       "    'type': 'function'}]},\n",
       " {'role': 'tool',\n",
       "  'content': '{\"random_generator\": 81}',\n",
       "  'tool_call_id': 'call_zIQBNXflSm6JKhHaaNH6eCoX'},\n",
       " {'content': None,\n",
       "  'refusal': None,\n",
       "  'role': 'assistant',\n",
       "  'tool_calls': [{'id': 'call_hJ8cVWN5lR8RU4l3yWibfhOA',\n",
       "    'function': {'arguments': '{\"msg\":\"Generated number: 81, which is higher than 50.\"}',\n",
       "     'name': 'send_notification'},\n",
       "    'type': 'function'}]},\n",
       " {'role': 'tool',\n",
       "  'content': '{\"msg\": \"Generated number: 81, which is higher than 50.\", \"send_notification\": [\"Generated number: 59, which is higher than 50.\", \"Generated number: 81, which is higher than 50.\"]}',\n",
       "  'tool_call_id': 'call_hJ8cVWN5lR8RU4l3yWibfhOA'},\n",
       " {'content': None,\n",
       "  'refusal': None,\n",
       "  'role': 'assistant',\n",
       "  'tool_calls': [{'id': 'call_qeUtv0NocqVr1KwSnBOSvs0b',\n",
       "    'function': {'arguments': '{}', 'name': 'random_generator'},\n",
       "    'type': 'function'}]},\n",
       " {'role': 'tool',\n",
       "  'content': '{\"random_generator\": 58}',\n",
       "  'tool_call_id': 'call_qeUtv0NocqVr1KwSnBOSvs0b'},\n",
       " {'content': None,\n",
       "  'refusal': None,\n",
       "  'role': 'assistant',\n",
       "  'tool_calls': [{'id': 'call_IOpQjDpMYdM2W0Ism8YCghjq',\n",
       "    'function': {'arguments': '{\"msg\":\"Generated number: 58, which is higher than 50.\"}',\n",
       "     'name': 'send_notification'},\n",
       "    'type': 'function'}]},\n",
       " {'role': 'tool',\n",
       "  'content': '{\"msg\": \"Generated number: 58, which is higher than 50.\", \"send_notification\": [\"Generated number: 59, which is higher than 50.\", \"Generated number: 81, which is higher than 50.\", \"Generated number: 58, which is higher than 50.\"]}',\n",
       "  'tool_call_id': 'call_IOpQjDpMYdM2W0Ism8YCghjq'},\n",
       " {'content': None,\n",
       "  'refusal': None,\n",
       "  'role': 'assistant',\n",
       "  'tool_calls': [{'id': 'call_rk1uGoRxhhozL90YaH835zCZ',\n",
       "    'function': {'arguments': '{}', 'name': 'random_generator'},\n",
       "    'type': 'function'}]},\n",
       " {'role': 'tool',\n",
       "  'content': '{\"random_generator\": 18}',\n",
       "  'tool_call_id': 'call_rk1uGoRxhhozL90YaH835zCZ'},\n",
       " {'content': None,\n",
       "  'refusal': None,\n",
       "  'role': 'assistant',\n",
       "  'tool_calls': [{'id': 'call_Pu5NmkR6fyR9e6gn8VdgYZWb',\n",
       "    'function': {'arguments': '{}', 'name': 'random_generator'},\n",
       "    'type': 'function'}]},\n",
       " {'role': 'tool',\n",
       "  'content': '{\"random_generator\": 32}',\n",
       "  'tool_call_id': 'call_Pu5NmkR6fyR9e6gn8VdgYZWb'},\n",
       " {'content': None,\n",
       "  'refusal': None,\n",
       "  'role': 'assistant',\n",
       "  'tool_calls': [{'id': 'call_dWTLO973vDvDD2HS8uSXoag7',\n",
       "    'function': {'arguments': '{}', 'name': 'random_generator'},\n",
       "    'type': 'function'}]},\n",
       " {'role': 'tool',\n",
       "  'content': '{\"random_generator\": 36}',\n",
       "  'tool_call_id': 'call_dWTLO973vDvDD2HS8uSXoag7'},\n",
       " {'content': None,\n",
       "  'refusal': None,\n",
       "  'role': 'assistant',\n",
       "  'tool_calls': [{'id': 'call_LmwqhSBoMq2DjnqtxdnCx1k0',\n",
       "    'function': {'arguments': '{}', 'name': 'random_generator'},\n",
       "    'type': 'function'}]},\n",
       " {'role': 'tool',\n",
       "  'content': '{\"random_generator\": 90}',\n",
       "  'tool_call_id': 'call_LmwqhSBoMq2DjnqtxdnCx1k0'},\n",
       " {'content': None,\n",
       "  'refusal': None,\n",
       "  'role': 'assistant',\n",
       "  'tool_calls': [{'id': 'call_zwLn0o2CCnU6B6q5q9Hm1tix',\n",
       "    'function': {'arguments': '{\"msg\":\"Generated number: 90, which is higher than 50.\"}',\n",
       "     'name': 'send_notification'},\n",
       "    'type': 'function'}]},\n",
       " {'role': 'tool',\n",
       "  'content': '{\"msg\": \"Generated number: 90, which is higher than 50.\", \"send_notification\": [\"Generated number: 59, which is higher than 50.\", \"Generated number: 81, which is higher than 50.\", \"Generated number: 58, which is higher than 50.\", \"Generated number: 90, which is higher than 50.\"]}',\n",
       "  'tool_call_id': 'call_zwLn0o2CCnU6B6q5q9Hm1tix'},\n",
       " {'content': None,\n",
       "  'refusal': None,\n",
       "  'role': 'assistant',\n",
       "  'tool_calls': [{'id': 'call_1Oi4kH2207dVpezFwcUJck91',\n",
       "    'function': {'arguments': '{}', 'name': 'random_generator'},\n",
       "    'type': 'function'}]},\n",
       " {'role': 'tool',\n",
       "  'content': '{\"random_generator\": 10}',\n",
       "  'tool_call_id': 'call_1Oi4kH2207dVpezFwcUJck91'},\n",
       " {'content': None,\n",
       "  'refusal': None,\n",
       "  'role': 'assistant',\n",
       "  'tool_calls': [{'id': 'call_hJ8cVWN5lR8RU4l3yWibfhOA',\n",
       "    'function': {'arguments': '{}', 'name': 'random_generator'},\n",
       "    'type': 'function'}]},\n",
       " {'role': 'tool',\n",
       "  'content': '{\"random_generator\": 22}',\n",
       "  'tool_call_id': 'call_hJ8cVWN5lR8RU4l3yWibfhOA'},\n",
       " {'content': None,\n",
       "  'refusal': None,\n",
       "  'role': 'assistant',\n",
       "  'tool_calls': [{'id': 'call_xu0YWRLoCXcHHL3FGDCLjlzX',\n",
       "    'function': {'arguments': '{}', 'name': 'random_generator'},\n",
       "    'type': 'function'}]},\n",
       " {'role': 'tool',\n",
       "  'content': '{\"random_generator\": 86}',\n",
       "  'tool_call_id': 'call_xu0YWRLoCXcHHL3FGDCLjlzX'},\n",
       " {'content': None,\n",
       "  'refusal': None,\n",
       "  'role': 'assistant',\n",
       "  'tool_calls': [{'id': 'call_zt9Z6sxFN7lgIB5tZrUaZoyk',\n",
       "    'function': {'arguments': '{\"msg\":\"Generated number: 86, which is higher than 50.\"}',\n",
       "     'name': 'send_notification'},\n",
       "    'type': 'function'}]},\n",
       " {'role': 'tool',\n",
       "  'content': '{\"msg\": \"Generated number: 86, which is higher than 50.\", \"send_notification\": [\"Generated number: 59, which is higher than 50.\", \"Generated number: 81, which is higher than 50.\", \"Generated number: 58, which is higher than 50.\", \"Generated number: 90, which is higher than 50.\", \"Generated number: 86, which is higher than 50.\"]}',\n",
       "  'tool_call_id': 'call_zt9Z6sxFN7lgIB5tZrUaZoyk'},\n",
       " {'content': None,\n",
       "  'refusal': None,\n",
       "  'role': 'assistant',\n",
       "  'tool_calls': [{'id': 'call_bXYB8sY8fv0C1LVM9f0DpMD4',\n",
       "    'function': {'arguments': '{}', 'name': 'random_generator'},\n",
       "    'type': 'function'}]},\n",
       " {'role': 'tool',\n",
       "  'content': '{\"random_generator\": 23}',\n",
       "  'tool_call_id': 'call_bXYB8sY8fv0C1LVM9f0DpMD4'},\n",
       " {'content': None,\n",
       "  'refusal': None,\n",
       "  'role': 'assistant',\n",
       "  'tool_calls': [{'id': 'call_IAiTa49rWrhDCjilGNpIwZY2',\n",
       "    'function': {'arguments': '{}', 'name': 'random_generator'},\n",
       "    'type': 'function'}]},\n",
       " {'role': 'tool',\n",
       "  'content': '{\"random_generator\": 88}',\n",
       "  'tool_call_id': 'call_IAiTa49rWrhDCjilGNpIwZY2'},\n",
       " {'content': None,\n",
       "  'refusal': None,\n",
       "  'role': 'assistant',\n",
       "  'tool_calls': [{'id': 'call_kscfMgcoWaW63GBI3V8UGMet',\n",
       "    'function': {'arguments': '{\"msg\":\"Generated number: 88, which is higher than 50.\"}',\n",
       "     'name': 'send_notification'},\n",
       "    'type': 'function'}]},\n",
       " {'role': 'tool',\n",
       "  'content': '{\"msg\": \"Generated number: 88, which is higher than 50.\", \"send_notification\": [\"Generated number: 59, which is higher than 50.\", \"Generated number: 81, which is higher than 50.\", \"Generated number: 58, which is higher than 50.\", \"Generated number: 90, which is higher than 50.\", \"Generated number: 86, which is higher than 50.\", \"Generated number: 88, which is higher than 50.\"]}',\n",
       "  'tool_call_id': 'call_kscfMgcoWaW63GBI3V8UGMet'},\n",
       " {'content': None,\n",
       "  'refusal': None,\n",
       "  'role': 'assistant',\n",
       "  'tool_calls': [{'id': 'call_o75XpiUIQAwSoRsRFWfOLY41',\n",
       "    'function': {'arguments': '{}', 'name': 'random_generator'},\n",
       "    'type': 'function'}]},\n",
       " {'role': 'tool',\n",
       "  'content': '{\"random_generator\": 95}',\n",
       "  'tool_call_id': 'call_o75XpiUIQAwSoRsRFWfOLY41'},\n",
       " {'content': None,\n",
       "  'refusal': None,\n",
       "  'role': 'assistant',\n",
       "  'tool_calls': [{'id': 'call_efcg7qf3TfchkSLFFH4PabmQ',\n",
       "    'function': {'arguments': '{\"msg\":\"Generated number: 95, which is higher than 50.\"}',\n",
       "     'name': 'send_notification'},\n",
       "    'type': 'function'}]},\n",
       " {'role': 'tool',\n",
       "  'content': '{\"msg\": \"Generated number: 95, which is higher than 50.\", \"send_notification\": [\"Generated number: 59, which is higher than 50.\", \"Generated number: 81, which is higher than 50.\", \"Generated number: 58, which is higher than 50.\", \"Generated number: 90, which is higher than 50.\", \"Generated number: 86, which is higher than 50.\", \"Generated number: 88, which is higher than 50.\", \"Generated number: 95, which is higher than 50.\"]}',\n",
       "  'tool_call_id': 'call_efcg7qf3TfchkSLFFH4PabmQ'},\n",
       " {'content': None,\n",
       "  'refusal': None,\n",
       "  'role': 'assistant',\n",
       "  'tool_calls': [{'id': 'call_4gqzj7D0QWu6LJF9MXa4oBXx',\n",
       "    'function': {'arguments': '{}', 'name': 'random_generator'},\n",
       "    'type': 'function'}]},\n",
       " {'role': 'tool',\n",
       "  'content': '{\"random_generator\": 22}',\n",
       "  'tool_call_id': 'call_4gqzj7D0QWu6LJF9MXa4oBXx'},\n",
       " {'content': None,\n",
       "  'refusal': None,\n",
       "  'role': 'assistant',\n",
       "  'tool_calls': [{'id': 'call_SUnz6GEhW7icmyLuKGmEvGDq',\n",
       "    'function': {'arguments': '{}', 'name': 'random_generator'},\n",
       "    'type': 'function'}]},\n",
       " {'role': 'tool',\n",
       "  'content': '{\"random_generator\": 90}',\n",
       "  'tool_call_id': 'call_SUnz6GEhW7icmyLuKGmEvGDq'},\n",
       " {'content': None,\n",
       "  'refusal': None,\n",
       "  'role': 'assistant',\n",
       "  'tool_calls': [{'id': 'call_Gd5hPGo6XZ9Xkcd0elsHOxg8',\n",
       "    'function': {'arguments': '{\"msg\":\"Generated number: 90, which is higher than 50.\"}',\n",
       "     'name': 'send_notification'},\n",
       "    'type': 'function'}]},\n",
       " {'role': 'tool',\n",
       "  'content': '{\"msg\": \"Generated number: 90, which is higher than 50.\", \"send_notification\": [\"Generated number: 59, which is higher than 50.\", \"Generated number: 81, which is higher than 50.\", \"Generated number: 58, which is higher than 50.\", \"Generated number: 90, which is higher than 50.\", \"Generated number: 86, which is higher than 50.\", \"Generated number: 88, which is higher than 50.\", \"Generated number: 95, which is higher than 50.\", \"Generated number: 90, which is higher than 50.\"]}',\n",
       "  'tool_call_id': 'call_Gd5hPGo6XZ9Xkcd0elsHOxg8'},\n",
       " {'content': None,\n",
       "  'refusal': None,\n",
       "  'role': 'assistant',\n",
       "  'tool_calls': [{'id': 'call_Tmgcib33a7M5E4aLs99rXMmW',\n",
       "    'function': {'arguments': '{}', 'name': 'random_generator'},\n",
       "    'type': 'function'}]},\n",
       " {'role': 'tool',\n",
       "  'content': '{\"random_generator\": 25}',\n",
       "  'tool_call_id': 'call_Tmgcib33a7M5E4aLs99rXMmW'},\n",
       " {'content': None,\n",
       "  'refusal': None,\n",
       "  'role': 'assistant',\n",
       "  'tool_calls': [{'id': 'call_oqQb0CLqNm3HqgFnzjKWBFU1',\n",
       "    'function': {'arguments': '{}', 'name': 'random_generator'},\n",
       "    'type': 'function'}]},\n",
       " {'role': 'tool',\n",
       "  'content': '{\"random_generator\": 91}',\n",
       "  'tool_call_id': 'call_oqQb0CLqNm3HqgFnzjKWBFU1'},\n",
       " {'content': None,\n",
       "  'refusal': None,\n",
       "  'role': 'assistant',\n",
       "  'tool_calls': [{'id': 'call_FrTiRDDO2BhsQOqRUZ04WpzJ',\n",
       "    'function': {'arguments': '{\"msg\":\"Generated number: 91, which is higher than 50.\"}',\n",
       "     'name': 'send_notification'},\n",
       "    'type': 'function'}]},\n",
       " {'role': 'tool',\n",
       "  'content': '{\"msg\": \"Generated number: 91, which is higher than 50.\", \"send_notification\": [\"Generated number: 59, which is higher than 50.\", \"Generated number: 81, which is higher than 50.\", \"Generated number: 58, which is higher than 50.\", \"Generated number: 90, which is higher than 50.\", \"Generated number: 86, which is higher than 50.\", \"Generated number: 88, which is higher than 50.\", \"Generated number: 95, which is higher than 50.\", \"Generated number: 90, which is higher than 50.\", \"Generated number: 91, which is higher than 50.\"]}',\n",
       "  'tool_call_id': 'call_FrTiRDDO2BhsQOqRUZ04WpzJ'},\n",
       " {'content': None,\n",
       "  'refusal': None,\n",
       "  'role': 'assistant',\n",
       "  'tool_calls': [{'id': 'call_fdJofHo6zDgNyW3C63Diy0Gf',\n",
       "    'function': {'arguments': '{}', 'name': 'random_generator'},\n",
       "    'type': 'function'}]},\n",
       " {'role': 'tool',\n",
       "  'content': '{\"random_generator\": 97}',\n",
       "  'tool_call_id': 'call_fdJofHo6zDgNyW3C63Diy0Gf'},\n",
       " {'content': None,\n",
       "  'refusal': None,\n",
       "  'role': 'assistant',\n",
       "  'tool_calls': [{'id': 'call_JgiQ02xOxeUjBoSgoqtEdVQd',\n",
       "    'function': {'arguments': '{\"msg\": \"Generated number: 97, which is higher than 50.\"}',\n",
       "     'name': 'send_notification'},\n",
       "    'type': 'function'},\n",
       "   {'id': 'call_XUDVAeNSe7EgGC01WSRxigEY',\n",
       "    'function': {'arguments': '{}', 'name': 'default_stream_stopper'},\n",
       "    'type': 'function'}]},\n",
       " {'role': 'tool',\n",
       "  'content': '{\"msg\": \"Generated number: 97, which is higher than 50.\", \"send_notification\": [\"Generated number: 59, which is higher than 50.\", \"Generated number: 81, which is higher than 50.\", \"Generated number: 58, which is higher than 50.\", \"Generated number: 90, which is higher than 50.\", \"Generated number: 86, which is higher than 50.\", \"Generated number: 88, which is higher than 50.\", \"Generated number: 95, which is higher than 50.\", \"Generated number: 90, which is higher than 50.\", \"Generated number: 91, which is higher than 50.\", \"Generated number: 97, which is higher than 50.\"]}',\n",
       "  'tool_call_id': 'call_JgiQ02xOxeUjBoSgoqtEdVQd'},\n",
       " {'role': 'tool',\n",
       "  'content': '{\"default_stream_stopper\": null}',\n",
       "  'tool_call_id': 'call_XUDVAeNSe7EgGC01WSRxigEY'},\n",
       " {'content': \"Notifications have been sent for the following numbers higher than 50: 59, 81, 58, 90, 86, 88, 95, 90, 91, and 97. I've stopped after reaching 10 notifications.\",\n",
       "  'refusal': None,\n",
       "  'role': 'assistant'}]"
      ]
     },
     "execution_count": null,
     "metadata": {},
     "output_type": "execute_result"
    }
   ],
   "source": [
    "#| eval: false\n",
    "stream_thread.messages"
   ]
  },
  {
   "cell_type": "code",
   "execution_count": null,
   "metadata": {},
   "outputs": [],
   "source": [
    "#| hide\n",
    "import nbdev; nbdev.nbdev_export()"
   ]
  }
 ],
 "metadata": {
  "kernelspec": {
   "display_name": "python3",
   "language": "python",
   "name": "python3"
  }
 },
 "nbformat": 4,
 "nbformat_minor": 2
}
