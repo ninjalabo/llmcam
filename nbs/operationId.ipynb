{
 "cells": [
  {
   "cell_type": "markdown",
   "id": "75e538e6-3778-4501-bdea-21794d76c786",
   "metadata": {},
   "source": [
    "# Function calling with an OpenAPI specification\n",
    "> https://cookbook.openai.com/examples/function_calling_with_an_openapi_spec\n",
    "\n",
    "This notebook is divided into two main sections:\n",
    "1. How to convert a sample OpenAPI specification into a list of function definitions for the chat completions API.\n",
    "2. How to use the chat completions API to intelligently invoke these functions based on user instructions."
   ]
  },
  {
   "cell_type": "code",
   "execution_count": 1,
   "id": "cc0e3746-6ad5-4d78-aa3a-620147ec28fe",
   "metadata": {},
   "outputs": [],
   "source": [
    "!pip install -q jsonref # for resolving $ref's in the OpenAPI spec\n",
    "!pip install -q openai"
   ]
  },
  {
   "cell_type": "code",
   "execution_count": 2,
   "id": "cb30b356-7f1c-4825-be8f-79faac3c38bd",
   "metadata": {},
   "outputs": [],
   "source": [
    "import os\n",
    "import json\n",
    "import jsonref\n",
    "import requests\n",
    "from pprint import pp\n",
    "import openai"
   ]
  },
  {
   "cell_type": "code",
   "execution_count": 3,
   "id": "bf922dbe-ca45-48ae-b643-7df20dd35605",
   "metadata": {},
   "outputs": [],
   "source": [
    "from llmcam.fn_to_fc import complete"
   ]
  },
  {
   "cell_type": "code",
   "execution_count": 4,
   "id": "7c392a69-25e0-44c4-be90-feb5fb4abb8a",
   "metadata": {},
   "outputs": [
    {
     "data": {
      "text/plain": [
       "\u001b[0;31mSignature:\u001b[0m \u001b[0mcomplete\u001b[0m\u001b[0;34m(\u001b[0m\u001b[0mmessages\u001b[0m\u001b[0;34m,\u001b[0m \u001b[0mrole\u001b[0m\u001b[0;34m,\u001b[0m \u001b[0mcontent\u001b[0m\u001b[0;34m,\u001b[0m \u001b[0mtools\u001b[0m\u001b[0;34m,\u001b[0m \u001b[0mtool_call_id\u001b[0m\u001b[0;34m=\u001b[0m\u001b[0;32mNone\u001b[0m\u001b[0;34m)\u001b[0m\u001b[0;34m\u001b[0m\u001b[0;34m\u001b[0m\u001b[0m\n",
       "\u001b[0;31mSource:\u001b[0m   \n",
       "\u001b[0;32mdef\u001b[0m \u001b[0mcomplete\u001b[0m\u001b[0;34m(\u001b[0m\u001b[0mmessages\u001b[0m\u001b[0;34m,\u001b[0m \u001b[0mrole\u001b[0m\u001b[0;34m,\u001b[0m \u001b[0mcontent\u001b[0m\u001b[0;34m,\u001b[0m \u001b[0mtools\u001b[0m\u001b[0;34m,\u001b[0m \u001b[0mtool_call_id\u001b[0m\u001b[0;34m=\u001b[0m\u001b[0;32mNone\u001b[0m\u001b[0;34m)\u001b[0m\u001b[0;34m:\u001b[0m\u001b[0;34m\u001b[0m\n",
       "\u001b[0;34m\u001b[0m    \u001b[0;34m\"Send completion request with messages, and save the response in messages again\"\u001b[0m\u001b[0;34m\u001b[0m\n",
       "\u001b[0;34m\u001b[0m    \u001b[0mmessages\u001b[0m\u001b[0;34m.\u001b[0m\u001b[0mappend\u001b[0m\u001b[0;34m(\u001b[0m\u001b[0;34m{\u001b[0m\u001b[0;34m\"role\"\u001b[0m\u001b[0;34m:\u001b[0m\u001b[0mrole\u001b[0m\u001b[0;34m,\u001b[0m \u001b[0;34m\"content\"\u001b[0m\u001b[0;34m:\u001b[0m\u001b[0mcontent\u001b[0m\u001b[0;34m,\u001b[0m \u001b[0;34m\"tool_call_id\"\u001b[0m\u001b[0;34m:\u001b[0m\u001b[0mtool_call_id\u001b[0m\u001b[0;34m}\u001b[0m\u001b[0;34m)\u001b[0m\u001b[0;34m\u001b[0m\n",
       "\u001b[0;34m\u001b[0m    \u001b[0mresponse\u001b[0m \u001b[0;34m=\u001b[0m \u001b[0mopenai\u001b[0m\u001b[0;34m.\u001b[0m\u001b[0mchat\u001b[0m\u001b[0;34m.\u001b[0m\u001b[0mcompletions\u001b[0m\u001b[0;34m.\u001b[0m\u001b[0mcreate\u001b[0m\u001b[0;34m(\u001b[0m\u001b[0mmodel\u001b[0m\u001b[0;34m=\u001b[0m\u001b[0;34m\"gpt-4o\"\u001b[0m\u001b[0;34m,\u001b[0m \u001b[0mmessages\u001b[0m\u001b[0;34m=\u001b[0m\u001b[0mmessages\u001b[0m\u001b[0;34m,\u001b[0m \u001b[0mtools\u001b[0m\u001b[0;34m=\u001b[0m\u001b[0mtools\u001b[0m\u001b[0;34m)\u001b[0m\u001b[0;34m\u001b[0m\n",
       "\u001b[0;34m\u001b[0m    \u001b[0mres\u001b[0m \u001b[0;34m=\u001b[0m \u001b[0mresponse\u001b[0m\u001b[0;34m.\u001b[0m\u001b[0mchoices\u001b[0m\u001b[0;34m[\u001b[0m\u001b[0;36m0\u001b[0m\u001b[0;34m]\u001b[0m\u001b[0;34m.\u001b[0m\u001b[0mmessage\u001b[0m\u001b[0;34m\u001b[0m\n",
       "\u001b[0;34m\u001b[0m    \u001b[0mmessages\u001b[0m\u001b[0;34m.\u001b[0m\u001b[0mappend\u001b[0m\u001b[0;34m(\u001b[0m\u001b[0mres\u001b[0m\u001b[0;34m.\u001b[0m\u001b[0mto_dict\u001b[0m\u001b[0;34m(\u001b[0m\u001b[0;34m)\u001b[0m\u001b[0;34m)\u001b[0m\u001b[0;34m\u001b[0m\n",
       "\u001b[0;34m\u001b[0m    \u001b[0;32mif\u001b[0m \u001b[0mres\u001b[0m\u001b[0;34m.\u001b[0m\u001b[0mto_dict\u001b[0m\u001b[0;34m(\u001b[0m\u001b[0;34m)\u001b[0m\u001b[0;34m.\u001b[0m\u001b[0mget\u001b[0m\u001b[0;34m(\u001b[0m\u001b[0;34m'tool_calls'\u001b[0m\u001b[0;34m)\u001b[0m\u001b[0;34m:\u001b[0m\u001b[0;34m\u001b[0m\n",
       "\u001b[0;34m\u001b[0m        \u001b[0mcomplete\u001b[0m\u001b[0;34m(\u001b[0m\u001b[0mmessages\u001b[0m\u001b[0;34m,\u001b[0m \u001b[0mrole\u001b[0m\u001b[0;34m=\u001b[0m\u001b[0;34m\"tool\"\u001b[0m\u001b[0;34m,\u001b[0m \u001b[0mcontent\u001b[0m\u001b[0;34m=\u001b[0m\u001b[0mfn_result_content\u001b[0m\u001b[0;34m(\u001b[0m\u001b[0mres\u001b[0m\u001b[0;34m)\u001b[0m\u001b[0;34m,\u001b[0m \u001b[0mtools\u001b[0m\u001b[0;34m=\u001b[0m\u001b[0mtools\u001b[0m\u001b[0;34m,\u001b[0m \u001b[0mtool_call_id\u001b[0m\u001b[0;34m=\u001b[0m\u001b[0mres\u001b[0m\u001b[0;34m.\u001b[0m\u001b[0mtool_calls\u001b[0m\u001b[0;34m[\u001b[0m\u001b[0;36m0\u001b[0m\u001b[0;34m]\u001b[0m\u001b[0;34m.\u001b[0m\u001b[0mid\u001b[0m\u001b[0;34m)\u001b[0m\u001b[0;34m\u001b[0m\n",
       "\u001b[0;34m\u001b[0m    \u001b[0;32mreturn\u001b[0m \u001b[0mmessages\u001b[0m\u001b[0;34m[\u001b[0m\u001b[0;34m-\u001b[0m\u001b[0;36m1\u001b[0m\u001b[0;34m]\u001b[0m\u001b[0;34m[\u001b[0m\u001b[0;34m'role'\u001b[0m\u001b[0;34m]\u001b[0m\u001b[0;34m,\u001b[0m \u001b[0mmessages\u001b[0m\u001b[0;34m[\u001b[0m\u001b[0;34m-\u001b[0m\u001b[0;36m1\u001b[0m\u001b[0;34m]\u001b[0m\u001b[0;34m[\u001b[0m\u001b[0;34m'content'\u001b[0m\u001b[0;34m]\u001b[0m\u001b[0;34m\u001b[0m\u001b[0;34m\u001b[0m\u001b[0m\n",
       "\u001b[0;31mFile:\u001b[0m      ~/00llmcam/llmcam/fn_to_fc.py\n",
       "\u001b[0;31mType:\u001b[0m      function"
      ]
     },
     "metadata": {},
     "output_type": "display_data"
    }
   ],
   "source": [
    "complete??"
   ]
  },
  {
   "cell_type": "markdown",
   "id": "a72e39ad-3333-4587-a2d7-67e65921473d",
   "metadata": {},
   "source": [
    "## How to convert a sample OpenAPI specification into a list of function definitions for the chat completions API."
   ]
  },
  {
   "cell_type": "code",
   "execution_count": 5,
   "id": "5110d374-159d-4953-9ad6-abeda0458ad3",
   "metadata": {},
   "outputs": [],
   "source": [
    "with open('openapi.json.2', 'r') as f:\n",
    "    oas = jsonref.loads(f.read()) # it's important to load with jsonref, as explained below"
   ]
  },
  {
   "cell_type": "code",
   "execution_count": 6,
   "id": "e2b0282b-7ce9-45ec-920b-21ac9dc3d9e5",
   "metadata": {},
   "outputs": [
    {
     "name": "stdout",
     "output_type": "stream",
     "text": [
      "/pet : put : updatePet : Update an existing pet\n",
      "/pet : post : addPet : Add a new pet to the store\n",
      "/pet/findByStatus : get : findPetsByStatus : Finds Pets by status\n",
      "/pet/findByTags : get : findPetsByTags : Finds Pets by tags\n",
      "/pet/{petId} : get : getPetById : Find pet by ID\n",
      "/pet/{petId} : post : updatePetWithForm : Updates a pet in the store with form data\n",
      "/pet/{petId} : delete : deletePet : Deletes a pet\n",
      "/pet/{petId}/uploadImage : post : uploadFile : uploads an image\n",
      "/store/inventory : get : getInventory : Returns pet inventories by status\n",
      "/store/order : post : placeOrder : Place an order for a pet\n",
      "/store/order/{orderId} : get : getOrderById : Find purchase order by ID\n",
      "/store/order/{orderId} : delete : deleteOrder : Delete purchase order by ID\n",
      "/user : post : createUser : Create user\n",
      "/user/createWithList : post : createUsersWithListInput : Creates list of users with given input array\n",
      "/user/login : get : loginUser : Logs user into the system\n",
      "/user/logout : get : logoutUser : Logs out current logged in user session\n",
      "/user/{username} : get : getUserByName : Get user by user name\n",
      "/user/{username} : put : updateUser : Update user\n",
      "/user/{username} : delete : deleteUser : Delete user\n"
     ]
    }
   ],
   "source": [
    "for path, methods in oas[\"paths\"].items():\n",
    "    for method, spec_with_ref in methods.items():\n",
    "        print(path, \":\", method, \":\", spec_with_ref['operationId'], \":\", spec_with_ref['summary'])"
   ]
  },
  {
   "cell_type": "code",
   "execution_count": 7,
   "id": "f2322943-4acc-414d-9d42-468a4857cc98",
   "metadata": {},
   "outputs": [],
   "source": [
    "def openapi_to_functions(openapi_spec):\n",
    "    functions = []\n",
    "\n",
    "    for path, methods in openapi_spec[\"paths\"].items():\n",
    "        for method, spec_with_ref in methods.items():\n",
    "            # 1. Resolve JSON references.\n",
    "            spec = jsonref.replace_refs(spec_with_ref)\n",
    "\n",
    "            # 2. Extract a name for the functions.\n",
    "            function_name = spec.get(\"operationId\")\n",
    "\n",
    "            # 3. Extract a description and parameters.\n",
    "            desc = spec.get(\"description\") or spec.get(\"summary\", \"\")\n",
    "\n",
    "            schema = {\"type\": \"object\", \"properties\": {}}\n",
    "\n",
    "            req_body = (\n",
    "                spec.get(\"requestBody\", {})\n",
    "                .get(\"content\", {})\n",
    "                .get(\"application/json\", {})\n",
    "                .get(\"schema\")\n",
    "            )\n",
    "            if req_body:\n",
    "                schema[\"properties\"][\"requestBody\"] = req_body\n",
    "\n",
    "            params = spec.get(\"parameters\", [])\n",
    "            if params:\n",
    "                param_properties = {\n",
    "                    param[\"name\"]: param[\"schema\"]\n",
    "                    for param in params\n",
    "                    if \"schema\" in param\n",
    "                }\n",
    "                schema[\"properties\"][\"parameters\"] = {\n",
    "                    \"type\": \"object\",\n",
    "                    \"properties\": param_properties,\n",
    "                }\n",
    "\n",
    "            functions.append(\n",
    "                {\"type\": \"function\", \"function\": {\"name\": function_name, \"description\": desc, \"parameters\": schema}}\n",
    "            )\n",
    "\n",
    "    return functions\n",
    "\n",
    "\n",
    "tools = openapi_to_functions(oas)"
   ]
  },
  {
   "cell_type": "code",
   "execution_count": 8,
   "id": "6079b3c2-db36-4077-93dc-d23224fb575c",
   "metadata": {},
   "outputs": [],
   "source": [
    "messages = [{\"role\":\"system\", \"content\":\"You are a helpful system administrator. Use the supplied tools to assist the user.\"}]"
   ]
  },
  {
   "cell_type": "code",
   "execution_count": 9,
   "id": "13f4b1c3-1e33-4ce6-860d-b8c47e0507f0",
   "metadata": {},
   "outputs": [
    {
     "ename": "TypeError",
     "evalue": "'NoneType' object is not callable",
     "output_type": "error",
     "traceback": [
      "\u001b[0;31m---------------------------------------------------------------------------\u001b[0m",
      "\u001b[0;31mTypeError\u001b[0m                                 Traceback (most recent call last)",
      "Cell \u001b[0;32mIn[9], line 1\u001b[0m\n\u001b[0;32m----> 1\u001b[0m complete(messages, \u001b[38;5;124m\"\u001b[39m\u001b[38;5;124muser\u001b[39m\u001b[38;5;124m\"\u001b[39m, \u001b[38;5;124m\"\u001b[39m\u001b[38;5;124mHi, how many pets are sold?\u001b[39m\u001b[38;5;124m\"\u001b[39m, tools\u001b[38;5;241m=\u001b[39mtools)\n",
      "File \u001b[0;32m~/00llmcam/llmcam/fn_to_fc.py:78\u001b[0m, in \u001b[0;36mcomplete\u001b[0;34m(messages, role, content, tools, tool_call_id)\u001b[0m\n\u001b[1;32m     76\u001b[0m messages\u001b[38;5;241m.\u001b[39mappend(res\u001b[38;5;241m.\u001b[39mto_dict())\n\u001b[1;32m     77\u001b[0m \u001b[38;5;28;01mif\u001b[39;00m res\u001b[38;5;241m.\u001b[39mto_dict()\u001b[38;5;241m.\u001b[39mget(\u001b[38;5;124m'\u001b[39m\u001b[38;5;124mtool_calls\u001b[39m\u001b[38;5;124m'\u001b[39m):\n\u001b[0;32m---> 78\u001b[0m     complete(messages, role\u001b[38;5;241m=\u001b[39m\u001b[38;5;124m\"\u001b[39m\u001b[38;5;124mtool\u001b[39m\u001b[38;5;124m\"\u001b[39m, content\u001b[38;5;241m=\u001b[39mfn_result_content(res), tools\u001b[38;5;241m=\u001b[39mtools, tool_call_id\u001b[38;5;241m=\u001b[39mres\u001b[38;5;241m.\u001b[39mtool_calls[\u001b[38;5;241m0\u001b[39m]\u001b[38;5;241m.\u001b[39mid)\n\u001b[1;32m     79\u001b[0m \u001b[38;5;28;01mreturn\u001b[39;00m messages[\u001b[38;5;241m-\u001b[39m\u001b[38;5;241m1\u001b[39m][\u001b[38;5;124m'\u001b[39m\u001b[38;5;124mrole\u001b[39m\u001b[38;5;124m'\u001b[39m], messages[\u001b[38;5;241m-\u001b[39m\u001b[38;5;241m1\u001b[39m][\u001b[38;5;124m'\u001b[39m\u001b[38;5;124mcontent\u001b[39m\u001b[38;5;124m'\u001b[39m]\n",
      "File \u001b[0;32m~/00llmcam/llmcam/fn_to_fc.py:67\u001b[0m, in \u001b[0;36mfn_result_content\u001b[0;34m(res)\u001b[0m\n\u001b[1;32m     65\u001b[0m content \u001b[38;5;241m=\u001b[39m \u001b[38;5;28mdict\u001b[39m()\n\u001b[1;32m     66\u001b[0m content\u001b[38;5;241m.\u001b[39mupdate(fn_args(res))\n\u001b[0;32m---> 67\u001b[0m content\u001b[38;5;241m.\u001b[39mupdate({fn_name(res): fn_exec(res)})\n\u001b[1;32m     68\u001b[0m \u001b[38;5;28;01mreturn\u001b[39;00m json\u001b[38;5;241m.\u001b[39mdumps(content)\n",
      "File \u001b[0;32m~/00llmcam/llmcam/fn_to_fc.py:62\u001b[0m, in \u001b[0;36mfn_exec\u001b[0;34m(res)\u001b[0m\n\u001b[1;32m     60\u001b[0m \u001b[38;5;28;01mdef\u001b[39;00m \u001b[38;5;21mfn_name\u001b[39m(res): \u001b[38;5;28;01mreturn\u001b[39;00m res\u001b[38;5;241m.\u001b[39mtool_calls[\u001b[38;5;241m0\u001b[39m]\u001b[38;5;241m.\u001b[39mfunction\u001b[38;5;241m.\u001b[39mname\n\u001b[1;32m     61\u001b[0m \u001b[38;5;28;01mdef\u001b[39;00m \u001b[38;5;21mfn_args\u001b[39m(res): \u001b[38;5;28;01mreturn\u001b[39;00m json\u001b[38;5;241m.\u001b[39mloads(res\u001b[38;5;241m.\u001b[39mtool_calls[\u001b[38;5;241m0\u001b[39m]\u001b[38;5;241m.\u001b[39mfunction\u001b[38;5;241m.\u001b[39marguments)    \n\u001b[0;32m---> 62\u001b[0m \u001b[38;5;28;01mdef\u001b[39;00m \u001b[38;5;21mfn_exec\u001b[39m(res): \u001b[38;5;28;01mreturn\u001b[39;00m \u001b[38;5;28mglobals\u001b[39m()\u001b[38;5;241m.\u001b[39mget(fn_name(res))(\u001b[38;5;241m*\u001b[39m\u001b[38;5;241m*\u001b[39mfn_args(res))\n\u001b[1;32m     63\u001b[0m \u001b[38;5;28;01mdef\u001b[39;00m \u001b[38;5;21mfn_result_content\u001b[39m(res):\n\u001b[1;32m     64\u001b[0m \u001b[38;5;250m    \u001b[39m\u001b[38;5;124;03m\"\"\"Create a content containing the result of the function call\"\"\"\u001b[39;00m\n",
      "\u001b[0;31mTypeError\u001b[0m: 'NoneType' object is not callable"
     ]
    }
   ],
   "source": [
    "complete(messages, \"user\", \"Hi, how many pets are sold?\", tools=tools)"
   ]
  },
  {
   "cell_type": "code",
   "execution_count": null,
   "id": "3fb21676-d203-44c6-ac2d-5e047431ccf7",
   "metadata": {},
   "outputs": [],
   "source": []
  }
 ],
 "metadata": {
  "kernelspec": {
   "display_name": "Python 3 (ipykernel)",
   "language": "python",
   "name": "python3"
  },
  "language_info": {
   "codemirror_mode": {
    "name": "ipython",
    "version": 3
   },
   "file_extension": ".py",
   "mimetype": "text/x-python",
   "name": "python",
   "nbconvert_exporter": "python",
   "pygments_lexer": "ipython3",
   "version": "3.12.4"
  }
 },
 "nbformat": 4,
 "nbformat_minor": 5
}
