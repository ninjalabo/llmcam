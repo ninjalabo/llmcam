{
 "cells": [
  {
   "cell_type": "markdown",
   "metadata": {},
   "source": [
    "# Plotting & Downloading\n",
    "> plot json data and download an plotted image"
   ]
  },
  {
   "cell_type": "code",
   "execution_count": null,
   "metadata": {},
   "outputs": [],
   "source": [
    "#| default_exp vision.plotting"
   ]
  },
  {
   "cell_type": "code",
   "execution_count": null,
   "metadata": {},
   "outputs": [],
   "source": [
    "#| hide\n",
    "from nbdev.showdoc import *"
   ]
  },
  {
   "cell_type": "code",
   "execution_count": null,
   "metadata": {},
   "outputs": [],
   "source": [
    "#| export\n",
    "\n",
    "from llmcam.file_manager import list_image_files, list_plot_files\n",
    "from llmcam.yolo import detect_objects\n",
    "from llmcam.fn_to_fc import tool_schema, complete, form_msgs, print_msgs, ask_gpt4v_about_image_file\n",
    "import os\n",
    "import json\n",
    "import matplotlib.pyplot as plt"
   ]
  },
  {
   "cell_type": "code",
   "execution_count": null,
   "metadata": {},
   "outputs": [],
   "source": [
    "#| export\n",
    "\n",
    "def plot_object(\n",
    "        images: list[str], # list of images to be extracted\n",
    "        object: str, # object to detect\n",
    "        methods: list[str] # models to apply to extract information\n",
    "        ):\n",
    "  \"\"\"\n",
    "  Generate (only when requested) a bar plot displaying the number of instances of a specified object detected in a list of images, accepting only objects in singular form.\n",
    "  Change the methods name to lowercase before passing to the function\n",
    "  \"\"\"\n",
    "  work_dir = os.getenv(\"LLMCAM_DATA\", \"../data\")\n",
    "  number = len(list_plot_files())\n",
    "  path = os.path.join(work_dir, f\"{number}_object_count_plot.jpg\")\n",
    "\n",
    "  yolo = any('yolo' in method.lower() for method in methods)\n",
    "  gpt = any('gpt' in method.lower() for method in methods)\n",
    "  count_yolo = []\n",
    "  count_gpt = []\n",
    "\n",
    "  if yolo:\n",
    "    for image in images:\n",
    "      image = image.split(\"/\")[-1]\n",
    "      info = json.loads(detect_objects(work_dir + \"/\" + image))\n",
    "      count_yolo.append(info.get(object, 0))\n",
    "  if gpt:\n",
    "    for image in images:\n",
    "      image = image.split(\"/\")[-1]\n",
    "      info = json.loads(ask_gpt4v_about_image_file(work_dir + \"/\" + image))\n",
    "      count_gpt.append(info.get(object, 0))\n",
    "  \n",
    "  if yolo and gpt:\n",
    "    fig, axs = plt.subplots(1, 2, figsize=(14, 6), sharey=True)\n",
    "        \n",
    "    # YOLO plot\n",
    "    axs[0].bar(images, count_yolo, color='skyblue')\n",
    "    axs[0].set_title(f'YOLO: Number of {object} Detected')\n",
    "    axs[0].set_ylabel(f'Number of {object}')\n",
    "    axs[0].set_xlabel('Image')\n",
    "    axs[0].set_xticks(range(len(images)))\n",
    "    axs[0].set_xticklabels([f\"Image {i+1}\" for i in range(len(images))], rotation=45)\n",
    "    axs[0].grid(axis='x', linestyle='--', alpha=0.7)\n",
    "    \n",
    "    # GPT plot\n",
    "    axs[1].bar(images, count_gpt, color='lightcoral')\n",
    "    axs[1].set_title(f'GPT: Number of {object} Detected')\n",
    "    axs[0].set_xlabel('Image')\n",
    "    axs[1].set_xticks(range(len(images)))\n",
    "    axs[1].set_xticklabels([f\"Image {i+1}\" for i in range(len(images))], rotation=45)\n",
    "    axs[1].grid(axis='x', linestyle='--', alpha=0.7)\n",
    "    \n",
    "    # Adjust layout\n",
    "    plt.tight_layout()\n",
    "    plt.savefig(path)\n",
    "    plt.close()\n",
    "\n",
    "  elif yolo or gpt:\n",
    "    count = count_gpt if gpt else count_yolo\n",
    "    plt.figure(figsize=(10, 6))\n",
    "    plt.bar(images, count, color='skyblue')\n",
    "    plt.title(f'Number of {object} Detected per Image')\n",
    "    plt.xlabel('Image')\n",
    "    plt.ylabel(f'Number of {object}')\n",
    "    plt.xticks(range(len(images)), [f\"Image {i+1}\" for i in range(len(images))], rotation=45)\n",
    "    plt.grid(axis='y', linestyle='--', alpha=0.7)\n",
    "    \n",
    "    plt.savefig(path)\n",
    "    plt.close()\n",
    "  \n",
    "  return json.dumps({\"path\": path})"
   ]
  },
  {
   "cell_type": "code",
   "execution_count": null,
   "metadata": {},
   "outputs": [],
   "source": [
    "#| hide\n",
    "import nbdev; nbdev.nbdev_export()"
   ]
  }
 ],
 "metadata": {
  "kernelspec": {
   "display_name": "python3",
   "language": "python",
   "name": "python3"
  }
 },
 "nbformat": 4,
 "nbformat_minor": 2
}
