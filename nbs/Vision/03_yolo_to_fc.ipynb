{
 "cells": [
  {
   "cell_type": "markdown",
   "metadata": {},
   "source": [
    "# YOLO\n",
    "\n",
    "> Use YOLO to detect objects in images"
   ]
  },
  {
   "cell_type": "code",
   "execution_count": null,
   "metadata": {},
   "outputs": [],
   "source": [
    "#| default_exp vision.yolo"
   ]
  },
  {
   "cell_type": "code",
   "execution_count": null,
   "metadata": {},
   "outputs": [],
   "source": [
    "#| export\n",
    "from ultralytics import YOLO\n",
    "import json\n",
    "import os"
   ]
  },
  {
   "cell_type": "code",
   "execution_count": null,
   "metadata": {},
   "outputs": [],
   "source": [
    "import textwrap\n",
    "import json\n",
    "import openai\n",
    "from llmcam.fn_to_fc import *"
   ]
  },
  {
   "cell_type": "code",
   "execution_count": null,
   "metadata": {},
   "outputs": [],
   "source": [
    "#| export\n",
    "\n",
    "def detect_objects(\n",
    "        image_path: str, # Path/URL of image\n",
    "        conf: float=0.25 # Confidence threshold\n",
    "    ) -> str: # JSON format of detection results\n",
    "    \"\"\"Detect object in the input image.\"\"\"\n",
    "    model = YOLO('yolov8s.pt')\n",
    "    \n",
    "    result = model(image_path, conf=conf, exist_ok=True)[0]\n",
    "    # result.show()\n",
    "    save_dir = os.getenv(\"LLMCAM_DATA\", \"../data\")\n",
    "    output_path = image_path.split(\"/\")[-1]\n",
    "    result.save(filename=f\"{save_dir}/detection_{output_path}\")\n",
    "    dict = {}\n",
    "    for c in result.boxes.cls:\n",
    "        dict[model.names[int(c)]] = dict.get(model.names[int(c)], 0) + 1\n",
    "    return json.dumps(dict)"
   ]
  },
  {
   "cell_type": "code",
   "execution_count": null,
   "metadata": {},
   "outputs": [
    {
     "name": "stdout",
     "output_type": "stream",
     "text": [
      "\n",
      "image 1/1 /home/nghivo/tinyMLaaS/llmcam/data/cap_2024.12.09_20:33:06_santaclausvillege.jpg: 384x640 12 persons, 53.3ms\n",
      "Speed: 6.5ms preprocess, 53.3ms inference, 236.5ms postprocess per image at shape (1, 3, 384, 640)\n"
     ]
    },
    {
     "data": {
      "text/plain": [
       "'{\"person\": 12}'"
      ]
     },
     "execution_count": null,
     "metadata": {},
     "output_type": "execute_result"
    }
   ],
   "source": [
    "#| eval: false\n",
    "data_path = os.getenv(\"LLMCAM_DATA\", \"../data\")\n",
    "detect_objects(f\"{data_path}/cap_2024.12.09_20:33:06_santaclausvillege.jpg\")"
   ]
  },
  {
   "cell_type": "code",
   "execution_count": null,
   "metadata": {},
   "outputs": [],
   "source": [
    "YTLiveTools = [tool_schema(fn) for fn in (capture_youtube_live_frame_and_save, ask_gpt4v_about_image_file, detect_objects)]"
   ]
  },
  {
   "cell_type": "code",
   "execution_count": null,
   "metadata": {},
   "outputs": [],
   "source": [
    "def exec_func(name, tools=[], **kwargs):\n",
    "    res = globals().get(name)(**kwargs)\n",
    "    return res"
   ]
  },
  {
   "cell_type": "code",
   "execution_count": null,
   "metadata": {},
   "outputs": [
    {
     "name": "stdout",
     "output_type": "stream",
     "text": [
      "[youtube] Extracting URL: https://www.youtube.com/watch?v=LMZQ7eFhm58\n",
      "[youtube] LMZQ7eFhm58: Downloading webpage\n",
      "[youtube] LMZQ7eFhm58: Downloading ios player API JSON\n",
      "[youtube] LMZQ7eFhm58: Downloading mweb player API JSON\n",
      "[youtube] LMZQ7eFhm58: Downloading m3u8 information\n",
      "[youtube] LMZQ7eFhm58: Downloading m3u8 information\n",
      "09.12.2024 20:39:57 Kauppatori\n",
      "\n",
      "\u001b[1m\u001b[31m>> \u001b[43m\u001b[31mSystem:\u001b[0m\n",
      "You are a helpful system administrator. Use the supplied tools to assist the user.\n",
      "\u001b[1m\u001b[31m>> \u001b[43m\u001b[32mUser:\u001b[0m\n",
      "Hi, can you capture YouTube Live?\n",
      "\u001b[1m\u001b[31m>> \u001b[43m\u001b[32mUser:\u001b[0m\n",
      "You can use the default link.\n",
      "\u001b[1m\u001b[31m>> \u001b[43m\u001b[32mUser:\u001b[0m\n",
      "Can you extract information from this file?\n",
      "\u001b[1m\u001b[31m>> \u001b[43m\u001b[32mUser:\u001b[0m\n",
      "Use your new tool to detect.\n",
      "\u001b[1m\u001b[31m>> \u001b[43m\u001b[34mAssistant:\u001b[0m\n",
      "The live frame capture from YouTube Live was successful and saved as\n",
      "\"cap_2024.12.09_20:39:57_Kauppatori.jpg\". However, I couldn't extract any information or detect\n",
      "objects from this particular image file. If you have any other specific requests or adjustments,\n",
      "feel free to let me know!\n"
     ]
    }
   ],
   "source": [
    "#| eval: false\n",
    "messages = form_msgs([\n",
    "    (\"system\", \"You are a helpful system administrator. Use the supplied tools to assist the user.\"),\n",
    "    (\"user\", \"Hi, can you capture YouTube Live?\"),\n",
    "    (\"user\", \"You can use the default link.\"),\n",
    "    (\"user\", \"Can you extract information from this file?\"),\n",
    "    (\"user\", \"Use your new tool to detect.\"),\n",
    "])\n",
    "complete(messages, YTLiveTools)\n",
    "print_msgs(messages)"
   ]
  }
 ],
 "metadata": {
  "kernelspec": {
   "display_name": "python3",
   "language": "python",
   "name": "python3"
  }
 },
 "nbformat": 4,
 "nbformat_minor": 4
}
